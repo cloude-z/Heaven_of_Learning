{
 "cells": [
  {
   "cell_type": "code",
   "execution_count": 6,
   "metadata": {},
   "outputs": [],
   "source": [
    "import sys\n",
    "from PyQt5.QtWidgets import QApplication, QWidget, QPushButton, QMainWindow, QLabel, QLineEdit, QVBoxLayout\n",
    "from PyQt5.QtCore import QSize\n",
    "from random import choice"
   ]
  },
  {
   "cell_type": "markdown",
   "metadata": {},
   "source": [
    "# Create the first application with simple customization"
   ]
  },
  {
   "cell_type": "code",
   "execution_count": 2,
   "metadata": {},
   "outputs": [],
   "source": [
    "# Instantiate application\n",
    "app = QApplication(sys.argv)"
   ]
  },
  {
   "cell_type": "code",
   "execution_count": 3,
   "metadata": {},
   "outputs": [
    {
     "data": {
      "text/plain": [
       "0"
      ]
     },
     "execution_count": 3,
     "metadata": {},
     "output_type": "execute_result"
    }
   ],
   "source": [
    "# Display simple widgets\n",
    "window1 = QWidget()\n",
    "window1.show()\n",
    "window2 = QPushButton('Press')\n",
    "window2.show()\n",
    "\n",
    "app.exec()"
   ]
  },
  {
   "cell_type": "code",
   "execution_count": 4,
   "metadata": {},
   "outputs": [
    {
     "data": {
      "text/plain": [
       "0"
      ]
     },
     "execution_count": 4,
     "metadata": {},
     "output_type": "execute_result"
    }
   ],
   "source": [
    "# Display a nested widget\n",
    "window = QMainWindow()\n",
    "window.show()\n",
    "\n",
    "app.exec()"
   ]
  },
  {
   "cell_type": "code",
   "execution_count": 6,
   "metadata": {},
   "outputs": [
    {
     "data": {
      "text/plain": [
       "0"
      ]
     },
     "execution_count": 6,
     "metadata": {},
     "output_type": "execute_result"
    }
   ],
   "source": [
    "# Cutomize the window by subclassing\n",
    "class MainWindow(QMainWindow):\n",
    "    def __init__(self):\n",
    "        super().__init__()\n",
    "        self.setWindowTitle('My app')\n",
    "        self.setFixedSize(QSize(400, 300))\n",
    "\n",
    "        # Widget\n",
    "        button = QPushButton('Press')\n",
    "\n",
    "        # Configuration\n",
    "        self.setCentralWidget(button)\n",
    "\n",
    "window = MainWindow()\n",
    "window.show()\n",
    "\n",
    "app.exec()\n",
    "del app"
   ]
  },
  {
   "cell_type": "markdown",
   "metadata": {},
   "source": [
    "# Connect signals with slots"
   ]
  },
  {
   "cell_type": "code",
   "execution_count": 2,
   "metadata": {},
   "outputs": [],
   "source": [
    "# Instantiate application\n",
    "app = QApplication(sys.argv)"
   ]
  },
  {
   "cell_type": "markdown",
   "metadata": {},
   "source": [
    "## Example: Checkable button"
   ]
  },
  {
   "cell_type": "code",
   "execution_count": 3,
   "metadata": {},
   "outputs": [
    {
     "name": "stdout",
     "output_type": "stream",
     "text": [
      "State checked? True\n",
      "Clicked\n",
      "State: Checked\n",
      "State checked? False\n",
      "Clicked\n",
      "State: Un-checked\n",
      "State checked? True\n",
      "Clicked\n",
      "State: Checked\n",
      "State checked? False\n",
      "Clicked\n",
      "State: Un-checked\n"
     ]
    },
    {
     "data": {
      "text/plain": [
       "0"
      ]
     },
     "execution_count": 3,
     "metadata": {},
     "output_type": "execute_result"
    }
   ],
   "source": [
    "# Window with a checkable button\n",
    "class MainWindow(QMainWindow):\n",
    "    def __init__(self):\n",
    "        super().__init__()\n",
    "        # Initialization\n",
    "        self.setWindowTitle('My app')\n",
    "        self.setFixedSize(QSize(400, 300))\n",
    "\n",
    "        # Widget\n",
    "        button = QPushButton('Press')\n",
    "        button.setFixedSize(QSize(200, 100))\n",
    "        button.setCheckable(True)\n",
    "        self.button = button\n",
    "\n",
    "        # Signal\n",
    "        button.clicked.connect(self.button_clicked)   # do not receive the state\n",
    "        button.clicked.connect(self.button_checked)   # receive the state\n",
    "        button.released.connect(self.button_released) # do not pass the state\n",
    "\n",
    "        # Configuration\n",
    "        self.setCentralWidget(button)\n",
    "    \n",
    "    # Slot function\n",
    "    def button_clicked(self):\n",
    "        print('Clicked')\n",
    "    \n",
    "    def button_checked(self, data):\n",
    "        state = \"Checked\" if data else \"Un-checked\"\n",
    "        print(f'State: {state}')\n",
    "\n",
    "    def button_released(self):\n",
    "        print('State checked?', self.button.isChecked())\n",
    "\n",
    "window = MainWindow()\n",
    "window.show()\n",
    "\n",
    "app.exec()"
   ]
  },
  {
   "cell_type": "markdown",
   "metadata": {},
   "source": [
    "## Example: Change the window title"
   ]
  },
  {
   "cell_type": "code",
   "execution_count": 5,
   "metadata": {},
   "outputs": [
    {
     "name": "stdout",
     "output_type": "stream",
     "text": [
      "Clicked\n",
      "Window title changed: What on earth\n",
      "Setting title:  What on earth\n",
      "Clicked\n",
      "Window title changed: My App\n",
      "Setting title:  My App\n",
      "Clicked\n",
      "Window title changed: This is surprising\n",
      "Setting title:  This is surprising\n",
      "Clicked\n",
      "Setting title:  This is surprising\n",
      "Clicked\n",
      "Window title changed: Something went wrong\n",
      "\n",
      "5 clicks until the button was disabled.\n",
      "Setting title:  Something went wrong\n"
     ]
    },
    {
     "data": {
      "text/plain": [
       "0"
      ]
     },
     "execution_count": 5,
     "metadata": {},
     "output_type": "execute_result"
    }
   ],
   "source": [
    "window_titles = [\n",
    "    'My App',\n",
    "    'My App',\n",
    "    'Still My App',\n",
    "    'Still My App',\n",
    "    'What on earth',\n",
    "    'What on earth',\n",
    "    'This is surprising',\n",
    "    'This is surprising',\n",
    "    'Something went wrong'\n",
    "]\n",
    "\n",
    "class MainWindow(QMainWindow):\n",
    "    def __init__(self):\n",
    "        super().__init__()\n",
    "        # Initialization\n",
    "        self.n_times_clicked = 0\n",
    "        self.setWindowTitle(\"My App\")\n",
    "\n",
    "        self.button = QPushButton(\"Press Me!\")\n",
    "        self.setCentralWidget(self.button)\n",
    "\n",
    "        self.button.clicked.connect(self.button_clicked)\n",
    "        self.windowTitleChanged.connect(self.window_title_changed)\n",
    "\n",
    "    def button_clicked(self):\n",
    "        self.n_times_clicked += 1\n",
    "        print(\"Clicked\")\n",
    "\n",
    "        new_window_title = choice(window_titles)\n",
    "        self.setWindowTitle(new_window_title)\n",
    "        print(\"Setting title:  %s\" % new_window_title)\n",
    "\n",
    "    def window_title_changed(self, window_title):\n",
    "        print(\"Window title changed: %s\" % window_title)\n",
    "\n",
    "        if window_title == 'Something went wrong':\n",
    "            self.button.setDisabled(True)\n",
    "            print(f\"\\n{self.n_times_clicked} clicks until the button was disabled.\")\n",
    "\n",
    "window = MainWindow()\n",
    "window.show()\n",
    "\n",
    "app.exec()"
   ]
  },
  {
   "cell_type": "markdown",
   "metadata": {},
   "source": [
    "## Example: Connect widgets directly"
   ]
  },
  {
   "cell_type": "code",
   "execution_count": 7,
   "metadata": {},
   "outputs": [
    {
     "data": {
      "text/plain": [
       "0"
      ]
     },
     "execution_count": 7,
     "metadata": {},
     "output_type": "execute_result"
    }
   ],
   "source": [
    "class MainWindow(QMainWindow):\n",
    "    def __init__(self):\n",
    "        super().__init__()\n",
    "        self.setWindowTitle(\"My app\")\n",
    "\n",
    "        self.label = QLabel()\n",
    "\n",
    "        self.input = QLineEdit()\n",
    "        self.input.textChanged.connect(self.label.setText)\n",
    "\n",
    "        layout = QVBoxLayout()\n",
    "        layout.addWidget(self.input)\n",
    "        layout.addWidget(self.label)\n",
    "\n",
    "        container = QWidget()\n",
    "        container.setLayout(layout)\n",
    "\n",
    "        self.setCentralWidget(container)\n",
    "\n",
    "window = MainWindow()\n",
    "window.show()\n",
    "\n",
    "app.exec()"
   ]
  },
  {
   "cell_type": "code",
   "execution_count": null,
   "metadata": {},
   "outputs": [],
   "source": []
  }
 ],
 "metadata": {
  "kernelspec": {
   "display_name": "private_ws",
   "language": "python",
   "name": "python3"
  },
  "language_info": {
   "codemirror_mode": {
    "name": "ipython",
    "version": 3
   },
   "file_extension": ".py",
   "mimetype": "text/x-python",
   "name": "python",
   "nbconvert_exporter": "python",
   "pygments_lexer": "ipython3",
   "version": "3.12.7"
  }
 },
 "nbformat": 4,
 "nbformat_minor": 2
}
