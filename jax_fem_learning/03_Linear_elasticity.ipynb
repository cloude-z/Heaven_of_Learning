{
 "cells": [
  {
   "cell_type": "code",
   "execution_count": 1,
   "metadata": {},
   "outputs": [],
   "source": [
    "# Import some useful modules.\n",
    "import jax.numpy as np\n",
    "import numpy as onp\n",
    "import os\n",
    "import pypardiso\n",
    "import scipy"
   ]
  },
  {
   "cell_type": "code",
   "execution_count": 2,
   "metadata": {},
   "outputs": [
    {
     "name": "stdout",
     "output_type": "stream",
     "text": [
      "       __       ___      ___   ___                _______  _______ .___  ___. \n",
      "      |  |     /   \\     \\  \\ /  /               |   ____||   ____||   \\/   | \n",
      "      |  |    /  ^  \\     \\  V  /      ______    |  |__   |  |__   |  \\  /  | \n",
      ".--.  |  |   /  /_\\  \\     >   <      |______|   |   __|  |   __|  |  |\\/|  | \n",
      "|  `--'  |  /  _____  \\   /  .  \\                |  |     |  |____ |  |  |  | \n",
      " \\______/  /__/     \\__\\ /__/ \\__\\               |__|     |_______||__|  |__| \n",
      "                                                                              \n",
      "\n"
     ]
    }
   ],
   "source": [
    "# Import JAX-FEM specific modules.\n",
    "from jax_fem.problem import Problem\n",
    "from jax_fem.solver import solver\n",
    "from jax_fem.utils import save_sol\n",
    "from jax_fem.generate_mesh import box_mesh_gmsh, get_meshio_cell_type, Mesh\n",
    "from jax_fem import logger"
   ]
  },
  {
   "cell_type": "code",
   "execution_count": 3,
   "metadata": {},
   "outputs": [],
   "source": [
    "# Log events of the DEBUG level and severer\n",
    "import logging\n",
    "logger.setLevel(logging.DEBUG)"
   ]
  },
  {
   "cell_type": "markdown",
   "metadata": {},
   "source": [
    "# Linear elasticity\n",
    "\n",
    "- PARallel DIrect SOlver (PARDISO) is a software library written in Fortran and C for the dedicated purpose of solving large sparse linear systems of equations efficiently, such as $Ax=b$. `pypardiso` is the Python compiled version.\n",
    "- Portable, Extensible Toolkit for Scientific Computation (PETSc) is a library that is able to solve linear, non-linear, and time-dependent problems. Apparently similar to PARDISO, PETSc has wider functionality beyond the sparse linear system and it is optimized for high-performance computing.\n",
    "- In `pardiso_solver`, first the PETSc sparse matrix is converted to a scipy sparse matrix. Then, a PARDISO solver is invoked to solve the algebraic equation `Ax = b`."
   ]
  },
  {
   "cell_type": "code",
   "execution_count": 4,
   "metadata": {},
   "outputs": [],
   "source": [
    "def pardiso_solver(A, b, x0, solver_options):\n",
    "    \"\"\"\n",
    "    Solves Ax=b with x0 being the initial guess.\n",
    "\n",
    "    A: PETSc sparse matrix\n",
    "    b: JAX array\n",
    "    x0: JAX array (forward problem) or None (adjoint problem)\n",
    "    solver_options: anything the user defines, at least satisfying solver_options['custom_solver'] = pardiso_solver\n",
    "    \"\"\"\n",
    "    logger.debug(f\"Pardiso Solver - Solving linear system\")\n",
    "    print('solver_options-------->', solver_options)\n",
    "\n",
    "    # If you need to convert PETSc to scipy\n",
    "    indptr, indices, data = A.getValuesCSR()\n",
    "    A_sp_scipy = scipy.sparse.csr_array((data, indices, indptr), shape=A.getSize())\n",
    "    x = pypardiso.spsolve(A_sp_scipy, onp.array(b))\n",
    "    return x"
   ]
  },
  {
   "cell_type": "markdown",
   "metadata": {},
   "source": [
    "The coefficients are defined as $\\mu = \\frac{E}{2(1 + \\nu)}$ and $\\lambda = \\frac{E\\nu}{(1 + \\nu) * (1 - 2\\nu)}$."
   ]
  },
  {
   "cell_type": "code",
   "execution_count": 5,
   "metadata": {},
   "outputs": [],
   "source": [
    "# Material properties.\n",
    "E = 70e3\n",
    "nu = 0.3\n",
    "mu = E / (2. * (1. + nu))\n",
    "lmbda = E * nu / ((1 + nu) * (1 - 2 * nu))"
   ]
  },
  {
   "cell_type": "markdown",
   "metadata": {},
   "source": [
    "- `get_tensor_map` defines a function of the displacment gradient $\\nabla u$."
   ]
  },
  {
   "cell_type": "code",
   "execution_count": 6,
   "metadata": {},
   "outputs": [],
   "source": [
    "# Weak forms.\n",
    "class LinearElasticity(Problem):\n",
    "    # The function 'get_tensor_map' overrides base class method. Generally, JAX-FEM \n",
    "    # solves -div(f(u_grad)) = b. Here, we have f(u_grad) = sigma.\n",
    "    def get_tensor_map(self):\n",
    "        def stress(u_grad):\n",
    "            epsilon = 0.5 * (u_grad + u_grad.T)\n",
    "            sigma = lmbda * np.trace(epsilon) * np.eye(self.dim) + 2 * mu * epsilon\n",
    "            return sigma\n",
    "        return stress\n",
    "\n",
    "    # Define the Neumann boundary condition, traction t = [0, 0, 100]\n",
    "    def get_surface_maps(self):\n",
    "        def surface_map(u, x):\n",
    "            return np.array([0., 0., 100.])\n",
    "        return [surface_map]"
   ]
  },
  {
   "cell_type": "code",
   "execution_count": 7,
   "metadata": {},
   "outputs": [
    {
     "name": "stdout",
     "output_type": "stream",
     "text": [
      "Info    : Meshing 1D...\n",
      "Info    : [  0%] Meshing curve 1 (Extruded)\n",
      "Info    : [ 10%] Meshing curve 2 (Extruded)\n",
      "Info    : [ 20%] Meshing curve 3 (Extruded)\n",
      "Info    : [ 30%] Meshing curve 4 (Extruded)\n",
      "Info    : [ 40%] Meshing curve 7 (Extruded)\n",
      "Info    : [ 50%] Meshing curve 8 (Extruded)\n",
      "Info    : [ 50%] Meshing curve 9 (Extruded)\n",
      "Info    : [ 60%] Meshing curve 10 (Extruded)\n",
      "Info    : [ 70%] Meshing curve 12 (Extruded)\n",
      "Info    : [ 80%] Meshing curve 13 (Extruded)\n",
      "Info    : [ 90%] Meshing curve 17 (Extruded)\n",
      "Info    : [100%] Meshing curve 21 (Extruded)\n",
      "Info    : Done meshing 1D (Wall 0.000549775s, CPU 0s)\n",
      "Info    : Meshing 2D...\n",
      "Info    : [  0%] Meshing surface 5 (Extruded)\n",
      "Info    : [ 20%] Meshing surface 14 (Extruded)\n",
      "Info    : [ 40%] Meshing surface 18 (Extruded)\n",
      "Info    : [ 50%] Meshing surface 22 (Extruded)\n",
      "Info    : [ 70%] Meshing surface 26 (Extruded)\n",
      "Info    : [ 90%] Meshing surface 27 (Extruded)\n",
      "Info    : Done meshing 2D (Wall 0.00388237s, CPU 0s)\n",
      "Info    : Meshing 3D...\n",
      "Info    : Meshing volume 1 (Extruded)\n",
      "Info    : Subdividing extruded mesh\n",
      "Info    : Swapping 0\n",
      "Info    : Remeshing surface 5\n",
      "Info    : Meshing surface 5 (Extruded)\n",
      "Info    : Remeshing surface 14\n",
      "Info    : Meshing surface 14 (Extruded)\n",
      "Info    : Remeshing surface 18\n",
      "Info    : Meshing surface 18 (Extruded)\n",
      "Info    : Remeshing surface 22\n",
      "Info    : Meshing surface 22 (Extruded)\n",
      "Info    : Remeshing surface 26\n",
      "Info    : Meshing surface 26 (Extruded)\n",
      "Info    : Done meshing 3D (Wall 0.00636351s, CPU 0.002091s)\n",
      "Info    : Optimizing mesh...\n",
      "Info    : Done optimizing mesh (Wall 2.9714e-05s, CPU 2.6e-05s)\n",
      "Info    : 936 nodes 4998 elements\n",
      "Info    : Meshing order 2 (curvilinear on)...\n",
      "Info    : [  0%] Meshing curve 1 order 2\n",
      "Info    : [ 10%] Meshing curve 2 order 2\n",
      "Info    : [ 20%] Meshing curve 3 order 2\n",
      "Info    : [ 20%] Meshing curve 4 order 2\n",
      "Info    : [ 30%] Meshing curve 7 order 2\n",
      "Info    : [ 30%] Meshing curve 8 order 2\n",
      "Info    : [ 40%] Meshing curve 9 order 2\n",
      "Info    : [ 40%] Meshing curve 10 order 2\n",
      "Info    : [ 50%] Meshing curve 12 order 2\n",
      "Info    : [ 50%] Meshing curve 13 order 2\n",
      "Info    : [ 60%] Meshing curve 17 order 2\n",
      "Info    : [ 60%] Meshing curve 21 order 2\n",
      "Info    : [ 70%] Meshing surface 5 order 2\n",
      "Info    : [ 70%] Meshing surface 14 order 2\n",
      "Info    : [ 80%] Meshing surface 18 order 2\n",
      "Info    : [ 80%] Meshing surface 22 order 2\n",
      "Info    : [ 90%] Meshing surface 26 order 2\n",
      "Info    : [ 90%] Meshing surface 27 order 2\n",
      "Info    : [100%] Meshing volume 1 order 2\n",
      "Info    : Surface mesh: worst distortion = 1 (0 elements in ]0, 0.2]); worst gamma = 0.828427\n",
      "Info    : Volume mesh: worst distortion = 1 (0 elements in ]0, 0.2])\n",
      "Info    : Done meshing order 2 (Wall 0.0210888s, CPU 0.014286s)\n",
      "Info    : Writing '/home/yzhang11/workspace/fem_learning/03_data/msh/box.msh'...\n",
      "Info    : Done writing '/home/yzhang11/workspace/fem_learning/03_data/msh/box.msh'\n",
      "\n"
     ]
    }
   ],
   "source": [
    "# Specify mesh-related information (second-order tetrahedron element).\n",
    "ele_type = 'TET10'\n",
    "cell_type = get_meshio_cell_type(ele_type)\n",
    "# data_dir = os.path.join(os.path.dirname(__file__), '03_data')\n",
    "data_dir = os.path.join(os.getcwd(), '03_data')\n",
    "Lx, Ly, Lz = 10., 2., 2.  # unit is meter\n",
    "Nx, Ny, Nz = 25, 5, 5  # the number of cells (nodes = cells + 1)\n",
    "meshio_mesh = box_mesh_gmsh(Nx=Nx,\n",
    "                       Ny=Ny,\n",
    "                       Nz=Nz,\n",
    "                       Lx=Lx,\n",
    "                       Ly=Ly,\n",
    "                       Lz=Lz,\n",
    "                       data_dir=data_dir,\n",
    "                       ele_type=ele_type)\n",
    "mesh = Mesh(meshio_mesh.points, meshio_mesh.cells_dict[cell_type])"
   ]
  },
  {
   "cell_type": "markdown",
   "metadata": {},
   "source": [
    "- `points` is the 2-d matrix that represents the coordinate of each cell node with the shape of `[n, dims]`, where `n` and `dims` are the number and dimension of nodes respectively. This is saying that each row is a particular node and its x-, y-, and z-coordinates are given by the column in sequence.\n",
    "- `[0, 1, 2]` represents the number of component of the displament varaible $u(x, y, z)$."
   ]
  },
  {
   "cell_type": "code",
   "execution_count": 8,
   "metadata": {},
   "outputs": [],
   "source": [
    "# Define boundary locations.\n",
    "def left(point):\n",
    "    return np.isclose(point[0], 0., atol=1e-5)\n",
    "\n",
    "def right(point):\n",
    "    return np.isclose(point[0], Lx, atol=1e-5)\n",
    "\n",
    "# Define Dirichlet boundary values.\n",
    "# This means on the 'left' side, we apply the function 'zero_dirichlet_val' \n",
    "# to all components of the displacement variable u.\n",
    "def zero_dirichlet_val(point):\n",
    "    return 0.\n",
    "\n",
    "dirichlet_bc_info = [[left] * 3, [0, 1, 2], [zero_dirichlet_val] * 3]\n",
    "\n",
    "# Define Neumann boundary locations.\n",
    "# This means on the 'right' side, we will perform the surface integral to get \n",
    "# the tractions with the function 'get_surface_maps' defined in the class 'LinearElasticity'.\n",
    "location_fns = [right]"
   ]
  },
  {
   "cell_type": "code",
   "execution_count": 9,
   "metadata": {},
   "outputs": [
    {
     "name": "stderr",
     "output_type": "stream",
     "text": [
      "[01-08 21:36:07][DEBUG] jax_fem: Computing shape function values, gradients, etc.\n",
      "[01-08 21:36:07][DEBUG] jax_fem: ele_type = TET10, quad_points.shape = (num_quads, dim) = (4, 3)\n",
      "[01-08 21:36:07][DEBUG] jax_fem: face_quad_points.shape = (num_faces, num_face_quads, dim) = (4, 3, 3)\n",
      "[01-08 21:36:07][DEBUG] jax_fem: Done pre-computations, took 0.5220680236816406 [s]\n",
      "[01-08 21:36:07][INFO] jax_fem: Solving a problem with 3750 cells, 6171x3 = 18513 dofs.\n"
     ]
    }
   ],
   "source": [
    "# Create an instance of the problem.\n",
    "problem = LinearElasticity(mesh,\n",
    "                           vec=3,\n",
    "                           dim=3,\n",
    "                           ele_type=ele_type,\n",
    "                           dirichlet_bc_info=dirichlet_bc_info,\n",
    "                           location_fns=location_fns)"
   ]
  },
  {
   "cell_type": "code",
   "execution_count": 10,
   "metadata": {},
   "outputs": [
    {
     "name": "stderr",
     "output_type": "stream",
     "text": [
      "[01-08 21:36:10][DEBUG] jax_fem: Calling the row elimination solver for imposing Dirichlet B.C.\n",
      "[01-08 21:36:10][DEBUG] jax_fem: Start timing\n",
      "[01-08 21:36:10][DEBUG] jax_fem: Computing cell Jacobian and cell residual...\n",
      "[01-08 21:36:10][DEBUG] jax_fem: Function split_and_compute_cell took 0.4206 seconds\n",
      "[01-08 21:36:11][DEBUG] jax_fem: Creating sparse matrix with scipy...\n",
      "[01-08 21:36:11][DEBUG] jax_fem: Before, res l_2 = 44.62186808181723\n",
      "[01-08 21:36:11][DEBUG] jax_fem: Solving linear system...\n",
      "[01-08 21:36:11][DEBUG] jax_fem: JAX Solver - Solving linear system\n",
      "[01-08 21:36:26][DEBUG] jax_fem: JAX Solver - Finshed solving, res = 8.043486185162176e-09\n",
      "[01-08 21:36:26][DEBUG] jax_fem: Computing cell Jacobian and cell residual...\n",
      "[01-08 21:36:26][DEBUG] jax_fem: Function split_and_compute_cell took 0.0919 seconds\n",
      "[01-08 21:36:26][DEBUG] jax_fem: Creating sparse matrix with scipy...\n",
      "[01-08 21:36:26][DEBUG] jax_fem: res l_2 = 8.023659491709278e-09\n",
      "[01-08 21:36:26][INFO] jax_fem: Solve took 16.450200080871582 [s]\n",
      "[01-08 21:36:26][DEBUG] jax_fem: max of dofs = 0.21325867298035056\n",
      "[01-08 21:36:26][DEBUG] jax_fem: min of dofs = -1.4511179139870893\n"
     ]
    }
   ],
   "source": [
    "# Solve the defined problem.\n",
    "sol_list = solver(problem, solver_options={'custom_solver': pardiso_solver})\n",
    "# sol_list = solver(problem, solver_options={'umfpack_solver': {}})"
   ]
  },
  {
   "cell_type": "code",
   "execution_count": 11,
   "metadata": {},
   "outputs": [],
   "source": [
    "# Postprocess for stress evaluations\n",
    "# (num_cells, num_quads, vec, dim)\n",
    "u_grad = problem.fes[0].sol_to_grad(sol_list[0])\n",
    "epsilon = 0.5 * (u_grad + u_grad.transpose(0,1,3,2))\n",
    "# (num_cells, num_quads, 1, 1) * (num_cells, num_quads, vec, dim)\n",
    "# -> (num_cells, num_quads, vec, dim)\n",
    "sigma = lmbda * np.trace(epsilon, axis1=2, axis2=3)[:,:,None,None] * np.eye(problem.dim) + 2*mu*epsilon\n",
    "# (num_cells, num_quads)\n",
    "cells_JxW = problem.JxW[:,0,:]\n",
    "# (num_cells, num_quads, vec, dim) * (num_cells, num_quads, 1, 1) ->\n",
    "# (num_cells, vec, dim) / (num_cells, 1, 1)\n",
    "#  --> (num_cells, vec, dim)\n",
    "sigma_average = np.sum(sigma * cells_JxW[:,:,None,None], axis=1) / np.sum(cells_JxW, axis=1)[:,None,None]\n",
    "\n",
    "# Von Mises stress\n",
    "# (num_cells, dim, dim)\n",
    "s_dev = (sigma_average - 1/problem.dim * np.trace(sigma_average, axis1=1, axis2=2)[:,None,None]\n",
    "                                       * np.eye(problem.dim)[None,:,:])\n",
    "# (num_cells,)\n",
    "vm_stress = np.sqrt(3./2.*np.sum(s_dev*s_dev, axis=(1,2)))"
   ]
  },
  {
   "cell_type": "code",
   "execution_count": 12,
   "metadata": {},
   "outputs": [],
   "source": [
    "# Store the solution to local file.\n",
    "vtk_path = os.path.join(data_dir, 'vtk/u.vtu')\n",
    "save_sol(problem.fes[0], sol_list[0], vtk_path, cell_infos=[('vm_stress', vm_stress)])"
   ]
  },
  {
   "cell_type": "code",
   "execution_count": null,
   "metadata": {},
   "outputs": [],
   "source": []
  }
 ],
 "metadata": {
  "kernelspec": {
   "display_name": "jax_fem_learning",
   "language": "python",
   "name": "python3"
  },
  "language_info": {
   "codemirror_mode": {
    "name": "ipython",
    "version": 3
   },
   "file_extension": ".py",
   "mimetype": "text/x-python",
   "name": "python",
   "nbconvert_exporter": "python",
   "pygments_lexer": "ipython3",
   "version": "3.9.18"
  }
 },
 "nbformat": 4,
 "nbformat_minor": 2
}
