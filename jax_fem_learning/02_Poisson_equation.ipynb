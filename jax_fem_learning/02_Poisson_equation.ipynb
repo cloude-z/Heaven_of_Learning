{
 "cells": [
  {
   "cell_type": "code",
   "execution_count": 1,
   "metadata": {},
   "outputs": [],
   "source": [
    "# Import some generally useful packages.\n",
    "import jax\n",
    "import jax.numpy as np\n",
    "import os"
   ]
  },
  {
   "cell_type": "code",
   "execution_count": 2,
   "metadata": {},
   "outputs": [
    {
     "name": "stdout",
     "output_type": "stream",
     "text": [
      "       __       ___      ___   ___                _______  _______ .___  ___. \n",
      "      |  |     /   \\     \\  \\ /  /               |   ____||   ____||   \\/   | \n",
      "      |  |    /  ^  \\     \\  V  /      ______    |  |__   |  |__   |  \\  /  | \n",
      ".--.  |  |   /  /_\\  \\     >   <      |______|   |   __|  |   __|  |  |\\/|  | \n",
      "|  `--'  |  /  _____  \\   /  .  \\                |  |     |  |____ |  |  |  | \n",
      " \\______/  /__/     \\__\\ /__/ \\__\\               |__|     |_______||__|  |__| \n",
      "                                                                              \n",
      "\n"
     ]
    }
   ],
   "source": [
    "# Import JAX-FEM specific modules.\n",
    "from jax_fem.problem import Problem\n",
    "from jax_fem.solver import solver\n",
    "from jax_fem.utils import save_sol\n",
    "from jax_fem.generate_mesh import get_meshio_cell_type, Mesh, rectangle_mesh"
   ]
  },
  {
   "cell_type": "markdown",
   "metadata": {},
   "source": [
    "# Poisson's Equation"
   ]
  },
  {
   "cell_type": "code",
   "execution_count": 3,
   "metadata": {},
   "outputs": [],
   "source": [
    "# Define constitutive relationship. \n",
    "class Poisson(Problem):\n",
    "    # The function 'get_tensor_map' overrides base class method. Generally, JAX-FEM \n",
    "    # solves -div.f(u_grad) = b. Here, we define f to be the indentity function. \n",
    "    # We will see how f is deined as more complicated to solve non-linear problems \n",
    "    # in later examples.\n",
    "    def get_tensor_map(self):\n",
    "        return lambda x: x\n",
    "    \n",
    "    # Define the source term b\n",
    "    def get_mass_map(self):\n",
    "        def mass_map(u, x):\n",
    "            val = -np.array([10*np.exp(-(np.power(x[0] - 0.5, 2) + np.power(x[1] - 0.5, 2)) / 0.02)])\n",
    "            return val\n",
    "        return mass_map\n",
    "\n",
    "    def get_surface_maps(self):\n",
    "        def surface_map(u, x):\n",
    "            return -np.array([np.sin(5.*x[0])])\n",
    "\n",
    "        return [surface_map, surface_map]"
   ]
  },
  {
   "cell_type": "code",
   "execution_count": 4,
   "metadata": {},
   "outputs": [],
   "source": [
    "# Specify mesh-related information. \n",
    "# We make use of the external package 'meshio' and create a mesh named 'meshio_mesh', \n",
    "# then converting it into a JAX-FEM compatible one.\n",
    "ele_type = 'QUAD4'\n",
    "cell_type = get_meshio_cell_type(ele_type)\n",
    "Lx, Ly = 1., 1.\n",
    "meshio_mesh = rectangle_mesh(Nx=32, Ny=32, domain_x=Lx, domain_y=Ly)\n",
    "mesh = Mesh(meshio_mesh.points, meshio_mesh.cells_dict[cell_type])"
   ]
  },
  {
   "cell_type": "code",
   "execution_count": 5,
   "metadata": {},
   "outputs": [],
   "source": [
    "# Define boundary locations.\n",
    "def left(point):\n",
    "    return np.isclose(point[0], 0., atol=1e-5)\n",
    "\n",
    "def right(point):\n",
    "    return np.isclose(point[0], Lx, atol=1e-5)\n",
    "\n",
    "def bottom(point):\n",
    "    return np.isclose(point[1], 0., atol=1e-5)\n",
    "\n",
    "def top(point):\n",
    "    return np.isclose(point[1], Ly, atol=1e-5)"
   ]
  },
  {
   "cell_type": "code",
   "execution_count": 6,
   "metadata": {},
   "outputs": [],
   "source": [
    "# Define Dirichlet boundary values. \n",
    "# This means on the 'left' side, we apply the function 'dirichlet_val_left' \n",
    "# to the 0 component of the solution variable; on the 'right' side, we apply \n",
    "# 'dirichlet_val_right' to the 0 component.\n",
    "def dirichlet_val_left(point):\n",
    "    return 0.\n",
    "\n",
    "def dirichlet_val_right(point):\n",
    "    return 0.\n",
    "\n",
    "location_fns = [left, right]\n",
    "value_fns = [dirichlet_val_left, dirichlet_val_right]\n",
    "vecs = [0, 0]\n",
    "dirichlet_bc_info = [location_fns, vecs, value_fns]"
   ]
  },
  {
   "cell_type": "code",
   "execution_count": 7,
   "metadata": {},
   "outputs": [],
   "source": [
    "# Define Neumann boundary locations.\n",
    "# This means on the 'bottom' and 'top' side, we will perform the surface integral \n",
    "# with the function 'get_surface_maps' defined in the class 'Poisson'.\n",
    "location_fns = [bottom, top]"
   ]
  },
  {
   "cell_type": "code",
   "execution_count": 8,
   "metadata": {},
   "outputs": [
    {
     "name": "stderr",
     "output_type": "stream",
     "text": [
      "[01-08 21:34:48][DEBUG] jax_fem: Computing shape function values, gradients, etc.\n",
      "[01-08 21:34:48][DEBUG] jax_fem: ele_type = QUAD4, quad_points.shape = (num_quads, dim) = (4, 2)\n",
      "[01-08 21:34:48][DEBUG] jax_fem: face_quad_points.shape = (num_faces, num_face_quads, dim) = (4, 2, 2)\n",
      "[01-08 21:34:48][DEBUG] jax_fem: Done pre-computations, took 0.39591455459594727 [s]\n",
      "[01-08 21:34:48][INFO] jax_fem: Solving a problem with 1024 cells, 1089x1 = 1089 dofs.\n"
     ]
    }
   ],
   "source": [
    "# Create an instance of the Class 'Poisson'. \n",
    "# Here, vec is the number of components for the solution.\n",
    "problem = Poisson(mesh=mesh, vec=1, dim=2, ele_type=ele_type, dirichlet_bc_info=dirichlet_bc_info, location_fns=location_fns)"
   ]
  },
  {
   "cell_type": "code",
   "execution_count": 9,
   "metadata": {},
   "outputs": [
    {
     "name": "stderr",
     "output_type": "stream",
     "text": [
      "[01-08 21:34:53][DEBUG] jax_fem: Calling the row elimination solver for imposing Dirichlet B.C.\n",
      "[01-08 21:34:53][DEBUG] jax_fem: Start timing\n",
      "[01-08 21:34:53][DEBUG] jax_fem: Computing cell Jacobian and cell residual...\n",
      "[01-08 21:34:54][DEBUG] jax_fem: Function split_and_compute_cell took 0.1621 seconds\n",
      "[01-08 21:34:54][DEBUG] jax_fem: Creating sparse matrix with scipy...\n",
      "[01-08 21:34:54][DEBUG] jax_fem: Before, res l_2 = 0.18688758627660917\n",
      "[01-08 21:34:54][DEBUG] jax_fem: Solving linear system...\n",
      "[01-08 21:34:54][DEBUG] jax_fem: JAX Solver - Solving linear system\n",
      "[01-08 21:34:55][DEBUG] jax_fem: JAX Solver - Finshed solving, res = 8.126895132795366e-11\n",
      "[01-08 21:34:55][DEBUG] jax_fem: Computing cell Jacobian and cell residual...\n",
      "[01-08 21:34:55][DEBUG] jax_fem: Function split_and_compute_cell took 0.0044 seconds\n",
      "[01-08 21:34:55][DEBUG] jax_fem: Creating sparse matrix with scipy...\n",
      "[01-08 21:34:55][DEBUG] jax_fem: res l_2 = 8.126885865709939e-11\n",
      "[01-08 21:34:55][INFO] jax_fem: Solve took 1.7107925415039062 [s]\n",
      "[01-08 21:34:55][DEBUG] jax_fem: max of dofs = 0.3044898997874398\n",
      "[01-08 21:34:55][DEBUG] jax_fem: min of dofs = -0.06347982087826196\n"
     ]
    }
   ],
   "source": [
    "# Solve the problem. \n",
    "# solver_options can be changed for other linear solver options\n",
    "sol = solver(problem)\n",
    "# sol = solver(problem, solver_options={'umfpack_solver': {}})\n",
    "# sol = solver(problem, solver_options={'petsc_solver': {'ksp_type': 'bcgsl', 'pc_type': 'ilu'}})"
   ]
  },
  {
   "cell_type": "code",
   "execution_count": 10,
   "metadata": {},
   "outputs": [
    {
     "data": {
      "text/html": [
       "<pre style=\"white-space:pre;overflow-x:auto;line-height:normal;font-family:Menlo,'DejaVu Sans Mono',consolas,'Courier New',monospace\"><span style=\"color: #808000; text-decoration-color: #808000; font-weight: bold\">Warning:</span><span style=\"color: #808000; text-decoration-color: #808000\"> VTU requires 3D points, but 2D points given. Appending </span><span style=\"color: #808000; text-decoration-color: #808000; font-weight: bold\">0</span><span style=\"color: #808000; text-decoration-color: #808000\"> third component.</span>\n",
       "</pre>\n"
      ],
      "text/plain": [
       "\u001b[1;33mWarning:\u001b[0m\u001b[33m VTU requires 3D points, but 2D points given. Appending \u001b[0m\u001b[1;33m0\u001b[0m\u001b[33m third component.\u001b[0m\n"
      ]
     },
     "metadata": {},
     "output_type": "display_data"
    }
   ],
   "source": [
    "# Save the solution to a local folder that can be visualized with ParaWiew.\n",
    "data_dir = os.path.join(os.getcwd(), '02_data')\n",
    "vtk_path = os.path.join(data_dir, f'vtk/u.vtu')\n",
    "save_sol(problem.fes[0], sol[0], vtk_path)"
   ]
  },
  {
   "cell_type": "code",
   "execution_count": null,
   "metadata": {},
   "outputs": [],
   "source": []
  }
 ],
 "metadata": {
  "kernelspec": {
   "display_name": "jax_fem_learning",
   "language": "python",
   "name": "python3"
  },
  "language_info": {
   "codemirror_mode": {
    "name": "ipython",
    "version": 3
   },
   "file_extension": ".py",
   "mimetype": "text/x-python",
   "name": "python",
   "nbconvert_exporter": "python",
   "pygments_lexer": "ipython3",
   "version": "3.9.18"
  }
 },
 "nbformat": 4,
 "nbformat_minor": 2
}
