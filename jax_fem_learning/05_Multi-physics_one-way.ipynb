{
 "cells": [
  {
   "cell_type": "code",
   "execution_count": 1,
   "metadata": {},
   "outputs": [],
   "source": [
    "# Import some useful modules.\n",
    "import jax\n",
    "import jax.numpy as np\n",
    "import os\n",
    "import glob"
   ]
  },
  {
   "cell_type": "code",
   "execution_count": 2,
   "metadata": {},
   "outputs": [
    {
     "name": "stdout",
     "output_type": "stream",
     "text": [
      "       __       ___      ___   ___                _______  _______ .___  ___. \n",
      "      |  |     /   \\     \\  \\ /  /               |   ____||   ____||   \\/   | \n",
      "      |  |    /  ^  \\     \\  V  /      ______    |  |__   |  |__   |  \\  /  | \n",
      ".--.  |  |   /  /_\\  \\     >   <      |______|   |   __|  |   __|  |  |\\/|  | \n",
      "|  `--'  |  /  _____  \\   /  .  \\                |  |     |  |____ |  |  |  | \n",
      " \\______/  /__/     \\__\\ /__/ \\__\\               |__|     |_______||__|  |__| \n",
      "                                                                              \n",
      "\n"
     ]
    }
   ],
   "source": [
    "# Import JAX-FEM specific modules.\n",
    "from jax_fem.generate_mesh import box_mesh_gmsh, Mesh, get_meshio_cell_type\n",
    "from jax_fem.solver import solver\n",
    "from jax_fem.problem import Problem\n",
    "from jax_fem.utils import save_sol"
   ]
  },
  {
   "cell_type": "code",
   "execution_count": 3,
   "metadata": {},
   "outputs": [],
   "source": [
    "# If you have multiple GPUs, set the one to use.\n",
    "device = ' cpu'\n",
    "\n",
    "if device == 'gpu':\n",
    "    os.environ[\"CUDA_VISIBLE_DEVICES\"] = \"2\"\n",
    "\n",
    "# Define some useful directory paths.\n",
    "# crt_file_path = os.path.dirname(__file__)\n",
    "crt_file_path = os.getcwd()\n",
    "data_dir = os.path.join(crt_file_path, '05_data')\n",
    "vtk_dir = os.path.join(data_dir, 'vtk')"
   ]
  },
  {
   "cell_type": "markdown",
   "metadata": {
    "vscode": {
     "languageId": "plaintext"
    }
   },
   "source": [
    "# Multi-physics coupling (one-way coupling)"
   ]
  },
  {
   "cell_type": "code",
   "execution_count": 4,
   "metadata": {},
   "outputs": [],
   "source": [
    "# Define the thermal problem. \n",
    "# We solve the following equation (weak form of FEM):\n",
    "# (rho*Cp/dt*(T_crt-T_old), Q) * dx + (k*T_crt_grad, Q_grad) * dx - (heat_flux, Q) * ds = 0\n",
    "# where T_crt is the trial function, and Q is the test function.\n",
    "class Thermal(Problem):\n",
    "    # The function 'get_tensor_map' is responsible for the term (k*T_crt_grad, Q_grad) * dx. \n",
    "    # The function 'get_mass_map' is responsible for the term (rho*Cp/dt*(T_crt-T_old), Q) * dx. \n",
    "    # The function 'set_params' makes sure that the Neumann boundary conditions use the most \n",
    "    # updated T_old and laser information, i.e., positional information like laser_center (x_l, y_l) and \n",
    "    # 'switch' controlling ON/OFF of the laser.\n",
    "    def get_tensor_map(self):\n",
    "        def fn(u_grad, T_old):\n",
    "            '''\n",
    "            Shape:\n",
    "            - u_grad: [1, 3]\n",
    "            - T_old: [1]\n",
    "            '''\n",
    "            return k * u_grad\n",
    "        return fn\n",
    " \n",
    "    def get_mass_map(self):\n",
    "        def T_map(T, x, T_old):\n",
    "            '''\n",
    "            Shape:\n",
    "            - T: [1]\n",
    "            - x (point): [3]\n",
    "            - T_old: [3]\n",
    "            '''\n",
    "            return rho * Cp * (T - T_old) / dt\n",
    "        return T_map\n",
    "\n",
    "    def get_surface_maps(self):\n",
    "        # Neumann BC values for thermal problem\n",
    "        def thermal_neumann_top(u, point, old_T, laser_center, switch):\n",
    "            '''\n",
    "            Shape:\n",
    "            - u (T): [1]\n",
    "            - laser_center: [3]\n",
    "            - switch: []\n",
    "            '''\n",
    "            # q is the heat flux into the domain\n",
    "            d2 = (point[0] - laser_center[0]) ** 2 + (point[1] - laser_center[1]) ** 2\n",
    "            q_laser = 2 * eta * P / (np.pi * rb ** 2) * np.exp(-2 * d2 / rb ** 2) * switch\n",
    "            q_conv = h * (T0 - old_T[0])\n",
    "            q_rad = SB_constant * emissivity * (T0 ** 4 - old_T[0] ** 4)\n",
    "            q = q_conv + q_rad + q_laser\n",
    "            print(f'Neumann BC top shape: {q.shape}') ###\n",
    "            return -np.array([q])\n",
    " \n",
    "        def thermal_neumann_walls(u, point, old_T):\n",
    "            # q is the heat flux into the domain.\n",
    "            q_conv = h * (T0 - old_T[0])\n",
    "            q_rad = SB_constant * emissivity * (T0 ** 4 - old_T[0] ** 4)\n",
    "            q = q_conv + q_rad\n",
    "            print(f'Neumann BC top shape: {q.shape}') ###\n",
    "            return -np.array([q])\n",
    "\n",
    "        return [thermal_neumann_top, thermal_neumann_walls]\n",
    "\n",
    "    def set_params(self, params):\n",
    "        # Override base class method.\n",
    "        sol_T_old, laser_center, switch = params\n",
    "\n",
    "        sol_T_old_top = self.fes[0].convert_from_dof_to_face_quad(sol_T_old, self.boundary_inds_list[0])\n",
    "        sol_T_old_walls = self.fes[0].convert_from_dof_to_face_quad(sol_T_old, self.boundary_inds_list[1])\n",
    "\n",
    "        # (num_selected_faces, num_face_quads, dim)\n",
    "        laser_center_quad = laser_center[None, None, :] * np.ones((len(self.boundary_inds_list[0]), self.fes[0].num_face_quads))[:, :, None]\n",
    "        # (num_selected_faces, num_face_quads)\n",
    "        switch_quad = switch * np.ones((len(self.boundary_inds_list[0]), self.fes[0].num_face_quads))\n",
    "\n",
    "        self.internal_vars_surfaces = [[sol_T_old_top, laser_center_quad, switch_quad], [sol_T_old_walls]]\n",
    "        self.internal_vars = [self.fes[0].convert_from_dof_to_quad(sol_T_old)]"
   ]
  },
  {
   "cell_type": "code",
   "execution_count": 5,
   "metadata": {},
   "outputs": [],
   "source": [
    "# Define the mechanics problem. \n",
    "# Generally, JAX-FEM handles ((f(u_grad,alpha_1,alpha_2,...,alpha_N)),v_grad) * dx \n",
    "# in the weak form. Here, we have f(u_grad,alpha_1,alpha_2,...,alpha_N) = sigma_crt(u_crt_grad, epsilon_old, sigma_old, dT_crt, zeta_crt),\n",
    "# where zeta_crt being the phase state variable. This is reflected by the function 'stress_return_map'.\n",
    "class Plasticity(Problem):\n",
    "    # We solve the following equation (weak form of FEM):\n",
    "    # (sigma(u_grad), v_grad) * dx = 0\n",
    "    # where u is the trial function, and v is the test function.\n",
    "    def custom_init(self):\n",
    "        # Initializing total strain, stress, temperature increment, and material phase.\n",
    "        sigmas_old = np.zeros((len(self.fes[0].cells), self.fes[0].num_quads, self.fes[0].vec, self.dim))\n",
    "        epsilons_old = np.zeros_like(sigmas_old)\n",
    "        dT = np.zeros((len(self.fes[0].cells), self.fes[0].num_quads, 1))\n",
    "        phase = np.ones_like(dT, dtype=np.int32) * POWDER\n",
    "        self.internal_vars = [sigmas_old, epsilons_old, dT, phase]\n",
    "    \n",
    "    def get_tensor_map(self):\n",
    "        _, stress_return_map, _ = self.get_maps()\n",
    "        return stress_return_map\n",
    "\n",
    "    def get_maps(self):\n",
    "        def safe_sqrt(x):  \n",
    "            safe_x = np.where(x > 0., np.sqrt(x), 0.)\n",
    "            return safe_x\n",
    "\n",
    "        def safe_divide(x, y):\n",
    "            return np.where(y == 0., 0., x/y)\n",
    "\n",
    "        def strain(u_grad):\n",
    "            epsilon = 0.5 * (u_grad + u_grad.T)\n",
    "            return epsilon\n",
    "\n",
    "        def stress(epsilon, E):\n",
    "            nu = 0.3\n",
    "            mu = E / (2. * (1. + nu))\n",
    "            lmbda = E * nu / ((1 + nu) * (1 - 2 * nu))\n",
    "            sigma = lmbda * np.trace(epsilon) * np.eye(self.dim) + 2 * mu * epsilon\n",
    "            return sigma\n",
    "\n",
    "        # self.internal_vars will be fed to fill in the last 4 arguments\n",
    "        def stress_return_maps(u_grad, sigma_old, epsilon_old, dT, phase):\n",
    "            E0 = 70.e9  # Young's modulus\n",
    "            sig0 = 250.e6  # yield stress\n",
    "            alpha_V0 = 1e-5  # thermal expansion coefficient\n",
    "            alpha_V = np.where(phase == SOLID, alpha_V0, 0.)  # alpha_V if solid, 0 if liquid\n",
    "            E = np.where(phase == SOLID, E0, 1e-2 * E0)  # E_0 if solid, 1% * E_0 if liquid\n",
    "            epsilon_inc_T = alpha_V * dT * np.eye(self.dim)\n",
    "            epsilon_crt = strain(u_grad)\n",
    "            epsilon_inc = epsilon_crt - epsilon_old\n",
    "            sigma_trial = stress(epsilon_inc - epsilon_inc_T, E) + sigma_old\n",
    "            s_dev = sigma_trial - 1. / self.dim * np.trace(sigma_trial) * np.eye(self.dim)\n",
    "            s_norm = safe_sqrt(3. / 2. * np.sum(s_dev * s_dev))\n",
    "            f_yield = s_norm - sig0  # perfect plasticity\n",
    "            f_yield_plus = np.where(f_yield > 0., f_yield, 0.)\n",
    "            sigma = sigma_trial - safe_divide(f_yield_plus * s_dev, s_norm)\n",
    "            return sigma, (f_yield_plus, sigma[0, 0])\n",
    "\n",
    "        stress_return_map = lambda *args: stress_return_maps(*args)[0]\n",
    "        yield_val_fn = lambda *args: stress_return_maps(*args)[1]\n",
    "\n",
    "        return strain, stress_return_map, yield_val_fn\n",
    "\n",
    "    def vmap_stress_strain_fns(self):\n",
    "        strain, stress_return_map, yield_val_fn = self.get_maps()\n",
    "        vmap_strain = jax.vmap(jax.vmap(strain))\n",
    "        vmap_stress_return_map = jax.vmap(jax.vmap(stress_return_map))\n",
    "        vmap_yield_val_fn = jax.vmap(jax.vmap(yield_val_fn))\n",
    "        return vmap_strain, vmap_stress_return_map, vmap_yield_val_fn\n",
    "\n",
    "    def update_stress_strain(self, sol, params):\n",
    "        # Update sigmas and epsilons\n",
    "        # Keep dT and phase unchanged\n",
    "        # Output plastic_info for debugging purpose: we want to know if plastic deformation occurs, and the x-x direction stress\n",
    "        # (num_cells, 1, num_nodes, vec, 1) * (num_cells, num_quads, num_nodes, 1, dim) -> (num_cells, num_quads, num_nodes, vec, dim) \n",
    "        u_grads = np.take(sol, self.fes[0].cells, axis=0)[:, None, :, :, None] * self.fes[0].shape_grads[:, :, :, None, :]\n",
    "        u_grads = np.sum(u_grads, axis=2) # (num_cells, num_quads, vec, dim)\n",
    "        vmap_strain, vmap_stress_rm, vmap_yield_val_fn = self.vmap_stress_strain_fns()\n",
    "        sigmas_old, epsilons_old, dT, phase = params\n",
    "        sigmas_update = vmap_stress_rm(u_grads, sigmas_old, epsilons_old, dT, phase)\n",
    "        epsilons_update = vmap_strain(u_grads)\n",
    "        plastic_info = vmap_yield_val_fn(u_grads, sigmas_old, epsilons_old, dT, phase)\n",
    "        return [sigmas_update, epsilons_update, dT, phase], plastic_info\n",
    "\n",
    "    def update_dT_and_phase(self, dT, T, params):\n",
    "        # Update dT and phase\n",
    "        # Keep sigmas and epsilons unchanged\n",
    "        sigmas, epsilons, _, phase = params\n",
    "        dT_quad = self.fes[0].convert_from_dof_to_quad(dT)\n",
    "        T_quad = self.fes[0].convert_from_dof_to_quad(T)\n",
    "        powder_to_liquid = (phase == POWDER) & (T_quad > Tl)\n",
    "        liquid_to_solid = (phase == LIQUID) & (T_quad < Tl)\n",
    "        phase = phase.at[powder_to_liquid].set(LIQUID)\n",
    "        phase = phase.at[liquid_to_solid].set(SOLID)\n",
    "        return sigmas, epsilons, dT_quad, phase\n",
    "\n",
    "    def set_params(self, params):\n",
    "        # Override base class method.\n",
    "        self.internal_vars = params"
   ]
  },
  {
   "cell_type": "code",
   "execution_count": 6,
   "metadata": {},
   "outputs": [],
   "source": [
    "# Define material properties. \n",
    "# We generally assume Inconel 625 material is used. \n",
    "# SI units are used throughout this example.\n",
    "Cp = 588. # heat capacity (J/kg·K)\n",
    "rho = 8440. # material density (kg/m^3)\n",
    "k = 15. # thermal conductivity (W/m·K)\n",
    "Tl = 1623 # liquidus temperature (K)\n",
    "h = 100. # heat convection coefficien (W/m^2·K)\n",
    "eta = 0.25 # absorption rate (kg·s^-3·K^-4)\n",
    "SB_constant = 5.67e-8 # Stefan-Boltzmann constant\n",
    "emissivity = 0.3 # emissivity\n",
    "T0 = 300. # ambient temperature (K)\n",
    "POWDER = 0 # powder flag\n",
    "LIQUID = 1 # liquid flag\n",
    "SOLID = 2 # solid flag\n",
    "\n",
    "# Define laser properties.\n",
    "vel = 0.5 # laser scanning velocity (m/s)\n",
    "rb = 0.05e-3 # laser beam size (m)\n",
    "P = 50. # laser power (W)"
   ]
  },
  {
   "cell_type": "code",
   "execution_count": 7,
   "metadata": {},
   "outputs": [
    {
     "name": "stdout",
     "output_type": "stream",
     "text": [
      "Info    : Meshing 1D...\n",
      "Info    : [  0%] Meshing curve 1 (Extruded)\n",
      "Info    : [ 10%] Meshing curve 2 (Extruded)\n",
      "Info    : [ 20%] Meshing curve 3 (Extruded)\n",
      "Info    : [ 30%] Meshing curve 4 (Extruded)\n",
      "Info    : [ 40%] Meshing curve 7 (Extruded)\n",
      "Info    : [ 50%] Meshing curve 8 (Extruded)\n",
      "Info    : [ 50%] Meshing curve 9 (Extruded)\n",
      "Info    : [ 60%] Meshing curve 10 (Extruded)\n",
      "Info    : [ 70%] Meshing curve 12 (Extruded)\n",
      "Info    : [ 80%] Meshing curve 13 (Extruded)\n",
      "Info    : [ 90%] Meshing curve 17 (Extruded)\n",
      "Info    : [100%] Meshing curve 21 (Extruded)\n",
      "Info    : Done meshing 1D (Wall 6.2563e-05s, CPU 3e-05s)\n",
      "Info    : Meshing 2D...\n",
      "Info    : [  0%] Meshing surface 5 (Extruded)\n",
      "Info    : [ 20%] Meshing surface 14 (Extruded)\n",
      "Info    : [ 40%] Meshing surface 18 (Extruded)\n",
      "Info    : [ 50%] Meshing surface 22 (Extruded)\n",
      "Info    : [ 70%] Meshing surface 26 (Extruded)\n",
      "Info    : [ 90%] Meshing surface 27 (Extruded)\n",
      "Info    : Done meshing 2D (Wall 0.0173588s, CPU 0.01646s)\n",
      "Info    : Meshing 3D...\n",
      "Info    : Meshing volume 1 (Extruded)\n",
      "Info    : Done meshing 3D (Wall 0.0203888s, CPU 0.020554s)\n",
      "Info    : Optimizing mesh...\n",
      "Info    : Done optimizing mesh (Wall 0.000137894s, CPU 0.000138s)\n",
      "Info    : 6426 nodes 8008 elements\n",
      "Info    : Writing '/home/yzhang11/workspace/fem_learning/05_data/msh/box.msh'...\n",
      "Info    : Done writing '/home/yzhang11/workspace/fem_learning/05_data/msh/box.msh'\n",
      "\n"
     ]
    }
   ],
   "source": [
    "# Specify mesh-related information. \n",
    "# We use first-order hexahedron element for both T_crt and u_crt.\n",
    "ele_type = 'HEX8'\n",
    "cell_type = get_meshio_cell_type(ele_type)\n",
    "Nx, Ny, Nz = 50, 20, 5  # 10 um per element\n",
    "Lx, Ly, Lz = 0.5e-3, 0.2e-3, 0.05e-3  # domain size (m)\n",
    "meshio_mesh = box_mesh_gmsh(Nx, Ny, Nz, Lx, Ly, Lz, data_dir)\n",
    "mesh = Mesh(meshio_mesh.points, meshio_mesh.cells_dict[cell_type])"
   ]
  },
  {
   "cell_type": "code",
   "execution_count": 8,
   "metadata": {},
   "outputs": [],
   "source": [
    "# Define boundary locations.\n",
    "def top(point):\n",
    "    return np.isclose(point[2], Lz, atol=1e-5)\n",
    "\n",
    "def bottom(point):\n",
    "    return np.isclose(point[2], 0., atol=1e-5)\n",
    "\n",
    "def walls(point):\n",
    "    left = np.isclose(point[0], 0., atol=1e-5)\n",
    "    right = np.isclose(point[0], Lx, atol=1e-5)\n",
    "    front = np.isclose(point[1], 0., atol=1e-5)\n",
    "    back = np.isclose(point[1], Ly, atol=1e-5)\n",
    "    return left | right | front | back"
   ]
  },
  {
   "cell_type": "code",
   "execution_count": 9,
   "metadata": {},
   "outputs": [],
   "source": [
    "# Specify boundary conditions and problem definitions.\n",
    "# Dirichlet BC values for thermal problem\n",
    "def thermal_dirichlet_bottom(point):\n",
    "    return T0\n",
    "\n",
    "# Dirichlet BC values for mechanical problem\n",
    "def displacement_dirichlet_bottom(point):\n",
    "    return 0."
   ]
  },
  {
   "cell_type": "code",
   "execution_count": 10,
   "metadata": {},
   "outputs": [
    {
     "name": "stderr",
     "output_type": "stream",
     "text": [
      "[01-08 21:41:30][DEBUG] jax_fem: Computing shape function values, gradients, etc.\n",
      "[01-08 21:41:30][DEBUG] jax_fem: ele_type = HEX8, quad_points.shape = (num_quads, dim) = (8, 3)\n",
      "[01-08 21:41:30][DEBUG] jax_fem: face_quad_points.shape = (num_faces, num_face_quads, dim) = (6, 4, 3)\n"
     ]
    },
    {
     "name": "stderr",
     "output_type": "stream",
     "text": [
      "[01-08 21:41:30][DEBUG] jax_fem: Done pre-computations, took 0.5522706508636475 [s]\n",
      "[01-08 21:41:30][INFO] jax_fem: Solving a problem with 5000 cells, 6426x1 = 6426 dofs.\n"
     ]
    }
   ],
   "source": [
    "# Define thermal problem\n",
    "dirichlet_bc_info_T = [[bottom], [0], [thermal_dirichlet_bottom]]\n",
    "location_fns = [top, walls]\n",
    "\n",
    "sol_T_old = T0 * np.ones((len(mesh.points), 1))\n",
    "sol_T_old_for_u = np.array(sol_T_old)\n",
    "problem_T = Thermal(mesh, vec=1, dim=3, dirichlet_bc_info=dirichlet_bc_info_T, location_fns=location_fns)"
   ]
  },
  {
   "cell_type": "code",
   "execution_count": 11,
   "metadata": {},
   "outputs": [
    {
     "name": "stderr",
     "output_type": "stream",
     "text": [
      "[01-08 21:41:32][DEBUG] jax_fem: Computing shape function values, gradients, etc.\n",
      "[01-08 21:41:32][DEBUG] jax_fem: ele_type = HEX8, quad_points.shape = (num_quads, dim) = (8, 3)\n",
      "[01-08 21:41:32][DEBUG] jax_fem: face_quad_points.shape = (num_faces, num_face_quads, dim) = (6, 4, 3)\n",
      "[01-08 21:41:32][DEBUG] jax_fem: Done pre-computations, took 0.11300134658813477 [s]\n",
      "[01-08 21:41:32][INFO] jax_fem: Solving a problem with 5000 cells, 6426x3 = 19278 dofs.\n"
     ]
    }
   ],
   "source": [
    "# Define mechanical problem\n",
    "dirichlet_bc_info_u = [[bottom] * 3, [0, 1, 2], [displacement_dirichlet_bottom] * 3]\n",
    "problem_u = Plasticity(mesh, vec=3, dim=3, dirichlet_bc_info=dirichlet_bc_info_u)\n",
    "params_u = problem_u.internal_vars\n",
    "sol_u_list = [np.zeros((problem_u.fes[0].num_total_nodes, problem_u.fes[0].vec))]  # displacement fields"
   ]
  },
  {
   "cell_type": "code",
   "execution_count": 12,
   "metadata": {},
   "outputs": [],
   "source": [
    "# Do some cleaning work.\n",
    "files = glob.glob(os.path.join(vtk_dir, f'*'))\n",
    "for f in files:\n",
    "    os.remove(f)"
   ]
  },
  {
   "cell_type": "code",
   "execution_count": 13,
   "metadata": {},
   "outputs": [],
   "source": [
    "# Save initial solution to local folder.\n",
    "vtk_path = os.path.join(vtk_dir, f\"u_{0:05d}.vtu\")\n",
    "save_sol(problem_T.fes[0], sol_T_old, vtk_path, point_infos=[('u', np.zeros((len(sol_T_old), 3)))], \n",
    "                                                cell_infos=[('f_plus', np.zeros(len(mesh.cells))),\n",
    "                                                            ('stress_xx', np.zeros(len(mesh.cells))),\n",
    "                                                            ('phase', np.mean(params_u[-1][:, :, 0], axis=1))])"
   ]
  },
  {
   "cell_type": "code",
   "execution_count": 78,
   "metadata": {},
   "outputs": [
    {
     "name": "stdout",
     "output_type": "stream",
     "text": [
      "\n",
      "Step 1, total step = 500, laser_x = 0.000126, Lx = 0.0005, laser ON = True\n"
     ]
    },
    {
     "name": "stderr",
     "output_type": "stream",
     "text": [
      "[01-07 15:49:03][DEBUG] jax_fem: Calling the row elimination solver for imposing Dirichlet B.C.\n",
      "[01-07 15:49:03][DEBUG] jax_fem: Start timing\n",
      "[01-07 15:49:03][DEBUG] jax_fem: Computing cell Jacobian and cell residual...\n",
      "[01-07 15:49:04][DEBUG] jax_fem: Function split_and_compute_cell took 0.1452 seconds\n"
     ]
    },
    {
     "name": "stdout",
     "output_type": "stream",
     "text": [
      "Neumann BC top shape: ()\n",
      "Neumann BC top shape: ()\n"
     ]
    },
    {
     "name": "stderr",
     "output_type": "stream",
     "text": [
      "[01-07 15:49:04][DEBUG] jax_fem: Creating sparse matrix with scipy...\n",
      "[01-07 15:49:05][DEBUG] jax_fem: Before, res l_2 = 13884.591802719375\n",
      "[01-07 15:49:05][DEBUG] jax_fem: Solving linear system...\n",
      "[01-07 15:49:05][DEBUG] jax_fem: JAX Solver - Solving linear system\n",
      "[01-07 15:49:05][DEBUG] jax_fem: JAX Solver - Finshed solving, res = 3.563191987201916e-07\n",
      "[01-07 15:49:05][DEBUG] jax_fem: Computing cell Jacobian and cell residual...\n",
      "[01-07 15:49:05][DEBUG] jax_fem: Function split_and_compute_cell took 0.0361 seconds\n",
      "[01-07 15:49:05][DEBUG] jax_fem: Creating sparse matrix with scipy...\n",
      "[01-07 15:49:05][DEBUG] jax_fem: res l_2 = 3.563191992394832e-07\n",
      "[01-07 15:49:05][INFO] jax_fem: Solve took 2.0521528720855713 [s]\n",
      "[01-07 15:49:05][DEBUG] jax_fem: max of dofs = 1132.5610702468139\n",
      "[01-07 15:49:05][DEBUG] jax_fem: min of dofs = 223.2611477406741\n",
      "[01-07 15:49:05][DEBUG] jax_fem: Calling the row elimination solver for imposing Dirichlet B.C.\n",
      "[01-07 15:49:05][DEBUG] jax_fem: Start timing\n",
      "[01-07 15:49:05][DEBUG] jax_fem: Computing cell Jacobian and cell residual...\n",
      "[01-07 15:49:05][DEBUG] jax_fem: Function split_and_compute_cell took 0.0342 seconds\n",
      "[01-07 15:49:05][DEBUG] jax_fem: Creating sparse matrix with scipy...\n",
      "[01-07 15:49:06][DEBUG] jax_fem: Before, res l_2 = 13884.60045630365\n",
      "[01-07 15:49:06][DEBUG] jax_fem: Solving linear system...\n",
      "[01-07 15:49:06][DEBUG] jax_fem: JAX Solver - Solving linear system\n"
     ]
    },
    {
     "name": "stdout",
     "output_type": "stream",
     "text": [
      "\n",
      "Step 2, total step = 500, laser_x = 0.000127, Lx = 0.0005, laser ON = True\n"
     ]
    },
    {
     "name": "stderr",
     "output_type": "stream",
     "text": [
      "[01-07 15:49:06][DEBUG] jax_fem: JAX Solver - Finshed solving, res = 8.100352857262275e-07\n",
      "[01-07 15:49:06][DEBUG] jax_fem: Computing cell Jacobian and cell residual...\n",
      "[01-07 15:49:06][DEBUG] jax_fem: Function split_and_compute_cell took 0.0479 seconds\n",
      "[01-07 15:49:06][DEBUG] jax_fem: Creating sparse matrix with scipy...\n",
      "[01-07 15:49:06][DEBUG] jax_fem: res l_2 = 8.100352863573473e-07\n",
      "[01-07 15:49:06][INFO] jax_fem: Solve took 0.6260969638824463 [s]\n",
      "[01-07 15:49:06][DEBUG] jax_fem: max of dofs = 1919.8718999712148\n",
      "[01-07 15:49:06][DEBUG] jax_fem: min of dofs = 206.55633090457835\n",
      "[01-07 15:49:06][DEBUG] jax_fem: Calling the row elimination solver for imposing Dirichlet B.C.\n",
      "[01-07 15:49:06][DEBUG] jax_fem: Start timing\n",
      "[01-07 15:49:06][DEBUG] jax_fem: Computing cell Jacobian and cell residual...\n",
      "[01-07 15:49:06][DEBUG] jax_fem: Function split_and_compute_cell took 0.0946 seconds\n",
      "[01-07 15:49:06][DEBUG] jax_fem: Creating sparse matrix with scipy...\n",
      "[01-07 15:49:06][DEBUG] jax_fem: Before, res l_2 = 13884.611924907445\n"
     ]
    },
    {
     "name": "stdout",
     "output_type": "stream",
     "text": [
      "\n",
      "Step 3, total step = 500, laser_x = 0.000128, Lx = 0.0005, laser ON = True\n"
     ]
    },
    {
     "name": "stderr",
     "output_type": "stream",
     "text": [
      "[01-07 15:49:06][DEBUG] jax_fem: Solving linear system...\n",
      "[01-07 15:49:06][DEBUG] jax_fem: JAX Solver - Solving linear system\n",
      "[01-07 15:49:07][DEBUG] jax_fem: JAX Solver - Finshed solving, res = 7.520214644310511e-07\n",
      "[01-07 15:49:07][DEBUG] jax_fem: Computing cell Jacobian and cell residual...\n",
      "[01-07 15:49:07][DEBUG] jax_fem: Function split_and_compute_cell took 0.0318 seconds\n",
      "[01-07 15:49:07][DEBUG] jax_fem: Creating sparse matrix with scipy...\n",
      "[01-07 15:49:07][DEBUG] jax_fem: res l_2 = 7.520214655144802e-07\n",
      "[01-07 15:49:07][INFO] jax_fem: Solve took 0.6344225406646729 [s]\n",
      "[01-07 15:49:07][DEBUG] jax_fem: max of dofs = 2660.5093751832264\n",
      "[01-07 15:49:07][DEBUG] jax_fem: min of dofs = 233.7379181470167\n",
      "[01-07 15:49:07][DEBUG] jax_fem: Calling the row elimination solver for imposing Dirichlet B.C.\n",
      "[01-07 15:49:07][DEBUG] jax_fem: Start timing\n",
      "[01-07 15:49:07][DEBUG] jax_fem: Computing cell Jacobian and cell residual...\n",
      "[01-07 15:49:07][DEBUG] jax_fem: Function split_and_compute_cell took 0.0350 seconds\n",
      "[01-07 15:49:07][DEBUG] jax_fem: Creating sparse matrix with scipy...\n",
      "[01-07 15:49:07][DEBUG] jax_fem: Before, res l_2 = 13884.625907587946\n",
      "[01-07 15:49:07][DEBUG] jax_fem: Solving linear system...\n",
      "[01-07 15:49:07][DEBUG] jax_fem: JAX Solver - Solving linear system\n"
     ]
    },
    {
     "name": "stdout",
     "output_type": "stream",
     "text": [
      "\n",
      "Step 4, total step = 500, laser_x = 0.000129, Lx = 0.0005, laser ON = True\n"
     ]
    },
    {
     "name": "stderr",
     "output_type": "stream",
     "text": [
      "[01-07 15:49:07][DEBUG] jax_fem: JAX Solver - Finshed solving, res = 6.662761827282117e-07\n",
      "[01-07 15:49:07][DEBUG] jax_fem: Computing cell Jacobian and cell residual...\n",
      "[01-07 15:49:07][DEBUG] jax_fem: Function split_and_compute_cell took 0.0371 seconds\n",
      "[01-07 15:49:07][DEBUG] jax_fem: Creating sparse matrix with scipy...\n",
      "[01-07 15:49:07][DEBUG] jax_fem: res l_2 = 6.662761852626001e-07\n",
      "[01-07 15:49:07][INFO] jax_fem: Solve took 0.5616755485534668 [s]\n",
      "[01-07 15:49:07][DEBUG] jax_fem: max of dofs = 3355.464636830306\n",
      "[01-07 15:49:07][DEBUG] jax_fem: min of dofs = 282.32116705014374\n",
      "[01-07 15:49:07][DEBUG] jax_fem: Calling the row elimination solver for imposing Dirichlet B.C.\n",
      "[01-07 15:49:07][DEBUG] jax_fem: Start timing\n",
      "[01-07 15:49:07][DEBUG] jax_fem: Computing cell Jacobian and cell residual...\n",
      "[01-07 15:49:07][DEBUG] jax_fem: Function split_and_compute_cell took 0.0552 seconds\n",
      "[01-07 15:49:07][DEBUG] jax_fem: Creating sparse matrix with scipy...\n",
      "[01-07 15:49:07][DEBUG] jax_fem: Before, res l_2 = 13884.642159523682\n",
      "[01-07 15:49:07][DEBUG] jax_fem: Solving linear system...\n",
      "[01-07 15:49:07][DEBUG] jax_fem: JAX Solver - Solving linear system\n"
     ]
    },
    {
     "name": "stdout",
     "output_type": "stream",
     "text": [
      "\n",
      "Step 5, total step = 500, laser_x = 0.00013000000000000002, Lx = 0.0005, laser ON = True\n"
     ]
    },
    {
     "name": "stderr",
     "output_type": "stream",
     "text": [
      "[01-07 15:49:08][DEBUG] jax_fem: JAX Solver - Finshed solving, res = 6.144825302031485e-07\n",
      "[01-07 15:49:08][DEBUG] jax_fem: Computing cell Jacobian and cell residual...\n",
      "[01-07 15:49:08][DEBUG] jax_fem: Function split_and_compute_cell took 0.0321 seconds\n",
      "[01-07 15:49:08][DEBUG] jax_fem: Creating sparse matrix with scipy...\n",
      "[01-07 15:49:08][DEBUG] jax_fem: res l_2 = 6.144825308996825e-07\n",
      "[01-07 15:49:08][INFO] jax_fem: Solve took 0.5589349269866943 [s]\n",
      "[01-07 15:49:08][DEBUG] jax_fem: max of dofs = 4006.781478570579\n",
      "[01-07 15:49:08][DEBUG] jax_fem: min of dofs = 273.30924254483665\n",
      "[01-07 15:49:08][DEBUG] jax_fem: Calling the row elimination solver for imposing Dirichlet B.C.\n",
      "[01-07 15:49:08][DEBUG] jax_fem: Start timing\n",
      "[01-07 15:49:08][DEBUG] jax_fem: Computing cell Jacobian and cell residual...\n",
      "[01-07 15:49:08][DEBUG] jax_fem: Function split_and_compute_cell took 0.0371 seconds\n",
      "[01-07 15:49:08][DEBUG] jax_fem: Creating sparse matrix with scipy...\n",
      "[01-07 15:49:08][DEBUG] jax_fem: Before, res l_2 = 13884.660472560088\n",
      "[01-07 15:49:08][DEBUG] jax_fem: Solving linear system...\n",
      "[01-07 15:49:08][DEBUG] jax_fem: JAX Solver - Solving linear system\n"
     ]
    },
    {
     "name": "stdout",
     "output_type": "stream",
     "text": [
      "\n",
      "Step 6, total step = 500, laser_x = 0.000131, Lx = 0.0005, laser ON = True\n"
     ]
    },
    {
     "name": "stderr",
     "output_type": "stream",
     "text": [
      "[01-07 15:49:08][DEBUG] jax_fem: JAX Solver - Finshed solving, res = 5.88174615604725e-07\n",
      "[01-07 15:49:08][DEBUG] jax_fem: Computing cell Jacobian and cell residual...\n",
      "[01-07 15:49:08][DEBUG] jax_fem: Function split_and_compute_cell took 0.0421 seconds\n",
      "[01-07 15:49:08][DEBUG] jax_fem: Creating sparse matrix with scipy...\n",
      "[01-07 15:49:08][DEBUG] jax_fem: res l_2 = 5.881746118923943e-07\n",
      "[01-07 15:49:08][INFO] jax_fem: Solve took 0.5621318817138672 [s]\n",
      "[01-07 15:49:08][DEBUG] jax_fem: max of dofs = 4616.836574874093\n",
      "[01-07 15:49:08][DEBUG] jax_fem: min of dofs = 269.29990267968776\n",
      "[01-07 15:49:08][DEBUG] jax_fem: Calling the row elimination solver for imposing Dirichlet B.C.\n",
      "[01-07 15:49:08][DEBUG] jax_fem: Start timing\n",
      "[01-07 15:49:08][DEBUG] jax_fem: Computing cell Jacobian and cell residual...\n",
      "[01-07 15:49:08][DEBUG] jax_fem: Function split_and_compute_cell took 0.0382 seconds\n",
      "[01-07 15:49:08][DEBUG] jax_fem: Creating sparse matrix with scipy...\n",
      "[01-07 15:49:09][DEBUG] jax_fem: Before, res l_2 = 13884.68066469559\n",
      "[01-07 15:49:09][DEBUG] jax_fem: Solving linear system...\n",
      "[01-07 15:49:09][DEBUG] jax_fem: JAX Solver - Solving linear system\n"
     ]
    },
    {
     "name": "stdout",
     "output_type": "stream",
     "text": [
      "\n",
      "Step 7, total step = 500, laser_x = 0.000132, Lx = 0.0005, laser ON = True\n"
     ]
    },
    {
     "name": "stderr",
     "output_type": "stream",
     "text": [
      "[01-07 15:49:09][DEBUG] jax_fem: JAX Solver - Finshed solving, res = 5.79759085879366e-07\n",
      "[01-07 15:49:09][DEBUG] jax_fem: Computing cell Jacobian and cell residual...\n",
      "[01-07 15:49:09][DEBUG] jax_fem: Function split_and_compute_cell took 0.0413 seconds\n",
      "[01-07 15:49:09][DEBUG] jax_fem: Creating sparse matrix with scipy...\n",
      "[01-07 15:49:09][DEBUG] jax_fem: res l_2 = 5.797590855124932e-07\n",
      "[01-07 15:49:09][INFO] jax_fem: Solve took 0.5725338459014893 [s]\n",
      "[01-07 15:49:09][DEBUG] jax_fem: max of dofs = 5187.981289075578\n",
      "[01-07 15:49:09][DEBUG] jax_fem: min of dofs = 271.42136517062437\n",
      "[01-07 15:49:09][DEBUG] jax_fem: Calling the row elimination solver for imposing Dirichlet B.C.\n",
      "[01-07 15:49:09][DEBUG] jax_fem: Start timing\n",
      "[01-07 15:49:09][DEBUG] jax_fem: Computing cell Jacobian and cell residual...\n",
      "[01-07 15:49:09][DEBUG] jax_fem: Function split_and_compute_cell took 0.0316 seconds\n",
      "[01-07 15:49:09][DEBUG] jax_fem: Creating sparse matrix with scipy...\n",
      "[01-07 15:49:09][DEBUG] jax_fem: Before, res l_2 = 13884.702573899354\n",
      "[01-07 15:49:09][DEBUG] jax_fem: Solving linear system...\n",
      "[01-07 15:49:09][DEBUG] jax_fem: JAX Solver - Solving linear system\n"
     ]
    },
    {
     "name": "stdout",
     "output_type": "stream",
     "text": [
      "\n",
      "Step 8, total step = 500, laser_x = 0.000133, Lx = 0.0005, laser ON = True\n"
     ]
    },
    {
     "name": "stderr",
     "output_type": "stream",
     "text": [
      "[01-07 15:49:10][DEBUG] jax_fem: JAX Solver - Finshed solving, res = 5.910896734121379e-07\n",
      "[01-07 15:49:10][DEBUG] jax_fem: Computing cell Jacobian and cell residual...\n",
      "[01-07 15:49:10][DEBUG] jax_fem: Function split_and_compute_cell took 0.0319 seconds\n",
      "[01-07 15:49:10][DEBUG] jax_fem: Creating sparse matrix with scipy...\n",
      "[01-07 15:49:10][DEBUG] jax_fem: res l_2 = 5.91089671095761e-07\n",
      "[01-07 15:49:10][INFO] jax_fem: Solve took 0.6154301166534424 [s]\n",
      "[01-07 15:49:10][DEBUG] jax_fem: max of dofs = 5722.382842730589\n",
      "[01-07 15:49:10][DEBUG] jax_fem: min of dofs = 280.1686766643908\n",
      "[01-07 15:49:10][DEBUG] jax_fem: Calling the row elimination solver for imposing Dirichlet B.C.\n",
      "[01-07 15:49:10][DEBUG] jax_fem: Start timing\n",
      "[01-07 15:49:10][DEBUG] jax_fem: Computing cell Jacobian and cell residual...\n",
      "[01-07 15:49:10][DEBUG] jax_fem: Function split_and_compute_cell took 0.0564 seconds\n",
      "[01-07 15:49:10][DEBUG] jax_fem: Creating sparse matrix with scipy...\n",
      "[01-07 15:49:10][DEBUG] jax_fem: Before, res l_2 = 13884.72605412369\n",
      "[01-07 15:49:10][DEBUG] jax_fem: Solving linear system...\n",
      "[01-07 15:49:10][DEBUG] jax_fem: JAX Solver - Solving linear system\n"
     ]
    },
    {
     "name": "stdout",
     "output_type": "stream",
     "text": [
      "\n",
      "Step 9, total step = 500, laser_x = 0.000134, Lx = 0.0005, laser ON = True\n"
     ]
    },
    {
     "name": "stderr",
     "output_type": "stream",
     "text": [
      "[01-07 15:49:10][DEBUG] jax_fem: JAX Solver - Finshed solving, res = 6.27279019478023e-07\n",
      "[01-07 15:49:10][DEBUG] jax_fem: Computing cell Jacobian and cell residual...\n",
      "[01-07 15:49:10][DEBUG] jax_fem: Function split_and_compute_cell took 0.0326 seconds\n",
      "[01-07 15:49:10][DEBUG] jax_fem: Creating sparse matrix with scipy...\n",
      "[01-07 15:49:10][DEBUG] jax_fem: res l_2 = 6.272790157960069e-07\n",
      "[01-07 15:49:10][INFO] jax_fem: Solve took 0.6079268455505371 [s]\n",
      "[01-07 15:49:10][DEBUG] jax_fem: max of dofs = 6221.971935620814\n",
      "[01-07 15:49:10][DEBUG] jax_fem: min of dofs = 295.21076943504715\n",
      "[01-07 15:49:10][DEBUG] jax_fem: Calling the row elimination solver for imposing Dirichlet B.C.\n",
      "[01-07 15:49:10][DEBUG] jax_fem: Start timing\n",
      "[01-07 15:49:10][DEBUG] jax_fem: Computing cell Jacobian and cell residual...\n",
      "[01-07 15:49:10][DEBUG] jax_fem: Function split_and_compute_cell took 0.0313 seconds\n",
      "[01-07 15:49:10][DEBUG] jax_fem: Creating sparse matrix with scipy...\n",
      "[01-07 15:49:10][DEBUG] jax_fem: Before, res l_2 = 13884.750972500211\n",
      "[01-07 15:49:10][DEBUG] jax_fem: Solving linear system...\n",
      "[01-07 15:49:10][DEBUG] jax_fem: JAX Solver - Solving linear system\n"
     ]
    },
    {
     "name": "stdout",
     "output_type": "stream",
     "text": [
      "\n",
      "Step 10, total step = 500, laser_x = 0.000135, Lx = 0.0005, laser ON = True\n"
     ]
    },
    {
     "name": "stderr",
     "output_type": "stream",
     "text": [
      "[01-07 15:49:11][DEBUG] jax_fem: JAX Solver - Finshed solving, res = 6.910682521535307e-07\n",
      "[01-07 15:49:11][DEBUG] jax_fem: Computing cell Jacobian and cell residual...\n",
      "[01-07 15:49:11][DEBUG] jax_fem: Function split_and_compute_cell took 0.0337 seconds\n",
      "[01-07 15:49:11][DEBUG] jax_fem: Creating sparse matrix with scipy...\n",
      "[01-07 15:49:11][DEBUG] jax_fem: res l_2 = 6.910682545000904e-07\n",
      "[01-07 15:49:11][INFO] jax_fem: Solve took 0.5426359176635742 [s]\n",
      "[01-07 15:49:11][DEBUG] jax_fem: max of dofs = 6688.444278849004\n",
      "[01-07 15:49:11][DEBUG] jax_fem: min of dofs = 299.99998153541515\n",
      "[01-07 15:49:11][DEBUG] jax_fem: Calling the row elimination solver for imposing Dirichlet B.C.\n",
      "[01-07 15:49:11][DEBUG] jax_fem: Start timing\n",
      "[01-07 15:49:11][DEBUG] jax_fem: Computing cell Jacobian and cell residual...\n",
      "[01-07 15:49:12][DEBUG] jax_fem: Function split_and_compute_cell took 0.5572 seconds\n",
      "[01-07 15:49:12][DEBUG] jax_fem: Creating sparse matrix with scipy...\n",
      "[01-07 15:49:12][DEBUG] jax_fem: Before, res l_2 = 0.0\n",
      "[01-07 15:49:12][INFO] jax_fem: Solve took 1.3951478004455566 [s]\n",
      "[01-07 15:49:13][DEBUG] jax_fem: max of dofs = 0.0\n",
      "[01-07 15:49:13][DEBUG] jax_fem: min of dofs = 0.0\n",
      "[01-07 15:49:13][DEBUG] jax_fem: Calling the row elimination solver for imposing Dirichlet B.C.\n",
      "[01-07 15:49:13][DEBUG] jax_fem: Start timing\n",
      "[01-07 15:49:13][DEBUG] jax_fem: Computing cell Jacobian and cell residual...\n",
      "[01-07 15:49:13][DEBUG] jax_fem: Function split_and_compute_cell took 0.0356 seconds\n",
      "[01-07 15:49:13][DEBUG] jax_fem: Creating sparse matrix with scipy...\n",
      "[01-07 15:49:14][DEBUG] jax_fem: Before, res l_2 = 13884.777207231095\n",
      "[01-07 15:49:14][DEBUG] jax_fem: Solving linear system...\n",
      "[01-07 15:49:14][DEBUG] jax_fem: JAX Solver - Solving linear system\n"
     ]
    },
    {
     "name": "stdout",
     "output_type": "stream",
     "text": [
      "max f_plus = 0.0, max stress_xx = 0.0\n",
      "\n",
      "Step 11, total step = 500, laser_x = 0.000136, Lx = 0.0005, laser ON = True\n"
     ]
    },
    {
     "name": "stderr",
     "output_type": "stream",
     "text": [
      "[01-07 15:49:14][DEBUG] jax_fem: JAX Solver - Finshed solving, res = 7.806358624841697e-07\n",
      "[01-07 15:49:14][DEBUG] jax_fem: Computing cell Jacobian and cell residual...\n",
      "[01-07 15:49:14][DEBUG] jax_fem: Function split_and_compute_cell took 0.0352 seconds\n",
      "[01-07 15:49:14][DEBUG] jax_fem: Creating sparse matrix with scipy...\n",
      "[01-07 15:49:14][DEBUG] jax_fem: res l_2 = 7.806358607629769e-07\n",
      "[01-07 15:49:14][INFO] jax_fem: Solve took 0.6254703998565674 [s]\n",
      "[01-07 15:49:14][DEBUG] jax_fem: max of dofs = 7123.286850946628\n",
      "[01-07 15:49:14][DEBUG] jax_fem: min of dofs = 299.99997986162595\n",
      "[01-07 15:49:14][DEBUG] jax_fem: Calling the row elimination solver for imposing Dirichlet B.C.\n",
      "[01-07 15:49:14][DEBUG] jax_fem: Start timing\n",
      "[01-07 15:49:14][DEBUG] jax_fem: Computing cell Jacobian and cell residual...\n",
      "[01-07 15:49:14][DEBUG] jax_fem: Function split_and_compute_cell took 0.0453 seconds\n",
      "[01-07 15:49:14][DEBUG] jax_fem: Creating sparse matrix with scipy...\n",
      "[01-07 15:49:14][DEBUG] jax_fem: Before, res l_2 = 13884.804645931234\n",
      "[01-07 15:49:14][DEBUG] jax_fem: Solving linear system...\n",
      "[01-07 15:49:14][DEBUG] jax_fem: JAX Solver - Solving linear system\n"
     ]
    },
    {
     "name": "stdout",
     "output_type": "stream",
     "text": [
      "\n",
      "Step 12, total step = 500, laser_x = 0.000137, Lx = 0.0005, laser ON = True\n"
     ]
    },
    {
     "name": "stderr",
     "output_type": "stream",
     "text": [
      "[01-07 15:49:15][DEBUG] jax_fem: JAX Solver - Finshed solving, res = 8.906966007874618e-07\n",
      "[01-07 15:49:15][DEBUG] jax_fem: Computing cell Jacobian and cell residual...\n",
      "[01-07 15:49:15][DEBUG] jax_fem: Function split_and_compute_cell took 0.0465 seconds\n",
      "[01-07 15:49:15][DEBUG] jax_fem: Creating sparse matrix with scipy...\n",
      "[01-07 15:49:15][DEBUG] jax_fem: res l_2 = 8.906966014993719e-07\n",
      "[01-07 15:49:15][INFO] jax_fem: Solve took 0.6375470161437988 [s]\n",
      "[01-07 15:49:15][DEBUG] jax_fem: max of dofs = 7527.813076992664\n",
      "[01-07 15:49:15][DEBUG] jax_fem: min of dofs = 299.9999781179221\n",
      "[01-07 15:49:15][DEBUG] jax_fem: Calling the row elimination solver for imposing Dirichlet B.C.\n",
      "[01-07 15:49:15][DEBUG] jax_fem: Start timing\n",
      "[01-07 15:49:15][DEBUG] jax_fem: Computing cell Jacobian and cell residual...\n",
      "[01-07 15:49:15][DEBUG] jax_fem: Function split_and_compute_cell took 0.0468 seconds\n",
      "[01-07 15:49:15][DEBUG] jax_fem: Creating sparse matrix with scipy...\n",
      "[01-07 15:49:15][DEBUG] jax_fem: Before, res l_2 = 13884.833184292664\n",
      "[01-07 15:49:15][DEBUG] jax_fem: Solving linear system...\n",
      "[01-07 15:49:15][DEBUG] jax_fem: JAX Solver - Solving linear system\n"
     ]
    },
    {
     "name": "stdout",
     "output_type": "stream",
     "text": [
      "\n",
      "Step 13, total step = 500, laser_x = 0.000138, Lx = 0.0005, laser ON = True\n"
     ]
    },
    {
     "name": "stderr",
     "output_type": "stream",
     "text": [
      "[01-07 15:49:15][DEBUG] jax_fem: JAX Solver - Finshed solving, res = 1.014704771492649e-06\n",
      "[01-07 15:49:15][DEBUG] jax_fem: Computing cell Jacobian and cell residual...\n",
      "[01-07 15:49:15][DEBUG] jax_fem: Function split_and_compute_cell took 0.0393 seconds\n",
      "[01-07 15:49:15][DEBUG] jax_fem: Creating sparse matrix with scipy...\n",
      "[01-07 15:49:15][DEBUG] jax_fem: res l_2 = 1.0147047769343033e-06\n",
      "[01-07 15:49:15][DEBUG] jax_fem: Solving linear system...\n",
      "[01-07 15:49:15][DEBUG] jax_fem: JAX Solver - Solving linear system\n",
      "[01-07 15:49:16][DEBUG] jax_fem: JAX Solver - Finshed solving, res = 7.699868088748988e-11\n",
      "[01-07 15:49:16][DEBUG] jax_fem: Computing cell Jacobian and cell residual...\n",
      "[01-07 15:49:16][DEBUG] jax_fem: Function split_and_compute_cell took 0.0533 seconds\n",
      "[01-07 15:49:16][DEBUG] jax_fem: Creating sparse matrix with scipy...\n",
      "[01-07 15:49:16][DEBUG] jax_fem: res l_2 = 7.699874869154869e-11\n",
      "[01-07 15:49:16][INFO] jax_fem: Solve took 1.0696532726287842 [s]\n",
      "[01-07 15:49:16][DEBUG] jax_fem: max of dofs = 7903.198169334276\n",
      "[01-07 15:49:16][DEBUG] jax_fem: min of dofs = 299.9999798562798\n",
      "[01-07 15:49:16][DEBUG] jax_fem: Calling the row elimination solver for imposing Dirichlet B.C.\n",
      "[01-07 15:49:16][DEBUG] jax_fem: Start timing\n",
      "[01-07 15:49:16][DEBUG] jax_fem: Computing cell Jacobian and cell residual...\n",
      "[01-07 15:49:16][DEBUG] jax_fem: Function split_and_compute_cell took 0.0355 seconds\n",
      "[01-07 15:49:16][DEBUG] jax_fem: Creating sparse matrix with scipy...\n",
      "[01-07 15:49:16][DEBUG] jax_fem: Before, res l_2 = 13884.862724997207\n",
      "[01-07 15:49:16][DEBUG] jax_fem: Solving linear system...\n",
      "[01-07 15:49:16][DEBUG] jax_fem: JAX Solver - Solving linear system\n"
     ]
    },
    {
     "name": "stdout",
     "output_type": "stream",
     "text": [
      "\n",
      "Step 14, total step = 500, laser_x = 0.000139, Lx = 0.0005, laser ON = True\n"
     ]
    },
    {
     "name": "stderr",
     "output_type": "stream",
     "text": [
      "[01-07 15:49:16][DEBUG] jax_fem: JAX Solver - Finshed solving, res = 1.1477064907743455e-06\n",
      "[01-07 15:49:16][DEBUG] jax_fem: Computing cell Jacobian and cell residual...\n",
      "[01-07 15:49:16][DEBUG] jax_fem: Function split_and_compute_cell took 0.0355 seconds\n",
      "[01-07 15:49:16][DEBUG] jax_fem: Creating sparse matrix with scipy...\n",
      "[01-07 15:49:16][DEBUG] jax_fem: res l_2 = 1.147706492655722e-06\n",
      "[01-07 15:49:16][DEBUG] jax_fem: Solving linear system...\n",
      "[01-07 15:49:16][DEBUG] jax_fem: JAX Solver - Solving linear system\n",
      "[01-07 15:49:17][DEBUG] jax_fem: JAX Solver - Finshed solving, res = 8.749357866038389e-11\n",
      "[01-07 15:49:17][DEBUG] jax_fem: Computing cell Jacobian and cell residual...\n",
      "[01-07 15:49:17][DEBUG] jax_fem: Function split_and_compute_cell took 0.0380 seconds\n",
      "[01-07 15:49:17][DEBUG] jax_fem: Creating sparse matrix with scipy...\n",
      "[01-07 15:49:17][DEBUG] jax_fem: res l_2 = 8.749369593414094e-11\n",
      "[01-07 15:49:17][INFO] jax_fem: Solve took 1.0820298194885254 [s]\n",
      "[01-07 15:49:17][DEBUG] jax_fem: max of dofs = 8250.51376998625\n",
      "[01-07 15:49:17][DEBUG] jax_fem: min of dofs = 299.9999809701269\n",
      "[01-07 15:49:17][DEBUG] jax_fem: Calling the row elimination solver for imposing Dirichlet B.C.\n",
      "[01-07 15:49:17][DEBUG] jax_fem: Start timing\n",
      "[01-07 15:49:17][DEBUG] jax_fem: Computing cell Jacobian and cell residual...\n",
      "[01-07 15:49:17][DEBUG] jax_fem: Function split_and_compute_cell took 0.0443 seconds\n",
      "[01-07 15:49:17][DEBUG] jax_fem: Creating sparse matrix with scipy...\n",
      "[01-07 15:49:17][DEBUG] jax_fem: Before, res l_2 = 13884.893176828224\n",
      "[01-07 15:49:17][DEBUG] jax_fem: Solving linear system...\n",
      "[01-07 15:49:17][DEBUG] jax_fem: JAX Solver - Solving linear system\n"
     ]
    },
    {
     "name": "stdout",
     "output_type": "stream",
     "text": [
      "\n",
      "Step 15, total step = 500, laser_x = 0.00014, Lx = 0.0005, laser ON = True\n"
     ]
    },
    {
     "name": "stderr",
     "output_type": "stream",
     "text": [
      "[01-07 15:49:17][DEBUG] jax_fem: JAX Solver - Finshed solving, res = 1.2829358838594196e-06\n",
      "[01-07 15:49:17][DEBUG] jax_fem: Computing cell Jacobian and cell residual...\n",
      "[01-07 15:49:17][DEBUG] jax_fem: Function split_and_compute_cell took 0.0412 seconds\n",
      "[01-07 15:49:17][DEBUG] jax_fem: Creating sparse matrix with scipy...\n",
      "[01-07 15:49:17][DEBUG] jax_fem: res l_2 = 1.2829358856157507e-06\n",
      "[01-07 15:49:17][DEBUG] jax_fem: Solving linear system...\n",
      "[01-07 15:49:17][DEBUG] jax_fem: JAX Solver - Solving linear system\n",
      "[01-07 15:49:18][DEBUG] jax_fem: JAX Solver - Finshed solving, res = 9.876655488178552e-11\n",
      "[01-07 15:49:18][DEBUG] jax_fem: Computing cell Jacobian and cell residual...\n",
      "[01-07 15:49:18][DEBUG] jax_fem: Function split_and_compute_cell took 0.0320 seconds\n",
      "[01-07 15:49:18][DEBUG] jax_fem: Creating sparse matrix with scipy...\n",
      "[01-07 15:49:18][DEBUG] jax_fem: res l_2 = 9.876642455101043e-11\n",
      "[01-07 15:49:18][INFO] jax_fem: Solve took 1.0726239681243896 [s]\n",
      "[01-07 15:49:18][DEBUG] jax_fem: max of dofs = 8570.753482742793\n",
      "[01-07 15:49:18][DEBUG] jax_fem: min of dofs = 299.9999817316285\n",
      "[01-07 15:49:18][DEBUG] jax_fem: Calling the row elimination solver for imposing Dirichlet B.C.\n",
      "[01-07 15:49:18][DEBUG] jax_fem: Start timing\n",
      "[01-07 15:49:18][DEBUG] jax_fem: Computing cell Jacobian and cell residual...\n",
      "[01-07 15:49:18][DEBUG] jax_fem: Function split_and_compute_cell took 0.0336 seconds\n",
      "[01-07 15:49:18][DEBUG] jax_fem: Creating sparse matrix with scipy...\n",
      "[01-07 15:49:18][DEBUG] jax_fem: Before, res l_2 = 13884.924453948974\n",
      "[01-07 15:49:18][DEBUG] jax_fem: Solving linear system...\n",
      "[01-07 15:49:18][DEBUG] jax_fem: JAX Solver - Solving linear system\n"
     ]
    },
    {
     "name": "stdout",
     "output_type": "stream",
     "text": [
      "\n",
      "Step 16, total step = 500, laser_x = 0.000141, Lx = 0.0005, laser ON = True\n"
     ]
    },
    {
     "name": "stderr",
     "output_type": "stream",
     "text": [
      "[01-07 15:49:18][DEBUG] jax_fem: JAX Solver - Finshed solving, res = 5.987508138450826e-07\n",
      "[01-07 15:49:18][DEBUG] jax_fem: Computing cell Jacobian and cell residual...\n",
      "[01-07 15:49:18][DEBUG] jax_fem: Function split_and_compute_cell took 0.0386 seconds\n",
      "[01-07 15:49:18][DEBUG] jax_fem: Creating sparse matrix with scipy...\n",
      "[01-07 15:49:19][DEBUG] jax_fem: res l_2 = 5.987508139706758e-07\n",
      "[01-07 15:49:19][INFO] jax_fem: Solve took 0.5905277729034424 [s]\n",
      "[01-07 15:49:19][DEBUG] jax_fem: max of dofs = 8877.632967680427\n",
      "[01-07 15:49:19][DEBUG] jax_fem: min of dofs = 299.99998262092043\n",
      "[01-07 15:49:19][DEBUG] jax_fem: Calling the row elimination solver for imposing Dirichlet B.C.\n",
      "[01-07 15:49:19][DEBUG] jax_fem: Start timing\n",
      "[01-07 15:49:19][DEBUG] jax_fem: Computing cell Jacobian and cell residual...\n",
      "[01-07 15:49:19][DEBUG] jax_fem: Function split_and_compute_cell took 0.0376 seconds\n",
      "[01-07 15:49:19][DEBUG] jax_fem: Creating sparse matrix with scipy...\n",
      "[01-07 15:49:19][DEBUG] jax_fem: Before, res l_2 = 13884.956475317102\n",
      "[01-07 15:49:19][DEBUG] jax_fem: Solving linear system...\n",
      "[01-07 15:49:19][DEBUG] jax_fem: JAX Solver - Solving linear system\n"
     ]
    },
    {
     "name": "stdout",
     "output_type": "stream",
     "text": [
      "\n",
      "Step 17, total step = 500, laser_x = 0.000142, Lx = 0.0005, laser ON = True\n"
     ]
    },
    {
     "name": "stderr",
     "output_type": "stream",
     "text": [
      "[01-07 15:49:19][DEBUG] jax_fem: JAX Solver - Finshed solving, res = 6.504730758115493e-07\n",
      "[01-07 15:49:19][DEBUG] jax_fem: Computing cell Jacobian and cell residual...\n",
      "[01-07 15:49:19][DEBUG] jax_fem: Function split_and_compute_cell took 0.0377 seconds\n",
      "[01-07 15:49:19][DEBUG] jax_fem: Creating sparse matrix with scipy...\n",
      "[01-07 15:49:19][DEBUG] jax_fem: res l_2 = 6.504730782235735e-07\n",
      "[01-07 15:49:19][INFO] jax_fem: Solve took 0.5823357105255127 [s]\n",
      "[01-07 15:49:19][DEBUG] jax_fem: max of dofs = 9230.532188345347\n",
      "[01-07 15:49:19][DEBUG] jax_fem: min of dofs = 299.999983437923\n",
      "[01-07 15:49:19][DEBUG] jax_fem: Calling the row elimination solver for imposing Dirichlet B.C.\n",
      "[01-07 15:49:19][DEBUG] jax_fem: Start timing\n",
      "[01-07 15:49:19][DEBUG] jax_fem: Computing cell Jacobian and cell residual...\n",
      "[01-07 15:49:19][DEBUG] jax_fem: Function split_and_compute_cell took 0.0296 seconds\n",
      "[01-07 15:49:19][DEBUG] jax_fem: Creating sparse matrix with scipy...\n",
      "[01-07 15:49:19][DEBUG] jax_fem: Before, res l_2 = 13884.989164213099\n",
      "[01-07 15:49:19][DEBUG] jax_fem: Solving linear system...\n",
      "[01-07 15:49:19][DEBUG] jax_fem: JAX Solver - Solving linear system\n"
     ]
    },
    {
     "name": "stdout",
     "output_type": "stream",
     "text": [
      "\n",
      "Step 18, total step = 500, laser_x = 0.000143, Lx = 0.0005, laser ON = True\n"
     ]
    },
    {
     "name": "stderr",
     "output_type": "stream",
     "text": [
      "[01-07 15:49:20][DEBUG] jax_fem: JAX Solver - Finshed solving, res = 6.988705853517735e-07\n",
      "[01-07 15:49:20][DEBUG] jax_fem: Computing cell Jacobian and cell residual...\n",
      "[01-07 15:49:20][DEBUG] jax_fem: Function split_and_compute_cell took 0.0724 seconds\n",
      "[01-07 15:49:20][DEBUG] jax_fem: Creating sparse matrix with scipy...\n",
      "[01-07 15:49:20][DEBUG] jax_fem: res l_2 = 6.988705849407503e-07\n",
      "[01-07 15:49:20][INFO] jax_fem: Solve took 0.6934258937835693 [s]\n",
      "[01-07 15:49:20][DEBUG] jax_fem: max of dofs = 9563.227743080266\n",
      "[01-07 15:49:20][DEBUG] jax_fem: min of dofs = 299.99998420599985\n",
      "[01-07 15:49:20][DEBUG] jax_fem: Calling the row elimination solver for imposing Dirichlet B.C.\n",
      "[01-07 15:49:20][DEBUG] jax_fem: Start timing\n",
      "[01-07 15:49:20][DEBUG] jax_fem: Computing cell Jacobian and cell residual...\n",
      "[01-07 15:49:20][DEBUG] jax_fem: Function split_and_compute_cell took 0.0477 seconds\n",
      "[01-07 15:49:20][DEBUG] jax_fem: Creating sparse matrix with scipy...\n",
      "[01-07 15:49:20][DEBUG] jax_fem: Before, res l_2 = 13885.022447862322\n",
      "[01-07 15:49:20][DEBUG] jax_fem: Solving linear system...\n",
      "[01-07 15:49:20][DEBUG] jax_fem: JAX Solver - Solving linear system\n"
     ]
    },
    {
     "name": "stdout",
     "output_type": "stream",
     "text": [
      "\n",
      "Step 19, total step = 500, laser_x = 0.000144, Lx = 0.0005, laser ON = True\n"
     ]
    },
    {
     "name": "stderr",
     "output_type": "stream",
     "text": [
      "[01-07 15:49:20][DEBUG] jax_fem: JAX Solver - Finshed solving, res = 7.437612455451755e-07\n",
      "[01-07 15:49:20][DEBUG] jax_fem: Computing cell Jacobian and cell residual...\n",
      "[01-07 15:49:20][DEBUG] jax_fem: Function split_and_compute_cell took 0.0370 seconds\n",
      "[01-07 15:49:20][DEBUG] jax_fem: Creating sparse matrix with scipy...\n",
      "[01-07 15:49:20][DEBUG] jax_fem: res l_2 = 7.437612439524951e-07\n",
      "[01-07 15:49:20][INFO] jax_fem: Solve took 0.5799095630645752 [s]\n",
      "[01-07 15:49:20][DEBUG] jax_fem: max of dofs = 9875.756280945132\n",
      "[01-07 15:49:20][DEBUG] jax_fem: min of dofs = 299.9999849252933\n",
      "[01-07 15:49:20][DEBUG] jax_fem: Calling the row elimination solver for imposing Dirichlet B.C.\n",
      "[01-07 15:49:20][DEBUG] jax_fem: Start timing\n",
      "[01-07 15:49:20][DEBUG] jax_fem: Computing cell Jacobian and cell residual...\n",
      "[01-07 15:49:20][DEBUG] jax_fem: Function split_and_compute_cell took 0.0341 seconds\n",
      "[01-07 15:49:21][DEBUG] jax_fem: Creating sparse matrix with scipy...\n",
      "[01-07 15:49:21][DEBUG] jax_fem: Before, res l_2 = 13885.056257133021\n",
      "[01-07 15:49:21][DEBUG] jax_fem: Solving linear system...\n",
      "[01-07 15:49:21][DEBUG] jax_fem: JAX Solver - Solving linear system\n"
     ]
    },
    {
     "name": "stdout",
     "output_type": "stream",
     "text": [
      "\n",
      "Step 20, total step = 500, laser_x = 0.000145, Lx = 0.0005, laser ON = True\n"
     ]
    },
    {
     "name": "stderr",
     "output_type": "stream",
     "text": [
      "[01-07 15:49:21][DEBUG] jax_fem: JAX Solver - Finshed solving, res = 7.851893578357775e-07\n",
      "[01-07 15:49:21][DEBUG] jax_fem: Computing cell Jacobian and cell residual...\n",
      "[01-07 15:49:21][DEBUG] jax_fem: Function split_and_compute_cell took 0.0374 seconds\n",
      "[01-07 15:49:21][DEBUG] jax_fem: Creating sparse matrix with scipy...\n",
      "[01-07 15:49:21][DEBUG] jax_fem: res l_2 = 7.851893615028094e-07\n",
      "[01-07 15:49:21][INFO] jax_fem: Solve took 0.5772531032562256 [s]\n",
      "[01-07 15:49:21][DEBUG] jax_fem: max of dofs = 10168.18339413\n",
      "[01-07 15:49:21][DEBUG] jax_fem: min of dofs = 299.9999856059428\n",
      "[01-07 15:49:21][DEBUG] jax_fem: Calling the row elimination solver for imposing Dirichlet B.C.\n",
      "[01-07 15:49:21][DEBUG] jax_fem: Start timing\n",
      "[01-07 15:49:21][DEBUG] jax_fem: Computing cell Jacobian and cell residual...\n",
      "[01-07 15:49:21][DEBUG] jax_fem: Function split_and_compute_cell took 0.2467 seconds\n",
      "[01-07 15:49:21][DEBUG] jax_fem: Creating sparse matrix with scipy...\n",
      "[01-07 15:49:22][DEBUG] jax_fem: Before, res l_2 = 0.0\n",
      "[01-07 15:49:22][INFO] jax_fem: Solve took 0.5003988742828369 [s]\n",
      "[01-07 15:49:22][DEBUG] jax_fem: max of dofs = 0.0\n",
      "[01-07 15:49:22][DEBUG] jax_fem: min of dofs = 0.0\n",
      "[01-07 15:49:22][DEBUG] jax_fem: Calling the row elimination solver for imposing Dirichlet B.C.\n",
      "[01-07 15:49:22][DEBUG] jax_fem: Start timing\n",
      "[01-07 15:49:22][DEBUG] jax_fem: Computing cell Jacobian and cell residual...\n",
      "[01-07 15:49:22][DEBUG] jax_fem: Function split_and_compute_cell took 0.0344 seconds\n",
      "[01-07 15:49:22][DEBUG] jax_fem: Creating sparse matrix with scipy...\n",
      "[01-07 15:49:22][DEBUG] jax_fem: Before, res l_2 = 13885.090526295466\n",
      "[01-07 15:49:22][DEBUG] jax_fem: Solving linear system...\n",
      "[01-07 15:49:22][DEBUG] jax_fem: JAX Solver - Solving linear system\n"
     ]
    },
    {
     "name": "stdout",
     "output_type": "stream",
     "text": [
      "max f_plus = 0.0, max stress_xx = 0.0\n",
      "\n",
      "Step 21, total step = 500, laser_x = 0.000146, Lx = 0.0005, laser ON = True\n"
     ]
    },
    {
     "name": "stderr",
     "output_type": "stream",
     "text": [
      "[01-07 15:49:22][DEBUG] jax_fem: JAX Solver - Finshed solving, res = 8.233178912251507e-07\n",
      "[01-07 15:49:22][DEBUG] jax_fem: Computing cell Jacobian and cell residual...\n",
      "[01-07 15:49:22][DEBUG] jax_fem: Function split_and_compute_cell took 0.0385 seconds\n",
      "[01-07 15:49:22][DEBUG] jax_fem: Creating sparse matrix with scipy...\n",
      "[01-07 15:49:22][DEBUG] jax_fem: res l_2 = 8.233178846915198e-07\n",
      "[01-07 15:49:22][INFO] jax_fem: Solve took 0.5840411186218262 [s]\n",
      "[01-07 15:49:22][DEBUG] jax_fem: max of dofs = 10440.611882261557\n",
      "[01-07 15:49:22][DEBUG] jax_fem: min of dofs = 299.99998626049563\n",
      "[01-07 15:49:22][DEBUG] jax_fem: Calling the row elimination solver for imposing Dirichlet B.C.\n",
      "[01-07 15:49:22][DEBUG] jax_fem: Start timing\n",
      "[01-07 15:49:22][DEBUG] jax_fem: Computing cell Jacobian and cell residual...\n",
      "[01-07 15:49:22][DEBUG] jax_fem: Function split_and_compute_cell took 0.0382 seconds\n",
      "[01-07 15:49:22][DEBUG] jax_fem: Creating sparse matrix with scipy...\n",
      "[01-07 15:49:22][DEBUG] jax_fem: Before, res l_2 = 13885.125192829371\n",
      "[01-07 15:49:22][DEBUG] jax_fem: Solving linear system...\n",
      "[01-07 15:49:22][DEBUG] jax_fem: JAX Solver - Solving linear system\n"
     ]
    },
    {
     "name": "stdout",
     "output_type": "stream",
     "text": [
      "\n",
      "Step 22, total step = 500, laser_x = 0.000147, Lx = 0.0005, laser ON = True\n"
     ]
    },
    {
     "name": "stderr",
     "output_type": "stream",
     "text": [
      "[01-07 15:49:23][DEBUG] jax_fem: JAX Solver - Finshed solving, res = 8.583676910401024e-07\n",
      "[01-07 15:49:23][DEBUG] jax_fem: Computing cell Jacobian and cell residual...\n",
      "[01-07 15:49:23][DEBUG] jax_fem: Function split_and_compute_cell took 0.0398 seconds\n",
      "[01-07 15:49:23][DEBUG] jax_fem: Creating sparse matrix with scipy...\n",
      "[01-07 15:49:23][DEBUG] jax_fem: res l_2 = 8.583676947633978e-07\n",
      "[01-07 15:49:23][INFO] jax_fem: Solve took 0.584632158279419 [s]\n",
      "[01-07 15:49:23][DEBUG] jax_fem: max of dofs = 10693.187486414765\n",
      "[01-07 15:49:23][DEBUG] jax_fem: min of dofs = 299.99998688892623\n",
      "[01-07 15:49:23][DEBUG] jax_fem: Calling the row elimination solver for imposing Dirichlet B.C.\n",
      "[01-07 15:49:23][DEBUG] jax_fem: Start timing\n",
      "[01-07 15:49:23][DEBUG] jax_fem: Computing cell Jacobian and cell residual...\n",
      "[01-07 15:49:23][DEBUG] jax_fem: Function split_and_compute_cell took 0.0315 seconds\n",
      "[01-07 15:49:23][DEBUG] jax_fem: Creating sparse matrix with scipy...\n",
      "[01-07 15:49:23][DEBUG] jax_fem: Before, res l_2 = 13885.160197268928\n",
      "[01-07 15:49:23][DEBUG] jax_fem: Solving linear system...\n",
      "[01-07 15:49:23][DEBUG] jax_fem: JAX Solver - Solving linear system\n"
     ]
    },
    {
     "name": "stdout",
     "output_type": "stream",
     "text": [
      "\n",
      "Step 23, total step = 500, laser_x = 0.000148, Lx = 0.0005, laser ON = True\n"
     ]
    },
    {
     "name": "stderr",
     "output_type": "stream",
     "text": [
      "[01-07 15:49:23][DEBUG] jax_fem: JAX Solver - Finshed solving, res = 8.905701443171577e-07\n",
      "[01-07 15:49:23][DEBUG] jax_fem: Computing cell Jacobian and cell residual...\n",
      "[01-07 15:49:23][DEBUG] jax_fem: Function split_and_compute_cell took 0.0304 seconds\n",
      "[01-07 15:49:23][DEBUG] jax_fem: Creating sparse matrix with scipy...\n",
      "[01-07 15:49:24][DEBUG] jax_fem: res l_2 = 8.90570149302459e-07\n",
      "[01-07 15:49:24][INFO] jax_fem: Solve took 0.5618209838867188 [s]\n",
      "[01-07 15:49:24][DEBUG] jax_fem: max of dofs = 10926.102426658264\n",
      "[01-07 15:49:24][DEBUG] jax_fem: min of dofs = 299.99998749061484\n",
      "[01-07 15:49:24][DEBUG] jax_fem: Calling the row elimination solver for imposing Dirichlet B.C.\n",
      "[01-07 15:49:24][DEBUG] jax_fem: Start timing\n",
      "[01-07 15:49:24][DEBUG] jax_fem: Computing cell Jacobian and cell residual...\n",
      "[01-07 15:49:24][DEBUG] jax_fem: Function split_and_compute_cell took 0.0324 seconds\n",
      "[01-07 15:49:24][DEBUG] jax_fem: Creating sparse matrix with scipy...\n",
      "[01-07 15:49:24][DEBUG] jax_fem: Before, res l_2 = 13885.19548307652\n",
      "[01-07 15:49:24][DEBUG] jax_fem: Solving linear system...\n",
      "[01-07 15:49:24][DEBUG] jax_fem: JAX Solver - Solving linear system\n"
     ]
    },
    {
     "name": "stdout",
     "output_type": "stream",
     "text": [
      "\n",
      "Step 24, total step = 500, laser_x = 0.000149, Lx = 0.0005, laser ON = True\n"
     ]
    },
    {
     "name": "stderr",
     "output_type": "stream",
     "text": [
      "[01-07 15:49:24][DEBUG] jax_fem: JAX Solver - Finshed solving, res = 9.201245288665127e-07\n",
      "[01-07 15:49:24][DEBUG] jax_fem: Computing cell Jacobian and cell residual...\n",
      "[01-07 15:49:24][DEBUG] jax_fem: Function split_and_compute_cell took 0.0347 seconds\n",
      "[01-07 15:49:24][DEBUG] jax_fem: Creating sparse matrix with scipy...\n",
      "[01-07 15:49:24][DEBUG] jax_fem: res l_2 = 9.201245312806038e-07\n",
      "[01-07 15:49:24][INFO] jax_fem: Solve took 0.6192722320556641 [s]\n",
      "[01-07 15:49:24][DEBUG] jax_fem: max of dofs = 11139.59706660705\n",
      "[01-07 15:49:24][DEBUG] jax_fem: min of dofs = 299.9999880648582\n",
      "[01-07 15:49:24][DEBUG] jax_fem: Calling the row elimination solver for imposing Dirichlet B.C.\n",
      "[01-07 15:49:24][DEBUG] jax_fem: Start timing\n",
      "[01-07 15:49:24][DEBUG] jax_fem: Computing cell Jacobian and cell residual...\n",
      "[01-07 15:49:24][DEBUG] jax_fem: Function split_and_compute_cell took 0.0308 seconds\n",
      "[01-07 15:49:24][DEBUG] jax_fem: Creating sparse matrix with scipy...\n",
      "[01-07 15:49:24][DEBUG] jax_fem: Before, res l_2 = 13885.230996537875\n",
      "[01-07 15:49:24][DEBUG] jax_fem: Solving linear system...\n",
      "[01-07 15:49:24][DEBUG] jax_fem: JAX Solver - Solving linear system\n"
     ]
    },
    {
     "name": "stdout",
     "output_type": "stream",
     "text": [
      "\n",
      "Step 25, total step = 500, laser_x = 0.00015000000000000001, Lx = 0.0005, laser ON = True\n"
     ]
    },
    {
     "name": "stderr",
     "output_type": "stream",
     "text": [
      "[01-07 15:49:25][DEBUG] jax_fem: JAX Solver - Finshed solving, res = 9.47171237006741e-07\n",
      "[01-07 15:49:25][DEBUG] jax_fem: Computing cell Jacobian and cell residual...\n",
      "[01-07 15:49:25][DEBUG] jax_fem: Function split_and_compute_cell took 0.0405 seconds\n",
      "[01-07 15:49:25][DEBUG] jax_fem: Creating sparse matrix with scipy...\n",
      "[01-07 15:49:25][DEBUG] jax_fem: res l_2 = 9.471712350216655e-07\n",
      "[01-07 15:49:25][INFO] jax_fem: Solve took 0.5961298942565918 [s]\n",
      "[01-07 15:49:25][DEBUG] jax_fem: max of dofs = 11333.960013787872\n",
      "[01-07 15:49:25][DEBUG] jax_fem: min of dofs = 299.99998861118496\n",
      "[01-07 15:49:25][DEBUG] jax_fem: Calling the row elimination solver for imposing Dirichlet B.C.\n",
      "[01-07 15:49:25][DEBUG] jax_fem: Start timing\n",
      "[01-07 15:49:25][DEBUG] jax_fem: Computing cell Jacobian and cell residual...\n",
      "[01-07 15:49:25][DEBUG] jax_fem: Function split_and_compute_cell took 0.0318 seconds\n",
      "[01-07 15:49:25][DEBUG] jax_fem: Creating sparse matrix with scipy...\n",
      "[01-07 15:49:25][DEBUG] jax_fem: Before, res l_2 = 13885.266686672745\n",
      "[01-07 15:49:25][DEBUG] jax_fem: Solving linear system...\n",
      "[01-07 15:49:25][DEBUG] jax_fem: JAX Solver - Solving linear system\n"
     ]
    },
    {
     "name": "stdout",
     "output_type": "stream",
     "text": [
      "\n",
      "Step 26, total step = 500, laser_x = 0.000151, Lx = 0.0005, laser ON = True\n"
     ]
    },
    {
     "name": "stderr",
     "output_type": "stream",
     "text": [
      "[01-07 15:49:25][DEBUG] jax_fem: JAX Solver - Finshed solving, res = 9.717989699803258e-07\n",
      "[01-07 15:49:25][DEBUG] jax_fem: Computing cell Jacobian and cell residual...\n",
      "[01-07 15:49:25][DEBUG] jax_fem: Function split_and_compute_cell took 0.0302 seconds\n",
      "[01-07 15:49:25][DEBUG] jax_fem: Creating sparse matrix with scipy...\n",
      "[01-07 15:49:25][DEBUG] jax_fem: res l_2 = 9.717989727377683e-07\n",
      "[01-07 15:49:25][INFO] jax_fem: Solve took 0.557464599609375 [s]\n",
      "[01-07 15:49:25][DEBUG] jax_fem: max of dofs = 11509.526946112373\n",
      "[01-07 15:49:25][DEBUG] jax_fem: min of dofs = 299.99998912953356\n",
      "[01-07 15:49:25][DEBUG] jax_fem: Calling the row elimination solver for imposing Dirichlet B.C.\n",
      "[01-07 15:49:25][DEBUG] jax_fem: Start timing\n",
      "[01-07 15:49:25][DEBUG] jax_fem: Computing cell Jacobian and cell residual...\n",
      "[01-07 15:49:25][DEBUG] jax_fem: Function split_and_compute_cell took 0.0316 seconds\n",
      "[01-07 15:49:25][DEBUG] jax_fem: Creating sparse matrix with scipy...\n",
      "[01-07 15:49:25][DEBUG] jax_fem: Before, res l_2 = 13885.30250515644\n",
      "[01-07 15:49:25][DEBUG] jax_fem: Solving linear system...\n",
      "[01-07 15:49:25][DEBUG] jax_fem: JAX Solver - Solving linear system\n"
     ]
    },
    {
     "name": "stdout",
     "output_type": "stream",
     "text": [
      "\n",
      "Step 27, total step = 500, laser_x = 0.000152, Lx = 0.0005, laser ON = True\n"
     ]
    },
    {
     "name": "stderr",
     "output_type": "stream",
     "text": [
      "[01-07 15:49:26][DEBUG] jax_fem: JAX Solver - Finshed solving, res = 9.940939801763405e-07\n",
      "[01-07 15:49:26][DEBUG] jax_fem: Computing cell Jacobian and cell residual...\n",
      "[01-07 15:49:26][DEBUG] jax_fem: Function split_and_compute_cell took 0.0366 seconds\n",
      "[01-07 15:49:26][DEBUG] jax_fem: Creating sparse matrix with scipy...\n",
      "[01-07 15:49:26][DEBUG] jax_fem: res l_2 = 9.94093980737969e-07\n",
      "[01-07 15:49:26][INFO] jax_fem: Solve took 0.576047420501709 [s]\n",
      "[01-07 15:49:26][DEBUG] jax_fem: max of dofs = 11666.678432762017\n",
      "[01-07 15:49:26][DEBUG] jax_fem: min of dofs = 299.9999896203278\n",
      "[01-07 15:49:26][DEBUG] jax_fem: Calling the row elimination solver for imposing Dirichlet B.C.\n",
      "[01-07 15:49:26][DEBUG] jax_fem: Start timing\n",
      "[01-07 15:49:26][DEBUG] jax_fem: Computing cell Jacobian and cell residual...\n",
      "[01-07 15:49:26][DEBUG] jax_fem: Function split_and_compute_cell took 0.0372 seconds\n",
      "[01-07 15:49:26][DEBUG] jax_fem: Creating sparse matrix with scipy...\n",
      "[01-07 15:49:26][DEBUG] jax_fem: Before, res l_2 = 13885.338406248562\n",
      "[01-07 15:49:26][DEBUG] jax_fem: Solving linear system...\n",
      "[01-07 15:49:26][DEBUG] jax_fem: JAX Solver - Solving linear system\n"
     ]
    },
    {
     "name": "stdout",
     "output_type": "stream",
     "text": [
      "\n",
      "Step 28, total step = 500, laser_x = 0.000153, Lx = 0.0005, laser ON = True\n"
     ]
    },
    {
     "name": "stderr",
     "output_type": "stream",
     "text": [
      "[01-07 15:49:26][DEBUG] jax_fem: JAX Solver - Finshed solving, res = 1.0142172406843213e-06\n",
      "[01-07 15:49:26][DEBUG] jax_fem: Computing cell Jacobian and cell residual...\n",
      "[01-07 15:49:26][DEBUG] jax_fem: Function split_and_compute_cell took 0.0346 seconds\n",
      "[01-07 15:49:26][DEBUG] jax_fem: Creating sparse matrix with scipy...\n",
      "[01-07 15:49:27][DEBUG] jax_fem: res l_2 = 1.0142172374176977e-06\n",
      "[01-07 15:49:27][DEBUG] jax_fem: Solving linear system...\n",
      "[01-07 15:49:27][DEBUG] jax_fem: JAX Solver - Solving linear system\n",
      "[01-07 15:49:27][DEBUG] jax_fem: JAX Solver - Finshed solving, res = 9.045665422987128e-11\n",
      "[01-07 15:49:27][DEBUG] jax_fem: Computing cell Jacobian and cell residual...\n",
      "[01-07 15:49:27][DEBUG] jax_fem: Function split_and_compute_cell took 0.0346 seconds\n",
      "[01-07 15:49:27][DEBUG] jax_fem: Creating sparse matrix with scipy...\n",
      "[01-07 15:49:27][DEBUG] jax_fem: res l_2 = 9.04567780005696e-11\n",
      "[01-07 15:49:27][INFO] jax_fem: Solve took 1.0348117351531982 [s]\n",
      "[01-07 15:49:27][DEBUG] jax_fem: max of dofs = 11805.83690969691\n",
      "[01-07 15:49:27][DEBUG] jax_fem: min of dofs = 299.9999902668924\n",
      "[01-07 15:49:27][DEBUG] jax_fem: Calling the row elimination solver for imposing Dirichlet B.C.\n",
      "[01-07 15:49:27][DEBUG] jax_fem: Start timing\n",
      "[01-07 15:49:27][DEBUG] jax_fem: Computing cell Jacobian and cell residual...\n",
      "[01-07 15:49:27][DEBUG] jax_fem: Function split_and_compute_cell took 0.0293 seconds\n",
      "[01-07 15:49:27][DEBUG] jax_fem: Creating sparse matrix with scipy...\n",
      "[01-07 15:49:27][DEBUG] jax_fem: Before, res l_2 = 13885.374346726085\n",
      "[01-07 15:49:27][DEBUG] jax_fem: Solving linear system...\n",
      "[01-07 15:49:27][DEBUG] jax_fem: JAX Solver - Solving linear system\n"
     ]
    },
    {
     "name": "stdout",
     "output_type": "stream",
     "text": [
      "\n",
      "Step 29, total step = 500, laser_x = 0.000154, Lx = 0.0005, laser ON = True\n"
     ]
    },
    {
     "name": "stderr",
     "output_type": "stream",
     "text": [
      "[01-07 15:49:27][DEBUG] jax_fem: JAX Solver - Finshed solving, res = 1.0335668726745648e-06\n",
      "[01-07 15:49:27][DEBUG] jax_fem: Computing cell Jacobian and cell residual...\n",
      "[01-07 15:49:27][DEBUG] jax_fem: Function split_and_compute_cell took 0.0323 seconds\n",
      "[01-07 15:49:28][DEBUG] jax_fem: Creating sparse matrix with scipy...\n",
      "[01-07 15:49:28][DEBUG] jax_fem: res l_2 = 1.0335668798047e-06\n",
      "[01-07 15:49:28][DEBUG] jax_fem: Solving linear system...\n",
      "[01-07 15:49:28][DEBUG] jax_fem: JAX Solver - Solving linear system\n",
      "[01-07 15:49:28][DEBUG] jax_fem: JAX Solver - Finshed solving, res = 9.626124876426459e-11\n",
      "[01-07 15:49:28][DEBUG] jax_fem: Computing cell Jacobian and cell residual...\n",
      "[01-07 15:49:28][DEBUG] jax_fem: Function split_and_compute_cell took 0.0367 seconds\n",
      "[01-07 15:49:28][DEBUG] jax_fem: Creating sparse matrix with scipy...\n",
      "[01-07 15:49:28][DEBUG] jax_fem: res l_2 = 9.626075783790433e-11\n",
      "[01-07 15:49:28][INFO] jax_fem: Solve took 1.0097107887268066 [s]\n",
      "[01-07 15:49:28][DEBUG] jax_fem: max of dofs = 11927.46355829975\n",
      "[01-07 15:49:28][DEBUG] jax_fem: min of dofs = 299.9999906898269\n",
      "[01-07 15:49:28][DEBUG] jax_fem: Calling the row elimination solver for imposing Dirichlet B.C.\n",
      "[01-07 15:49:28][DEBUG] jax_fem: Start timing\n",
      "[01-07 15:49:28][DEBUG] jax_fem: Computing cell Jacobian and cell residual...\n",
      "[01-07 15:49:28][DEBUG] jax_fem: Function split_and_compute_cell took 0.0335 seconds\n",
      "[01-07 15:49:28][DEBUG] jax_fem: Creating sparse matrix with scipy...\n",
      "[01-07 15:49:28][DEBUG] jax_fem: Before, res l_2 = 13885.410285818802\n",
      "[01-07 15:49:28][DEBUG] jax_fem: Solving linear system...\n",
      "[01-07 15:49:28][DEBUG] jax_fem: JAX Solver - Solving linear system\n"
     ]
    },
    {
     "name": "stdout",
     "output_type": "stream",
     "text": [
      "\n",
      "Step 30, total step = 500, laser_x = 0.000155, Lx = 0.0005, laser ON = True\n"
     ]
    },
    {
     "name": "stderr",
     "output_type": "stream",
     "text": [
      "[01-07 15:49:28][DEBUG] jax_fem: JAX Solver - Finshed solving, res = 1.0509950757303933e-06\n",
      "[01-07 15:49:28][DEBUG] jax_fem: Computing cell Jacobian and cell residual...\n",
      "[01-07 15:49:29][DEBUG] jax_fem: Function split_and_compute_cell took 0.0332 seconds\n",
      "[01-07 15:49:29][DEBUG] jax_fem: Creating sparse matrix with scipy...\n",
      "[01-07 15:49:29][DEBUG] jax_fem: res l_2 = 1.0509950713930644e-06\n",
      "[01-07 15:49:29][DEBUG] jax_fem: Solving linear system...\n",
      "[01-07 15:49:29][DEBUG] jax_fem: JAX Solver - Solving linear system\n",
      "[01-07 15:49:29][DEBUG] jax_fem: JAX Solver - Finshed solving, res = 9.989210198605723e-11\n",
      "[01-07 15:49:29][DEBUG] jax_fem: Computing cell Jacobian and cell residual...\n",
      "[01-07 15:49:29][DEBUG] jax_fem: Function split_and_compute_cell took 0.0378 seconds\n",
      "[01-07 15:49:29][DEBUG] jax_fem: Creating sparse matrix with scipy...\n",
      "[01-07 15:49:29][DEBUG] jax_fem: res l_2 = 9.989196285327355e-11\n",
      "[01-07 15:49:29][INFO] jax_fem: Solve took 1.0531013011932373 [s]\n",
      "[01-07 15:49:29][DEBUG] jax_fem: max of dofs = 12094.75078170508\n",
      "[01-07 15:49:29][DEBUG] jax_fem: min of dofs = 299.99999076688255\n",
      "[01-07 15:49:29][DEBUG] jax_fem: Calling the row elimination solver for imposing Dirichlet B.C.\n",
      "[01-07 15:49:29][DEBUG] jax_fem: Start timing\n",
      "[01-07 15:49:29][DEBUG] jax_fem: Computing cell Jacobian and cell residual...\n",
      "[01-07 15:49:29][DEBUG] jax_fem: Function split_and_compute_cell took 0.2370 seconds\n",
      "[01-07 15:49:29][DEBUG] jax_fem: Creating sparse matrix with scipy...\n",
      "[01-07 15:49:30][DEBUG] jax_fem: Before, res l_2 = 0.0\n",
      "[01-07 15:49:30][INFO] jax_fem: Solve took 0.48911309242248535 [s]\n",
      "[01-07 15:49:30][DEBUG] jax_fem: max of dofs = 0.0\n",
      "[01-07 15:49:30][DEBUG] jax_fem: min of dofs = 0.0\n",
      "[01-07 15:49:30][DEBUG] jax_fem: Calling the row elimination solver for imposing Dirichlet B.C.\n",
      "[01-07 15:49:30][DEBUG] jax_fem: Start timing\n",
      "[01-07 15:49:30][DEBUG] jax_fem: Computing cell Jacobian and cell residual...\n",
      "[01-07 15:49:30][DEBUG] jax_fem: Function split_and_compute_cell took 0.0375 seconds\n",
      "[01-07 15:49:30][DEBUG] jax_fem: Creating sparse matrix with scipy...\n",
      "[01-07 15:49:30][DEBUG] jax_fem: Before, res l_2 = 13885.446185145425\n",
      "[01-07 15:49:30][DEBUG] jax_fem: Solving linear system...\n",
      "[01-07 15:49:30][DEBUG] jax_fem: JAX Solver - Solving linear system\n"
     ]
    },
    {
     "name": "stdout",
     "output_type": "stream",
     "text": [
      "max f_plus = 0.0, max stress_xx = 0.0\n",
      "\n",
      "Step 31, total step = 500, laser_x = 0.000156, Lx = 0.0005, laser ON = True\n"
     ]
    },
    {
     "name": "stderr",
     "output_type": "stream",
     "text": [
      "[01-07 15:49:30][DEBUG] jax_fem: JAX Solver - Finshed solving, res = 1.0673561099865677e-06\n",
      "[01-07 15:49:30][DEBUG] jax_fem: Computing cell Jacobian and cell residual...\n",
      "[01-07 15:49:30][DEBUG] jax_fem: Function split_and_compute_cell took 0.0362 seconds\n",
      "[01-07 15:49:30][DEBUG] jax_fem: Creating sparse matrix with scipy...\n",
      "[01-07 15:49:30][DEBUG] jax_fem: res l_2 = 1.0673561151402164e-06\n",
      "[01-07 15:49:30][DEBUG] jax_fem: Solving linear system...\n",
      "[01-07 15:49:30][DEBUG] jax_fem: JAX Solver - Solving linear system\n",
      "[01-07 15:49:31][DEBUG] jax_fem: JAX Solver - Finshed solving, res = 9.890041805204622e-11\n",
      "[01-07 15:49:31][DEBUG] jax_fem: Computing cell Jacobian and cell residual...\n",
      "[01-07 15:49:31][DEBUG] jax_fem: Function split_and_compute_cell took 0.0340 seconds\n",
      "[01-07 15:49:31][DEBUG] jax_fem: Creating sparse matrix with scipy...\n",
      "[01-07 15:49:31][DEBUG] jax_fem: res l_2 = 9.889996616679702e-11\n",
      "[01-07 15:49:31][INFO] jax_fem: Solve took 1.099536418914795 [s]\n",
      "[01-07 15:49:31][DEBUG] jax_fem: max of dofs = 12290.604124362813\n",
      "[01-07 15:49:31][DEBUG] jax_fem: min of dofs = 299.9999907438959\n",
      "[01-07 15:49:31][DEBUG] jax_fem: Calling the row elimination solver for imposing Dirichlet B.C.\n",
      "[01-07 15:49:31][DEBUG] jax_fem: Start timing\n",
      "[01-07 15:49:31][DEBUG] jax_fem: Computing cell Jacobian and cell residual...\n",
      "[01-07 15:49:31][DEBUG] jax_fem: Function split_and_compute_cell took 0.0326 seconds\n",
      "[01-07 15:49:31][DEBUG] jax_fem: Creating sparse matrix with scipy...\n",
      "[01-07 15:49:31][DEBUG] jax_fem: Before, res l_2 = 13885.48200864942\n",
      "[01-07 15:49:31][DEBUG] jax_fem: Solving linear system...\n",
      "[01-07 15:49:31][DEBUG] jax_fem: JAX Solver - Solving linear system\n"
     ]
    },
    {
     "name": "stdout",
     "output_type": "stream",
     "text": [
      "\n",
      "Step 32, total step = 500, laser_x = 0.000157, Lx = 0.0005, laser ON = True\n"
     ]
    },
    {
     "name": "stderr",
     "output_type": "stream",
     "text": [
      "[01-07 15:49:31][DEBUG] jax_fem: JAX Solver - Finshed solving, res = 1.083280835336617e-06\n",
      "[01-07 15:49:31][DEBUG] jax_fem: Computing cell Jacobian and cell residual...\n",
      "[01-07 15:49:31][DEBUG] jax_fem: Function split_and_compute_cell took 0.0355 seconds\n",
      "[01-07 15:49:31][DEBUG] jax_fem: Creating sparse matrix with scipy...\n",
      "[01-07 15:49:31][DEBUG] jax_fem: res l_2 = 1.083280841398779e-06\n",
      "[01-07 15:49:31][DEBUG] jax_fem: Solving linear system...\n",
      "[01-07 15:49:31][DEBUG] jax_fem: JAX Solver - Solving linear system\n",
      "[01-07 15:49:32][DEBUG] jax_fem: JAX Solver - Finshed solving, res = 9.101145234796565e-11\n",
      "[01-07 15:49:32][DEBUG] jax_fem: Computing cell Jacobian and cell residual...\n",
      "[01-07 15:49:32][DEBUG] jax_fem: Function split_and_compute_cell took 0.0293 seconds\n",
      "[01-07 15:49:32][DEBUG] jax_fem: Creating sparse matrix with scipy...\n",
      "[01-07 15:49:32][DEBUG] jax_fem: res l_2 = 9.101116709967229e-11\n",
      "[01-07 15:49:32][INFO] jax_fem: Solve took 1.014197587966919 [s]\n",
      "[01-07 15:49:32][DEBUG] jax_fem: max of dofs = 12470.147110328191\n",
      "[01-07 15:49:32][DEBUG] jax_fem: min of dofs = 299.9999907694241\n",
      "[01-07 15:49:32][DEBUG] jax_fem: Calling the row elimination solver for imposing Dirichlet B.C.\n",
      "[01-07 15:49:32][DEBUG] jax_fem: Start timing\n",
      "[01-07 15:49:32][DEBUG] jax_fem: Computing cell Jacobian and cell residual...\n",
      "[01-07 15:49:32][DEBUG] jax_fem: Function split_and_compute_cell took 0.0286 seconds\n",
      "[01-07 15:49:32][DEBUG] jax_fem: Creating sparse matrix with scipy...\n",
      "[01-07 15:49:32][DEBUG] jax_fem: Before, res l_2 = 13885.517722533808\n",
      "[01-07 15:49:32][DEBUG] jax_fem: Solving linear system...\n",
      "[01-07 15:49:32][DEBUG] jax_fem: JAX Solver - Solving linear system\n"
     ]
    },
    {
     "name": "stdout",
     "output_type": "stream",
     "text": [
      "\n",
      "Step 33, total step = 500, laser_x = 0.000158, Lx = 0.0005, laser ON = True\n"
     ]
    },
    {
     "name": "stderr",
     "output_type": "stream",
     "text": [
      "[01-07 15:49:32][DEBUG] jax_fem: JAX Solver - Finshed solving, res = 1.0991031949161912e-06\n",
      "[01-07 15:49:32][DEBUG] jax_fem: Computing cell Jacobian and cell residual...\n",
      "[01-07 15:49:32][DEBUG] jax_fem: Function split_and_compute_cell took 0.0327 seconds\n",
      "[01-07 15:49:33][DEBUG] jax_fem: Creating sparse matrix with scipy...\n",
      "[01-07 15:49:33][DEBUG] jax_fem: res l_2 = 1.0991031977933089e-06\n",
      "[01-07 15:49:33][DEBUG] jax_fem: Solving linear system...\n",
      "[01-07 15:49:33][DEBUG] jax_fem: JAX Solver - Solving linear system\n",
      "[01-07 15:49:33][DEBUG] jax_fem: JAX Solver - Finshed solving, res = 7.829179775573402e-11\n",
      "[01-07 15:49:33][DEBUG] jax_fem: Computing cell Jacobian and cell residual...\n",
      "[01-07 15:49:33][DEBUG] jax_fem: Function split_and_compute_cell took 0.0306 seconds\n",
      "[01-07 15:49:33][DEBUG] jax_fem: Creating sparse matrix with scipy...\n",
      "[01-07 15:49:33][DEBUG] jax_fem: res l_2 = 7.829200554441322e-11\n",
      "[01-07 15:49:33][INFO] jax_fem: Solve took 1.0710549354553223 [s]\n",
      "[01-07 15:49:33][DEBUG] jax_fem: max of dofs = 12633.435930832557\n",
      "[01-07 15:49:33][DEBUG] jax_fem: min of dofs = 299.9999908231216\n",
      "[01-07 15:49:33][DEBUG] jax_fem: Calling the row elimination solver for imposing Dirichlet B.C.\n",
      "[01-07 15:49:33][DEBUG] jax_fem: Start timing\n",
      "[01-07 15:49:33][DEBUG] jax_fem: Computing cell Jacobian and cell residual...\n",
      "[01-07 15:49:33][DEBUG] jax_fem: Function split_and_compute_cell took 0.0353 seconds\n",
      "[01-07 15:49:33][DEBUG] jax_fem: Creating sparse matrix with scipy...\n",
      "[01-07 15:49:33][DEBUG] jax_fem: Before, res l_2 = 13885.553295194595\n",
      "[01-07 15:49:33][DEBUG] jax_fem: Solving linear system...\n",
      "[01-07 15:49:33][DEBUG] jax_fem: JAX Solver - Solving linear system\n"
     ]
    },
    {
     "name": "stdout",
     "output_type": "stream",
     "text": [
      "\n",
      "Step 34, total step = 500, laser_x = 0.00015900000000000002, Lx = 0.0005, laser ON = True\n"
     ]
    },
    {
     "name": "stderr",
     "output_type": "stream",
     "text": [
      "[01-07 15:49:33][DEBUG] jax_fem: JAX Solver - Finshed solving, res = 1.114808187466575e-06\n",
      "[01-07 15:49:33][DEBUG] jax_fem: Computing cell Jacobian and cell residual...\n",
      "[01-07 15:49:34][DEBUG] jax_fem: Function split_and_compute_cell took 0.0386 seconds\n",
      "[01-07 15:49:34][DEBUG] jax_fem: Creating sparse matrix with scipy...\n",
      "[01-07 15:49:34][DEBUG] jax_fem: res l_2 = 1.1148081939769554e-06\n",
      "[01-07 15:49:34][DEBUG] jax_fem: Solving linear system...\n",
      "[01-07 15:49:34][DEBUG] jax_fem: JAX Solver - Solving linear system\n",
      "[01-07 15:49:34][DEBUG] jax_fem: JAX Solver - Finshed solving, res = 5.584265604273187e-11\n",
      "[01-07 15:49:34][DEBUG] jax_fem: Computing cell Jacobian and cell residual...\n",
      "[01-07 15:49:34][DEBUG] jax_fem: Function split_and_compute_cell took 0.0272 seconds\n",
      "[01-07 15:49:34][DEBUG] jax_fem: Creating sparse matrix with scipy...\n",
      "[01-07 15:49:34][DEBUG] jax_fem: res l_2 = 5.5842220380233466e-11\n",
      "[01-07 15:49:34][INFO] jax_fem: Solve took 1.053762674331665 [s]\n",
      "[01-07 15:49:34][DEBUG] jax_fem: max of dofs = 12780.587372024378\n",
      "[01-07 15:49:34][DEBUG] jax_fem: min of dofs = 299.9999908928351\n",
      "[01-07 15:49:34][DEBUG] jax_fem: Calling the row elimination solver for imposing Dirichlet B.C.\n",
      "[01-07 15:49:34][DEBUG] jax_fem: Start timing\n",
      "[01-07 15:49:34][DEBUG] jax_fem: Computing cell Jacobian and cell residual...\n",
      "[01-07 15:49:34][DEBUG] jax_fem: Function split_and_compute_cell took 0.0303 seconds\n",
      "[01-07 15:49:34][DEBUG] jax_fem: Creating sparse matrix with scipy...\n",
      "[01-07 15:49:34][DEBUG] jax_fem: Before, res l_2 = 13885.588697152578\n",
      "[01-07 15:49:34][DEBUG] jax_fem: Solving linear system...\n",
      "[01-07 15:49:34][DEBUG] jax_fem: JAX Solver - Solving linear system\n"
     ]
    },
    {
     "name": "stdout",
     "output_type": "stream",
     "text": [
      "\n",
      "Step 35, total step = 500, laser_x = 0.00015999999999999999, Lx = 0.0005, laser ON = True\n"
     ]
    },
    {
     "name": "stderr",
     "output_type": "stream",
     "text": [
      "[01-07 15:49:35][DEBUG] jax_fem: JAX Solver - Finshed solving, res = 1.130084614112523e-06\n",
      "[01-07 15:49:35][DEBUG] jax_fem: Computing cell Jacobian and cell residual...\n",
      "[01-07 15:49:35][DEBUG] jax_fem: Function split_and_compute_cell took 0.0350 seconds\n",
      "[01-07 15:49:35][DEBUG] jax_fem: Creating sparse matrix with scipy...\n",
      "[01-07 15:49:35][DEBUG] jax_fem: res l_2 = 1.1300846144528578e-06\n",
      "[01-07 15:49:35][DEBUG] jax_fem: Solving linear system...\n",
      "[01-07 15:49:35][DEBUG] jax_fem: JAX Solver - Solving linear system\n",
      "[01-07 15:49:35][DEBUG] jax_fem: JAX Solver - Finshed solving, res = 4.0471050123988644e-11\n",
      "[01-07 15:49:35][DEBUG] jax_fem: Computing cell Jacobian and cell residual...\n",
      "[01-07 15:49:35][DEBUG] jax_fem: Function split_and_compute_cell took 0.0261 seconds\n",
      "[01-07 15:49:35][DEBUG] jax_fem: Creating sparse matrix with scipy...\n",
      "[01-07 15:49:35][DEBUG] jax_fem: res l_2 = 4.0471143146614924e-11\n",
      "[01-07 15:49:35][INFO] jax_fem: Solve took 1.039205551147461 [s]\n",
      "[01-07 15:49:35][DEBUG] jax_fem: max of dofs = 12911.775032244497\n",
      "[01-07 15:49:35][DEBUG] jax_fem: min of dofs = 299.99999097133417\n",
      "[01-07 15:49:35][DEBUG] jax_fem: Calling the row elimination solver for imposing Dirichlet B.C.\n",
      "[01-07 15:49:35][DEBUG] jax_fem: Start timing\n",
      "[01-07 15:49:35][DEBUG] jax_fem: Computing cell Jacobian and cell residual...\n",
      "[01-07 15:49:35][DEBUG] jax_fem: Function split_and_compute_cell took 0.0317 seconds\n",
      "[01-07 15:49:35][DEBUG] jax_fem: Creating sparse matrix with scipy...\n",
      "[01-07 15:49:35][DEBUG] jax_fem: Before, res l_2 = 13885.623900983595\n",
      "[01-07 15:49:35][DEBUG] jax_fem: Solving linear system...\n",
      "[01-07 15:49:35][DEBUG] jax_fem: JAX Solver - Solving linear system\n"
     ]
    },
    {
     "name": "stdout",
     "output_type": "stream",
     "text": [
      "\n",
      "Step 36, total step = 500, laser_x = 0.000161, Lx = 0.0005, laser ON = True\n"
     ]
    },
    {
     "name": "stderr",
     "output_type": "stream",
     "text": [
      "[01-07 15:49:36][DEBUG] jax_fem: JAX Solver - Finshed solving, res = 1.1444984066756606e-06\n",
      "[01-07 15:49:36][DEBUG] jax_fem: Computing cell Jacobian and cell residual...\n",
      "[01-07 15:49:36][DEBUG] jax_fem: Function split_and_compute_cell took 0.0350 seconds\n",
      "[01-07 15:49:36][DEBUG] jax_fem: Creating sparse matrix with scipy...\n",
      "[01-07 15:49:36][DEBUG] jax_fem: res l_2 = 1.1444984065234352e-06\n",
      "[01-07 15:49:36][DEBUG] jax_fem: Solving linear system...\n",
      "[01-07 15:49:36][DEBUG] jax_fem: JAX Solver - Solving linear system\n",
      "[01-07 15:49:36][DEBUG] jax_fem: JAX Solver - Finshed solving, res = 3.949705552125589e-11\n",
      "[01-07 15:49:36][DEBUG] jax_fem: Computing cell Jacobian and cell residual...\n",
      "[01-07 15:49:36][DEBUG] jax_fem: Function split_and_compute_cell took 0.0307 seconds\n",
      "[01-07 15:49:36][DEBUG] jax_fem: Creating sparse matrix with scipy...\n",
      "[01-07 15:49:36][DEBUG] jax_fem: res l_2 = 3.949645876133719e-11\n",
      "[01-07 15:49:36][INFO] jax_fem: Solve took 1.0465738773345947 [s]\n",
      "[01-07 15:49:36][DEBUG] jax_fem: max of dofs = 13027.225165747986\n",
      "[01-07 15:49:36][DEBUG] jax_fem: min of dofs = 299.99999105434506\n",
      "[01-07 15:49:36][DEBUG] jax_fem: Calling the row elimination solver for imposing Dirichlet B.C.\n",
      "[01-07 15:49:36][DEBUG] jax_fem: Start timing\n",
      "[01-07 15:49:36][DEBUG] jax_fem: Computing cell Jacobian and cell residual...\n",
      "[01-07 15:49:36][DEBUG] jax_fem: Function split_and_compute_cell took 0.0315 seconds\n",
      "[01-07 15:49:36][DEBUG] jax_fem: Creating sparse matrix with scipy...\n",
      "[01-07 15:49:36][DEBUG] jax_fem: Before, res l_2 = 13885.658881247291\n",
      "[01-07 15:49:36][DEBUG] jax_fem: Solving linear system...\n",
      "[01-07 15:49:36][DEBUG] jax_fem: JAX Solver - Solving linear system\n"
     ]
    },
    {
     "name": "stdout",
     "output_type": "stream",
     "text": [
      "\n",
      "Step 37, total step = 500, laser_x = 0.000162, Lx = 0.0005, laser ON = True\n"
     ]
    },
    {
     "name": "stderr",
     "output_type": "stream",
     "text": [
      "[01-07 15:49:37][DEBUG] jax_fem: JAX Solver - Finshed solving, res = 1.1577286230848322e-06\n",
      "[01-07 15:49:37][DEBUG] jax_fem: Computing cell Jacobian and cell residual...\n",
      "[01-07 15:49:37][DEBUG] jax_fem: Function split_and_compute_cell took 0.0348 seconds\n",
      "[01-07 15:49:37][DEBUG] jax_fem: Creating sparse matrix with scipy...\n",
      "[01-07 15:49:37][DEBUG] jax_fem: res l_2 = 1.157728621994987e-06\n",
      "[01-07 15:49:37][DEBUG] jax_fem: Solving linear system...\n",
      "[01-07 15:49:37][DEBUG] jax_fem: JAX Solver - Solving linear system\n",
      "[01-07 15:49:37][DEBUG] jax_fem: JAX Solver - Finshed solving, res = 4.801262449449032e-11\n",
      "[01-07 15:49:37][DEBUG] jax_fem: Computing cell Jacobian and cell residual...\n",
      "[01-07 15:49:37][DEBUG] jax_fem: Function split_and_compute_cell took 0.0363 seconds\n",
      "[01-07 15:49:37][DEBUG] jax_fem: Creating sparse matrix with scipy...\n",
      "[01-07 15:49:37][DEBUG] jax_fem: res l_2 = 4.8012042821345274e-11\n",
      "[01-07 15:49:37][INFO] jax_fem: Solve took 1.1759130954742432 [s]\n",
      "[01-07 15:49:37][DEBUG] jax_fem: max of dofs = 13127.212286078127\n",
      "[01-07 15:49:37][DEBUG] jax_fem: min of dofs = 299.9999911393751\n",
      "[01-07 15:49:37][DEBUG] jax_fem: Calling the row elimination solver for imposing Dirichlet B.C.\n",
      "[01-07 15:49:37][DEBUG] jax_fem: Start timing\n",
      "[01-07 15:49:37][DEBUG] jax_fem: Computing cell Jacobian and cell residual...\n",
      "[01-07 15:49:37][DEBUG] jax_fem: Function split_and_compute_cell took 0.0337 seconds\n",
      "[01-07 15:49:37][DEBUG] jax_fem: Creating sparse matrix with scipy...\n",
      "[01-07 15:49:38][DEBUG] jax_fem: Before, res l_2 = 13885.693614414644\n",
      "[01-07 15:49:38][DEBUG] jax_fem: Solving linear system...\n",
      "[01-07 15:49:38][DEBUG] jax_fem: JAX Solver - Solving linear system\n"
     ]
    },
    {
     "name": "stdout",
     "output_type": "stream",
     "text": [
      "\n",
      "Step 38, total step = 500, laser_x = 0.000163, Lx = 0.0005, laser ON = True\n"
     ]
    },
    {
     "name": "stderr",
     "output_type": "stream",
     "text": [
      "[01-07 15:49:38][DEBUG] jax_fem: JAX Solver - Finshed solving, res = 1.169765737157799e-06\n",
      "[01-07 15:49:38][DEBUG] jax_fem: Computing cell Jacobian and cell residual...\n",
      "[01-07 15:49:38][DEBUG] jax_fem: Function split_and_compute_cell took 0.0406 seconds\n",
      "[01-07 15:49:38][DEBUG] jax_fem: Creating sparse matrix with scipy...\n",
      "[01-07 15:49:38][DEBUG] jax_fem: res l_2 = 1.1697657424918524e-06\n",
      "[01-07 15:49:38][DEBUG] jax_fem: Solving linear system...\n",
      "[01-07 15:49:38][DEBUG] jax_fem: JAX Solver - Solving linear system\n",
      "[01-07 15:49:38][DEBUG] jax_fem: JAX Solver - Finshed solving, res = 6.570531679804105e-11\n",
      "[01-07 15:49:38][DEBUG] jax_fem: Computing cell Jacobian and cell residual...\n",
      "[01-07 15:49:38][DEBUG] jax_fem: Function split_and_compute_cell took 0.0305 seconds\n",
      "[01-07 15:49:38][DEBUG] jax_fem: Creating sparse matrix with scipy...\n",
      "[01-07 15:49:38][DEBUG] jax_fem: res l_2 = 6.570503037081187e-11\n",
      "[01-07 15:49:38][INFO] jax_fem: Solve took 1.0833923816680908 [s]\n",
      "[01-07 15:49:38][DEBUG] jax_fem: max of dofs = 13212.054647909588\n",
      "[01-07 15:49:38][DEBUG] jax_fem: min of dofs = 299.99999122502504\n",
      "[01-07 15:49:38][DEBUG] jax_fem: Calling the row elimination solver for imposing Dirichlet B.C.\n",
      "[01-07 15:49:38][DEBUG] jax_fem: Start timing\n",
      "[01-07 15:49:38][DEBUG] jax_fem: Computing cell Jacobian and cell residual...\n",
      "[01-07 15:49:39][DEBUG] jax_fem: Function split_and_compute_cell took 0.0516 seconds\n",
      "[01-07 15:49:39][DEBUG] jax_fem: Creating sparse matrix with scipy...\n",
      "[01-07 15:49:39][DEBUG] jax_fem: Before, res l_2 = 13885.728078794462\n",
      "[01-07 15:49:39][DEBUG] jax_fem: Solving linear system...\n",
      "[01-07 15:49:39][DEBUG] jax_fem: JAX Solver - Solving linear system\n"
     ]
    },
    {
     "name": "stdout",
     "output_type": "stream",
     "text": [
      "\n",
      "Step 39, total step = 500, laser_x = 0.000164, Lx = 0.0005, laser ON = True\n"
     ]
    },
    {
     "name": "stderr",
     "output_type": "stream",
     "text": [
      "[01-07 15:49:39][DEBUG] jax_fem: JAX Solver - Finshed solving, res = 1.1809811006285178e-06\n",
      "[01-07 15:49:39][DEBUG] jax_fem: Computing cell Jacobian and cell residual...\n",
      "[01-07 15:49:39][DEBUG] jax_fem: Function split_and_compute_cell took 0.0336 seconds\n",
      "[01-07 15:49:39][DEBUG] jax_fem: Creating sparse matrix with scipy...\n",
      "[01-07 15:49:39][DEBUG] jax_fem: res l_2 = 1.1809810939046034e-06\n",
      "[01-07 15:49:39][DEBUG] jax_fem: Solving linear system...\n",
      "[01-07 15:49:39][DEBUG] jax_fem: JAX Solver - Solving linear system\n",
      "[01-07 15:49:39][DEBUG] jax_fem: JAX Solver - Finshed solving, res = 9.158850329210256e-11\n",
      "[01-07 15:49:39][DEBUG] jax_fem: Computing cell Jacobian and cell residual...\n",
      "[01-07 15:49:40][DEBUG] jax_fem: Function split_and_compute_cell took 0.0310 seconds\n",
      "[01-07 15:49:40][DEBUG] jax_fem: Creating sparse matrix with scipy...\n",
      "[01-07 15:49:40][DEBUG] jax_fem: res l_2 = 9.158835495839569e-11\n",
      "[01-07 15:49:40][INFO] jax_fem: Solve took 1.0701465606689453 [s]\n",
      "[01-07 15:49:40][DEBUG] jax_fem: max of dofs = 13282.109709675373\n",
      "[01-07 15:49:40][DEBUG] jax_fem: min of dofs = 299.99999131054136\n",
      "[01-07 15:49:40][DEBUG] jax_fem: Calling the row elimination solver for imposing Dirichlet B.C.\n",
      "[01-07 15:49:40][DEBUG] jax_fem: Start timing\n",
      "[01-07 15:49:40][DEBUG] jax_fem: Computing cell Jacobian and cell residual...\n",
      "[01-07 15:49:40][DEBUG] jax_fem: Function split_and_compute_cell took 0.0353 seconds\n",
      "[01-07 15:49:40][DEBUG] jax_fem: Creating sparse matrix with scipy...\n",
      "[01-07 15:49:40][DEBUG] jax_fem: Before, res l_2 = 13885.762254459256\n",
      "[01-07 15:49:40][DEBUG] jax_fem: Solving linear system...\n",
      "[01-07 15:49:40][DEBUG] jax_fem: JAX Solver - Solving linear system\n"
     ]
    },
    {
     "name": "stdout",
     "output_type": "stream",
     "text": [
      "\n",
      "Step 40, total step = 500, laser_x = 0.000165, Lx = 0.0005, laser ON = True\n"
     ]
    },
    {
     "name": "stderr",
     "output_type": "stream",
     "text": [
      "[01-07 15:49:40][DEBUG] jax_fem: JAX Solver - Finshed solving, res = 1.1920295627898274e-06\n",
      "[01-07 15:49:40][DEBUG] jax_fem: Computing cell Jacobian and cell residual...\n",
      "[01-07 15:49:40][DEBUG] jax_fem: Function split_and_compute_cell took 0.0333 seconds\n",
      "[01-07 15:49:40][DEBUG] jax_fem: Creating sparse matrix with scipy...\n",
      "[01-07 15:49:40][DEBUG] jax_fem: res l_2 = 1.1920295690115368e-06\n",
      "[01-07 15:49:40][DEBUG] jax_fem: Solving linear system...\n",
      "[01-07 15:49:40][DEBUG] jax_fem: JAX Solver - Solving linear system\n",
      "[01-07 15:49:41][DEBUG] jax_fem: JAX Solver - Finshed solving, res = 2.7032103915524544e-11\n",
      "[01-07 15:49:41][DEBUG] jax_fem: Computing cell Jacobian and cell residual...\n",
      "[01-07 15:49:41][DEBUG] jax_fem: Function split_and_compute_cell took 0.0299 seconds\n",
      "[01-07 15:49:41][DEBUG] jax_fem: Creating sparse matrix with scipy...\n",
      "[01-07 15:49:41][DEBUG] jax_fem: res l_2 = 2.7032136229354813e-11\n",
      "[01-07 15:49:41][INFO] jax_fem: Solve took 1.058985710144043 [s]\n",
      "[01-07 15:49:41][DEBUG] jax_fem: max of dofs = 13337.769661838389\n",
      "[01-07 15:49:41][DEBUG] jax_fem: min of dofs = 299.99999139550994\n",
      "[01-07 15:49:41][DEBUG] jax_fem: Calling the row elimination solver for imposing Dirichlet B.C.\n",
      "[01-07 15:49:41][DEBUG] jax_fem: Start timing\n",
      "[01-07 15:49:41][DEBUG] jax_fem: Computing cell Jacobian and cell residual...\n",
      "[01-07 15:49:41][DEBUG] jax_fem: Function split_and_compute_cell took 0.2608 seconds\n",
      "[01-07 15:49:41][DEBUG] jax_fem: Creating sparse matrix with scipy...\n",
      "[01-07 15:49:41][DEBUG] jax_fem: Before, res l_2 = 0.002315573978087866\n",
      "[01-07 15:49:41][DEBUG] jax_fem: Solving linear system...\n",
      "[01-07 15:49:41][DEBUG] jax_fem: JAX Solver - Solving linear system\n",
      "[01-07 15:49:42][DEBUG] jax_fem: JAX Solver - Finshed solving, res = 8.711337015311403e-11\n",
      "[01-07 15:49:42][DEBUG] jax_fem: Computing cell Jacobian and cell residual...\n",
      "[01-07 15:49:43][DEBUG] jax_fem: Function split_and_compute_cell took 0.3219 seconds\n",
      "[01-07 15:49:43][DEBUG] jax_fem: Creating sparse matrix with scipy...\n",
      "[01-07 15:49:43][DEBUG] jax_fem: res l_2 = 8.71133704752913e-11\n",
      "[01-07 15:49:43][INFO] jax_fem: Solve took 2.2278940677642822 [s]\n",
      "[01-07 15:49:43][DEBUG] jax_fem: max of dofs = 5.311750513357613e-09\n",
      "[01-07 15:49:43][DEBUG] jax_fem: min of dofs = -5.311750608918468e-09\n",
      "[01-07 15:49:43][DEBUG] jax_fem: Calling the row elimination solver for imposing Dirichlet B.C.\n",
      "[01-07 15:49:43][DEBUG] jax_fem: Start timing\n",
      "[01-07 15:49:43][DEBUG] jax_fem: Computing cell Jacobian and cell residual...\n",
      "[01-07 15:49:43][DEBUG] jax_fem: Function split_and_compute_cell took 0.0280 seconds\n",
      "[01-07 15:49:43][DEBUG] jax_fem: Creating sparse matrix with scipy...\n",
      "[01-07 15:49:43][DEBUG] jax_fem: Before, res l_2 = 13885.796123170689\n",
      "[01-07 15:49:43][DEBUG] jax_fem: Solving linear system...\n",
      "[01-07 15:49:43][DEBUG] jax_fem: JAX Solver - Solving linear system\n"
     ]
    },
    {
     "name": "stdout",
     "output_type": "stream",
     "text": [
      "max f_plus = 0.0, max stress_xx = 1503105.7571826\n",
      "\n",
      "Step 41, total step = 500, laser_x = 0.000166, Lx = 0.0005, laser ON = True\n"
     ]
    },
    {
     "name": "stderr",
     "output_type": "stream",
     "text": [
      "[01-07 15:49:44][DEBUG] jax_fem: JAX Solver - Finshed solving, res = 1.2036204872604684e-06\n",
      "[01-07 15:49:44][DEBUG] jax_fem: Computing cell Jacobian and cell residual...\n",
      "[01-07 15:49:44][DEBUG] jax_fem: Function split_and_compute_cell took 0.0386 seconds\n",
      "[01-07 15:49:44][DEBUG] jax_fem: Creating sparse matrix with scipy...\n",
      "[01-07 15:49:44][DEBUG] jax_fem: res l_2 = 1.2036204924544414e-06\n",
      "[01-07 15:49:44][DEBUG] jax_fem: Solving linear system...\n",
      "[01-07 15:49:44][DEBUG] jax_fem: JAX Solver - Solving linear system\n",
      "[01-07 15:49:44][DEBUG] jax_fem: JAX Solver - Finshed solving, res = 3.2502734913602755e-11\n",
      "[01-07 15:49:44][DEBUG] jax_fem: Computing cell Jacobian and cell residual...\n",
      "[01-07 15:49:44][DEBUG] jax_fem: Function split_and_compute_cell took 0.0314 seconds\n",
      "[01-07 15:49:44][DEBUG] jax_fem: Creating sparse matrix with scipy...\n",
      "[01-07 15:49:44][DEBUG] jax_fem: res l_2 = 3.250239020235759e-11\n",
      "[01-07 15:49:44][INFO] jax_fem: Solve took 1.0625107288360596 [s]\n",
      "[01-07 15:49:44][DEBUG] jax_fem: max of dofs = 13379.457088380082\n",
      "[01-07 15:49:44][DEBUG] jax_fem: min of dofs = 299.9999914796142\n",
      "[01-07 15:49:44][DEBUG] jax_fem: Calling the row elimination solver for imposing Dirichlet B.C.\n",
      "[01-07 15:49:44][DEBUG] jax_fem: Start timing\n",
      "[01-07 15:49:44][DEBUG] jax_fem: Computing cell Jacobian and cell residual...\n",
      "[01-07 15:49:44][DEBUG] jax_fem: Function split_and_compute_cell took 0.0332 seconds\n",
      "[01-07 15:49:44][DEBUG] jax_fem: Creating sparse matrix with scipy...\n",
      "[01-07 15:49:44][DEBUG] jax_fem: Before, res l_2 = 13885.82966830504\n",
      "[01-07 15:49:44][DEBUG] jax_fem: Solving linear system...\n",
      "[01-07 15:49:44][DEBUG] jax_fem: JAX Solver - Solving linear system\n"
     ]
    },
    {
     "name": "stdout",
     "output_type": "stream",
     "text": [
      "\n",
      "Step 42, total step = 500, laser_x = 0.000167, Lx = 0.0005, laser ON = True\n"
     ]
    },
    {
     "name": "stderr",
     "output_type": "stream",
     "text": [
      "[01-07 15:49:45][DEBUG] jax_fem: JAX Solver - Finshed solving, res = 1.2162538002233313e-06\n",
      "[01-07 15:49:45][DEBUG] jax_fem: Computing cell Jacobian and cell residual...\n",
      "[01-07 15:49:45][DEBUG] jax_fem: Function split_and_compute_cell took 0.0418 seconds\n",
      "[01-07 15:49:45][DEBUG] jax_fem: Creating sparse matrix with scipy...\n",
      "[01-07 15:49:45][DEBUG] jax_fem: res l_2 = 1.2162538039394243e-06\n",
      "[01-07 15:49:45][DEBUG] jax_fem: Solving linear system...\n",
      "[01-07 15:49:45][DEBUG] jax_fem: JAX Solver - Solving linear system\n",
      "[01-07 15:49:45][DEBUG] jax_fem: JAX Solver - Finshed solving, res = 3.562194708047802e-11\n",
      "[01-07 15:49:45][DEBUG] jax_fem: Computing cell Jacobian and cell residual...\n",
      "[01-07 15:49:45][DEBUG] jax_fem: Function split_and_compute_cell took 0.0325 seconds\n",
      "[01-07 15:49:45][DEBUG] jax_fem: Creating sparse matrix with scipy...\n",
      "[01-07 15:49:45][DEBUG] jax_fem: res l_2 = 3.562217677053393e-11\n",
      "[01-07 15:49:45][INFO] jax_fem: Solve took 1.0631945133209229 [s]\n",
      "[01-07 15:49:45][DEBUG] jax_fem: max of dofs = 13459.824398172177\n",
      "[01-07 15:49:45][DEBUG] jax_fem: min of dofs = 299.9999915627117\n",
      "[01-07 15:49:45][DEBUG] jax_fem: Calling the row elimination solver for imposing Dirichlet B.C.\n",
      "[01-07 15:49:45][DEBUG] jax_fem: Start timing\n",
      "[01-07 15:49:45][DEBUG] jax_fem: Computing cell Jacobian and cell residual...\n",
      "[01-07 15:49:45][DEBUG] jax_fem: Function split_and_compute_cell took 0.0292 seconds\n",
      "[01-07 15:49:45][DEBUG] jax_fem: Creating sparse matrix with scipy...\n",
      "[01-07 15:49:45][DEBUG] jax_fem: Before, res l_2 = 13885.862874778897\n",
      "[01-07 15:49:45][DEBUG] jax_fem: Solving linear system...\n",
      "[01-07 15:49:45][DEBUG] jax_fem: JAX Solver - Solving linear system\n"
     ]
    },
    {
     "name": "stdout",
     "output_type": "stream",
     "text": [
      "\n",
      "Step 43, total step = 500, laser_x = 0.000168, Lx = 0.0005, laser ON = True\n"
     ]
    },
    {
     "name": "stderr",
     "output_type": "stream",
     "text": [
      "[01-07 15:49:46][DEBUG] jax_fem: JAX Solver - Finshed solving, res = 1.2300391229023922e-06\n",
      "[01-07 15:49:46][DEBUG] jax_fem: Computing cell Jacobian and cell residual...\n",
      "[01-07 15:49:46][DEBUG] jax_fem: Function split_and_compute_cell took 0.0375 seconds\n",
      "[01-07 15:49:46][DEBUG] jax_fem: Creating sparse matrix with scipy...\n",
      "[01-07 15:49:46][DEBUG] jax_fem: res l_2 = 1.2300391279507113e-06\n",
      "[01-07 15:49:46][DEBUG] jax_fem: Solving linear system...\n",
      "[01-07 15:49:46][DEBUG] jax_fem: JAX Solver - Solving linear system\n",
      "[01-07 15:49:46][DEBUG] jax_fem: JAX Solver - Finshed solving, res = 3.4992877594293404e-11\n",
      "[01-07 15:49:46][DEBUG] jax_fem: Computing cell Jacobian and cell residual...\n",
      "[01-07 15:49:46][DEBUG] jax_fem: Function split_and_compute_cell took 0.0310 seconds\n",
      "[01-07 15:49:46][DEBUG] jax_fem: Creating sparse matrix with scipy...\n",
      "[01-07 15:49:46][DEBUG] jax_fem: res l_2 = 3.499320824296148e-11\n",
      "[01-07 15:49:46][INFO] jax_fem: Solve took 1.0435185432434082 [s]\n",
      "[01-07 15:49:46][DEBUG] jax_fem: max of dofs = 13587.7701266124\n",
      "[01-07 15:49:46][DEBUG] jax_fem: min of dofs = 299.9999916447447\n",
      "[01-07 15:49:46][DEBUG] jax_fem: Calling the row elimination solver for imposing Dirichlet B.C.\n",
      "[01-07 15:49:46][DEBUG] jax_fem: Start timing\n",
      "[01-07 15:49:46][DEBUG] jax_fem: Computing cell Jacobian and cell residual...\n",
      "[01-07 15:49:46][DEBUG] jax_fem: Function split_and_compute_cell took 0.0279 seconds\n",
      "[01-07 15:49:46][DEBUG] jax_fem: Creating sparse matrix with scipy...\n",
      "[01-07 15:49:46][DEBUG] jax_fem: Before, res l_2 = 13885.895728975482\n",
      "[01-07 15:49:46][DEBUG] jax_fem: Solving linear system...\n",
      "[01-07 15:49:46][DEBUG] jax_fem: JAX Solver - Solving linear system\n"
     ]
    },
    {
     "name": "stdout",
     "output_type": "stream",
     "text": [
      "\n",
      "Step 44, total step = 500, laser_x = 0.000169, Lx = 0.0005, laser ON = True\n"
     ]
    },
    {
     "name": "stderr",
     "output_type": "stream",
     "text": [
      "[01-07 15:49:47][DEBUG] jax_fem: JAX Solver - Finshed solving, res = 1.244680279457472e-06\n",
      "[01-07 15:49:47][DEBUG] jax_fem: Computing cell Jacobian and cell residual...\n",
      "[01-07 15:49:47][DEBUG] jax_fem: Function split_and_compute_cell took 0.0349 seconds\n",
      "[01-07 15:49:47][DEBUG] jax_fem: Creating sparse matrix with scipy...\n",
      "[01-07 15:49:47][DEBUG] jax_fem: res l_2 = 1.2446802854058311e-06\n",
      "[01-07 15:49:47][DEBUG] jax_fem: Solving linear system...\n",
      "[01-07 15:49:47][DEBUG] jax_fem: JAX Solver - Solving linear system\n",
      "[01-07 15:49:47][DEBUG] jax_fem: JAX Solver - Finshed solving, res = 3.184979982069981e-11\n",
      "[01-07 15:49:47][DEBUG] jax_fem: Computing cell Jacobian and cell residual...\n",
      "[01-07 15:49:47][DEBUG] jax_fem: Function split_and_compute_cell took 0.0320 seconds\n",
      "[01-07 15:49:47][DEBUG] jax_fem: Creating sparse matrix with scipy...\n",
      "[01-07 15:49:47][DEBUG] jax_fem: res l_2 = 3.18496880910834e-11\n",
      "[01-07 15:49:47][INFO] jax_fem: Solve took 1.0793564319610596 [s]\n",
      "[01-07 15:49:47][DEBUG] jax_fem: max of dofs = 13701.075518986927\n",
      "[01-07 15:49:47][DEBUG] jax_fem: min of dofs = 299.99999172570807\n",
      "[01-07 15:49:47][DEBUG] jax_fem: Calling the row elimination solver for imposing Dirichlet B.C.\n",
      "[01-07 15:49:47][DEBUG] jax_fem: Start timing\n",
      "[01-07 15:49:47][DEBUG] jax_fem: Computing cell Jacobian and cell residual...\n",
      "[01-07 15:49:47][DEBUG] jax_fem: Function split_and_compute_cell took 0.0328 seconds\n",
      "[01-07 15:49:48][DEBUG] jax_fem: Creating sparse matrix with scipy...\n",
      "[01-07 15:49:48][DEBUG] jax_fem: Before, res l_2 = 13885.928218671808\n",
      "[01-07 15:49:48][DEBUG] jax_fem: Solving linear system...\n",
      "[01-07 15:49:48][DEBUG] jax_fem: JAX Solver - Solving linear system\n"
     ]
    },
    {
     "name": "stdout",
     "output_type": "stream",
     "text": [
      "\n",
      "Step 45, total step = 500, laser_x = 0.00017, Lx = 0.0005, laser ON = True\n"
     ]
    },
    {
     "name": "stderr",
     "output_type": "stream",
     "text": [
      "[01-07 15:49:48][DEBUG] jax_fem: JAX Solver - Finshed solving, res = 1.2596309795278936e-06\n",
      "[01-07 15:49:48][DEBUG] jax_fem: Computing cell Jacobian and cell residual...\n",
      "[01-07 15:49:48][DEBUG] jax_fem: Function split_and_compute_cell took 0.0325 seconds\n",
      "[01-07 15:49:48][DEBUG] jax_fem: Creating sparse matrix with scipy...\n",
      "[01-07 15:49:48][DEBUG] jax_fem: res l_2 = 1.2596309775478315e-06\n",
      "[01-07 15:49:48][DEBUG] jax_fem: Solving linear system...\n",
      "[01-07 15:49:48][DEBUG] jax_fem: JAX Solver - Solving linear system\n",
      "[01-07 15:49:48][DEBUG] jax_fem: JAX Solver - Finshed solving, res = 2.8457552730811835e-11\n",
      "[01-07 15:49:48][DEBUG] jax_fem: Computing cell Jacobian and cell residual...\n",
      "[01-07 15:49:48][DEBUG] jax_fem: Function split_and_compute_cell took 0.0354 seconds\n",
      "[01-07 15:49:48][DEBUG] jax_fem: Creating sparse matrix with scipy...\n",
      "[01-07 15:49:48][DEBUG] jax_fem: res l_2 = 2.845740275068951e-11\n",
      "[01-07 15:49:48][INFO] jax_fem: Solve took 1.0494227409362793 [s]\n",
      "[01-07 15:49:48][DEBUG] jax_fem: max of dofs = 13799.898246818038\n",
      "[01-07 15:49:48][DEBUG] jax_fem: min of dofs = 299.99999180560906\n",
      "[01-07 15:49:49][DEBUG] jax_fem: Calling the row elimination solver for imposing Dirichlet B.C.\n",
      "[01-07 15:49:49][DEBUG] jax_fem: Start timing\n",
      "[01-07 15:49:49][DEBUG] jax_fem: Computing cell Jacobian and cell residual...\n",
      "[01-07 15:49:49][DEBUG] jax_fem: Function split_and_compute_cell took 0.0259 seconds\n",
      "[01-07 15:49:49][DEBUG] jax_fem: Creating sparse matrix with scipy...\n",
      "[01-07 15:49:49][DEBUG] jax_fem: Before, res l_2 = 13885.960332966968\n",
      "[01-07 15:49:49][DEBUG] jax_fem: Solving linear system...\n",
      "[01-07 15:49:49][DEBUG] jax_fem: JAX Solver - Solving linear system\n"
     ]
    },
    {
     "name": "stdout",
     "output_type": "stream",
     "text": [
      "\n",
      "Step 46, total step = 500, laser_x = 0.000171, Lx = 0.0005, laser ON = True\n"
     ]
    },
    {
     "name": "stderr",
     "output_type": "stream",
     "text": [
      "[01-07 15:49:49][DEBUG] jax_fem: JAX Solver - Finshed solving, res = 1.274349823825093e-06\n",
      "[01-07 15:49:49][DEBUG] jax_fem: Computing cell Jacobian and cell residual...\n",
      "[01-07 15:49:49][DEBUG] jax_fem: Function split_and_compute_cell took 0.0608 seconds\n",
      "[01-07 15:49:49][DEBUG] jax_fem: Creating sparse matrix with scipy...\n",
      "[01-07 15:49:49][DEBUG] jax_fem: res l_2 = 1.2743498205741095e-06\n",
      "[01-07 15:49:49][DEBUG] jax_fem: Solving linear system...\n",
      "[01-07 15:49:49][DEBUG] jax_fem: JAX Solver - Solving linear system\n",
      "[01-07 15:49:50][DEBUG] jax_fem: JAX Solver - Finshed solving, res = 2.7183260379782208e-11\n",
      "[01-07 15:49:50][DEBUG] jax_fem: Computing cell Jacobian and cell residual...\n",
      "[01-07 15:49:50][DEBUG] jax_fem: Function split_and_compute_cell took 0.0364 seconds\n",
      "[01-07 15:49:50][DEBUG] jax_fem: Creating sparse matrix with scipy...\n",
      "[01-07 15:49:50][DEBUG] jax_fem: res l_2 = 2.7183164064177416e-11\n",
      "[01-07 15:49:50][INFO] jax_fem: Solve took 1.109386682510376 [s]\n",
      "[01-07 15:49:50][DEBUG] jax_fem: max of dofs = 13884.44368395212\n",
      "[01-07 15:49:50][DEBUG] jax_fem: min of dofs = 299.99999188451426\n",
      "[01-07 15:49:50][DEBUG] jax_fem: Calling the row elimination solver for imposing Dirichlet B.C.\n",
      "[01-07 15:49:50][DEBUG] jax_fem: Start timing\n",
      "[01-07 15:49:50][DEBUG] jax_fem: Computing cell Jacobian and cell residual...\n",
      "[01-07 15:49:50][DEBUG] jax_fem: Function split_and_compute_cell took 0.0334 seconds\n",
      "[01-07 15:49:50][DEBUG] jax_fem: Creating sparse matrix with scipy...\n",
      "[01-07 15:49:50][DEBUG] jax_fem: Before, res l_2 = 13885.992062211779\n",
      "[01-07 15:49:50][DEBUG] jax_fem: Solving linear system...\n",
      "[01-07 15:49:50][DEBUG] jax_fem: JAX Solver - Solving linear system\n"
     ]
    },
    {
     "name": "stdout",
     "output_type": "stream",
     "text": [
      "\n",
      "Step 47, total step = 500, laser_x = 0.000172, Lx = 0.0005, laser ON = True\n"
     ]
    },
    {
     "name": "stderr",
     "output_type": "stream",
     "text": [
      "[01-07 15:49:50][DEBUG] jax_fem: JAX Solver - Finshed solving, res = 1.288542831674433e-06\n",
      "[01-07 15:49:50][DEBUG] jax_fem: Computing cell Jacobian and cell residual...\n",
      "[01-07 15:49:50][DEBUG] jax_fem: Function split_and_compute_cell took 0.0354 seconds\n",
      "[01-07 15:49:50][DEBUG] jax_fem: Creating sparse matrix with scipy...\n",
      "[01-07 15:49:50][DEBUG] jax_fem: res l_2 = 1.2885428330179618e-06\n",
      "[01-07 15:49:50][DEBUG] jax_fem: Solving linear system...\n",
      "[01-07 15:49:50][DEBUG] jax_fem: JAX Solver - Solving linear system\n",
      "[01-07 15:49:51][DEBUG] jax_fem: JAX Solver - Finshed solving, res = 2.9083691881444733e-11\n",
      "[01-07 15:49:51][DEBUG] jax_fem: Computing cell Jacobian and cell residual...\n",
      "[01-07 15:49:51][DEBUG] jax_fem: Function split_and_compute_cell took 0.0326 seconds\n",
      "[01-07 15:49:51][DEBUG] jax_fem: Creating sparse matrix with scipy...\n",
      "[01-07 15:49:51][DEBUG] jax_fem: res l_2 = 2.9083531712481804e-11\n",
      "[01-07 15:49:51][INFO] jax_fem: Solve took 1.0587337017059326 [s]\n",
      "[01-07 15:49:51][DEBUG] jax_fem: max of dofs = 13954.960627405837\n",
      "[01-07 15:49:51][DEBUG] jax_fem: min of dofs = 299.99999196247506\n",
      "[01-07 15:49:51][DEBUG] jax_fem: Calling the row elimination solver for imposing Dirichlet B.C.\n",
      "[01-07 15:49:51][DEBUG] jax_fem: Start timing\n",
      "[01-07 15:49:51][DEBUG] jax_fem: Computing cell Jacobian and cell residual...\n",
      "[01-07 15:49:51][DEBUG] jax_fem: Function split_and_compute_cell took 0.0487 seconds\n",
      "[01-07 15:49:51][DEBUG] jax_fem: Creating sparse matrix with scipy...\n",
      "[01-07 15:49:51][DEBUG] jax_fem: Before, res l_2 = 13886.023397939989\n",
      "[01-07 15:49:51][DEBUG] jax_fem: Solving linear system...\n",
      "[01-07 15:49:51][DEBUG] jax_fem: JAX Solver - Solving linear system\n"
     ]
    },
    {
     "name": "stdout",
     "output_type": "stream",
     "text": [
      "\n",
      "Step 48, total step = 500, laser_x = 0.000173, Lx = 0.0005, laser ON = True\n"
     ]
    },
    {
     "name": "stderr",
     "output_type": "stream",
     "text": [
      "[01-07 15:49:51][DEBUG] jax_fem: JAX Solver - Finshed solving, res = 1.3022938670508494e-06\n",
      "[01-07 15:49:51][DEBUG] jax_fem: Computing cell Jacobian and cell residual...\n",
      "[01-07 15:49:51][DEBUG] jax_fem: Function split_and_compute_cell took 0.0379 seconds\n",
      "[01-07 15:49:51][DEBUG] jax_fem: Creating sparse matrix with scipy...\n",
      "[01-07 15:49:51][DEBUG] jax_fem: res l_2 = 1.3022938698058662e-06\n",
      "[01-07 15:49:51][DEBUG] jax_fem: Solving linear system...\n",
      "[01-07 15:49:51][DEBUG] jax_fem: JAX Solver - Solving linear system\n",
      "[01-07 15:49:52][DEBUG] jax_fem: JAX Solver - Finshed solving, res = 3.350666173562993e-11\n",
      "[01-07 15:49:52][DEBUG] jax_fem: Computing cell Jacobian and cell residual...\n",
      "[01-07 15:49:52][DEBUG] jax_fem: Function split_and_compute_cell took 0.0331 seconds\n",
      "[01-07 15:49:52][DEBUG] jax_fem: Creating sparse matrix with scipy...\n",
      "[01-07 15:49:52][DEBUG] jax_fem: res l_2 = 3.3506377058711184e-11\n",
      "[01-07 15:49:52][INFO] jax_fem: Solve took 1.2841296195983887 [s]\n",
      "[01-07 15:49:52][DEBUG] jax_fem: max of dofs = 14011.737048270907\n",
      "[01-07 15:49:52][DEBUG] jax_fem: min of dofs = 299.9999920395327\n",
      "[01-07 15:49:52][DEBUG] jax_fem: Calling the row elimination solver for imposing Dirichlet B.C.\n",
      "[01-07 15:49:52][DEBUG] jax_fem: Start timing\n",
      "[01-07 15:49:52][DEBUG] jax_fem: Computing cell Jacobian and cell residual...\n",
      "[01-07 15:49:52][DEBUG] jax_fem: Function split_and_compute_cell took 0.0347 seconds\n",
      "[01-07 15:49:52][DEBUG] jax_fem: Creating sparse matrix with scipy...\n",
      "[01-07 15:49:52][DEBUG] jax_fem: Before, res l_2 = 13886.054332801208\n",
      "[01-07 15:49:52][DEBUG] jax_fem: Solving linear system...\n",
      "[01-07 15:49:52][DEBUG] jax_fem: JAX Solver - Solving linear system\n"
     ]
    },
    {
     "name": "stdout",
     "output_type": "stream",
     "text": [
      "\n",
      "Step 49, total step = 500, laser_x = 0.000174, Lx = 0.0005, laser ON = True\n"
     ]
    },
    {
     "name": "stderr",
     "output_type": "stream",
     "text": [
      "[01-07 15:49:52][DEBUG] jax_fem: JAX Solver - Finshed solving, res = 1.3160321251476653e-06\n",
      "[01-07 15:49:52][DEBUG] jax_fem: Computing cell Jacobian and cell residual...\n",
      "[01-07 15:49:53][DEBUG] jax_fem: Function split_and_compute_cell took 0.0407 seconds\n",
      "[01-07 15:49:53][DEBUG] jax_fem: Creating sparse matrix with scipy...\n",
      "[01-07 15:49:53][DEBUG] jax_fem: res l_2 = 1.3160321310448482e-06\n",
      "[01-07 15:49:53][DEBUG] jax_fem: Solving linear system...\n",
      "[01-07 15:49:53][DEBUG] jax_fem: JAX Solver - Solving linear system\n",
      "[01-07 15:49:53][DEBUG] jax_fem: JAX Solver - Finshed solving, res = 3.9300936632191614e-11\n",
      "[01-07 15:49:53][DEBUG] jax_fem: Computing cell Jacobian and cell residual...\n",
      "[01-07 15:49:53][DEBUG] jax_fem: Function split_and_compute_cell took 0.0295 seconds\n",
      "[01-07 15:49:53][DEBUG] jax_fem: Creating sparse matrix with scipy...\n",
      "[01-07 15:49:53][DEBUG] jax_fem: res l_2 = 3.9300545392391846e-11\n",
      "[01-07 15:49:53][INFO] jax_fem: Solve took 1.0720255374908447 [s]\n",
      "[01-07 15:49:53][DEBUG] jax_fem: max of dofs = 14055.095936982667\n",
      "[01-07 15:49:53][DEBUG] jax_fem: min of dofs = 299.99999211570747\n",
      "[01-07 15:49:53][DEBUG] jax_fem: Calling the row elimination solver for imposing Dirichlet B.C.\n",
      "[01-07 15:49:53][DEBUG] jax_fem: Start timing\n",
      "[01-07 15:49:53][DEBUG] jax_fem: Computing cell Jacobian and cell residual...\n",
      "[01-07 15:49:53][DEBUG] jax_fem: Function split_and_compute_cell took 0.0342 seconds\n",
      "[01-07 15:49:53][DEBUG] jax_fem: Creating sparse matrix with scipy...\n",
      "[01-07 15:49:53][DEBUG] jax_fem: Before, res l_2 = 13886.084860495734\n",
      "[01-07 15:49:53][DEBUG] jax_fem: Solving linear system...\n",
      "[01-07 15:49:53][DEBUG] jax_fem: JAX Solver - Solving linear system\n"
     ]
    },
    {
     "name": "stdout",
     "output_type": "stream",
     "text": [
      "\n",
      "Step 50, total step = 500, laser_x = 0.000175, Lx = 0.0005, laser ON = True\n"
     ]
    },
    {
     "name": "stderr",
     "output_type": "stream",
     "text": [
      "[01-07 15:49:54][DEBUG] jax_fem: JAX Solver - Finshed solving, res = 1.330349235805098e-06\n",
      "[01-07 15:49:54][DEBUG] jax_fem: Computing cell Jacobian and cell residual...\n",
      "[01-07 15:49:54][DEBUG] jax_fem: Function split_and_compute_cell took 0.0379 seconds\n",
      "[01-07 15:49:54][DEBUG] jax_fem: Creating sparse matrix with scipy...\n",
      "[01-07 15:49:54][DEBUG] jax_fem: res l_2 = 1.3303492405610974e-06\n",
      "[01-07 15:49:54][DEBUG] jax_fem: Solving linear system...\n",
      "[01-07 15:49:54][DEBUG] jax_fem: JAX Solver - Solving linear system\n",
      "[01-07 15:49:54][DEBUG] jax_fem: JAX Solver - Finshed solving, res = 4.5502070910091075e-11\n",
      "[01-07 15:49:54][DEBUG] jax_fem: Computing cell Jacobian and cell residual...\n",
      "[01-07 15:49:54][DEBUG] jax_fem: Function split_and_compute_cell took 0.0458 seconds\n",
      "[01-07 15:49:54][DEBUG] jax_fem: Creating sparse matrix with scipy...\n",
      "[01-07 15:49:54][DEBUG] jax_fem: res l_2 = 4.5502261858768195e-11\n",
      "[01-07 15:49:54][INFO] jax_fem: Solve took 1.1536221504211426 [s]\n",
      "[01-07 15:49:54][DEBUG] jax_fem: max of dofs = 14085.391293369774\n",
      "[01-07 15:49:54][DEBUG] jax_fem: min of dofs = 299.99999219101403\n",
      "[01-07 15:49:54][DEBUG] jax_fem: Calling the row elimination solver for imposing Dirichlet B.C.\n",
      "[01-07 15:49:54][DEBUG] jax_fem: Start timing\n",
      "[01-07 15:49:54][DEBUG] jax_fem: Computing cell Jacobian and cell residual...\n",
      "[01-07 15:49:55][DEBUG] jax_fem: Function split_and_compute_cell took 0.2547 seconds\n",
      "[01-07 15:49:55][DEBUG] jax_fem: Creating sparse matrix with scipy...\n",
      "[01-07 15:49:55][DEBUG] jax_fem: Before, res l_2 = 0.0030377508217345715\n",
      "[01-07 15:49:55][DEBUG] jax_fem: Solving linear system...\n",
      "[01-07 15:49:55][DEBUG] jax_fem: JAX Solver - Solving linear system\n",
      "[01-07 15:49:56][DEBUG] jax_fem: JAX Solver - Finshed solving, res = 7.696232392400866e-11\n",
      "[01-07 15:49:56][DEBUG] jax_fem: Computing cell Jacobian and cell residual...\n",
      "[01-07 15:49:56][DEBUG] jax_fem: Function split_and_compute_cell took 0.2405 seconds\n",
      "[01-07 15:49:56][DEBUG] jax_fem: Creating sparse matrix with scipy...\n",
      "[01-07 15:49:56][DEBUG] jax_fem: res l_2 = 7.696232419432057e-11\n",
      "[01-07 15:49:56][INFO] jax_fem: Solve took 1.9473156929016113 [s]\n",
      "[01-07 15:49:56][DEBUG] jax_fem: max of dofs = 1.2280119760240098e-08\n",
      "[01-07 15:49:56][DEBUG] jax_fem: min of dofs = -1.2280119833113661e-08\n",
      "[01-07 15:49:56][DEBUG] jax_fem: Calling the row elimination solver for imposing Dirichlet B.C.\n",
      "[01-07 15:49:56][DEBUG] jax_fem: Start timing\n",
      "[01-07 15:49:56][DEBUG] jax_fem: Computing cell Jacobian and cell residual...\n",
      "[01-07 15:49:56][DEBUG] jax_fem: Function split_and_compute_cell took 0.0294 seconds\n",
      "[01-07 15:49:56][DEBUG] jax_fem: Creating sparse matrix with scipy...\n",
      "[01-07 15:49:57][DEBUG] jax_fem: Before, res l_2 = 13886.114975711376\n",
      "[01-07 15:49:57][DEBUG] jax_fem: Solving linear system...\n",
      "[01-07 15:49:57][DEBUG] jax_fem: JAX Solver - Solving linear system\n"
     ]
    },
    {
     "name": "stdout",
     "output_type": "stream",
     "text": [
      "max f_plus = 0.0, max stress_xx = 3474995.6823832816\n",
      "\n",
      "Step 51, total step = 500, laser_x = 0.000176, Lx = 0.0005, laser ON = True\n"
     ]
    },
    {
     "name": "stderr",
     "output_type": "stream",
     "text": [
      "[01-07 15:49:57][DEBUG] jax_fem: JAX Solver - Finshed solving, res = 1.3457366248286777e-06\n",
      "[01-07 15:49:57][DEBUG] jax_fem: Computing cell Jacobian and cell residual...\n",
      "[01-07 15:49:57][DEBUG] jax_fem: Function split_and_compute_cell took 0.0368 seconds\n",
      "[01-07 15:49:57][DEBUG] jax_fem: Creating sparse matrix with scipy...\n",
      "[01-07 15:49:57][DEBUG] jax_fem: res l_2 = 1.34573662064689e-06\n",
      "[01-07 15:49:57][DEBUG] jax_fem: Solving linear system...\n",
      "[01-07 15:49:57][DEBUG] jax_fem: JAX Solver - Solving linear system\n",
      "[01-07 15:49:57][DEBUG] jax_fem: JAX Solver - Finshed solving, res = 9.549839154845336e-11\n",
      "[01-07 15:49:57][DEBUG] jax_fem: Computing cell Jacobian and cell residual...\n",
      "[01-07 15:49:57][DEBUG] jax_fem: Function split_and_compute_cell took 0.0406 seconds\n",
      "[01-07 15:49:57][DEBUG] jax_fem: Creating sparse matrix with scipy...\n",
      "[01-07 15:49:57][DEBUG] jax_fem: res l_2 = 9.549897287479426e-11\n",
      "[01-07 15:49:57][INFO] jax_fem: Solve took 1.0828111171722412 [s]\n",
      "[01-07 15:49:57][DEBUG] jax_fem: max of dofs = 14103.004298852486\n",
      "[01-07 15:49:57][DEBUG] jax_fem: min of dofs = 299.99999226533515\n",
      "[01-07 15:49:58][DEBUG] jax_fem: Calling the row elimination solver for imposing Dirichlet B.C.\n",
      "[01-07 15:49:58][DEBUG] jax_fem: Start timing\n",
      "[01-07 15:49:58][DEBUG] jax_fem: Computing cell Jacobian and cell residual...\n",
      "[01-07 15:49:58][DEBUG] jax_fem: Function split_and_compute_cell took 0.0495 seconds\n",
      "[01-07 15:49:58][DEBUG] jax_fem: Creating sparse matrix with scipy...\n",
      "[01-07 15:49:58][DEBUG] jax_fem: Before, res l_2 = 13886.144674062398\n",
      "[01-07 15:49:58][DEBUG] jax_fem: Solving linear system...\n",
      "[01-07 15:49:58][DEBUG] jax_fem: JAX Solver - Solving linear system\n"
     ]
    },
    {
     "name": "stdout",
     "output_type": "stream",
     "text": [
      "\n",
      "Step 52, total step = 500, laser_x = 0.000177, Lx = 0.0005, laser ON = True\n"
     ]
    },
    {
     "name": "stderr",
     "output_type": "stream",
     "text": [
      "[01-07 15:49:58][DEBUG] jax_fem: JAX Solver - Finshed solving, res = 1.362349143929674e-06\n",
      "[01-07 15:49:58][DEBUG] jax_fem: Computing cell Jacobian and cell residual...\n",
      "[01-07 15:49:58][DEBUG] jax_fem: Function split_and_compute_cell took 0.0589 seconds\n",
      "[01-07 15:49:58][DEBUG] jax_fem: Creating sparse matrix with scipy...\n",
      "[01-07 15:49:58][DEBUG] jax_fem: res l_2 = 1.3623491364099133e-06\n",
      "[01-07 15:49:58][DEBUG] jax_fem: Solving linear system...\n",
      "[01-07 15:49:58][DEBUG] jax_fem: JAX Solver - Solving linear system\n",
      "[01-07 15:49:59][DEBUG] jax_fem: JAX Solver - Finshed solving, res = 8.764054505430626e-11\n",
      "[01-07 15:49:59][DEBUG] jax_fem: Computing cell Jacobian and cell residual...\n",
      "[01-07 15:49:59][DEBUG] jax_fem: Function split_and_compute_cell took 0.0289 seconds\n",
      "[01-07 15:49:59][DEBUG] jax_fem: Creating sparse matrix with scipy...\n",
      "[01-07 15:49:59][DEBUG] jax_fem: res l_2 = 8.763971841651625e-11\n",
      "[01-07 15:49:59][INFO] jax_fem: Solve took 1.0977466106414795 [s]\n",
      "[01-07 15:49:59][DEBUG] jax_fem: max of dofs = 14108.339696347433\n",
      "[01-07 15:49:59][DEBUG] jax_fem: min of dofs = 299.9999923388155\n",
      "[01-07 15:49:59][DEBUG] jax_fem: Calling the row elimination solver for imposing Dirichlet B.C.\n",
      "[01-07 15:49:59][DEBUG] jax_fem: Start timing\n",
      "[01-07 15:49:59][DEBUG] jax_fem: Computing cell Jacobian and cell residual...\n",
      "[01-07 15:49:59][DEBUG] jax_fem: Function split_and_compute_cell took 0.0352 seconds\n",
      "[01-07 15:49:59][DEBUG] jax_fem: Creating sparse matrix with scipy...\n",
      "[01-07 15:49:59][DEBUG] jax_fem: Before, res l_2 = 13886.173952030627\n",
      "[01-07 15:49:59][DEBUG] jax_fem: Solving linear system...\n",
      "[01-07 15:49:59][DEBUG] jax_fem: JAX Solver - Solving linear system\n"
     ]
    },
    {
     "name": "stdout",
     "output_type": "stream",
     "text": [
      "\n",
      "Step 53, total step = 500, laser_x = 0.000178, Lx = 0.0005, laser ON = True\n"
     ]
    },
    {
     "name": "stderr",
     "output_type": "stream",
     "text": [
      "[01-07 15:49:59][DEBUG] jax_fem: JAX Solver - Finshed solving, res = 1.3798967898057634e-06\n",
      "[01-07 15:49:59][DEBUG] jax_fem: Computing cell Jacobian and cell residual...\n",
      "[01-07 15:49:59][DEBUG] jax_fem: Function split_and_compute_cell took 0.0344 seconds\n",
      "[01-07 15:49:59][DEBUG] jax_fem: Creating sparse matrix with scipy...\n",
      "[01-07 15:49:59][DEBUG] jax_fem: res l_2 = 1.379896783906255e-06\n",
      "[01-07 15:49:59][DEBUG] jax_fem: Solving linear system...\n",
      "[01-07 15:49:59][DEBUG] jax_fem: JAX Solver - Solving linear system\n",
      "[01-07 15:50:00][DEBUG] jax_fem: JAX Solver - Finshed solving, res = 8.401570680555142e-11\n",
      "[01-07 15:50:00][DEBUG] jax_fem: Computing cell Jacobian and cell residual...\n",
      "[01-07 15:50:00][DEBUG] jax_fem: Function split_and_compute_cell took 0.0317 seconds\n",
      "[01-07 15:50:00][DEBUG] jax_fem: Creating sparse matrix with scipy...\n",
      "[01-07 15:50:00][DEBUG] jax_fem: res l_2 = 8.401604569421121e-11\n",
      "[01-07 15:50:00][INFO] jax_fem: Solve took 1.0986273288726807 [s]\n",
      "[01-07 15:50:00][DEBUG] jax_fem: max of dofs = 14121.452260220054\n",
      "[01-07 15:50:00][DEBUG] jax_fem: min of dofs = 299.9999924115155\n",
      "[01-07 15:50:00][DEBUG] jax_fem: Calling the row elimination solver for imposing Dirichlet B.C.\n",
      "[01-07 15:50:00][DEBUG] jax_fem: Start timing\n",
      "[01-07 15:50:00][DEBUG] jax_fem: Computing cell Jacobian and cell residual...\n",
      "[01-07 15:50:00][DEBUG] jax_fem: Function split_and_compute_cell took 0.0330 seconds\n",
      "[01-07 15:50:00][DEBUG] jax_fem: Creating sparse matrix with scipy...\n",
      "[01-07 15:50:00][DEBUG] jax_fem: Before, res l_2 = 13886.202806908812\n",
      "[01-07 15:50:00][DEBUG] jax_fem: Solving linear system...\n",
      "[01-07 15:50:00][DEBUG] jax_fem: JAX Solver - Solving linear system\n"
     ]
    },
    {
     "name": "stdout",
     "output_type": "stream",
     "text": [
      "\n",
      "Step 54, total step = 500, laser_x = 0.00017900000000000001, Lx = 0.0005, laser ON = True\n"
     ]
    },
    {
     "name": "stderr",
     "output_type": "stream",
     "text": [
      "[01-07 15:50:00][DEBUG] jax_fem: JAX Solver - Finshed solving, res = 4.0330531783701745e-07\n",
      "[01-07 15:50:00][DEBUG] jax_fem: Computing cell Jacobian and cell residual...\n",
      "[01-07 15:50:00][DEBUG] jax_fem: Function split_and_compute_cell took 0.0339 seconds\n",
      "[01-07 15:50:00][DEBUG] jax_fem: Creating sparse matrix with scipy...\n",
      "[01-07 15:50:00][DEBUG] jax_fem: res l_2 = 4.033053153637487e-07\n",
      "[01-07 15:50:00][INFO] jax_fem: Solve took 0.5574774742126465 [s]\n",
      "[01-07 15:50:00][DEBUG] jax_fem: max of dofs = 14217.180021219709\n",
      "[01-07 15:50:00][DEBUG] jax_fem: min of dofs = 299.9999916456884\n",
      "[01-07 15:50:00][DEBUG] jax_fem: Calling the row elimination solver for imposing Dirichlet B.C.\n",
      "[01-07 15:50:00][DEBUG] jax_fem: Start timing\n",
      "[01-07 15:50:00][DEBUG] jax_fem: Computing cell Jacobian and cell residual...\n",
      "[01-07 15:50:00][DEBUG] jax_fem: Function split_and_compute_cell took 0.0305 seconds\n",
      "[01-07 15:50:00][DEBUG] jax_fem: Creating sparse matrix with scipy...\n",
      "[01-07 15:50:00][DEBUG] jax_fem: Before, res l_2 = 13886.231236746109\n",
      "[01-07 15:50:00][DEBUG] jax_fem: Solving linear system...\n",
      "[01-07 15:50:00][DEBUG] jax_fem: JAX Solver - Solving linear system\n"
     ]
    },
    {
     "name": "stdout",
     "output_type": "stream",
     "text": [
      "\n",
      "Step 55, total step = 500, laser_x = 0.00017999999999999998, Lx = 0.0005, laser ON = True\n"
     ]
    },
    {
     "name": "stderr",
     "output_type": "stream",
     "text": [
      "[01-07 15:50:01][DEBUG] jax_fem: JAX Solver - Finshed solving, res = 4.043873842976026e-07\n",
      "[01-07 15:50:01][DEBUG] jax_fem: Computing cell Jacobian and cell residual...\n",
      "[01-07 15:50:01][DEBUG] jax_fem: Function split_and_compute_cell took 0.0347 seconds\n",
      "[01-07 15:50:01][DEBUG] jax_fem: Creating sparse matrix with scipy...\n",
      "[01-07 15:50:01][DEBUG] jax_fem: res l_2 = 4.0438738002006325e-07\n",
      "[01-07 15:50:01][INFO] jax_fem: Solve took 0.5742042064666748 [s]\n",
      "[01-07 15:50:01][DEBUG] jax_fem: max of dofs = 14299.17046228104\n",
      "[01-07 15:50:01][DEBUG] jax_fem: min of dofs = 299.9999910147917\n",
      "[01-07 15:50:01][DEBUG] jax_fem: Calling the row elimination solver for imposing Dirichlet B.C.\n",
      "[01-07 15:50:01][DEBUG] jax_fem: Start timing\n",
      "[01-07 15:50:01][DEBUG] jax_fem: Computing cell Jacobian and cell residual...\n",
      "[01-07 15:50:01][DEBUG] jax_fem: Function split_and_compute_cell took 0.0316 seconds\n",
      "[01-07 15:50:01][DEBUG] jax_fem: Creating sparse matrix with scipy...\n",
      "[01-07 15:50:01][DEBUG] jax_fem: Before, res l_2 = 13886.259240296362\n",
      "[01-07 15:50:01][DEBUG] jax_fem: Solving linear system...\n",
      "[01-07 15:50:01][DEBUG] jax_fem: JAX Solver - Solving linear system\n"
     ]
    },
    {
     "name": "stdout",
     "output_type": "stream",
     "text": [
      "\n",
      "Step 56, total step = 500, laser_x = 0.000181, Lx = 0.0005, laser ON = True\n"
     ]
    },
    {
     "name": "stderr",
     "output_type": "stream",
     "text": [
      "[01-07 15:50:01][DEBUG] jax_fem: JAX Solver - Finshed solving, res = 4.052714503697281e-07\n",
      "[01-07 15:50:01][DEBUG] jax_fem: Computing cell Jacobian and cell residual...\n",
      "[01-07 15:50:01][DEBUG] jax_fem: Function split_and_compute_cell took 0.0377 seconds\n",
      "[01-07 15:50:01][DEBUG] jax_fem: Creating sparse matrix with scipy...\n",
      "[01-07 15:50:01][DEBUG] jax_fem: res l_2 = 4.052714536030351e-07\n",
      "[01-07 15:50:01][INFO] jax_fem: Solve took 0.5656499862670898 [s]\n",
      "[01-07 15:50:01][DEBUG] jax_fem: max of dofs = 14367.626163303603\n",
      "[01-07 15:50:01][DEBUG] jax_fem: min of dofs = 299.9999904565242\n",
      "[01-07 15:50:01][DEBUG] jax_fem: Calling the row elimination solver for imposing Dirichlet B.C.\n",
      "[01-07 15:50:01][DEBUG] jax_fem: Start timing\n",
      "[01-07 15:50:01][DEBUG] jax_fem: Computing cell Jacobian and cell residual...\n",
      "[01-07 15:50:02][DEBUG] jax_fem: Function split_and_compute_cell took 0.0305 seconds\n",
      "[01-07 15:50:02][DEBUG] jax_fem: Creating sparse matrix with scipy...\n",
      "[01-07 15:50:02][DEBUG] jax_fem: Before, res l_2 = 13886.286816968006\n",
      "[01-07 15:50:02][DEBUG] jax_fem: Solving linear system...\n",
      "[01-07 15:50:02][DEBUG] jax_fem: JAX Solver - Solving linear system\n"
     ]
    },
    {
     "name": "stdout",
     "output_type": "stream",
     "text": [
      "\n",
      "Step 57, total step = 500, laser_x = 0.000182, Lx = 0.0005, laser ON = True\n"
     ]
    },
    {
     "name": "stderr",
     "output_type": "stream",
     "text": [
      "[01-07 15:50:02][DEBUG] jax_fem: JAX Solver - Finshed solving, res = 4.0588186302433246e-07\n",
      "[01-07 15:50:02][DEBUG] jax_fem: Computing cell Jacobian and cell residual...\n",
      "[01-07 15:50:02][DEBUG] jax_fem: Function split_and_compute_cell took 0.0317 seconds\n",
      "[01-07 15:50:02][DEBUG] jax_fem: Creating sparse matrix with scipy...\n",
      "[01-07 15:50:02][DEBUG] jax_fem: res l_2 = 4.0588187297896843e-07\n",
      "[01-07 15:50:02][INFO] jax_fem: Solve took 0.5812838077545166 [s]\n",
      "[01-07 15:50:02][DEBUG] jax_fem: max of dofs = 14422.78912702226\n",
      "[01-07 15:50:02][DEBUG] jax_fem: min of dofs = 299.9999899605698\n",
      "[01-07 15:50:02][DEBUG] jax_fem: Calling the row elimination solver for imposing Dirichlet B.C.\n",
      "[01-07 15:50:02][DEBUG] jax_fem: Start timing\n",
      "[01-07 15:50:02][DEBUG] jax_fem: Computing cell Jacobian and cell residual...\n",
      "[01-07 15:50:02][DEBUG] jax_fem: Function split_and_compute_cell took 0.0319 seconds\n",
      "[01-07 15:50:02][DEBUG] jax_fem: Creating sparse matrix with scipy...\n",
      "[01-07 15:50:02][DEBUG] jax_fem: Before, res l_2 = 13886.313966776634\n",
      "[01-07 15:50:02][DEBUG] jax_fem: Solving linear system...\n",
      "[01-07 15:50:02][DEBUG] jax_fem: JAX Solver - Solving linear system\n"
     ]
    },
    {
     "name": "stdout",
     "output_type": "stream",
     "text": [
      "\n",
      "Step 58, total step = 500, laser_x = 0.000183, Lx = 0.0005, laser ON = True\n"
     ]
    },
    {
     "name": "stderr",
     "output_type": "stream",
     "text": [
      "[01-07 15:50:03][DEBUG] jax_fem: JAX Solver - Finshed solving, res = 4.064110131277727e-07\n",
      "[01-07 15:50:03][DEBUG] jax_fem: Computing cell Jacobian and cell residual...\n",
      "[01-07 15:50:03][DEBUG] jax_fem: Function split_and_compute_cell took 0.0533 seconds\n",
      "[01-07 15:50:03][DEBUG] jax_fem: Creating sparse matrix with scipy...\n",
      "[01-07 15:50:03][DEBUG] jax_fem: res l_2 = 4.064110103475799e-07\n",
      "[01-07 15:50:03][INFO] jax_fem: Solve took 0.6171679496765137 [s]\n",
      "[01-07 15:50:03][DEBUG] jax_fem: max of dofs = 14464.936899297521\n",
      "[01-07 15:50:03][DEBUG] jax_fem: min of dofs = 299.9999895133947\n",
      "[01-07 15:50:03][DEBUG] jax_fem: Calling the row elimination solver for imposing Dirichlet B.C.\n",
      "[01-07 15:50:03][DEBUG] jax_fem: Start timing\n",
      "[01-07 15:50:03][DEBUG] jax_fem: Computing cell Jacobian and cell residual...\n",
      "[01-07 15:50:03][DEBUG] jax_fem: Function split_and_compute_cell took 0.0758 seconds\n",
      "[01-07 15:50:03][DEBUG] jax_fem: Creating sparse matrix with scipy...\n",
      "[01-07 15:50:03][DEBUG] jax_fem: Before, res l_2 = 13886.340690299765\n",
      "[01-07 15:50:03][DEBUG] jax_fem: Solving linear system...\n",
      "[01-07 15:50:03][DEBUG] jax_fem: JAX Solver - Solving linear system\n"
     ]
    },
    {
     "name": "stdout",
     "output_type": "stream",
     "text": [
      "\n",
      "Step 59, total step = 500, laser_x = 0.000184, Lx = 0.0005, laser ON = True\n"
     ]
    },
    {
     "name": "stderr",
     "output_type": "stream",
     "text": [
      "[01-07 15:50:03][DEBUG] jax_fem: JAX Solver - Finshed solving, res = 4.0714739922097563e-07\n",
      "[01-07 15:50:03][DEBUG] jax_fem: Computing cell Jacobian and cell residual...\n",
      "[01-07 15:50:03][DEBUG] jax_fem: Function split_and_compute_cell took 0.0416 seconds\n",
      "[01-07 15:50:03][DEBUG] jax_fem: Creating sparse matrix with scipy...\n",
      "[01-07 15:50:03][DEBUG] jax_fem: res l_2 = 4.071474017651506e-07\n",
      "[01-07 15:50:03][INFO] jax_fem: Solve took 0.6449790000915527 [s]\n",
      "[01-07 15:50:03][DEBUG] jax_fem: max of dofs = 14494.378817587796\n",
      "[01-07 15:50:03][DEBUG] jax_fem: min of dofs = 299.9999891050352\n",
      "[01-07 15:50:03][DEBUG] jax_fem: Calling the row elimination solver for imposing Dirichlet B.C.\n",
      "[01-07 15:50:03][DEBUG] jax_fem: Start timing\n",
      "[01-07 15:50:03][DEBUG] jax_fem: Computing cell Jacobian and cell residual...\n",
      "[01-07 15:50:03][DEBUG] jax_fem: Function split_and_compute_cell took 0.0336 seconds\n",
      "[01-07 15:50:03][DEBUG] jax_fem: Creating sparse matrix with scipy...\n",
      "[01-07 15:50:03][DEBUG] jax_fem: Before, res l_2 = 13886.366988633814\n",
      "[01-07 15:50:03][DEBUG] jax_fem: Solving linear system...\n",
      "[01-07 15:50:03][DEBUG] jax_fem: JAX Solver - Solving linear system\n"
     ]
    },
    {
     "name": "stdout",
     "output_type": "stream",
     "text": [
      "\n",
      "Step 60, total step = 500, laser_x = 0.000185, Lx = 0.0005, laser ON = True\n"
     ]
    },
    {
     "name": "stderr",
     "output_type": "stream",
     "text": [
      "[01-07 15:50:04][DEBUG] jax_fem: JAX Solver - Finshed solving, res = 4.0832845286231046e-07\n",
      "[01-07 15:50:04][DEBUG] jax_fem: Computing cell Jacobian and cell residual...\n",
      "[01-07 15:50:04][DEBUG] jax_fem: Function split_and_compute_cell took 0.0418 seconds\n",
      "[01-07 15:50:04][DEBUG] jax_fem: Creating sparse matrix with scipy...\n",
      "[01-07 15:50:04][DEBUG] jax_fem: res l_2 = 4.083284446917132e-07\n",
      "[01-07 15:50:04][INFO] jax_fem: Solve took 0.6373190879821777 [s]\n",
      "[01-07 15:50:04][DEBUG] jax_fem: max of dofs = 14511.452417172097\n",
      "[01-07 15:50:04][DEBUG] jax_fem: min of dofs = 299.9999887274842\n",
      "[01-07 15:50:04][DEBUG] jax_fem: Calling the row elimination solver for imposing Dirichlet B.C.\n",
      "[01-07 15:50:04][DEBUG] jax_fem: Start timing\n",
      "[01-07 15:50:04][DEBUG] jax_fem: Computing cell Jacobian and cell residual...\n",
      "[01-07 15:50:05][DEBUG] jax_fem: Function split_and_compute_cell took 0.2455 seconds\n",
      "[01-07 15:50:05][DEBUG] jax_fem: Creating sparse matrix with scipy...\n",
      "[01-07 15:50:05][DEBUG] jax_fem: Before, res l_2 = 0.007610258241027603\n",
      "[01-07 15:50:05][DEBUG] jax_fem: Solving linear system...\n",
      "[01-07 15:50:05][DEBUG] jax_fem: JAX Solver - Solving linear system\n",
      "[01-07 15:50:06][DEBUG] jax_fem: JAX Solver - Finshed solving, res = 9.985600990328007e-11\n",
      "[01-07 15:50:06][DEBUG] jax_fem: Computing cell Jacobian and cell residual...\n",
      "[01-07 15:50:06][DEBUG] jax_fem: Function split_and_compute_cell took 0.2877 seconds\n",
      "[01-07 15:50:06][DEBUG] jax_fem: Creating sparse matrix with scipy...\n",
      "[01-07 15:50:06][DEBUG] jax_fem: res l_2 = 9.985600988094002e-11\n",
      "[01-07 15:50:06][INFO] jax_fem: Solve took 2.0742673873901367 [s]\n",
      "[01-07 15:50:06][DEBUG] jax_fem: max of dofs = 2.0422843978917165e-08\n",
      "[01-07 15:50:06][DEBUG] jax_fem: min of dofs = -2.0422844001064545e-08\n",
      "[01-07 15:50:06][DEBUG] jax_fem: Calling the row elimination solver for imposing Dirichlet B.C.\n",
      "[01-07 15:50:06][DEBUG] jax_fem: Start timing\n",
      "[01-07 15:50:06][DEBUG] jax_fem: Computing cell Jacobian and cell residual...\n",
      "[01-07 15:50:06][DEBUG] jax_fem: Function split_and_compute_cell took 0.0318 seconds\n",
      "[01-07 15:50:06][DEBUG] jax_fem: Creating sparse matrix with scipy...\n",
      "[01-07 15:50:07][DEBUG] jax_fem: Before, res l_2 = 13886.392863353272\n",
      "[01-07 15:50:07][DEBUG] jax_fem: Solving linear system...\n",
      "[01-07 15:50:07][DEBUG] jax_fem: JAX Solver - Solving linear system\n"
     ]
    },
    {
     "name": "stdout",
     "output_type": "stream",
     "text": [
      "max f_plus = 0.0, max stress_xx = 7629842.522898836\n",
      "\n",
      "Step 61, total step = 500, laser_x = 0.000186, Lx = 0.0005, laser ON = True\n"
     ]
    },
    {
     "name": "stderr",
     "output_type": "stream",
     "text": [
      "[01-07 15:50:07][DEBUG] jax_fem: JAX Solver - Finshed solving, res = 4.1003314808568576e-07\n",
      "[01-07 15:50:07][DEBUG] jax_fem: Computing cell Jacobian and cell residual...\n",
      "[01-07 15:50:07][DEBUG] jax_fem: Function split_and_compute_cell took 0.0396 seconds\n",
      "[01-07 15:50:07][DEBUG] jax_fem: Creating sparse matrix with scipy...\n",
      "[01-07 15:50:07][DEBUG] jax_fem: res l_2 = 4.1003314794172886e-07\n",
      "[01-07 15:50:07][INFO] jax_fem: Solve took 0.57057785987854 [s]\n",
      "[01-07 15:50:07][DEBUG] jax_fem: max of dofs = 14516.52001804141\n",
      "[01-07 15:50:07][DEBUG] jax_fem: min of dofs = 299.9999883757989\n",
      "[01-07 15:50:07][DEBUG] jax_fem: Calling the row elimination solver for imposing Dirichlet B.C.\n",
      "[01-07 15:50:07][DEBUG] jax_fem: Start timing\n",
      "[01-07 15:50:07][DEBUG] jax_fem: Computing cell Jacobian and cell residual...\n",
      "[01-07 15:50:07][DEBUG] jax_fem: Function split_and_compute_cell took 0.0375 seconds\n",
      "[01-07 15:50:07][DEBUG] jax_fem: Creating sparse matrix with scipy...\n",
      "[01-07 15:50:07][DEBUG] jax_fem: Before, res l_2 = 13886.418316471993\n",
      "[01-07 15:50:07][DEBUG] jax_fem: Solving linear system...\n",
      "[01-07 15:50:07][DEBUG] jax_fem: JAX Solver - Solving linear system\n"
     ]
    },
    {
     "name": "stdout",
     "output_type": "stream",
     "text": [
      "\n",
      "Step 62, total step = 500, laser_x = 0.000187, Lx = 0.0005, laser ON = True\n"
     ]
    },
    {
     "name": "stderr",
     "output_type": "stream",
     "text": [
      "[01-07 15:50:08][DEBUG] jax_fem: JAX Solver - Finshed solving, res = 4.121450835007804e-07\n",
      "[01-07 15:50:08][DEBUG] jax_fem: Computing cell Jacobian and cell residual...\n",
      "[01-07 15:50:08][DEBUG] jax_fem: Function split_and_compute_cell took 0.0407 seconds\n",
      "[01-07 15:50:08][DEBUG] jax_fem: Creating sparse matrix with scipy...\n",
      "[01-07 15:50:08][DEBUG] jax_fem: res l_2 = 4.1214507980928136e-07\n",
      "[01-07 15:50:08][INFO] jax_fem: Solve took 0.5931878089904785 [s]\n",
      "[01-07 15:50:08][DEBUG] jax_fem: max of dofs = 14509.965507425562\n",
      "[01-07 15:50:08][DEBUG] jax_fem: min of dofs = 299.99998804794853\n",
      "[01-07 15:50:08][DEBUG] jax_fem: Calling the row elimination solver for imposing Dirichlet B.C.\n",
      "[01-07 15:50:08][DEBUG] jax_fem: Start timing\n",
      "[01-07 15:50:08][DEBUG] jax_fem: Computing cell Jacobian and cell residual...\n",
      "[01-07 15:50:08][DEBUG] jax_fem: Function split_and_compute_cell took 0.0389 seconds\n",
      "[01-07 15:50:08][DEBUG] jax_fem: Creating sparse matrix with scipy...\n",
      "[01-07 15:50:08][DEBUG] jax_fem: Before, res l_2 = 13886.443350406598\n",
      "[01-07 15:50:08][DEBUG] jax_fem: Solving linear system...\n",
      "[01-07 15:50:08][DEBUG] jax_fem: JAX Solver - Solving linear system\n"
     ]
    },
    {
     "name": "stdout",
     "output_type": "stream",
     "text": [
      "\n",
      "Step 63, total step = 500, laser_x = 0.00018800000000000002, Lx = 0.0005, laser ON = True\n"
     ]
    },
    {
     "name": "stderr",
     "output_type": "stream",
     "text": [
      "[01-07 15:50:08][DEBUG] jax_fem: JAX Solver - Finshed solving, res = 4.1439870911279205e-07\n",
      "[01-07 15:50:08][DEBUG] jax_fem: Computing cell Jacobian and cell residual...\n",
      "[01-07 15:50:08][DEBUG] jax_fem: Function split_and_compute_cell took 0.0347 seconds\n",
      "[01-07 15:50:08][DEBUG] jax_fem: Creating sparse matrix with scipy...\n",
      "[01-07 15:50:08][DEBUG] jax_fem: res l_2 = 4.143987092027665e-07\n",
      "[01-07 15:50:08][INFO] jax_fem: Solve took 0.5885558128356934 [s]\n",
      "[01-07 15:50:08][DEBUG] jax_fem: max of dofs = 14492.19132539387\n",
      "[01-07 15:50:08][DEBUG] jax_fem: min of dofs = 299.99998769677234\n",
      "[01-07 15:50:08][DEBUG] jax_fem: Calling the row elimination solver for imposing Dirichlet B.C.\n",
      "[01-07 15:50:08][DEBUG] jax_fem: Start timing\n",
      "[01-07 15:50:08][DEBUG] jax_fem: Computing cell Jacobian and cell residual...\n",
      "[01-07 15:50:08][DEBUG] jax_fem: Function split_and_compute_cell took 0.0348 seconds\n",
      "[01-07 15:50:08][DEBUG] jax_fem: Creating sparse matrix with scipy...\n",
      "[01-07 15:50:08][DEBUG] jax_fem: Before, res l_2 = 13886.467967941868\n",
      "[01-07 15:50:08][DEBUG] jax_fem: Solving linear system...\n",
      "[01-07 15:50:08][DEBUG] jax_fem: JAX Solver - Solving linear system\n"
     ]
    },
    {
     "name": "stdout",
     "output_type": "stream",
     "text": [
      "\n",
      "Step 64, total step = 500, laser_x = 0.00018899999999999999, Lx = 0.0005, laser ON = True\n"
     ]
    },
    {
     "name": "stderr",
     "output_type": "stream",
     "text": [
      "[01-07 15:50:09][DEBUG] jax_fem: JAX Solver - Finshed solving, res = 4.1648751290165447e-07\n",
      "[01-07 15:50:09][DEBUG] jax_fem: Computing cell Jacobian and cell residual...\n",
      "[01-07 15:50:09][DEBUG] jax_fem: Function split_and_compute_cell took 0.0390 seconds\n",
      "[01-07 15:50:09][DEBUG] jax_fem: Creating sparse matrix with scipy...\n",
      "[01-07 15:50:09][DEBUG] jax_fem: res l_2 = 4.164875076301057e-07\n",
      "[01-07 15:50:09][INFO] jax_fem: Solve took 0.7887377738952637 [s]\n",
      "[01-07 15:50:09][DEBUG] jax_fem: max of dofs = 14507.868058415337\n",
      "[01-07 15:50:09][DEBUG] jax_fem: min of dofs = 299.99998733576064\n",
      "[01-07 15:50:09][DEBUG] jax_fem: Calling the row elimination solver for imposing Dirichlet B.C.\n",
      "[01-07 15:50:09][DEBUG] jax_fem: Start timing\n",
      "[01-07 15:50:09][DEBUG] jax_fem: Computing cell Jacobian and cell residual...\n",
      "[01-07 15:50:09][DEBUG] jax_fem: Function split_and_compute_cell took 0.0292 seconds\n",
      "[01-07 15:50:09][DEBUG] jax_fem: Creating sparse matrix with scipy...\n",
      "[01-07 15:50:09][DEBUG] jax_fem: Before, res l_2 = 13886.492172198106\n",
      "[01-07 15:50:09][DEBUG] jax_fem: Solving linear system...\n",
      "[01-07 15:50:09][DEBUG] jax_fem: JAX Solver - Solving linear system\n"
     ]
    },
    {
     "name": "stdout",
     "output_type": "stream",
     "text": [
      "\n",
      "Step 65, total step = 500, laser_x = 0.00019, Lx = 0.0005, laser ON = True\n"
     ]
    },
    {
     "name": "stderr",
     "output_type": "stream",
     "text": [
      "[01-07 15:50:10][DEBUG] jax_fem: JAX Solver - Finshed solving, res = 4.1818656051868907e-07\n",
      "[01-07 15:50:10][DEBUG] jax_fem: Computing cell Jacobian and cell residual...\n",
      "[01-07 15:50:10][DEBUG] jax_fem: Function split_and_compute_cell took 0.0380 seconds\n",
      "[01-07 15:50:10][DEBUG] jax_fem: Creating sparse matrix with scipy...\n",
      "[01-07 15:50:10][DEBUG] jax_fem: res l_2 = 4.181865652163042e-07\n",
      "[01-07 15:50:10][INFO] jax_fem: Solve took 0.5811142921447754 [s]\n",
      "[01-07 15:50:10][DEBUG] jax_fem: max of dofs = 14580.971531856663\n",
      "[01-07 15:50:10][DEBUG] jax_fem: min of dofs = 299.99998697754563\n",
      "[01-07 15:50:10][DEBUG] jax_fem: Calling the row elimination solver for imposing Dirichlet B.C.\n",
      "[01-07 15:50:10][DEBUG] jax_fem: Start timing\n",
      "[01-07 15:50:10][DEBUG] jax_fem: Computing cell Jacobian and cell residual...\n",
      "[01-07 15:50:10][DEBUG] jax_fem: Function split_and_compute_cell took 0.0325 seconds\n",
      "[01-07 15:50:10][DEBUG] jax_fem: Creating sparse matrix with scipy...\n",
      "[01-07 15:50:10][DEBUG] jax_fem: Before, res l_2 = 13886.515966600393\n",
      "[01-07 15:50:10][DEBUG] jax_fem: Solving linear system...\n",
      "[01-07 15:50:10][DEBUG] jax_fem: JAX Solver - Solving linear system\n"
     ]
    },
    {
     "name": "stdout",
     "output_type": "stream",
     "text": [
      "\n",
      "Step 66, total step = 500, laser_x = 0.00019099999999999998, Lx = 0.0005, laser ON = True\n"
     ]
    },
    {
     "name": "stderr",
     "output_type": "stream",
     "text": [
      "[01-07 15:50:10][DEBUG] jax_fem: JAX Solver - Finshed solving, res = 4.194402011250943e-07\n",
      "[01-07 15:50:10][DEBUG] jax_fem: Computing cell Jacobian and cell residual...\n",
      "[01-07 15:50:10][DEBUG] jax_fem: Function split_and_compute_cell took 0.0315 seconds\n",
      "[01-07 15:50:10][DEBUG] jax_fem: Creating sparse matrix with scipy...\n",
      "[01-07 15:50:10][DEBUG] jax_fem: res l_2 = 4.194401942637331e-07\n",
      "[01-07 15:50:10][INFO] jax_fem: Solve took 0.5838472843170166 [s]\n",
      "[01-07 15:50:10][DEBUG] jax_fem: max of dofs = 14640.9317229942\n",
      "[01-07 15:50:10][DEBUG] jax_fem: min of dofs = 299.99998662348355\n",
      "[01-07 15:50:10][DEBUG] jax_fem: Calling the row elimination solver for imposing Dirichlet B.C.\n",
      "[01-07 15:50:10][DEBUG] jax_fem: Start timing\n",
      "[01-07 15:50:10][DEBUG] jax_fem: Computing cell Jacobian and cell residual...\n",
      "[01-07 15:50:10][DEBUG] jax_fem: Function split_and_compute_cell took 0.0279 seconds\n",
      "[01-07 15:50:10][DEBUG] jax_fem: Creating sparse matrix with scipy...\n",
      "[01-07 15:50:10][DEBUG] jax_fem: Before, res l_2 = 13886.539354849649\n",
      "[01-07 15:50:10][DEBUG] jax_fem: Solving linear system...\n",
      "[01-07 15:50:10][DEBUG] jax_fem: JAX Solver - Solving linear system\n"
     ]
    },
    {
     "name": "stdout",
     "output_type": "stream",
     "text": [
      "\n",
      "Step 67, total step = 500, laser_x = 0.000192, Lx = 0.0005, laser ON = True\n"
     ]
    },
    {
     "name": "stderr",
     "output_type": "stream",
     "text": [
      "[01-07 15:50:11][DEBUG] jax_fem: JAX Solver - Finshed solving, res = 4.2038386664001545e-07\n",
      "[01-07 15:50:11][DEBUG] jax_fem: Computing cell Jacobian and cell residual...\n",
      "[01-07 15:50:11][DEBUG] jax_fem: Function split_and_compute_cell took 0.0514 seconds\n",
      "[01-07 15:50:11][DEBUG] jax_fem: Creating sparse matrix with scipy...\n",
      "[01-07 15:50:11][DEBUG] jax_fem: res l_2 = 4.2038386856000277e-07\n",
      "[01-07 15:50:11][INFO] jax_fem: Solve took 0.6419780254364014 [s]\n",
      "[01-07 15:50:11][DEBUG] jax_fem: max of dofs = 14687.988893731168\n",
      "[01-07 15:50:11][DEBUG] jax_fem: min of dofs = 299.99998627586314\n",
      "[01-07 15:50:11][DEBUG] jax_fem: Calling the row elimination solver for imposing Dirichlet B.C.\n",
      "[01-07 15:50:11][DEBUG] jax_fem: Start timing\n",
      "[01-07 15:50:11][DEBUG] jax_fem: Computing cell Jacobian and cell residual...\n",
      "[01-07 15:50:11][DEBUG] jax_fem: Function split_and_compute_cell took 0.0469 seconds\n",
      "[01-07 15:50:11][DEBUG] jax_fem: Creating sparse matrix with scipy...\n",
      "[01-07 15:50:11][DEBUG] jax_fem: Before, res l_2 = 13886.56234089546\n",
      "[01-07 15:50:11][DEBUG] jax_fem: Solving linear system...\n",
      "[01-07 15:50:11][DEBUG] jax_fem: JAX Solver - Solving linear system\n"
     ]
    },
    {
     "name": "stdout",
     "output_type": "stream",
     "text": [
      "\n",
      "Step 68, total step = 500, laser_x = 0.000193, Lx = 0.0005, laser ON = True\n"
     ]
    },
    {
     "name": "stderr",
     "output_type": "stream",
     "text": [
      "[01-07 15:50:11][DEBUG] jax_fem: JAX Solver - Finshed solving, res = 4.2129367307582816e-07\n",
      "[01-07 15:50:11][DEBUG] jax_fem: Computing cell Jacobian and cell residual...\n",
      "[01-07 15:50:11][DEBUG] jax_fem: Function split_and_compute_cell took 0.0392 seconds\n",
      "[01-07 15:50:11][DEBUG] jax_fem: Creating sparse matrix with scipy...\n",
      "[01-07 15:50:11][DEBUG] jax_fem: res l_2 = 4.212936744607316e-07\n",
      "[01-07 15:50:11][INFO] jax_fem: Solve took 0.6160356998443604 [s]\n",
      "[01-07 15:50:11][DEBUG] jax_fem: max of dofs = 14722.416591357465\n",
      "[01-07 15:50:11][DEBUG] jax_fem: min of dofs = 299.9999859378387\n",
      "[01-07 15:50:12][DEBUG] jax_fem: Calling the row elimination solver for imposing Dirichlet B.C.\n",
      "[01-07 15:50:12][DEBUG] jax_fem: Start timing\n",
      "[01-07 15:50:12][DEBUG] jax_fem: Computing cell Jacobian and cell residual...\n",
      "[01-07 15:50:12][DEBUG] jax_fem: Function split_and_compute_cell took 0.0373 seconds\n",
      "[01-07 15:50:12][DEBUG] jax_fem: Creating sparse matrix with scipy...\n",
      "[01-07 15:50:12][DEBUG] jax_fem: Before, res l_2 = 13886.584928910568\n",
      "[01-07 15:50:12][DEBUG] jax_fem: Solving linear system...\n",
      "[01-07 15:50:12][DEBUG] jax_fem: JAX Solver - Solving linear system\n"
     ]
    },
    {
     "name": "stdout",
     "output_type": "stream",
     "text": [
      "\n",
      "Step 69, total step = 500, laser_x = 0.000194, Lx = 0.0005, laser ON = True\n"
     ]
    },
    {
     "name": "stderr",
     "output_type": "stream",
     "text": [
      "[01-07 15:50:12][DEBUG] jax_fem: JAX Solver - Finshed solving, res = 4.224805614732704e-07\n",
      "[01-07 15:50:12][DEBUG] jax_fem: Computing cell Jacobian and cell residual...\n",
      "[01-07 15:50:12][DEBUG] jax_fem: Function split_and_compute_cell took 0.0368 seconds\n",
      "[01-07 15:50:12][DEBUG] jax_fem: Creating sparse matrix with scipy...\n",
      "[01-07 15:50:12][DEBUG] jax_fem: res l_2 = 4.2248056840429063e-07\n",
      "[01-07 15:50:12][INFO] jax_fem: Solve took 0.593177080154419 [s]\n",
      "[01-07 15:50:12][DEBUG] jax_fem: max of dofs = 14744.51816816168\n",
      "[01-07 15:50:12][DEBUG] jax_fem: min of dofs = 299.9999856135658\n",
      "[01-07 15:50:12][DEBUG] jax_fem: Calling the row elimination solver for imposing Dirichlet B.C.\n",
      "[01-07 15:50:12][DEBUG] jax_fem: Start timing\n",
      "[01-07 15:50:12][DEBUG] jax_fem: Computing cell Jacobian and cell residual...\n",
      "[01-07 15:50:12][DEBUG] jax_fem: Function split_and_compute_cell took 0.0388 seconds\n",
      "[01-07 15:50:12][DEBUG] jax_fem: Creating sparse matrix with scipy...\n",
      "[01-07 15:50:12][DEBUG] jax_fem: Before, res l_2 = 13886.607123266975\n",
      "[01-07 15:50:12][DEBUG] jax_fem: Solving linear system...\n",
      "[01-07 15:50:12][DEBUG] jax_fem: JAX Solver - Solving linear system\n"
     ]
    },
    {
     "name": "stdout",
     "output_type": "stream",
     "text": [
      "\n",
      "Step 70, total step = 500, laser_x = 0.000195, Lx = 0.0005, laser ON = True\n"
     ]
    },
    {
     "name": "stderr",
     "output_type": "stream",
     "text": [
      "[01-07 15:50:13][DEBUG] jax_fem: JAX Solver - Finshed solving, res = 4.241659000432443e-07\n",
      "[01-07 15:50:13][DEBUG] jax_fem: Computing cell Jacobian and cell residual...\n",
      "[01-07 15:50:13][DEBUG] jax_fem: Function split_and_compute_cell took 0.0469 seconds\n",
      "[01-07 15:50:13][DEBUG] jax_fem: Creating sparse matrix with scipy...\n",
      "[01-07 15:50:13][DEBUG] jax_fem: res l_2 = 4.2416590499500165e-07\n",
      "[01-07 15:50:13][INFO] jax_fem: Solve took 0.6295151710510254 [s]\n",
      "[01-07 15:50:13][DEBUG] jax_fem: max of dofs = 14754.623453166105\n",
      "[01-07 15:50:13][DEBUG] jax_fem: min of dofs = 299.9999853085795\n",
      "[01-07 15:50:13][DEBUG] jax_fem: Calling the row elimination solver for imposing Dirichlet B.C.\n",
      "[01-07 15:50:13][DEBUG] jax_fem: Start timing\n",
      "[01-07 15:50:13][DEBUG] jax_fem: Computing cell Jacobian and cell residual...\n",
      "[01-07 15:50:13][DEBUG] jax_fem: Function split_and_compute_cell took 0.2438 seconds\n",
      "[01-07 15:50:13][DEBUG] jax_fem: Creating sparse matrix with scipy...\n",
      "[01-07 15:50:14][DEBUG] jax_fem: Before, res l_2 = 0.018218442621425177\n",
      "[01-07 15:50:14][DEBUG] jax_fem: Solving linear system...\n",
      "[01-07 15:50:14][DEBUG] jax_fem: JAX Solver - Solving linear system\n",
      "[01-07 15:50:15][DEBUG] jax_fem: JAX Solver - Finshed solving, res = 8.909854591536605e-11\n",
      "[01-07 15:50:15][DEBUG] jax_fem: Computing cell Jacobian and cell residual...\n",
      "[01-07 15:50:15][DEBUG] jax_fem: Function split_and_compute_cell took 0.2677 seconds\n",
      "[01-07 15:50:15][DEBUG] jax_fem: Creating sparse matrix with scipy...\n",
      "[01-07 15:50:15][DEBUG] jax_fem: res l_2 = 8.909854671582568e-11\n",
      "[01-07 15:50:15][INFO] jax_fem: Solve took 2.212415933609009 [s]\n",
      "[01-07 15:50:15][DEBUG] jax_fem: max of dofs = 2.775143486272622e-08\n",
      "[01-07 15:50:15][DEBUG] jax_fem: min of dofs = -2.7751434884776654e-08\n",
      "[01-07 15:50:15][DEBUG] jax_fem: Calling the row elimination solver for imposing Dirichlet B.C.\n",
      "[01-07 15:50:15][DEBUG] jax_fem: Start timing\n",
      "[01-07 15:50:15][DEBUG] jax_fem: Computing cell Jacobian and cell residual...\n",
      "[01-07 15:50:15][DEBUG] jax_fem: Function split_and_compute_cell took 0.0330 seconds\n",
      "[01-07 15:50:15][DEBUG] jax_fem: Creating sparse matrix with scipy...\n",
      "[01-07 15:50:15][DEBUG] jax_fem: Before, res l_2 = 13886.628928513572\n",
      "[01-07 15:50:15][DEBUG] jax_fem: Solving linear system...\n",
      "[01-07 15:50:15][DEBUG] jax_fem: JAX Solver - Solving linear system\n"
     ]
    },
    {
     "name": "stdout",
     "output_type": "stream",
     "text": [
      "max f_plus = 0.0, max stress_xx = 18078705.440390717\n",
      "\n",
      "Step 71, total step = 500, laser_x = 0.000196, Lx = 0.0005, laser ON = True\n"
     ]
    },
    {
     "name": "stderr",
     "output_type": "stream",
     "text": [
      "[01-07 15:50:16][DEBUG] jax_fem: JAX Solver - Finshed solving, res = 4.2638756045097843e-07\n",
      "[01-07 15:50:16][DEBUG] jax_fem: Computing cell Jacobian and cell residual...\n",
      "[01-07 15:50:16][DEBUG] jax_fem: Function split_and_compute_cell took 0.0340 seconds\n",
      "[01-07 15:50:16][DEBUG] jax_fem: Creating sparse matrix with scipy...\n",
      "[01-07 15:50:16][DEBUG] jax_fem: res l_2 = 4.2638755262617356e-07\n",
      "[01-07 15:50:16][INFO] jax_fem: Solve took 0.5695154666900635 [s]\n",
      "[01-07 15:50:16][DEBUG] jax_fem: max of dofs = 14753.08559516094\n",
      "[01-07 15:50:16][DEBUG] jax_fem: min of dofs = 299.99998503041996\n",
      "[01-07 15:50:16][DEBUG] jax_fem: Calling the row elimination solver for imposing Dirichlet B.C.\n",
      "[01-07 15:50:16][DEBUG] jax_fem: Start timing\n",
      "[01-07 15:50:16][DEBUG] jax_fem: Computing cell Jacobian and cell residual...\n",
      "[01-07 15:50:16][DEBUG] jax_fem: Function split_and_compute_cell took 0.0323 seconds\n",
      "[01-07 15:50:16][DEBUG] jax_fem: Creating sparse matrix with scipy...\n",
      "[01-07 15:50:16][DEBUG] jax_fem: Before, res l_2 = 13886.650349355246\n",
      "[01-07 15:50:16][DEBUG] jax_fem: Solving linear system...\n",
      "[01-07 15:50:16][DEBUG] jax_fem: JAX Solver - Solving linear system\n"
     ]
    },
    {
     "name": "stdout",
     "output_type": "stream",
     "text": [
      "\n",
      "Step 72, total step = 500, laser_x = 0.00019700000000000002, Lx = 0.0005, laser ON = True\n"
     ]
    },
    {
     "name": "stderr",
     "output_type": "stream",
     "text": [
      "[01-07 15:50:16][DEBUG] jax_fem: JAX Solver - Finshed solving, res = 4.2897800421410206e-07\n",
      "[01-07 15:50:16][DEBUG] jax_fem: Computing cell Jacobian and cell residual...\n",
      "[01-07 15:50:16][DEBUG] jax_fem: Function split_and_compute_cell took 0.0318 seconds\n",
      "[01-07 15:50:16][DEBUG] jax_fem: Creating sparse matrix with scipy...\n",
      "[01-07 15:50:17][DEBUG] jax_fem: res l_2 = 4.289779981998123e-07\n",
      "[01-07 15:50:17][INFO] jax_fem: Solve took 0.5941123962402344 [s]\n",
      "[01-07 15:50:17][DEBUG] jax_fem: max of dofs = 14740.278088304529\n",
      "[01-07 15:50:17][DEBUG] jax_fem: min of dofs = 299.9999847894477\n",
      "[01-07 15:50:17][DEBUG] jax_fem: Calling the row elimination solver for imposing Dirichlet B.C.\n",
      "[01-07 15:50:17][DEBUG] jax_fem: Start timing\n",
      "[01-07 15:50:17][DEBUG] jax_fem: Computing cell Jacobian and cell residual...\n",
      "[01-07 15:50:17][DEBUG] jax_fem: Function split_and_compute_cell took 0.0383 seconds\n",
      "[01-07 15:50:17][DEBUG] jax_fem: Creating sparse matrix with scipy...\n",
      "[01-07 15:50:17][DEBUG] jax_fem: Before, res l_2 = 13886.671390633364\n",
      "[01-07 15:50:17][DEBUG] jax_fem: Solving linear system...\n",
      "[01-07 15:50:17][DEBUG] jax_fem: JAX Solver - Solving linear system\n"
     ]
    },
    {
     "name": "stdout",
     "output_type": "stream",
     "text": [
      "\n",
      "Step 73, total step = 500, laser_x = 0.000198, Lx = 0.0005, laser ON = True\n"
     ]
    },
    {
     "name": "stderr",
     "output_type": "stream",
     "text": [
      "[01-07 15:50:17][DEBUG] jax_fem: JAX Solver - Finshed solving, res = 4.316269286353219e-07\n",
      "[01-07 15:50:17][DEBUG] jax_fem: Computing cell Jacobian and cell residual...\n",
      "[01-07 15:50:17][DEBUG] jax_fem: Function split_and_compute_cell took 0.0411 seconds\n",
      "[01-07 15:50:17][DEBUG] jax_fem: Creating sparse matrix with scipy...\n",
      "[01-07 15:50:17][DEBUG] jax_fem: res l_2 = 4.31626921136699e-07\n",
      "[01-07 15:50:17][INFO] jax_fem: Solve took 0.5961532592773438 [s]\n",
      "[01-07 15:50:17][DEBUG] jax_fem: max of dofs = 14716.591984807832\n",
      "[01-07 15:50:17][DEBUG] jax_fem: min of dofs = 299.9999845744715\n",
      "[01-07 15:50:17][DEBUG] jax_fem: Calling the row elimination solver for imposing Dirichlet B.C.\n",
      "[01-07 15:50:17][DEBUG] jax_fem: Start timing\n",
      "[01-07 15:50:17][DEBUG] jax_fem: Computing cell Jacobian and cell residual...\n",
      "[01-07 15:50:17][DEBUG] jax_fem: Function split_and_compute_cell took 0.0343 seconds\n",
      "[01-07 15:50:17][DEBUG] jax_fem: Creating sparse matrix with scipy...\n",
      "[01-07 15:50:17][DEBUG] jax_fem: Before, res l_2 = 13886.692057307579\n",
      "[01-07 15:50:17][DEBUG] jax_fem: Solving linear system...\n",
      "[01-07 15:50:17][DEBUG] jax_fem: JAX Solver - Solving linear system\n"
     ]
    },
    {
     "name": "stdout",
     "output_type": "stream",
     "text": [
      "\n",
      "Step 74, total step = 500, laser_x = 0.000199, Lx = 0.0005, laser ON = True\n"
     ]
    },
    {
     "name": "stderr",
     "output_type": "stream",
     "text": [
      "[01-07 15:50:18][DEBUG] jax_fem: JAX Solver - Finshed solving, res = 4.3400121654203577e-07\n",
      "[01-07 15:50:18][DEBUG] jax_fem: Computing cell Jacobian and cell residual...\n",
      "[01-07 15:50:18][DEBUG] jax_fem: Function split_and_compute_cell took 0.0411 seconds\n",
      "[01-07 15:50:18][DEBUG] jax_fem: Creating sparse matrix with scipy...\n",
      "[01-07 15:50:18][DEBUG] jax_fem: res l_2 = 4.340012176239739e-07\n",
      "[01-07 15:50:18][INFO] jax_fem: Solve took 0.6017675399780273 [s]\n",
      "[01-07 15:50:18][DEBUG] jax_fem: max of dofs = 14682.433293629023\n",
      "[01-07 15:50:18][DEBUG] jax_fem: min of dofs = 299.99998436532525\n",
      "[01-07 15:50:18][DEBUG] jax_fem: Calling the row elimination solver for imposing Dirichlet B.C.\n",
      "[01-07 15:50:18][DEBUG] jax_fem: Start timing\n",
      "[01-07 15:50:18][DEBUG] jax_fem: Computing cell Jacobian and cell residual...\n",
      "[01-07 15:50:18][DEBUG] jax_fem: Function split_and_compute_cell took 0.0603 seconds\n",
      "[01-07 15:50:18][DEBUG] jax_fem: Creating sparse matrix with scipy...\n",
      "[01-07 15:50:18][DEBUG] jax_fem: Before, res l_2 = 13886.712354438909\n",
      "[01-07 15:50:18][DEBUG] jax_fem: Solving linear system...\n",
      "[01-07 15:50:18][DEBUG] jax_fem: JAX Solver - Solving linear system\n"
     ]
    },
    {
     "name": "stdout",
     "output_type": "stream",
     "text": [
      "\n",
      "Step 75, total step = 500, laser_x = 0.00019999999999999998, Lx = 0.0005, laser ON = True\n"
     ]
    },
    {
     "name": "stderr",
     "output_type": "stream",
     "text": [
      "[01-07 15:50:18][DEBUG] jax_fem: JAX Solver - Finshed solving, res = 4.358715757654164e-07\n",
      "[01-07 15:50:18][DEBUG] jax_fem: Computing cell Jacobian and cell residual...\n",
      "[01-07 15:50:18][DEBUG] jax_fem: Function split_and_compute_cell took 0.0554 seconds\n",
      "[01-07 15:50:18][DEBUG] jax_fem: Creating sparse matrix with scipy...\n",
      "[01-07 15:50:18][DEBUG] jax_fem: res l_2 = 4.3587157239670643e-07\n",
      "[01-07 15:50:18][INFO] jax_fem: Solve took 0.6919441223144531 [s]\n",
      "[01-07 15:50:18][DEBUG] jax_fem: max of dofs = 14740.744191121626\n",
      "[01-07 15:50:18][DEBUG] jax_fem: min of dofs = 299.9999840369298\n",
      "[01-07 15:50:18][DEBUG] jax_fem: Calling the row elimination solver for imposing Dirichlet B.C.\n",
      "[01-07 15:50:18][DEBUG] jax_fem: Start timing\n",
      "[01-07 15:50:18][DEBUG] jax_fem: Computing cell Jacobian and cell residual...\n",
      "[01-07 15:50:19][DEBUG] jax_fem: Function split_and_compute_cell took 0.0308 seconds\n",
      "[01-07 15:50:19][DEBUG] jax_fem: Creating sparse matrix with scipy...\n",
      "[01-07 15:50:19][DEBUG] jax_fem: Before, res l_2 = 13886.732287173989\n",
      "[01-07 15:50:19][DEBUG] jax_fem: Solving linear system...\n",
      "[01-07 15:50:19][DEBUG] jax_fem: JAX Solver - Solving linear system\n"
     ]
    },
    {
     "name": "stdout",
     "output_type": "stream",
     "text": [
      "\n",
      "Step 76, total step = 500, laser_x = 0.000201, Lx = 0.0005, laser ON = True\n"
     ]
    },
    {
     "name": "stderr",
     "output_type": "stream",
     "text": [
      "[01-07 15:50:19][DEBUG] jax_fem: JAX Solver - Finshed solving, res = 4.3719636108013546e-07\n",
      "[01-07 15:50:19][DEBUG] jax_fem: Computing cell Jacobian and cell residual...\n",
      "[01-07 15:50:19][DEBUG] jax_fem: Function split_and_compute_cell took 0.0342 seconds\n",
      "[01-07 15:50:19][DEBUG] jax_fem: Creating sparse matrix with scipy...\n",
      "[01-07 15:50:19][DEBUG] jax_fem: res l_2 = 4.371963671343458e-07\n",
      "[01-07 15:50:19][INFO] jax_fem: Solve took 0.5762126445770264 [s]\n",
      "[01-07 15:50:19][DEBUG] jax_fem: max of dofs = 14796.165459210726\n",
      "[01-07 15:50:19][DEBUG] jax_fem: min of dofs = 299.9999836973429\n",
      "[01-07 15:50:19][DEBUG] jax_fem: Calling the row elimination solver for imposing Dirichlet B.C.\n",
      "[01-07 15:50:19][DEBUG] jax_fem: Start timing\n",
      "[01-07 15:50:19][DEBUG] jax_fem: Computing cell Jacobian and cell residual...\n",
      "[01-07 15:50:19][DEBUG] jax_fem: Function split_and_compute_cell took 0.0341 seconds\n",
      "[01-07 15:50:19][DEBUG] jax_fem: Creating sparse matrix with scipy...\n",
      "[01-07 15:50:19][DEBUG] jax_fem: Before, res l_2 = 13886.751860730463\n",
      "[01-07 15:50:19][DEBUG] jax_fem: Solving linear system...\n",
      "[01-07 15:50:19][DEBUG] jax_fem: JAX Solver - Solving linear system\n"
     ]
    },
    {
     "name": "stdout",
     "output_type": "stream",
     "text": [
      "\n",
      "Step 77, total step = 500, laser_x = 0.000202, Lx = 0.0005, laser ON = True\n"
     ]
    },
    {
     "name": "stderr",
     "output_type": "stream",
     "text": [
      "[01-07 15:50:20][DEBUG] jax_fem: JAX Solver - Finshed solving, res = 4.3813476338333623e-07\n",
      "[01-07 15:50:20][DEBUG] jax_fem: Computing cell Jacobian and cell residual...\n",
      "[01-07 15:50:20][DEBUG] jax_fem: Function split_and_compute_cell took 0.0309 seconds\n",
      "[01-07 15:50:20][DEBUG] jax_fem: Creating sparse matrix with scipy...\n",
      "[01-07 15:50:20][DEBUG] jax_fem: res l_2 = 4.381347591526281e-07\n",
      "[01-07 15:50:20][INFO] jax_fem: Solve took 0.5584917068481445 [s]\n",
      "[01-07 15:50:20][DEBUG] jax_fem: max of dofs = 14838.89415668929\n",
      "[01-07 15:50:20][DEBUG] jax_fem: min of dofs = 299.9999833633426\n",
      "[01-07 15:50:20][DEBUG] jax_fem: Calling the row elimination solver for imposing Dirichlet B.C.\n",
      "[01-07 15:50:20][DEBUG] jax_fem: Start timing\n",
      "[01-07 15:50:20][DEBUG] jax_fem: Computing cell Jacobian and cell residual...\n",
      "[01-07 15:50:20][DEBUG] jax_fem: Function split_and_compute_cell took 0.0273 seconds\n",
      "[01-07 15:50:20][DEBUG] jax_fem: Creating sparse matrix with scipy...\n",
      "[01-07 15:50:20][DEBUG] jax_fem: Before, res l_2 = 13886.771080383427\n",
      "[01-07 15:50:20][DEBUG] jax_fem: Solving linear system...\n",
      "[01-07 15:50:20][DEBUG] jax_fem: JAX Solver - Solving linear system\n"
     ]
    },
    {
     "name": "stdout",
     "output_type": "stream",
     "text": [
      "\n",
      "Step 78, total step = 500, laser_x = 0.000203, Lx = 0.0005, laser ON = True\n"
     ]
    },
    {
     "name": "stderr",
     "output_type": "stream",
     "text": [
      "[01-07 15:50:20][DEBUG] jax_fem: JAX Solver - Finshed solving, res = 4.3898623652510605e-07\n",
      "[01-07 15:50:20][DEBUG] jax_fem: Computing cell Jacobian and cell residual...\n",
      "[01-07 15:50:20][DEBUG] jax_fem: Function split_and_compute_cell took 0.0380 seconds\n",
      "[01-07 15:50:20][DEBUG] jax_fem: Creating sparse matrix with scipy...\n",
      "[01-07 15:50:20][DEBUG] jax_fem: res l_2 = 4.3898623928862923e-07\n",
      "[01-07 15:50:20][INFO] jax_fem: Solve took 0.5775299072265625 [s]\n",
      "[01-07 15:50:20][DEBUG] jax_fem: max of dofs = 14869.202264781534\n",
      "[01-07 15:50:20][DEBUG] jax_fem: min of dofs = 299.9999830390863\n",
      "[01-07 15:50:20][DEBUG] jax_fem: Calling the row elimination solver for imposing Dirichlet B.C.\n",
      "[01-07 15:50:20][DEBUG] jax_fem: Start timing\n",
      "[01-07 15:50:20][DEBUG] jax_fem: Computing cell Jacobian and cell residual...\n",
      "[01-07 15:50:20][DEBUG] jax_fem: Function split_and_compute_cell took 0.0321 seconds\n",
      "[01-07 15:50:20][DEBUG] jax_fem: Creating sparse matrix with scipy...\n",
      "[01-07 15:50:20][DEBUG] jax_fem: Before, res l_2 = 13886.789951452905\n",
      "[01-07 15:50:20][DEBUG] jax_fem: Solving linear system...\n",
      "[01-07 15:50:20][DEBUG] jax_fem: JAX Solver - Solving linear system\n"
     ]
    },
    {
     "name": "stdout",
     "output_type": "stream",
     "text": [
      "\n",
      "Step 79, total step = 500, laser_x = 0.000204, Lx = 0.0005, laser ON = True\n"
     ]
    },
    {
     "name": "stderr",
     "output_type": "stream",
     "text": [
      "[01-07 15:50:21][DEBUG] jax_fem: JAX Solver - Finshed solving, res = 4.400763609083233e-07\n",
      "[01-07 15:50:21][DEBUG] jax_fem: Computing cell Jacobian and cell residual...\n",
      "[01-07 15:50:21][DEBUG] jax_fem: Function split_and_compute_cell took 0.0415 seconds\n",
      "[01-07 15:50:21][DEBUG] jax_fem: Creating sparse matrix with scipy...\n",
      "[01-07 15:50:21][DEBUG] jax_fem: res l_2 = 4.40076360352588e-07\n",
      "[01-07 15:50:21][INFO] jax_fem: Solve took 0.6192235946655273 [s]\n",
      "[01-07 15:50:21][DEBUG] jax_fem: max of dofs = 14887.390417509067\n",
      "[01-07 15:50:21][DEBUG] jax_fem: min of dofs = 299.99998272962404\n",
      "[01-07 15:50:21][DEBUG] jax_fem: Calling the row elimination solver for imposing Dirichlet B.C.\n",
      "[01-07 15:50:21][DEBUG] jax_fem: Start timing\n",
      "[01-07 15:50:21][DEBUG] jax_fem: Computing cell Jacobian and cell residual...\n",
      "[01-07 15:50:21][DEBUG] jax_fem: Function split_and_compute_cell took 0.0315 seconds\n",
      "[01-07 15:50:21][DEBUG] jax_fem: Creating sparse matrix with scipy...\n",
      "[01-07 15:50:21][DEBUG] jax_fem: Before, res l_2 = 13886.808479292245\n",
      "[01-07 15:50:21][DEBUG] jax_fem: Solving linear system...\n",
      "[01-07 15:50:21][DEBUG] jax_fem: JAX Solver - Solving linear system\n"
     ]
    },
    {
     "name": "stdout",
     "output_type": "stream",
     "text": [
      "\n",
      "Step 80, total step = 500, laser_x = 0.000205, Lx = 0.0005, laser ON = True\n"
     ]
    },
    {
     "name": "stderr",
     "output_type": "stream",
     "text": [
      "[01-07 15:50:21][DEBUG] jax_fem: JAX Solver - Finshed solving, res = 4.4162849789132914e-07\n",
      "[01-07 15:50:21][DEBUG] jax_fem: Computing cell Jacobian and cell residual...\n",
      "[01-07 15:50:21][DEBUG] jax_fem: Function split_and_compute_cell took 0.0435 seconds\n",
      "[01-07 15:50:21][DEBUG] jax_fem: Creating sparse matrix with scipy...\n",
      "[01-07 15:50:21][DEBUG] jax_fem: res l_2 = 4.4162849175888657e-07\n",
      "[01-07 15:50:21][INFO] jax_fem: Solve took 0.5698397159576416 [s]\n",
      "[01-07 15:50:21][DEBUG] jax_fem: max of dofs = 14893.784726177326\n",
      "[01-07 15:50:21][DEBUG] jax_fem: min of dofs = 299.99998244133184\n",
      "[01-07 15:50:22][DEBUG] jax_fem: Calling the row elimination solver for imposing Dirichlet B.C.\n",
      "[01-07 15:50:22][DEBUG] jax_fem: Start timing\n",
      "[01-07 15:50:22][DEBUG] jax_fem: Computing cell Jacobian and cell residual...\n",
      "[01-07 15:50:22][DEBUG] jax_fem: Function split_and_compute_cell took 0.2745 seconds\n",
      "[01-07 15:50:22][DEBUG] jax_fem: Creating sparse matrix with scipy...\n",
      "[01-07 15:50:22][DEBUG] jax_fem: Before, res l_2 = 0.032297539923068275\n",
      "[01-07 15:50:22][DEBUG] jax_fem: Solving linear system...\n",
      "[01-07 15:50:22][DEBUG] jax_fem: JAX Solver - Solving linear system\n",
      "[01-07 15:50:23][DEBUG] jax_fem: JAX Solver - Finshed solving, res = 4.632289088720777e-11\n",
      "[01-07 15:50:23][DEBUG] jax_fem: Computing cell Jacobian and cell residual...\n",
      "[01-07 15:50:24][DEBUG] jax_fem: Function split_and_compute_cell took 0.2512 seconds\n",
      "[01-07 15:50:24][DEBUG] jax_fem: Creating sparse matrix with scipy...\n",
      "[01-07 15:50:24][DEBUG] jax_fem: res l_2 = 4.63228907565933e-11\n",
      "[01-07 15:50:24][INFO] jax_fem: Solve took 2.152442455291748 [s]\n",
      "[01-07 15:50:24][DEBUG] jax_fem: max of dofs = 5.073294517778795e-08\n",
      "[01-07 15:50:24][DEBUG] jax_fem: min of dofs = -5.073294517702309e-08\n",
      "[01-07 15:50:24][DEBUG] jax_fem: Calling the row elimination solver for imposing Dirichlet B.C.\n",
      "[01-07 15:50:24][DEBUG] jax_fem: Start timing\n",
      "[01-07 15:50:24][DEBUG] jax_fem: Computing cell Jacobian and cell residual...\n",
      "[01-07 15:50:24][DEBUG] jax_fem: Function split_and_compute_cell took 0.0384 seconds\n",
      "[01-07 15:50:24][DEBUG] jax_fem: Creating sparse matrix with scipy...\n",
      "[01-07 15:50:24][DEBUG] jax_fem: Before, res l_2 = 13886.826669277432\n",
      "[01-07 15:50:24][DEBUG] jax_fem: Solving linear system...\n",
      "[01-07 15:50:24][DEBUG] jax_fem: JAX Solver - Solving linear system\n"
     ]
    },
    {
     "name": "stdout",
     "output_type": "stream",
     "text": [
      "max f_plus = 0.0, max stress_xx = 40876786.469229266\n",
      "\n",
      "Step 81, total step = 500, laser_x = 0.000206, Lx = 0.0005, laser ON = True\n"
     ]
    },
    {
     "name": "stderr",
     "output_type": "stream",
     "text": [
      "[01-07 15:50:24][DEBUG] jax_fem: JAX Solver - Finshed solving, res = 4.4367136751800293e-07\n",
      "[01-07 15:50:24][DEBUG] jax_fem: Computing cell Jacobian and cell residual...\n",
      "[01-07 15:50:24][DEBUG] jax_fem: Function split_and_compute_cell took 0.0343 seconds\n",
      "[01-07 15:50:24][DEBUG] jax_fem: Creating sparse matrix with scipy...\n",
      "[01-07 15:50:25][DEBUG] jax_fem: res l_2 = 4.436713697945403e-07\n",
      "[01-07 15:50:25][INFO] jax_fem: Solve took 0.5774874687194824 [s]\n",
      "[01-07 15:50:25][DEBUG] jax_fem: max of dofs = 14888.733768804721\n",
      "[01-07 15:50:25][DEBUG] jax_fem: min of dofs = 299.99998218257554\n",
      "[01-07 15:50:25][DEBUG] jax_fem: Calling the row elimination solver for imposing Dirichlet B.C.\n",
      "[01-07 15:50:25][DEBUG] jax_fem: Start timing\n",
      "[01-07 15:50:25][DEBUG] jax_fem: Computing cell Jacobian and cell residual...\n",
      "[01-07 15:50:25][DEBUG] jax_fem: Function split_and_compute_cell took 0.0326 seconds\n",
      "[01-07 15:50:25][DEBUG] jax_fem: Creating sparse matrix with scipy...\n",
      "[01-07 15:50:25][DEBUG] jax_fem: Before, res l_2 = 13886.844526797242\n",
      "[01-07 15:50:25][DEBUG] jax_fem: Solving linear system...\n",
      "[01-07 15:50:25][DEBUG] jax_fem: JAX Solver - Solving linear system\n"
     ]
    },
    {
     "name": "stdout",
     "output_type": "stream",
     "text": [
      "\n",
      "Step 82, total step = 500, laser_x = 0.000207, Lx = 0.0005, laser ON = True\n"
     ]
    },
    {
     "name": "stderr",
     "output_type": "stream",
     "text": [
      "[01-07 15:50:25][DEBUG] jax_fem: JAX Solver - Finshed solving, res = 4.4602324988919984e-07\n",
      "[01-07 15:50:25][DEBUG] jax_fem: Computing cell Jacobian and cell residual...\n",
      "[01-07 15:50:25][DEBUG] jax_fem: Function split_and_compute_cell took 0.0336 seconds\n",
      "[01-07 15:50:25][DEBUG] jax_fem: Creating sparse matrix with scipy...\n",
      "[01-07 15:50:25][DEBUG] jax_fem: res l_2 = 4.460232494328036e-07\n",
      "[01-07 15:50:25][INFO] jax_fem: Solve took 0.6746537685394287 [s]\n",
      "[01-07 15:50:25][DEBUG] jax_fem: max of dofs = 14872.60575370633\n",
      "[01-07 15:50:25][DEBUG] jax_fem: min of dofs = 299.9999819645652\n",
      "[01-07 15:50:25][DEBUG] jax_fem: Calling the row elimination solver for imposing Dirichlet B.C.\n",
      "[01-07 15:50:25][DEBUG] jax_fem: Start timing\n",
      "[01-07 15:50:25][DEBUG] jax_fem: Computing cell Jacobian and cell residual...\n",
      "[01-07 15:50:25][DEBUG] jax_fem: Function split_and_compute_cell took 0.0306 seconds\n",
      "[01-07 15:50:25][DEBUG] jax_fem: Creating sparse matrix with scipy...\n",
      "[01-07 15:50:25][DEBUG] jax_fem: Before, res l_2 = 13886.862057244169\n",
      "[01-07 15:50:25][DEBUG] jax_fem: Solving linear system...\n",
      "[01-07 15:50:25][DEBUG] jax_fem: JAX Solver - Solving linear system\n"
     ]
    },
    {
     "name": "stdout",
     "output_type": "stream",
     "text": [
      "\n",
      "Step 83, total step = 500, laser_x = 0.00020800000000000001, Lx = 0.0005, laser ON = True\n"
     ]
    },
    {
     "name": "stderr",
     "output_type": "stream",
     "text": [
      "[01-07 15:50:26][DEBUG] jax_fem: JAX Solver - Finshed solving, res = 4.4836193663920675e-07\n",
      "[01-07 15:50:26][DEBUG] jax_fem: Computing cell Jacobian and cell residual...\n",
      "[01-07 15:50:26][DEBUG] jax_fem: Function split_and_compute_cell took 0.0895 seconds\n",
      "[01-07 15:50:26][DEBUG] jax_fem: Creating sparse matrix with scipy...\n",
      "[01-07 15:50:26][DEBUG] jax_fem: res l_2 = 4.483619341199822e-07\n",
      "[01-07 15:50:26][INFO] jax_fem: Solve took 0.6685597896575928 [s]\n",
      "[01-07 15:50:26][DEBUG] jax_fem: max of dofs = 14845.78586032543\n",
      "[01-07 15:50:26][DEBUG] jax_fem: min of dofs = 299.99998179163157\n",
      "[01-07 15:50:26][DEBUG] jax_fem: Calling the row elimination solver for imposing Dirichlet B.C.\n",
      "[01-07 15:50:26][DEBUG] jax_fem: Start timing\n",
      "[01-07 15:50:26][DEBUG] jax_fem: Computing cell Jacobian and cell residual...\n",
      "[01-07 15:50:26][DEBUG] jax_fem: Function split_and_compute_cell took 0.0473 seconds\n",
      "[01-07 15:50:26][DEBUG] jax_fem: Creating sparse matrix with scipy...\n",
      "[01-07 15:50:26][DEBUG] jax_fem: Before, res l_2 = 13886.879266006119\n",
      "[01-07 15:50:26][DEBUG] jax_fem: Solving linear system...\n",
      "[01-07 15:50:26][DEBUG] jax_fem: JAX Solver - Solving linear system\n"
     ]
    },
    {
     "name": "stdout",
     "output_type": "stream",
     "text": [
      "\n",
      "Step 84, total step = 500, laser_x = 0.00020899999999999998, Lx = 0.0005, laser ON = True\n"
     ]
    },
    {
     "name": "stderr",
     "output_type": "stream",
     "text": [
      "[01-07 15:50:26][DEBUG] jax_fem: JAX Solver - Finshed solving, res = 4.503504675878238e-07\n",
      "[01-07 15:50:26][DEBUG] jax_fem: Computing cell Jacobian and cell residual...\n",
      "[01-07 15:50:27][DEBUG] jax_fem: Function split_and_compute_cell took 0.0378 seconds\n",
      "[01-07 15:50:27][DEBUG] jax_fem: Creating sparse matrix with scipy...\n",
      "[01-07 15:50:27][DEBUG] jax_fem: res l_2 = 4.503504615175795e-07\n",
      "[01-07 15:50:27][INFO] jax_fem: Solve took 0.661992073059082 [s]\n",
      "[01-07 15:50:27][DEBUG] jax_fem: max of dofs = 14808.67375536073\n",
      "[01-07 15:50:27][DEBUG] jax_fem: min of dofs = 299.9999816266619\n",
      "[01-07 15:50:27][DEBUG] jax_fem: Calling the row elimination solver for imposing Dirichlet B.C.\n",
      "[01-07 15:50:27][DEBUG] jax_fem: Start timing\n",
      "[01-07 15:50:27][DEBUG] jax_fem: Computing cell Jacobian and cell residual...\n",
      "[01-07 15:50:27][DEBUG] jax_fem: Function split_and_compute_cell took 0.0299 seconds\n",
      "[01-07 15:50:27][DEBUG] jax_fem: Creating sparse matrix with scipy...\n",
      "[01-07 15:50:27][DEBUG] jax_fem: Before, res l_2 = 13886.89615845879\n",
      "[01-07 15:50:27][DEBUG] jax_fem: Solving linear system...\n",
      "[01-07 15:50:27][DEBUG] jax_fem: JAX Solver - Solving linear system\n"
     ]
    },
    {
     "name": "stdout",
     "output_type": "stream",
     "text": [
      "\n",
      "Step 85, total step = 500, laser_x = 0.00021, Lx = 0.0005, laser ON = True\n"
     ]
    },
    {
     "name": "stderr",
     "output_type": "stream",
     "text": [
      "[01-07 15:50:27][DEBUG] jax_fem: JAX Solver - Finshed solving, res = 4.5176563855937906e-07\n",
      "[01-07 15:50:27][DEBUG] jax_fem: Computing cell Jacobian and cell residual...\n",
      "[01-07 15:50:27][DEBUG] jax_fem: Function split_and_compute_cell took 0.0347 seconds\n",
      "[01-07 15:50:27][DEBUG] jax_fem: Creating sparse matrix with scipy...\n",
      "[01-07 15:50:27][DEBUG] jax_fem: res l_2 = 4.517656345987489e-07\n",
      "[01-07 15:50:27][INFO] jax_fem: Solve took 0.5811419486999512 [s]\n",
      "[01-07 15:50:27][DEBUG] jax_fem: max of dofs = 14831.639217556392\n",
      "[01-07 15:50:27][DEBUG] jax_fem: min of dofs = 299.9999813577502\n",
      "[01-07 15:50:27][DEBUG] jax_fem: Calling the row elimination solver for imposing Dirichlet B.C.\n",
      "[01-07 15:50:27][DEBUG] jax_fem: Start timing\n",
      "[01-07 15:50:27][DEBUG] jax_fem: Computing cell Jacobian and cell residual...\n",
      "[01-07 15:50:27][DEBUG] jax_fem: Function split_and_compute_cell took 0.0342 seconds\n",
      "[01-07 15:50:27][DEBUG] jax_fem: Creating sparse matrix with scipy...\n",
      "[01-07 15:50:27][DEBUG] jax_fem: Before, res l_2 = 13886.912739958709\n",
      "[01-07 15:50:27][DEBUG] jax_fem: Solving linear system...\n",
      "[01-07 15:50:27][DEBUG] jax_fem: JAX Solver - Solving linear system\n"
     ]
    },
    {
     "name": "stdout",
     "output_type": "stream",
     "text": [
      "\n",
      "Step 86, total step = 500, laser_x = 0.00021099999999999998, Lx = 0.0005, laser ON = True\n"
     ]
    },
    {
     "name": "stderr",
     "output_type": "stream",
     "text": [
      "[01-07 15:50:28][DEBUG] jax_fem: JAX Solver - Finshed solving, res = 4.525802177368518e-07\n",
      "[01-07 15:50:28][DEBUG] jax_fem: Computing cell Jacobian and cell residual...\n",
      "[01-07 15:50:28][DEBUG] jax_fem: Function split_and_compute_cell took 0.0395 seconds\n",
      "[01-07 15:50:28][DEBUG] jax_fem: Creating sparse matrix with scipy...\n",
      "[01-07 15:50:28][DEBUG] jax_fem: res l_2 = 4.525802113797634e-07\n",
      "[01-07 15:50:28][INFO] jax_fem: Solve took 0.6012229919433594 [s]\n",
      "[01-07 15:50:28][DEBUG] jax_fem: max of dofs = 14884.614872927443\n",
      "[01-07 15:50:28][DEBUG] jax_fem: min of dofs = 299.99998103107595\n",
      "[01-07 15:50:28][DEBUG] jax_fem: Calling the row elimination solver for imposing Dirichlet B.C.\n",
      "[01-07 15:50:28][DEBUG] jax_fem: Start timing\n",
      "[01-07 15:50:28][DEBUG] jax_fem: Computing cell Jacobian and cell residual...\n",
      "[01-07 15:50:28][DEBUG] jax_fem: Function split_and_compute_cell took 0.0299 seconds\n",
      "[01-07 15:50:28][DEBUG] jax_fem: Creating sparse matrix with scipy...\n",
      "[01-07 15:50:28][DEBUG] jax_fem: Before, res l_2 = 13886.929015836873\n",
      "[01-07 15:50:28][DEBUG] jax_fem: Solving linear system...\n",
      "[01-07 15:50:28][DEBUG] jax_fem: JAX Solver - Solving linear system\n"
     ]
    },
    {
     "name": "stdout",
     "output_type": "stream",
     "text": [
      "\n",
      "Step 87, total step = 500, laser_x = 0.000212, Lx = 0.0005, laser ON = True\n"
     ]
    },
    {
     "name": "stderr",
     "output_type": "stream",
     "text": [
      "[01-07 15:50:28][DEBUG] jax_fem: JAX Solver - Finshed solving, res = 4.529719827530439e-07\n",
      "[01-07 15:50:28][DEBUG] jax_fem: Computing cell Jacobian and cell residual...\n",
      "[01-07 15:50:29][DEBUG] jax_fem: Function split_and_compute_cell took 0.0402 seconds\n",
      "[01-07 15:50:29][DEBUG] jax_fem: Creating sparse matrix with scipy...\n",
      "[01-07 15:50:29][DEBUG] jax_fem: res l_2 = 4.529719782269941e-07\n",
      "[01-07 15:50:29][INFO] jax_fem: Solve took 0.7597012519836426 [s]\n",
      "[01-07 15:50:29][DEBUG] jax_fem: max of dofs = 14925.012917607572\n",
      "[01-07 15:50:29][DEBUG] jax_fem: min of dofs = 299.9999807121044\n",
      "[01-07 15:50:29][DEBUG] jax_fem: Calling the row elimination solver for imposing Dirichlet B.C.\n",
      "[01-07 15:50:29][DEBUG] jax_fem: Start timing\n",
      "[01-07 15:50:29][DEBUG] jax_fem: Computing cell Jacobian and cell residual...\n",
      "[01-07 15:50:29][DEBUG] jax_fem: Function split_and_compute_cell took 0.0290 seconds\n",
      "[01-07 15:50:29][DEBUG] jax_fem: Creating sparse matrix with scipy...\n",
      "[01-07 15:50:29][DEBUG] jax_fem: Before, res l_2 = 13886.944991392984\n",
      "[01-07 15:50:29][DEBUG] jax_fem: Solving linear system...\n",
      "[01-07 15:50:29][DEBUG] jax_fem: JAX Solver - Solving linear system\n"
     ]
    },
    {
     "name": "stdout",
     "output_type": "stream",
     "text": [
      "\n",
      "Step 88, total step = 500, laser_x = 0.000213, Lx = 0.0005, laser ON = True\n"
     ]
    },
    {
     "name": "stderr",
     "output_type": "stream",
     "text": [
      "[01-07 15:50:29][DEBUG] jax_fem: JAX Solver - Finshed solving, res = 4.5325820809442854e-07\n",
      "[01-07 15:50:29][DEBUG] jax_fem: Computing cell Jacobian and cell residual...\n",
      "[01-07 15:50:29][DEBUG] jax_fem: Function split_and_compute_cell took 0.0328 seconds\n",
      "[01-07 15:50:29][DEBUG] jax_fem: Creating sparse matrix with scipy...\n",
      "[01-07 15:50:29][DEBUG] jax_fem: res l_2 = 4.5325820613787396e-07\n",
      "[01-07 15:50:29][INFO] jax_fem: Solve took 0.597426176071167 [s]\n",
      "[01-07 15:50:29][DEBUG] jax_fem: max of dofs = 14953.10476982095\n",
      "[01-07 15:50:29][DEBUG] jax_fem: min of dofs = 299.9999804052775\n",
      "[01-07 15:50:29][DEBUG] jax_fem: Calling the row elimination solver for imposing Dirichlet B.C.\n",
      "[01-07 15:50:29][DEBUG] jax_fem: Start timing\n",
      "[01-07 15:50:29][DEBUG] jax_fem: Computing cell Jacobian and cell residual...\n",
      "[01-07 15:50:29][DEBUG] jax_fem: Function split_and_compute_cell took 0.0328 seconds\n",
      "[01-07 15:50:29][DEBUG] jax_fem: Creating sparse matrix with scipy...\n",
      "[01-07 15:50:29][DEBUG] jax_fem: Before, res l_2 = 13886.960671890198\n",
      "[01-07 15:50:29][DEBUG] jax_fem: Solving linear system...\n",
      "[01-07 15:50:29][DEBUG] jax_fem: JAX Solver - Solving linear system\n"
     ]
    },
    {
     "name": "stdout",
     "output_type": "stream",
     "text": [
      "\n",
      "Step 89, total step = 500, laser_x = 0.000214, Lx = 0.0005, laser ON = True\n"
     ]
    },
    {
     "name": "stderr",
     "output_type": "stream",
     "text": [
      "[01-07 15:50:30][DEBUG] jax_fem: JAX Solver - Finshed solving, res = 4.537772819196983e-07\n",
      "[01-07 15:50:30][DEBUG] jax_fem: Computing cell Jacobian and cell residual...\n",
      "[01-07 15:50:30][DEBUG] jax_fem: Function split_and_compute_cell took 0.0465 seconds\n",
      "[01-07 15:50:30][DEBUG] jax_fem: Creating sparse matrix with scipy...\n",
      "[01-07 15:50:30][DEBUG] jax_fem: res l_2 = 4.5377728141450506e-07\n",
      "[01-07 15:50:30][INFO] jax_fem: Solve took 0.6117563247680664 [s]\n",
      "[01-07 15:50:30][DEBUG] jax_fem: max of dofs = 14969.189841862542\n",
      "[01-07 15:50:30][DEBUG] jax_fem: min of dofs = 299.99998011593044\n",
      "[01-07 15:50:30][DEBUG] jax_fem: Calling the row elimination solver for imposing Dirichlet B.C.\n",
      "[01-07 15:50:30][DEBUG] jax_fem: Start timing\n",
      "[01-07 15:50:30][DEBUG] jax_fem: Computing cell Jacobian and cell residual...\n",
      "[01-07 15:50:30][DEBUG] jax_fem: Function split_and_compute_cell took 0.0347 seconds\n",
      "[01-07 15:50:30][DEBUG] jax_fem: Creating sparse matrix with scipy...\n",
      "[01-07 15:50:30][DEBUG] jax_fem: Before, res l_2 = 13886.976062550391\n",
      "[01-07 15:50:30][DEBUG] jax_fem: Solving linear system...\n",
      "[01-07 15:50:30][DEBUG] jax_fem: JAX Solver - Solving linear system\n"
     ]
    },
    {
     "name": "stdout",
     "output_type": "stream",
     "text": [
      "\n",
      "Step 90, total step = 500, laser_x = 0.000215, Lx = 0.0005, laser ON = True\n"
     ]
    },
    {
     "name": "stderr",
     "output_type": "stream",
     "text": [
      "[01-07 15:50:30][DEBUG] jax_fem: JAX Solver - Finshed solving, res = 4.547581780182335e-07\n",
      "[01-07 15:50:30][DEBUG] jax_fem: Computing cell Jacobian and cell residual...\n",
      "[01-07 15:50:30][DEBUG] jax_fem: Function split_and_compute_cell took 0.0344 seconds\n",
      "[01-07 15:50:30][DEBUG] jax_fem: Creating sparse matrix with scipy...\n",
      "[01-07 15:50:30][DEBUG] jax_fem: res l_2 = 4.5475818011346154e-07\n",
      "[01-07 15:50:30][INFO] jax_fem: Solve took 0.5831971168518066 [s]\n",
      "[01-07 15:50:30][DEBUG] jax_fem: max of dofs = 14973.592450282782\n",
      "[01-07 15:50:30][DEBUG] jax_fem: min of dofs = 299.99997985073827\n",
      "[01-07 15:50:31][DEBUG] jax_fem: Calling the row elimination solver for imposing Dirichlet B.C.\n",
      "[01-07 15:50:31][DEBUG] jax_fem: Start timing\n",
      "[01-07 15:50:31][DEBUG] jax_fem: Computing cell Jacobian and cell residual...\n",
      "[01-07 15:50:31][DEBUG] jax_fem: Function split_and_compute_cell took 0.2661 seconds\n",
      "[01-07 15:50:31][DEBUG] jax_fem: Creating sparse matrix with scipy...\n",
      "[01-07 15:50:31][DEBUG] jax_fem: Before, res l_2 = 0.05082807934814072\n",
      "[01-07 15:50:31][DEBUG] jax_fem: Solving linear system...\n",
      "[01-07 15:50:31][DEBUG] jax_fem: JAX Solver - Solving linear system\n",
      "[01-07 15:50:33][DEBUG] jax_fem: JAX Solver - Finshed solving, res = 6.472424704543753e-11\n",
      "[01-07 15:50:33][DEBUG] jax_fem: Computing cell Jacobian and cell residual...\n",
      "[01-07 15:50:33][DEBUG] jax_fem: Function split_and_compute_cell took 0.2924 seconds\n",
      "[01-07 15:50:33][DEBUG] jax_fem: Creating sparse matrix with scipy...\n",
      "[01-07 15:50:33][DEBUG] jax_fem: res l_2 = 6.472424234274058e-11\n",
      "[01-07 15:50:33][INFO] jax_fem: Solve took 2.3904972076416016 [s]\n",
      "[01-07 15:50:33][DEBUG] jax_fem: max of dofs = 8.425776501899381e-08\n",
      "[01-07 15:50:33][DEBUG] jax_fem: min of dofs = -8.425776501767756e-08\n",
      "[01-07 15:50:33][DEBUG] jax_fem: Calling the row elimination solver for imposing Dirichlet B.C.\n",
      "[01-07 15:50:33][DEBUG] jax_fem: Start timing\n",
      "[01-07 15:50:33][DEBUG] jax_fem: Computing cell Jacobian and cell residual...\n",
      "[01-07 15:50:33][DEBUG] jax_fem: Function split_and_compute_cell took 0.0300 seconds\n",
      "[01-07 15:50:33][DEBUG] jax_fem: Creating sparse matrix with scipy...\n",
      "[01-07 15:50:33][DEBUG] jax_fem: Before, res l_2 = 13886.991168549883\n",
      "[01-07 15:50:33][DEBUG] jax_fem: Solving linear system...\n",
      "[01-07 15:50:33][DEBUG] jax_fem: JAX Solver - Solving linear system\n"
     ]
    },
    {
     "name": "stdout",
     "output_type": "stream",
     "text": [
      "max f_plus = 0.0, max stress_xx = 88318889.57963578\n",
      "\n",
      "Step 91, total step = 500, laser_x = 0.000216, Lx = 0.0005, laser ON = True\n"
     ]
    },
    {
     "name": "stderr",
     "output_type": "stream",
     "text": [
      "[01-07 15:50:34][DEBUG] jax_fem: JAX Solver - Finshed solving, res = 4.5622858577697295e-07\n",
      "[01-07 15:50:34][DEBUG] jax_fem: Computing cell Jacobian and cell residual...\n",
      "[01-07 15:50:34][DEBUG] jax_fem: Function split_and_compute_cell took 0.0362 seconds\n",
      "[01-07 15:50:34][DEBUG] jax_fem: Creating sparse matrix with scipy...\n",
      "[01-07 15:50:34][DEBUG] jax_fem: res l_2 = 4.562285838785078e-07\n",
      "[01-07 15:50:34][INFO] jax_fem: Solve took 0.6753411293029785 [s]\n",
      "[01-07 15:50:34][DEBUG] jax_fem: max of dofs = 14966.658887173866\n",
      "[01-07 15:50:34][DEBUG] jax_fem: min of dofs = 299.99997961839756\n",
      "[01-07 15:50:34][DEBUG] jax_fem: Calling the row elimination solver for imposing Dirichlet B.C.\n",
      "[01-07 15:50:34][DEBUG] jax_fem: Start timing\n",
      "[01-07 15:50:34][DEBUG] jax_fem: Computing cell Jacobian and cell residual...\n",
      "[01-07 15:50:34][DEBUG] jax_fem: Function split_and_compute_cell took 0.0375 seconds\n",
      "[01-07 15:50:34][DEBUG] jax_fem: Creating sparse matrix with scipy...\n",
      "[01-07 15:50:34][DEBUG] jax_fem: Before, res l_2 = 13887.005995015608\n",
      "[01-07 15:50:34][DEBUG] jax_fem: Solving linear system...\n",
      "[01-07 15:50:34][DEBUG] jax_fem: JAX Solver - Solving linear system\n"
     ]
    },
    {
     "name": "stdout",
     "output_type": "stream",
     "text": [
      "\n",
      "Step 92, total step = 500, laser_x = 0.00021700000000000002, Lx = 0.0005, laser ON = True\n"
     ]
    },
    {
     "name": "stderr",
     "output_type": "stream",
     "text": [
      "[01-07 15:50:34][DEBUG] jax_fem: JAX Solver - Finshed solving, res = 4.5800191902926697e-07\n",
      "[01-07 15:50:34][DEBUG] jax_fem: Computing cell Jacobian and cell residual...\n",
      "[01-07 15:50:34][DEBUG] jax_fem: Function split_and_compute_cell took 0.0399 seconds\n",
      "[01-07 15:50:34][DEBUG] jax_fem: Creating sparse matrix with scipy...\n",
      "[01-07 15:50:35][DEBUG] jax_fem: res l_2 = 4.580019145041088e-07\n",
      "[01-07 15:50:35][INFO] jax_fem: Solve took 0.5991165637969971 [s]\n",
      "[01-07 15:50:35][DEBUG] jax_fem: max of dofs = 14948.754660711957\n",
      "[01-07 15:50:35][DEBUG] jax_fem: min of dofs = 299.99997943048936\n",
      "[01-07 15:50:35][DEBUG] jax_fem: Calling the row elimination solver for imposing Dirichlet B.C.\n",
      "[01-07 15:50:35][DEBUG] jax_fem: Start timing\n",
      "[01-07 15:50:35][DEBUG] jax_fem: Computing cell Jacobian and cell residual...\n",
      "[01-07 15:50:35][DEBUG] jax_fem: Function split_and_compute_cell took 0.0341 seconds\n",
      "[01-07 15:50:35][DEBUG] jax_fem: Creating sparse matrix with scipy...\n",
      "[01-07 15:50:35][DEBUG] jax_fem: Before, res l_2 = 13887.020547021673\n",
      "[01-07 15:50:35][DEBUG] jax_fem: Solving linear system...\n",
      "[01-07 15:50:35][DEBUG] jax_fem: JAX Solver - Solving linear system\n"
     ]
    },
    {
     "name": "stdout",
     "output_type": "stream",
     "text": [
      "\n",
      "Step 93, total step = 500, laser_x = 0.00021799999999999999, Lx = 0.0005, laser ON = True\n"
     ]
    },
    {
     "name": "stderr",
     "output_type": "stream",
     "text": [
      "[01-07 15:50:35][DEBUG] jax_fem: JAX Solver - Finshed solving, res = 4.597512282405306e-07\n",
      "[01-07 15:50:35][DEBUG] jax_fem: Computing cell Jacobian and cell residual...\n",
      "[01-07 15:50:35][DEBUG] jax_fem: Function split_and_compute_cell took 0.0422 seconds\n",
      "[01-07 15:50:35][DEBUG] jax_fem: Creating sparse matrix with scipy...\n",
      "[01-07 15:50:35][DEBUG] jax_fem: res l_2 = 4.597512274401055e-07\n",
      "[01-07 15:50:35][INFO] jax_fem: Solve took 0.6127233505249023 [s]\n",
      "[01-07 15:50:35][DEBUG] jax_fem: max of dofs = 14920.261907329826\n",
      "[01-07 15:50:35][DEBUG] jax_fem: min of dofs = 299.99997929505963\n",
      "[01-07 15:50:35][DEBUG] jax_fem: Calling the row elimination solver for imposing Dirichlet B.C.\n",
      "[01-07 15:50:35][DEBUG] jax_fem: Start timing\n",
      "[01-07 15:50:35][DEBUG] jax_fem: Computing cell Jacobian and cell residual...\n",
      "[01-07 15:50:35][DEBUG] jax_fem: Function split_and_compute_cell took 0.0627 seconds\n",
      "[01-07 15:50:35][DEBUG] jax_fem: Creating sparse matrix with scipy...\n",
      "[01-07 15:50:35][DEBUG] jax_fem: Before, res l_2 = 13887.034829586317\n",
      "[01-07 15:50:35][DEBUG] jax_fem: Solving linear system...\n",
      "[01-07 15:50:35][DEBUG] jax_fem: JAX Solver - Solving linear system\n"
     ]
    },
    {
     "name": "stdout",
     "output_type": "stream",
     "text": [
      "\n",
      "Step 94, total step = 500, laser_x = 0.000219, Lx = 0.0005, laser ON = True\n"
     ]
    },
    {
     "name": "stderr",
     "output_type": "stream",
     "text": [
      "[01-07 15:50:36][DEBUG] jax_fem: JAX Solver - Finshed solving, res = 4.6113811892086194e-07\n",
      "[01-07 15:50:36][DEBUG] jax_fem: Computing cell Jacobian and cell residual...\n",
      "[01-07 15:50:36][DEBUG] jax_fem: Function split_and_compute_cell took 0.0473 seconds\n",
      "[01-07 15:50:36][DEBUG] jax_fem: Creating sparse matrix with scipy...\n",
      "[01-07 15:50:36][DEBUG] jax_fem: res l_2 = 4.611381155338738e-07\n",
      "[01-07 15:50:36][INFO] jax_fem: Solve took 0.641627311706543 [s]\n",
      "[01-07 15:50:36][DEBUG] jax_fem: max of dofs = 14881.576973137657\n",
      "[01-07 15:50:36][DEBUG] jax_fem: min of dofs = 299.99997916881955\n",
      "[01-07 15:50:36][DEBUG] jax_fem: Calling the row elimination solver for imposing Dirichlet B.C.\n",
      "[01-07 15:50:36][DEBUG] jax_fem: Start timing\n",
      "[01-07 15:50:36][DEBUG] jax_fem: Computing cell Jacobian and cell residual...\n",
      "[01-07 15:50:36][DEBUG] jax_fem: Function split_and_compute_cell took 0.0335 seconds\n",
      "[01-07 15:50:36][DEBUG] jax_fem: Creating sparse matrix with scipy...\n",
      "[01-07 15:50:36][DEBUG] jax_fem: Before, res l_2 = 13887.048847669186\n",
      "[01-07 15:50:36][DEBUG] jax_fem: Solving linear system...\n",
      "[01-07 15:50:36][DEBUG] jax_fem: JAX Solver - Solving linear system\n"
     ]
    },
    {
     "name": "stdout",
     "output_type": "stream",
     "text": [
      "\n",
      "Step 95, total step = 500, laser_x = 0.00021999999999999998, Lx = 0.0005, laser ON = True\n"
     ]
    },
    {
     "name": "stderr",
     "output_type": "stream",
     "text": [
      "[01-07 15:50:36][DEBUG] jax_fem: JAX Solver - Finshed solving, res = 4.619427365305981e-07\n",
      "[01-07 15:50:36][DEBUG] jax_fem: Computing cell Jacobian and cell residual...\n",
      "[01-07 15:50:36][DEBUG] jax_fem: Function split_and_compute_cell took 0.0352 seconds\n",
      "[01-07 15:50:36][DEBUG] jax_fem: Creating sparse matrix with scipy...\n",
      "[01-07 15:50:36][DEBUG] jax_fem: res l_2 = 4.6194273959536416e-07\n",
      "[01-07 15:50:36][INFO] jax_fem: Solve took 0.5674524307250977 [s]\n",
      "[01-07 15:50:36][DEBUG] jax_fem: max of dofs = 14883.461576442289\n",
      "[01-07 15:50:36][DEBUG] jax_fem: min of dofs = 299.9999789171725\n",
      "[01-07 15:50:36][DEBUG] jax_fem: Calling the row elimination solver for imposing Dirichlet B.C.\n",
      "[01-07 15:50:36][DEBUG] jax_fem: Start timing\n",
      "[01-07 15:50:36][DEBUG] jax_fem: Computing cell Jacobian and cell residual...\n",
      "[01-07 15:50:36][DEBUG] jax_fem: Function split_and_compute_cell took 0.0311 seconds\n",
      "[01-07 15:50:36][DEBUG] jax_fem: Creating sparse matrix with scipy...\n",
      "[01-07 15:50:37][DEBUG] jax_fem: Before, res l_2 = 13887.06260616898\n",
      "[01-07 15:50:37][DEBUG] jax_fem: Solving linear system...\n",
      "[01-07 15:50:37][DEBUG] jax_fem: JAX Solver - Solving linear system\n"
     ]
    },
    {
     "name": "stdout",
     "output_type": "stream",
     "text": [
      "\n",
      "Step 96, total step = 500, laser_x = 0.000221, Lx = 0.0005, laser ON = True\n"
     ]
    },
    {
     "name": "stderr",
     "output_type": "stream",
     "text": [
      "[01-07 15:50:37][DEBUG] jax_fem: JAX Solver - Finshed solving, res = 4.621453887877363e-07\n",
      "[01-07 15:50:37][DEBUG] jax_fem: Computing cell Jacobian and cell residual...\n",
      "[01-07 15:50:37][DEBUG] jax_fem: Function split_and_compute_cell took 0.0348 seconds\n",
      "[01-07 15:50:37][DEBUG] jax_fem: Creating sparse matrix with scipy...\n",
      "[01-07 15:50:37][DEBUG] jax_fem: res l_2 = 4.6214538836366263e-07\n",
      "[01-07 15:50:37][INFO] jax_fem: Solve took 0.5834908485412598 [s]\n",
      "[01-07 15:50:37][DEBUG] jax_fem: max of dofs = 14935.112094867849\n",
      "[01-07 15:50:37][DEBUG] jax_fem: min of dofs = 299.9999786150664\n",
      "[01-07 15:50:37][DEBUG] jax_fem: Calling the row elimination solver for imposing Dirichlet B.C.\n",
      "[01-07 15:50:37][DEBUG] jax_fem: Start timing\n",
      "[01-07 15:50:37][DEBUG] jax_fem: Computing cell Jacobian and cell residual...\n",
      "[01-07 15:50:37][DEBUG] jax_fem: Function split_and_compute_cell took 0.0352 seconds\n",
      "[01-07 15:50:37][DEBUG] jax_fem: Creating sparse matrix with scipy...\n",
      "[01-07 15:50:37][DEBUG] jax_fem: Before, res l_2 = 13887.07610992135\n",
      "[01-07 15:50:37][DEBUG] jax_fem: Solving linear system...\n",
      "[01-07 15:50:37][DEBUG] jax_fem: JAX Solver - Solving linear system\n"
     ]
    },
    {
     "name": "stdout",
     "output_type": "stream",
     "text": [
      "\n",
      "Step 97, total step = 500, laser_x = 0.000222, Lx = 0.0005, laser ON = True\n"
     ]
    },
    {
     "name": "stderr",
     "output_type": "stream",
     "text": [
      "[01-07 15:50:38][DEBUG] jax_fem: JAX Solver - Finshed solving, res = 4.619335968014209e-07\n",
      "[01-07 15:50:38][DEBUG] jax_fem: Computing cell Jacobian and cell residual...\n",
      "[01-07 15:50:38][DEBUG] jax_fem: Function split_and_compute_cell took 0.0424 seconds\n",
      "[01-07 15:50:38][DEBUG] jax_fem: Creating sparse matrix with scipy...\n",
      "[01-07 15:50:38][DEBUG] jax_fem: res l_2 = 4.6193359678034644e-07\n",
      "[01-07 15:50:38][INFO] jax_fem: Solve took 0.6150262355804443 [s]\n",
      "[01-07 15:50:38][DEBUG] jax_fem: max of dofs = 14974.248256292836\n",
      "[01-07 15:50:38][DEBUG] jax_fem: min of dofs = 299.99997832249636\n",
      "[01-07 15:50:38][DEBUG] jax_fem: Calling the row elimination solver for imposing Dirichlet B.C.\n",
      "[01-07 15:50:38][DEBUG] jax_fem: Start timing\n",
      "[01-07 15:50:38][DEBUG] jax_fem: Computing cell Jacobian and cell residual...\n",
      "[01-07 15:50:38][DEBUG] jax_fem: Function split_and_compute_cell took 0.0470 seconds\n",
      "[01-07 15:50:38][DEBUG] jax_fem: Creating sparse matrix with scipy...\n",
      "[01-07 15:50:38][DEBUG] jax_fem: Before, res l_2 = 13887.089363697121\n",
      "[01-07 15:50:38][DEBUG] jax_fem: Solving linear system...\n",
      "[01-07 15:50:38][DEBUG] jax_fem: JAX Solver - Solving linear system\n"
     ]
    },
    {
     "name": "stdout",
     "output_type": "stream",
     "text": [
      "\n",
      "Step 98, total step = 500, laser_x = 0.000223, Lx = 0.0005, laser ON = True\n"
     ]
    },
    {
     "name": "stderr",
     "output_type": "stream",
     "text": [
      "[01-07 15:50:38][DEBUG] jax_fem: JAX Solver - Finshed solving, res = 4.616338390895929e-07\n",
      "[01-07 15:50:38][DEBUG] jax_fem: Computing cell Jacobian and cell residual...\n",
      "[01-07 15:50:38][DEBUG] jax_fem: Function split_and_compute_cell took 0.0433 seconds\n",
      "[01-07 15:50:38][DEBUG] jax_fem: Creating sparse matrix with scipy...\n",
      "[01-07 15:50:38][DEBUG] jax_fem: res l_2 = 4.6163383480943995e-07\n",
      "[01-07 15:50:38][INFO] jax_fem: Solve took 0.6069893836975098 [s]\n",
      "[01-07 15:50:38][DEBUG] jax_fem: max of dofs = 15001.141329030057\n",
      "[01-07 15:50:38][DEBUG] jax_fem: min of dofs = 299.9999780439923\n",
      "[01-07 15:50:38][DEBUG] jax_fem: Calling the row elimination solver for imposing Dirichlet B.C.\n",
      "[01-07 15:50:38][DEBUG] jax_fem: Start timing\n",
      "[01-07 15:50:38][DEBUG] jax_fem: Computing cell Jacobian and cell residual...\n",
      "[01-07 15:50:38][DEBUG] jax_fem: Function split_and_compute_cell took 0.0334 seconds\n",
      "[01-07 15:50:38][DEBUG] jax_fem: Creating sparse matrix with scipy...\n",
      "[01-07 15:50:38][DEBUG] jax_fem: Before, res l_2 = 13887.102372200738\n",
      "[01-07 15:50:38][DEBUG] jax_fem: Solving linear system...\n",
      "[01-07 15:50:38][DEBUG] jax_fem: JAX Solver - Solving linear system\n"
     ]
    },
    {
     "name": "stdout",
     "output_type": "stream",
     "text": [
      "\n",
      "Step 99, total step = 500, laser_x = 0.000224, Lx = 0.0005, laser ON = True\n"
     ]
    },
    {
     "name": "stderr",
     "output_type": "stream",
     "text": [
      "[01-07 15:50:39][DEBUG] jax_fem: JAX Solver - Finshed solving, res = 4.615907376994071e-07\n",
      "[01-07 15:50:39][DEBUG] jax_fem: Computing cell Jacobian and cell residual...\n",
      "[01-07 15:50:39][DEBUG] jax_fem: Function split_and_compute_cell took 0.0426 seconds\n",
      "[01-07 15:50:39][DEBUG] jax_fem: Creating sparse matrix with scipy...\n",
      "[01-07 15:50:39][DEBUG] jax_fem: res l_2 = 4.615907386638067e-07\n",
      "[01-07 15:50:39][INFO] jax_fem: Solve took 0.6674883365631104 [s]\n",
      "[01-07 15:50:39][DEBUG] jax_fem: max of dofs = 15016.09020002703\n",
      "[01-07 15:50:39][DEBUG] jax_fem: min of dofs = 299.999977784997\n",
      "[01-07 15:50:39][DEBUG] jax_fem: Calling the row elimination solver for imposing Dirichlet B.C.\n",
      "[01-07 15:50:39][DEBUG] jax_fem: Start timing\n",
      "[01-07 15:50:39][DEBUG] jax_fem: Computing cell Jacobian and cell residual...\n",
      "[01-07 15:50:39][DEBUG] jax_fem: Function split_and_compute_cell took 0.0328 seconds\n",
      "[01-07 15:50:39][DEBUG] jax_fem: Creating sparse matrix with scipy...\n",
      "[01-07 15:50:39][DEBUG] jax_fem: Before, res l_2 = 13887.115140068985\n",
      "[01-07 15:50:39][DEBUG] jax_fem: Solving linear system...\n",
      "[01-07 15:50:39][DEBUG] jax_fem: JAX Solver - Solving linear system\n"
     ]
    },
    {
     "name": "stdout",
     "output_type": "stream",
     "text": [
      "\n",
      "Step 100, total step = 500, laser_x = 0.000225, Lx = 0.0005, laser ON = True\n"
     ]
    },
    {
     "name": "stderr",
     "output_type": "stream",
     "text": [
      "[01-07 15:50:39][DEBUG] jax_fem: JAX Solver - Finshed solving, res = 4.620352388029652e-07\n",
      "[01-07 15:50:39][DEBUG] jax_fem: Computing cell Jacobian and cell residual...\n",
      "[01-07 15:50:39][DEBUG] jax_fem: Function split_and_compute_cell took 0.0450 seconds\n",
      "[01-07 15:50:40][DEBUG] jax_fem: Creating sparse matrix with scipy...\n",
      "[01-07 15:50:40][DEBUG] jax_fem: res l_2 = 4.6203523323587093e-07\n",
      "[01-07 15:50:40][INFO] jax_fem: Solve took 0.621973991394043 [s]\n",
      "[01-07 15:50:40][DEBUG] jax_fem: max of dofs = 15019.418332664887\n",
      "[01-07 15:50:40][DEBUG] jax_fem: min of dofs = 299.9999775523126\n",
      "[01-07 15:50:40][DEBUG] jax_fem: Calling the row elimination solver for imposing Dirichlet B.C.\n",
      "[01-07 15:50:40][DEBUG] jax_fem: Start timing\n",
      "[01-07 15:50:40][DEBUG] jax_fem: Computing cell Jacobian and cell residual...\n",
      "[01-07 15:50:40][DEBUG] jax_fem: Function split_and_compute_cell took 0.2451 seconds\n",
      "[01-07 15:50:40][DEBUG] jax_fem: Creating sparse matrix with scipy...\n",
      "[01-07 15:50:40][DEBUG] jax_fem: Before, res l_2 = 0.07392844175462458\n",
      "[01-07 15:50:40][DEBUG] jax_fem: Solving linear system...\n",
      "[01-07 15:50:40][DEBUG] jax_fem: JAX Solver - Solving linear system\n",
      "[01-07 15:50:42][DEBUG] jax_fem: JAX Solver - Finshed solving, res = 4.730553725711913e-11\n",
      "[01-07 15:50:42][DEBUG] jax_fem: Computing cell Jacobian and cell residual...\n",
      "[01-07 15:50:42][DEBUG] jax_fem: Function split_and_compute_cell took 0.2537 seconds\n",
      "[01-07 15:50:42][DEBUG] jax_fem: Creating sparse matrix with scipy...\n",
      "[01-07 15:50:42][DEBUG] jax_fem: res l_2 = 4.730554489346386e-11\n",
      "[01-07 15:50:42][INFO] jax_fem: Solve took 2.3495736122131348 [s]\n",
      "[01-07 15:50:42][DEBUG] jax_fem: max of dofs = 1.2222398371449525e-07\n",
      "[01-07 15:50:42][DEBUG] jax_fem: min of dofs = -1.2222398371422637e-07\n",
      "[01-07 15:50:42][DEBUG] jax_fem: Calling the row elimination solver for imposing Dirichlet B.C.\n",
      "[01-07 15:50:42][DEBUG] jax_fem: Start timing\n",
      "[01-07 15:50:42][DEBUG] jax_fem: Computing cell Jacobian and cell residual...\n",
      "[01-07 15:50:42][DEBUG] jax_fem: Function split_and_compute_cell took 0.0318 seconds\n",
      "[01-07 15:50:42][DEBUG] jax_fem: Creating sparse matrix with scipy...\n",
      "[01-07 15:50:42][DEBUG] jax_fem: Before, res l_2 = 13887.127671869894\n",
      "[01-07 15:50:42][DEBUG] jax_fem: Solving linear system...\n",
      "[01-07 15:50:42][DEBUG] jax_fem: JAX Solver - Solving linear system\n"
     ]
    },
    {
     "name": "stdout",
     "output_type": "stream",
     "text": [
      "max f_plus = 0.0, max stress_xx = 143888028.90707543\n",
      "\n",
      "Step 101, total step = 500, laser_x = 0.00022600000000000002, Lx = 0.0005, laser ON = True\n"
     ]
    },
    {
     "name": "stderr",
     "output_type": "stream",
     "text": [
      "[01-07 15:50:43][DEBUG] jax_fem: JAX Solver - Finshed solving, res = 4.6299289958797827e-07\n",
      "[01-07 15:50:43][DEBUG] jax_fem: Computing cell Jacobian and cell residual...\n",
      "[01-07 15:50:43][DEBUG] jax_fem: Function split_and_compute_cell took 0.0385 seconds\n",
      "[01-07 15:50:43][DEBUG] jax_fem: Creating sparse matrix with scipy...\n",
      "[01-07 15:50:43][DEBUG] jax_fem: res l_2 = 4.6299289977962164e-07\n",
      "[01-07 15:50:43][INFO] jax_fem: Solve took 0.5814285278320312 [s]\n",
      "[01-07 15:50:43][DEBUG] jax_fem: max of dofs = 15011.470883507458\n",
      "[01-07 15:50:43][DEBUG] jax_fem: min of dofs = 299.9999773547959\n",
      "[01-07 15:50:43][DEBUG] jax_fem: Calling the row elimination solver for imposing Dirichlet B.C.\n",
      "[01-07 15:50:43][DEBUG] jax_fem: Start timing\n",
      "[01-07 15:50:43][DEBUG] jax_fem: Computing cell Jacobian and cell residual...\n",
      "[01-07 15:50:43][DEBUG] jax_fem: Function split_and_compute_cell took 0.0313 seconds\n",
      "[01-07 15:50:43][DEBUG] jax_fem: Creating sparse matrix with scipy...\n",
      "[01-07 15:50:43][DEBUG] jax_fem: Before, res l_2 = 13887.139972101875\n",
      "[01-07 15:50:43][DEBUG] jax_fem: Solving linear system...\n",
      "[01-07 15:50:43][DEBUG] jax_fem: JAX Solver - Solving linear system\n"
     ]
    },
    {
     "name": "stdout",
     "output_type": "stream",
     "text": [
      "\n",
      "Step 102, total step = 500, laser_x = 0.000227, Lx = 0.0005, laser ON = True\n"
     ]
    },
    {
     "name": "stderr",
     "output_type": "stream",
     "text": [
      "[01-07 15:50:43][DEBUG] jax_fem: JAX Solver - Finshed solving, res = 4.64272688984451e-07\n",
      "[01-07 15:50:43][DEBUG] jax_fem: Computing cell Jacobian and cell residual...\n",
      "[01-07 15:50:43][DEBUG] jax_fem: Function split_and_compute_cell took 0.0424 seconds\n",
      "[01-07 15:50:43][DEBUG] jax_fem: Creating sparse matrix with scipy...\n",
      "[01-07 15:50:43][DEBUG] jax_fem: res l_2 = 4.642726850840148e-07\n",
      "[01-07 15:50:43][INFO] jax_fem: Solve took 0.5922532081604004 [s]\n",
      "[01-07 15:50:43][DEBUG] jax_fem: max of dofs = 14992.611985582693\n",
      "[01-07 15:50:43][DEBUG] jax_fem: min of dofs = 299.9999772042204\n",
      "[01-07 15:50:43][DEBUG] jax_fem: Calling the row elimination solver for imposing Dirichlet B.C.\n",
      "[01-07 15:50:43][DEBUG] jax_fem: Start timing\n",
      "[01-07 15:50:43][DEBUG] jax_fem: Computing cell Jacobian and cell residual...\n",
      "[01-07 15:50:44][DEBUG] jax_fem: Function split_and_compute_cell took 0.0317 seconds\n",
      "[01-07 15:50:44][DEBUG] jax_fem: Creating sparse matrix with scipy...\n",
      "[01-07 15:50:44][DEBUG] jax_fem: Before, res l_2 = 13887.152045193045\n",
      "[01-07 15:50:44][DEBUG] jax_fem: Solving linear system...\n",
      "[01-07 15:50:44][DEBUG] jax_fem: JAX Solver - Solving linear system\n"
     ]
    },
    {
     "name": "stdout",
     "output_type": "stream",
     "text": [
      "\n",
      "Step 103, total step = 500, laser_x = 0.000228, Lx = 0.0005, laser ON = True\n"
     ]
    },
    {
     "name": "stderr",
     "output_type": "stream",
     "text": [
      "[01-07 15:50:44][DEBUG] jax_fem: JAX Solver - Finshed solving, res = 4.6554317291967586e-07\n",
      "[01-07 15:50:44][DEBUG] jax_fem: Computing cell Jacobian and cell residual...\n",
      "[01-07 15:50:44][DEBUG] jax_fem: Function split_and_compute_cell took 0.0410 seconds\n",
      "[01-07 15:50:44][DEBUG] jax_fem: Creating sparse matrix with scipy...\n",
      "[01-07 15:50:44][DEBUG] jax_fem: res l_2 = 4.6554316851344525e-07\n",
      "[01-07 15:50:44][INFO] jax_fem: Solve took 0.6142358779907227 [s]\n",
      "[01-07 15:50:44][DEBUG] jax_fem: max of dofs = 14963.222200179558\n",
      "[01-07 15:50:44][DEBUG] jax_fem: min of dofs = 299.99997710804126\n",
      "[01-07 15:50:44][DEBUG] jax_fem: Calling the row elimination solver for imposing Dirichlet B.C.\n",
      "[01-07 15:50:44][DEBUG] jax_fem: Start timing\n",
      "[01-07 15:50:44][DEBUG] jax_fem: Computing cell Jacobian and cell residual...\n",
      "[01-07 15:50:44][DEBUG] jax_fem: Function split_and_compute_cell took 0.0339 seconds\n",
      "[01-07 15:50:44][DEBUG] jax_fem: Creating sparse matrix with scipy...\n",
      "[01-07 15:50:44][DEBUG] jax_fem: Before, res l_2 = 13887.163895500691\n",
      "[01-07 15:50:44][DEBUG] jax_fem: Solving linear system...\n",
      "[01-07 15:50:44][DEBUG] jax_fem: JAX Solver - Solving linear system\n"
     ]
    },
    {
     "name": "stdout",
     "output_type": "stream",
     "text": [
      "\n",
      "Step 104, total step = 500, laser_x = 0.00022899999999999998, Lx = 0.0005, laser ON = True\n"
     ]
    },
    {
     "name": "stderr",
     "output_type": "stream",
     "text": [
      "[01-07 15:50:45][DEBUG] jax_fem: JAX Solver - Finshed solving, res = 4.664635356097376e-07\n",
      "[01-07 15:50:45][DEBUG] jax_fem: Computing cell Jacobian and cell residual...\n",
      "[01-07 15:50:45][DEBUG] jax_fem: Function split_and_compute_cell took 0.0365 seconds\n",
      "[01-07 15:50:45][DEBUG] jax_fem: Creating sparse matrix with scipy...\n",
      "[01-07 15:50:45][DEBUG] jax_fem: res l_2 = 4.664635344919782e-07\n",
      "[01-07 15:50:45][INFO] jax_fem: Solve took 0.595395565032959 [s]\n",
      "[01-07 15:50:45][DEBUG] jax_fem: max of dofs = 14923.696134549928\n",
      "[01-07 15:50:45][DEBUG] jax_fem: min of dofs = 299.9999770212141\n",
      "[01-07 15:50:45][DEBUG] jax_fem: Calling the row elimination solver for imposing Dirichlet B.C.\n",
      "[01-07 15:50:45][DEBUG] jax_fem: Start timing\n",
      "[01-07 15:50:45][DEBUG] jax_fem: Computing cell Jacobian and cell residual...\n",
      "[01-07 15:50:45][DEBUG] jax_fem: Function split_and_compute_cell took 0.0488 seconds\n",
      "[01-07 15:50:45][DEBUG] jax_fem: Creating sparse matrix with scipy...\n",
      "[01-07 15:50:45][DEBUG] jax_fem: Before, res l_2 = 13887.17552731094\n",
      "[01-07 15:50:45][DEBUG] jax_fem: Solving linear system...\n",
      "[01-07 15:50:45][DEBUG] jax_fem: JAX Solver - Solving linear system\n"
     ]
    },
    {
     "name": "stdout",
     "output_type": "stream",
     "text": [
      "\n",
      "Step 105, total step = 500, laser_x = 0.00023, Lx = 0.0005, laser ON = True\n"
     ]
    },
    {
     "name": "stderr",
     "output_type": "stream",
     "text": [
      "[01-07 15:50:45][DEBUG] jax_fem: JAX Solver - Finshed solving, res = 4.6681438594846134e-07\n",
      "[01-07 15:50:45][DEBUG] jax_fem: Computing cell Jacobian and cell residual...\n",
      "[01-07 15:50:45][DEBUG] jax_fem: Function split_and_compute_cell took 0.0781 seconds\n",
      "[01-07 15:50:45][DEBUG] jax_fem: Creating sparse matrix with scipy...\n",
      "[01-07 15:50:45][DEBUG] jax_fem: res l_2 = 4.668143794764888e-07\n",
      "[01-07 15:50:45][INFO] jax_fem: Solve took 0.6777768135070801 [s]\n",
      "[01-07 15:50:45][DEBUG] jax_fem: max of dofs = 14913.043323320508\n",
      "[01-07 15:50:45][DEBUG] jax_fem: min of dofs = 299.9999767762154\n",
      "[01-07 15:50:45][DEBUG] jax_fem: Calling the row elimination solver for imposing Dirichlet B.C.\n",
      "[01-07 15:50:45][DEBUG] jax_fem: Start timing\n",
      "[01-07 15:50:45][DEBUG] jax_fem: Computing cell Jacobian and cell residual...\n",
      "[01-07 15:50:45][DEBUG] jax_fem: Function split_and_compute_cell took 0.0302 seconds\n",
      "[01-07 15:50:45][DEBUG] jax_fem: Creating sparse matrix with scipy...\n",
      "[01-07 15:50:46][DEBUG] jax_fem: Before, res l_2 = 13887.186944838526\n",
      "[01-07 15:50:46][DEBUG] jax_fem: Solving linear system...\n",
      "[01-07 15:50:46][DEBUG] jax_fem: JAX Solver - Solving linear system\n"
     ]
    },
    {
     "name": "stdout",
     "output_type": "stream",
     "text": [
      "\n",
      "Step 106, total step = 500, laser_x = 0.000231, Lx = 0.0005, laser ON = True\n"
     ]
    },
    {
     "name": "stderr",
     "output_type": "stream",
     "text": [
      "[01-07 15:50:46][DEBUG] jax_fem: JAX Solver - Finshed solving, res = 4.6657913390411404e-07\n",
      "[01-07 15:50:46][DEBUG] jax_fem: Computing cell Jacobian and cell residual...\n",
      "[01-07 15:50:46][DEBUG] jax_fem: Function split_and_compute_cell took 0.0505 seconds\n",
      "[01-07 15:50:46][DEBUG] jax_fem: Creating sparse matrix with scipy...\n",
      "[01-07 15:50:46][DEBUG] jax_fem: res l_2 = 4.6657913410471076e-07\n",
      "[01-07 15:50:46][INFO] jax_fem: Solve took 0.6385636329650879 [s]\n",
      "[01-07 15:50:46][DEBUG] jax_fem: max of dofs = 14963.973213588117\n",
      "[01-07 15:50:46][DEBUG] jax_fem: min of dofs = 299.999976506036\n",
      "[01-07 15:50:46][DEBUG] jax_fem: Calling the row elimination solver for imposing Dirichlet B.C.\n",
      "[01-07 15:50:46][DEBUG] jax_fem: Start timing\n",
      "[01-07 15:50:46][DEBUG] jax_fem: Computing cell Jacobian and cell residual...\n",
      "[01-07 15:50:46][DEBUG] jax_fem: Function split_and_compute_cell took 0.0324 seconds\n",
      "[01-07 15:50:46][DEBUG] jax_fem: Creating sparse matrix with scipy...\n",
      "[01-07 15:50:46][DEBUG] jax_fem: Before, res l_2 = 13887.198152226734\n",
      "[01-07 15:50:46][DEBUG] jax_fem: Solving linear system...\n",
      "[01-07 15:50:46][DEBUG] jax_fem: JAX Solver - Solving linear system\n"
     ]
    },
    {
     "name": "stdout",
     "output_type": "stream",
     "text": [
      "\n",
      "Step 107, total step = 500, laser_x = 0.000232, Lx = 0.0005, laser ON = True\n"
     ]
    },
    {
     "name": "stderr",
     "output_type": "stream",
     "text": [
      "[01-07 15:50:47][DEBUG] jax_fem: JAX Solver - Finshed solving, res = 4.659496501109693e-07\n",
      "[01-07 15:50:47][DEBUG] jax_fem: Computing cell Jacobian and cell residual...\n",
      "[01-07 15:50:47][DEBUG] jax_fem: Function split_and_compute_cell took 0.0374 seconds\n",
      "[01-07 15:50:47][DEBUG] jax_fem: Creating sparse matrix with scipy...\n",
      "[01-07 15:50:47][DEBUG] jax_fem: res l_2 = 4.659496541899005e-07\n",
      "[01-07 15:50:47][INFO] jax_fem: Solve took 0.586632251739502 [s]\n",
      "[01-07 15:50:47][DEBUG] jax_fem: max of dofs = 15002.423726131825\n",
      "[01-07 15:50:47][DEBUG] jax_fem: min of dofs = 299.99997624638263\n",
      "[01-07 15:50:47][DEBUG] jax_fem: Calling the row elimination solver for imposing Dirichlet B.C.\n",
      "[01-07 15:50:47][DEBUG] jax_fem: Start timing\n",
      "[01-07 15:50:47][DEBUG] jax_fem: Computing cell Jacobian and cell residual...\n",
      "[01-07 15:50:47][DEBUG] jax_fem: Function split_and_compute_cell took 0.0319 seconds\n",
      "[01-07 15:50:47][DEBUG] jax_fem: Creating sparse matrix with scipy...\n",
      "[01-07 15:50:47][DEBUG] jax_fem: Before, res l_2 = 13887.20915354743\n",
      "[01-07 15:50:47][DEBUG] jax_fem: Solving linear system...\n",
      "[01-07 15:50:47][DEBUG] jax_fem: JAX Solver - Solving linear system\n"
     ]
    },
    {
     "name": "stdout",
     "output_type": "stream",
     "text": [
      "\n",
      "Step 108, total step = 500, laser_x = 0.000233, Lx = 0.0005, laser ON = True\n"
     ]
    },
    {
     "name": "stderr",
     "output_type": "stream",
     "text": [
      "[01-07 15:50:47][DEBUG] jax_fem: JAX Solver - Finshed solving, res = 4.652563681828379e-07\n",
      "[01-07 15:50:47][DEBUG] jax_fem: Computing cell Jacobian and cell residual...\n",
      "[01-07 15:50:47][DEBUG] jax_fem: Function split_and_compute_cell took 0.0354 seconds\n",
      "[01-07 15:50:47][DEBUG] jax_fem: Creating sparse matrix with scipy...\n",
      "[01-07 15:50:47][DEBUG] jax_fem: res l_2 = 4.652563663587873e-07\n",
      "[01-07 15:50:47][INFO] jax_fem: Solve took 0.5758416652679443 [s]\n",
      "[01-07 15:50:47][DEBUG] jax_fem: max of dofs = 15028.666135762849\n",
      "[01-07 15:50:47][DEBUG] jax_fem: min of dofs = 299.99997600182087\n",
      "[01-07 15:50:47][DEBUG] jax_fem: Calling the row elimination solver for imposing Dirichlet B.C.\n",
      "[01-07 15:50:47][DEBUG] jax_fem: Start timing\n",
      "[01-07 15:50:47][DEBUG] jax_fem: Computing cell Jacobian and cell residual...\n",
      "[01-07 15:50:47][DEBUG] jax_fem: Function split_and_compute_cell took 0.0312 seconds\n",
      "[01-07 15:50:47][DEBUG] jax_fem: Creating sparse matrix with scipy...\n",
      "[01-07 15:50:47][DEBUG] jax_fem: Before, res l_2 = 13887.219952801226\n",
      "[01-07 15:50:47][DEBUG] jax_fem: Solving linear system...\n",
      "[01-07 15:50:47][DEBUG] jax_fem: JAX Solver - Solving linear system\n"
     ]
    },
    {
     "name": "stdout",
     "output_type": "stream",
     "text": [
      "\n",
      "Step 109, total step = 500, laser_x = 0.000234, Lx = 0.0005, laser ON = True\n"
     ]
    },
    {
     "name": "stderr",
     "output_type": "stream",
     "text": [
      "[01-07 15:50:48][DEBUG] jax_fem: JAX Solver - Finshed solving, res = 4.648459533363781e-07\n",
      "[01-07 15:50:48][DEBUG] jax_fem: Computing cell Jacobian and cell residual...\n",
      "[01-07 15:50:48][DEBUG] jax_fem: Function split_and_compute_cell took 0.0575 seconds\n",
      "[01-07 15:50:48][DEBUG] jax_fem: Creating sparse matrix with scipy...\n",
      "[01-07 15:50:48][DEBUG] jax_fem: res l_2 = 4.6484595494779654e-07\n",
      "[01-07 15:50:48][INFO] jax_fem: Solve took 0.6931657791137695 [s]\n",
      "[01-07 15:50:48][DEBUG] jax_fem: max of dofs = 15042.99912202271\n",
      "[01-07 15:50:48][DEBUG] jax_fem: min of dofs = 299.9999757778448\n",
      "[01-07 15:50:48][DEBUG] jax_fem: Calling the row elimination solver for imposing Dirichlet B.C.\n",
      "[01-07 15:50:48][DEBUG] jax_fem: Start timing\n",
      "[01-07 15:50:48][DEBUG] jax_fem: Computing cell Jacobian and cell residual...\n",
      "[01-07 15:50:48][DEBUG] jax_fem: Function split_and_compute_cell took 0.0284 seconds\n",
      "[01-07 15:50:48][DEBUG] jax_fem: Creating sparse matrix with scipy...\n",
      "[01-07 15:50:48][DEBUG] jax_fem: Before, res l_2 = 13887.230553917738\n",
      "[01-07 15:50:48][DEBUG] jax_fem: Solving linear system...\n",
      "[01-07 15:50:48][DEBUG] jax_fem: JAX Solver - Solving linear system\n"
     ]
    },
    {
     "name": "stdout",
     "output_type": "stream",
     "text": [
      "\n",
      "Step 110, total step = 500, laser_x = 0.000235, Lx = 0.0005, laser ON = True\n"
     ]
    },
    {
     "name": "stderr",
     "output_type": "stream",
     "text": [
      "[01-07 15:50:48][DEBUG] jax_fem: JAX Solver - Finshed solving, res = 4.649487818537424e-07\n",
      "[01-07 15:50:48][DEBUG] jax_fem: Computing cell Jacobian and cell residual...\n",
      "[01-07 15:50:48][DEBUG] jax_fem: Function split_and_compute_cell took 0.0378 seconds\n",
      "[01-07 15:50:49][DEBUG] jax_fem: Creating sparse matrix with scipy...\n",
      "[01-07 15:50:49][DEBUG] jax_fem: res l_2 = 4.6494877600345187e-07\n",
      "[01-07 15:50:49][INFO] jax_fem: Solve took 0.5973565578460693 [s]\n",
      "[01-07 15:50:49][DEBUG] jax_fem: max of dofs = 15045.745753360943\n",
      "[01-07 15:50:49][DEBUG] jax_fem: min of dofs = 299.9999755813354\n",
      "[01-07 15:50:49][DEBUG] jax_fem: Calling the row elimination solver for imposing Dirichlet B.C.\n",
      "[01-07 15:50:49][DEBUG] jax_fem: Start timing\n",
      "[01-07 15:50:49][DEBUG] jax_fem: Computing cell Jacobian and cell residual...\n",
      "[01-07 15:50:49][DEBUG] jax_fem: Function split_and_compute_cell took 0.2573 seconds\n",
      "[01-07 15:50:49][DEBUG] jax_fem: Creating sparse matrix with scipy...\n",
      "[01-07 15:50:49][DEBUG] jax_fem: Before, res l_2 = 0.09581199097229523\n",
      "[01-07 15:50:49][DEBUG] jax_fem: Solving linear system...\n",
      "[01-07 15:50:49][DEBUG] jax_fem: JAX Solver - Solving linear system\n",
      "[01-07 15:50:51][DEBUG] jax_fem: JAX Solver - Finshed solving, res = 7.316250327076056e-11\n",
      "[01-07 15:50:51][DEBUG] jax_fem: Computing cell Jacobian and cell residual...\n",
      "[01-07 15:50:51][DEBUG] jax_fem: Function split_and_compute_cell took 0.3078 seconds\n",
      "[01-07 15:50:51][DEBUG] jax_fem: Creating sparse matrix with scipy...\n",
      "[01-07 15:50:51][DEBUG] jax_fem: res l_2 = 7.316250408417358e-11\n",
      "[01-07 15:50:51][INFO] jax_fem: Solve took 2.621649980545044 [s]\n",
      "[01-07 15:50:51][DEBUG] jax_fem: max of dofs = 1.6612418914877356e-07\n",
      "[01-07 15:50:51][DEBUG] jax_fem: min of dofs = -1.6533967611834923e-07\n",
      "[01-07 15:50:52][DEBUG] jax_fem: Calling the row elimination solver for imposing Dirichlet B.C.\n",
      "[01-07 15:50:52][DEBUG] jax_fem: Start timing\n",
      "[01-07 15:50:52][DEBUG] jax_fem: Computing cell Jacobian and cell residual...\n",
      "[01-07 15:50:52][DEBUG] jax_fem: Function split_and_compute_cell took 0.0339 seconds\n",
      "[01-07 15:50:52][DEBUG] jax_fem: Creating sparse matrix with scipy...\n",
      "[01-07 15:50:52][DEBUG] jax_fem: Before, res l_2 = 13887.240960755926\n",
      "[01-07 15:50:52][DEBUG] jax_fem: Solving linear system...\n",
      "[01-07 15:50:52][DEBUG] jax_fem: JAX Solver - Solving linear system\n"
     ]
    },
    {
     "name": "stdout",
     "output_type": "stream",
     "text": [
      "max f_plus = 0.0, max stress_xx = 175095536.74357444\n",
      "\n",
      "Step 111, total step = 500, laser_x = 0.000236, Lx = 0.0005, laser ON = True\n"
     ]
    },
    {
     "name": "stderr",
     "output_type": "stream",
     "text": [
      "[01-07 15:50:52][DEBUG] jax_fem: JAX Solver - Finshed solving, res = 4.6558743179328e-07\n",
      "[01-07 15:50:52][DEBUG] jax_fem: Computing cell Jacobian and cell residual...\n",
      "[01-07 15:50:52][DEBUG] jax_fem: Function split_and_compute_cell took 0.0382 seconds\n",
      "[01-07 15:50:52][DEBUG] jax_fem: Creating sparse matrix with scipy...\n",
      "[01-07 15:50:52][DEBUG] jax_fem: res l_2 = 4.655874348844013e-07\n",
      "[01-07 15:50:52][INFO] jax_fem: Solve took 0.6630730628967285 [s]\n",
      "[01-07 15:50:52][DEBUG] jax_fem: max of dofs = 15037.250629098455\n",
      "[01-07 15:50:52][DEBUG] jax_fem: min of dofs = 299.9999754212495\n",
      "[01-07 15:50:52][DEBUG] jax_fem: Calling the row elimination solver for imposing Dirichlet B.C.\n",
      "[01-07 15:50:52][DEBUG] jax_fem: Start timing\n",
      "[01-07 15:50:52][DEBUG] jax_fem: Computing cell Jacobian and cell residual...\n",
      "[01-07 15:50:52][DEBUG] jax_fem: Function split_and_compute_cell took 0.0446 seconds\n",
      "[01-07 15:50:52][DEBUG] jax_fem: Creating sparse matrix with scipy...\n",
      "[01-07 15:50:52][DEBUG] jax_fem: Before, res l_2 = 13887.251177104545\n",
      "[01-07 15:50:52][DEBUG] jax_fem: Solving linear system...\n",
      "[01-07 15:50:52][DEBUG] jax_fem: JAX Solver - Solving linear system\n"
     ]
    },
    {
     "name": "stdout",
     "output_type": "stream",
     "text": [
      "\n",
      "Step 112, total step = 500, laser_x = 0.00023700000000000001, Lx = 0.0005, laser ON = True\n"
     ]
    },
    {
     "name": "stderr",
     "output_type": "stream",
     "text": [
      "[01-07 15:50:53][DEBUG] jax_fem: JAX Solver - Finshed solving, res = 4.6656669146125554e-07\n",
      "[01-07 15:50:53][DEBUG] jax_fem: Computing cell Jacobian and cell residual...\n",
      "[01-07 15:50:53][DEBUG] jax_fem: Function split_and_compute_cell took 0.0416 seconds\n",
      "[01-07 15:50:53][DEBUG] jax_fem: Creating sparse matrix with scipy...\n",
      "[01-07 15:50:53][DEBUG] jax_fem: res l_2 = 4.665666957817779e-07\n",
      "[01-07 15:50:53][INFO] jax_fem: Solve took 0.6727156639099121 [s]\n",
      "[01-07 15:50:53][DEBUG] jax_fem: max of dofs = 15017.877186437536\n",
      "[01-07 15:50:53][DEBUG] jax_fem: min of dofs = 299.999975309485\n",
      "[01-07 15:50:53][DEBUG] jax_fem: Calling the row elimination solver for imposing Dirichlet B.C.\n",
      "[01-07 15:50:53][DEBUG] jax_fem: Start timing\n",
      "[01-07 15:50:53][DEBUG] jax_fem: Computing cell Jacobian and cell residual...\n",
      "[01-07 15:50:53][DEBUG] jax_fem: Function split_and_compute_cell took 0.0368 seconds\n",
      "[01-07 15:50:53][DEBUG] jax_fem: Creating sparse matrix with scipy...\n",
      "[01-07 15:50:53][DEBUG] jax_fem: Before, res l_2 = 13887.261206682639\n",
      "[01-07 15:50:53][DEBUG] jax_fem: Solving linear system...\n",
      "[01-07 15:50:53][DEBUG] jax_fem: JAX Solver - Solving linear system\n"
     ]
    },
    {
     "name": "stdout",
     "output_type": "stream",
     "text": [
      "\n",
      "Step 113, total step = 500, laser_x = 0.00023799999999999998, Lx = 0.0005, laser ON = True\n"
     ]
    },
    {
     "name": "stderr",
     "output_type": "stream",
     "text": [
      "[01-07 15:50:53][DEBUG] jax_fem: JAX Solver - Finshed solving, res = 4.6755136599925224e-07\n",
      "[01-07 15:50:53][DEBUG] jax_fem: Computing cell Jacobian and cell residual...\n",
      "[01-07 15:50:53][DEBUG] jax_fem: Function split_and_compute_cell took 0.0358 seconds\n",
      "[01-07 15:50:53][DEBUG] jax_fem: Creating sparse matrix with scipy...\n",
      "[01-07 15:50:54][DEBUG] jax_fem: res l_2 = 4.6755136497972394e-07\n",
      "[01-07 15:50:54][INFO] jax_fem: Solve took 0.5738039016723633 [s]\n",
      "[01-07 15:50:54][DEBUG] jax_fem: max of dofs = 14988.00517428352\n",
      "[01-07 15:50:54][DEBUG] jax_fem: min of dofs = 299.99997525168396\n",
      "[01-07 15:50:54][DEBUG] jax_fem: Calling the row elimination solver for imposing Dirichlet B.C.\n",
      "[01-07 15:50:54][DEBUG] jax_fem: Start timing\n",
      "[01-07 15:50:54][DEBUG] jax_fem: Computing cell Jacobian and cell residual...\n",
      "[01-07 15:50:54][DEBUG] jax_fem: Function split_and_compute_cell took 0.0297 seconds\n",
      "[01-07 15:50:54][DEBUG] jax_fem: Creating sparse matrix with scipy...\n",
      "[01-07 15:50:54][DEBUG] jax_fem: Before, res l_2 = 13887.27105314012\n",
      "[01-07 15:50:54][DEBUG] jax_fem: Solving linear system...\n",
      "[01-07 15:50:54][DEBUG] jax_fem: JAX Solver - Solving linear system\n"
     ]
    },
    {
     "name": "stdout",
     "output_type": "stream",
     "text": [
      "\n",
      "Step 114, total step = 500, laser_x = 0.000239, Lx = 0.0005, laser ON = True\n"
     ]
    },
    {
     "name": "stderr",
     "output_type": "stream",
     "text": [
      "[01-07 15:50:54][DEBUG] jax_fem: JAX Solver - Finshed solving, res = 4.68198482349248e-07\n",
      "[01-07 15:50:54][DEBUG] jax_fem: Computing cell Jacobian and cell residual...\n",
      "[01-07 15:50:54][DEBUG] jax_fem: Function split_and_compute_cell took 0.0404 seconds\n",
      "[01-07 15:50:54][DEBUG] jax_fem: Creating sparse matrix with scipy...\n",
      "[01-07 15:50:54][DEBUG] jax_fem: res l_2 = 4.681984850788193e-07\n",
      "[01-07 15:50:54][INFO] jax_fem: Solve took 0.6274363994598389 [s]\n",
      "[01-07 15:50:54][DEBUG] jax_fem: max of dofs = 14948.028291134511\n",
      "[01-07 15:50:54][DEBUG] jax_fem: min of dofs = 299.99997520276185\n",
      "[01-07 15:50:54][DEBUG] jax_fem: Calling the row elimination solver for imposing Dirichlet B.C.\n",
      "[01-07 15:50:54][DEBUG] jax_fem: Start timing\n",
      "[01-07 15:50:54][DEBUG] jax_fem: Computing cell Jacobian and cell residual...\n",
      "[01-07 15:50:54][DEBUG] jax_fem: Function split_and_compute_cell took 0.0404 seconds\n",
      "[01-07 15:50:54][DEBUG] jax_fem: Creating sparse matrix with scipy...\n",
      "[01-07 15:50:54][DEBUG] jax_fem: Before, res l_2 = 13887.280720058401\n",
      "[01-07 15:50:54][DEBUG] jax_fem: Solving linear system...\n",
      "[01-07 15:50:54][DEBUG] jax_fem: JAX Solver - Solving linear system\n"
     ]
    },
    {
     "name": "stdout",
     "output_type": "stream",
     "text": [
      "\n",
      "Step 115, total step = 500, laser_x = 0.00023999999999999998, Lx = 0.0005, laser ON = True\n"
     ]
    },
    {
     "name": "stderr",
     "output_type": "stream",
     "text": [
      "[01-07 15:50:55][DEBUG] jax_fem: JAX Solver - Finshed solving, res = 4.682885571353126e-07\n",
      "[01-07 15:50:55][DEBUG] jax_fem: Computing cell Jacobian and cell residual...\n",
      "[01-07 15:50:55][DEBUG] jax_fem: Function split_and_compute_cell took 0.0472 seconds\n",
      "[01-07 15:50:55][DEBUG] jax_fem: Creating sparse matrix with scipy...\n",
      "[01-07 15:50:55][DEBUG] jax_fem: res l_2 = 4.6828855546028704e-07\n",
      "[01-07 15:50:55][INFO] jax_fem: Solve took 0.6025576591491699 [s]\n",
      "[01-07 15:50:55][DEBUG] jax_fem: max of dofs = 14929.939776698433\n",
      "[01-07 15:50:55][DEBUG] jax_fem: min of dofs = 299.99997496343633\n",
      "[01-07 15:50:55][DEBUG] jax_fem: Calling the row elimination solver for imposing Dirichlet B.C.\n",
      "[01-07 15:50:55][DEBUG] jax_fem: Start timing\n",
      "[01-07 15:50:55][DEBUG] jax_fem: Computing cell Jacobian and cell residual...\n",
      "[01-07 15:50:55][DEBUG] jax_fem: Function split_and_compute_cell took 0.0433 seconds\n",
      "[01-07 15:50:55][DEBUG] jax_fem: Creating sparse matrix with scipy...\n",
      "[01-07 15:50:55][DEBUG] jax_fem: Before, res l_2 = 13887.29021095109\n",
      "[01-07 15:50:55][DEBUG] jax_fem: Solving linear system...\n",
      "[01-07 15:50:55][DEBUG] jax_fem: JAX Solver - Solving linear system\n"
     ]
    },
    {
     "name": "stdout",
     "output_type": "stream",
     "text": [
      "\n",
      "Step 116, total step = 500, laser_x = 0.000241, Lx = 0.0005, laser ON = True\n"
     ]
    },
    {
     "name": "stderr",
     "output_type": "stream",
     "text": [
      "[01-07 15:50:55][DEBUG] jax_fem: JAX Solver - Finshed solving, res = 4.678065478717583e-07\n",
      "[01-07 15:50:55][DEBUG] jax_fem: Computing cell Jacobian and cell residual...\n",
      "[01-07 15:50:55][DEBUG] jax_fem: Function split_and_compute_cell took 0.0373 seconds\n",
      "[01-07 15:50:55][DEBUG] jax_fem: Creating sparse matrix with scipy...\n",
      "[01-07 15:50:55][DEBUG] jax_fem: res l_2 = 4.678065434957812e-07\n",
      "[01-07 15:50:55][INFO] jax_fem: Solve took 0.591123104095459 [s]\n",
      "[01-07 15:50:55][DEBUG] jax_fem: max of dofs = 14980.476845128707\n",
      "[01-07 15:50:55][DEBUG] jax_fem: min of dofs = 299.99997472654894\n",
      "[01-07 15:50:55][DEBUG] jax_fem: Calling the row elimination solver for imposing Dirichlet B.C.\n",
      "[01-07 15:50:55][DEBUG] jax_fem: Start timing\n",
      "[01-07 15:50:55][DEBUG] jax_fem: Computing cell Jacobian and cell residual...\n",
      "[01-07 15:50:55][DEBUG] jax_fem: Function split_and_compute_cell took 0.0318 seconds\n",
      "[01-07 15:50:55][DEBUG] jax_fem: Creating sparse matrix with scipy...\n",
      "[01-07 15:50:56][DEBUG] jax_fem: Before, res l_2 = 13887.29952926472\n",
      "[01-07 15:50:56][DEBUG] jax_fem: Solving linear system...\n",
      "[01-07 15:50:56][DEBUG] jax_fem: JAX Solver - Solving linear system\n"
     ]
    },
    {
     "name": "stdout",
     "output_type": "stream",
     "text": [
      "\n",
      "Step 117, total step = 500, laser_x = 0.000242, Lx = 0.0005, laser ON = True\n"
     ]
    },
    {
     "name": "stderr",
     "output_type": "stream",
     "text": [
      "[01-07 15:50:56][DEBUG] jax_fem: JAX Solver - Finshed solving, res = 4.6694655204687557e-07\n",
      "[01-07 15:50:56][DEBUG] jax_fem: Computing cell Jacobian and cell residual...\n",
      "[01-07 15:50:56][DEBUG] jax_fem: Function split_and_compute_cell took 0.0422 seconds\n",
      "[01-07 15:50:56][DEBUG] jax_fem: Creating sparse matrix with scipy...\n",
      "[01-07 15:50:56][DEBUG] jax_fem: res l_2 = 4.669465450837639e-07\n",
      "[01-07 15:50:56][INFO] jax_fem: Solve took 0.6377034187316895 [s]\n",
      "[01-07 15:50:56][DEBUG] jax_fem: max of dofs = 15018.553955752583\n",
      "[01-07 15:50:56][DEBUG] jax_fem: min of dofs = 299.99997450051535\n",
      "[01-07 15:50:56][DEBUG] jax_fem: Calling the row elimination solver for imposing Dirichlet B.C.\n",
      "[01-07 15:50:56][DEBUG] jax_fem: Start timing\n",
      "[01-07 15:50:56][DEBUG] jax_fem: Computing cell Jacobian and cell residual...\n",
      "[01-07 15:50:56][DEBUG] jax_fem: Function split_and_compute_cell took 0.0336 seconds\n",
      "[01-07 15:50:56][DEBUG] jax_fem: Creating sparse matrix with scipy...\n",
      "[01-07 15:50:56][DEBUG] jax_fem: Before, res l_2 = 13887.308678379532\n",
      "[01-07 15:50:56][DEBUG] jax_fem: Solving linear system...\n",
      "[01-07 15:50:56][DEBUG] jax_fem: JAX Solver - Solving linear system\n"
     ]
    },
    {
     "name": "stdout",
     "output_type": "stream",
     "text": [
      "\n",
      "Step 118, total step = 500, laser_x = 0.000243, Lx = 0.0005, laser ON = True\n"
     ]
    },
    {
     "name": "stderr",
     "output_type": "stream",
     "text": [
      "[01-07 15:50:57][DEBUG] jax_fem: JAX Solver - Finshed solving, res = 4.6604078989206007e-07\n",
      "[01-07 15:50:57][DEBUG] jax_fem: Computing cell Jacobian and cell residual...\n",
      "[01-07 15:50:57][DEBUG] jax_fem: Function split_and_compute_cell took 0.0319 seconds\n",
      "[01-07 15:50:57][DEBUG] jax_fem: Creating sparse matrix with scipy...\n",
      "[01-07 15:50:57][DEBUG] jax_fem: res l_2 = 4.6604079587572003e-07\n",
      "[01-07 15:50:57][INFO] jax_fem: Solve took 0.6851522922515869 [s]\n",
      "[01-07 15:50:57][DEBUG] jax_fem: max of dofs = 15044.442436685044\n",
      "[01-07 15:50:57][DEBUG] jax_fem: min of dofs = 299.9999742899242\n",
      "[01-07 15:50:57][DEBUG] jax_fem: Calling the row elimination solver for imposing Dirichlet B.C.\n",
      "[01-07 15:50:57][DEBUG] jax_fem: Start timing\n",
      "[01-07 15:50:57][DEBUG] jax_fem: Computing cell Jacobian and cell residual...\n",
      "[01-07 15:50:57][DEBUG] jax_fem: Function split_and_compute_cell took 0.0380 seconds\n",
      "[01-07 15:50:57][DEBUG] jax_fem: Creating sparse matrix with scipy...\n",
      "[01-07 15:50:57][DEBUG] jax_fem: Before, res l_2 = 13887.317661610296\n",
      "[01-07 15:50:57][DEBUG] jax_fem: Solving linear system...\n",
      "[01-07 15:50:57][DEBUG] jax_fem: JAX Solver - Solving linear system\n"
     ]
    },
    {
     "name": "stdout",
     "output_type": "stream",
     "text": [
      "\n",
      "Step 119, total step = 500, laser_x = 0.000244, Lx = 0.0005, laser ON = True\n"
     ]
    },
    {
     "name": "stderr",
     "output_type": "stream",
     "text": [
      "[01-07 15:50:57][DEBUG] jax_fem: JAX Solver - Finshed solving, res = 4.6543635378247837e-07\n",
      "[01-07 15:50:57][DEBUG] jax_fem: Computing cell Jacobian and cell residual...\n",
      "[01-07 15:50:57][DEBUG] jax_fem: Function split_and_compute_cell took 0.0357 seconds\n",
      "[01-07 15:50:57][DEBUG] jax_fem: Creating sparse matrix with scipy...\n",
      "[01-07 15:50:57][DEBUG] jax_fem: res l_2 = 4.654363555210977e-07\n",
      "[01-07 15:50:57][INFO] jax_fem: Solve took 0.6068336963653564 [s]\n",
      "[01-07 15:50:57][DEBUG] jax_fem: max of dofs = 15058.44089892598\n",
      "[01-07 15:50:57][DEBUG] jax_fem: min of dofs = 299.99997410030977\n",
      "[01-07 15:50:57][DEBUG] jax_fem: Calling the row elimination solver for imposing Dirichlet B.C.\n",
      "[01-07 15:50:57][DEBUG] jax_fem: Start timing\n",
      "[01-07 15:50:57][DEBUG] jax_fem: Computing cell Jacobian and cell residual...\n",
      "[01-07 15:50:57][DEBUG] jax_fem: Function split_and_compute_cell took 0.0352 seconds\n",
      "[01-07 15:50:57][DEBUG] jax_fem: Creating sparse matrix with scipy...\n",
      "[01-07 15:50:57][DEBUG] jax_fem: Before, res l_2 = 13887.326482207152\n",
      "[01-07 15:50:57][DEBUG] jax_fem: Solving linear system...\n",
      "[01-07 15:50:57][DEBUG] jax_fem: JAX Solver - Solving linear system\n"
     ]
    },
    {
     "name": "stdout",
     "output_type": "stream",
     "text": [
      "\n",
      "Step 120, total step = 500, laser_x = 0.000245, Lx = 0.0005, laser ON = True\n"
     ]
    },
    {
     "name": "stderr",
     "output_type": "stream",
     "text": [
      "[01-07 15:50:58][DEBUG] jax_fem: JAX Solver - Finshed solving, res = 4.653622561988869e-07\n",
      "[01-07 15:50:58][DEBUG] jax_fem: Computing cell Jacobian and cell residual...\n",
      "[01-07 15:50:58][DEBUG] jax_fem: Function split_and_compute_cell took 0.0412 seconds\n",
      "[01-07 15:50:58][DEBUG] jax_fem: Creating sparse matrix with scipy...\n",
      "[01-07 15:50:58][DEBUG] jax_fem: res l_2 = 4.6536225282593166e-07\n",
      "[01-07 15:50:58][INFO] jax_fem: Solve took 0.6240668296813965 [s]\n",
      "[01-07 15:50:58][DEBUG] jax_fem: max of dofs = 15060.87223514451\n",
      "[01-07 15:50:58][DEBUG] jax_fem: min of dofs = 299.99997393861173\n",
      "[01-07 15:50:58][DEBUG] jax_fem: Calling the row elimination solver for imposing Dirichlet B.C.\n",
      "[01-07 15:50:58][DEBUG] jax_fem: Start timing\n",
      "[01-07 15:50:58][DEBUG] jax_fem: Computing cell Jacobian and cell residual...\n",
      "[01-07 15:50:59][DEBUG] jax_fem: Function split_and_compute_cell took 0.2648 seconds\n",
      "[01-07 15:50:59][DEBUG] jax_fem: Creating sparse matrix with scipy...\n",
      "[01-07 15:50:59][DEBUG] jax_fem: Before, res l_2 = 0.12043829785294083\n",
      "[01-07 15:50:59][DEBUG] jax_fem: Solving linear system...\n",
      "[01-07 15:50:59][DEBUG] jax_fem: JAX Solver - Solving linear system\n",
      "[01-07 15:51:00][DEBUG] jax_fem: JAX Solver - Finshed solving, res = 9.674742948033434e-11\n",
      "[01-07 15:51:00][DEBUG] jax_fem: Computing cell Jacobian and cell residual...\n",
      "[01-07 15:51:00][DEBUG] jax_fem: Function split_and_compute_cell took 0.2573 seconds\n",
      "[01-07 15:51:00][DEBUG] jax_fem: Creating sparse matrix with scipy...\n",
      "[01-07 15:51:01][DEBUG] jax_fem: res l_2 = 9.67474243568536e-11\n",
      "[01-07 15:51:01][INFO] jax_fem: Solve took 2.4168906211853027 [s]\n",
      "[01-07 15:51:01][DEBUG] jax_fem: max of dofs = 2.2003315088206476e-07\n",
      "[01-07 15:51:01][DEBUG] jax_fem: min of dofs = -2.1056290416090248e-07\n",
      "[01-07 15:51:01][DEBUG] jax_fem: Calling the row elimination solver for imposing Dirichlet B.C.\n",
      "[01-07 15:51:01][DEBUG] jax_fem: Start timing\n",
      "[01-07 15:51:01][DEBUG] jax_fem: Computing cell Jacobian and cell residual...\n",
      "[01-07 15:51:01][DEBUG] jax_fem: Function split_and_compute_cell took 0.0398 seconds\n",
      "[01-07 15:51:01][DEBUG] jax_fem: Creating sparse matrix with scipy...\n",
      "[01-07 15:51:01][DEBUG] jax_fem: Before, res l_2 = 13887.335143356508\n",
      "[01-07 15:51:01][DEBUG] jax_fem: Solving linear system...\n",
      "[01-07 15:51:01][DEBUG] jax_fem: JAX Solver - Solving linear system\n"
     ]
    },
    {
     "name": "stdout",
     "output_type": "stream",
     "text": [
      "max f_plus = 0.0, max stress_xx = 188497844.70224315\n",
      "\n",
      "Step 121, total step = 500, laser_x = 0.000246, Lx = 0.0005, laser ON = True\n"
     ]
    },
    {
     "name": "stderr",
     "output_type": "stream",
     "text": [
      "[01-07 15:51:01][DEBUG] jax_fem: JAX Solver - Finshed solving, res = 4.658383654050891e-07\n",
      "[01-07 15:51:01][DEBUG] jax_fem: Computing cell Jacobian and cell residual...\n",
      "[01-07 15:51:01][DEBUG] jax_fem: Function split_and_compute_cell took 0.0380 seconds\n",
      "[01-07 15:51:01][DEBUG] jax_fem: Creating sparse matrix with scipy...\n",
      "[01-07 15:51:01][DEBUG] jax_fem: res l_2 = 4.658383617874731e-07\n",
      "[01-07 15:51:01][INFO] jax_fem: Solve took 0.5955514907836914 [s]\n",
      "[01-07 15:51:01][DEBUG] jax_fem: max of dofs = 15052.080775628981\n",
      "[01-07 15:51:01][DEBUG] jax_fem: min of dofs = 299.99997381386146\n",
      "[01-07 15:51:01][DEBUG] jax_fem: Calling the row elimination solver for imposing Dirichlet B.C.\n",
      "[01-07 15:51:01][DEBUG] jax_fem: Start timing\n",
      "[01-07 15:51:01][DEBUG] jax_fem: Computing cell Jacobian and cell residual...\n",
      "[01-07 15:51:01][DEBUG] jax_fem: Function split_and_compute_cell took 0.0306 seconds\n",
      "[01-07 15:51:01][DEBUG] jax_fem: Creating sparse matrix with scipy...\n",
      "[01-07 15:51:02][DEBUG] jax_fem: Before, res l_2 = 13887.343648181919\n",
      "[01-07 15:51:02][DEBUG] jax_fem: Solving linear system...\n",
      "[01-07 15:51:02][DEBUG] jax_fem: JAX Solver - Solving linear system\n"
     ]
    },
    {
     "name": "stdout",
     "output_type": "stream",
     "text": [
      "\n",
      "Step 122, total step = 500, laser_x = 0.000247, Lx = 0.0005, laser ON = True\n"
     ]
    },
    {
     "name": "stderr",
     "output_type": "stream",
     "text": [
      "[01-07 15:51:02][DEBUG] jax_fem: JAX Solver - Finshed solving, res = 4.666662832212184e-07\n",
      "[01-07 15:51:02][DEBUG] jax_fem: Computing cell Jacobian and cell residual...\n",
      "[01-07 15:51:02][DEBUG] jax_fem: Function split_and_compute_cell took 0.0372 seconds\n",
      "[01-07 15:51:02][DEBUG] jax_fem: Creating sparse matrix with scipy...\n",
      "[01-07 15:51:02][DEBUG] jax_fem: res l_2 = 4.666662820840393e-07\n",
      "[01-07 15:51:02][INFO] jax_fem: Solve took 0.5684912204742432 [s]\n",
      "[01-07 15:51:02][DEBUG] jax_fem: max of dofs = 15032.429608481063\n",
      "[01-07 15:51:02][DEBUG] jax_fem: min of dofs = 299.9999737380465\n",
      "[01-07 15:51:02][DEBUG] jax_fem: Calling the row elimination solver for imposing Dirichlet B.C.\n",
      "[01-07 15:51:02][DEBUG] jax_fem: Start timing\n",
      "[01-07 15:51:02][DEBUG] jax_fem: Computing cell Jacobian and cell residual...\n",
      "[01-07 15:51:02][DEBUG] jax_fem: Function split_and_compute_cell took 0.0321 seconds\n",
      "[01-07 15:51:02][DEBUG] jax_fem: Creating sparse matrix with scipy...\n",
      "[01-07 15:51:02][DEBUG] jax_fem: Before, res l_2 = 13887.351999745038\n",
      "[01-07 15:51:02][DEBUG] jax_fem: Solving linear system...\n",
      "[01-07 15:51:02][DEBUG] jax_fem: JAX Solver - Solving linear system\n"
     ]
    },
    {
     "name": "stdout",
     "output_type": "stream",
     "text": [
      "\n",
      "Step 123, total step = 500, laser_x = 0.00024799999999999996, Lx = 0.0005, laser ON = True\n"
     ]
    },
    {
     "name": "stderr",
     "output_type": "stream",
     "text": [
      "[01-07 15:51:02][DEBUG] jax_fem: JAX Solver - Finshed solving, res = 4.675082204523594e-07\n",
      "[01-07 15:51:02][DEBUG] jax_fem: Computing cell Jacobian and cell residual...\n",
      "[01-07 15:51:03][DEBUG] jax_fem: Function split_and_compute_cell took 0.0353 seconds\n",
      "[01-07 15:51:03][DEBUG] jax_fem: Creating sparse matrix with scipy...\n",
      "[01-07 15:51:03][DEBUG] jax_fem: res l_2 = 4.675082206856356e-07\n",
      "[01-07 15:51:03][INFO] jax_fem: Solve took 0.6029989719390869 [s]\n",
      "[01-07 15:51:03][DEBUG] jax_fem: max of dofs = 15002.298065692854\n",
      "[01-07 15:51:03][DEBUG] jax_fem: min of dofs = 299.99997371505447\n",
      "[01-07 15:51:03][DEBUG] jax_fem: Calling the row elimination solver for imposing Dirichlet B.C.\n",
      "[01-07 15:51:03][DEBUG] jax_fem: Start timing\n",
      "[01-07 15:51:03][DEBUG] jax_fem: Computing cell Jacobian and cell residual...\n",
      "[01-07 15:51:03][DEBUG] jax_fem: Function split_and_compute_cell took 0.0408 seconds\n",
      "[01-07 15:51:03][DEBUG] jax_fem: Creating sparse matrix with scipy...\n",
      "[01-07 15:51:03][DEBUG] jax_fem: Before, res l_2 = 13887.360201046533\n",
      "[01-07 15:51:03][DEBUG] jax_fem: Solving linear system...\n",
      "[01-07 15:51:03][DEBUG] jax_fem: JAX Solver - Solving linear system\n"
     ]
    },
    {
     "name": "stdout",
     "output_type": "stream",
     "text": [
      "\n",
      "Step 124, total step = 500, laser_x = 0.000249, Lx = 0.0005, laser ON = True\n"
     ]
    },
    {
     "name": "stderr",
     "output_type": "stream",
     "text": [
      "[01-07 15:51:03][DEBUG] jax_fem: JAX Solver - Finshed solving, res = 4.680199312983915e-07\n",
      "[01-07 15:51:03][DEBUG] jax_fem: Computing cell Jacobian and cell residual...\n",
      "[01-07 15:51:03][DEBUG] jax_fem: Function split_and_compute_cell took 0.0393 seconds\n",
      "[01-07 15:51:03][DEBUG] jax_fem: Creating sparse matrix with scipy...\n",
      "[01-07 15:51:03][DEBUG] jax_fem: res l_2 = 4.6801992684572426e-07\n",
      "[01-07 15:51:03][INFO] jax_fem: Solve took 0.6398754119873047 [s]\n",
      "[01-07 15:51:03][DEBUG] jax_fem: max of dofs = 14962.079372286995\n",
      "[01-07 15:51:03][DEBUG] jax_fem: min of dofs = 299.99997368124\n",
      "[01-07 15:51:03][DEBUG] jax_fem: Calling the row elimination solver for imposing Dirichlet B.C.\n",
      "[01-07 15:51:03][DEBUG] jax_fem: Start timing\n",
      "[01-07 15:51:03][DEBUG] jax_fem: Computing cell Jacobian and cell residual...\n",
      "[01-07 15:51:03][DEBUG] jax_fem: Function split_and_compute_cell took 0.0296 seconds\n",
      "[01-07 15:51:03][DEBUG] jax_fem: Creating sparse matrix with scipy...\n",
      "[01-07 15:51:03][DEBUG] jax_fem: Before, res l_2 = 13887.368255027062\n",
      "[01-07 15:51:03][DEBUG] jax_fem: Solving linear system...\n",
      "[01-07 15:51:03][DEBUG] jax_fem: JAX Solver - Solving linear system\n"
     ]
    },
    {
     "name": "stdout",
     "output_type": "stream",
     "text": [
      "\n",
      "Step 125, total step = 500, laser_x = 0.00025, Lx = 0.0005, laser ON = True\n"
     ]
    },
    {
     "name": "stderr",
     "output_type": "stream",
     "text": [
      "[01-07 15:51:04][DEBUG] jax_fem: JAX Solver - Finshed solving, res = 4.679821255408362e-07\n",
      "[01-07 15:51:04][DEBUG] jax_fem: Computing cell Jacobian and cell residual...\n",
      "[01-07 15:51:04][DEBUG] jax_fem: Function split_and_compute_cell took 0.0341 seconds\n",
      "[01-07 15:51:04][DEBUG] jax_fem: Creating sparse matrix with scipy...\n",
      "[01-07 15:51:04][DEBUG] jax_fem: res l_2 = 4.679821276879653e-07\n",
      "[01-07 15:51:04][INFO] jax_fem: Solve took 0.5872864723205566 [s]\n",
      "[01-07 15:51:04][DEBUG] jax_fem: max of dofs = 14939.593194302182\n",
      "[01-07 15:51:04][DEBUG] jax_fem: min of dofs = 299.99997346834704\n",
      "[01-07 15:51:04][DEBUG] jax_fem: Calling the row elimination solver for imposing Dirichlet B.C.\n",
      "[01-07 15:51:04][DEBUG] jax_fem: Start timing\n",
      "[01-07 15:51:04][DEBUG] jax_fem: Computing cell Jacobian and cell residual...\n",
      "[01-07 15:51:04][DEBUG] jax_fem: Function split_and_compute_cell took 0.0371 seconds\n",
      "[01-07 15:51:04][DEBUG] jax_fem: Creating sparse matrix with scipy...\n",
      "[01-07 15:51:04][DEBUG] jax_fem: Before, res l_2 = 13887.376164568226\n",
      "[01-07 15:51:04][DEBUG] jax_fem: Solving linear system...\n",
      "[01-07 15:51:04][DEBUG] jax_fem: JAX Solver - Solving linear system\n"
     ]
    },
    {
     "name": "stdout",
     "output_type": "stream",
     "text": [
      "\n",
      "Step 126, total step = 500, laser_x = 0.00025100000000000003, Lx = 0.0005, laser ON = True\n"
     ]
    },
    {
     "name": "stderr",
     "output_type": "stream",
     "text": [
      "[01-07 15:51:04][DEBUG] jax_fem: JAX Solver - Finshed solving, res = 4.6738097821621463e-07\n",
      "[01-07 15:51:04][DEBUG] jax_fem: Computing cell Jacobian and cell residual...\n",
      "[01-07 15:51:04][DEBUG] jax_fem: Function split_and_compute_cell took 0.0376 seconds\n",
      "[01-07 15:51:04][DEBUG] jax_fem: Creating sparse matrix with scipy...\n",
      "[01-07 15:51:04][DEBUG] jax_fem: res l_2 = 4.673809748492108e-07\n",
      "[01-07 15:51:04][INFO] jax_fem: Solve took 0.5831093788146973 [s]\n",
      "[01-07 15:51:04][DEBUG] jax_fem: max of dofs = 14989.91578062009\n",
      "[01-07 15:51:04][DEBUG] jax_fem: min of dofs = 299.9999732623813\n",
      "[01-07 15:51:04][DEBUG] jax_fem: Calling the row elimination solver for imposing Dirichlet B.C.\n",
      "[01-07 15:51:04][DEBUG] jax_fem: Start timing\n",
      "[01-07 15:51:04][DEBUG] jax_fem: Computing cell Jacobian and cell residual...\n",
      "[01-07 15:51:05][DEBUG] jax_fem: Function split_and_compute_cell took 0.0349 seconds\n",
      "[01-07 15:51:05][DEBUG] jax_fem: Creating sparse matrix with scipy...\n",
      "[01-07 15:51:05][DEBUG] jax_fem: Before, res l_2 = 13887.383932493542\n",
      "[01-07 15:51:05][DEBUG] jax_fem: Solving linear system...\n",
      "[01-07 15:51:05][DEBUG] jax_fem: JAX Solver - Solving linear system\n"
     ]
    },
    {
     "name": "stdout",
     "output_type": "stream",
     "text": [
      "\n",
      "Step 127, total step = 500, laser_x = 0.000252, Lx = 0.0005, laser ON = True\n"
     ]
    },
    {
     "name": "stderr",
     "output_type": "stream",
     "text": [
      "[01-07 15:51:05][DEBUG] jax_fem: JAX Solver - Finshed solving, res = 4.664120586870218e-07\n",
      "[01-07 15:51:05][DEBUG] jax_fem: Computing cell Jacobian and cell residual...\n",
      "[01-07 15:51:05][DEBUG] jax_fem: Function split_and_compute_cell took 0.0576 seconds\n",
      "[01-07 15:51:05][DEBUG] jax_fem: Creating sparse matrix with scipy...\n",
      "[01-07 15:51:05][DEBUG] jax_fem: res l_2 = 4.664120572403101e-07\n",
      "[01-07 15:51:05][INFO] jax_fem: Solve took 0.652350664138794 [s]\n",
      "[01-07 15:51:05][DEBUG] jax_fem: max of dofs = 15027.78922740538\n",
      "[01-07 15:51:05][DEBUG] jax_fem: min of dofs = 299.9999730672156\n",
      "[01-07 15:51:05][DEBUG] jax_fem: Calling the row elimination solver for imposing Dirichlet B.C.\n",
      "[01-07 15:51:05][DEBUG] jax_fem: Start timing\n",
      "[01-07 15:51:05][DEBUG] jax_fem: Computing cell Jacobian and cell residual...\n",
      "[01-07 15:51:05][DEBUG] jax_fem: Function split_and_compute_cell took 0.0476 seconds\n",
      "[01-07 15:51:05][DEBUG] jax_fem: Creating sparse matrix with scipy...\n",
      "[01-07 15:51:05][DEBUG] jax_fem: Before, res l_2 = 13887.391561569439\n",
      "[01-07 15:51:05][DEBUG] jax_fem: Solving linear system...\n",
      "[01-07 15:51:05][DEBUG] jax_fem: JAX Solver - Solving linear system\n"
     ]
    },
    {
     "name": "stdout",
     "output_type": "stream",
     "text": [
      "\n",
      "Step 128, total step = 500, laser_x = 0.00025299999999999997, Lx = 0.0005, laser ON = True\n"
     ]
    },
    {
     "name": "stderr",
     "output_type": "stream",
     "text": [
      "[01-07 15:51:06][DEBUG] jax_fem: JAX Solver - Finshed solving, res = 4.654085231829335e-07\n",
      "[01-07 15:51:06][DEBUG] jax_fem: Computing cell Jacobian and cell residual...\n",
      "[01-07 15:51:06][DEBUG] jax_fem: Function split_and_compute_cell took 0.0449 seconds\n",
      "[01-07 15:51:06][DEBUG] jax_fem: Creating sparse matrix with scipy...\n",
      "[01-07 15:51:06][DEBUG] jax_fem: res l_2 = 4.654085284697676e-07\n",
      "[01-07 15:51:06][INFO] jax_fem: Solve took 0.5846807956695557 [s]\n",
      "[01-07 15:51:06][DEBUG] jax_fem: max of dofs = 15053.484919770755\n",
      "[01-07 15:51:06][DEBUG] jax_fem: min of dofs = 299.9999728874574\n",
      "[01-07 15:51:06][DEBUG] jax_fem: Calling the row elimination solver for imposing Dirichlet B.C.\n",
      "[01-07 15:51:06][DEBUG] jax_fem: Start timing\n",
      "[01-07 15:51:06][DEBUG] jax_fem: Computing cell Jacobian and cell residual...\n",
      "[01-07 15:51:06][DEBUG] jax_fem: Function split_and_compute_cell took 0.0331 seconds\n",
      "[01-07 15:51:06][DEBUG] jax_fem: Creating sparse matrix with scipy...\n",
      "[01-07 15:51:06][DEBUG] jax_fem: Before, res l_2 = 13887.39905450622\n",
      "[01-07 15:51:06][DEBUG] jax_fem: Solving linear system...\n",
      "[01-07 15:51:06][DEBUG] jax_fem: JAX Solver - Solving linear system\n"
     ]
    },
    {
     "name": "stdout",
     "output_type": "stream",
     "text": [
      "\n",
      "Step 129, total step = 500, laser_x = 0.000254, Lx = 0.0005, laser ON = True\n"
     ]
    },
    {
     "name": "stderr",
     "output_type": "stream",
     "text": [
      "[01-07 15:51:06][DEBUG] jax_fem: JAX Solver - Finshed solving, res = 4.6471734785766496e-07\n",
      "[01-07 15:51:06][DEBUG] jax_fem: Computing cell Jacobian and cell residual...\n",
      "[01-07 15:51:06][DEBUG] jax_fem: Function split_and_compute_cell took 0.0329 seconds\n",
      "[01-07 15:51:06][DEBUG] jax_fem: Creating sparse matrix with scipy...\n",
      "[01-07 15:51:06][DEBUG] jax_fem: res l_2 = 4.64717339986068e-07\n",
      "[01-07 15:51:06][INFO] jax_fem: Solve took 0.55619215965271 [s]\n",
      "[01-07 15:51:06][DEBUG] jax_fem: max of dofs = 15067.301456349367\n",
      "[01-07 15:51:06][DEBUG] jax_fem: min of dofs = 299.99997272867523\n",
      "[01-07 15:51:06][DEBUG] jax_fem: Calling the row elimination solver for imposing Dirichlet B.C.\n",
      "[01-07 15:51:06][DEBUG] jax_fem: Start timing\n",
      "[01-07 15:51:06][DEBUG] jax_fem: Computing cell Jacobian and cell residual...\n",
      "[01-07 15:51:06][DEBUG] jax_fem: Function split_and_compute_cell took 0.0312 seconds\n",
      "[01-07 15:51:06][DEBUG] jax_fem: Creating sparse matrix with scipy...\n",
      "[01-07 15:51:06][DEBUG] jax_fem: Before, res l_2 = 13887.406413959068\n",
      "[01-07 15:51:06][DEBUG] jax_fem: Solving linear system...\n",
      "[01-07 15:51:06][DEBUG] jax_fem: JAX Solver - Solving linear system\n"
     ]
    },
    {
     "name": "stdout",
     "output_type": "stream",
     "text": [
      "\n",
      "Step 130, total step = 500, laser_x = 0.000255, Lx = 0.0005, laser ON = True\n"
     ]
    },
    {
     "name": "stderr",
     "output_type": "stream",
     "text": [
      "[01-07 15:51:07][DEBUG] jax_fem: JAX Solver - Finshed solving, res = 4.645662245229145e-07\n",
      "[01-07 15:51:07][DEBUG] jax_fem: Computing cell Jacobian and cell residual...\n",
      "[01-07 15:51:07][DEBUG] jax_fem: Function split_and_compute_cell took 0.0769 seconds\n",
      "[01-07 15:51:07][DEBUG] jax_fem: Creating sparse matrix with scipy...\n",
      "[01-07 15:51:07][DEBUG] jax_fem: res l_2 = 4.64566218274413e-07\n",
      "[01-07 15:51:07][INFO] jax_fem: Solve took 0.6489105224609375 [s]\n",
      "[01-07 15:51:07][DEBUG] jax_fem: max of dofs = 15069.561656169684\n",
      "[01-07 15:51:07][DEBUG] jax_fem: min of dofs = 299.9999725978562\n",
      "[01-07 15:51:07][DEBUG] jax_fem: Calling the row elimination solver for imposing Dirichlet B.C.\n",
      "[01-07 15:51:07][DEBUG] jax_fem: Start timing\n",
      "[01-07 15:51:07][DEBUG] jax_fem: Computing cell Jacobian and cell residual...\n",
      "[01-07 15:51:08][DEBUG] jax_fem: Function split_and_compute_cell took 0.2894 seconds\n",
      "[01-07 15:51:08][DEBUG] jax_fem: Creating sparse matrix with scipy...\n",
      "[01-07 15:51:08][DEBUG] jax_fem: Before, res l_2 = 0.14045435330949088\n",
      "[01-07 15:51:08][DEBUG] jax_fem: Solving linear system...\n",
      "[01-07 15:51:08][DEBUG] jax_fem: JAX Solver - Solving linear system\n",
      "[01-07 15:51:09][DEBUG] jax_fem: JAX Solver - Finshed solving, res = 9.732636434111033e-11\n",
      "[01-07 15:51:09][DEBUG] jax_fem: Computing cell Jacobian and cell residual...\n",
      "[01-07 15:51:10][DEBUG] jax_fem: Function split_and_compute_cell took 0.2786 seconds\n",
      "[01-07 15:51:10][DEBUG] jax_fem: Creating sparse matrix with scipy...\n",
      "[01-07 15:51:10][DEBUG] jax_fem: res l_2 = 0.00045593587940092256\n",
      "[01-07 15:51:10][DEBUG] jax_fem: Solving linear system...\n",
      "[01-07 15:51:10][DEBUG] jax_fem: JAX Solver - Solving linear system\n",
      "[01-07 15:51:11][DEBUG] jax_fem: JAX Solver - Finshed solving, res = 9.396246118937128e-11\n",
      "[01-07 15:51:11][DEBUG] jax_fem: Computing cell Jacobian and cell residual...\n",
      "[01-07 15:51:11][DEBUG] jax_fem: Function split_and_compute_cell took 0.2557 seconds\n",
      "[01-07 15:51:11][DEBUG] jax_fem: Creating sparse matrix with scipy...\n",
      "[01-07 15:51:12][DEBUG] jax_fem: res l_2 = 3.147469568966515e-07\n",
      "[01-07 15:51:12][INFO] jax_fem: Solve took 4.3384621143341064 [s]\n",
      "[01-07 15:51:12][DEBUG] jax_fem: max of dofs = 2.7866582431298676e-07\n",
      "[01-07 15:51:12][DEBUG] jax_fem: min of dofs = -2.58488593712061e-07\n",
      "[01-07 15:51:12][DEBUG] jax_fem: Calling the row elimination solver for imposing Dirichlet B.C.\n",
      "[01-07 15:51:12][DEBUG] jax_fem: Start timing\n",
      "[01-07 15:51:12][DEBUG] jax_fem: Computing cell Jacobian and cell residual...\n",
      "[01-07 15:51:12][DEBUG] jax_fem: Function split_and_compute_cell took 0.0333 seconds\n",
      "[01-07 15:51:12][DEBUG] jax_fem: Creating sparse matrix with scipy...\n",
      "[01-07 15:51:12][DEBUG] jax_fem: Before, res l_2 = 13887.413642529027\n",
      "[01-07 15:51:12][DEBUG] jax_fem: Solving linear system...\n",
      "[01-07 15:51:12][DEBUG] jax_fem: JAX Solver - Solving linear system\n"
     ]
    },
    {
     "name": "stdout",
     "output_type": "stream",
     "text": [
      "max f_plus = 30668716.00899607, max stress_xx = 203105229.70698252\n",
      "\n",
      "Step 131, total step = 500, laser_x = 0.000256, Lx = 0.0005, laser ON = True\n"
     ]
    },
    {
     "name": "stderr",
     "output_type": "stream",
     "text": [
      "[01-07 15:51:12][DEBUG] jax_fem: JAX Solver - Finshed solving, res = 4.649728900568038e-07\n",
      "[01-07 15:51:12][DEBUG] jax_fem: Computing cell Jacobian and cell residual...\n",
      "[01-07 15:51:12][DEBUG] jax_fem: Function split_and_compute_cell took 0.0370 seconds\n",
      "[01-07 15:51:12][DEBUG] jax_fem: Creating sparse matrix with scipy...\n",
      "[01-07 15:51:12][DEBUG] jax_fem: res l_2 = 4.649728992007244e-07\n",
      "[01-07 15:51:12][INFO] jax_fem: Solve took 0.582343339920044 [s]\n",
      "[01-07 15:51:12][DEBUG] jax_fem: max of dofs = 15060.609722369047\n",
      "[01-07 15:51:12][DEBUG] jax_fem: min of dofs = 299.99997250409155\n",
      "[01-07 15:51:12][DEBUG] jax_fem: Calling the row elimination solver for imposing Dirichlet B.C.\n",
      "[01-07 15:51:12][DEBUG] jax_fem: Start timing\n",
      "[01-07 15:51:12][DEBUG] jax_fem: Computing cell Jacobian and cell residual...\n",
      "[01-07 15:51:12][DEBUG] jax_fem: Function split_and_compute_cell took 0.0331 seconds\n",
      "[01-07 15:51:12][DEBUG] jax_fem: Creating sparse matrix with scipy...\n",
      "[01-07 15:51:12][DEBUG] jax_fem: Before, res l_2 = 13887.420742763985\n",
      "[01-07 15:51:12][DEBUG] jax_fem: Solving linear system...\n",
      "[01-07 15:51:12][DEBUG] jax_fem: JAX Solver - Solving linear system\n"
     ]
    },
    {
     "name": "stdout",
     "output_type": "stream",
     "text": [
      "\n",
      "Step 132, total step = 500, laser_x = 0.00025699999999999996, Lx = 0.0005, laser ON = True\n"
     ]
    },
    {
     "name": "stderr",
     "output_type": "stream",
     "text": [
      "[01-07 15:51:13][DEBUG] jax_fem: JAX Solver - Finshed solving, res = 4.6573668689786475e-07\n",
      "[01-07 15:51:13][DEBUG] jax_fem: Computing cell Jacobian and cell residual...\n",
      "[01-07 15:51:13][DEBUG] jax_fem: Function split_and_compute_cell took 0.0338 seconds\n",
      "[01-07 15:51:13][DEBUG] jax_fem: Creating sparse matrix with scipy...\n",
      "[01-07 15:51:13][DEBUG] jax_fem: res l_2 = 4.65736685679627e-07\n",
      "[01-07 15:51:13][INFO] jax_fem: Solve took 0.5737323760986328 [s]\n",
      "[01-07 15:51:13][DEBUG] jax_fem: max of dofs = 15040.808569718844\n",
      "[01-07 15:51:13][DEBUG] jax_fem: min of dofs = 299.99997245943433\n",
      "[01-07 15:51:13][DEBUG] jax_fem: Calling the row elimination solver for imposing Dirichlet B.C.\n",
      "[01-07 15:51:13][DEBUG] jax_fem: Start timing\n",
      "[01-07 15:51:13][DEBUG] jax_fem: Computing cell Jacobian and cell residual...\n",
      "[01-07 15:51:13][DEBUG] jax_fem: Function split_and_compute_cell took 0.0338 seconds\n",
      "[01-07 15:51:13][DEBUG] jax_fem: Creating sparse matrix with scipy...\n",
      "[01-07 15:51:13][DEBUG] jax_fem: Before, res l_2 = 13887.42771715966\n",
      "[01-07 15:51:13][DEBUG] jax_fem: Solving linear system...\n",
      "[01-07 15:51:13][DEBUG] jax_fem: JAX Solver - Solving linear system\n"
     ]
    },
    {
     "name": "stdout",
     "output_type": "stream",
     "text": [
      "\n",
      "Step 133, total step = 500, laser_x = 0.000258, Lx = 0.0005, laser ON = True\n"
     ]
    },
    {
     "name": "stderr",
     "output_type": "stream",
     "text": [
      "[01-07 15:51:13][DEBUG] jax_fem: JAX Solver - Finshed solving, res = 4.665182323685308e-07\n",
      "[01-07 15:51:13][DEBUG] jax_fem: Computing cell Jacobian and cell residual...\n",
      "[01-07 15:51:13][DEBUG] jax_fem: Function split_and_compute_cell took 0.0388 seconds\n",
      "[01-07 15:51:13][DEBUG] jax_fem: Creating sparse matrix with scipy...\n",
      "[01-07 15:51:14][DEBUG] jax_fem: res l_2 = 4.6651822612771843e-07\n",
      "[01-07 15:51:14][INFO] jax_fem: Solve took 0.6298480033874512 [s]\n",
      "[01-07 15:51:14][DEBUG] jax_fem: max of dofs = 15010.537317527855\n",
      "[01-07 15:51:14][DEBUG] jax_fem: min of dofs = 299.99997246653936\n",
      "[01-07 15:51:14][DEBUG] jax_fem: Calling the row elimination solver for imposing Dirichlet B.C.\n",
      "[01-07 15:51:14][DEBUG] jax_fem: Start timing\n",
      "[01-07 15:51:14][DEBUG] jax_fem: Computing cell Jacobian and cell residual...\n",
      "[01-07 15:51:14][DEBUG] jax_fem: Function split_and_compute_cell took 0.0359 seconds\n",
      "[01-07 15:51:14][DEBUG] jax_fem: Creating sparse matrix with scipy...\n",
      "[01-07 15:51:14][DEBUG] jax_fem: Before, res l_2 = 13887.434568160577\n",
      "[01-07 15:51:14][DEBUG] jax_fem: Solving linear system...\n",
      "[01-07 15:51:14][DEBUG] jax_fem: JAX Solver - Solving linear system\n"
     ]
    },
    {
     "name": "stdout",
     "output_type": "stream",
     "text": [
      "\n",
      "Step 134, total step = 500, laser_x = 0.000259, Lx = 0.0005, laser ON = True\n"
     ]
    },
    {
     "name": "stderr",
     "output_type": "stream",
     "text": [
      "[01-07 15:51:14][DEBUG] jax_fem: JAX Solver - Finshed solving, res = 4.66972765290786e-07\n",
      "[01-07 15:51:14][DEBUG] jax_fem: Computing cell Jacobian and cell residual...\n",
      "[01-07 15:51:14][DEBUG] jax_fem: Function split_and_compute_cell took 0.0450 seconds\n",
      "[01-07 15:51:14][DEBUG] jax_fem: Creating sparse matrix with scipy...\n",
      "[01-07 15:51:15][DEBUG] jax_fem: res l_2 = 4.6697276697905154e-07\n",
      "[01-07 15:51:15][INFO] jax_fem: Solve took 0.987501859664917 [s]\n",
      "[01-07 15:51:15][DEBUG] jax_fem: max of dofs = 14970.188945058399\n",
      "[01-07 15:51:15][DEBUG] jax_fem: min of dofs = 299.99997244461855\n",
      "[01-07 15:51:15][DEBUG] jax_fem: Calling the row elimination solver for imposing Dirichlet B.C.\n",
      "[01-07 15:51:15][DEBUG] jax_fem: Start timing\n",
      "[01-07 15:51:15][DEBUG] jax_fem: Computing cell Jacobian and cell residual...\n",
      "[01-07 15:51:15][DEBUG] jax_fem: Function split_and_compute_cell took 0.0344 seconds\n",
      "[01-07 15:51:15][DEBUG] jax_fem: Creating sparse matrix with scipy...\n",
      "[01-07 15:51:15][DEBUG] jax_fem: Before, res l_2 = 13887.441298161035\n",
      "[01-07 15:51:15][DEBUG] jax_fem: Solving linear system...\n",
      "[01-07 15:51:15][DEBUG] jax_fem: JAX Solver - Solving linear system\n"
     ]
    },
    {
     "name": "stdout",
     "output_type": "stream",
     "text": [
      "\n",
      "Step 135, total step = 500, laser_x = 0.00026000000000000003, Lx = 0.0005, laser ON = True\n"
     ]
    },
    {
     "name": "stderr",
     "output_type": "stream",
     "text": [
      "[01-07 15:51:15][DEBUG] jax_fem: JAX Solver - Finshed solving, res = 4.6688152657401463e-07\n",
      "[01-07 15:51:15][DEBUG] jax_fem: Computing cell Jacobian and cell residual...\n",
      "[01-07 15:51:15][DEBUG] jax_fem: Function split_and_compute_cell took 0.0398 seconds\n",
      "[01-07 15:51:15][DEBUG] jax_fem: Creating sparse matrix with scipy...\n",
      "[01-07 15:51:15][DEBUG] jax_fem: res l_2 = 4.668815272394196e-07\n",
      "[01-07 15:51:15][INFO] jax_fem: Solve took 0.57328200340271 [s]\n",
      "[01-07 15:51:15][DEBUG] jax_fem: max of dofs = 14945.10896298221\n",
      "[01-07 15:51:15][DEBUG] jax_fem: min of dofs = 299.9999722589701\n",
      "[01-07 15:51:15][DEBUG] jax_fem: Calling the row elimination solver for imposing Dirichlet B.C.\n",
      "[01-07 15:51:15][DEBUG] jax_fem: Start timing\n",
      "[01-07 15:51:15][DEBUG] jax_fem: Computing cell Jacobian and cell residual...\n",
      "[01-07 15:51:15][DEBUG] jax_fem: Function split_and_compute_cell took 0.0656 seconds\n",
      "[01-07 15:51:15][DEBUG] jax_fem: Creating sparse matrix with scipy...\n",
      "[01-07 15:51:15][DEBUG] jax_fem: Before, res l_2 = 13887.447909506072\n",
      "[01-07 15:51:15][DEBUG] jax_fem: Solving linear system...\n",
      "[01-07 15:51:15][DEBUG] jax_fem: JAX Solver - Solving linear system\n"
     ]
    },
    {
     "name": "stdout",
     "output_type": "stream",
     "text": [
      "\n",
      "Step 136, total step = 500, laser_x = 0.000261, Lx = 0.0005, laser ON = True\n"
     ]
    },
    {
     "name": "stderr",
     "output_type": "stream",
     "text": [
      "[01-07 15:51:16][DEBUG] jax_fem: JAX Solver - Finshed solving, res = 4.6623179233556396e-07\n",
      "[01-07 15:51:16][DEBUG] jax_fem: Computing cell Jacobian and cell residual...\n",
      "[01-07 15:51:16][DEBUG] jax_fem: Function split_and_compute_cell took 0.0462 seconds\n",
      "[01-07 15:51:16][DEBUG] jax_fem: Creating sparse matrix with scipy...\n",
      "[01-07 15:51:16][DEBUG] jax_fem: res l_2 = 4.6623178937442635e-07\n",
      "[01-07 15:51:16][INFO] jax_fem: Solve took 0.7300150394439697 [s]\n",
      "[01-07 15:51:16][DEBUG] jax_fem: max of dofs = 14995.314299089863\n",
      "[01-07 15:51:16][DEBUG] jax_fem: min of dofs = 299.99997208000605\n",
      "[01-07 15:51:16][DEBUG] jax_fem: Calling the row elimination solver for imposing Dirichlet B.C.\n",
      "[01-07 15:51:16][DEBUG] jax_fem: Start timing\n",
      "[01-07 15:51:16][DEBUG] jax_fem: Computing cell Jacobian and cell residual...\n",
      "[01-07 15:51:16][DEBUG] jax_fem: Function split_and_compute_cell took 0.0392 seconds\n",
      "[01-07 15:51:16][DEBUG] jax_fem: Creating sparse matrix with scipy...\n",
      "[01-07 15:51:16][DEBUG] jax_fem: Before, res l_2 = 13887.454404492426\n",
      "[01-07 15:51:16][DEBUG] jax_fem: Solving linear system...\n",
      "[01-07 15:51:16][DEBUG] jax_fem: JAX Solver - Solving linear system\n"
     ]
    },
    {
     "name": "stdout",
     "output_type": "stream",
     "text": [
      "\n",
      "Step 137, total step = 500, laser_x = 0.00026199999999999997, Lx = 0.0005, laser ON = True\n"
     ]
    },
    {
     "name": "stderr",
     "output_type": "stream",
     "text": [
      "[01-07 15:51:16][DEBUG] jax_fem: JAX Solver - Finshed solving, res = 4.652202682072662e-07\n",
      "[01-07 15:51:16][DEBUG] jax_fem: Computing cell Jacobian and cell residual...\n",
      "[01-07 15:51:16][DEBUG] jax_fem: Function split_and_compute_cell took 0.0378 seconds\n",
      "[01-07 15:51:16][DEBUG] jax_fem: Creating sparse matrix with scipy...\n",
      "[01-07 15:51:16][DEBUG] jax_fem: res l_2 = 4.652202695962755e-07\n",
      "[01-07 15:51:16][INFO] jax_fem: Solve took 0.599555253982544 [s]\n",
      "[01-07 15:51:16][DEBUG] jax_fem: max of dofs = 15033.076540873537\n",
      "[01-07 15:51:16][DEBUG] jax_fem: min of dofs = 299.9999719116093\n",
      "[01-07 15:51:16][DEBUG] jax_fem: Calling the row elimination solver for imposing Dirichlet B.C.\n",
      "[01-07 15:51:16][DEBUG] jax_fem: Start timing\n",
      "[01-07 15:51:16][DEBUG] jax_fem: Computing cell Jacobian and cell residual...\n",
      "[01-07 15:51:17][DEBUG] jax_fem: Function split_and_compute_cell took 0.0341 seconds\n",
      "[01-07 15:51:17][DEBUG] jax_fem: Creating sparse matrix with scipy...\n",
      "[01-07 15:51:17][DEBUG] jax_fem: Before, res l_2 = 13887.460785369472\n",
      "[01-07 15:51:17][DEBUG] jax_fem: Solving linear system...\n",
      "[01-07 15:51:17][DEBUG] jax_fem: JAX Solver - Solving linear system\n"
     ]
    },
    {
     "name": "stdout",
     "output_type": "stream",
     "text": [
      "\n",
      "Step 138, total step = 500, laser_x = 0.000263, Lx = 0.0005, laser ON = True\n"
     ]
    },
    {
     "name": "stderr",
     "output_type": "stream",
     "text": [
      "[01-07 15:51:17][DEBUG] jax_fem: JAX Solver - Finshed solving, res = 4.6418067697770327e-07\n",
      "[01-07 15:51:17][DEBUG] jax_fem: Computing cell Jacobian and cell residual...\n",
      "[01-07 15:51:17][DEBUG] jax_fem: Function split_and_compute_cell took 0.0399 seconds\n",
      "[01-07 15:51:17][DEBUG] jax_fem: Creating sparse matrix with scipy...\n",
      "[01-07 15:51:17][DEBUG] jax_fem: res l_2 = 4.6418067493625456e-07\n",
      "[01-07 15:51:17][INFO] jax_fem: Solve took 0.6370577812194824 [s]\n",
      "[01-07 15:51:17][DEBUG] jax_fem: max of dofs = 15058.667120144919\n",
      "[01-07 15:51:17][DEBUG] jax_fem: min of dofs = 299.99997175840343\n",
      "[01-07 15:51:17][DEBUG] jax_fem: Calling the row elimination solver for imposing Dirichlet B.C.\n",
      "[01-07 15:51:17][DEBUG] jax_fem: Start timing\n",
      "[01-07 15:51:17][DEBUG] jax_fem: Computing cell Jacobian and cell residual...\n",
      "[01-07 15:51:17][DEBUG] jax_fem: Function split_and_compute_cell took 0.0397 seconds\n",
      "[01-07 15:51:17][DEBUG] jax_fem: Creating sparse matrix with scipy...\n",
      "[01-07 15:51:17][DEBUG] jax_fem: Before, res l_2 = 13887.467054340163\n",
      "[01-07 15:51:17][DEBUG] jax_fem: Solving linear system...\n",
      "[01-07 15:51:17][DEBUG] jax_fem: JAX Solver - Solving linear system\n"
     ]
    },
    {
     "name": "stdout",
     "output_type": "stream",
     "text": [
      "\n",
      "Step 139, total step = 500, laser_x = 0.000264, Lx = 0.0005, laser ON = True\n"
     ]
    },
    {
     "name": "stderr",
     "output_type": "stream",
     "text": [
      "[01-07 15:51:18][DEBUG] jax_fem: JAX Solver - Finshed solving, res = 4.634596968219752e-07\n",
      "[01-07 15:51:18][DEBUG] jax_fem: Computing cell Jacobian and cell residual...\n",
      "[01-07 15:51:18][DEBUG] jax_fem: Function split_and_compute_cell took 0.0767 seconds\n",
      "[01-07 15:51:18][DEBUG] jax_fem: Creating sparse matrix with scipy...\n",
      "[01-07 15:51:18][DEBUG] jax_fem: res l_2 = 4.6345968618348673e-07\n",
      "[01-07 15:51:18][INFO] jax_fem: Solve took 0.7011234760284424 [s]\n",
      "[01-07 15:51:18][DEBUG] jax_fem: max of dofs = 15072.384642783642\n",
      "[01-07 15:51:18][DEBUG] jax_fem: min of dofs = 299.9999716259836\n",
      "[01-07 15:51:18][DEBUG] jax_fem: Calling the row elimination solver for imposing Dirichlet B.C.\n",
      "[01-07 15:51:18][DEBUG] jax_fem: Start timing\n",
      "[01-07 15:51:18][DEBUG] jax_fem: Computing cell Jacobian and cell residual...\n",
      "[01-07 15:51:18][DEBUG] jax_fem: Function split_and_compute_cell took 0.0473 seconds\n",
      "[01-07 15:51:18][DEBUG] jax_fem: Creating sparse matrix with scipy...\n",
      "[01-07 15:51:18][DEBUG] jax_fem: Before, res l_2 = 13887.473213561965\n",
      "[01-07 15:51:18][DEBUG] jax_fem: Solving linear system...\n",
      "[01-07 15:51:18][DEBUG] jax_fem: JAX Solver - Solving linear system\n"
     ]
    },
    {
     "name": "stdout",
     "output_type": "stream",
     "text": [
      "\n",
      "Step 140, total step = 500, laser_x = 0.000265, Lx = 0.0005, laser ON = True\n"
     ]
    },
    {
     "name": "stderr",
     "output_type": "stream",
     "text": [
      "[01-07 15:51:18][DEBUG] jax_fem: JAX Solver - Finshed solving, res = 4.6328387818584034e-07\n",
      "[01-07 15:51:18][DEBUG] jax_fem: Computing cell Jacobian and cell residual...\n",
      "[01-07 15:51:18][DEBUG] jax_fem: Function split_and_compute_cell took 0.0357 seconds\n",
      "[01-07 15:51:18][DEBUG] jax_fem: Creating sparse matrix with scipy...\n",
      "[01-07 15:51:18][DEBUG] jax_fem: res l_2 = 4.6328388046295274e-07\n",
      "[01-07 15:51:18][INFO] jax_fem: Solve took 0.6047749519348145 [s]\n",
      "[01-07 15:51:18][DEBUG] jax_fem: max of dofs = 15074.551900096805\n",
      "[01-07 15:51:18][DEBUG] jax_fem: min of dofs = 299.99997152137377\n",
      "[01-07 15:51:19][DEBUG] jax_fem: Calling the row elimination solver for imposing Dirichlet B.C.\n",
      "[01-07 15:51:19][DEBUG] jax_fem: Start timing\n",
      "[01-07 15:51:19][DEBUG] jax_fem: Computing cell Jacobian and cell residual...\n",
      "[01-07 15:51:19][DEBUG] jax_fem: Function split_and_compute_cell took 0.2641 seconds\n",
      "[01-07 15:51:19][DEBUG] jax_fem: Creating sparse matrix with scipy...\n",
      "[01-07 15:51:19][DEBUG] jax_fem: Before, res l_2 = 0.15579904676855874\n",
      "[01-07 15:51:19][DEBUG] jax_fem: Solving linear system...\n",
      "[01-07 15:51:19][DEBUG] jax_fem: JAX Solver - Solving linear system\n",
      "[01-07 15:51:21][DEBUG] jax_fem: JAX Solver - Finshed solving, res = 9.54269968080458e-11\n",
      "[01-07 15:51:21][DEBUG] jax_fem: Computing cell Jacobian and cell residual...\n",
      "[01-07 15:51:21][DEBUG] jax_fem: Function split_and_compute_cell took 0.2468 seconds\n",
      "[01-07 15:51:21][DEBUG] jax_fem: Creating sparse matrix with scipy...\n",
      "[01-07 15:51:21][DEBUG] jax_fem: res l_2 = 0.0014319964976377173\n",
      "[01-07 15:51:21][DEBUG] jax_fem: Solving linear system...\n",
      "[01-07 15:51:21][DEBUG] jax_fem: JAX Solver - Solving linear system\n",
      "[01-07 15:51:23][DEBUG] jax_fem: JAX Solver - Finshed solving, res = 9.272088489564781e-11\n",
      "[01-07 15:51:23][DEBUG] jax_fem: Computing cell Jacobian and cell residual...\n",
      "[01-07 15:51:23][DEBUG] jax_fem: Function split_and_compute_cell took 0.2476 seconds\n",
      "[01-07 15:51:23][DEBUG] jax_fem: Creating sparse matrix with scipy...\n",
      "[01-07 15:51:23][DEBUG] jax_fem: res l_2 = 2.690181188953924e-06\n",
      "[01-07 15:51:23][DEBUG] jax_fem: Solving linear system...\n",
      "[01-07 15:51:23][DEBUG] jax_fem: JAX Solver - Solving linear system\n",
      "[01-07 15:51:24][DEBUG] jax_fem: JAX Solver - Finshed solving, res = 8.888085125921377e-11\n",
      "[01-07 15:51:24][DEBUG] jax_fem: Computing cell Jacobian and cell residual...\n",
      "[01-07 15:51:25][DEBUG] jax_fem: Function split_and_compute_cell took 0.2357 seconds\n",
      "[01-07 15:51:25][DEBUG] jax_fem: Creating sparse matrix with scipy...\n",
      "[01-07 15:51:25][DEBUG] jax_fem: res l_2 = 9.220748350960277e-11\n",
      "[01-07 15:51:25][INFO] jax_fem: Solve took 6.129206657409668 [s]\n",
      "[01-07 15:51:25][DEBUG] jax_fem: max of dofs = 3.4068694150948247e-07\n",
      "[01-07 15:51:25][DEBUG] jax_fem: min of dofs = -3.066167937210367e-07\n",
      "[01-07 15:51:25][DEBUG] jax_fem: Calling the row elimination solver for imposing Dirichlet B.C.\n",
      "[01-07 15:51:25][DEBUG] jax_fem: Start timing\n",
      "[01-07 15:51:25][DEBUG] jax_fem: Computing cell Jacobian and cell residual...\n",
      "[01-07 15:51:25][DEBUG] jax_fem: Function split_and_compute_cell took 0.0313 seconds\n",
      "[01-07 15:51:25][DEBUG] jax_fem: Creating sparse matrix with scipy...\n",
      "[01-07 15:51:25][DEBUG] jax_fem: Before, res l_2 = 13887.47926514776\n",
      "[01-07 15:51:25][DEBUG] jax_fem: Solving linear system...\n",
      "[01-07 15:51:25][DEBUG] jax_fem: JAX Solver - Solving linear system\n"
     ]
    },
    {
     "name": "stdout",
     "output_type": "stream",
     "text": [
      "max f_plus = 62925680.40933496, max stress_xx = 234092822.60737607\n",
      "\n",
      "Step 141, total step = 500, laser_x = 0.00026599999999999996, Lx = 0.0005, laser ON = True\n"
     ]
    },
    {
     "name": "stderr",
     "output_type": "stream",
     "text": [
      "[01-07 15:51:26][DEBUG] jax_fem: JAX Solver - Finshed solving, res = 4.6366929878648255e-07\n",
      "[01-07 15:51:26][DEBUG] jax_fem: Computing cell Jacobian and cell residual...\n",
      "[01-07 15:51:26][DEBUG] jax_fem: Function split_and_compute_cell took 0.1028 seconds\n",
      "[01-07 15:51:26][DEBUG] jax_fem: Creating sparse matrix with scipy...\n",
      "[01-07 15:51:26][DEBUG] jax_fem: res l_2 = 4.63669299261896e-07\n",
      "[01-07 15:51:26][INFO] jax_fem: Solve took 0.7727642059326172 [s]\n",
      "[01-07 15:51:26][DEBUG] jax_fem: max of dofs = 15065.51303684427\n",
      "[01-07 15:51:26][DEBUG] jax_fem: min of dofs = 299.99997145371134\n",
      "[01-07 15:51:26][DEBUG] jax_fem: Calling the row elimination solver for imposing Dirichlet B.C.\n",
      "[01-07 15:51:26][DEBUG] jax_fem: Start timing\n",
      "[01-07 15:51:26][DEBUG] jax_fem: Computing cell Jacobian and cell residual...\n",
      "[01-07 15:51:26][DEBUG] jax_fem: Function split_and_compute_cell took 0.0375 seconds\n",
      "[01-07 15:51:26][DEBUG] jax_fem: Creating sparse matrix with scipy...\n",
      "[01-07 15:51:26][DEBUG] jax_fem: Before, res l_2 = 13887.485211166762\n",
      "[01-07 15:51:26][DEBUG] jax_fem: Solving linear system...\n",
      "[01-07 15:51:26][DEBUG] jax_fem: JAX Solver - Solving linear system\n"
     ]
    },
    {
     "name": "stdout",
     "output_type": "stream",
     "text": [
      "\n",
      "Step 142, total step = 500, laser_x = 0.000267, Lx = 0.0005, laser ON = True\n"
     ]
    },
    {
     "name": "stderr",
     "output_type": "stream",
     "text": [
      "[01-07 15:51:26][DEBUG] jax_fem: JAX Solver - Finshed solving, res = 4.644137786795654e-07\n",
      "[01-07 15:51:26][DEBUG] jax_fem: Computing cell Jacobian and cell residual...\n",
      "[01-07 15:51:26][DEBUG] jax_fem: Function split_and_compute_cell took 0.0972 seconds\n",
      "[01-07 15:51:27][DEBUG] jax_fem: Creating sparse matrix with scipy...\n",
      "[01-07 15:51:27][DEBUG] jax_fem: res l_2 = 4.6441378230064653e-07\n",
      "[01-07 15:51:27][INFO] jax_fem: Solve took 0.8633499145507812 [s]\n",
      "[01-07 15:51:27][DEBUG] jax_fem: max of dofs = 15045.630882843854\n",
      "[01-07 15:51:27][DEBUG] jax_fem: min of dofs = 299.9999714350981\n",
      "[01-07 15:51:27][DEBUG] jax_fem: Calling the row elimination solver for imposing Dirichlet B.C.\n",
      "[01-07 15:51:27][DEBUG] jax_fem: Start timing\n",
      "[01-07 15:51:27][DEBUG] jax_fem: Computing cell Jacobian and cell residual...\n",
      "[01-07 15:51:27][DEBUG] jax_fem: Function split_and_compute_cell took 0.0437 seconds\n",
      "[01-07 15:51:27][DEBUG] jax_fem: Creating sparse matrix with scipy...\n",
      "[01-07 15:51:27][DEBUG] jax_fem: Before, res l_2 = 13887.491053645408\n",
      "[01-07 15:51:27][DEBUG] jax_fem: Solving linear system...\n",
      "[01-07 15:51:27][DEBUG] jax_fem: JAX Solver - Solving linear system\n"
     ]
    },
    {
     "name": "stdout",
     "output_type": "stream",
     "text": [
      "\n",
      "Step 143, total step = 500, laser_x = 0.000268, Lx = 0.0005, laser ON = True\n"
     ]
    },
    {
     "name": "stderr",
     "output_type": "stream",
     "text": [
      "[01-07 15:51:27][DEBUG] jax_fem: JAX Solver - Finshed solving, res = 4.651770149566583e-07\n",
      "[01-07 15:51:27][DEBUG] jax_fem: Computing cell Jacobian and cell residual...\n",
      "[01-07 15:51:27][DEBUG] jax_fem: Function split_and_compute_cell took 0.0473 seconds\n",
      "[01-07 15:51:27][DEBUG] jax_fem: Creating sparse matrix with scipy...\n",
      "[01-07 15:51:27][DEBUG] jax_fem: res l_2 = 4.651770089271988e-07\n",
      "[01-07 15:51:27][INFO] jax_fem: Solve took 0.6248915195465088 [s]\n",
      "[01-07 15:51:27][DEBUG] jax_fem: max of dofs = 15015.284449679646\n",
      "[01-07 15:51:27][DEBUG] jax_fem: min of dofs = 299.9999714675615\n",
      "[01-07 15:51:27][DEBUG] jax_fem: Calling the row elimination solver for imposing Dirichlet B.C.\n",
      "[01-07 15:51:27][DEBUG] jax_fem: Start timing\n",
      "[01-07 15:51:27][DEBUG] jax_fem: Computing cell Jacobian and cell residual...\n",
      "[01-07 15:51:27][DEBUG] jax_fem: Function split_and_compute_cell took 0.0425 seconds\n",
      "[01-07 15:51:27][DEBUG] jax_fem: Creating sparse matrix with scipy...\n",
      "[01-07 15:51:27][DEBUG] jax_fem: Before, res l_2 = 13887.496794568226\n",
      "[01-07 15:51:27][DEBUG] jax_fem: Solving linear system...\n",
      "[01-07 15:51:27][DEBUG] jax_fem: JAX Solver - Solving linear system\n"
     ]
    },
    {
     "name": "stdout",
     "output_type": "stream",
     "text": [
      "\n",
      "Step 144, total step = 500, laser_x = 0.00026900000000000003, Lx = 0.0005, laser ON = True\n"
     ]
    },
    {
     "name": "stderr",
     "output_type": "stream",
     "text": [
      "[01-07 15:51:28][DEBUG] jax_fem: JAX Solver - Finshed solving, res = 4.6561416522689256e-07\n",
      "[01-07 15:51:28][DEBUG] jax_fem: Computing cell Jacobian and cell residual...\n",
      "[01-07 15:51:28][DEBUG] jax_fem: Function split_and_compute_cell took 0.0683 seconds\n",
      "[01-07 15:51:28][DEBUG] jax_fem: Creating sparse matrix with scipy...\n",
      "[01-07 15:51:28][DEBUG] jax_fem: res l_2 = 4.656141672095967e-07\n",
      "[01-07 15:51:28][INFO] jax_fem: Solve took 0.7232768535614014 [s]\n",
      "[01-07 15:51:28][DEBUG] jax_fem: max of dofs = 14974.866589621326\n",
      "[01-07 15:51:28][DEBUG] jax_fem: min of dofs = 299.9999714590488\n",
      "[01-07 15:51:28][DEBUG] jax_fem: Calling the row elimination solver for imposing Dirichlet B.C.\n",
      "[01-07 15:51:28][DEBUG] jax_fem: Start timing\n",
      "[01-07 15:51:28][DEBUG] jax_fem: Computing cell Jacobian and cell residual...\n",
      "[01-07 15:51:28][DEBUG] jax_fem: Function split_and_compute_cell took 0.0407 seconds\n",
      "[01-07 15:51:28][DEBUG] jax_fem: Creating sparse matrix with scipy...\n"
     ]
    },
    {
     "name": "stdout",
     "output_type": "stream",
     "text": [
      "\n",
      "Step 145, total step = 500, laser_x = 0.00027, Lx = 0.0005, laser ON = True\n"
     ]
    },
    {
     "name": "stderr",
     "output_type": "stream",
     "text": [
      "[01-07 15:51:28][DEBUG] jax_fem: Before, res l_2 = 13887.50243587872\n",
      "[01-07 15:51:28][DEBUG] jax_fem: Solving linear system...\n",
      "[01-07 15:51:28][DEBUG] jax_fem: JAX Solver - Solving linear system\n",
      "[01-07 15:51:29][DEBUG] jax_fem: JAX Solver - Finshed solving, res = 4.655071843533802e-07\n",
      "[01-07 15:51:29][DEBUG] jax_fem: Computing cell Jacobian and cell residual...\n",
      "[01-07 15:51:29][DEBUG] jax_fem: Function split_and_compute_cell took 0.0324 seconds\n",
      "[01-07 15:51:29][DEBUG] jax_fem: Creating sparse matrix with scipy...\n",
      "[01-07 15:51:29][DEBUG] jax_fem: res l_2 = 4.6550718172962956e-07\n",
      "[01-07 15:51:29][INFO] jax_fem: Solve took 0.686772346496582 [s]\n",
      "[01-07 15:51:29][DEBUG] jax_fem: max of dofs = 14948.260660354306\n",
      "[01-07 15:51:29][DEBUG] jax_fem: min of dofs = 299.999971296532\n",
      "[01-07 15:51:29][DEBUG] jax_fem: Calling the row elimination solver for imposing Dirichlet B.C.\n",
      "[01-07 15:51:29][DEBUG] jax_fem: Start timing\n",
      "[01-07 15:51:29][DEBUG] jax_fem: Computing cell Jacobian and cell residual...\n",
      "[01-07 15:51:29][DEBUG] jax_fem: Function split_and_compute_cell took 0.0324 seconds\n",
      "[01-07 15:51:29][DEBUG] jax_fem: Creating sparse matrix with scipy...\n",
      "[01-07 15:51:29][DEBUG] jax_fem: Before, res l_2 = 13887.507979480204\n",
      "[01-07 15:51:29][DEBUG] jax_fem: Solving linear system...\n",
      "[01-07 15:51:29][DEBUG] jax_fem: JAX Solver - Solving linear system\n"
     ]
    },
    {
     "name": "stdout",
     "output_type": "stream",
     "text": [
      "\n",
      "Step 146, total step = 500, laser_x = 0.000271, Lx = 0.0005, laser ON = True\n"
     ]
    },
    {
     "name": "stderr",
     "output_type": "stream",
     "text": [
      "[01-07 15:51:29][DEBUG] jax_fem: JAX Solver - Finshed solving, res = 4.648443437302003e-07\n",
      "[01-07 15:51:29][DEBUG] jax_fem: Computing cell Jacobian and cell residual...\n",
      "[01-07 15:51:29][DEBUG] jax_fem: Function split_and_compute_cell took 0.0466 seconds\n",
      "[01-07 15:51:29][DEBUG] jax_fem: Creating sparse matrix with scipy...\n",
      "[01-07 15:51:29][DEBUG] jax_fem: res l_2 = 4.6484434415024306e-07\n",
      "[01-07 15:51:29][INFO] jax_fem: Solve took 0.6296319961547852 [s]\n",
      "[01-07 15:51:29][DEBUG] jax_fem: max of dofs = 14998.401836859073\n",
      "[01-07 15:51:29][DEBUG] jax_fem: min of dofs = 299.9999711403972\n",
      "[01-07 15:51:29][DEBUG] jax_fem: Calling the row elimination solver for imposing Dirichlet B.C.\n",
      "[01-07 15:51:29][DEBUG] jax_fem: Start timing\n",
      "[01-07 15:51:29][DEBUG] jax_fem: Computing cell Jacobian and cell residual...\n",
      "[01-07 15:51:29][DEBUG] jax_fem: Function split_and_compute_cell took 0.0398 seconds\n",
      "[01-07 15:51:29][DEBUG] jax_fem: Creating sparse matrix with scipy...\n",
      "[01-07 15:51:29][DEBUG] jax_fem: Before, res l_2 = 13887.513427236658\n",
      "[01-07 15:51:29][DEBUG] jax_fem: Solving linear system...\n",
      "[01-07 15:51:29][DEBUG] jax_fem: JAX Solver - Solving linear system\n"
     ]
    },
    {
     "name": "stdout",
     "output_type": "stream",
     "text": [
      "\n",
      "Step 147, total step = 500, laser_x = 0.000272, Lx = 0.0005, laser ON = True\n"
     ]
    },
    {
     "name": "stderr",
     "output_type": "stream",
     "text": [
      "[01-07 15:51:30][DEBUG] jax_fem: JAX Solver - Finshed solving, res = 4.6382324351738095e-07\n",
      "[01-07 15:51:30][DEBUG] jax_fem: Computing cell Jacobian and cell residual...\n",
      "[01-07 15:51:30][DEBUG] jax_fem: Function split_and_compute_cell took 0.0532 seconds\n",
      "[01-07 15:51:30][DEBUG] jax_fem: Creating sparse matrix with scipy...\n",
      "[01-07 15:51:30][DEBUG] jax_fem: res l_2 = 4.6382324191387087e-07\n",
      "[01-07 15:51:30][INFO] jax_fem: Solve took 0.7350244522094727 [s]\n",
      "[01-07 15:51:30][DEBUG] jax_fem: max of dofs = 15036.103306849389\n",
      "[01-07 15:51:30][DEBUG] jax_fem: min of dofs = 299.99997099453\n",
      "[01-07 15:51:30][DEBUG] jax_fem: Calling the row elimination solver for imposing Dirichlet B.C.\n",
      "[01-07 15:51:30][DEBUG] jax_fem: Start timing\n",
      "[01-07 15:51:30][DEBUG] jax_fem: Computing cell Jacobian and cell residual...\n",
      "[01-07 15:51:30][DEBUG] jax_fem: Function split_and_compute_cell took 0.0362 seconds\n",
      "[01-07 15:51:30][DEBUG] jax_fem: Creating sparse matrix with scipy...\n",
      "[01-07 15:51:30][DEBUG] jax_fem: Before, res l_2 = 13887.518780973536\n",
      "[01-07 15:51:30][DEBUG] jax_fem: Solving linear system...\n",
      "[01-07 15:51:30][DEBUG] jax_fem: JAX Solver - Solving linear system\n"
     ]
    },
    {
     "name": "stdout",
     "output_type": "stream",
     "text": [
      "\n",
      "Step 148, total step = 500, laser_x = 0.000273, Lx = 0.0005, laser ON = True\n"
     ]
    },
    {
     "name": "stderr",
     "output_type": "stream",
     "text": [
      "[01-07 15:51:31][DEBUG] jax_fem: JAX Solver - Finshed solving, res = 4.6277798139784587e-07\n",
      "[01-07 15:51:31][DEBUG] jax_fem: Computing cell Jacobian and cell residual...\n",
      "[01-07 15:51:31][DEBUG] jax_fem: Function split_and_compute_cell took 0.0573 seconds\n",
      "[01-07 15:51:31][DEBUG] jax_fem: Creating sparse matrix with scipy...\n",
      "[01-07 15:51:31][DEBUG] jax_fem: res l_2 = 4.627779838124748e-07\n",
      "[01-07 15:51:31][INFO] jax_fem: Solve took 0.7412536144256592 [s]\n",
      "[01-07 15:51:31][DEBUG] jax_fem: max of dofs = 15061.636536325674\n",
      "[01-07 15:51:31][DEBUG] jax_fem: min of dofs = 299.99997086356757\n",
      "[01-07 15:51:31][DEBUG] jax_fem: Calling the row elimination solver for imposing Dirichlet B.C.\n",
      "[01-07 15:51:31][DEBUG] jax_fem: Start timing\n",
      "[01-07 15:51:31][DEBUG] jax_fem: Computing cell Jacobian and cell residual...\n",
      "[01-07 15:51:31][DEBUG] jax_fem: Function split_and_compute_cell took 0.0379 seconds\n",
      "[01-07 15:51:31][DEBUG] jax_fem: Creating sparse matrix with scipy...\n",
      "[01-07 15:51:31][DEBUG] jax_fem: Before, res l_2 = 13887.524042478593\n",
      "[01-07 15:51:31][DEBUG] jax_fem: Solving linear system...\n",
      "[01-07 15:51:31][DEBUG] jax_fem: JAX Solver - Solving linear system\n"
     ]
    },
    {
     "name": "stdout",
     "output_type": "stream",
     "text": [
      "\n",
      "Step 149, total step = 500, laser_x = 0.000274, Lx = 0.0005, laser ON = True\n"
     ]
    },
    {
     "name": "stderr",
     "output_type": "stream",
     "text": [
      "[01-07 15:51:31][DEBUG] jax_fem: JAX Solver - Finshed solving, res = 4.620548690591401e-07\n",
      "[01-07 15:51:31][DEBUG] jax_fem: Computing cell Jacobian and cell residual...\n",
      "[01-07 15:51:31][DEBUG] jax_fem: Function split_and_compute_cell took 0.0598 seconds\n",
      "[01-07 15:51:31][DEBUG] jax_fem: Creating sparse matrix with scipy...\n",
      "[01-07 15:51:32][DEBUG] jax_fem: res l_2 = 4.620548783833421e-07\n",
      "[01-07 15:51:32][INFO] jax_fem: Solve took 0.6715352535247803 [s]\n",
      "[01-07 15:51:32][DEBUG] jax_fem: max of dofs = 15075.300142940067\n",
      "[01-07 15:51:32][DEBUG] jax_fem: min of dofs = 299.9999707531258\n",
      "[01-07 15:51:32][DEBUG] jax_fem: Calling the row elimination solver for imposing Dirichlet B.C.\n",
      "[01-07 15:51:32][DEBUG] jax_fem: Start timing\n",
      "[01-07 15:51:32][DEBUG] jax_fem: Computing cell Jacobian and cell residual...\n",
      "[01-07 15:51:32][DEBUG] jax_fem: Function split_and_compute_cell took 0.0664 seconds\n",
      "[01-07 15:51:32][DEBUG] jax_fem: Creating sparse matrix with scipy...\n",
      "[01-07 15:51:32][DEBUG] jax_fem: Before, res l_2 = 13887.529213502672\n",
      "[01-07 15:51:32][DEBUG] jax_fem: Solving linear system...\n"
     ]
    },
    {
     "name": "stdout",
     "output_type": "stream",
     "text": [
      "\n",
      "Step 150, total step = 500, laser_x = 0.00027499999999999996, Lx = 0.0005, laser ON = True\n"
     ]
    },
    {
     "name": "stderr",
     "output_type": "stream",
     "text": [
      "[01-07 15:51:32][DEBUG] jax_fem: JAX Solver - Solving linear system\n",
      "[01-07 15:51:32][DEBUG] jax_fem: JAX Solver - Finshed solving, res = 4.618794924705279e-07\n",
      "[01-07 15:51:32][DEBUG] jax_fem: Computing cell Jacobian and cell residual...\n",
      "[01-07 15:51:32][DEBUG] jax_fem: Function split_and_compute_cell took 0.0310 seconds\n",
      "[01-07 15:51:32][DEBUG] jax_fem: Creating sparse matrix with scipy...\n",
      "[01-07 15:51:32][DEBUG] jax_fem: res l_2 = 4.618794925412415e-07\n",
      "[01-07 15:51:32][INFO] jax_fem: Solve took 0.7554917335510254 [s]\n",
      "[01-07 15:51:32][DEBUG] jax_fem: max of dofs = 15077.41690984329\n",
      "[01-07 15:51:32][DEBUG] jax_fem: min of dofs = 299.99997067025896\n",
      "[01-07 15:51:32][DEBUG] jax_fem: Calling the row elimination solver for imposing Dirichlet B.C.\n",
      "[01-07 15:51:32][DEBUG] jax_fem: Start timing\n",
      "[01-07 15:51:32][DEBUG] jax_fem: Computing cell Jacobian and cell residual...\n",
      "[01-07 15:51:33][DEBUG] jax_fem: Function split_and_compute_cell took 0.2745 seconds\n",
      "[01-07 15:51:33][DEBUG] jax_fem: Creating sparse matrix with scipy...\n",
      "[01-07 15:51:33][DEBUG] jax_fem: Before, res l_2 = 0.1724008905211372\n",
      "[01-07 15:51:33][DEBUG] jax_fem: Solving linear system...\n",
      "[01-07 15:51:33][DEBUG] jax_fem: JAX Solver - Solving linear system\n",
      "[01-07 15:51:35][DEBUG] jax_fem: JAX Solver - Finshed solving, res = 4.729083934843116e-11\n",
      "[01-07 15:51:35][DEBUG] jax_fem: Computing cell Jacobian and cell residual...\n",
      "[01-07 15:51:35][DEBUG] jax_fem: Function split_and_compute_cell took 0.2773 seconds\n",
      "[01-07 15:51:35][DEBUG] jax_fem: Creating sparse matrix with scipy...\n",
      "[01-07 15:51:36][DEBUG] jax_fem: res l_2 = 0.0026816108474154755\n",
      "[01-07 15:51:36][DEBUG] jax_fem: Solving linear system...\n",
      "[01-07 15:51:36][DEBUG] jax_fem: JAX Solver - Solving linear system\n",
      "[01-07 15:51:37][DEBUG] jax_fem: JAX Solver - Finshed solving, res = 9.168714499783859e-11\n",
      "[01-07 15:51:37][DEBUG] jax_fem: Computing cell Jacobian and cell residual...\n",
      "[01-07 15:51:38][DEBUG] jax_fem: Function split_and_compute_cell took 0.2798 seconds\n",
      "[01-07 15:51:38][DEBUG] jax_fem: Creating sparse matrix with scipy...\n",
      "[01-07 15:51:38][DEBUG] jax_fem: res l_2 = 1.2898420099883338e-05\n",
      "[01-07 15:51:38][DEBUG] jax_fem: Solving linear system...\n",
      "[01-07 15:51:38][DEBUG] jax_fem: JAX Solver - Solving linear system\n",
      "[01-07 15:51:39][DEBUG] jax_fem: JAX Solver - Finshed solving, res = 6.896157273961983e-11\n",
      "[01-07 15:51:39][DEBUG] jax_fem: Computing cell Jacobian and cell residual...\n",
      "[01-07 15:51:39][DEBUG] jax_fem: Function split_and_compute_cell took 0.2567 seconds\n",
      "[01-07 15:51:39][DEBUG] jax_fem: Creating sparse matrix with scipy...\n",
      "[01-07 15:51:40][DEBUG] jax_fem: res l_2 = 8.675509240713414e-10\n",
      "[01-07 15:51:40][INFO] jax_fem: Solve took 7.127501726150513 [s]\n",
      "[01-07 15:51:40][DEBUG] jax_fem: max of dofs = 4.1055000297338113e-07\n",
      "[01-07 15:51:40][DEBUG] jax_fem: min of dofs = -3.544210461209315e-07\n",
      "[01-07 15:51:40][DEBUG] jax_fem: Calling the row elimination solver for imposing Dirichlet B.C.\n",
      "[01-07 15:51:40][DEBUG] jax_fem: Start timing\n",
      "[01-07 15:51:40][DEBUG] jax_fem: Computing cell Jacobian and cell residual...\n",
      "[01-07 15:51:40][DEBUG] jax_fem: Function split_and_compute_cell took 0.0397 seconds\n",
      "[01-07 15:51:40][DEBUG] jax_fem: Creating sparse matrix with scipy...\n",
      "[01-07 15:51:40][DEBUG] jax_fem: Before, res l_2 = 13887.534295760497\n",
      "[01-07 15:51:40][DEBUG] jax_fem: Solving linear system...\n",
      "[01-07 15:51:40][DEBUG] jax_fem: JAX Solver - Solving linear system\n"
     ]
    },
    {
     "name": "stdout",
     "output_type": "stream",
     "text": [
      "max f_plus = 93202751.24510896, max stress_xx = 242298051.13185352\n",
      "\n",
      "Step 151, total step = 500, laser_x = 0.000276, Lx = 0.0005, laser ON = True\n"
     ]
    },
    {
     "name": "stderr",
     "output_type": "stream",
     "text": [
      "[01-07 15:51:40][DEBUG] jax_fem: JAX Solver - Finshed solving, res = 4.622666451221019e-07\n",
      "[01-07 15:51:40][DEBUG] jax_fem: Computing cell Jacobian and cell residual...\n",
      "[01-07 15:51:40][DEBUG] jax_fem: Function split_and_compute_cell took 0.0700 seconds\n",
      "[01-07 15:51:40][DEBUG] jax_fem: Creating sparse matrix with scipy...\n",
      "[01-07 15:51:40][DEBUG] jax_fem: res l_2 = 4.6226664875883303e-07\n",
      "[01-07 15:51:40][INFO] jax_fem: Solve took 0.7336034774780273 [s]\n",
      "[01-07 15:51:40][DEBUG] jax_fem: max of dofs = 15068.330956106855\n",
      "[01-07 15:51:40][DEBUG] jax_fem: min of dofs = 299.99997062413854\n",
      "[01-07 15:51:40][DEBUG] jax_fem: Calling the row elimination solver for imposing Dirichlet B.C.\n",
      "[01-07 15:51:40][DEBUG] jax_fem: Start timing\n",
      "[01-07 15:51:40][DEBUG] jax_fem: Computing cell Jacobian and cell residual...\n",
      "[01-07 15:51:40][DEBUG] jax_fem: Function split_and_compute_cell took 0.0301 seconds\n",
      "[01-07 15:51:40][DEBUG] jax_fem: Creating sparse matrix with scipy...\n",
      "[01-07 15:51:41][DEBUG] jax_fem: Before, res l_2 = 13887.539290931443\n",
      "[01-07 15:51:41][DEBUG] jax_fem: Solving linear system...\n",
      "[01-07 15:51:41][DEBUG] jax_fem: JAX Solver - Solving linear system\n"
     ]
    },
    {
     "name": "stdout",
     "output_type": "stream",
     "text": [
      "\n",
      "Step 152, total step = 500, laser_x = 0.000277, Lx = 0.0005, laser ON = True\n"
     ]
    },
    {
     "name": "stderr",
     "output_type": "stream",
     "text": [
      "[01-07 15:51:41][DEBUG] jax_fem: JAX Solver - Finshed solving, res = 4.6301307739713373e-07\n",
      "[01-07 15:51:41][DEBUG] jax_fem: Computing cell Jacobian and cell residual...\n",
      "[01-07 15:51:41][DEBUG] jax_fem: Function split_and_compute_cell took 0.0355 seconds\n",
      "[01-07 15:51:41][DEBUG] jax_fem: Creating sparse matrix with scipy...\n",
      "[01-07 15:51:41][DEBUG] jax_fem: res l_2 = 4.630130857850187e-07\n",
      "[01-07 15:51:41][INFO] jax_fem: Solve took 0.5827438831329346 [s]\n",
      "[01-07 15:51:41][DEBUG] jax_fem: max of dofs = 15048.405070600278\n",
      "[01-07 15:51:41][DEBUG] jax_fem: min of dofs = 299.99997062690136\n",
      "[01-07 15:51:41][DEBUG] jax_fem: Calling the row elimination solver for imposing Dirichlet B.C.\n",
      "[01-07 15:51:41][DEBUG] jax_fem: Start timing\n",
      "[01-07 15:51:41][DEBUG] jax_fem: Computing cell Jacobian and cell residual...\n",
      "[01-07 15:51:41][DEBUG] jax_fem: Function split_and_compute_cell took 0.0413 seconds\n",
      "[01-07 15:51:41][DEBUG] jax_fem: Creating sparse matrix with scipy...\n",
      "[01-07 15:51:41][DEBUG] jax_fem: Before, res l_2 = 13887.54420066029\n",
      "[01-07 15:51:41][DEBUG] jax_fem: Solving linear system...\n",
      "[01-07 15:51:41][DEBUG] jax_fem: JAX Solver - Solving linear system\n"
     ]
    },
    {
     "name": "stdout",
     "output_type": "stream",
     "text": [
      "\n",
      "Step 153, total step = 500, laser_x = 0.00027800000000000004, Lx = 0.0005, laser ON = True\n"
     ]
    },
    {
     "name": "stderr",
     "output_type": "stream",
     "text": [
      "[01-07 15:51:42][DEBUG] jax_fem: JAX Solver - Finshed solving, res = 4.6377793291329163e-07\n",
      "[01-07 15:51:42][DEBUG] jax_fem: Computing cell Jacobian and cell residual...\n",
      "[01-07 15:51:42][DEBUG] jax_fem: Function split_and_compute_cell took 0.0428 seconds\n",
      "[01-07 15:51:42][DEBUG] jax_fem: Creating sparse matrix with scipy...\n",
      "[01-07 15:51:42][DEBUG] jax_fem: res l_2 = 4.637779302457179e-07\n",
      "[01-07 15:51:42][INFO] jax_fem: Solve took 0.6073324680328369 [s]\n",
      "[01-07 15:51:42][DEBUG] jax_fem: max of dofs = 15018.018210821545\n",
      "[01-07 15:51:42][DEBUG] jax_fem: min of dofs = 299.9999706804654\n",
      "[01-07 15:51:42][DEBUG] jax_fem: Calling the row elimination solver for imposing Dirichlet B.C.\n",
      "[01-07 15:51:42][DEBUG] jax_fem: Start timing\n",
      "[01-07 15:51:42][DEBUG] jax_fem: Computing cell Jacobian and cell residual...\n",
      "[01-07 15:51:42][DEBUG] jax_fem: Function split_and_compute_cell took 0.0325 seconds\n",
      "[01-07 15:51:42][DEBUG] jax_fem: Creating sparse matrix with scipy...\n",
      "[01-07 15:51:42][DEBUG] jax_fem: Before, res l_2 = 13887.549026557965\n",
      "[01-07 15:51:42][DEBUG] jax_fem: Solving linear system...\n",
      "[01-07 15:51:42][DEBUG] jax_fem: JAX Solver - Solving linear system\n"
     ]
    },
    {
     "name": "stdout",
     "output_type": "stream",
     "text": [
      "\n",
      "Step 154, total step = 500, laser_x = 0.000279, Lx = 0.0005, laser ON = True\n"
     ]
    },
    {
     "name": "stderr",
     "output_type": "stream",
     "text": [
      "[01-07 15:51:42][DEBUG] jax_fem: JAX Solver - Finshed solving, res = 4.6421659426617655e-07\n",
      "[01-07 15:51:42][DEBUG] jax_fem: Computing cell Jacobian and cell residual...\n",
      "[01-07 15:51:42][DEBUG] jax_fem: Function split_and_compute_cell took 0.0371 seconds\n",
      "[01-07 15:51:42][DEBUG] jax_fem: Creating sparse matrix with scipy...\n",
      "[01-07 15:51:42][DEBUG] jax_fem: res l_2 = 4.642165957361781e-07\n",
      "[01-07 15:51:42][INFO] jax_fem: Solve took 0.6532557010650635 [s]\n",
      "[01-07 15:51:42][DEBUG] jax_fem: max of dofs = 14977.563163773033\n",
      "[01-07 15:51:42][DEBUG] jax_fem: min of dofs = 299.99997068653323\n",
      "[01-07 15:51:42][DEBUG] jax_fem: Calling the row elimination solver for imposing Dirichlet B.C.\n",
      "[01-07 15:51:42][DEBUG] jax_fem: Start timing\n",
      "[01-07 15:51:42][DEBUG] jax_fem: Computing cell Jacobian and cell residual...\n",
      "[01-07 15:51:42][DEBUG] jax_fem: Function split_and_compute_cell took 0.0411 seconds\n",
      "[01-07 15:51:42][DEBUG] jax_fem: Creating sparse matrix with scipy...\n",
      "[01-07 15:51:42][DEBUG] jax_fem: Before, res l_2 = 13887.553770202265\n",
      "[01-07 15:51:42][DEBUG] jax_fem: Solving linear system...\n",
      "[01-07 15:51:42][DEBUG] jax_fem: JAX Solver - Solving linear system\n"
     ]
    },
    {
     "name": "stdout",
     "output_type": "stream",
     "text": [
      "\n",
      "Step 155, total step = 500, laser_x = 0.00028, Lx = 0.0005, laser ON = True\n"
     ]
    },
    {
     "name": "stderr",
     "output_type": "stream",
     "text": [
      "[01-07 15:51:43][DEBUG] jax_fem: JAX Solver - Finshed solving, res = 4.641116936256504e-07\n",
      "[01-07 15:51:43][DEBUG] jax_fem: Computing cell Jacobian and cell residual...\n",
      "[01-07 15:51:43][DEBUG] jax_fem: Function split_and_compute_cell took 0.0483 seconds\n",
      "[01-07 15:51:43][DEBUG] jax_fem: Creating sparse matrix with scipy...\n",
      "[01-07 15:51:43][DEBUG] jax_fem: res l_2 = 4.641116959494718e-07\n",
      "[01-07 15:51:43][INFO] jax_fem: Solve took 0.8784244060516357 [s]\n",
      "[01-07 15:51:43][DEBUG] jax_fem: max of dofs = 14950.061601252804\n",
      "[01-07 15:51:43][DEBUG] jax_fem: min of dofs = 299.9999705433042\n",
      "[01-07 15:51:43][DEBUG] jax_fem: Calling the row elimination solver for imposing Dirichlet B.C.\n",
      "[01-07 15:51:43][DEBUG] jax_fem: Start timing\n",
      "[01-07 15:51:43][DEBUG] jax_fem: Computing cell Jacobian and cell residual...\n",
      "[01-07 15:51:43][DEBUG] jax_fem: Function split_and_compute_cell took 0.0945 seconds\n",
      "[01-07 15:51:43][DEBUG] jax_fem: Creating sparse matrix with scipy...\n",
      "[01-07 15:51:43][DEBUG] jax_fem: Before, res l_2 = 13887.558433138578\n",
      "[01-07 15:51:43][DEBUG] jax_fem: Solving linear system...\n",
      "[01-07 15:51:43][DEBUG] jax_fem: JAX Solver - Solving linear system\n"
     ]
    },
    {
     "name": "stdout",
     "output_type": "stream",
     "text": [
      "\n",
      "Step 156, total step = 500, laser_x = 0.000281, Lx = 0.0005, laser ON = True\n"
     ]
    },
    {
     "name": "stderr",
     "output_type": "stream",
     "text": [
      "[01-07 15:51:44][DEBUG] jax_fem: JAX Solver - Finshed solving, res = 4.6345245413953316e-07\n",
      "[01-07 15:51:44][DEBUG] jax_fem: Computing cell Jacobian and cell residual...\n",
      "[01-07 15:51:44][DEBUG] jax_fem: Function split_and_compute_cell took 0.0567 seconds\n",
      "[01-07 15:51:44][DEBUG] jax_fem: Creating sparse matrix with scipy...\n",
      "[01-07 15:51:44][DEBUG] jax_fem: res l_2 = 4.634524566619843e-07\n",
      "[01-07 15:51:44][INFO] jax_fem: Solve took 0.829463005065918 [s]\n",
      "[01-07 15:51:44][DEBUG] jax_fem: max of dofs = 15000.167639503365\n",
      "[01-07 15:51:44][DEBUG] jax_fem: min of dofs = 299.9999704061481\n",
      "[01-07 15:51:44][DEBUG] jax_fem: Calling the row elimination solver for imposing Dirichlet B.C.\n",
      "[01-07 15:51:44][DEBUG] jax_fem: Start timing\n",
      "[01-07 15:51:44][DEBUG] jax_fem: Computing cell Jacobian and cell residual...\n",
      "[01-07 15:51:44][DEBUG] jax_fem: Function split_and_compute_cell took 0.0369 seconds\n",
      "[01-07 15:51:44][DEBUG] jax_fem: Creating sparse matrix with scipy...\n",
      "[01-07 15:51:44][DEBUG] jax_fem: Before, res l_2 = 13887.563016880582\n",
      "[01-07 15:51:44][DEBUG] jax_fem: Solving linear system...\n",
      "[01-07 15:51:44][DEBUG] jax_fem: JAX Solver - Solving linear system\n"
     ]
    },
    {
     "name": "stdout",
     "output_type": "stream",
     "text": [
      "\n",
      "Step 157, total step = 500, laser_x = 0.000282, Lx = 0.0005, laser ON = True\n"
     ]
    },
    {
     "name": "stderr",
     "output_type": "stream",
     "text": [
      "[01-07 15:51:45][DEBUG] jax_fem: JAX Solver - Finshed solving, res = 4.6243716330508484e-07\n",
      "[01-07 15:51:45][DEBUG] jax_fem: Computing cell Jacobian and cell residual...\n",
      "[01-07 15:51:45][DEBUG] jax_fem: Function split_and_compute_cell took 0.1443 seconds\n",
      "[01-07 15:51:45][DEBUG] jax_fem: Creating sparse matrix with scipy...\n",
      "[01-07 15:51:45][DEBUG] jax_fem: res l_2 = 4.624371606852961e-07\n",
      "[01-07 15:51:45][INFO] jax_fem: Solve took 0.958888053894043 [s]\n",
      "[01-07 15:51:45][DEBUG] jax_fem: max of dofs = 15037.835874978868\n",
      "[01-07 15:51:45][DEBUG] jax_fem: min of dofs = 299.999970278954\n",
      "[01-07 15:51:45][DEBUG] jax_fem: Calling the row elimination solver for imposing Dirichlet B.C.\n",
      "[01-07 15:51:45][DEBUG] jax_fem: Start timing\n",
      "[01-07 15:51:45][DEBUG] jax_fem: Computing cell Jacobian and cell residual...\n",
      "[01-07 15:51:45][DEBUG] jax_fem: Function split_and_compute_cell took 0.0773 seconds\n",
      "[01-07 15:51:45][DEBUG] jax_fem: Creating sparse matrix with scipy...\n"
     ]
    },
    {
     "name": "stdout",
     "output_type": "stream",
     "text": [
      "\n",
      "Step 158, total step = 500, laser_x = 0.000283, Lx = 0.0005, laser ON = True\n"
     ]
    },
    {
     "name": "stderr",
     "output_type": "stream",
     "text": [
      "[01-07 15:51:45][DEBUG] jax_fem: Before, res l_2 = 13887.567522910917\n",
      "[01-07 15:51:45][DEBUG] jax_fem: Solving linear system...\n",
      "[01-07 15:51:45][DEBUG] jax_fem: JAX Solver - Solving linear system\n",
      "[01-07 15:51:46][DEBUG] jax_fem: JAX Solver - Finshed solving, res = 4.6140013592699535e-07\n",
      "[01-07 15:51:46][DEBUG] jax_fem: Computing cell Jacobian and cell residual...\n",
      "[01-07 15:51:46][DEBUG] jax_fem: Function split_and_compute_cell took 0.0601 seconds\n",
      "[01-07 15:51:46][DEBUG] jax_fem: Creating sparse matrix with scipy...\n",
      "[01-07 15:51:46][DEBUG] jax_fem: res l_2 = 4.6140013841222326e-07\n",
      "[01-07 15:51:46][INFO] jax_fem: Solve took 1.000370979309082 [s]\n",
      "[01-07 15:51:46][DEBUG] jax_fem: max of dofs = 15063.337797203312\n",
      "[01-07 15:51:46][DEBUG] jax_fem: min of dofs = 299.9999701663659\n",
      "[01-07 15:51:46][DEBUG] jax_fem: Calling the row elimination solver for imposing Dirichlet B.C.\n",
      "[01-07 15:51:46][DEBUG] jax_fem: Start timing\n",
      "[01-07 15:51:46][DEBUG] jax_fem: Computing cell Jacobian and cell residual...\n",
      "[01-07 15:51:46][DEBUG] jax_fem: Function split_and_compute_cell took 0.0734 seconds\n",
      "[01-07 15:51:46][DEBUG] jax_fem: Creating sparse matrix with scipy...\n",
      "[01-07 15:51:46][DEBUG] jax_fem: Before, res l_2 = 13887.571952681872\n"
     ]
    },
    {
     "name": "stdout",
     "output_type": "stream",
     "text": [
      "\n",
      "Step 159, total step = 500, laser_x = 0.00028399999999999996, Lx = 0.0005, laser ON = True\n"
     ]
    },
    {
     "name": "stderr",
     "output_type": "stream",
     "text": [
      "[01-07 15:51:46][DEBUG] jax_fem: Solving linear system...\n",
      "[01-07 15:51:46][DEBUG] jax_fem: JAX Solver - Solving linear system\n",
      "[01-07 15:51:47][DEBUG] jax_fem: JAX Solver - Finshed solving, res = 4.606873397983008e-07\n",
      "[01-07 15:51:47][DEBUG] jax_fem: Computing cell Jacobian and cell residual...\n",
      "[01-07 15:51:47][DEBUG] jax_fem: Function split_and_compute_cell took 0.0433 seconds\n",
      "[01-07 15:51:47][DEBUG] jax_fem: Creating sparse matrix with scipy...\n",
      "[01-07 15:51:47][DEBUG] jax_fem: res l_2 = 4.6068733601506586e-07\n",
      "[01-07 15:51:47][INFO] jax_fem: Solve took 0.8502457141876221 [s]\n",
      "[01-07 15:51:47][DEBUG] jax_fem: max of dofs = 15076.972034628552\n",
      "[01-07 15:51:47][DEBUG] jax_fem: min of dofs = 299.9999700740163\n",
      "[01-07 15:51:47][DEBUG] jax_fem: Calling the row elimination solver for imposing Dirichlet B.C.\n",
      "[01-07 15:51:47][DEBUG] jax_fem: Start timing\n",
      "[01-07 15:51:47][DEBUG] jax_fem: Computing cell Jacobian and cell residual...\n",
      "[01-07 15:51:47][DEBUG] jax_fem: Function split_and_compute_cell took 0.0447 seconds\n",
      "[01-07 15:51:47][DEBUG] jax_fem: Creating sparse matrix with scipy...\n",
      "[01-07 15:51:47][DEBUG] jax_fem: Before, res l_2 = 13887.576307616035\n",
      "[01-07 15:51:47][DEBUG] jax_fem: Solving linear system...\n",
      "[01-07 15:51:47][DEBUG] jax_fem: JAX Solver - Solving linear system\n"
     ]
    },
    {
     "name": "stdout",
     "output_type": "stream",
     "text": [
      "\n",
      "Step 160, total step = 500, laser_x = 0.000285, Lx = 0.0005, laser ON = True\n"
     ]
    },
    {
     "name": "stderr",
     "output_type": "stream",
     "text": [
      "[01-07 15:51:48][DEBUG] jax_fem: JAX Solver - Finshed solving, res = 4.605234911654899e-07\n",
      "[01-07 15:51:48][DEBUG] jax_fem: Computing cell Jacobian and cell residual...\n",
      "[01-07 15:51:48][DEBUG] jax_fem: Function split_and_compute_cell took 0.1040 seconds\n",
      "[01-07 15:51:48][DEBUG] jax_fem: Creating sparse matrix with scipy...\n",
      "[01-07 15:51:48][DEBUG] jax_fem: res l_2 = 4.605234939347347e-07\n",
      "[01-07 15:51:48][INFO] jax_fem: Solve took 0.9712221622467041 [s]\n",
      "[01-07 15:51:48][DEBUG] jax_fem: max of dofs = 15079.061369862235\n",
      "[01-07 15:51:48][DEBUG] jax_fem: min of dofs = 299.99997000898117\n",
      "[01-07 15:51:48][DEBUG] jax_fem: Calling the row elimination solver for imposing Dirichlet B.C.\n",
      "[01-07 15:51:48][DEBUG] jax_fem: Start timing\n",
      "[01-07 15:51:48][DEBUG] jax_fem: Computing cell Jacobian and cell residual...\n",
      "[01-07 15:51:49][DEBUG] jax_fem: Function split_and_compute_cell took 0.2729 seconds\n",
      "[01-07 15:51:49][DEBUG] jax_fem: Creating sparse matrix with scipy...\n",
      "[01-07 15:51:49][DEBUG] jax_fem: Before, res l_2 = 0.18690012616161264\n",
      "[01-07 15:51:49][DEBUG] jax_fem: Solving linear system...\n",
      "[01-07 15:51:49][DEBUG] jax_fem: JAX Solver - Solving linear system\n",
      "[01-07 15:51:50][DEBUG] jax_fem: JAX Solver - Finshed solving, res = 8.358974500557435e-11\n",
      "[01-07 15:51:50][DEBUG] jax_fem: Computing cell Jacobian and cell residual...\n",
      "[01-07 15:51:51][DEBUG] jax_fem: Function split_and_compute_cell took 0.2509 seconds\n",
      "[01-07 15:51:51][DEBUG] jax_fem: Creating sparse matrix with scipy...\n",
      "[01-07 15:51:51][DEBUG] jax_fem: res l_2 = 0.004314956345635238\n",
      "[01-07 15:51:51][DEBUG] jax_fem: Solving linear system...\n",
      "[01-07 15:51:51][DEBUG] jax_fem: JAX Solver - Solving linear system\n",
      "[01-07 15:51:53][DEBUG] jax_fem: JAX Solver - Finshed solving, res = 8.559060033233755e-11\n",
      "[01-07 15:51:53][DEBUG] jax_fem: Computing cell Jacobian and cell residual...\n",
      "[01-07 15:51:53][DEBUG] jax_fem: Function split_and_compute_cell took 0.3309 seconds\n",
      "[01-07 15:51:53][DEBUG] jax_fem: Creating sparse matrix with scipy...\n",
      "[01-07 15:51:53][DEBUG] jax_fem: res l_2 = 3.3504345517952916e-05\n",
      "[01-07 15:51:53][DEBUG] jax_fem: Solving linear system...\n",
      "[01-07 15:51:53][DEBUG] jax_fem: JAX Solver - Solving linear system\n",
      "[01-07 15:51:55][DEBUG] jax_fem: JAX Solver - Finshed solving, res = 9.809922002497911e-11\n",
      "[01-07 15:51:55][DEBUG] jax_fem: Computing cell Jacobian and cell residual...\n",
      "[01-07 15:51:55][DEBUG] jax_fem: Function split_and_compute_cell took 0.2550 seconds\n",
      "[01-07 15:51:55][DEBUG] jax_fem: Creating sparse matrix with scipy...\n",
      "[01-07 15:51:55][DEBUG] jax_fem: res l_2 = 4.202016887822892e-09\n",
      "[01-07 15:51:55][INFO] jax_fem: Solve took 6.868626594543457 [s]\n",
      "[01-07 15:51:55][DEBUG] jax_fem: max of dofs = 4.826815062348975e-07\n",
      "[01-07 15:51:55][DEBUG] jax_fem: min of dofs = -4.0308973411856294e-07\n",
      "[01-07 15:51:55][DEBUG] jax_fem: Calling the row elimination solver for imposing Dirichlet B.C.\n",
      "[01-07 15:51:55][DEBUG] jax_fem: Start timing\n",
      "[01-07 15:51:55][DEBUG] jax_fem: Computing cell Jacobian and cell residual...\n",
      "[01-07 15:51:55][DEBUG] jax_fem: Function split_and_compute_cell took 0.0477 seconds\n",
      "[01-07 15:51:55][DEBUG] jax_fem: Creating sparse matrix with scipy...\n",
      "[01-07 15:51:55][DEBUG] jax_fem: Before, res l_2 = 13887.580589106941\n",
      "[01-07 15:51:55][DEBUG] jax_fem: Solving linear system...\n",
      "[01-07 15:51:55][DEBUG] jax_fem: JAX Solver - Solving linear system\n"
     ]
    },
    {
     "name": "stdout",
     "output_type": "stream",
     "text": [
      "max f_plus = 114487771.22741586, max stress_xx = 255529371.45016795\n",
      "\n",
      "Step 161, total step = 500, laser_x = 0.000286, Lx = 0.0005, laser ON = True\n"
     ]
    },
    {
     "name": "stderr",
     "output_type": "stream",
     "text": [
      "[01-07 15:51:56][DEBUG] jax_fem: JAX Solver - Finshed solving, res = 4.609224177742142e-07\n",
      "[01-07 15:51:56][DEBUG] jax_fem: Computing cell Jacobian and cell residual...\n",
      "[01-07 15:51:56][DEBUG] jax_fem: Function split_and_compute_cell took 0.0706 seconds\n",
      "[01-07 15:51:56][DEBUG] jax_fem: Creating sparse matrix with scipy...\n",
      "[01-07 15:51:56][DEBUG] jax_fem: res l_2 = 4.609224131677679e-07\n",
      "[01-07 15:51:56][INFO] jax_fem: Solve took 0.7831213474273682 [s]\n",
      "[01-07 15:51:56][DEBUG] jax_fem: max of dofs = 15069.949911423391\n",
      "[01-07 15:51:56][DEBUG] jax_fem: min of dofs = 299.9999699804585\n",
      "[01-07 15:51:56][DEBUG] jax_fem: Calling the row elimination solver for imposing Dirichlet B.C.\n",
      "[01-07 15:51:56][DEBUG] jax_fem: Start timing\n",
      "[01-07 15:51:56][DEBUG] jax_fem: Computing cell Jacobian and cell residual...\n",
      "[01-07 15:51:56][DEBUG] jax_fem: Function split_and_compute_cell took 0.0321 seconds\n",
      "[01-07 15:51:56][DEBUG] jax_fem: Creating sparse matrix with scipy...\n",
      "[01-07 15:51:56][DEBUG] jax_fem: Before, res l_2 = 13887.584798519707\n",
      "[01-07 15:51:56][DEBUG] jax_fem: Solving linear system...\n",
      "[01-07 15:51:56][DEBUG] jax_fem: JAX Solver - Solving linear system\n"
     ]
    },
    {
     "name": "stdout",
     "output_type": "stream",
     "text": [
      "\n",
      "Step 162, total step = 500, laser_x = 0.000287, Lx = 0.0005, laser ON = True\n"
     ]
    },
    {
     "name": "stderr",
     "output_type": "stream",
     "text": [
      "[01-07 15:51:56][DEBUG] jax_fem: JAX Solver - Finshed solving, res = 4.6168004202187307e-07\n",
      "[01-07 15:51:56][DEBUG] jax_fem: Computing cell Jacobian and cell residual...\n",
      "[01-07 15:51:56][DEBUG] jax_fem: Function split_and_compute_cell took 0.0362 seconds\n",
      "[01-07 15:51:57][DEBUG] jax_fem: Creating sparse matrix with scipy...\n",
      "[01-07 15:51:57][DEBUG] jax_fem: res l_2 = 4.6168003631282373e-07\n",
      "[01-07 15:51:57][INFO] jax_fem: Solve took 0.5414993762969971 [s]\n",
      "[01-07 15:51:57][DEBUG] jax_fem: max of dofs = 15050.000428885562\n",
      "[01-07 15:51:57][DEBUG] jax_fem: min of dofs = 299.9999700006125\n",
      "[01-07 15:51:57][DEBUG] jax_fem: Calling the row elimination solver for imposing Dirichlet B.C.\n",
      "[01-07 15:51:57][DEBUG] jax_fem: Start timing\n",
      "[01-07 15:51:57][DEBUG] jax_fem: Computing cell Jacobian and cell residual...\n",
      "[01-07 15:51:57][DEBUG] jax_fem: Function split_and_compute_cell took 0.0337 seconds\n",
      "[01-07 15:51:57][DEBUG] jax_fem: Creating sparse matrix with scipy...\n",
      "[01-07 15:51:57][DEBUG] jax_fem: Before, res l_2 = 13887.588937191647\n",
      "[01-07 15:51:57][DEBUG] jax_fem: Solving linear system...\n",
      "[01-07 15:51:57][DEBUG] jax_fem: JAX Solver - Solving linear system\n"
     ]
    },
    {
     "name": "stdout",
     "output_type": "stream",
     "text": [
      "\n",
      "Step 163, total step = 500, laser_x = 0.000288, Lx = 0.0005, laser ON = True\n"
     ]
    },
    {
     "name": "stderr",
     "output_type": "stream",
     "text": [
      "[01-07 15:51:57][DEBUG] jax_fem: JAX Solver - Finshed solving, res = 4.624552416145827e-07\n",
      "[01-07 15:51:57][DEBUG] jax_fem: Computing cell Jacobian and cell residual...\n",
      "[01-07 15:51:57][DEBUG] jax_fem: Function split_and_compute_cell took 0.0979 seconds\n",
      "[01-07 15:51:57][DEBUG] jax_fem: Creating sparse matrix with scipy...\n",
      "[01-07 15:51:57][DEBUG] jax_fem: res l_2 = 4.624552372011824e-07\n",
      "[01-07 15:51:57][INFO] jax_fem: Solve took 0.6937243938446045 [s]\n",
      "[01-07 15:51:57][DEBUG] jax_fem: max of dofs = 15019.591852891814\n",
      "[01-07 15:51:57][DEBUG] jax_fem: min of dofs = 299.9999700716248\n",
      "[01-07 15:51:57][DEBUG] jax_fem: Calling the row elimination solver for imposing Dirichlet B.C.\n",
      "[01-07 15:51:57][DEBUG] jax_fem: Start timing\n",
      "[01-07 15:51:57][DEBUG] jax_fem: Computing cell Jacobian and cell residual...\n",
      "[01-07 15:51:57][DEBUG] jax_fem: Function split_and_compute_cell took 0.0354 seconds\n",
      "[01-07 15:51:57][DEBUG] jax_fem: Creating sparse matrix with scipy...\n",
      "[01-07 15:51:57][DEBUG] jax_fem: Before, res l_2 = 13887.593006432877\n",
      "[01-07 15:51:57][DEBUG] jax_fem: Solving linear system...\n",
      "[01-07 15:51:57][DEBUG] jax_fem: JAX Solver - Solving linear system\n"
     ]
    },
    {
     "name": "stdout",
     "output_type": "stream",
     "text": [
      "\n",
      "Step 164, total step = 500, laser_x = 0.000289, Lx = 0.0005, laser ON = True\n"
     ]
    },
    {
     "name": "stderr",
     "output_type": "stream",
     "text": [
      "[01-07 15:51:58][DEBUG] jax_fem: JAX Solver - Finshed solving, res = 4.6290367910975186e-07\n",
      "[01-07 15:51:58][DEBUG] jax_fem: Computing cell Jacobian and cell residual...\n",
      "[01-07 15:51:58][DEBUG] jax_fem: Function split_and_compute_cell took 0.0393 seconds\n",
      "[01-07 15:51:58][DEBUG] jax_fem: Creating sparse matrix with scipy...\n",
      "[01-07 15:51:58][DEBUG] jax_fem: res l_2 = 4.6290367592020054e-07\n",
      "[01-07 15:51:58][INFO] jax_fem: Solve took 0.6492745876312256 [s]\n",
      "[01-07 15:51:58][DEBUG] jax_fem: max of dofs = 14979.11693712376\n",
      "[01-07 15:51:58][DEBUG] jax_fem: min of dofs = 299.99997009265854\n",
      "[01-07 15:51:58][DEBUG] jax_fem: Calling the row elimination solver for imposing Dirichlet B.C.\n",
      "[01-07 15:51:58][DEBUG] jax_fem: Start timing\n",
      "[01-07 15:51:58][DEBUG] jax_fem: Computing cell Jacobian and cell residual...\n",
      "[01-07 15:51:58][DEBUG] jax_fem: Function split_and_compute_cell took 0.0975 seconds\n",
      "[01-07 15:51:58][DEBUG] jax_fem: Creating sparse matrix with scipy...\n"
     ]
    },
    {
     "name": "stdout",
     "output_type": "stream",
     "text": [
      "\n",
      "Step 165, total step = 500, laser_x = 0.00029, Lx = 0.0005, laser ON = True\n"
     ]
    },
    {
     "name": "stderr",
     "output_type": "stream",
     "text": [
      "[01-07 15:51:58][DEBUG] jax_fem: Before, res l_2 = 13887.597007526907\n",
      "[01-07 15:51:58][DEBUG] jax_fem: Solving linear system...\n",
      "[01-07 15:51:58][DEBUG] jax_fem: JAX Solver - Solving linear system\n",
      "[01-07 15:51:59][DEBUG] jax_fem: JAX Solver - Finshed solving, res = 4.62808678193844e-07\n",
      "[01-07 15:51:59][DEBUG] jax_fem: Computing cell Jacobian and cell residual...\n",
      "[01-07 15:51:59][DEBUG] jax_fem: Function split_and_compute_cell took 0.0329 seconds\n",
      "[01-07 15:51:59][DEBUG] jax_fem: Creating sparse matrix with scipy...\n",
      "[01-07 15:51:59][DEBUG] jax_fem: res l_2 = 4.6280867170753916e-07\n",
      "[01-07 15:51:59][INFO] jax_fem: Solve took 0.6883673667907715 [s]\n",
      "[01-07 15:51:59][DEBUG] jax_fem: max of dofs = 14951.09077798322\n",
      "[01-07 15:51:59][DEBUG] jax_fem: min of dofs = 299.9999699652912\n",
      "[01-07 15:51:59][DEBUG] jax_fem: Calling the row elimination solver for imposing Dirichlet B.C.\n",
      "[01-07 15:51:59][DEBUG] jax_fem: Start timing\n",
      "[01-07 15:51:59][DEBUG] jax_fem: Computing cell Jacobian and cell residual...\n",
      "[01-07 15:51:59][DEBUG] jax_fem: Function split_and_compute_cell took 0.0324 seconds\n",
      "[01-07 15:51:59][DEBUG] jax_fem: Creating sparse matrix with scipy...\n",
      "[01-07 15:51:59][DEBUG] jax_fem: Before, res l_2 = 13887.600941731225\n",
      "[01-07 15:51:59][DEBUG] jax_fem: Solving linear system...\n",
      "[01-07 15:51:59][DEBUG] jax_fem: JAX Solver - Solving linear system\n"
     ]
    },
    {
     "name": "stdout",
     "output_type": "stream",
     "text": [
      "\n",
      "Step 166, total step = 500, laser_x = 0.000291, Lx = 0.0005, laser ON = True\n"
     ]
    },
    {
     "name": "stderr",
     "output_type": "stream",
     "text": [
      "[01-07 15:51:59][DEBUG] jax_fem: JAX Solver - Finshed solving, res = 4.621602346500141e-07\n",
      "[01-07 15:51:59][DEBUG] jax_fem: Computing cell Jacobian and cell residual...\n",
      "[01-07 15:51:59][DEBUG] jax_fem: Function split_and_compute_cell took 0.0682 seconds\n",
      "[01-07 15:51:59][DEBUG] jax_fem: Creating sparse matrix with scipy...\n",
      "[01-07 15:51:59][DEBUG] jax_fem: res l_2 = 4.621602358550225e-07\n",
      "[01-07 15:51:59][INFO] jax_fem: Solve took 0.6583840847015381 [s]\n",
      "[01-07 15:51:59][DEBUG] jax_fem: max of dofs = 15001.177556986688\n",
      "[01-07 15:51:59][DEBUG] jax_fem: min of dofs = 299.99996984369517\n",
      "[01-07 15:51:59][DEBUG] jax_fem: Calling the row elimination solver for imposing Dirichlet B.C.\n",
      "[01-07 15:51:59][DEBUG] jax_fem: Start timing\n",
      "[01-07 15:51:59][DEBUG] jax_fem: Computing cell Jacobian and cell residual...\n",
      "[01-07 15:51:59][DEBUG] jax_fem: Function split_and_compute_cell took 0.0311 seconds\n",
      "[01-07 15:51:59][DEBUG] jax_fem: Creating sparse matrix with scipy...\n",
      "[01-07 15:51:59][DEBUG] jax_fem: Before, res l_2 = 13887.604810277853\n",
      "[01-07 15:51:59][DEBUG] jax_fem: Solving linear system...\n",
      "[01-07 15:51:59][DEBUG] jax_fem: JAX Solver - Solving linear system\n"
     ]
    },
    {
     "name": "stdout",
     "output_type": "stream",
     "text": [
      "\n",
      "Step 167, total step = 500, laser_x = 0.000292, Lx = 0.0005, laser ON = True\n"
     ]
    },
    {
     "name": "stderr",
     "output_type": "stream",
     "text": [
      "[01-07 15:52:00][DEBUG] jax_fem: JAX Solver - Finshed solving, res = 4.611572177330447e-07\n",
      "[01-07 15:52:00][DEBUG] jax_fem: Computing cell Jacobian and cell residual...\n",
      "[01-07 15:52:00][DEBUG] jax_fem: Function split_and_compute_cell took 0.0407 seconds\n",
      "[01-07 15:52:00][DEBUG] jax_fem: Creating sparse matrix with scipy...\n",
      "[01-07 15:52:00][DEBUG] jax_fem: res l_2 = 4.61157215202635e-07\n",
      "[01-07 15:52:00][INFO] jax_fem: Solve took 0.6111202239990234 [s]\n",
      "[01-07 15:52:00][DEBUG] jax_fem: max of dofs = 15038.827605740142\n",
      "[01-07 15:52:00][DEBUG] jax_fem: min of dofs = 299.9999697317585\n",
      "[01-07 15:52:00][DEBUG] jax_fem: Calling the row elimination solver for imposing Dirichlet B.C.\n",
      "[01-07 15:52:00][DEBUG] jax_fem: Start timing\n",
      "[01-07 15:52:00][DEBUG] jax_fem: Computing cell Jacobian and cell residual...\n",
      "[01-07 15:52:00][DEBUG] jax_fem: Function split_and_compute_cell took 0.0330 seconds\n",
      "[01-07 15:52:00][DEBUG] jax_fem: Creating sparse matrix with scipy...\n",
      "[01-07 15:52:00][DEBUG] jax_fem: Before, res l_2 = 13887.608614373912\n",
      "[01-07 15:52:00][DEBUG] jax_fem: Solving linear system...\n",
      "[01-07 15:52:00][DEBUG] jax_fem: JAX Solver - Solving linear system\n"
     ]
    },
    {
     "name": "stdout",
     "output_type": "stream",
     "text": [
      "\n",
      "Step 168, total step = 500, laser_x = 0.00029299999999999997, Lx = 0.0005, laser ON = True\n"
     ]
    },
    {
     "name": "stderr",
     "output_type": "stream",
     "text": [
      "[01-07 15:52:00][DEBUG] jax_fem: JAX Solver - Finshed solving, res = 4.6013407163296943e-07\n",
      "[01-07 15:52:00][DEBUG] jax_fem: Computing cell Jacobian and cell residual...\n",
      "[01-07 15:52:00][DEBUG] jax_fem: Function split_and_compute_cell took 0.0484 seconds\n",
      "[01-07 15:52:00][DEBUG] jax_fem: Creating sparse matrix with scipy...\n",
      "[01-07 15:52:01][DEBUG] jax_fem: res l_2 = 4.601340656656746e-07\n",
      "[01-07 15:52:01][INFO] jax_fem: Solve took 0.5672717094421387 [s]\n",
      "[01-07 15:52:01][DEBUG] jax_fem: max of dofs = 15064.312429334399\n",
      "[01-07 15:52:01][DEBUG] jax_fem: min of dofs = 299.99996963412906\n",
      "[01-07 15:52:01][DEBUG] jax_fem: Calling the row elimination solver for imposing Dirichlet B.C.\n",
      "[01-07 15:52:01][DEBUG] jax_fem: Start timing\n",
      "[01-07 15:52:01][DEBUG] jax_fem: Computing cell Jacobian and cell residual...\n",
      "[01-07 15:52:01][DEBUG] jax_fem: Function split_and_compute_cell took 0.0375 seconds\n",
      "[01-07 15:52:01][DEBUG] jax_fem: Creating sparse matrix with scipy...\n",
      "[01-07 15:52:01][DEBUG] jax_fem: Before, res l_2 = 13887.612355202158\n",
      "[01-07 15:52:01][DEBUG] jax_fem: Solving linear system...\n",
      "[01-07 15:52:01][DEBUG] jax_fem: JAX Solver - Solving linear system\n"
     ]
    },
    {
     "name": "stdout",
     "output_type": "stream",
     "text": [
      "\n",
      "Step 169, total step = 500, laser_x = 0.000294, Lx = 0.0005, laser ON = True\n"
     ]
    },
    {
     "name": "stderr",
     "output_type": "stream",
     "text": [
      "[01-07 15:52:01][DEBUG] jax_fem: JAX Solver - Finshed solving, res = 4.5943640795646185e-07\n",
      "[01-07 15:52:01][DEBUG] jax_fem: Computing cell Jacobian and cell residual...\n",
      "[01-07 15:52:01][DEBUG] jax_fem: Function split_and_compute_cell took 0.0559 seconds\n",
      "[01-07 15:52:01][DEBUG] jax_fem: Creating sparse matrix with scipy...\n",
      "[01-07 15:52:01][DEBUG] jax_fem: res l_2 = 4.5943641053549316e-07\n",
      "[01-07 15:52:01][INFO] jax_fem: Solve took 0.6956913471221924 [s]\n",
      "[01-07 15:52:01][DEBUG] jax_fem: max of dofs = 15077.930664572588\n",
      "[01-07 15:52:01][DEBUG] jax_fem: min of dofs = 299.99996955644775\n",
      "[01-07 15:52:01][DEBUG] jax_fem: Calling the row elimination solver for imposing Dirichlet B.C.\n",
      "[01-07 15:52:01][DEBUG] jax_fem: Start timing\n",
      "[01-07 15:52:01][DEBUG] jax_fem: Computing cell Jacobian and cell residual...\n",
      "[01-07 15:52:01][DEBUG] jax_fem: Function split_and_compute_cell took 0.0501 seconds\n",
      "[01-07 15:52:01][DEBUG] jax_fem: Creating sparse matrix with scipy...\n",
      "[01-07 15:52:01][DEBUG] jax_fem: Before, res l_2 = 13887.616033921513\n",
      "[01-07 15:52:01][DEBUG] jax_fem: Solving linear system...\n",
      "[01-07 15:52:01][DEBUG] jax_fem: JAX Solver - Solving linear system\n"
     ]
    },
    {
     "name": "stdout",
     "output_type": "stream",
     "text": [
      "\n",
      "Step 170, total step = 500, laser_x = 0.000295, Lx = 0.0005, laser ON = True\n"
     ]
    },
    {
     "name": "stderr",
     "output_type": "stream",
     "text": [
      "[01-07 15:52:02][DEBUG] jax_fem: JAX Solver - Finshed solving, res = 4.5928825171235787e-07\n",
      "[01-07 15:52:02][DEBUG] jax_fem: Computing cell Jacobian and cell residual...\n",
      "[01-07 15:52:02][DEBUG] jax_fem: Function split_and_compute_cell took 0.0372 seconds\n",
      "[01-07 15:52:02][DEBUG] jax_fem: Creating sparse matrix with scipy...\n",
      "[01-07 15:52:02][DEBUG] jax_fem: res l_2 = 4.5928825736885835e-07\n",
      "[01-07 15:52:02][INFO] jax_fem: Solve took 0.7105443477630615 [s]\n",
      "[01-07 15:52:02][DEBUG] jax_fem: max of dofs = 15080.005095965322\n",
      "[01-07 15:52:02][DEBUG] jax_fem: min of dofs = 299.9999695058043\n",
      "[01-07 15:52:02][DEBUG] jax_fem: Calling the row elimination solver for imposing Dirichlet B.C.\n",
      "[01-07 15:52:02][DEBUG] jax_fem: Start timing\n",
      "[01-07 15:52:02][DEBUG] jax_fem: Computing cell Jacobian and cell residual...\n",
      "[01-07 15:52:02][DEBUG] jax_fem: Function split_and_compute_cell took 0.2696 seconds\n",
      "[01-07 15:52:02][DEBUG] jax_fem: Creating sparse matrix with scipy...\n",
      "[01-07 15:52:03][DEBUG] jax_fem: Before, res l_2 = 0.19809496168884372\n",
      "[01-07 15:52:03][DEBUG] jax_fem: Solving linear system...\n",
      "[01-07 15:52:03][DEBUG] jax_fem: JAX Solver - Solving linear system\n",
      "[01-07 15:52:04][DEBUG] jax_fem: JAX Solver - Finshed solving, res = 8.616373054710594e-11\n",
      "[01-07 15:52:04][DEBUG] jax_fem: Computing cell Jacobian and cell residual...\n",
      "[01-07 15:52:05][DEBUG] jax_fem: Function split_and_compute_cell took 0.2687 seconds\n",
      "[01-07 15:52:05][DEBUG] jax_fem: Creating sparse matrix with scipy...\n",
      "[01-07 15:52:05][DEBUG] jax_fem: res l_2 = 0.005068930678285036\n",
      "[01-07 15:52:05][DEBUG] jax_fem: Solving linear system...\n",
      "[01-07 15:52:05][DEBUG] jax_fem: JAX Solver - Solving linear system\n",
      "[01-07 15:52:07][DEBUG] jax_fem: JAX Solver - Finshed solving, res = 7.317748732173066e-11\n",
      "[01-07 15:52:07][DEBUG] jax_fem: Computing cell Jacobian and cell residual...\n",
      "[01-07 15:52:07][DEBUG] jax_fem: Function split_and_compute_cell took 0.2491 seconds\n",
      "[01-07 15:52:07][DEBUG] jax_fem: Creating sparse matrix with scipy...\n",
      "[01-07 15:52:07][DEBUG] jax_fem: res l_2 = 5.746264378758107e-05\n",
      "[01-07 15:52:07][DEBUG] jax_fem: Solving linear system...\n",
      "[01-07 15:52:07][DEBUG] jax_fem: JAX Solver - Solving linear system\n",
      "[01-07 15:52:09][DEBUG] jax_fem: JAX Solver - Finshed solving, res = 9.991679428664331e-11\n",
      "[01-07 15:52:09][DEBUG] jax_fem: Computing cell Jacobian and cell residual...\n",
      "[01-07 15:52:09][DEBUG] jax_fem: Function split_and_compute_cell took 0.2458 seconds\n",
      "[01-07 15:52:09][DEBUG] jax_fem: Creating sparse matrix with scipy...\n",
      "[01-07 15:52:09][DEBUG] jax_fem: res l_2 = 7.647328548576707e-09\n",
      "[01-07 15:52:09][INFO] jax_fem: Solve took 7.279548406600952 [s]\n",
      "[01-07 15:52:09][DEBUG] jax_fem: max of dofs = 5.566474441546377e-07\n",
      "[01-07 15:52:09][DEBUG] jax_fem: min of dofs = -4.6452960154489913e-07\n",
      "[01-07 15:52:09][DEBUG] jax_fem: Calling the row elimination solver for imposing Dirichlet B.C.\n",
      "[01-07 15:52:09][DEBUG] jax_fem: Start timing\n",
      "[01-07 15:52:09][DEBUG] jax_fem: Computing cell Jacobian and cell residual...\n",
      "[01-07 15:52:10][DEBUG] jax_fem: Function split_and_compute_cell took 0.0432 seconds\n",
      "[01-07 15:52:10][DEBUG] jax_fem: Creating sparse matrix with scipy...\n",
      "[01-07 15:52:10][DEBUG] jax_fem: Before, res l_2 = 13887.619651667588\n",
      "[01-07 15:52:10][DEBUG] jax_fem: Solving linear system...\n",
      "[01-07 15:52:10][DEBUG] jax_fem: JAX Solver - Solving linear system\n"
     ]
    },
    {
     "name": "stdout",
     "output_type": "stream",
     "text": [
      "max f_plus = 121932484.97655976, max stress_xx = 270265534.87320375\n",
      "\n",
      "Step 171, total step = 500, laser_x = 0.000296, Lx = 0.0005, laser ON = True\n"
     ]
    },
    {
     "name": "stderr",
     "output_type": "stream",
     "text": [
      "[01-07 15:52:10][DEBUG] jax_fem: JAX Solver - Finshed solving, res = 4.597025975729028e-07\n",
      "[01-07 15:52:10][DEBUG] jax_fem: Computing cell Jacobian and cell residual...\n",
      "[01-07 15:52:10][DEBUG] jax_fem: Function split_and_compute_cell took 0.0349 seconds\n",
      "[01-07 15:52:10][DEBUG] jax_fem: Creating sparse matrix with scipy...\n",
      "[01-07 15:52:10][DEBUG] jax_fem: res l_2 = 4.5970259821909817e-07\n",
      "[01-07 15:52:10][INFO] jax_fem: Solve took 0.601046085357666 [s]\n",
      "[01-07 15:52:10][DEBUG] jax_fem: max of dofs = 15070.879828228739\n",
      "[01-07 15:52:10][DEBUG] jax_fem: min of dofs = 299.99996949141325\n",
      "[01-07 15:52:10][DEBUG] jax_fem: Calling the row elimination solver for imposing Dirichlet B.C.\n",
      "[01-07 15:52:10][DEBUG] jax_fem: Start timing\n",
      "[01-07 15:52:10][DEBUG] jax_fem: Computing cell Jacobian and cell residual...\n",
      "[01-07 15:52:10][DEBUG] jax_fem: Function split_and_compute_cell took 0.0321 seconds\n",
      "[01-07 15:52:10][DEBUG] jax_fem: Creating sparse matrix with scipy...\n",
      "[01-07 15:52:10][DEBUG] jax_fem: Before, res l_2 = 13887.623209553194\n",
      "[01-07 15:52:10][DEBUG] jax_fem: Solving linear system...\n",
      "[01-07 15:52:10][DEBUG] jax_fem: JAX Solver - Solving linear system\n"
     ]
    },
    {
     "name": "stdout",
     "output_type": "stream",
     "text": [
      "\n",
      "Step 172, total step = 500, laser_x = 0.00029699999999999996, Lx = 0.0005, laser ON = True\n"
     ]
    },
    {
     "name": "stderr",
     "output_type": "stream",
     "text": [
      "[01-07 15:52:11][DEBUG] jax_fem: JAX Solver - Finshed solving, res = 4.604747605649066e-07\n",
      "[01-07 15:52:11][DEBUG] jax_fem: Computing cell Jacobian and cell residual...\n",
      "[01-07 15:52:11][DEBUG] jax_fem: Function split_and_compute_cell took 0.0456 seconds\n",
      "[01-07 15:52:11][DEBUG] jax_fem: Creating sparse matrix with scipy...\n",
      "[01-07 15:52:11][DEBUG] jax_fem: res l_2 = 4.6047475999492024e-07\n",
      "[01-07 15:52:11][INFO] jax_fem: Solve took 0.6375036239624023 [s]\n",
      "[01-07 15:52:11][DEBUG] jax_fem: max of dofs = 15050.917622133507\n",
      "[01-07 15:52:11][DEBUG] jax_fem: min of dofs = 299.99996952545547\n",
      "[01-07 15:52:11][DEBUG] jax_fem: Calling the row elimination solver for imposing Dirichlet B.C.\n",
      "[01-07 15:52:11][DEBUG] jax_fem: Start timing\n",
      "[01-07 15:52:11][DEBUG] jax_fem: Computing cell Jacobian and cell residual...\n",
      "[01-07 15:52:11][DEBUG] jax_fem: Function split_and_compute_cell took 0.0410 seconds\n",
      "[01-07 15:52:11][DEBUG] jax_fem: Creating sparse matrix with scipy...\n",
      "[01-07 15:52:11][DEBUG] jax_fem: Before, res l_2 = 13887.626708668831\n",
      "[01-07 15:52:11][DEBUG] jax_fem: Solving linear system...\n",
      "[01-07 15:52:11][DEBUG] jax_fem: JAX Solver - Solving linear system\n"
     ]
    },
    {
     "name": "stdout",
     "output_type": "stream",
     "text": [
      "\n",
      "Step 173, total step = 500, laser_x = 0.000298, Lx = 0.0005, laser ON = True\n"
     ]
    },
    {
     "name": "stderr",
     "output_type": "stream",
     "text": [
      "[01-07 15:52:11][DEBUG] jax_fem: JAX Solver - Finshed solving, res = 4.612634751693353e-07\n",
      "[01-07 15:52:11][DEBUG] jax_fem: Computing cell Jacobian and cell residual...\n",
      "[01-07 15:52:11][DEBUG] jax_fem: Function split_and_compute_cell took 0.0422 seconds\n",
      "[01-07 15:52:11][DEBUG] jax_fem: Creating sparse matrix with scipy...\n",
      "[01-07 15:52:11][DEBUG] jax_fem: res l_2 = 4.6126346762750193e-07\n",
      "[01-07 15:52:11][INFO] jax_fem: Solve took 0.6184513568878174 [s]\n",
      "[01-07 15:52:11][DEBUG] jax_fem: max of dofs = 15020.49739518155\n",
      "[01-07 15:52:11][DEBUG] jax_fem: min of dofs = 299.9999696107899\n",
      "[01-07 15:52:11][DEBUG] jax_fem: Calling the row elimination solver for imposing Dirichlet B.C.\n",
      "[01-07 15:52:11][DEBUG] jax_fem: Start timing\n",
      "[01-07 15:52:11][DEBUG] jax_fem: Computing cell Jacobian and cell residual...\n",
      "[01-07 15:52:11][DEBUG] jax_fem: Function split_and_compute_cell took 0.0546 seconds\n",
      "[01-07 15:52:11][DEBUG] jax_fem: Creating sparse matrix with scipy...\n",
      "[01-07 15:52:11][DEBUG] jax_fem: Before, res l_2 = 13887.630150083176\n",
      "[01-07 15:52:11][DEBUG] jax_fem: Solving linear system...\n",
      "[01-07 15:52:11][DEBUG] jax_fem: JAX Solver - Solving linear system\n"
     ]
    },
    {
     "name": "stdout",
     "output_type": "stream",
     "text": [
      "\n",
      "Step 174, total step = 500, laser_x = 0.000299, Lx = 0.0005, laser ON = True\n"
     ]
    },
    {
     "name": "stderr",
     "output_type": "stream",
     "text": [
      "[01-07 15:52:12][DEBUG] jax_fem: JAX Solver - Finshed solving, res = 4.6172470587698965e-07\n",
      "[01-07 15:52:12][DEBUG] jax_fem: Computing cell Jacobian and cell residual...\n",
      "[01-07 15:52:12][DEBUG] jax_fem: Function split_and_compute_cell took 0.0619 seconds\n",
      "[01-07 15:52:12][DEBUG] jax_fem: Creating sparse matrix with scipy...\n",
      "[01-07 15:52:12][DEBUG] jax_fem: res l_2 = 4.617247077054219e-07\n",
      "[01-07 15:52:12][INFO] jax_fem: Solve took 0.7380032539367676 [s]\n",
      "[01-07 15:52:12][DEBUG] jax_fem: max of dofs = 14980.011884185846\n",
      "[01-07 15:52:12][DEBUG] jax_fem: min of dofs = 299.9999696398165\n",
      "[01-07 15:52:12][DEBUG] jax_fem: Calling the row elimination solver for imposing Dirichlet B.C.\n",
      "[01-07 15:52:12][DEBUG] jax_fem: Start timing\n",
      "[01-07 15:52:12][DEBUG] jax_fem: Computing cell Jacobian and cell residual...\n",
      "[01-07 15:52:12][DEBUG] jax_fem: Function split_and_compute_cell took 0.0331 seconds\n",
      "[01-07 15:52:12][DEBUG] jax_fem: Creating sparse matrix with scipy...\n",
      "[01-07 15:52:12][DEBUG] jax_fem: Before, res l_2 = 13887.633534843566\n",
      "[01-07 15:52:12][DEBUG] jax_fem: Solving linear system...\n",
      "[01-07 15:52:12][DEBUG] jax_fem: JAX Solver - Solving linear system\n"
     ]
    },
    {
     "name": "stdout",
     "output_type": "stream",
     "text": [
      "\n",
      "Step 175, total step = 500, laser_x = 0.00030000000000000003, Lx = 0.0005, laser ON = True\n"
     ]
    },
    {
     "name": "stderr",
     "output_type": "stream",
     "text": [
      "[01-07 15:52:13][DEBUG] jax_fem: JAX Solver - Finshed solving, res = 4.6164240661521103e-07\n",
      "[01-07 15:52:13][DEBUG] jax_fem: Computing cell Jacobian and cell residual...\n",
      "[01-07 15:52:13][DEBUG] jax_fem: Function split_and_compute_cell took 0.0461 seconds\n",
      "[01-07 15:52:13][DEBUG] jax_fem: Creating sparse matrix with scipy...\n",
      "[01-07 15:52:13][DEBUG] jax_fem: res l_2 = 4.6164241537753087e-07\n",
      "[01-07 15:52:13][INFO] jax_fem: Solve took 0.6184158325195312 [s]\n",
      "[01-07 15:52:13][DEBUG] jax_fem: max of dofs = 14951.679002487905\n",
      "[01-07 15:52:13][DEBUG] jax_fem: min of dofs = 299.9999695241016\n",
      "[01-07 15:52:13][DEBUG] jax_fem: Calling the row elimination solver for imposing Dirichlet B.C.\n",
      "[01-07 15:52:13][DEBUG] jax_fem: Start timing\n",
      "[01-07 15:52:13][DEBUG] jax_fem: Computing cell Jacobian and cell residual...\n",
      "[01-07 15:52:13][DEBUG] jax_fem: Function split_and_compute_cell took 0.0335 seconds\n",
      "[01-07 15:52:13][DEBUG] jax_fem: Creating sparse matrix with scipy...\n",
      "[01-07 15:52:13][DEBUG] jax_fem: Before, res l_2 = 13887.636863976444\n",
      "[01-07 15:52:13][DEBUG] jax_fem: Solving linear system...\n",
      "[01-07 15:52:13][DEBUG] jax_fem: JAX Solver - Solving linear system\n"
     ]
    },
    {
     "name": "stdout",
     "output_type": "stream",
     "text": [
      "\n",
      "Step 176, total step = 500, laser_x = 0.000301, Lx = 0.0005, laser ON = True\n"
     ]
    },
    {
     "name": "stderr",
     "output_type": "stream",
     "text": [
      "[01-07 15:52:13][DEBUG] jax_fem: JAX Solver - Finshed solving, res = 4.6100726293910256e-07\n",
      "[01-07 15:52:13][DEBUG] jax_fem: Computing cell Jacobian and cell residual...\n",
      "[01-07 15:52:13][DEBUG] jax_fem: Function split_and_compute_cell took 0.0381 seconds\n",
      "[01-07 15:52:13][DEBUG] jax_fem: Creating sparse matrix with scipy...\n",
      "[01-07 15:52:13][DEBUG] jax_fem: res l_2 = 4.610072641877546e-07\n",
      "[01-07 15:52:13][INFO] jax_fem: Solve took 0.614314079284668 [s]\n",
      "[01-07 15:52:13][DEBUG] jax_fem: max of dofs = 15001.755217649417\n",
      "[01-07 15:52:13][DEBUG] jax_fem: min of dofs = 299.99996941368954\n",
      "[01-07 15:52:13][DEBUG] jax_fem: Calling the row elimination solver for imposing Dirichlet B.C.\n",
      "[01-07 15:52:13][DEBUG] jax_fem: Start timing\n",
      "[01-07 15:52:13][DEBUG] jax_fem: Computing cell Jacobian and cell residual...\n",
      "[01-07 15:52:13][DEBUG] jax_fem: Function split_and_compute_cell took 0.0388 seconds\n",
      "[01-07 15:52:13][DEBUG] jax_fem: Creating sparse matrix with scipy...\n",
      "[01-07 15:52:13][DEBUG] jax_fem: Before, res l_2 = 13887.640138487828\n",
      "[01-07 15:52:13][DEBUG] jax_fem: Solving linear system...\n",
      "[01-07 15:52:13][DEBUG] jax_fem: JAX Solver - Solving linear system\n"
     ]
    },
    {
     "name": "stdout",
     "output_type": "stream",
     "text": [
      "\n",
      "Step 177, total step = 500, laser_x = 0.00030199999999999997, Lx = 0.0005, laser ON = True\n"
     ]
    },
    {
     "name": "stderr",
     "output_type": "stream",
     "text": [
      "[01-07 15:52:14][DEBUG] jax_fem: JAX Solver - Finshed solving, res = 4.6001858736742883e-07\n",
      "[01-07 15:52:14][DEBUG] jax_fem: Computing cell Jacobian and cell residual...\n",
      "[01-07 15:52:14][DEBUG] jax_fem: Function split_and_compute_cell took 0.0435 seconds\n",
      "[01-07 15:52:14][DEBUG] jax_fem: Creating sparse matrix with scipy...\n",
      "[01-07 15:52:14][DEBUG] jax_fem: res l_2 = 4.60018590341553e-07\n",
      "[01-07 15:52:14][INFO] jax_fem: Solve took 1.0232877731323242 [s]\n",
      "[01-07 15:52:14][DEBUG] jax_fem: max of dofs = 15039.39530825112\n",
      "[01-07 15:52:14][DEBUG] jax_fem: min of dofs = 299.99996931244107\n",
      "[01-07 15:52:14][DEBUG] jax_fem: Calling the row elimination solver for imposing Dirichlet B.C.\n",
      "[01-07 15:52:14][DEBUG] jax_fem: Start timing\n",
      "[01-07 15:52:14][DEBUG] jax_fem: Computing cell Jacobian and cell residual...\n",
      "[01-07 15:52:14][DEBUG] jax_fem: Function split_and_compute_cell took 0.0327 seconds\n",
      "[01-07 15:52:14][DEBUG] jax_fem: Creating sparse matrix with scipy...\n",
      "[01-07 15:52:14][DEBUG] jax_fem: Before, res l_2 = 13887.643359363736\n",
      "[01-07 15:52:14][DEBUG] jax_fem: Solving linear system...\n",
      "[01-07 15:52:15][DEBUG] jax_fem: JAX Solver - Solving linear system\n"
     ]
    },
    {
     "name": "stdout",
     "output_type": "stream",
     "text": [
      "\n",
      "Step 178, total step = 500, laser_x = 0.000303, Lx = 0.0005, laser ON = True\n"
     ]
    },
    {
     "name": "stderr",
     "output_type": "stream",
     "text": [
      "[01-07 15:52:15][DEBUG] jax_fem: JAX Solver - Finshed solving, res = 4.590109042671628e-07\n",
      "[01-07 15:52:15][DEBUG] jax_fem: Computing cell Jacobian and cell residual...\n",
      "[01-07 15:52:15][DEBUG] jax_fem: Function split_and_compute_cell took 0.0418 seconds\n",
      "[01-07 15:52:15][DEBUG] jax_fem: Creating sparse matrix with scipy...\n",
      "[01-07 15:52:15][DEBUG] jax_fem: res l_2 = 4.590109042171568e-07\n",
      "[01-07 15:52:15][INFO] jax_fem: Solve took 0.668175458908081 [s]\n",
      "[01-07 15:52:15][DEBUG] jax_fem: max of dofs = 15064.87078941703\n",
      "[01-07 15:52:15][DEBUG] jax_fem: min of dofs = 299.9999692249761\n",
      "[01-07 15:52:15][DEBUG] jax_fem: Calling the row elimination solver for imposing Dirichlet B.C.\n",
      "[01-07 15:52:15][DEBUG] jax_fem: Start timing\n",
      "[01-07 15:52:15][DEBUG] jax_fem: Computing cell Jacobian and cell residual...\n",
      "[01-07 15:52:15][DEBUG] jax_fem: Function split_and_compute_cell took 0.0655 seconds\n",
      "[01-07 15:52:15][DEBUG] jax_fem: Creating sparse matrix with scipy...\n",
      "[01-07 15:52:15][DEBUG] jax_fem: Before, res l_2 = 13887.646527570643\n",
      "[01-07 15:52:15][DEBUG] jax_fem: Solving linear system...\n",
      "[01-07 15:52:15][DEBUG] jax_fem: JAX Solver - Solving linear system\n"
     ]
    },
    {
     "name": "stdout",
     "output_type": "stream",
     "text": [
      "\n",
      "Step 179, total step = 500, laser_x = 0.000304, Lx = 0.0005, laser ON = True\n"
     ]
    },
    {
     "name": "stderr",
     "output_type": "stream",
     "text": [
      "[01-07 15:52:16][DEBUG] jax_fem: JAX Solver - Finshed solving, res = 4.583294977890989e-07\n",
      "[01-07 15:52:16][DEBUG] jax_fem: Computing cell Jacobian and cell residual...\n",
      "[01-07 15:52:16][DEBUG] jax_fem: Function split_and_compute_cell took 0.0530 seconds\n",
      "[01-07 15:52:16][DEBUG] jax_fem: Creating sparse matrix with scipy...\n",
      "[01-07 15:52:16][DEBUG] jax_fem: res l_2 = 4.583295016995118e-07\n",
      "[01-07 15:52:16][INFO] jax_fem: Solve took 0.7061767578125 [s]\n",
      "[01-07 15:52:16][DEBUG] jax_fem: max of dofs = 15078.48030389457\n",
      "[01-07 15:52:16][DEBUG] jax_fem: min of dofs = 299.9999691569106\n",
      "[01-07 15:52:16][DEBUG] jax_fem: Calling the row elimination solver for imposing Dirichlet B.C.\n",
      "[01-07 15:52:16][DEBUG] jax_fem: Start timing\n",
      "[01-07 15:52:16][DEBUG] jax_fem: Computing cell Jacobian and cell residual...\n",
      "[01-07 15:52:16][DEBUG] jax_fem: Function split_and_compute_cell took 0.0506 seconds\n",
      "[01-07 15:52:16][DEBUG] jax_fem: Creating sparse matrix with scipy...\n",
      "[01-07 15:52:16][DEBUG] jax_fem: Before, res l_2 = 13887.649644055877\n",
      "[01-07 15:52:16][DEBUG] jax_fem: Solving linear system...\n",
      "[01-07 15:52:16][DEBUG] jax_fem: JAX Solver - Solving linear system\n"
     ]
    },
    {
     "name": "stdout",
     "output_type": "stream",
     "text": [
      "\n",
      "Step 180, total step = 500, laser_x = 0.000305, Lx = 0.0005, laser ON = True\n"
     ]
    },
    {
     "name": "stderr",
     "output_type": "stream",
     "text": [
      "[01-07 15:52:16][DEBUG] jax_fem: JAX Solver - Finshed solving, res = 4.5819778763736427e-07\n",
      "[01-07 15:52:16][DEBUG] jax_fem: Computing cell Jacobian and cell residual...\n",
      "[01-07 15:52:16][DEBUG] jax_fem: Function split_and_compute_cell took 0.0366 seconds\n",
      "[01-07 15:52:16][DEBUG] jax_fem: Creating sparse matrix with scipy...\n",
      "[01-07 15:52:16][DEBUG] jax_fem: res l_2 = 4.581977832525444e-07\n",
      "[01-07 15:52:16][INFO] jax_fem: Solve took 0.6339187622070312 [s]\n",
      "[01-07 15:52:16][DEBUG] jax_fem: max of dofs = 15080.546638476708\n",
      "[01-07 15:52:16][DEBUG] jax_fem: min of dofs = 299.99996911531\n",
      "[01-07 15:52:17][DEBUG] jax_fem: Calling the row elimination solver for imposing Dirichlet B.C.\n",
      "[01-07 15:52:17][DEBUG] jax_fem: Start timing\n",
      "[01-07 15:52:17][DEBUG] jax_fem: Computing cell Jacobian and cell residual...\n",
      "[01-07 15:52:17][DEBUG] jax_fem: Function split_and_compute_cell took 0.2977 seconds\n",
      "[01-07 15:52:17][DEBUG] jax_fem: Creating sparse matrix with scipy...\n",
      "[01-07 15:52:17][DEBUG] jax_fem: Before, res l_2 = 0.20647617435259735\n",
      "[01-07 15:52:17][DEBUG] jax_fem: Solving linear system...\n",
      "[01-07 15:52:17][DEBUG] jax_fem: JAX Solver - Solving linear system\n",
      "[01-07 15:52:19][DEBUG] jax_fem: JAX Solver - Finshed solving, res = 8.880200307884796e-11\n",
      "[01-07 15:52:19][DEBUG] jax_fem: Computing cell Jacobian and cell residual...\n",
      "[01-07 15:52:19][DEBUG] jax_fem: Function split_and_compute_cell took 0.2189 seconds\n",
      "[01-07 15:52:19][DEBUG] jax_fem: Creating sparse matrix with scipy...\n",
      "[01-07 15:52:20][DEBUG] jax_fem: res l_2 = 0.006987234840763281\n",
      "[01-07 15:52:20][DEBUG] jax_fem: Solving linear system...\n",
      "[01-07 15:52:20][DEBUG] jax_fem: JAX Solver - Solving linear system\n",
      "[01-07 15:52:22][DEBUG] jax_fem: JAX Solver - Finshed solving, res = 6.124105327227432e-11\n",
      "[01-07 15:52:22][DEBUG] jax_fem: Computing cell Jacobian and cell residual...\n",
      "[01-07 15:52:22][DEBUG] jax_fem: Function split_and_compute_cell took 0.2518 seconds\n",
      "[01-07 15:52:22][DEBUG] jax_fem: Creating sparse matrix with scipy...\n",
      "[01-07 15:52:22][DEBUG] jax_fem: res l_2 = 9.921583677882659e-05\n",
      "[01-07 15:52:22][DEBUG] jax_fem: Solving linear system...\n",
      "[01-07 15:52:22][DEBUG] jax_fem: JAX Solver - Solving linear system\n",
      "[01-07 15:52:24][DEBUG] jax_fem: JAX Solver - Finshed solving, res = 9.232168782215996e-11\n",
      "[01-07 15:52:24][DEBUG] jax_fem: Computing cell Jacobian and cell residual...\n",
      "[01-07 15:52:24][DEBUG] jax_fem: Function split_and_compute_cell took 0.2142 seconds\n",
      "[01-07 15:52:24][DEBUG] jax_fem: Creating sparse matrix with scipy...\n",
      "[01-07 15:52:24][DEBUG] jax_fem: res l_2 = 5.8656138487728536e-08\n",
      "[01-07 15:52:24][INFO] jax_fem: Solve took 7.33369779586792 [s]\n",
      "[01-07 15:52:24][DEBUG] jax_fem: max of dofs = 6.324799764238792e-07\n",
      "[01-07 15:52:24][DEBUG] jax_fem: min of dofs = -5.292689288337365e-07\n",
      "[01-07 15:52:24][DEBUG] jax_fem: Calling the row elimination solver for imposing Dirichlet B.C.\n",
      "[01-07 15:52:24][DEBUG] jax_fem: Start timing\n",
      "[01-07 15:52:24][DEBUG] jax_fem: Computing cell Jacobian and cell residual...\n",
      "[01-07 15:52:24][DEBUG] jax_fem: Function split_and_compute_cell took 0.0358 seconds\n",
      "[01-07 15:52:24][DEBUG] jax_fem: Creating sparse matrix with scipy...\n",
      "[01-07 15:52:24][DEBUG] jax_fem: Before, res l_2 = 13887.652709748056\n",
      "[01-07 15:52:24][DEBUG] jax_fem: Solving linear system...\n",
      "[01-07 15:52:24][DEBUG] jax_fem: JAX Solver - Solving linear system\n"
     ]
    },
    {
     "name": "stdout",
     "output_type": "stream",
     "text": [
      "max f_plus = 126200262.74760747, max stress_xx = 277493246.0708753\n",
      "\n",
      "Step 181, total step = 500, laser_x = 0.00030599999999999996, Lx = 0.0005, laser ON = True\n"
     ]
    },
    {
     "name": "stderr",
     "output_type": "stream",
     "text": [
      "[01-07 15:52:24][DEBUG] jax_fem: JAX Solver - Finshed solving, res = 4.586280944850648e-07\n",
      "[01-07 15:52:24][DEBUG] jax_fem: Computing cell Jacobian and cell residual...\n",
      "[01-07 15:52:25][DEBUG] jax_fem: Function split_and_compute_cell took 0.0623 seconds\n",
      "[01-07 15:52:25][DEBUG] jax_fem: Creating sparse matrix with scipy...\n",
      "[01-07 15:52:25][DEBUG] jax_fem: res l_2 = 4.5862809689943676e-07\n",
      "[01-07 15:52:25][INFO] jax_fem: Solve took 0.6119723320007324 [s]\n",
      "[01-07 15:52:25][DEBUG] jax_fem: max of dofs = 15071.413896913567\n",
      "[01-07 15:52:25][DEBUG] jax_fem: min of dofs = 299.9999691093596\n",
      "[01-07 15:52:25][DEBUG] jax_fem: Calling the row elimination solver for imposing Dirichlet B.C.\n",
      "[01-07 15:52:25][DEBUG] jax_fem: Start timing\n",
      "[01-07 15:52:25][DEBUG] jax_fem: Computing cell Jacobian and cell residual...\n",
      "[01-07 15:52:25][DEBUG] jax_fem: Function split_and_compute_cell took 0.0362 seconds\n",
      "[01-07 15:52:25][DEBUG] jax_fem: Creating sparse matrix with scipy...\n",
      "[01-07 15:52:25][DEBUG] jax_fem: Before, res l_2 = 13887.655725557477\n",
      "[01-07 15:52:25][DEBUG] jax_fem: Solving linear system...\n",
      "[01-07 15:52:25][DEBUG] jax_fem: JAX Solver - Solving linear system\n"
     ]
    },
    {
     "name": "stdout",
     "output_type": "stream",
     "text": [
      "\n",
      "Step 182, total step = 500, laser_x = 0.000307, Lx = 0.0005, laser ON = True\n"
     ]
    },
    {
     "name": "stderr",
     "output_type": "stream",
     "text": [
      "[01-07 15:52:25][DEBUG] jax_fem: JAX Solver - Finshed solving, res = 4.594152864237891e-07\n",
      "[01-07 15:52:25][DEBUG] jax_fem: Computing cell Jacobian and cell residual...\n",
      "[01-07 15:52:25][DEBUG] jax_fem: Function split_and_compute_cell took 0.0431 seconds\n",
      "[01-07 15:52:25][DEBUG] jax_fem: Creating sparse matrix with scipy...\n",
      "[01-07 15:52:25][DEBUG] jax_fem: res l_2 = 4.59415287066121e-07\n",
      "[01-07 15:52:25][INFO] jax_fem: Solve took 0.6173207759857178 [s]\n",
      "[01-07 15:52:25][DEBUG] jax_fem: max of dofs = 15051.444836155762\n",
      "[01-07 15:52:25][DEBUG] jax_fem: min of dofs = 299.99996915120647\n",
      "[01-07 15:52:25][DEBUG] jax_fem: Calling the row elimination solver for imposing Dirichlet B.C.\n",
      "[01-07 15:52:25][DEBUG] jax_fem: Start timing\n",
      "[01-07 15:52:25][DEBUG] jax_fem: Computing cell Jacobian and cell residual...\n",
      "[01-07 15:52:25][DEBUG] jax_fem: Function split_and_compute_cell took 0.0347 seconds\n",
      "[01-07 15:52:25][DEBUG] jax_fem: Creating sparse matrix with scipy...\n",
      "[01-07 15:52:25][DEBUG] jax_fem: Before, res l_2 = 13887.658692376528\n",
      "[01-07 15:52:25][DEBUG] jax_fem: Solving linear system...\n",
      "[01-07 15:52:25][DEBUG] jax_fem: JAX Solver - Solving linear system\n"
     ]
    },
    {
     "name": "stdout",
     "output_type": "stream",
     "text": [
      "\n",
      "Step 183, total step = 500, laser_x = 0.000308, Lx = 0.0005, laser ON = True\n"
     ]
    },
    {
     "name": "stderr",
     "output_type": "stream",
     "text": [
      "[01-07 15:52:26][DEBUG] jax_fem: JAX Solver - Finshed solving, res = 4.6021798240089107e-07\n",
      "[01-07 15:52:26][DEBUG] jax_fem: Computing cell Jacobian and cell residual...\n",
      "[01-07 15:52:26][DEBUG] jax_fem: Function split_and_compute_cell took 0.0439 seconds\n",
      "[01-07 15:52:26][DEBUG] jax_fem: Creating sparse matrix with scipy...\n",
      "[01-07 15:52:26][DEBUG] jax_fem: res l_2 = 4.602179865173577e-07\n",
      "[01-07 15:52:26][INFO] jax_fem: Solve took 0.5972368717193604 [s]\n",
      "[01-07 15:52:26][DEBUG] jax_fem: max of dofs = 15021.018367400333\n",
      "[01-07 15:52:26][DEBUG] jax_fem: min of dofs = 299.9999692477402\n",
      "[01-07 15:52:26][DEBUG] jax_fem: Calling the row elimination solver for imposing Dirichlet B.C.\n",
      "[01-07 15:52:26][DEBUG] jax_fem: Start timing\n",
      "[01-07 15:52:26][DEBUG] jax_fem: Computing cell Jacobian and cell residual...\n",
      "[01-07 15:52:26][DEBUG] jax_fem: Function split_and_compute_cell took 0.0332 seconds\n",
      "[01-07 15:52:26][DEBUG] jax_fem: Creating sparse matrix with scipy...\n",
      "[01-07 15:52:26][DEBUG] jax_fem: Before, res l_2 = 13887.661611080057\n",
      "[01-07 15:52:26][DEBUG] jax_fem: Solving linear system...\n",
      "[01-07 15:52:26][DEBUG] jax_fem: JAX Solver - Solving linear system\n"
     ]
    },
    {
     "name": "stdout",
     "output_type": "stream",
     "text": [
      "\n",
      "Step 184, total step = 500, laser_x = 0.00030900000000000003, Lx = 0.0005, laser ON = True\n"
     ]
    },
    {
     "name": "stderr",
     "output_type": "stream",
     "text": [
      "[01-07 15:52:26][DEBUG] jax_fem: JAX Solver - Finshed solving, res = 4.6069248474672613e-07\n",
      "[01-07 15:52:26][DEBUG] jax_fem: Computing cell Jacobian and cell residual...\n",
      "[01-07 15:52:26][DEBUG] jax_fem: Function split_and_compute_cell took 0.0517 seconds\n",
      "[01-07 15:52:26][DEBUG] jax_fem: Creating sparse matrix with scipy...\n",
      "[01-07 15:52:27][DEBUG] jax_fem: res l_2 = 4.606924842204442e-07\n",
      "[01-07 15:52:27][INFO] jax_fem: Solve took 0.6098532676696777 [s]\n",
      "[01-07 15:52:27][DEBUG] jax_fem: max of dofs = 14980.527219012532\n",
      "[01-07 15:52:27][DEBUG] jax_fem: min of dofs = 299.99996919100096\n",
      "[01-07 15:52:27][DEBUG] jax_fem: Calling the row elimination solver for imposing Dirichlet B.C.\n",
      "[01-07 15:52:27][DEBUG] jax_fem: Start timing\n",
      "[01-07 15:52:27][DEBUG] jax_fem: Computing cell Jacobian and cell residual...\n",
      "[01-07 15:52:27][DEBUG] jax_fem: Function split_and_compute_cell took 0.0319 seconds\n",
      "[01-07 15:52:27][DEBUG] jax_fem: Creating sparse matrix with scipy...\n",
      "[01-07 15:52:27][DEBUG] jax_fem: Before, res l_2 = 13887.664482525755\n",
      "[01-07 15:52:27][DEBUG] jax_fem: Solving linear system...\n",
      "[01-07 15:52:27][DEBUG] jax_fem: JAX Solver - Solving linear system\n"
     ]
    },
    {
     "name": "stdout",
     "output_type": "stream",
     "text": [
      "\n",
      "Step 185, total step = 500, laser_x = 0.00031, Lx = 0.0005, laser ON = True\n"
     ]
    },
    {
     "name": "stderr",
     "output_type": "stream",
     "text": [
      "[01-07 15:52:27][DEBUG] jax_fem: JAX Solver - Finshed solving, res = 4.606232806552126e-07\n",
      "[01-07 15:52:27][DEBUG] jax_fem: Computing cell Jacobian and cell residual...\n",
      "[01-07 15:52:27][DEBUG] jax_fem: Function split_and_compute_cell took 0.0383 seconds\n",
      "[01-07 15:52:27][DEBUG] jax_fem: Creating sparse matrix with scipy...\n",
      "[01-07 15:52:27][DEBUG] jax_fem: res l_2 = 4.6062329222442687e-07\n",
      "[01-07 15:52:27][INFO] jax_fem: Solve took 0.6852090358734131 [s]\n",
      "[01-07 15:52:27][DEBUG] jax_fem: max of dofs = 14952.015273289091\n",
      "[01-07 15:52:27][DEBUG] jax_fem: min of dofs = 299.99996906946905\n",
      "[01-07 15:52:27][DEBUG] jax_fem: Calling the row elimination solver for imposing Dirichlet B.C.\n",
      "[01-07 15:52:27][DEBUG] jax_fem: Start timing\n",
      "[01-07 15:52:27][DEBUG] jax_fem: Computing cell Jacobian and cell residual...\n",
      "[01-07 15:52:27][DEBUG] jax_fem: Function split_and_compute_cell took 0.0609 seconds\n",
      "[01-07 15:52:27][DEBUG] jax_fem: Creating sparse matrix with scipy...\n",
      "[01-07 15:52:27][DEBUG] jax_fem: Before, res l_2 = 13887.667307554531\n",
      "[01-07 15:52:27][DEBUG] jax_fem: Solving linear system...\n",
      "[01-07 15:52:27][DEBUG] jax_fem: JAX Solver - Solving linear system\n"
     ]
    },
    {
     "name": "stdout",
     "output_type": "stream",
     "text": [
      "\n",
      "Step 186, total step = 500, laser_x = 0.00031099999999999997, Lx = 0.0005, laser ON = True\n"
     ]
    },
    {
     "name": "stderr",
     "output_type": "stream",
     "text": [
      "[01-07 15:52:28][DEBUG] jax_fem: JAX Solver - Finshed solving, res = 4.6000164974190355e-07\n",
      "[01-07 15:52:28][DEBUG] jax_fem: Computing cell Jacobian and cell residual...\n",
      "[01-07 15:52:28][DEBUG] jax_fem: Function split_and_compute_cell took 0.0391 seconds\n",
      "[01-07 15:52:28][DEBUG] jax_fem: Creating sparse matrix with scipy...\n",
      "[01-07 15:52:28][DEBUG] jax_fem: res l_2 = 4.600016435328256e-07\n",
      "[01-07 15:52:28][INFO] jax_fem: Solve took 0.6160712242126465 [s]\n",
      "[01-07 15:52:28][DEBUG] jax_fem: max of dofs = 15002.085689938905\n",
      "[01-07 15:52:28][DEBUG] jax_fem: min of dofs = 299.9999689511686\n",
      "[01-07 15:52:28][DEBUG] jax_fem: Calling the row elimination solver for imposing Dirichlet B.C.\n",
      "[01-07 15:52:28][DEBUG] jax_fem: Start timing\n",
      "[01-07 15:52:28][DEBUG] jax_fem: Computing cell Jacobian and cell residual...\n",
      "[01-07 15:52:28][DEBUG] jax_fem: Function split_and_compute_cell took 0.0321 seconds\n",
      "[01-07 15:52:28][DEBUG] jax_fem: Creating sparse matrix with scipy...\n",
      "[01-07 15:52:28][DEBUG] jax_fem: Before, res l_2 = 13887.670086990858\n",
      "[01-07 15:52:28][DEBUG] jax_fem: Solving linear system...\n",
      "[01-07 15:52:28][DEBUG] jax_fem: JAX Solver - Solving linear system\n"
     ]
    },
    {
     "name": "stdout",
     "output_type": "stream",
     "text": [
      "\n",
      "Step 187, total step = 500, laser_x = 0.000312, Lx = 0.0005, laser ON = True\n"
     ]
    },
    {
     "name": "stderr",
     "output_type": "stream",
     "text": [
      "[01-07 15:52:28][DEBUG] jax_fem: JAX Solver - Finshed solving, res = 4.5902726178975035e-07\n",
      "[01-07 15:52:28][DEBUG] jax_fem: Computing cell Jacobian and cell residual...\n",
      "[01-07 15:52:28][DEBUG] jax_fem: Function split_and_compute_cell took 0.0371 seconds\n",
      "[01-07 15:52:28][DEBUG] jax_fem: Creating sparse matrix with scipy...\n",
      "[01-07 15:52:28][DEBUG] jax_fem: res l_2 = 4.5902726703620657e-07\n",
      "[01-07 15:52:28][INFO] jax_fem: Solve took 0.589198112487793 [s]\n",
      "[01-07 15:52:28][DEBUG] jax_fem: max of dofs = 15039.720324851778\n",
      "[01-07 15:52:28][DEBUG] jax_fem: min of dofs = 299.9999688397974\n",
      "[01-07 15:52:28][DEBUG] jax_fem: Calling the row elimination solver for imposing Dirichlet B.C.\n",
      "[01-07 15:52:28][DEBUG] jax_fem: Start timing\n",
      "[01-07 15:52:28][DEBUG] jax_fem: Computing cell Jacobian and cell residual...\n",
      "[01-07 15:52:28][DEBUG] jax_fem: Function split_and_compute_cell took 0.0335 seconds\n",
      "[01-07 15:52:29][DEBUG] jax_fem: Creating sparse matrix with scipy...\n",
      "[01-07 15:52:29][DEBUG] jax_fem: Before, res l_2 = 13887.672821643135\n",
      "[01-07 15:52:29][DEBUG] jax_fem: Solving linear system...\n",
      "[01-07 15:52:29][DEBUG] jax_fem: JAX Solver - Solving linear system\n"
     ]
    },
    {
     "name": "stdout",
     "output_type": "stream",
     "text": [
      "\n",
      "Step 188, total step = 500, laser_x = 0.000313, Lx = 0.0005, laser ON = True\n"
     ]
    },
    {
     "name": "stderr",
     "output_type": "stream",
     "text": [
      "[01-07 15:52:29][DEBUG] jax_fem: JAX Solver - Finshed solving, res = 4.5803471858965515e-07\n",
      "[01-07 15:52:29][DEBUG] jax_fem: Computing cell Jacobian and cell residual...\n",
      "[01-07 15:52:29][DEBUG] jax_fem: Function split_and_compute_cell took 0.0392 seconds\n",
      "[01-07 15:52:29][DEBUG] jax_fem: Creating sparse matrix with scipy...\n",
      "[01-07 15:52:29][DEBUG] jax_fem: res l_2 = 4.580347188981158e-07\n",
      "[01-07 15:52:29][INFO] jax_fem: Solve took 0.5983028411865234 [s]\n",
      "[01-07 15:52:29][DEBUG] jax_fem: max of dofs = 15065.190699497856\n",
      "[01-07 15:52:29][DEBUG] jax_fem: min of dofs = 299.9999687398106\n",
      "[01-07 15:52:29][DEBUG] jax_fem: Calling the row elimination solver for imposing Dirichlet B.C.\n",
      "[01-07 15:52:29][DEBUG] jax_fem: Start timing\n",
      "[01-07 15:52:29][DEBUG] jax_fem: Computing cell Jacobian and cell residual...\n",
      "[01-07 15:52:29][DEBUG] jax_fem: Function split_and_compute_cell took 0.0440 seconds\n",
      "[01-07 15:52:29][DEBUG] jax_fem: Creating sparse matrix with scipy...\n",
      "[01-07 15:52:29][DEBUG] jax_fem: Before, res l_2 = 13887.675512304024\n",
      "[01-07 15:52:29][DEBUG] jax_fem: Solving linear system...\n",
      "[01-07 15:52:29][DEBUG] jax_fem: JAX Solver - Solving linear system\n"
     ]
    },
    {
     "name": "stdout",
     "output_type": "stream",
     "text": [
      "\n",
      "Step 189, total step = 500, laser_x = 0.000314, Lx = 0.0005, laser ON = True\n"
     ]
    },
    {
     "name": "stderr",
     "output_type": "stream",
     "text": [
      "[01-07 15:52:30][DEBUG] jax_fem: JAX Solver - Finshed solving, res = 4.5736901339053724e-07\n",
      "[01-07 15:52:30][DEBUG] jax_fem: Computing cell Jacobian and cell residual...\n",
      "[01-07 15:52:30][DEBUG] jax_fem: Function split_and_compute_cell took 0.0677 seconds\n",
      "[01-07 15:52:30][DEBUG] jax_fem: Creating sparse matrix with scipy...\n",
      "[01-07 15:52:30][DEBUG] jax_fem: res l_2 = 4.573690105804561e-07\n",
      "[01-07 15:52:30][INFO] jax_fem: Solve took 0.6795132160186768 [s]\n",
      "[01-07 15:52:30][DEBUG] jax_fem: max of dofs = 15078.795460655156\n",
      "[01-07 15:52:30][DEBUG] jax_fem: min of dofs = 299.999968656651\n",
      "[01-07 15:52:30][DEBUG] jax_fem: Calling the row elimination solver for imposing Dirichlet B.C.\n",
      "[01-07 15:52:30][DEBUG] jax_fem: Start timing\n",
      "[01-07 15:52:30][DEBUG] jax_fem: Computing cell Jacobian and cell residual...\n",
      "[01-07 15:52:30][DEBUG] jax_fem: Function split_and_compute_cell took 0.1057 seconds\n",
      "[01-07 15:52:30][DEBUG] jax_fem: Creating sparse matrix with scipy...\n",
      "[01-07 15:52:30][DEBUG] jax_fem: Before, res l_2 = 13887.67815975079\n",
      "[01-07 15:52:30][DEBUG] jax_fem: Solving linear system...\n",
      "[01-07 15:52:30][DEBUG] jax_fem: JAX Solver - Solving linear system\n"
     ]
    },
    {
     "name": "stdout",
     "output_type": "stream",
     "text": [
      "\n",
      "Step 190, total step = 500, laser_x = 0.00031499999999999996, Lx = 0.0005, laser ON = True\n"
     ]
    },
    {
     "name": "stderr",
     "output_type": "stream",
     "text": [
      "[01-07 15:52:30][DEBUG] jax_fem: JAX Solver - Finshed solving, res = 4.5725302638514494e-07\n",
      "[01-07 15:52:30][DEBUG] jax_fem: Computing cell Jacobian and cell residual...\n",
      "[01-07 15:52:30][DEBUG] jax_fem: Function split_and_compute_cell took 0.0503 seconds\n",
      "[01-07 15:52:30][DEBUG] jax_fem: Creating sparse matrix with scipy...\n",
      "[01-07 15:52:30][DEBUG] jax_fem: res l_2 = 4.572530265603928e-07\n",
      "[01-07 15:52:30][INFO] jax_fem: Solve took 0.6470701694488525 [s]\n",
      "[01-07 15:52:30][DEBUG] jax_fem: max of dofs = 15080.857397069407\n",
      "[01-07 15:52:30][DEBUG] jax_fem: min of dofs = 299.9999685972089\n",
      "[01-07 15:52:31][DEBUG] jax_fem: Calling the row elimination solver for imposing Dirichlet B.C.\n",
      "[01-07 15:52:31][DEBUG] jax_fem: Start timing\n",
      "[01-07 15:52:31][DEBUG] jax_fem: Computing cell Jacobian and cell residual...\n",
      "[01-07 15:52:31][DEBUG] jax_fem: Function split_and_compute_cell took 0.2611 seconds\n",
      "[01-07 15:52:31][DEBUG] jax_fem: Creating sparse matrix with scipy...\n",
      "[01-07 15:52:31][DEBUG] jax_fem: Before, res l_2 = 0.2155116135081407\n",
      "[01-07 15:52:31][DEBUG] jax_fem: Solving linear system...\n",
      "[01-07 15:52:31][DEBUG] jax_fem: JAX Solver - Solving linear system\n",
      "[01-07 15:52:33][DEBUG] jax_fem: JAX Solver - Finshed solving, res = 9.37444922273177e-11\n",
      "[01-07 15:52:33][DEBUG] jax_fem: Computing cell Jacobian and cell residual...\n",
      "[01-07 15:52:33][DEBUG] jax_fem: Function split_and_compute_cell took 0.2904 seconds\n",
      "[01-07 15:52:33][DEBUG] jax_fem: Creating sparse matrix with scipy...\n",
      "[01-07 15:52:33][DEBUG] jax_fem: res l_2 = 0.007491676514405664\n",
      "[01-07 15:52:33][DEBUG] jax_fem: Solving linear system...\n",
      "[01-07 15:52:33][DEBUG] jax_fem: JAX Solver - Solving linear system\n",
      "[01-07 15:52:35][DEBUG] jax_fem: JAX Solver - Finshed solving, res = 9.241680245374289e-11\n",
      "[01-07 15:52:35][DEBUG] jax_fem: Computing cell Jacobian and cell residual...\n",
      "[01-07 15:52:35][DEBUG] jax_fem: Function split_and_compute_cell took 0.2827 seconds\n",
      "[01-07 15:52:35][DEBUG] jax_fem: Creating sparse matrix with scipy...\n",
      "[01-07 15:52:36][DEBUG] jax_fem: res l_2 = 0.00011585007158796873\n",
      "[01-07 15:52:36][DEBUG] jax_fem: Solving linear system...\n",
      "[01-07 15:52:36][DEBUG] jax_fem: JAX Solver - Solving linear system\n",
      "[01-07 15:52:37][DEBUG] jax_fem: JAX Solver - Finshed solving, res = 8.23477777261099e-11\n",
      "[01-07 15:52:37][DEBUG] jax_fem: Computing cell Jacobian and cell residual...\n",
      "[01-07 15:52:37][DEBUG] jax_fem: Function split_and_compute_cell took 0.2334 seconds\n",
      "[01-07 15:52:37][DEBUG] jax_fem: Creating sparse matrix with scipy...\n",
      "[01-07 15:52:38][DEBUG] jax_fem: res l_2 = 6.081964370061175e-08\n",
      "[01-07 15:52:38][INFO] jax_fem: Solve took 6.956099033355713 [s]\n",
      "[01-07 15:52:38][DEBUG] jax_fem: max of dofs = 7.091542385900084e-07\n",
      "[01-07 15:52:38][DEBUG] jax_fem: min of dofs = -6.039346907754347e-07\n",
      "[01-07 15:52:38][DEBUG] jax_fem: Calling the row elimination solver for imposing Dirichlet B.C.\n",
      "[01-07 15:52:38][DEBUG] jax_fem: Start timing\n",
      "[01-07 15:52:38][DEBUG] jax_fem: Computing cell Jacobian and cell residual...\n",
      "[01-07 15:52:38][DEBUG] jax_fem: Function split_and_compute_cell took 0.0314 seconds\n",
      "[01-07 15:52:38][DEBUG] jax_fem: Creating sparse matrix with scipy...\n",
      "[01-07 15:52:38][DEBUG] jax_fem: Before, res l_2 = 13887.68076474563\n",
      "[01-07 15:52:38][DEBUG] jax_fem: Solving linear system...\n",
      "[01-07 15:52:38][DEBUG] jax_fem: JAX Solver - Solving linear system\n"
     ]
    },
    {
     "name": "stdout",
     "output_type": "stream",
     "text": [
      "max f_plus = 128219172.59207416, max stress_xx = 276625993.17907846\n",
      "\n",
      "Step 191, total step = 500, laser_x = 0.000316, Lx = 0.0005, laser ON = True\n"
     ]
    },
    {
     "name": "stderr",
     "output_type": "stream",
     "text": [
      "[01-07 15:52:38][DEBUG] jax_fem: JAX Solver - Finshed solving, res = 4.5769853645977955e-07\n",
      "[01-07 15:52:38][DEBUG] jax_fem: Computing cell Jacobian and cell residual...\n",
      "[01-07 15:52:38][DEBUG] jax_fem: Function split_and_compute_cell took 0.0370 seconds\n",
      "[01-07 15:52:38][DEBUG] jax_fem: Creating sparse matrix with scipy...\n",
      "[01-07 15:52:38][DEBUG] jax_fem: res l_2 = 4.576985384045442e-07\n",
      "[01-07 15:52:38][INFO] jax_fem: Solve took 0.5817904472351074 [s]\n",
      "[01-07 15:52:38][DEBUG] jax_fem: max of dofs = 15071.720612596391\n",
      "[01-07 15:52:38][DEBUG] jax_fem: min of dofs = 299.99996853745347\n",
      "[01-07 15:52:38][DEBUG] jax_fem: Calling the row elimination solver for imposing Dirichlet B.C.\n",
      "[01-07 15:52:38][DEBUG] jax_fem: Start timing\n",
      "[01-07 15:52:38][DEBUG] jax_fem: Computing cell Jacobian and cell residual...\n",
      "[01-07 15:52:38][DEBUG] jax_fem: Function split_and_compute_cell took 0.0388 seconds\n",
      "[01-07 15:52:38][DEBUG] jax_fem: Creating sparse matrix with scipy...\n",
      "[01-07 15:52:38][DEBUG] jax_fem: Before, res l_2 = 13887.683328035993\n",
      "[01-07 15:52:38][DEBUG] jax_fem: Solving linear system...\n",
      "[01-07 15:52:38][DEBUG] jax_fem: JAX Solver - Solving linear system\n"
     ]
    },
    {
     "name": "stdout",
     "output_type": "stream",
     "text": [
      "\n",
      "Step 192, total step = 500, laser_x = 0.000317, Lx = 0.0005, laser ON = True\n"
     ]
    },
    {
     "name": "stderr",
     "output_type": "stream",
     "text": [
      "[01-07 15:52:39][DEBUG] jax_fem: JAX Solver - Finshed solving, res = 4.585000288888448e-07\n",
      "[01-07 15:52:39][DEBUG] jax_fem: Computing cell Jacobian and cell residual...\n",
      "[01-07 15:52:39][DEBUG] jax_fem: Function split_and_compute_cell took 0.0380 seconds\n",
      "[01-07 15:52:39][DEBUG] jax_fem: Creating sparse matrix with scipy...\n",
      "[01-07 15:52:39][DEBUG] jax_fem: res l_2 = 4.585000356736661e-07\n",
      "[01-07 15:52:39][INFO] jax_fem: Solve took 0.5741086006164551 [s]\n",
      "[01-07 15:52:39][DEBUG] jax_fem: max of dofs = 15051.747862665485\n",
      "[01-07 15:52:39][DEBUG] jax_fem: min of dofs = 299.99996836754246\n",
      "[01-07 15:52:39][DEBUG] jax_fem: Calling the row elimination solver for imposing Dirichlet B.C.\n",
      "[01-07 15:52:39][DEBUG] jax_fem: Start timing\n",
      "[01-07 15:52:39][DEBUG] jax_fem: Computing cell Jacobian and cell residual...\n",
      "[01-07 15:52:39][DEBUG] jax_fem: Function split_and_compute_cell took 0.0343 seconds\n",
      "[01-07 15:52:39][DEBUG] jax_fem: Creating sparse matrix with scipy...\n",
      "[01-07 15:52:39][DEBUG] jax_fem: Before, res l_2 = 13887.68585035489\n",
      "[01-07 15:52:39][DEBUG] jax_fem: Solving linear system...\n",
      "[01-07 15:52:39][DEBUG] jax_fem: JAX Solver - Solving linear system\n"
     ]
    },
    {
     "name": "stdout",
     "output_type": "stream",
     "text": [
      "\n",
      "Step 193, total step = 500, laser_x = 0.00031800000000000003, Lx = 0.0005, laser ON = True\n"
     ]
    },
    {
     "name": "stderr",
     "output_type": "stream",
     "text": [
      "[01-07 15:52:39][DEBUG] jax_fem: JAX Solver - Finshed solving, res = 4.593161222619994e-07\n",
      "[01-07 15:52:39][DEBUG] jax_fem: Computing cell Jacobian and cell residual...\n",
      "[01-07 15:52:39][DEBUG] jax_fem: Function split_and_compute_cell took 0.0585 seconds\n",
      "[01-07 15:52:39][DEBUG] jax_fem: Creating sparse matrix with scipy...\n",
      "[01-07 15:52:39][DEBUG] jax_fem: res l_2 = 4.5931612219466154e-07\n",
      "[01-07 15:52:39][INFO] jax_fem: Solve took 0.6857082843780518 [s]\n",
      "[01-07 15:52:39][DEBUG] jax_fem: max of dofs = 15021.31805553209\n",
      "[01-07 15:52:39][DEBUG] jax_fem: min of dofs = 299.9999681932439\n",
      "[01-07 15:52:39][DEBUG] jax_fem: Calling the row elimination solver for imposing Dirichlet B.C.\n",
      "[01-07 15:52:39][DEBUG] jax_fem: Start timing\n",
      "[01-07 15:52:39][DEBUG] jax_fem: Computing cell Jacobian and cell residual...\n",
      "[01-07 15:52:40][DEBUG] jax_fem: Function split_and_compute_cell took 0.0350 seconds\n",
      "[01-07 15:52:40][DEBUG] jax_fem: Creating sparse matrix with scipy...\n",
      "[01-07 15:52:40][DEBUG] jax_fem: Before, res l_2 = 13887.68833242121\n",
      "[01-07 15:52:40][DEBUG] jax_fem: Solving linear system...\n",
      "[01-07 15:52:40][DEBUG] jax_fem: JAX Solver - Solving linear system\n"
     ]
    },
    {
     "name": "stdout",
     "output_type": "stream",
     "text": [
      "\n",
      "Step 194, total step = 500, laser_x = 0.000319, Lx = 0.0005, laser ON = True\n"
     ]
    },
    {
     "name": "stderr",
     "output_type": "stream",
     "text": [
      "[01-07 15:52:40][DEBUG] jax_fem: JAX Solver - Finshed solving, res = 4.59803391410146e-07\n",
      "[01-07 15:52:40][DEBUG] jax_fem: Computing cell Jacobian and cell residual...\n",
      "[01-07 15:52:40][DEBUG] jax_fem: Function split_and_compute_cell took 0.0423 seconds\n",
      "[01-07 15:52:40][DEBUG] jax_fem: Creating sparse matrix with scipy...\n",
      "[01-07 15:52:40][DEBUG] jax_fem: res l_2 = 4.598033907649192e-07\n",
      "[01-07 15:52:40][INFO] jax_fem: Solve took 0.6164777278900146 [s]\n",
      "[01-07 15:52:40][DEBUG] jax_fem: max of dofs = 14980.823915390822\n",
      "[01-07 15:52:40][DEBUG] jax_fem: min of dofs = 299.99996801738877\n",
      "[01-07 15:52:40][DEBUG] jax_fem: Calling the row elimination solver for imposing Dirichlet B.C.\n",
      "[01-07 15:52:40][DEBUG] jax_fem: Start timing\n",
      "[01-07 15:52:40][DEBUG] jax_fem: Computing cell Jacobian and cell residual...\n",
      "[01-07 15:52:40][DEBUG] jax_fem: Function split_and_compute_cell took 0.0321 seconds\n",
      "[01-07 15:52:40][DEBUG] jax_fem: Creating sparse matrix with scipy...\n",
      "[01-07 15:52:40][DEBUG] jax_fem: Before, res l_2 = 13887.690774940009\n",
      "[01-07 15:52:40][DEBUG] jax_fem: Solving linear system...\n",
      "[01-07 15:52:40][DEBUG] jax_fem: JAX Solver - Solving linear system\n"
     ]
    },
    {
     "name": "stdout",
     "output_type": "stream",
     "text": [
      "\n",
      "Step 195, total step = 500, laser_x = 0.00031999999999999997, Lx = 0.0005, laser ON = True\n"
     ]
    },
    {
     "name": "stderr",
     "output_type": "stream",
     "text": [
      "[01-07 15:52:41][DEBUG] jax_fem: JAX Solver - Finshed solving, res = 4.597468342502825e-07\n",
      "[01-07 15:52:41][DEBUG] jax_fem: Computing cell Jacobian and cell residual...\n",
      "[01-07 15:52:41][DEBUG] jax_fem: Function split_and_compute_cell took 0.0344 seconds\n",
      "[01-07 15:52:41][DEBUG] jax_fem: Creating sparse matrix with scipy...\n",
      "[01-07 15:52:41][DEBUG] jax_fem: res l_2 = 4.5974683275384653e-07\n",
      "[01-07 15:52:41][INFO] jax_fem: Solve took 0.5501129627227783 [s]\n",
      "[01-07 15:52:41][DEBUG] jax_fem: max of dofs = 14952.20756409633\n",
      "[01-07 15:52:41][DEBUG] jax_fem: min of dofs = 299.9999678441371\n",
      "[01-07 15:52:41][DEBUG] jax_fem: Calling the row elimination solver for imposing Dirichlet B.C.\n",
      "[01-07 15:52:41][DEBUG] jax_fem: Start timing\n",
      "[01-07 15:52:41][DEBUG] jax_fem: Computing cell Jacobian and cell residual...\n",
      "[01-07 15:52:41][DEBUG] jax_fem: Function split_and_compute_cell took 0.0397 seconds\n",
      "[01-07 15:52:41][DEBUG] jax_fem: Creating sparse matrix with scipy...\n",
      "[01-07 15:52:41][DEBUG] jax_fem: Before, res l_2 = 13887.693178602809\n",
      "[01-07 15:52:41][DEBUG] jax_fem: Solving linear system...\n",
      "[01-07 15:52:41][DEBUG] jax_fem: JAX Solver - Solving linear system\n"
     ]
    },
    {
     "name": "stdout",
     "output_type": "stream",
     "text": [
      "\n",
      "Step 196, total step = 500, laser_x = 0.000321, Lx = 0.0005, laser ON = True\n"
     ]
    },
    {
     "name": "stderr",
     "output_type": "stream",
     "text": [
      "[01-07 15:52:41][DEBUG] jax_fem: JAX Solver - Finshed solving, res = 4.591382196031617e-07\n",
      "[01-07 15:52:41][DEBUG] jax_fem: Computing cell Jacobian and cell residual...\n",
      "[01-07 15:52:41][DEBUG] jax_fem: Function split_and_compute_cell took 0.0355 seconds\n",
      "[01-07 15:52:41][DEBUG] jax_fem: Creating sparse matrix with scipy...\n",
      "[01-07 15:52:41][DEBUG] jax_fem: res l_2 = 4.591382171986555e-07\n",
      "[01-07 15:52:41][INFO] jax_fem: Solve took 0.6240434646606445 [s]\n",
      "[01-07 15:52:41][DEBUG] jax_fem: max of dofs = 15002.27479571423\n",
      "[01-07 15:52:41][DEBUG] jax_fem: min of dofs = 299.99996767906134\n",
      "[01-07 15:52:41][DEBUG] jax_fem: Calling the row elimination solver for imposing Dirichlet B.C.\n",
      "[01-07 15:52:41][DEBUG] jax_fem: Start timing\n",
      "[01-07 15:52:41][DEBUG] jax_fem: Computing cell Jacobian and cell residual...\n",
      "[01-07 15:52:41][DEBUG] jax_fem: Function split_and_compute_cell took 0.0599 seconds\n",
      "[01-07 15:52:41][DEBUG] jax_fem: Creating sparse matrix with scipy...\n",
      "[01-07 15:52:41][DEBUG] jax_fem: Before, res l_2 = 13887.69554408787\n",
      "[01-07 15:52:41][DEBUG] jax_fem: Solving linear system...\n",
      "[01-07 15:52:41][DEBUG] jax_fem: JAX Solver - Solving linear system\n"
     ]
    },
    {
     "name": "stdout",
     "output_type": "stream",
     "text": [
      "\n",
      "Step 197, total step = 500, laser_x = 0.000322, Lx = 0.0005, laser ON = True\n"
     ]
    },
    {
     "name": "stderr",
     "output_type": "stream",
     "text": [
      "[01-07 15:52:42][DEBUG] jax_fem: JAX Solver - Finshed solving, res = 4.5817755500151557e-07\n",
      "[01-07 15:52:42][DEBUG] jax_fem: Computing cell Jacobian and cell residual...\n",
      "[01-07 15:52:42][DEBUG] jax_fem: Function split_and_compute_cell took 0.0416 seconds\n",
      "[01-07 15:52:42][DEBUG] jax_fem: Creating sparse matrix with scipy...\n",
      "[01-07 15:52:42][DEBUG] jax_fem: res l_2 = 4.5817755948922164e-07\n",
      "[01-07 15:52:42][INFO] jax_fem: Solve took 0.5801057815551758 [s]\n",
      "[01-07 15:52:42][DEBUG] jax_fem: max of dofs = 15039.90644004166\n",
      "[01-07 15:52:42][DEBUG] jax_fem: min of dofs = 299.99996752925955\n",
      "[01-07 15:52:42][DEBUG] jax_fem: Calling the row elimination solver for imposing Dirichlet B.C.\n",
      "[01-07 15:52:42][DEBUG] jax_fem: Start timing\n",
      "[01-07 15:52:42][DEBUG] jax_fem: Computing cell Jacobian and cell residual...\n",
      "[01-07 15:52:42][DEBUG] jax_fem: Function split_and_compute_cell took 0.0416 seconds\n",
      "[01-07 15:52:42][DEBUG] jax_fem: Creating sparse matrix with scipy...\n",
      "[01-07 15:52:42][DEBUG] jax_fem: Before, res l_2 = 13887.697872060486\n",
      "[01-07 15:52:42][DEBUG] jax_fem: Solving linear system...\n",
      "[01-07 15:52:42][DEBUG] jax_fem: JAX Solver - Solving linear system\n"
     ]
    },
    {
     "name": "stdout",
     "output_type": "stream",
     "text": [
      "\n",
      "Step 198, total step = 500, laser_x = 0.000323, Lx = 0.0005, laser ON = True\n"
     ]
    },
    {
     "name": "stderr",
     "output_type": "stream",
     "text": [
      "[01-07 15:52:42][DEBUG] jax_fem: JAX Solver - Finshed solving, res = 4.571994771935701e-07\n",
      "[01-07 15:52:42][DEBUG] jax_fem: Computing cell Jacobian and cell residual...\n",
      "[01-07 15:52:42][DEBUG] jax_fem: Function split_and_compute_cell took 0.0398 seconds\n",
      "[01-07 15:52:42][DEBUG] jax_fem: Creating sparse matrix with scipy...\n",
      "[01-07 15:52:42][DEBUG] jax_fem: res l_2 = 4.571994865925578e-07\n",
      "[01-07 15:52:42][INFO] jax_fem: Solve took 0.5504257678985596 [s]\n",
      "[01-07 15:52:42][DEBUG] jax_fem: max of dofs = 15065.37402250723\n",
      "[01-07 15:52:42][DEBUG] jax_fem: min of dofs = 299.9999674036137\n",
      "[01-07 15:52:42][DEBUG] jax_fem: Calling the row elimination solver for imposing Dirichlet B.C.\n",
      "[01-07 15:52:42][DEBUG] jax_fem: Start timing\n",
      "[01-07 15:52:42][DEBUG] jax_fem: Computing cell Jacobian and cell residual...\n",
      "[01-07 15:52:43][DEBUG] jax_fem: Function split_and_compute_cell took 0.0341 seconds\n",
      "[01-07 15:52:43][DEBUG] jax_fem: Creating sparse matrix with scipy...\n",
      "[01-07 15:52:43][DEBUG] jax_fem: Before, res l_2 = 13887.700163173246\n",
      "[01-07 15:52:43][DEBUG] jax_fem: Solving linear system...\n",
      "[01-07 15:52:43][DEBUG] jax_fem: JAX Solver - Solving linear system\n"
     ]
    },
    {
     "name": "stdout",
     "output_type": "stream",
     "text": [
      "\n",
      "Step 199, total step = 500, laser_x = 0.00032399999999999996, Lx = 0.0005, laser ON = True\n"
     ]
    },
    {
     "name": "stderr",
     "output_type": "stream",
     "text": [
      "[01-07 15:52:43][DEBUG] jax_fem: JAX Solver - Finshed solving, res = 4.5654873993669374e-07\n",
      "[01-07 15:52:43][DEBUG] jax_fem: Computing cell Jacobian and cell residual...\n",
      "[01-07 15:52:43][DEBUG] jax_fem: Function split_and_compute_cell took 0.0392 seconds\n",
      "[01-07 15:52:43][DEBUG] jax_fem: Creating sparse matrix with scipy...\n",
      "[01-07 15:52:43][DEBUG] jax_fem: res l_2 = 4.565487417117624e-07\n",
      "[01-07 15:52:43][INFO] jax_fem: Solve took 0.5917088985443115 [s]\n",
      "[01-07 15:52:43][DEBUG] jax_fem: max of dofs = 15078.976192537053\n",
      "[01-07 15:52:43][DEBUG] jax_fem: min of dofs = 299.9999673132702\n",
      "[01-07 15:52:43][DEBUG] jax_fem: Calling the row elimination solver for imposing Dirichlet B.C.\n",
      "[01-07 15:52:43][DEBUG] jax_fem: Start timing\n",
      "[01-07 15:52:43][DEBUG] jax_fem: Computing cell Jacobian and cell residual...\n",
      "[01-07 15:52:43][DEBUG] jax_fem: Function split_and_compute_cell took 0.0316 seconds\n",
      "[01-07 15:52:43][DEBUG] jax_fem: Creating sparse matrix with scipy...\n",
      "[01-07 15:52:43][DEBUG] jax_fem: Before, res l_2 = 13887.702418066297\n",
      "[01-07 15:52:43][DEBUG] jax_fem: Solving linear system...\n",
      "[01-07 15:52:43][DEBUG] jax_fem: JAX Solver - Solving linear system\n"
     ]
    },
    {
     "name": "stdout",
     "output_type": "stream",
     "text": [
      "\n",
      "Step 200, total step = 500, laser_x = 0.000325, Lx = 0.0005, laser ON = True\n"
     ]
    },
    {
     "name": "stderr",
     "output_type": "stream",
     "text": [
      "[01-07 15:52:44][DEBUG] jax_fem: JAX Solver - Finshed solving, res = 4.5644778439918624e-07\n",
      "[01-07 15:52:44][DEBUG] jax_fem: Computing cell Jacobian and cell residual...\n",
      "[01-07 15:52:44][DEBUG] jax_fem: Function split_and_compute_cell took 0.0429 seconds\n",
      "[01-07 15:52:44][DEBUG] jax_fem: Creating sparse matrix with scipy...\n",
      "[01-07 15:52:44][DEBUG] jax_fem: res l_2 = 4.5644779031286694e-07\n",
      "[01-07 15:52:44][INFO] jax_fem: Solve took 0.6430490016937256 [s]\n",
      "[01-07 15:52:44][DEBUG] jax_fem: max of dofs = 15081.035740346826\n",
      "[01-07 15:52:44][DEBUG] jax_fem: min of dofs = 299.9999672724254\n",
      "[01-07 15:52:44][DEBUG] jax_fem: Calling the row elimination solver for imposing Dirichlet B.C.\n",
      "[01-07 15:52:44][DEBUG] jax_fem: Start timing\n",
      "[01-07 15:52:44][DEBUG] jax_fem: Computing cell Jacobian and cell residual...\n",
      "[01-07 15:52:44][DEBUG] jax_fem: Function split_and_compute_cell took 0.2547 seconds\n",
      "[01-07 15:52:44][DEBUG] jax_fem: Creating sparse matrix with scipy...\n",
      "[01-07 15:52:44][DEBUG] jax_fem: Before, res l_2 = 0.22517094246025915\n",
      "[01-07 15:52:44][DEBUG] jax_fem: Solving linear system...\n",
      "[01-07 15:52:44][DEBUG] jax_fem: JAX Solver - Solving linear system\n",
      "[01-07 15:52:46][DEBUG] jax_fem: JAX Solver - Finshed solving, res = 7.476760389867548e-11\n",
      "[01-07 15:52:46][DEBUG] jax_fem: Computing cell Jacobian and cell residual...\n",
      "[01-07 15:52:47][DEBUG] jax_fem: Function split_and_compute_cell took 0.2491 seconds\n",
      "[01-07 15:52:47][DEBUG] jax_fem: Creating sparse matrix with scipy...\n",
      "[01-07 15:52:47][DEBUG] jax_fem: res l_2 = 0.00876568092791946\n",
      "[01-07 15:52:47][DEBUG] jax_fem: Solving linear system...\n",
      "[01-07 15:52:47][DEBUG] jax_fem: JAX Solver - Solving linear system\n",
      "[01-07 15:52:49][DEBUG] jax_fem: JAX Solver - Finshed solving, res = 8.870614395771506e-11\n",
      "[01-07 15:52:49][DEBUG] jax_fem: Computing cell Jacobian and cell residual...\n",
      "[01-07 15:52:49][DEBUG] jax_fem: Function split_and_compute_cell took 0.2952 seconds\n",
      "[01-07 15:52:49][DEBUG] jax_fem: Creating sparse matrix with scipy...\n",
      "[01-07 15:52:49][DEBUG] jax_fem: res l_2 = 0.0001743803602490396\n",
      "[01-07 15:52:49][DEBUG] jax_fem: Solving linear system...\n",
      "[01-07 15:52:49][DEBUG] jax_fem: JAX Solver - Solving linear system\n",
      "[01-07 15:52:51][DEBUG] jax_fem: JAX Solver - Finshed solving, res = 6.382818663331792e-11\n",
      "[01-07 15:52:51][DEBUG] jax_fem: Computing cell Jacobian and cell residual...\n",
      "[01-07 15:52:51][DEBUG] jax_fem: Function split_and_compute_cell took 0.2556 seconds\n",
      "[01-07 15:52:51][DEBUG] jax_fem: Creating sparse matrix with scipy...\n",
      "[01-07 15:52:51][DEBUG] jax_fem: res l_2 = 1.2346479032596716e-07\n",
      "[01-07 15:52:51][INFO] jax_fem: Solve took 7.515272378921509 [s]\n",
      "[01-07 15:52:51][DEBUG] jax_fem: max of dofs = 7.870060139526622e-07\n",
      "[01-07 15:52:51][DEBUG] jax_fem: min of dofs = -6.774219250839289e-07\n",
      "[01-07 15:52:51][DEBUG] jax_fem: Calling the row elimination solver for imposing Dirichlet B.C.\n",
      "[01-07 15:52:51][DEBUG] jax_fem: Start timing\n",
      "[01-07 15:52:51][DEBUG] jax_fem: Computing cell Jacobian and cell residual...\n",
      "[01-07 15:52:52][DEBUG] jax_fem: Function split_and_compute_cell took 0.0315 seconds\n",
      "[01-07 15:52:52][DEBUG] jax_fem: Creating sparse matrix with scipy...\n",
      "[01-07 15:52:52][DEBUG] jax_fem: Before, res l_2 = 13887.704637367622\n",
      "[01-07 15:52:52][DEBUG] jax_fem: Solving linear system...\n",
      "[01-07 15:52:52][DEBUG] jax_fem: JAX Solver - Solving linear system\n"
     ]
    },
    {
     "name": "stdout",
     "output_type": "stream",
     "text": [
      "max f_plus = 130710961.60741335, max stress_xx = 274757550.9899206\n",
      "\n",
      "Step 201, total step = 500, laser_x = 0.000326, Lx = 0.0005, laser ON = True\n"
     ]
    },
    {
     "name": "stderr",
     "output_type": "stream",
     "text": [
      "[01-07 15:52:52][DEBUG] jax_fem: JAX Solver - Finshed solving, res = 4.569079519765755e-07\n",
      "[01-07 15:52:52][DEBUG] jax_fem: Computing cell Jacobian and cell residual...\n",
      "[01-07 15:52:52][DEBUG] jax_fem: Function split_and_compute_cell took 0.0703 seconds\n",
      "[01-07 15:52:52][DEBUG] jax_fem: Creating sparse matrix with scipy...\n",
      "[01-07 15:52:52][DEBUG] jax_fem: res l_2 = 4.569079499943971e-07\n",
      "[01-07 15:52:52][INFO] jax_fem: Solve took 0.7446286678314209 [s]\n",
      "[01-07 15:52:52][DEBUG] jax_fem: max of dofs = 15071.896770213005\n",
      "[01-07 15:52:52][DEBUG] jax_fem: min of dofs = 299.99996729942234\n",
      "[01-07 15:52:52][DEBUG] jax_fem: Calling the row elimination solver for imposing Dirichlet B.C.\n",
      "[01-07 15:52:52][DEBUG] jax_fem: Start timing\n",
      "[01-07 15:52:52][DEBUG] jax_fem: Computing cell Jacobian and cell residual...\n",
      "[01-07 15:52:52][DEBUG] jax_fem: Function split_and_compute_cell took 0.0345 seconds\n",
      "[01-07 15:52:52][DEBUG] jax_fem: Creating sparse matrix with scipy...\n",
      "[01-07 15:52:52][DEBUG] jax_fem: Before, res l_2 = 13887.706821693277\n",
      "[01-07 15:52:52][DEBUG] jax_fem: Solving linear system...\n",
      "[01-07 15:52:52][DEBUG] jax_fem: JAX Solver - Solving linear system\n"
     ]
    },
    {
     "name": "stdout",
     "output_type": "stream",
     "text": [
      "\n",
      "Step 202, total step = 500, laser_x = 0.00032700000000000003, Lx = 0.0005, laser ON = True\n"
     ]
    },
    {
     "name": "stderr",
     "output_type": "stream",
     "text": [
      "[01-07 15:52:53][DEBUG] jax_fem: JAX Solver - Finshed solving, res = 4.577234641047632e-07\n",
      "[01-07 15:52:53][DEBUG] jax_fem: Computing cell Jacobian and cell residual...\n",
      "[01-07 15:52:53][DEBUG] jax_fem: Function split_and_compute_cell took 0.0444 seconds\n",
      "[01-07 15:52:53][DEBUG] jax_fem: Creating sparse matrix with scipy...\n",
      "[01-07 15:52:53][DEBUG] jax_fem: res l_2 = 4.5772346463749247e-07\n",
      "[01-07 15:52:53][INFO] jax_fem: Solve took 0.6722743511199951 [s]\n",
      "[01-07 15:52:53][DEBUG] jax_fem: max of dofs = 15051.922037059403\n",
      "[01-07 15:52:53][DEBUG] jax_fem: min of dofs = 299.9999674181355\n",
      "[01-07 15:52:53][DEBUG] jax_fem: Calling the row elimination solver for imposing Dirichlet B.C.\n",
      "[01-07 15:52:53][DEBUG] jax_fem: Start timing\n",
      "[01-07 15:52:53][DEBUG] jax_fem: Computing cell Jacobian and cell residual...\n",
      "[01-07 15:52:53][DEBUG] jax_fem: Function split_and_compute_cell took 0.0424 seconds\n",
      "[01-07 15:52:53][DEBUG] jax_fem: Creating sparse matrix with scipy...\n",
      "[01-07 15:52:53][DEBUG] jax_fem: Before, res l_2 = 13887.708971647653\n",
      "[01-07 15:52:53][DEBUG] jax_fem: Solving linear system...\n",
      "[01-07 15:52:53][DEBUG] jax_fem: JAX Solver - Solving linear system\n"
     ]
    },
    {
     "name": "stdout",
     "output_type": "stream",
     "text": [
      "\n",
      "Step 203, total step = 500, laser_x = 0.000328, Lx = 0.0005, laser ON = True\n"
     ]
    },
    {
     "name": "stderr",
     "output_type": "stream",
     "text": [
      "[01-07 15:52:54][DEBUG] jax_fem: JAX Solver - Finshed solving, res = 4.5855291901899936e-07\n",
      "[01-07 15:52:54][DEBUG] jax_fem: Computing cell Jacobian and cell residual...\n",
      "[01-07 15:52:54][DEBUG] jax_fem: Function split_and_compute_cell took 0.0392 seconds\n",
      "[01-07 15:52:54][DEBUG] jax_fem: Creating sparse matrix with scipy...\n",
      "[01-07 15:52:54][DEBUG] jax_fem: res l_2 = 4.585529202594502e-07\n",
      "[01-07 15:52:54][INFO] jax_fem: Solve took 0.7158396244049072 [s]\n",
      "[01-07 15:52:54][DEBUG] jax_fem: max of dofs = 15021.490447825312\n",
      "[01-07 15:52:54][DEBUG] jax_fem: min of dofs = 299.999967655449\n",
      "[01-07 15:52:54][DEBUG] jax_fem: Calling the row elimination solver for imposing Dirichlet B.C.\n",
      "[01-07 15:52:54][DEBUG] jax_fem: Start timing\n",
      "[01-07 15:52:54][DEBUG] jax_fem: Computing cell Jacobian and cell residual...\n",
      "[01-07 15:52:54][DEBUG] jax_fem: Function split_and_compute_cell took 0.0408 seconds\n",
      "[01-07 15:52:54][DEBUG] jax_fem: Creating sparse matrix with scipy...\n",
      "[01-07 15:52:54][DEBUG] jax_fem: Before, res l_2 = 13887.711087823709\n",
      "[01-07 15:52:54][DEBUG] jax_fem: Solving linear system...\n",
      "[01-07 15:52:54][DEBUG] jax_fem: JAX Solver - Solving linear system\n"
     ]
    },
    {
     "name": "stdout",
     "output_type": "stream",
     "text": [
      "\n",
      "Step 204, total step = 500, laser_x = 0.000329, Lx = 0.0005, laser ON = True\n"
     ]
    },
    {
     "name": "stderr",
     "output_type": "stream",
     "text": [
      "[01-07 15:52:54][DEBUG] jax_fem: JAX Solver - Finshed solving, res = 4.5905322686246247e-07\n",
      "[01-07 15:52:54][DEBUG] jax_fem: Computing cell Jacobian and cell residual...\n",
      "[01-07 15:52:54][DEBUG] jax_fem: Function split_and_compute_cell took 0.0407 seconds\n",
      "[01-07 15:52:54][DEBUG] jax_fem: Creating sparse matrix with scipy...\n",
      "[01-07 15:52:54][DEBUG] jax_fem: res l_2 = 4.5905323046442275e-07\n",
      "[01-07 15:52:54][INFO] jax_fem: Solve took 0.625462532043457 [s]\n",
      "[01-07 15:52:54][DEBUG] jax_fem: max of dofs = 14980.994724685745\n",
      "[01-07 15:52:54][DEBUG] jax_fem: min of dofs = 299.9999679230719\n",
      "[01-07 15:52:54][DEBUG] jax_fem: Calling the row elimination solver for imposing Dirichlet B.C.\n",
      "[01-07 15:52:54][DEBUG] jax_fem: Start timing\n",
      "[01-07 15:52:54][DEBUG] jax_fem: Computing cell Jacobian and cell residual...\n",
      "[01-07 15:52:54][DEBUG] jax_fem: Function split_and_compute_cell took 0.0309 seconds\n",
      "[01-07 15:52:54][DEBUG] jax_fem: Creating sparse matrix with scipy...\n",
      "[01-07 15:52:54][DEBUG] jax_fem: Before, res l_2 = 13887.713170803216\n",
      "[01-07 15:52:54][DEBUG] jax_fem: Solving linear system...\n",
      "[01-07 15:52:54][DEBUG] jax_fem: JAX Solver - Solving linear system\n"
     ]
    },
    {
     "name": "stdout",
     "output_type": "stream",
     "text": [
      "\n",
      "Step 205, total step = 500, laser_x = 0.00033, Lx = 0.0005, laser ON = True\n"
     ]
    },
    {
     "name": "stderr",
     "output_type": "stream",
     "text": [
      "[01-07 15:52:55][DEBUG] jax_fem: JAX Solver - Finshed solving, res = 4.5900983833145095e-07\n",
      "[01-07 15:52:55][DEBUG] jax_fem: Computing cell Jacobian and cell residual...\n",
      "[01-07 15:52:55][DEBUG] jax_fem: Function split_and_compute_cell took 0.0343 seconds\n",
      "[01-07 15:52:55][DEBUG] jax_fem: Creating sparse matrix with scipy...\n",
      "[01-07 15:52:55][DEBUG] jax_fem: res l_2 = 4.5900983633671584e-07\n",
      "[01-07 15:52:55][INFO] jax_fem: Solve took 0.5430924892425537 [s]\n",
      "[01-07 15:52:55][DEBUG] jax_fem: max of dofs = 14952.31756092291\n",
      "[01-07 15:52:55][DEBUG] jax_fem: min of dofs = 299.99996817890906\n",
      "[01-07 15:52:55][DEBUG] jax_fem: Calling the row elimination solver for imposing Dirichlet B.C.\n",
      "[01-07 15:52:55][DEBUG] jax_fem: Start timing\n",
      "[01-07 15:52:55][DEBUG] jax_fem: Computing cell Jacobian and cell residual...\n",
      "[01-07 15:52:55][DEBUG] jax_fem: Function split_and_compute_cell took 0.0416 seconds\n",
      "[01-07 15:52:55][DEBUG] jax_fem: Creating sparse matrix with scipy...\n",
      "[01-07 15:52:55][DEBUG] jax_fem: Before, res l_2 = 13887.715221156985\n",
      "[01-07 15:52:55][DEBUG] jax_fem: Solving linear system...\n",
      "[01-07 15:52:55][DEBUG] jax_fem: JAX Solver - Solving linear system\n"
     ]
    },
    {
     "name": "stdout",
     "output_type": "stream",
     "text": [
      "\n",
      "Step 206, total step = 500, laser_x = 0.000331, Lx = 0.0005, laser ON = True\n"
     ]
    },
    {
     "name": "stderr",
     "output_type": "stream",
     "text": [
      "[01-07 15:52:55][DEBUG] jax_fem: JAX Solver - Finshed solving, res = 4.584149800437656e-07\n",
      "[01-07 15:52:55][DEBUG] jax_fem: Computing cell Jacobian and cell residual...\n",
      "[01-07 15:52:55][DEBUG] jax_fem: Function split_and_compute_cell took 0.0345 seconds\n",
      "[01-07 15:52:55][DEBUG] jax_fem: Creating sparse matrix with scipy...\n",
      "[01-07 15:52:55][DEBUG] jax_fem: res l_2 = 4.584149776248614e-07\n",
      "[01-07 15:52:55][INFO] jax_fem: Solve took 0.5740666389465332 [s]\n",
      "[01-07 15:52:55][DEBUG] jax_fem: max of dofs = 15002.383041869949\n",
      "[01-07 15:52:55][DEBUG] jax_fem: min of dofs = 299.9999684154673\n",
      "[01-07 15:52:55][DEBUG] jax_fem: Calling the row elimination solver for imposing Dirichlet B.C.\n",
      "[01-07 15:52:55][DEBUG] jax_fem: Start timing\n",
      "[01-07 15:52:55][DEBUG] jax_fem: Computing cell Jacobian and cell residual...\n",
      "[01-07 15:52:55][DEBUG] jax_fem: Function split_and_compute_cell took 0.0366 seconds\n",
      "[01-07 15:52:56][DEBUG] jax_fem: Creating sparse matrix with scipy...\n",
      "[01-07 15:52:56][DEBUG] jax_fem: Before, res l_2 = 13887.717239445094\n",
      "[01-07 15:52:56][DEBUG] jax_fem: Solving linear system...\n",
      "[01-07 15:52:56][DEBUG] jax_fem: JAX Solver - Solving linear system\n"
     ]
    },
    {
     "name": "stdout",
     "output_type": "stream",
     "text": [
      "\n",
      "Step 207, total step = 500, laser_x = 0.000332, Lx = 0.0005, laser ON = True\n"
     ]
    },
    {
     "name": "stderr",
     "output_type": "stream",
     "text": [
      "[01-07 15:52:56][DEBUG] jax_fem: JAX Solver - Finshed solving, res = 4.574689532744705e-07\n",
      "[01-07 15:52:56][DEBUG] jax_fem: Computing cell Jacobian and cell residual...\n",
      "[01-07 15:52:56][DEBUG] jax_fem: Function split_and_compute_cell took 0.0963 seconds\n",
      "[01-07 15:52:56][DEBUG] jax_fem: Creating sparse matrix with scipy...\n",
      "[01-07 15:52:56][DEBUG] jax_fem: res l_2 = 4.5746894410623515e-07\n",
      "[01-07 15:52:56][INFO] jax_fem: Solve took 0.7446944713592529 [s]\n",
      "[01-07 15:52:56][DEBUG] jax_fem: max of dofs = 15040.01304603012\n",
      "[01-07 15:52:56][DEBUG] jax_fem: min of dofs = 299.9999686319939\n",
      "[01-07 15:52:56][DEBUG] jax_fem: Calling the row elimination solver for imposing Dirichlet B.C.\n",
      "[01-07 15:52:56][DEBUG] jax_fem: Start timing\n",
      "[01-07 15:52:56][DEBUG] jax_fem: Computing cell Jacobian and cell residual...\n",
      "[01-07 15:52:56][DEBUG] jax_fem: Function split_and_compute_cell took 0.0383 seconds\n",
      "[01-07 15:52:56][DEBUG] jax_fem: Creating sparse matrix with scipy...\n",
      "[01-07 15:52:56][DEBUG] jax_fem: Before, res l_2 = 13887.719226217107\n",
      "[01-07 15:52:56][DEBUG] jax_fem: Solving linear system...\n",
      "[01-07 15:52:56][DEBUG] jax_fem: JAX Solver - Solving linear system\n"
     ]
    },
    {
     "name": "stdout",
     "output_type": "stream",
     "text": [
      "\n",
      "Step 208, total step = 500, laser_x = 0.00033299999999999996, Lx = 0.0005, laser ON = True\n"
     ]
    },
    {
     "name": "stderr",
     "output_type": "stream",
     "text": [
      "[01-07 15:52:57][DEBUG] jax_fem: JAX Solver - Finshed solving, res = 4.565064510550575e-07\n",
      "[01-07 15:52:57][DEBUG] jax_fem: Computing cell Jacobian and cell residual...\n",
      "[01-07 15:52:57][DEBUG] jax_fem: Function split_and_compute_cell took 0.0677 seconds\n",
      "[01-07 15:52:57][DEBUG] jax_fem: Creating sparse matrix with scipy...\n",
      "[01-07 15:52:57][DEBUG] jax_fem: res l_2 = 4.5650644580190766e-07\n",
      "[01-07 15:52:57][INFO] jax_fem: Solve took 0.6708383560180664 [s]\n",
      "[01-07 15:52:57][DEBUG] jax_fem: max of dofs = 15065.479101275474\n",
      "[01-07 15:52:57][DEBUG] jax_fem: min of dofs = 299.9999688238492\n",
      "[01-07 15:52:57][DEBUG] jax_fem: Calling the row elimination solver for imposing Dirichlet B.C.\n",
      "[01-07 15:52:57][DEBUG] jax_fem: Start timing\n",
      "[01-07 15:52:57][DEBUG] jax_fem: Computing cell Jacobian and cell residual...\n",
      "[01-07 15:52:57][DEBUG] jax_fem: Function split_and_compute_cell took 0.0375 seconds\n",
      "[01-07 15:52:57][DEBUG] jax_fem: Creating sparse matrix with scipy...\n",
      "[01-07 15:52:57][DEBUG] jax_fem: Before, res l_2 = 13887.72118201229\n",
      "[01-07 15:52:57][DEBUG] jax_fem: Solving linear system...\n",
      "[01-07 15:52:57][DEBUG] jax_fem: JAX Solver - Solving linear system\n"
     ]
    },
    {
     "name": "stdout",
     "output_type": "stream",
     "text": [
      "\n",
      "Step 209, total step = 500, laser_x = 0.000334, Lx = 0.0005, laser ON = True\n"
     ]
    },
    {
     "name": "stderr",
     "output_type": "stream",
     "text": [
      "[01-07 15:52:57][DEBUG] jax_fem: JAX Solver - Finshed solving, res = 4.5587201270866907e-07\n",
      "[01-07 15:52:57][DEBUG] jax_fem: Computing cell Jacobian and cell residual...\n",
      "[01-07 15:52:57][DEBUG] jax_fem: Function split_and_compute_cell took 0.0359 seconds\n",
      "[01-07 15:52:57][DEBUG] jax_fem: Creating sparse matrix with scipy...\n",
      "[01-07 15:52:57][DEBUG] jax_fem: res l_2 = 4.5587201385800797e-07\n",
      "[01-07 15:52:57][INFO] jax_fem: Solve took 0.5847525596618652 [s]\n",
      "[01-07 15:52:57][DEBUG] jax_fem: max of dofs = 15079.079858734216\n",
      "[01-07 15:52:57][DEBUG] jax_fem: min of dofs = 299.9999689749677\n",
      "[01-07 15:52:57][DEBUG] jax_fem: Calling the row elimination solver for imposing Dirichlet B.C.\n",
      "[01-07 15:52:57][DEBUG] jax_fem: Start timing\n",
      "[01-07 15:52:57][DEBUG] jax_fem: Computing cell Jacobian and cell residual...\n",
      "[01-07 15:52:58][DEBUG] jax_fem: Function split_and_compute_cell took 0.0514 seconds\n",
      "[01-07 15:52:58][DEBUG] jax_fem: Creating sparse matrix with scipy...\n",
      "[01-07 15:52:58][DEBUG] jax_fem: Before, res l_2 = 13887.723107359834\n",
      "[01-07 15:52:58][DEBUG] jax_fem: Solving linear system...\n",
      "[01-07 15:52:58][DEBUG] jax_fem: JAX Solver - Solving linear system\n"
     ]
    },
    {
     "name": "stdout",
     "output_type": "stream",
     "text": [
      "\n",
      "Step 210, total step = 500, laser_x = 0.000335, Lx = 0.0005, laser ON = True\n"
     ]
    },
    {
     "name": "stderr",
     "output_type": "stream",
     "text": [
      "[01-07 15:52:58][DEBUG] jax_fem: JAX Solver - Finshed solving, res = 4.557877559379115e-07\n",
      "[01-07 15:52:58][DEBUG] jax_fem: Computing cell Jacobian and cell residual...\n",
      "[01-07 15:52:58][DEBUG] jax_fem: Function split_and_compute_cell took 0.0376 seconds\n",
      "[01-07 15:52:58][DEBUG] jax_fem: Creating sparse matrix with scipy...\n",
      "[01-07 15:52:58][DEBUG] jax_fem: res l_2 = 4.5578775648992787e-07\n",
      "[01-07 15:52:58][INFO] jax_fem: Solve took 0.6785621643066406 [s]\n",
      "[01-07 15:52:58][DEBUG] jax_fem: max of dofs = 15081.138109656626\n",
      "[01-07 15:52:58][DEBUG] jax_fem: min of dofs = 299.9999690680844\n",
      "[01-07 15:52:58][DEBUG] jax_fem: Calling the row elimination solver for imposing Dirichlet B.C.\n",
      "[01-07 15:52:58][DEBUG] jax_fem: Start timing\n",
      "[01-07 15:52:58][DEBUG] jax_fem: Computing cell Jacobian and cell residual...\n",
      "[01-07 15:52:59][DEBUG] jax_fem: Function split_and_compute_cell took 0.2397 seconds\n",
      "[01-07 15:52:59][DEBUG] jax_fem: Creating sparse matrix with scipy...\n",
      "[01-07 15:52:59][DEBUG] jax_fem: Before, res l_2 = 0.23288887833026664\n",
      "[01-07 15:52:59][DEBUG] jax_fem: Solving linear system...\n",
      "[01-07 15:52:59][DEBUG] jax_fem: JAX Solver - Solving linear system\n",
      "[01-07 15:53:01][DEBUG] jax_fem: JAX Solver - Finshed solving, res = 9.667070383386004e-11\n",
      "[01-07 15:53:01][DEBUG] jax_fem: Computing cell Jacobian and cell residual...\n",
      "[01-07 15:53:01][DEBUG] jax_fem: Function split_and_compute_cell took 0.2652 seconds\n",
      "[01-07 15:53:01][DEBUG] jax_fem: Creating sparse matrix with scipy...\n",
      "[01-07 15:53:01][DEBUG] jax_fem: res l_2 = 0.008871328819681437\n",
      "[01-07 15:53:01][DEBUG] jax_fem: Solving linear system...\n",
      "[01-07 15:53:01][DEBUG] jax_fem: JAX Solver - Solving linear system\n",
      "[01-07 15:53:03][DEBUG] jax_fem: JAX Solver - Finshed solving, res = 9.852404724072811e-11\n",
      "[01-07 15:53:03][DEBUG] jax_fem: Computing cell Jacobian and cell residual...\n",
      "[01-07 15:53:03][DEBUG] jax_fem: Function split_and_compute_cell took 0.2543 seconds\n",
      "[01-07 15:53:03][DEBUG] jax_fem: Creating sparse matrix with scipy...\n",
      "[01-07 15:53:04][DEBUG] jax_fem: res l_2 = 0.0004043500230570835\n",
      "[01-07 15:53:04][DEBUG] jax_fem: Solving linear system...\n",
      "[01-07 15:53:04][DEBUG] jax_fem: JAX Solver - Solving linear system\n",
      "[01-07 15:53:05][DEBUG] jax_fem: JAX Solver - Finshed solving, res = 9.29434618291376e-11\n",
      "[01-07 15:53:05][DEBUG] jax_fem: Computing cell Jacobian and cell residual...\n",
      "[01-07 15:53:05][DEBUG] jax_fem: Function split_and_compute_cell took 0.2617 seconds\n",
      "[01-07 15:53:06][DEBUG] jax_fem: Creating sparse matrix with scipy...\n",
      "[01-07 15:53:06][DEBUG] jax_fem: res l_2 = 1.339157821018263e-07\n",
      "[01-07 15:53:06][INFO] jax_fem: Solve took 7.369288682937622 [s]\n",
      "[01-07 15:53:06][DEBUG] jax_fem: max of dofs = 8.648628532469453e-07\n",
      "[01-07 15:53:06][DEBUG] jax_fem: min of dofs = -7.48243747213527e-07\n",
      "[01-07 15:53:06][DEBUG] jax_fem: Calling the row elimination solver for imposing Dirichlet B.C.\n",
      "[01-07 15:53:06][DEBUG] jax_fem: Start timing\n",
      "[01-07 15:53:06][DEBUG] jax_fem: Computing cell Jacobian and cell residual...\n",
      "[01-07 15:53:06][DEBUG] jax_fem: Function split_and_compute_cell took 0.0406 seconds\n",
      "[01-07 15:53:06][DEBUG] jax_fem: Creating sparse matrix with scipy...\n",
      "[01-07 15:53:06][DEBUG] jax_fem: Before, res l_2 = 13887.725002779041\n",
      "[01-07 15:53:06][DEBUG] jax_fem: Solving linear system...\n",
      "[01-07 15:53:06][DEBUG] jax_fem: JAX Solver - Solving linear system\n"
     ]
    },
    {
     "name": "stdout",
     "output_type": "stream",
     "text": [
      "max f_plus = 134154106.35914177, max stress_xx = 296701004.13447386\n",
      "\n",
      "Step 211, total step = 500, laser_x = 0.000336, Lx = 0.0005, laser ON = True\n"
     ]
    },
    {
     "name": "stderr",
     "output_type": "stream",
     "text": [
      "[01-07 15:53:06][DEBUG] jax_fem: JAX Solver - Finshed solving, res = 4.5626466927761074e-07\n",
      "[01-07 15:53:06][DEBUG] jax_fem: Computing cell Jacobian and cell residual...\n",
      "[01-07 15:53:06][DEBUG] jax_fem: Function split_and_compute_cell took 0.0401 seconds\n",
      "[01-07 15:53:06][DEBUG] jax_fem: Creating sparse matrix with scipy...\n",
      "[01-07 15:53:06][DEBUG] jax_fem: res l_2 = 4.562646633400329e-07\n",
      "[01-07 15:53:06][INFO] jax_fem: Solve took 0.5858325958251953 [s]\n",
      "[01-07 15:53:06][DEBUG] jax_fem: max of dofs = 15071.997958758233\n",
      "[01-07 15:53:06][DEBUG] jax_fem: min of dofs = 299.9999691208141\n",
      "[01-07 15:53:06][DEBUG] jax_fem: Calling the row elimination solver for imposing Dirichlet B.C.\n",
      "[01-07 15:53:06][DEBUG] jax_fem: Start timing\n",
      "[01-07 15:53:06][DEBUG] jax_fem: Computing cell Jacobian and cell residual...\n",
      "[01-07 15:53:06][DEBUG] jax_fem: Function split_and_compute_cell took 0.0425 seconds\n",
      "[01-07 15:53:06][DEBUG] jax_fem: Creating sparse matrix with scipy...\n",
      "[01-07 15:53:07][DEBUG] jax_fem: Before, res l_2 = 13887.726868779553\n",
      "[01-07 15:53:07][DEBUG] jax_fem: Solving linear system...\n",
      "[01-07 15:53:07][DEBUG] jax_fem: JAX Solver - Solving linear system\n"
     ]
    },
    {
     "name": "stdout",
     "output_type": "stream",
     "text": [
      "\n",
      "Step 212, total step = 500, laser_x = 0.000337, Lx = 0.0005, laser ON = True\n"
     ]
    },
    {
     "name": "stderr",
     "output_type": "stream",
     "text": [
      "[01-07 15:53:07][DEBUG] jax_fem: JAX Solver - Finshed solving, res = 4.57096796984126e-07\n",
      "[01-07 15:53:07][DEBUG] jax_fem: Computing cell Jacobian and cell residual...\n",
      "[01-07 15:53:07][DEBUG] jax_fem: Function split_and_compute_cell took 0.0616 seconds\n",
      "[01-07 15:53:07][DEBUG] jax_fem: Creating sparse matrix with scipy...\n",
      "[01-07 15:53:07][DEBUG] jax_fem: res l_2 = 4.570968000487715e-07\n",
      "[01-07 15:53:07][INFO] jax_fem: Solve took 0.6815190315246582 [s]\n",
      "[01-07 15:53:07][DEBUG] jax_fem: max of dofs = 15052.022160875194\n",
      "[01-07 15:53:07][DEBUG] jax_fem: min of dofs = 299.9999692003117\n",
      "[01-07 15:53:07][DEBUG] jax_fem: Calling the row elimination solver for imposing Dirichlet B.C.\n",
      "[01-07 15:53:07][DEBUG] jax_fem: Start timing\n",
      "[01-07 15:53:07][DEBUG] jax_fem: Computing cell Jacobian and cell residual...\n",
      "[01-07 15:53:07][DEBUG] jax_fem: Function split_and_compute_cell took 0.0335 seconds\n",
      "[01-07 15:53:07][DEBUG] jax_fem: Creating sparse matrix with scipy...\n",
      "[01-07 15:53:07][DEBUG] jax_fem: Before, res l_2 = 13887.728705861526\n",
      "[01-07 15:53:07][DEBUG] jax_fem: Solving linear system...\n",
      "[01-07 15:53:07][DEBUG] jax_fem: JAX Solver - Solving linear system\n"
     ]
    },
    {
     "name": "stdout",
     "output_type": "stream",
     "text": [
      "\n",
      "Step 213, total step = 500, laser_x = 0.000338, Lx = 0.0005, laser ON = True\n"
     ]
    },
    {
     "name": "stderr",
     "output_type": "stream",
     "text": [
      "[01-07 15:53:08][DEBUG] jax_fem: JAX Solver - Finshed solving, res = 4.579428263954243e-07\n",
      "[01-07 15:53:08][DEBUG] jax_fem: Computing cell Jacobian and cell residual...\n",
      "[01-07 15:53:08][DEBUG] jax_fem: Function split_and_compute_cell took 0.0349 seconds\n",
      "[01-07 15:53:08][DEBUG] jax_fem: Creating sparse matrix with scipy...\n",
      "[01-07 15:53:08][DEBUG] jax_fem: res l_2 = 4.5794283082111774e-07\n",
      "[01-07 15:53:08][INFO] jax_fem: Solve took 0.5780506134033203 [s]\n",
      "[01-07 15:53:08][DEBUG] jax_fem: max of dofs = 15021.589622397356\n",
      "[01-07 15:53:08][DEBUG] jax_fem: min of dofs = 299.9999693257538\n",
      "[01-07 15:53:08][DEBUG] jax_fem: Calling the row elimination solver for imposing Dirichlet B.C.\n",
      "[01-07 15:53:08][DEBUG] jax_fem: Start timing\n",
      "[01-07 15:53:08][DEBUG] jax_fem: Computing cell Jacobian and cell residual...\n",
      "[01-07 15:53:08][DEBUG] jax_fem: Function split_and_compute_cell took 0.0422 seconds\n",
      "[01-07 15:53:08][DEBUG] jax_fem: Creating sparse matrix with scipy...\n",
      "[01-07 15:53:08][DEBUG] jax_fem: Before, res l_2 = 13887.730514515843\n",
      "[01-07 15:53:08][DEBUG] jax_fem: Solving linear system...\n",
      "[01-07 15:53:08][DEBUG] jax_fem: JAX Solver - Solving linear system\n"
     ]
    },
    {
     "name": "stdout",
     "output_type": "stream",
     "text": [
      "\n",
      "Step 214, total step = 500, laser_x = 0.000339, Lx = 0.0005, laser ON = True\n"
     ]
    },
    {
     "name": "stderr",
     "output_type": "stream",
     "text": [
      "[01-07 15:53:08][DEBUG] jax_fem: JAX Solver - Finshed solving, res = 4.584599658091896e-07\n",
      "[01-07 15:53:08][DEBUG] jax_fem: Computing cell Jacobian and cell residual...\n",
      "[01-07 15:53:08][DEBUG] jax_fem: Function split_and_compute_cell took 0.0395 seconds\n",
      "[01-07 15:53:08][DEBUG] jax_fem: Creating sparse matrix with scipy...\n",
      "[01-07 15:53:08][DEBUG] jax_fem: res l_2 = 4.584599613734449e-07\n",
      "[01-07 15:53:08][INFO] jax_fem: Solve took 0.6085357666015625 [s]\n",
      "[01-07 15:53:08][DEBUG] jax_fem: max of dofs = 14981.093064548248\n",
      "[01-07 15:53:08][DEBUG] jax_fem: min of dofs = 299.9999695094323\n",
      "[01-07 15:53:08][DEBUG] jax_fem: Calling the row elimination solver for imposing Dirichlet B.C.\n",
      "[01-07 15:53:08][DEBUG] jax_fem: Start timing\n",
      "[01-07 15:53:08][DEBUG] jax_fem: Computing cell Jacobian and cell residual...\n",
      "[01-07 15:53:08][DEBUG] jax_fem: Function split_and_compute_cell took 0.0346 seconds\n",
      "[01-07 15:53:08][DEBUG] jax_fem: Creating sparse matrix with scipy...\n",
      "[01-07 15:53:08][DEBUG] jax_fem: Before, res l_2 = 13887.732295224283\n",
      "[01-07 15:53:08][DEBUG] jax_fem: Solving linear system...\n",
      "[01-07 15:53:08][DEBUG] jax_fem: JAX Solver - Solving linear system\n"
     ]
    },
    {
     "name": "stdout",
     "output_type": "stream",
     "text": [
      "\n",
      "Step 215, total step = 500, laser_x = 0.00034, Lx = 0.0005, laser ON = True\n"
     ]
    },
    {
     "name": "stderr",
     "output_type": "stream",
     "text": [
      "[01-07 15:53:09][DEBUG] jax_fem: JAX Solver - Finshed solving, res = 4.584340967658606e-07\n",
      "[01-07 15:53:09][DEBUG] jax_fem: Computing cell Jacobian and cell residual...\n",
      "[01-07 15:53:09][DEBUG] jax_fem: Function split_and_compute_cell took 0.0371 seconds\n",
      "[01-07 15:53:09][DEBUG] jax_fem: Creating sparse matrix with scipy...\n",
      "[01-07 15:53:09][DEBUG] jax_fem: res l_2 = 4.584340986863426e-07\n",
      "[01-07 15:53:09][INFO] jax_fem: Solve took 0.5674059391021729 [s]\n",
      "[01-07 15:53:09][DEBUG] jax_fem: max of dofs = 14952.380508735103\n",
      "[01-07 15:53:09][DEBUG] jax_fem: min of dofs = 299.9999697665202\n",
      "[01-07 15:53:09][DEBUG] jax_fem: Calling the row elimination solver for imposing Dirichlet B.C.\n",
      "[01-07 15:53:09][DEBUG] jax_fem: Start timing\n",
      "[01-07 15:53:09][DEBUG] jax_fem: Computing cell Jacobian and cell residual...\n",
      "[01-07 15:53:09][DEBUG] jax_fem: Function split_and_compute_cell took 0.0426 seconds\n",
      "[01-07 15:53:09][DEBUG] jax_fem: Creating sparse matrix with scipy...\n",
      "[01-07 15:53:09][DEBUG] jax_fem: Before, res l_2 = 13887.734048459732\n",
      "[01-07 15:53:09][DEBUG] jax_fem: Solving linear system...\n",
      "[01-07 15:53:09][DEBUG] jax_fem: JAX Solver - Solving linear system\n"
     ]
    },
    {
     "name": "stdout",
     "output_type": "stream",
     "text": [
      "\n",
      "Step 216, total step = 500, laser_x = 0.000341, Lx = 0.0005, laser ON = True\n"
     ]
    },
    {
     "name": "stderr",
     "output_type": "stream",
     "text": [
      "[01-07 15:53:09][DEBUG] jax_fem: JAX Solver - Finshed solving, res = 4.57857844747777e-07\n",
      "[01-07 15:53:09][DEBUG] jax_fem: Computing cell Jacobian and cell residual...\n",
      "[01-07 15:53:09][DEBUG] jax_fem: Function split_and_compute_cell took 0.0406 seconds\n",
      "[01-07 15:53:10][DEBUG] jax_fem: Creating sparse matrix with scipy...\n",
      "[01-07 15:53:10][DEBUG] jax_fem: res l_2 = 4.5785783877772246e-07\n",
      "[01-07 15:53:10][INFO] jax_fem: Solve took 0.610870361328125 [s]\n",
      "[01-07 15:53:10][DEBUG] jax_fem: max of dofs = 15002.445026781872\n",
      "[01-07 15:53:10][DEBUG] jax_fem: min of dofs = 299.99997011536794\n",
      "[01-07 15:53:10][DEBUG] jax_fem: Calling the row elimination solver for imposing Dirichlet B.C.\n",
      "[01-07 15:53:10][DEBUG] jax_fem: Start timing\n",
      "[01-07 15:53:10][DEBUG] jax_fem: Computing cell Jacobian and cell residual...\n",
      "[01-07 15:53:10][DEBUG] jax_fem: Function split_and_compute_cell took 0.0314 seconds\n",
      "[01-07 15:53:10][DEBUG] jax_fem: Creating sparse matrix with scipy...\n",
      "[01-07 15:53:10][DEBUG] jax_fem: Before, res l_2 = 13887.735774686327\n",
      "[01-07 15:53:10][DEBUG] jax_fem: Solving linear system...\n",
      "[01-07 15:53:10][DEBUG] jax_fem: JAX Solver - Solving linear system\n"
     ]
    },
    {
     "name": "stdout",
     "output_type": "stream",
     "text": [
      "\n",
      "Step 217, total step = 500, laser_x = 0.00034199999999999996, Lx = 0.0005, laser ON = True\n"
     ]
    },
    {
     "name": "stderr",
     "output_type": "stream",
     "text": [
      "[01-07 15:53:10][DEBUG] jax_fem: JAX Solver - Finshed solving, res = 4.569317692402551e-07\n",
      "[01-07 15:53:10][DEBUG] jax_fem: Computing cell Jacobian and cell residual...\n",
      "[01-07 15:53:10][DEBUG] jax_fem: Function split_and_compute_cell took 0.0955 seconds\n",
      "[01-07 15:53:10][DEBUG] jax_fem: Creating sparse matrix with scipy...\n",
      "[01-07 15:53:10][DEBUG] jax_fem: res l_2 = 4.569317697034108e-07\n",
      "[01-07 15:53:10][INFO] jax_fem: Solve took 0.7263987064361572 [s]\n",
      "[01-07 15:53:10][DEBUG] jax_fem: max of dofs = 15040.07413095379\n",
      "[01-07 15:53:10][DEBUG] jax_fem: min of dofs = 299.9999705778502\n",
      "[01-07 15:53:10][DEBUG] jax_fem: Calling the row elimination solver for imposing Dirichlet B.C.\n",
      "[01-07 15:53:10][DEBUG] jax_fem: Start timing\n",
      "[01-07 15:53:10][DEBUG] jax_fem: Computing cell Jacobian and cell residual...\n",
      "[01-07 15:53:10][DEBUG] jax_fem: Function split_and_compute_cell took 0.0315 seconds\n",
      "[01-07 15:53:10][DEBUG] jax_fem: Creating sparse matrix with scipy...\n",
      "[01-07 15:53:10][DEBUG] jax_fem: Before, res l_2 = 13887.737474359668\n",
      "[01-07 15:53:10][DEBUG] jax_fem: Solving linear system...\n",
      "[01-07 15:53:10][DEBUG] jax_fem: JAX Solver - Solving linear system\n"
     ]
    },
    {
     "name": "stdout",
     "output_type": "stream",
     "text": [
      "\n",
      "Step 218, total step = 500, laser_x = 0.000343, Lx = 0.0005, laser ON = True\n"
     ]
    },
    {
     "name": "stderr",
     "output_type": "stream",
     "text": [
      "[01-07 15:53:11][DEBUG] jax_fem: JAX Solver - Finshed solving, res = 4.559905535349592e-07\n",
      "[01-07 15:53:11][DEBUG] jax_fem: Computing cell Jacobian and cell residual...\n",
      "[01-07 15:53:11][DEBUG] jax_fem: Function split_and_compute_cell took 0.0363 seconds\n",
      "[01-07 15:53:11][DEBUG] jax_fem: Creating sparse matrix with scipy...\n",
      "[01-07 15:53:11][DEBUG] jax_fem: res l_2 = 4.5599055461783864e-07\n",
      "[01-07 15:53:11][INFO] jax_fem: Solve took 0.5867245197296143 [s]\n",
      "[01-07 15:53:11][DEBUG] jax_fem: max of dofs = 15065.539350619196\n",
      "[01-07 15:53:11][DEBUG] jax_fem: min of dofs = 299.99997117986715\n",
      "[01-07 15:53:11][DEBUG] jax_fem: Calling the row elimination solver for imposing Dirichlet B.C.\n",
      "[01-07 15:53:11][DEBUG] jax_fem: Start timing\n",
      "[01-07 15:53:11][DEBUG] jax_fem: Computing cell Jacobian and cell residual...\n",
      "[01-07 15:53:11][DEBUG] jax_fem: Function split_and_compute_cell took 0.0479 seconds\n",
      "[01-07 15:53:11][DEBUG] jax_fem: Creating sparse matrix with scipy...\n",
      "[01-07 15:53:11][DEBUG] jax_fem: Before, res l_2 = 13887.739147926963\n",
      "[01-07 15:53:11][DEBUG] jax_fem: Solving linear system...\n",
      "[01-07 15:53:11][DEBUG] jax_fem: JAX Solver - Solving linear system\n"
     ]
    },
    {
     "name": "stdout",
     "output_type": "stream",
     "text": [
      "\n",
      "Step 219, total step = 500, laser_x = 0.000344, Lx = 0.0005, laser ON = True\n"
     ]
    },
    {
     "name": "stderr",
     "output_type": "stream",
     "text": [
      "[01-07 15:53:11][DEBUG] jax_fem: JAX Solver - Finshed solving, res = 4.553785777156262e-07\n",
      "[01-07 15:53:11][DEBUG] jax_fem: Computing cell Jacobian and cell residual...\n",
      "[01-07 15:53:11][DEBUG] jax_fem: Function split_and_compute_cell took 0.0430 seconds\n",
      "[01-07 15:53:11][DEBUG] jax_fem: Creating sparse matrix with scipy...\n",
      "[01-07 15:53:12][DEBUG] jax_fem: res l_2 = 4.553785706712001e-07\n",
      "[01-07 15:53:12][INFO] jax_fem: Solve took 0.6110632419586182 [s]\n",
      "[01-07 15:53:12][DEBUG] jax_fem: max of dofs = 15079.13933798339\n",
      "[01-07 15:53:12][DEBUG] jax_fem: min of dofs = 299.9999719520815\n",
      "[01-07 15:53:12][DEBUG] jax_fem: Calling the row elimination solver for imposing Dirichlet B.C.\n",
      "[01-07 15:53:12][DEBUG] jax_fem: Start timing\n",
      "[01-07 15:53:12][DEBUG] jax_fem: Computing cell Jacobian and cell residual...\n",
      "[01-07 15:53:12][DEBUG] jax_fem: Function split_and_compute_cell took 0.0793 seconds\n",
      "[01-07 15:53:12][DEBUG] jax_fem: Creating sparse matrix with scipy...\n"
     ]
    },
    {
     "name": "stdout",
     "output_type": "stream",
     "text": [
      "\n",
      "Step 220, total step = 500, laser_x = 0.000345, Lx = 0.0005, laser ON = True\n"
     ]
    },
    {
     "name": "stderr",
     "output_type": "stream",
     "text": [
      "[01-07 15:53:12][DEBUG] jax_fem: Before, res l_2 = 13887.74079582721\n",
      "[01-07 15:53:12][DEBUG] jax_fem: Solving linear system...\n",
      "[01-07 15:53:12][DEBUG] jax_fem: JAX Solver - Solving linear system\n",
      "[01-07 15:53:12][DEBUG] jax_fem: JAX Solver - Finshed solving, res = 4.553176452263449e-07\n",
      "[01-07 15:53:12][DEBUG] jax_fem: Computing cell Jacobian and cell residual...\n",
      "[01-07 15:53:12][DEBUG] jax_fem: Function split_and_compute_cell took 0.0437 seconds\n",
      "[01-07 15:53:12][DEBUG] jax_fem: Creating sparse matrix with scipy...\n",
      "[01-07 15:53:12][DEBUG] jax_fem: res l_2 = 4.553176490746849e-07\n",
      "[01-07 15:53:12][INFO] jax_fem: Solve took 0.6592144966125488 [s]\n",
      "[01-07 15:53:12][DEBUG] jax_fem: max of dofs = 15081.196884995892\n",
      "[01-07 15:53:12][DEBUG] jax_fem: min of dofs = 299.99997293095294\n",
      "[01-07 15:53:12][DEBUG] jax_fem: Calling the row elimination solver for imposing Dirichlet B.C.\n",
      "[01-07 15:53:12][DEBUG] jax_fem: Start timing\n",
      "[01-07 15:53:12][DEBUG] jax_fem: Computing cell Jacobian and cell residual...\n",
      "[01-07 15:53:13][DEBUG] jax_fem: Function split_and_compute_cell took 0.2355 seconds\n",
      "[01-07 15:53:13][DEBUG] jax_fem: Creating sparse matrix with scipy...\n",
      "[01-07 15:53:13][DEBUG] jax_fem: Before, res l_2 = 0.23994271270063305\n",
      "[01-07 15:53:13][DEBUG] jax_fem: Solving linear system...\n",
      "[01-07 15:53:13][DEBUG] jax_fem: JAX Solver - Solving linear system\n",
      "[01-07 15:53:14][DEBUG] jax_fem: JAX Solver - Finshed solving, res = 9.995115627237968e-11\n",
      "[01-07 15:53:14][DEBUG] jax_fem: Computing cell Jacobian and cell residual...\n",
      "[01-07 15:53:15][DEBUG] jax_fem: Function split_and_compute_cell took 0.2423 seconds\n",
      "[01-07 15:53:15][DEBUG] jax_fem: Creating sparse matrix with scipy...\n",
      "[01-07 15:53:15][DEBUG] jax_fem: res l_2 = 0.010850116924308264\n",
      "[01-07 15:53:15][DEBUG] jax_fem: Solving linear system...\n",
      "[01-07 15:53:15][DEBUG] jax_fem: JAX Solver - Solving linear system\n",
      "[01-07 15:53:17][DEBUG] jax_fem: JAX Solver - Finshed solving, res = 8.769076386637561e-11\n",
      "[01-07 15:53:17][DEBUG] jax_fem: Computing cell Jacobian and cell residual...\n",
      "[01-07 15:53:17][DEBUG] jax_fem: Function split_and_compute_cell took 0.2471 seconds\n",
      "[01-07 15:53:17][DEBUG] jax_fem: Creating sparse matrix with scipy...\n",
      "[01-07 15:53:17][DEBUG] jax_fem: res l_2 = 0.0002877748888816869\n",
      "[01-07 15:53:17][DEBUG] jax_fem: Solving linear system...\n",
      "[01-07 15:53:17][DEBUG] jax_fem: JAX Solver - Solving linear system\n",
      "[01-07 15:53:19][DEBUG] jax_fem: JAX Solver - Finshed solving, res = 6.076673676978846e-11\n",
      "[01-07 15:53:19][DEBUG] jax_fem: Computing cell Jacobian and cell residual...\n",
      "[01-07 15:53:19][DEBUG] jax_fem: Function split_and_compute_cell took 0.2535 seconds\n",
      "[01-07 15:53:19][DEBUG] jax_fem: Creating sparse matrix with scipy...\n",
      "[01-07 15:53:19][DEBUG] jax_fem: res l_2 = 2.849591167523756e-06\n",
      "[01-07 15:53:19][DEBUG] jax_fem: Solving linear system...\n",
      "[01-07 15:53:19][DEBUG] jax_fem: JAX Solver - Solving linear system\n",
      "[01-07 15:53:20][DEBUG] jax_fem: JAX Solver - Finshed solving, res = 8.511125391541029e-11\n",
      "[01-07 15:53:20][DEBUG] jax_fem: Computing cell Jacobian and cell residual...\n",
      "[01-07 15:53:21][DEBUG] jax_fem: Function split_and_compute_cell took 0.2288 seconds\n",
      "[01-07 15:53:21][DEBUG] jax_fem: Creating sparse matrix with scipy...\n",
      "[01-07 15:53:21][DEBUG] jax_fem: res l_2 = 8.559251095519939e-11\n",
      "[01-07 15:53:21][INFO] jax_fem: Solve took 8.429849863052368 [s]\n",
      "[01-07 15:53:21][DEBUG] jax_fem: max of dofs = 9.416937186718494e-07\n",
      "[01-07 15:53:21][DEBUG] jax_fem: min of dofs = -8.162330101009601e-07\n",
      "[01-07 15:53:21][DEBUG] jax_fem: Calling the row elimination solver for imposing Dirichlet B.C.\n",
      "[01-07 15:53:21][DEBUG] jax_fem: Start timing\n",
      "[01-07 15:53:21][DEBUG] jax_fem: Computing cell Jacobian and cell residual...\n",
      "[01-07 15:53:21][DEBUG] jax_fem: Function split_and_compute_cell took 0.0293 seconds\n",
      "[01-07 15:53:21][DEBUG] jax_fem: Creating sparse matrix with scipy...\n",
      "[01-07 15:53:21][DEBUG] jax_fem: Before, res l_2 = 13887.742418491365\n",
      "[01-07 15:53:21][DEBUG] jax_fem: Solving linear system...\n",
      "[01-07 15:53:21][DEBUG] jax_fem: JAX Solver - Solving linear system\n"
     ]
    },
    {
     "name": "stdout",
     "output_type": "stream",
     "text": [
      "max f_plus = 139887421.62298834, max stress_xx = 298758814.70764583\n",
      "\n",
      "Step 221, total step = 500, laser_x = 0.00034599999999999995, Lx = 0.0005, laser ON = True\n"
     ]
    },
    {
     "name": "stderr",
     "output_type": "stream",
     "text": [
      "[01-07 15:53:22][DEBUG] jax_fem: JAX Solver - Finshed solving, res = 4.5581848112883997e-07\n",
      "[01-07 15:53:22][DEBUG] jax_fem: Computing cell Jacobian and cell residual...\n",
      "[01-07 15:53:22][DEBUG] jax_fem: Function split_and_compute_cell took 0.0430 seconds\n",
      "[01-07 15:53:22][DEBUG] jax_fem: Creating sparse matrix with scipy...\n",
      "[01-07 15:53:22][DEBUG] jax_fem: res l_2 = 4.5581848475123714e-07\n",
      "[01-07 15:53:22][INFO] jax_fem: Solve took 0.8076093196868896 [s]\n",
      "[01-07 15:53:22][DEBUG] jax_fem: max of dofs = 15072.05609673393\n",
      "[01-07 15:53:22][DEBUG] jax_fem: min of dofs = 299.99997416006454\n",
      "[01-07 15:53:22][DEBUG] jax_fem: Calling the row elimination solver for imposing Dirichlet B.C.\n",
      "[01-07 15:53:22][DEBUG] jax_fem: Start timing\n",
      "[01-07 15:53:22][DEBUG] jax_fem: Computing cell Jacobian and cell residual...\n",
      "[01-07 15:53:22][DEBUG] jax_fem: Function split_and_compute_cell took 0.0316 seconds\n",
      "[01-07 15:53:22][DEBUG] jax_fem: Creating sparse matrix with scipy...\n",
      "[01-07 15:53:22][DEBUG] jax_fem: Before, res l_2 = 13887.744016342498\n",
      "[01-07 15:53:22][DEBUG] jax_fem: Solving linear system...\n",
      "[01-07 15:53:22][DEBUG] jax_fem: JAX Solver - Solving linear system\n"
     ]
    },
    {
     "name": "stdout",
     "output_type": "stream",
     "text": [
      "\n",
      "Step 222, total step = 500, laser_x = 0.000347, Lx = 0.0005, laser ON = True\n"
     ]
    },
    {
     "name": "stderr",
     "output_type": "stream",
     "text": [
      "[01-07 15:53:22][DEBUG] jax_fem: JAX Solver - Finshed solving, res = 4.566750088304787e-07\n",
      "[01-07 15:53:22][DEBUG] jax_fem: Computing cell Jacobian and cell residual...\n",
      "[01-07 15:53:22][DEBUG] jax_fem: Function split_and_compute_cell took 0.0352 seconds\n",
      "[01-07 15:53:22][DEBUG] jax_fem: Creating sparse matrix with scipy...\n",
      "[01-07 15:53:22][DEBUG] jax_fem: res l_2 = 4.5667500757843115e-07\n",
      "[01-07 15:53:22][INFO] jax_fem: Solve took 0.5875728130340576 [s]\n",
      "[01-07 15:53:22][DEBUG] jax_fem: max of dofs = 15052.079728096138\n",
      "[01-07 15:53:22][DEBUG] jax_fem: min of dofs = 299.9999756917103\n",
      "[01-07 15:53:22][DEBUG] jax_fem: Calling the row elimination solver for imposing Dirichlet B.C.\n",
      "[01-07 15:53:22][DEBUG] jax_fem: Start timing\n",
      "[01-07 15:53:22][DEBUG] jax_fem: Computing cell Jacobian and cell residual...\n",
      "[01-07 15:53:22][DEBUG] jax_fem: Function split_and_compute_cell took 0.0313 seconds\n",
      "[01-07 15:53:22][DEBUG] jax_fem: Creating sparse matrix with scipy...\n",
      "[01-07 15:53:22][DEBUG] jax_fem: Before, res l_2 = 13887.745589795952\n",
      "[01-07 15:53:22][DEBUG] jax_fem: Solving linear system...\n",
      "[01-07 15:53:22][DEBUG] jax_fem: JAX Solver - Solving linear system\n"
     ]
    },
    {
     "name": "stdout",
     "output_type": "stream",
     "text": [
      "\n",
      "Step 223, total step = 500, laser_x = 0.000348, Lx = 0.0005, laser ON = True\n"
     ]
    },
    {
     "name": "stderr",
     "output_type": "stream",
     "text": [
      "[01-07 15:53:23][DEBUG] jax_fem: JAX Solver - Finshed solving, res = 4.575460046542463e-07\n",
      "[01-07 15:53:23][DEBUG] jax_fem: Computing cell Jacobian and cell residual...\n",
      "[01-07 15:53:23][DEBUG] jax_fem: Function split_and_compute_cell took 0.0639 seconds\n",
      "[01-07 15:53:23][DEBUG] jax_fem: Creating sparse matrix with scipy...\n",
      "[01-07 15:53:23][DEBUG] jax_fem: res l_2 = 4.575460027758399e-07\n",
      "[01-07 15:53:23][INFO] jax_fem: Solve took 0.6405320167541504 [s]\n",
      "[01-07 15:53:23][DEBUG] jax_fem: max of dofs = 15021.646685271795\n",
      "[01-07 15:53:23][DEBUG] jax_fem: min of dofs = 299.99997758867363\n",
      "[01-07 15:53:23][DEBUG] jax_fem: Calling the row elimination solver for imposing Dirichlet B.C.\n",
      "[01-07 15:53:23][DEBUG] jax_fem: Start timing\n",
      "[01-07 15:53:23][DEBUG] jax_fem: Computing cell Jacobian and cell residual...\n",
      "[01-07 15:53:23][DEBUG] jax_fem: Function split_and_compute_cell took 0.0357 seconds\n",
      "[01-07 15:53:23][DEBUG] jax_fem: Creating sparse matrix with scipy...\n",
      "[01-07 15:53:23][DEBUG] jax_fem: Before, res l_2 = 13887.7471392595\n",
      "[01-07 15:53:23][DEBUG] jax_fem: Solving linear system...\n",
      "[01-07 15:53:23][DEBUG] jax_fem: JAX Solver - Solving linear system\n"
     ]
    },
    {
     "name": "stdout",
     "output_type": "stream",
     "text": [
      "\n",
      "Step 224, total step = 500, laser_x = 0.000349, Lx = 0.0005, laser ON = True\n"
     ]
    },
    {
     "name": "stderr",
     "output_type": "stream",
     "text": [
      "[01-07 15:53:24][DEBUG] jax_fem: JAX Solver - Finshed solving, res = 4.580889170396696e-07\n",
      "[01-07 15:53:24][DEBUG] jax_fem: Computing cell Jacobian and cell residual...\n",
      "[01-07 15:53:24][DEBUG] jax_fem: Function split_and_compute_cell took 0.0717 seconds\n",
      "[01-07 15:53:24][DEBUG] jax_fem: Creating sparse matrix with scipy...\n",
      "[01-07 15:53:24][DEBUG] jax_fem: res l_2 = 4.580889199999388e-07\n",
      "[01-07 15:53:24][INFO] jax_fem: Solve took 0.8838932514190674 [s]\n",
      "[01-07 15:53:24][DEBUG] jax_fem: max of dofs = 14981.14968905465\n",
      "[01-07 15:53:24][DEBUG] jax_fem: min of dofs = 299.9999799261483\n",
      "[01-07 15:53:24][DEBUG] jax_fem: Calling the row elimination solver for imposing Dirichlet B.C.\n",
      "[01-07 15:53:24][DEBUG] jax_fem: Start timing\n",
      "[01-07 15:53:24][DEBUG] jax_fem: Computing cell Jacobian and cell residual...\n",
      "[01-07 15:53:24][DEBUG] jax_fem: Function split_and_compute_cell took 0.0529 seconds\n",
      "[01-07 15:53:24][DEBUG] jax_fem: Creating sparse matrix with scipy...\n",
      "[01-07 15:53:24][DEBUG] jax_fem: Before, res l_2 = 13887.748665133493\n",
      "[01-07 15:53:24][DEBUG] jax_fem: Solving linear system...\n",
      "[01-07 15:53:24][DEBUG] jax_fem: JAX Solver - Solving linear system\n"
     ]
    },
    {
     "name": "stdout",
     "output_type": "stream",
     "text": [
      "\n",
      "Step 225, total step = 500, laser_x = 0.00035, Lx = 0.0005, laser ON = True\n"
     ]
    },
    {
     "name": "stderr",
     "output_type": "stream",
     "text": [
      "[01-07 15:53:24][DEBUG] jax_fem: JAX Solver - Finshed solving, res = 4.5808995660403496e-07\n",
      "[01-07 15:53:24][DEBUG] jax_fem: Computing cell Jacobian and cell residual...\n",
      "[01-07 15:53:24][DEBUG] jax_fem: Function split_and_compute_cell took 0.0329 seconds\n",
      "[01-07 15:53:24][DEBUG] jax_fem: Creating sparse matrix with scipy...\n",
      "[01-07 15:53:24][DEBUG] jax_fem: res l_2 = 4.580899535943264e-07\n",
      "[01-07 15:53:24][INFO] jax_fem: Solve took 0.5766720771789551 [s]\n",
      "[01-07 15:53:24][DEBUG] jax_fem: max of dofs = 14952.416548643858\n",
      "[01-07 15:53:24][DEBUG] jax_fem: min of dofs = 299.9999827937999\n",
      "[01-07 15:53:24][DEBUG] jax_fem: Calling the row elimination solver for imposing Dirichlet B.C.\n",
      "[01-07 15:53:24][DEBUG] jax_fem: Start timing\n",
      "[01-07 15:53:24][DEBUG] jax_fem: Computing cell Jacobian and cell residual...\n",
      "[01-07 15:53:24][DEBUG] jax_fem: Function split_and_compute_cell took 0.0480 seconds\n",
      "[01-07 15:53:24][DEBUG] jax_fem: Creating sparse matrix with scipy...\n",
      "[01-07 15:53:25][DEBUG] jax_fem: Before, res l_2 = 13887.750167811007\n",
      "[01-07 15:53:25][DEBUG] jax_fem: Solving linear system...\n",
      "[01-07 15:53:25][DEBUG] jax_fem: JAX Solver - Solving linear system\n"
     ]
    },
    {
     "name": "stdout",
     "output_type": "stream",
     "text": [
      "\n",
      "Step 226, total step = 500, laser_x = 0.00035099999999999997, Lx = 0.0005, laser ON = True\n"
     ]
    },
    {
     "name": "stderr",
     "output_type": "stream",
     "text": [
      "[01-07 15:53:25][DEBUG] jax_fem: JAX Solver - Finshed solving, res = 4.5754193924060267e-07\n",
      "[01-07 15:53:25][DEBUG] jax_fem: Computing cell Jacobian and cell residual...\n",
      "[01-07 15:53:25][DEBUG] jax_fem: Function split_and_compute_cell took 0.0416 seconds\n",
      "[01-07 15:53:25][DEBUG] jax_fem: Creating sparse matrix with scipy...\n",
      "[01-07 15:53:25][DEBUG] jax_fem: res l_2 = 4.5754193731192485e-07\n",
      "[01-07 15:53:25][INFO] jax_fem: Solve took 0.6068968772888184 [s]\n",
      "[01-07 15:53:25][DEBUG] jax_fem: max of dofs = 15002.480536726789\n",
      "[01-07 15:53:25][DEBUG] jax_fem: min of dofs = 299.9999862980467\n",
      "[01-07 15:53:25][DEBUG] jax_fem: Calling the row elimination solver for imposing Dirichlet B.C.\n",
      "[01-07 15:53:25][DEBUG] jax_fem: Start timing\n",
      "[01-07 15:53:25][DEBUG] jax_fem: Computing cell Jacobian and cell residual...\n",
      "[01-07 15:53:25][DEBUG] jax_fem: Function split_and_compute_cell took 0.0330 seconds\n",
      "[01-07 15:53:25][DEBUG] jax_fem: Creating sparse matrix with scipy...\n",
      "[01-07 15:53:25][DEBUG] jax_fem: Before, res l_2 = 13887.751647677993\n",
      "[01-07 15:53:25][DEBUG] jax_fem: Solving linear system...\n",
      "[01-07 15:53:25][DEBUG] jax_fem: JAX Solver - Solving linear system\n"
     ]
    },
    {
     "name": "stdout",
     "output_type": "stream",
     "text": [
      "\n",
      "Step 227, total step = 500, laser_x = 0.000352, Lx = 0.0005, laser ON = True\n"
     ]
    },
    {
     "name": "stderr",
     "output_type": "stream",
     "text": [
      "[01-07 15:53:26][DEBUG] jax_fem: JAX Solver - Finshed solving, res = 4.566454751101823e-07\n",
      "[01-07 15:53:26][DEBUG] jax_fem: Computing cell Jacobian and cell residual...\n",
      "[01-07 15:53:26][DEBUG] jax_fem: Function split_and_compute_cell took 0.0686 seconds\n",
      "[01-07 15:53:26][DEBUG] jax_fem: Creating sparse matrix with scipy...\n",
      "[01-07 15:53:26][DEBUG] jax_fem: res l_2 = 4.56645477484228e-07\n",
      "[01-07 15:53:26][INFO] jax_fem: Solve took 0.7158770561218262 [s]\n",
      "[01-07 15:53:26][DEBUG] jax_fem: max of dofs = 15040.109146811174\n",
      "[01-07 15:53:26][DEBUG] jax_fem: min of dofs = 299.9999905646846\n",
      "[01-07 15:53:26][DEBUG] jax_fem: Calling the row elimination solver for imposing Dirichlet B.C.\n",
      "[01-07 15:53:26][DEBUG] jax_fem: Start timing\n",
      "[01-07 15:53:26][DEBUG] jax_fem: Computing cell Jacobian and cell residual...\n",
      "[01-07 15:53:26][DEBUG] jax_fem: Function split_and_compute_cell took 0.0470 seconds\n",
      "[01-07 15:53:26][DEBUG] jax_fem: Creating sparse matrix with scipy...\n",
      "[01-07 15:53:26][DEBUG] jax_fem: Before, res l_2 = 13887.753105113405\n",
      "[01-07 15:53:26][DEBUG] jax_fem: Solving linear system...\n",
      "[01-07 15:53:26][DEBUG] jax_fem: JAX Solver - Solving linear system\n"
     ]
    },
    {
     "name": "stdout",
     "output_type": "stream",
     "text": [
      "\n",
      "Step 228, total step = 500, laser_x = 0.000353, Lx = 0.0005, laser ON = True\n"
     ]
    },
    {
     "name": "stderr",
     "output_type": "stream",
     "text": [
      "[01-07 15:53:26][DEBUG] jax_fem: JAX Solver - Finshed solving, res = 4.557351185673168e-07\n",
      "[01-07 15:53:26][DEBUG] jax_fem: Computing cell Jacobian and cell residual...\n",
      "[01-07 15:53:26][DEBUG] jax_fem: Function split_and_compute_cell took 0.0398 seconds\n",
      "[01-07 15:53:26][DEBUG] jax_fem: Creating sparse matrix with scipy...\n",
      "[01-07 15:53:26][DEBUG] jax_fem: res l_2 = 4.5573512052962525e-07\n",
      "[01-07 15:53:26][INFO] jax_fem: Solve took 0.6208357810974121 [s]\n",
      "[01-07 15:53:26][DEBUG] jax_fem: max of dofs = 15065.573909176866\n",
      "[01-07 15:53:26][DEBUG] jax_fem: min of dofs = 299.9999957420255\n",
      "[01-07 15:53:26][DEBUG] jax_fem: Calling the row elimination solver for imposing Dirichlet B.C.\n",
      "[01-07 15:53:26][DEBUG] jax_fem: Start timing\n",
      "[01-07 15:53:26][DEBUG] jax_fem: Computing cell Jacobian and cell residual...\n",
      "[01-07 15:53:26][DEBUG] jax_fem: Function split_and_compute_cell took 0.0389 seconds\n",
      "[01-07 15:53:26][DEBUG] jax_fem: Creating sparse matrix with scipy...\n",
      "[01-07 15:53:27][DEBUG] jax_fem: Before, res l_2 = 13887.754540489344\n",
      "[01-07 15:53:27][DEBUG] jax_fem: Solving linear system...\n",
      "[01-07 15:53:27][DEBUG] jax_fem: JAX Solver - Solving linear system\n"
     ]
    },
    {
     "name": "stdout",
     "output_type": "stream",
     "text": [
      "\n",
      "Step 229, total step = 500, laser_x = 0.000354, Lx = 0.0005, laser ON = True\n"
     ]
    },
    {
     "name": "stderr",
     "output_type": "stream",
     "text": [
      "[01-07 15:53:27][DEBUG] jax_fem: JAX Solver - Finshed solving, res = 4.551549117119801e-07\n",
      "[01-07 15:53:27][DEBUG] jax_fem: Computing cell Jacobian and cell residual...\n",
      "[01-07 15:53:27][DEBUG] jax_fem: Function split_and_compute_cell took 0.0429 seconds\n",
      "[01-07 15:53:27][DEBUG] jax_fem: Creating sparse matrix with scipy...\n",
      "[01-07 15:53:27][DEBUG] jax_fem: res l_2 = 4.551549191907273e-07\n",
      "[01-07 15:53:27][INFO] jax_fem: Solve took 0.6154036521911621 [s]\n",
      "[01-07 15:53:27][DEBUG] jax_fem: max of dofs = 15079.173476703849\n",
      "[01-07 15:53:27][DEBUG] jax_fem: min of dofs = 300.0\n",
      "[01-07 15:53:27][DEBUG] jax_fem: Calling the row elimination solver for imposing Dirichlet B.C.\n",
      "[01-07 15:53:27][DEBUG] jax_fem: Start timing\n",
      "[01-07 15:53:27][DEBUG] jax_fem: Computing cell Jacobian and cell residual...\n",
      "[01-07 15:53:27][DEBUG] jax_fem: Function split_and_compute_cell took 0.0312 seconds\n",
      "[01-07 15:53:27][DEBUG] jax_fem: Creating sparse matrix with scipy...\n",
      "[01-07 15:53:27][DEBUG] jax_fem: Before, res l_2 = 13887.755954171202\n",
      "[01-07 15:53:27][DEBUG] jax_fem: Solving linear system...\n",
      "[01-07 15:53:27][DEBUG] jax_fem: JAX Solver - Solving linear system\n"
     ]
    },
    {
     "name": "stdout",
     "output_type": "stream",
     "text": [
      "\n",
      "Step 230, total step = 500, laser_x = 0.00035499999999999996, Lx = 0.0005, laser ON = True\n"
     ]
    },
    {
     "name": "stderr",
     "output_type": "stream",
     "text": [
      "[01-07 15:53:28][DEBUG] jax_fem: JAX Solver - Finshed solving, res = 4.551263154153598e-07\n",
      "[01-07 15:53:28][DEBUG] jax_fem: Computing cell Jacobian and cell residual...\n",
      "[01-07 15:53:28][DEBUG] jax_fem: Function split_and_compute_cell took 0.0343 seconds\n",
      "[01-07 15:53:28][DEBUG] jax_fem: Creating sparse matrix with scipy...\n",
      "[01-07 15:53:28][DEBUG] jax_fem: res l_2 = 4.5512631810879377e-07\n",
      "[01-07 15:53:28][INFO] jax_fem: Solve took 0.5925383567810059 [s]\n",
      "[01-07 15:53:28][DEBUG] jax_fem: max of dofs = 15081.230641802604\n",
      "[01-07 15:53:28][DEBUG] jax_fem: min of dofs = 300.0\n",
      "[01-07 15:53:28][DEBUG] jax_fem: Calling the row elimination solver for imposing Dirichlet B.C.\n",
      "[01-07 15:53:28][DEBUG] jax_fem: Start timing\n",
      "[01-07 15:53:28][DEBUG] jax_fem: Computing cell Jacobian and cell residual...\n",
      "[01-07 15:53:28][DEBUG] jax_fem: Function split_and_compute_cell took 0.2486 seconds\n",
      "[01-07 15:53:28][DEBUG] jax_fem: Creating sparse matrix with scipy...\n",
      "[01-07 15:53:28][DEBUG] jax_fem: Before, res l_2 = 0.24611961332789295\n",
      "[01-07 15:53:28][DEBUG] jax_fem: Solving linear system...\n",
      "[01-07 15:53:28][DEBUG] jax_fem: JAX Solver - Solving linear system\n",
      "[01-07 15:53:30][DEBUG] jax_fem: JAX Solver - Finshed solving, res = 6.73399003738385e-11\n",
      "[01-07 15:53:30][DEBUG] jax_fem: Computing cell Jacobian and cell residual...\n",
      "[01-07 15:53:30][DEBUG] jax_fem: Function split_and_compute_cell took 0.2766 seconds\n",
      "[01-07 15:53:30][DEBUG] jax_fem: Creating sparse matrix with scipy...\n",
      "[01-07 15:53:31][DEBUG] jax_fem: res l_2 = 0.011943709927681316\n",
      "[01-07 15:53:31][DEBUG] jax_fem: Solving linear system...\n",
      "[01-07 15:53:31][DEBUG] jax_fem: JAX Solver - Solving linear system\n",
      "[01-07 15:53:32][DEBUG] jax_fem: JAX Solver - Finshed solving, res = 8.870224980251395e-11\n",
      "[01-07 15:53:32][DEBUG] jax_fem: Computing cell Jacobian and cell residual...\n",
      "[01-07 15:53:33][DEBUG] jax_fem: Function split_and_compute_cell took 0.2690 seconds\n",
      "[01-07 15:53:33][DEBUG] jax_fem: Creating sparse matrix with scipy...\n",
      "[01-07 15:53:33][DEBUG] jax_fem: res l_2 = 0.00029321980040371233\n",
      "[01-07 15:53:33][DEBUG] jax_fem: Solving linear system...\n",
      "[01-07 15:53:33][DEBUG] jax_fem: JAX Solver - Solving linear system\n",
      "[01-07 15:53:35][DEBUG] jax_fem: JAX Solver - Finshed solving, res = 8.682709722815488e-11\n",
      "[01-07 15:53:35][DEBUG] jax_fem: Computing cell Jacobian and cell residual...\n",
      "[01-07 15:53:35][DEBUG] jax_fem: Function split_and_compute_cell took 0.2589 seconds\n",
      "[01-07 15:53:35][DEBUG] jax_fem: Creating sparse matrix with scipy...\n",
      "[01-07 15:53:35][DEBUG] jax_fem: res l_2 = 3.2714146903921655e-07\n",
      "[01-07 15:53:35][INFO] jax_fem: Solve took 7.312919616699219 [s]\n",
      "[01-07 15:53:35][DEBUG] jax_fem: max of dofs = 1.0168750004804544e-06\n",
      "[01-07 15:53:35][DEBUG] jax_fem: min of dofs = -8.806318282317196e-07\n",
      "[01-07 15:53:35][DEBUG] jax_fem: Calling the row elimination solver for imposing Dirichlet B.C.\n",
      "[01-07 15:53:35][DEBUG] jax_fem: Start timing\n",
      "[01-07 15:53:35][DEBUG] jax_fem: Computing cell Jacobian and cell residual...\n",
      "[01-07 15:53:35][DEBUG] jax_fem: Function split_and_compute_cell took 0.0341 seconds\n",
      "[01-07 15:53:35][DEBUG] jax_fem: Creating sparse matrix with scipy...\n",
      "[01-07 15:53:35][DEBUG] jax_fem: Before, res l_2 = 13887.757346517777\n",
      "[01-07 15:53:35][DEBUG] jax_fem: Solving linear system...\n",
      "[01-07 15:53:35][DEBUG] jax_fem: JAX Solver - Solving linear system\n"
     ]
    },
    {
     "name": "stdout",
     "output_type": "stream",
     "text": [
      "max f_plus = 144909345.31157643, max stress_xx = 320638808.19745153\n",
      "\n",
      "Step 231, total step = 500, laser_x = 0.000356, Lx = 0.0005, laser ON = True\n"
     ]
    },
    {
     "name": "stderr",
     "output_type": "stream",
     "text": [
      "[01-07 15:53:36][DEBUG] jax_fem: JAX Solver - Finshed solving, res = 4.5565974870735846e-07\n",
      "[01-07 15:53:36][DEBUG] jax_fem: Computing cell Jacobian and cell residual...\n",
      "[01-07 15:53:36][DEBUG] jax_fem: Function split_and_compute_cell took 0.0387 seconds\n",
      "[01-07 15:53:36][DEBUG] jax_fem: Creating sparse matrix with scipy...\n",
      "[01-07 15:53:36][DEBUG] jax_fem: res l_2 = 4.5565974898819695e-07\n",
      "[01-07 15:53:36][INFO] jax_fem: Solve took 0.5844454765319824 [s]\n",
      "[01-07 15:53:36][DEBUG] jax_fem: max of dofs = 15072.089509819845\n",
      "[01-07 15:53:36][DEBUG] jax_fem: min of dofs = 300.0\n",
      "[01-07 15:53:36][DEBUG] jax_fem: Calling the row elimination solver for imposing Dirichlet B.C.\n",
      "[01-07 15:53:36][DEBUG] jax_fem: Start timing\n",
      "[01-07 15:53:36][DEBUG] jax_fem: Computing cell Jacobian and cell residual...\n",
      "[01-07 15:53:36][DEBUG] jax_fem: Function split_and_compute_cell took 0.0291 seconds\n",
      "[01-07 15:53:36][DEBUG] jax_fem: Creating sparse matrix with scipy...\n",
      "[01-07 15:53:36][DEBUG] jax_fem: Before, res l_2 = 13887.758717881421\n",
      "[01-07 15:53:36][DEBUG] jax_fem: Solving linear system...\n",
      "[01-07 15:53:36][DEBUG] jax_fem: JAX Solver - Solving linear system\n"
     ]
    },
    {
     "name": "stdout",
     "output_type": "stream",
     "text": [
      "\n",
      "Step 232, total step = 500, laser_x = 0.000357, Lx = 0.0005, laser ON = True\n"
     ]
    },
    {
     "name": "stderr",
     "output_type": "stream",
     "text": [
      "[01-07 15:53:36][DEBUG] jax_fem: JAX Solver - Finshed solving, res = 4.5654898373704277e-07\n",
      "[01-07 15:53:36][DEBUG] jax_fem: Computing cell Jacobian and cell residual...\n",
      "[01-07 15:53:36][DEBUG] jax_fem: Function split_and_compute_cell took 0.0635 seconds\n",
      "[01-07 15:53:36][DEBUG] jax_fem: Creating sparse matrix with scipy...\n",
      "[01-07 15:53:37][DEBUG] jax_fem: res l_2 = 4.5654899123895476e-07\n",
      "[01-07 15:53:37][INFO] jax_fem: Solve took 0.7365841865539551 [s]\n",
      "[01-07 15:53:37][DEBUG] jax_fem: max of dofs = 15052.112835753835\n",
      "[01-07 15:53:37][DEBUG] jax_fem: min of dofs = 300.0\n",
      "[01-07 15:53:37][DEBUG] jax_fem: Calling the row elimination solver for imposing Dirichlet B.C.\n",
      "[01-07 15:53:37][DEBUG] jax_fem: Start timing\n",
      "[01-07 15:53:37][DEBUG] jax_fem: Computing cell Jacobian and cell residual...\n",
      "[01-07 15:53:37][DEBUG] jax_fem: Function split_and_compute_cell took 0.0352 seconds\n",
      "[01-07 15:53:37][DEBUG] jax_fem: Creating sparse matrix with scipy...\n",
      "[01-07 15:53:37][DEBUG] jax_fem: Before, res l_2 = 13887.760068608155\n",
      "[01-07 15:53:37][DEBUG] jax_fem: Solving linear system...\n",
      "[01-07 15:53:37][DEBUG] jax_fem: JAX Solver - Solving linear system\n"
     ]
    },
    {
     "name": "stdout",
     "output_type": "stream",
     "text": [
      "\n",
      "Step 233, total step = 500, laser_x = 0.00035800000000000003, Lx = 0.0005, laser ON = True\n"
     ]
    },
    {
     "name": "stderr",
     "output_type": "stream",
     "text": [
      "[01-07 15:53:37][DEBUG] jax_fem: JAX Solver - Finshed solving, res = 4.574527883423043e-07\n",
      "[01-07 15:53:37][DEBUG] jax_fem: Computing cell Jacobian and cell residual...\n",
      "[01-07 15:53:37][DEBUG] jax_fem: Function split_and_compute_cell took 0.0393 seconds\n",
      "[01-07 15:53:37][DEBUG] jax_fem: Creating sparse matrix with scipy...\n",
      "[01-07 15:53:37][DEBUG] jax_fem: res l_2 = 4.574527902836188e-07\n",
      "[01-07 15:53:37][INFO] jax_fem: Solve took 0.5909645557403564 [s]\n",
      "[01-07 15:53:37][DEBUG] jax_fem: max of dofs = 15021.679525743704\n",
      "[01-07 15:53:37][DEBUG] jax_fem: min of dofs = 300.0\n",
      "[01-07 15:53:37][DEBUG] jax_fem: Calling the row elimination solver for imposing Dirichlet B.C.\n",
      "[01-07 15:53:37][DEBUG] jax_fem: Start timing\n",
      "[01-07 15:53:37][DEBUG] jax_fem: Computing cell Jacobian and cell residual...\n",
      "[01-07 15:53:37][DEBUG] jax_fem: Function split_and_compute_cell took 0.0334 seconds\n",
      "[01-07 15:53:37][DEBUG] jax_fem: Creating sparse matrix with scipy...\n",
      "[01-07 15:53:37][DEBUG] jax_fem: Before, res l_2 = 13887.7613990378\n",
      "[01-07 15:53:37][DEBUG] jax_fem: Solving linear system...\n",
      "[01-07 15:53:37][DEBUG] jax_fem: JAX Solver - Solving linear system\n"
     ]
    },
    {
     "name": "stdout",
     "output_type": "stream",
     "text": [
      "\n",
      "Step 234, total step = 500, laser_x = 0.000359, Lx = 0.0005, laser ON = True\n"
     ]
    },
    {
     "name": "stderr",
     "output_type": "stream",
     "text": [
      "[01-07 15:53:38][DEBUG] jax_fem: JAX Solver - Finshed solving, res = 4.5802865615315433e-07\n",
      "[01-07 15:53:38][DEBUG] jax_fem: Computing cell Jacobian and cell residual...\n",
      "[01-07 15:53:38][DEBUG] jax_fem: Function split_and_compute_cell took 0.0544 seconds\n",
      "[01-07 15:53:38][DEBUG] jax_fem: Creating sparse matrix with scipy...\n",
      "[01-07 15:53:38][DEBUG] jax_fem: res l_2 = 4.5802865289070804e-07\n",
      "[01-07 15:53:38][INFO] jax_fem: Solve took 0.6326336860656738 [s]\n",
      "[01-07 15:53:38][DEBUG] jax_fem: max of dofs = 14981.18230040181\n",
      "[01-07 15:53:38][DEBUG] jax_fem: min of dofs = 300.0\n",
      "[01-07 15:53:38][DEBUG] jax_fem: Calling the row elimination solver for imposing Dirichlet B.C.\n",
      "[01-07 15:53:38][DEBUG] jax_fem: Start timing\n",
      "[01-07 15:53:38][DEBUG] jax_fem: Computing cell Jacobian and cell residual...\n",
      "[01-07 15:53:38][DEBUG] jax_fem: Function split_and_compute_cell took 0.0360 seconds\n",
      "[01-07 15:53:38][DEBUG] jax_fem: Creating sparse matrix with scipy...\n",
      "[01-07 15:53:38][DEBUG] jax_fem: Before, res l_2 = 13887.762709504086\n",
      "[01-07 15:53:38][DEBUG] jax_fem: Solving linear system...\n",
      "[01-07 15:53:38][DEBUG] jax_fem: JAX Solver - Solving linear system\n"
     ]
    },
    {
     "name": "stdout",
     "output_type": "stream",
     "text": [
      "\n",
      "Step 235, total step = 500, laser_x = 0.00035999999999999997, Lx = 0.0005, laser ON = True\n"
     ]
    },
    {
     "name": "stderr",
     "output_type": "stream",
     "text": [
      "[01-07 15:53:38][DEBUG] jax_fem: JAX Solver - Finshed solving, res = 4.5806279162001893e-07\n",
      "[01-07 15:53:38][DEBUG] jax_fem: Computing cell Jacobian and cell residual...\n",
      "[01-07 15:53:38][DEBUG] jax_fem: Function split_and_compute_cell took 0.0351 seconds\n",
      "[01-07 15:53:38][DEBUG] jax_fem: Creating sparse matrix with scipy...\n",
      "[01-07 15:53:38][DEBUG] jax_fem: res l_2 = 4.58062788769957e-07\n",
      "[01-07 15:53:38][INFO] jax_fem: Solve took 0.5991339683532715 [s]\n",
      "[01-07 15:53:38][DEBUG] jax_fem: max of dofs = 14952.437193403197\n",
      "[01-07 15:53:38][DEBUG] jax_fem: min of dofs = 300.0\n",
      "[01-07 15:53:38][DEBUG] jax_fem: Calling the row elimination solver for imposing Dirichlet B.C.\n",
      "[01-07 15:53:38][DEBUG] jax_fem: Start timing\n",
      "[01-07 15:53:38][DEBUG] jax_fem: Computing cell Jacobian and cell residual...\n",
      "[01-07 15:53:38][DEBUG] jax_fem: Function split_and_compute_cell took 0.0325 seconds\n",
      "[01-07 15:53:38][DEBUG] jax_fem: Creating sparse matrix with scipy...\n",
      "[01-07 15:53:38][DEBUG] jax_fem: Before, res l_2 = 13887.76400033478\n",
      "[01-07 15:53:38][DEBUG] jax_fem: Solving linear system...\n",
      "[01-07 15:53:38][DEBUG] jax_fem: JAX Solver - Solving linear system\n"
     ]
    },
    {
     "name": "stdout",
     "output_type": "stream",
     "text": [
      "\n",
      "Step 236, total step = 500, laser_x = 0.000361, Lx = 0.0005, laser ON = True\n"
     ]
    },
    {
     "name": "stderr",
     "output_type": "stream",
     "text": [
      "[01-07 15:53:39][DEBUG] jax_fem: JAX Solver - Finshed solving, res = 4.575479358897061e-07\n",
      "[01-07 15:53:39][DEBUG] jax_fem: Computing cell Jacobian and cell residual...\n",
      "[01-07 15:53:39][DEBUG] jax_fem: Function split_and_compute_cell took 0.0495 seconds\n",
      "[01-07 15:53:39][DEBUG] jax_fem: Creating sparse matrix with scipy...\n",
      "[01-07 15:53:39][DEBUG] jax_fem: res l_2 = 4.575479330417156e-07\n",
      "[01-07 15:53:39][INFO] jax_fem: Solve took 0.5840299129486084 [s]\n",
      "[01-07 15:53:39][DEBUG] jax_fem: max of dofs = 15002.50088959501\n",
      "[01-07 15:53:39][DEBUG] jax_fem: min of dofs = 300.0\n",
      "[01-07 15:53:39][DEBUG] jax_fem: Calling the row elimination solver for imposing Dirichlet B.C.\n",
      "[01-07 15:53:39][DEBUG] jax_fem: Start timing\n",
      "[01-07 15:53:39][DEBUG] jax_fem: Computing cell Jacobian and cell residual...\n",
      "[01-07 15:53:39][DEBUG] jax_fem: Function split_and_compute_cell took 0.0378 seconds\n",
      "[01-07 15:53:39][DEBUG] jax_fem: Creating sparse matrix with scipy...\n",
      "[01-07 15:53:39][DEBUG] jax_fem: Before, res l_2 = 13887.7652718518\n",
      "[01-07 15:53:39][DEBUG] jax_fem: Solving linear system...\n",
      "[01-07 15:53:39][DEBUG] jax_fem: JAX Solver - Solving linear system\n"
     ]
    },
    {
     "name": "stdout",
     "output_type": "stream",
     "text": [
      "\n",
      "Step 237, total step = 500, laser_x = 0.000362, Lx = 0.0005, laser ON = True\n"
     ]
    },
    {
     "name": "stderr",
     "output_type": "stream",
     "text": [
      "[01-07 15:53:39][DEBUG] jax_fem: JAX Solver - Finshed solving, res = 4.566843971350002e-07\n",
      "[01-07 15:53:39][DEBUG] jax_fem: Computing cell Jacobian and cell residual...\n",
      "[01-07 15:53:40][DEBUG] jax_fem: Function split_and_compute_cell took 0.0650 seconds\n",
      "[01-07 15:53:40][DEBUG] jax_fem: Creating sparse matrix with scipy...\n",
      "[01-07 15:53:40][DEBUG] jax_fem: res l_2 = 4.566843951962652e-07\n",
      "[01-07 15:53:40][INFO] jax_fem: Solve took 0.6629877090454102 [s]\n",
      "[01-07 15:53:40][DEBUG] jax_fem: max of dofs = 15040.12922828104\n",
      "[01-07 15:53:40][DEBUG] jax_fem: min of dofs = 300.0\n",
      "[01-07 15:53:40][DEBUG] jax_fem: Calling the row elimination solver for imposing Dirichlet B.C.\n",
      "[01-07 15:53:40][DEBUG] jax_fem: Start timing\n",
      "[01-07 15:53:40][DEBUG] jax_fem: Computing cell Jacobian and cell residual...\n",
      "[01-07 15:53:40][DEBUG] jax_fem: Function split_and_compute_cell took 0.0440 seconds\n",
      "[01-07 15:53:40][DEBUG] jax_fem: Creating sparse matrix with scipy...\n",
      "[01-07 15:53:40][DEBUG] jax_fem: Before, res l_2 = 13887.76652437132\n",
      "[01-07 15:53:40][DEBUG] jax_fem: Solving linear system...\n",
      "[01-07 15:53:40][DEBUG] jax_fem: JAX Solver - Solving linear system\n"
     ]
    },
    {
     "name": "stdout",
     "output_type": "stream",
     "text": [
      "\n",
      "Step 238, total step = 500, laser_x = 0.000363, Lx = 0.0005, laser ON = True\n"
     ]
    },
    {
     "name": "stderr",
     "output_type": "stream",
     "text": [
      "[01-07 15:53:40][DEBUG] jax_fem: JAX Solver - Finshed solving, res = 4.5580629952203225e-07\n",
      "[01-07 15:53:40][DEBUG] jax_fem: Computing cell Jacobian and cell residual...\n",
      "[01-07 15:53:40][DEBUG] jax_fem: Function split_and_compute_cell took 0.0490 seconds\n",
      "[01-07 15:53:40][DEBUG] jax_fem: Creating sparse matrix with scipy...\n",
      "[01-07 15:53:40][DEBUG] jax_fem: res l_2 = 4.558062895875278e-07\n",
      "[01-07 15:53:40][INFO] jax_fem: Solve took 0.7014868259429932 [s]\n",
      "[01-07 15:53:40][DEBUG] jax_fem: max of dofs = 15065.593740295237\n",
      "[01-07 15:53:40][DEBUG] jax_fem: min of dofs = 300.0\n",
      "[01-07 15:53:40][DEBUG] jax_fem: Calling the row elimination solver for imposing Dirichlet B.C.\n",
      "[01-07 15:53:40][DEBUG] jax_fem: Start timing\n",
      "[01-07 15:53:40][DEBUG] jax_fem: Computing cell Jacobian and cell residual...\n",
      "[01-07 15:53:40][DEBUG] jax_fem: Function split_and_compute_cell took 0.0418 seconds\n",
      "[01-07 15:53:40][DEBUG] jax_fem: Creating sparse matrix with scipy...\n",
      "[01-07 15:53:41][DEBUG] jax_fem: Before, res l_2 = 13887.767758203883\n",
      "[01-07 15:53:41][DEBUG] jax_fem: Solving linear system...\n",
      "[01-07 15:53:41][DEBUG] jax_fem: JAX Solver - Solving linear system\n"
     ]
    },
    {
     "name": "stdout",
     "output_type": "stream",
     "text": [
      "\n",
      "Step 239, total step = 500, laser_x = 0.00036399999999999996, Lx = 0.0005, laser ON = True\n"
     ]
    },
    {
     "name": "stderr",
     "output_type": "stream",
     "text": [
      "[01-07 15:53:41][DEBUG] jax_fem: JAX Solver - Finshed solving, res = 4.5525724976597744e-07\n",
      "[01-07 15:53:41][DEBUG] jax_fem: Computing cell Jacobian and cell residual...\n",
      "[01-07 15:53:41][DEBUG] jax_fem: Function split_and_compute_cell took 0.0661 seconds\n",
      "[01-07 15:53:41][DEBUG] jax_fem: Creating sparse matrix with scipy...\n",
      "[01-07 15:53:41][DEBUG] jax_fem: res l_2 = 4.552572536232643e-07\n",
      "[01-07 15:53:41][INFO] jax_fem: Solve took 0.694983720779419 [s]\n",
      "[01-07 15:53:41][DEBUG] jax_fem: max of dofs = 15079.193078937895\n",
      "[01-07 15:53:41][DEBUG] jax_fem: min of dofs = 300.0\n",
      "[01-07 15:53:41][DEBUG] jax_fem: Calling the row elimination solver for imposing Dirichlet B.C.\n",
      "[01-07 15:53:41][DEBUG] jax_fem: Start timing\n",
      "[01-07 15:53:41][DEBUG] jax_fem: Computing cell Jacobian and cell residual...\n",
      "[01-07 15:53:41][DEBUG] jax_fem: Function split_and_compute_cell took 0.0463 seconds\n",
      "[01-07 15:53:41][DEBUG] jax_fem: Creating sparse matrix with scipy...\n",
      "[01-07 15:53:41][DEBUG] jax_fem: Before, res l_2 = 13887.768973654516\n",
      "[01-07 15:53:41][DEBUG] jax_fem: Solving linear system...\n",
      "[01-07 15:53:41][DEBUG] jax_fem: JAX Solver - Solving linear system\n"
     ]
    },
    {
     "name": "stdout",
     "output_type": "stream",
     "text": [
      "\n",
      "Step 240, total step = 500, laser_x = 0.000365, Lx = 0.0005, laser ON = True\n"
     ]
    },
    {
     "name": "stderr",
     "output_type": "stream",
     "text": [
      "[01-07 15:53:42][DEBUG] jax_fem: JAX Solver - Finshed solving, res = 4.552583019966688e-07\n",
      "[01-07 15:53:42][DEBUG] jax_fem: Computing cell Jacobian and cell residual...\n",
      "[01-07 15:53:42][DEBUG] jax_fem: Function split_and_compute_cell took 0.0370 seconds\n",
      "[01-07 15:53:42][DEBUG] jax_fem: Creating sparse matrix with scipy...\n",
      "[01-07 15:53:42][DEBUG] jax_fem: res l_2 = 4.5525829862361317e-07\n",
      "[01-07 15:53:42][INFO] jax_fem: Solve took 0.5891313552856445 [s]\n",
      "[01-07 15:53:42][DEBUG] jax_fem: max of dofs = 15081.250036918536\n",
      "[01-07 15:53:42][DEBUG] jax_fem: min of dofs = 300.0\n",
      "[01-07 15:53:42][DEBUG] jax_fem: Calling the row elimination solver for imposing Dirichlet B.C.\n",
      "[01-07 15:53:42][DEBUG] jax_fem: Start timing\n",
      "[01-07 15:53:42][DEBUG] jax_fem: Computing cell Jacobian and cell residual...\n",
      "[01-07 15:53:42][DEBUG] jax_fem: Function split_and_compute_cell took 0.2541 seconds\n",
      "[01-07 15:53:42][DEBUG] jax_fem: Creating sparse matrix with scipy...\n",
      "[01-07 15:53:42][DEBUG] jax_fem: Before, res l_2 = 0.25292885145974914\n",
      "[01-07 15:53:42][DEBUG] jax_fem: Solving linear system...\n",
      "[01-07 15:53:42][DEBUG] jax_fem: JAX Solver - Solving linear system\n",
      "[01-07 15:53:44][DEBUG] jax_fem: JAX Solver - Finshed solving, res = 8.552827717799209e-11\n",
      "[01-07 15:53:44][DEBUG] jax_fem: Computing cell Jacobian and cell residual...\n",
      "[01-07 15:53:45][DEBUG] jax_fem: Function split_and_compute_cell took 0.2767 seconds\n",
      "[01-07 15:53:45][DEBUG] jax_fem: Creating sparse matrix with scipy...\n",
      "[01-07 15:53:45][DEBUG] jax_fem: res l_2 = 0.011881001249252234\n",
      "[01-07 15:53:45][DEBUG] jax_fem: Solving linear system...\n",
      "[01-07 15:53:45][DEBUG] jax_fem: JAX Solver - Solving linear system\n",
      "[01-07 15:53:47][DEBUG] jax_fem: JAX Solver - Finshed solving, res = 9.982015642135364e-11\n",
      "[01-07 15:53:47][DEBUG] jax_fem: Computing cell Jacobian and cell residual...\n",
      "[01-07 15:53:47][DEBUG] jax_fem: Function split_and_compute_cell took 0.2683 seconds\n",
      "[01-07 15:53:47][DEBUG] jax_fem: Creating sparse matrix with scipy...\n",
      "[01-07 15:53:47][DEBUG] jax_fem: res l_2 = 0.0002613974286532411\n",
      "[01-07 15:53:47][DEBUG] jax_fem: Solving linear system...\n",
      "[01-07 15:53:47][DEBUG] jax_fem: JAX Solver - Solving linear system\n",
      "[01-07 15:53:49][DEBUG] jax_fem: JAX Solver - Finshed solving, res = 9.783677673758062e-11\n",
      "[01-07 15:53:49][DEBUG] jax_fem: Computing cell Jacobian and cell residual...\n",
      "[01-07 15:53:49][DEBUG] jax_fem: Function split_and_compute_cell took 0.2528 seconds\n",
      "[01-07 15:53:49][DEBUG] jax_fem: Creating sparse matrix with scipy...\n",
      "[01-07 15:53:49][DEBUG] jax_fem: res l_2 = 9.751291244922187e-07\n",
      "[01-07 15:53:49][INFO] jax_fem: Solve took 7.507859230041504 [s]\n",
      "[01-07 15:53:49][DEBUG] jax_fem: max of dofs = 1.0905952288944673e-06\n",
      "[01-07 15:53:49][DEBUG] jax_fem: min of dofs = -9.422125048303062e-07\n",
      "[01-07 15:53:49][DEBUG] jax_fem: Calling the row elimination solver for imposing Dirichlet B.C.\n",
      "[01-07 15:53:49][DEBUG] jax_fem: Start timing\n",
      "[01-07 15:53:49][DEBUG] jax_fem: Computing cell Jacobian and cell residual...\n",
      "[01-07 15:53:49][DEBUG] jax_fem: Function split_and_compute_cell took 0.0340 seconds\n",
      "[01-07 15:53:50][DEBUG] jax_fem: Creating sparse matrix with scipy...\n",
      "[01-07 15:53:50][DEBUG] jax_fem: Before, res l_2 = 13887.770171022823\n",
      "[01-07 15:53:50][DEBUG] jax_fem: Solving linear system...\n",
      "[01-07 15:53:50][DEBUG] jax_fem: JAX Solver - Solving linear system\n"
     ]
    },
    {
     "name": "stdout",
     "output_type": "stream",
     "text": [
      "max f_plus = 146187228.66681004, max stress_xx = 321791952.43184847\n",
      "\n",
      "Step 241, total step = 500, laser_x = 0.000366, Lx = 0.0005, laser ON = True\n"
     ]
    },
    {
     "name": "stderr",
     "output_type": "stream",
     "text": [
      "[01-07 15:53:50][DEBUG] jax_fem: JAX Solver - Finshed solving, res = 4.558196074298273e-07\n",
      "[01-07 15:53:50][DEBUG] jax_fem: Computing cell Jacobian and cell residual...\n",
      "[01-07 15:53:50][DEBUG] jax_fem: Function split_and_compute_cell took 0.0349 seconds\n",
      "[01-07 15:53:50][DEBUG] jax_fem: Creating sparse matrix with scipy...\n",
      "[01-07 15:53:50][DEBUG] jax_fem: res l_2 = 4.5581960521452296e-07\n",
      "[01-07 15:53:50][INFO] jax_fem: Solve took 0.543065071105957 [s]\n",
      "[01-07 15:53:50][DEBUG] jax_fem: max of dofs = 15072.108719774047\n",
      "[01-07 15:53:50][DEBUG] jax_fem: min of dofs = 300.0\n",
      "[01-07 15:53:50][DEBUG] jax_fem: Calling the row elimination solver for imposing Dirichlet B.C.\n",
      "[01-07 15:53:50][DEBUG] jax_fem: Start timing\n",
      "[01-07 15:53:50][DEBUG] jax_fem: Computing cell Jacobian and cell residual...\n",
      "[01-07 15:53:50][DEBUG] jax_fem: Function split_and_compute_cell took 0.0438 seconds\n",
      "[01-07 15:53:50][DEBUG] jax_fem: Creating sparse matrix with scipy...\n",
      "[01-07 15:53:50][DEBUG] jax_fem: Before, res l_2 = 13887.771350603101\n",
      "[01-07 15:53:50][DEBUG] jax_fem: Solving linear system...\n",
      "[01-07 15:53:50][DEBUG] jax_fem: JAX Solver - Solving linear system\n"
     ]
    },
    {
     "name": "stdout",
     "output_type": "stream",
     "text": [
      "\n",
      "Step 242, total step = 500, laser_x = 0.00036700000000000003, Lx = 0.0005, laser ON = True\n"
     ]
    },
    {
     "name": "stderr",
     "output_type": "stream",
     "text": [
      "[01-07 15:53:51][DEBUG] jax_fem: JAX Solver - Finshed solving, res = 4.567348129501457e-07\n",
      "[01-07 15:53:51][DEBUG] jax_fem: Computing cell Jacobian and cell residual...\n",
      "[01-07 15:53:51][DEBUG] jax_fem: Function split_and_compute_cell took 0.0502 seconds\n",
      "[01-07 15:53:51][DEBUG] jax_fem: Creating sparse matrix with scipy...\n",
      "[01-07 15:53:51][DEBUG] jax_fem: res l_2 = 4.567348122470675e-07\n",
      "[01-07 15:53:51][INFO] jax_fem: Solve took 0.6640653610229492 [s]\n",
      "[01-07 15:53:51][DEBUG] jax_fem: max of dofs = 15052.131882595777\n",
      "[01-07 15:53:51][DEBUG] jax_fem: min of dofs = 300.0\n",
      "[01-07 15:53:51][DEBUG] jax_fem: Calling the row elimination solver for imposing Dirichlet B.C.\n",
      "[01-07 15:53:51][DEBUG] jax_fem: Start timing\n",
      "[01-07 15:53:51][DEBUG] jax_fem: Computing cell Jacobian and cell residual...\n",
      "[01-07 15:53:51][DEBUG] jax_fem: Function split_and_compute_cell took 0.0313 seconds\n",
      "[01-07 15:53:51][DEBUG] jax_fem: Creating sparse matrix with scipy...\n",
      "[01-07 15:53:51][DEBUG] jax_fem: Before, res l_2 = 13887.772512684434\n",
      "[01-07 15:53:51][DEBUG] jax_fem: Solving linear system...\n",
      "[01-07 15:53:51][DEBUG] jax_fem: JAX Solver - Solving linear system\n"
     ]
    },
    {
     "name": "stdout",
     "output_type": "stream",
     "text": [
      "\n",
      "Step 243, total step = 500, laser_x = 0.000368, Lx = 0.0005, laser ON = True\n"
     ]
    },
    {
     "name": "stderr",
     "output_type": "stream",
     "text": [
      "[01-07 15:53:51][DEBUG] jax_fem: JAX Solver - Finshed solving, res = 4.576626449381509e-07\n",
      "[01-07 15:53:51][DEBUG] jax_fem: Computing cell Jacobian and cell residual...\n",
      "[01-07 15:53:51][DEBUG] jax_fem: Function split_and_compute_cell took 0.0368 seconds\n",
      "[01-07 15:53:51][DEBUG] jax_fem: Creating sparse matrix with scipy...\n",
      "[01-07 15:53:51][DEBUG] jax_fem: res l_2 = 4.5766264729869865e-07\n",
      "[01-07 15:53:51][INFO] jax_fem: Solve took 0.6127383708953857 [s]\n",
      "[01-07 15:53:51][DEBUG] jax_fem: max of dofs = 15021.698431530102\n",
      "[01-07 15:53:51][DEBUG] jax_fem: min of dofs = 300.0\n",
      "[01-07 15:53:51][DEBUG] jax_fem: Calling the row elimination solver for imposing Dirichlet B.C.\n",
      "[01-07 15:53:51][DEBUG] jax_fem: Start timing\n",
      "[01-07 15:53:51][DEBUG] jax_fem: Computing cell Jacobian and cell residual...\n",
      "[01-07 15:53:51][DEBUG] jax_fem: Function split_and_compute_cell took 0.0302 seconds\n",
      "[01-07 15:53:51][DEBUG] jax_fem: Creating sparse matrix with scipy...\n",
      "[01-07 15:53:51][DEBUG] jax_fem: Before, res l_2 = 13887.773657550793\n",
      "[01-07 15:53:51][DEBUG] jax_fem: Solving linear system...\n",
      "[01-07 15:53:51][DEBUG] jax_fem: JAX Solver - Solving linear system\n"
     ]
    },
    {
     "name": "stdout",
     "output_type": "stream",
     "text": [
      "\n",
      "Step 244, total step = 500, laser_x = 0.00036899999999999997, Lx = 0.0005, laser ON = True\n"
     ]
    },
    {
     "name": "stderr",
     "output_type": "stream",
     "text": [
      "[01-07 15:53:52][DEBUG] jax_fem: JAX Solver - Finshed solving, res = 4.582605237022348e-07\n",
      "[01-07 15:53:52][DEBUG] jax_fem: Computing cell Jacobian and cell residual...\n",
      "[01-07 15:53:52][DEBUG] jax_fem: Function split_and_compute_cell took 0.0433 seconds\n",
      "[01-07 15:53:52][DEBUG] jax_fem: Creating sparse matrix with scipy...\n",
      "[01-07 15:53:52][DEBUG] jax_fem: res l_2 = 4.582605202042294e-07\n",
      "[01-07 15:53:52][INFO] jax_fem: Solve took 0.5787432193756104 [s]\n",
      "[01-07 15:53:52][DEBUG] jax_fem: max of dofs = 14981.201087121257\n",
      "[01-07 15:53:52][DEBUG] jax_fem: min of dofs = 300.0\n",
      "[01-07 15:53:52][DEBUG] jax_fem: Calling the row elimination solver for imposing Dirichlet B.C.\n",
      "[01-07 15:53:52][DEBUG] jax_fem: Start timing\n",
      "[01-07 15:53:52][DEBUG] jax_fem: Computing cell Jacobian and cell residual...\n",
      "[01-07 15:53:52][DEBUG] jax_fem: Function split_and_compute_cell took 0.0336 seconds\n",
      "[01-07 15:53:52][DEBUG] jax_fem: Creating sparse matrix with scipy...\n",
      "[01-07 15:53:52][DEBUG] jax_fem: Before, res l_2 = 13887.774785481126\n",
      "[01-07 15:53:52][DEBUG] jax_fem: Solving linear system...\n",
      "[01-07 15:53:52][DEBUG] jax_fem: JAX Solver - Solving linear system\n"
     ]
    },
    {
     "name": "stdout",
     "output_type": "stream",
     "text": [
      "\n",
      "Step 245, total step = 500, laser_x = 0.00037, Lx = 0.0005, laser ON = True\n"
     ]
    },
    {
     "name": "stderr",
     "output_type": "stream",
     "text": [
      "[01-07 15:53:52][DEBUG] jax_fem: JAX Solver - Finshed solving, res = 4.583145243496471e-07\n",
      "[01-07 15:53:52][DEBUG] jax_fem: Computing cell Jacobian and cell residual...\n",
      "[01-07 15:53:52][DEBUG] jax_fem: Function split_and_compute_cell took 0.0330 seconds\n",
      "[01-07 15:53:53][DEBUG] jax_fem: Creating sparse matrix with scipy...\n",
      "[01-07 15:53:53][DEBUG] jax_fem: res l_2 = 4.5831452461772745e-07\n",
      "[01-07 15:53:53][INFO] jax_fem: Solve took 0.6364736557006836 [s]\n",
      "[01-07 15:53:53][DEBUG] jax_fem: max of dofs = 14952.449025924965\n",
      "[01-07 15:53:53][DEBUG] jax_fem: min of dofs = 300.0\n",
      "[01-07 15:53:53][DEBUG] jax_fem: Calling the row elimination solver for imposing Dirichlet B.C.\n",
      "[01-07 15:53:53][DEBUG] jax_fem: Start timing\n",
      "[01-07 15:53:53][DEBUG] jax_fem: Computing cell Jacobian and cell residual...\n",
      "[01-07 15:53:53][DEBUG] jax_fem: Function split_and_compute_cell took 0.0469 seconds\n",
      "[01-07 15:53:53][DEBUG] jax_fem: Creating sparse matrix with scipy...\n",
      "[01-07 15:53:53][DEBUG] jax_fem: Before, res l_2 = 13887.775896749454\n",
      "[01-07 15:53:53][DEBUG] jax_fem: Solving linear system...\n",
      "[01-07 15:53:53][DEBUG] jax_fem: JAX Solver - Solving linear system\n"
     ]
    },
    {
     "name": "stdout",
     "output_type": "stream",
     "text": [
      "\n",
      "Step 246, total step = 500, laser_x = 0.00037099999999999996, Lx = 0.0005, laser ON = True\n"
     ]
    },
    {
     "name": "stderr",
     "output_type": "stream",
     "text": [
      "[01-07 15:53:53][DEBUG] jax_fem: JAX Solver - Finshed solving, res = 4.5781711144766444e-07\n",
      "[01-07 15:53:53][DEBUG] jax_fem: Computing cell Jacobian and cell residual...\n",
      "[01-07 15:53:53][DEBUG] jax_fem: Function split_and_compute_cell took 0.0435 seconds\n",
      "[01-07 15:53:53][DEBUG] jax_fem: Creating sparse matrix with scipy...\n",
      "[01-07 15:53:53][DEBUG] jax_fem: res l_2 = 4.578171136804324e-07\n",
      "[01-07 15:53:53][INFO] jax_fem: Solve took 0.602069616317749 [s]\n",
      "[01-07 15:53:53][DEBUG] jax_fem: max of dofs = 15002.512561231864\n",
      "[01-07 15:53:53][DEBUG] jax_fem: min of dofs = 300.0\n",
      "[01-07 15:53:53][DEBUG] jax_fem: Calling the row elimination solver for imposing Dirichlet B.C.\n",
      "[01-07 15:53:53][DEBUG] jax_fem: Start timing\n",
      "[01-07 15:53:53][DEBUG] jax_fem: Computing cell Jacobian and cell residual...\n",
      "[01-07 15:53:53][DEBUG] jax_fem: Function split_and_compute_cell took 0.0307 seconds\n",
      "[01-07 15:53:53][DEBUG] jax_fem: Creating sparse matrix with scipy...\n",
      "[01-07 15:53:53][DEBUG] jax_fem: Before, res l_2 = 13887.776991624969\n",
      "[01-07 15:53:53][DEBUG] jax_fem: Solving linear system...\n",
      "[01-07 15:53:53][DEBUG] jax_fem: JAX Solver - Solving linear system\n"
     ]
    },
    {
     "name": "stdout",
     "output_type": "stream",
     "text": [
      "\n",
      "Step 247, total step = 500, laser_x = 0.000372, Lx = 0.0005, laser ON = True\n"
     ]
    },
    {
     "name": "stderr",
     "output_type": "stream",
     "text": [
      "[01-07 15:53:54][DEBUG] jax_fem: JAX Solver - Finshed solving, res = 4.5696828724853935e-07\n",
      "[01-07 15:53:54][DEBUG] jax_fem: Computing cell Jacobian and cell residual...\n",
      "[01-07 15:53:54][DEBUG] jax_fem: Function split_and_compute_cell took 0.0575 seconds\n",
      "[01-07 15:53:54][DEBUG] jax_fem: Creating sparse matrix with scipy...\n",
      "[01-07 15:53:54][DEBUG] jax_fem: res l_2 = 4.5696828960351556e-07\n",
      "[01-07 15:53:54][INFO] jax_fem: Solve took 0.6158998012542725 [s]\n",
      "[01-07 15:53:54][DEBUG] jax_fem: max of dofs = 15040.140750762235\n",
      "[01-07 15:53:54][DEBUG] jax_fem: min of dofs = 300.0\n",
      "[01-07 15:53:54][DEBUG] jax_fem: Calling the row elimination solver for imposing Dirichlet B.C.\n",
      "[01-07 15:53:54][DEBUG] jax_fem: Start timing\n",
      "[01-07 15:53:54][DEBUG] jax_fem: Computing cell Jacobian and cell residual...\n",
      "[01-07 15:53:54][DEBUG] jax_fem: Function split_and_compute_cell took 0.0299 seconds\n",
      "[01-07 15:53:54][DEBUG] jax_fem: Creating sparse matrix with scipy...\n",
      "[01-07 15:53:54][DEBUG] jax_fem: Before, res l_2 = 13887.778070372098\n",
      "[01-07 15:53:54][DEBUG] jax_fem: Solving linear system...\n",
      "[01-07 15:53:54][DEBUG] jax_fem: JAX Solver - Solving linear system\n"
     ]
    },
    {
     "name": "stdout",
     "output_type": "stream",
     "text": [
      "\n",
      "Step 248, total step = 500, laser_x = 0.000373, Lx = 0.0005, laser ON = True\n"
     ]
    },
    {
     "name": "stderr",
     "output_type": "stream",
     "text": [
      "[01-07 15:53:54][DEBUG] jax_fem: JAX Solver - Finshed solving, res = 4.5610187009756054e-07\n",
      "[01-07 15:53:54][DEBUG] jax_fem: Computing cell Jacobian and cell residual...\n",
      "[01-07 15:53:54][DEBUG] jax_fem: Function split_and_compute_cell took 0.0469 seconds\n",
      "[01-07 15:53:54][DEBUG] jax_fem: Creating sparse matrix with scipy...\n",
      "[01-07 15:53:54][DEBUG] jax_fem: res l_2 = 4.561018656059762e-07\n",
      "[01-07 15:53:54][INFO] jax_fem: Solve took 0.5525152683258057 [s]\n",
      "[01-07 15:53:54][DEBUG] jax_fem: max of dofs = 15065.605125686418\n",
      "[01-07 15:53:54][DEBUG] jax_fem: min of dofs = 300.0\n",
      "[01-07 15:53:54][DEBUG] jax_fem: Calling the row elimination solver for imposing Dirichlet B.C.\n",
      "[01-07 15:53:54][DEBUG] jax_fem: Start timing\n",
      "[01-07 15:53:54][DEBUG] jax_fem: Computing cell Jacobian and cell residual...\n",
      "[01-07 15:53:54][DEBUG] jax_fem: Function split_and_compute_cell took 0.0443 seconds\n",
      "[01-07 15:53:54][DEBUG] jax_fem: Creating sparse matrix with scipy...\n",
      "[01-07 15:53:55][DEBUG] jax_fem: Before, res l_2 = 13887.779133250613\n",
      "[01-07 15:53:55][DEBUG] jax_fem: Solving linear system...\n",
      "[01-07 15:53:55][DEBUG] jax_fem: JAX Solver - Solving linear system\n"
     ]
    },
    {
     "name": "stdout",
     "output_type": "stream",
     "text": [
      "\n",
      "Step 249, total step = 500, laser_x = 0.000374, Lx = 0.0005, laser ON = True\n"
     ]
    },
    {
     "name": "stderr",
     "output_type": "stream",
     "text": [
      "[01-07 15:53:55][DEBUG] jax_fem: JAX Solver - Finshed solving, res = 4.5556129690817986e-07\n",
      "[01-07 15:53:55][DEBUG] jax_fem: Computing cell Jacobian and cell residual...\n",
      "[01-07 15:53:55][DEBUG] jax_fem: Function split_and_compute_cell took 0.0338 seconds\n",
      "[01-07 15:53:55][DEBUG] jax_fem: Creating sparse matrix with scipy...\n",
      "[01-07 15:53:55][DEBUG] jax_fem: res l_2 = 4.5556129212481826e-07\n",
      "[01-07 15:53:55][INFO] jax_fem: Solve took 0.7363927364349365 [s]\n",
      "[01-07 15:53:55][DEBUG] jax_fem: max of dofs = 15079.204339564738\n",
      "[01-07 15:53:55][DEBUG] jax_fem: min of dofs = 300.0\n",
      "[01-07 15:53:55][DEBUG] jax_fem: Calling the row elimination solver for imposing Dirichlet B.C.\n",
      "[01-07 15:53:55][DEBUG] jax_fem: Start timing\n",
      "[01-07 15:53:55][DEBUG] jax_fem: Computing cell Jacobian and cell residual...\n",
      "[01-07 15:53:55][DEBUG] jax_fem: Function split_and_compute_cell took 0.0390 seconds\n",
      "[01-07 15:53:55][DEBUG] jax_fem: Creating sparse matrix with scipy...\n",
      "[01-07 15:53:55][DEBUG] jax_fem: Before, res l_2 = 13887.69246272861\n",
      "[01-07 15:53:55][DEBUG] jax_fem: Solving linear system...\n",
      "[01-07 15:53:55][DEBUG] jax_fem: JAX Solver - Solving linear system\n"
     ]
    },
    {
     "name": "stdout",
     "output_type": "stream",
     "text": [
      "\n",
      "Step 250, total step = 500, laser_x = 0.000375, Lx = 0.0005, laser ON = False\n"
     ]
    },
    {
     "name": "stderr",
     "output_type": "stream",
     "text": [
      "[01-07 15:53:56][DEBUG] jax_fem: JAX Solver - Finshed solving, res = 4.6598742138620506e-07\n",
      "[01-07 15:53:56][DEBUG] jax_fem: Computing cell Jacobian and cell residual...\n",
      "[01-07 15:53:56][DEBUG] jax_fem: Function split_and_compute_cell took 0.0325 seconds\n",
      "[01-07 15:53:56][DEBUG] jax_fem: Creating sparse matrix with scipy...\n",
      "[01-07 15:53:56][DEBUG] jax_fem: res l_2 = 4.659874267009083e-07\n",
      "[01-07 15:53:56][INFO] jax_fem: Solve took 0.5473558902740479 [s]\n",
      "[01-07 15:53:56][DEBUG] jax_fem: max of dofs = 14378.913057412052\n",
      "[01-07 15:53:56][DEBUG] jax_fem: min of dofs = 300.0\n",
      "[01-07 15:53:56][DEBUG] jax_fem: Calling the row elimination solver for imposing Dirichlet B.C.\n",
      "[01-07 15:53:56][DEBUG] jax_fem: Start timing\n",
      "[01-07 15:53:56][DEBUG] jax_fem: Computing cell Jacobian and cell residual...\n",
      "[01-07 15:53:56][DEBUG] jax_fem: Function split_and_compute_cell took 0.2464 seconds\n",
      "[01-07 15:53:56][DEBUG] jax_fem: Creating sparse matrix with scipy...\n",
      "[01-07 15:53:56][DEBUG] jax_fem: Before, res l_2 = 0.2582100476919799\n",
      "[01-07 15:53:56][DEBUG] jax_fem: Solving linear system...\n",
      "[01-07 15:53:56][DEBUG] jax_fem: JAX Solver - Solving linear system\n",
      "[01-07 15:53:58][DEBUG] jax_fem: JAX Solver - Finshed solving, res = 6.440659090137138e-11\n",
      "[01-07 15:53:58][DEBUG] jax_fem: Computing cell Jacobian and cell residual...\n",
      "[01-07 15:53:58][DEBUG] jax_fem: Function split_and_compute_cell took 0.2569 seconds\n",
      "[01-07 15:53:58][DEBUG] jax_fem: Creating sparse matrix with scipy...\n",
      "[01-07 15:53:59][DEBUG] jax_fem: res l_2 = 0.01323346301699814\n",
      "[01-07 15:53:59][DEBUG] jax_fem: Solving linear system...\n",
      "[01-07 15:53:59][DEBUG] jax_fem: JAX Solver - Solving linear system\n",
      "[01-07 15:54:01][DEBUG] jax_fem: JAX Solver - Finshed solving, res = 7.390641728286562e-11\n",
      "[01-07 15:54:01][DEBUG] jax_fem: Computing cell Jacobian and cell residual...\n",
      "[01-07 15:54:01][DEBUG] jax_fem: Function split_and_compute_cell took 0.3157 seconds\n",
      "[01-07 15:54:01][DEBUG] jax_fem: Creating sparse matrix with scipy...\n",
      "[01-07 15:54:01][DEBUG] jax_fem: res l_2 = 0.0003475085362076373\n",
      "[01-07 15:54:01][DEBUG] jax_fem: Solving linear system...\n",
      "[01-07 15:54:01][DEBUG] jax_fem: JAX Solver - Solving linear system\n",
      "[01-07 15:54:03][DEBUG] jax_fem: JAX Solver - Finshed solving, res = 8.735968636522716e-11\n",
      "[01-07 15:54:03][DEBUG] jax_fem: Computing cell Jacobian and cell residual...\n",
      "[01-07 15:54:03][DEBUG] jax_fem: Function split_and_compute_cell took 0.3837 seconds\n",
      "[01-07 15:54:03][DEBUG] jax_fem: Creating sparse matrix with scipy...\n",
      "[01-07 15:54:03][DEBUG] jax_fem: res l_2 = 2.8050458855580716e-06\n",
      "[01-07 15:54:03][DEBUG] jax_fem: Solving linear system...\n",
      "[01-07 15:54:03][DEBUG] jax_fem: JAX Solver - Solving linear system\n",
      "[01-07 15:54:04][DEBUG] jax_fem: JAX Solver - Finshed solving, res = 9.939703001118048e-11\n",
      "[01-07 15:54:04][DEBUG] jax_fem: Computing cell Jacobian and cell residual...\n",
      "[01-07 15:54:04][DEBUG] jax_fem: Function split_and_compute_cell took 0.2282 seconds\n",
      "[01-07 15:54:04][DEBUG] jax_fem: Creating sparse matrix with scipy...\n",
      "[01-07 15:54:05][DEBUG] jax_fem: res l_2 = 1.0036001922531944e-10\n",
      "[01-07 15:54:05][INFO] jax_fem: Solve took 8.746900796890259 [s]\n",
      "[01-07 15:54:05][DEBUG] jax_fem: max of dofs = 1.1622566715301578e-06\n",
      "[01-07 15:54:05][DEBUG] jax_fem: min of dofs = -1.000134128859819e-06\n",
      "[01-07 15:54:05][DEBUG] jax_fem: Calling the row elimination solver for imposing Dirichlet B.C.\n",
      "[01-07 15:54:05][DEBUG] jax_fem: Start timing\n",
      "[01-07 15:54:05][DEBUG] jax_fem: Computing cell Jacobian and cell residual...\n",
      "[01-07 15:54:05][DEBUG] jax_fem: Function split_and_compute_cell took 0.0275 seconds\n",
      "[01-07 15:54:05][DEBUG] jax_fem: Creating sparse matrix with scipy...\n",
      "[01-07 15:54:05][DEBUG] jax_fem: Before, res l_2 = 13887.610635413848\n",
      "[01-07 15:54:05][DEBUG] jax_fem: Solving linear system...\n",
      "[01-07 15:54:05][DEBUG] jax_fem: JAX Solver - Solving linear system\n"
     ]
    },
    {
     "name": "stdout",
     "output_type": "stream",
     "text": [
      "max f_plus = 149448352.80365127, max stress_xx = 321848661.57640135\n",
      "\n",
      "Step 251, total step = 500, laser_x = 0.000376, Lx = 0.0005, laser ON = False\n"
     ]
    },
    {
     "name": "stderr",
     "output_type": "stream",
     "text": [
      "[01-07 15:54:05][DEBUG] jax_fem: JAX Solver - Finshed solving, res = 5.200055367364451e-07\n",
      "[01-07 15:54:05][DEBUG] jax_fem: Computing cell Jacobian and cell residual...\n",
      "[01-07 15:54:05][DEBUG] jax_fem: Function split_and_compute_cell took 0.0423 seconds\n",
      "[01-07 15:54:05][DEBUG] jax_fem: Creating sparse matrix with scipy...\n",
      "[01-07 15:54:05][DEBUG] jax_fem: res l_2 = 5.200055405391111e-07\n",
      "[01-07 15:54:05][INFO] jax_fem: Solve took 0.6680216789245605 [s]\n",
      "[01-07 15:54:05][DEBUG] jax_fem: max of dofs = 13761.557090338743\n",
      "[01-07 15:54:05][DEBUG] jax_fem: min of dofs = 300.0\n",
      "[01-07 15:54:05][DEBUG] jax_fem: Calling the row elimination solver for imposing Dirichlet B.C.\n",
      "[01-07 15:54:05][DEBUG] jax_fem: Start timing\n",
      "[01-07 15:54:05][DEBUG] jax_fem: Computing cell Jacobian and cell residual...\n",
      "[01-07 15:54:05][DEBUG] jax_fem: Function split_and_compute_cell took 0.0310 seconds\n",
      "[01-07 15:54:05][DEBUG] jax_fem: Creating sparse matrix with scipy...\n",
      "[01-07 15:54:06][DEBUG] jax_fem: Before, res l_2 = 13887.532844444144\n",
      "[01-07 15:54:06][DEBUG] jax_fem: Solving linear system...\n",
      "[01-07 15:54:06][DEBUG] jax_fem: JAX Solver - Solving linear system\n"
     ]
    },
    {
     "name": "stdout",
     "output_type": "stream",
     "text": [
      "\n",
      "Step 252, total step = 500, laser_x = 0.000377, Lx = 0.0005, laser ON = False\n"
     ]
    },
    {
     "name": "stderr",
     "output_type": "stream",
     "text": [
      "[01-07 15:54:06][DEBUG] jax_fem: JAX Solver - Finshed solving, res = 1.2356167070509598e-06\n",
      "[01-07 15:54:06][DEBUG] jax_fem: Computing cell Jacobian and cell residual...\n",
      "[01-07 15:54:06][DEBUG] jax_fem: Function split_and_compute_cell took 0.0697 seconds\n",
      "[01-07 15:54:06][DEBUG] jax_fem: Creating sparse matrix with scipy...\n",
      "[01-07 15:54:06][DEBUG] jax_fem: res l_2 = 1.2356167115717085e-06\n",
      "[01-07 15:54:06][DEBUG] jax_fem: Solving linear system...\n",
      "[01-07 15:54:06][DEBUG] jax_fem: JAX Solver - Solving linear system\n",
      "[01-07 15:54:07][DEBUG] jax_fem: JAX Solver - Finshed solving, res = 8.486801484925662e-11\n",
      "[01-07 15:54:07][DEBUG] jax_fem: Computing cell Jacobian and cell residual...\n",
      "[01-07 15:54:07][DEBUG] jax_fem: Function split_and_compute_cell took 0.1005 seconds\n",
      "[01-07 15:54:07][DEBUG] jax_fem: Creating sparse matrix with scipy...\n",
      "[01-07 15:54:07][DEBUG] jax_fem: res l_2 = 8.486794101006819e-11\n",
      "[01-07 15:54:07][INFO] jax_fem: Solve took 1.3490312099456787 [s]\n",
      "[01-07 15:54:07][DEBUG] jax_fem: max of dofs = 13212.004980077752\n",
      "[01-07 15:54:07][DEBUG] jax_fem: min of dofs = 300.0\n",
      "[01-07 15:54:07][DEBUG] jax_fem: Calling the row elimination solver for imposing Dirichlet B.C.\n",
      "[01-07 15:54:07][DEBUG] jax_fem: Start timing\n",
      "[01-07 15:54:07][DEBUG] jax_fem: Computing cell Jacobian and cell residual...\n",
      "[01-07 15:54:07][DEBUG] jax_fem: Function split_and_compute_cell took 0.0413 seconds\n",
      "[01-07 15:54:07][DEBUG] jax_fem: Creating sparse matrix with scipy...\n",
      "[01-07 15:54:07][DEBUG] jax_fem: Before, res l_2 = 13887.458526897248\n",
      "[01-07 15:54:07][DEBUG] jax_fem: Solving linear system...\n",
      "[01-07 15:54:07][DEBUG] jax_fem: JAX Solver - Solving linear system\n"
     ]
    },
    {
     "name": "stdout",
     "output_type": "stream",
     "text": [
      "\n",
      "Step 253, total step = 500, laser_x = 0.00037799999999999997, Lx = 0.0005, laser ON = False\n"
     ]
    },
    {
     "name": "stderr",
     "output_type": "stream",
     "text": [
      "[01-07 15:54:07][DEBUG] jax_fem: JAX Solver - Finshed solving, res = 9.492279619846336e-07\n",
      "[01-07 15:54:07][DEBUG] jax_fem: Computing cell Jacobian and cell residual...\n",
      "[01-07 15:54:07][DEBUG] jax_fem: Function split_and_compute_cell took 0.0494 seconds\n",
      "[01-07 15:54:07][DEBUG] jax_fem: Creating sparse matrix with scipy...\n",
      "[01-07 15:54:07][DEBUG] jax_fem: res l_2 = 9.492279751431487e-07\n",
      "[01-07 15:54:07][INFO] jax_fem: Solve took 0.6776888370513916 [s]\n",
      "[01-07 15:54:07][DEBUG] jax_fem: max of dofs = 12718.565322272761\n",
      "[01-07 15:54:07][DEBUG] jax_fem: min of dofs = 300.0\n",
      "[01-07 15:54:07][DEBUG] jax_fem: Calling the row elimination solver for imposing Dirichlet B.C.\n",
      "[01-07 15:54:07][DEBUG] jax_fem: Start timing\n",
      "[01-07 15:54:07][DEBUG] jax_fem: Computing cell Jacobian and cell residual...\n",
      "[01-07 15:54:08][DEBUG] jax_fem: Function split_and_compute_cell took 0.0356 seconds\n",
      "[01-07 15:54:08][DEBUG] jax_fem: Creating sparse matrix with scipy...\n",
      "[01-07 15:54:08][DEBUG] jax_fem: Before, res l_2 = 13887.387270537676\n",
      "[01-07 15:54:08][DEBUG] jax_fem: Solving linear system...\n",
      "[01-07 15:54:08][DEBUG] jax_fem: JAX Solver - Solving linear system\n"
     ]
    },
    {
     "name": "stdout",
     "output_type": "stream",
     "text": [
      "\n",
      "Step 254, total step = 500, laser_x = 0.000379, Lx = 0.0005, laser ON = False\n"
     ]
    },
    {
     "name": "stderr",
     "output_type": "stream",
     "text": [
      "[01-07 15:54:08][DEBUG] jax_fem: JAX Solver - Finshed solving, res = 7.451410687959944e-07\n",
      "[01-07 15:54:08][DEBUG] jax_fem: Computing cell Jacobian and cell residual...\n",
      "[01-07 15:54:08][DEBUG] jax_fem: Function split_and_compute_cell took 0.0300 seconds\n",
      "[01-07 15:54:08][DEBUG] jax_fem: Creating sparse matrix with scipy...\n",
      "[01-07 15:54:08][DEBUG] jax_fem: res l_2 = 7.451410702667683e-07\n",
      "[01-07 15:54:08][INFO] jax_fem: Solve took 0.5054547786712646 [s]\n",
      "[01-07 15:54:08][DEBUG] jax_fem: max of dofs = 12272.04734905045\n",
      "[01-07 15:54:08][DEBUG] jax_fem: min of dofs = 300.0\n",
      "[01-07 15:54:08][DEBUG] jax_fem: Calling the row elimination solver for imposing Dirichlet B.C.\n",
      "[01-07 15:54:08][DEBUG] jax_fem: Start timing\n",
      "[01-07 15:54:08][DEBUG] jax_fem: Computing cell Jacobian and cell residual...\n",
      "[01-07 15:54:08][DEBUG] jax_fem: Function split_and_compute_cell took 0.0283 seconds\n",
      "[01-07 15:54:08][DEBUG] jax_fem: Creating sparse matrix with scipy...\n",
      "[01-07 15:54:08][DEBUG] jax_fem: Before, res l_2 = 13887.31876067777\n",
      "[01-07 15:54:08][DEBUG] jax_fem: Solving linear system...\n",
      "[01-07 15:54:08][DEBUG] jax_fem: JAX Solver - Solving linear system\n"
     ]
    },
    {
     "name": "stdout",
     "output_type": "stream",
     "text": [
      "\n",
      "Step 255, total step = 500, laser_x = 0.00037999999999999997, Lx = 0.0005, laser ON = False\n"
     ]
    },
    {
     "name": "stderr",
     "output_type": "stream",
     "text": [
      "[01-07 15:54:08][DEBUG] jax_fem: JAX Solver - Finshed solving, res = 1.1578767416360864e-06\n",
      "[01-07 15:54:08][DEBUG] jax_fem: Computing cell Jacobian and cell residual...\n",
      "[01-07 15:54:08][DEBUG] jax_fem: Function split_and_compute_cell took 0.0337 seconds\n",
      "[01-07 15:54:08][DEBUG] jax_fem: Creating sparse matrix with scipy...\n",
      "[01-07 15:54:09][DEBUG] jax_fem: res l_2 = 1.1578767433211695e-06\n",
      "[01-07 15:54:09][DEBUG] jax_fem: Solving linear system...\n",
      "[01-07 15:54:09][DEBUG] jax_fem: JAX Solver - Solving linear system\n",
      "[01-07 15:54:09][DEBUG] jax_fem: JAX Solver - Finshed solving, res = 8.808333827254466e-11\n",
      "[01-07 15:54:09][DEBUG] jax_fem: Computing cell Jacobian and cell residual...\n",
      "[01-07 15:54:09][DEBUG] jax_fem: Function split_and_compute_cell took 0.0263 seconds\n",
      "[01-07 15:54:09][DEBUG] jax_fem: Creating sparse matrix with scipy...\n",
      "[01-07 15:54:09][DEBUG] jax_fem: res l_2 = 8.808316547445858e-11\n",
      "[01-07 15:54:09][INFO] jax_fem: Solve took 0.9859654903411865 [s]\n",
      "[01-07 15:54:09][DEBUG] jax_fem: max of dofs = 11865.135701848341\n",
      "[01-07 15:54:09][DEBUG] jax_fem: min of dofs = 300.0\n",
      "[01-07 15:54:09][DEBUG] jax_fem: Calling the row elimination solver for imposing Dirichlet B.C.\n",
      "[01-07 15:54:09][DEBUG] jax_fem: Start timing\n",
      "[01-07 15:54:09][DEBUG] jax_fem: Computing cell Jacobian and cell residual...\n",
      "[01-07 15:54:09][DEBUG] jax_fem: Function split_and_compute_cell took 0.0343 seconds\n",
      "[01-07 15:54:09][DEBUG] jax_fem: Creating sparse matrix with scipy...\n",
      "[01-07 15:54:09][DEBUG] jax_fem: Before, res l_2 = 13887.252748707222\n",
      "[01-07 15:54:09][DEBUG] jax_fem: Solving linear system...\n",
      "[01-07 15:54:09][DEBUG] jax_fem: JAX Solver - Solving linear system\n"
     ]
    },
    {
     "name": "stdout",
     "output_type": "stream",
     "text": [
      "\n",
      "Step 256, total step = 500, laser_x = 0.000381, Lx = 0.0005, laser ON = False\n"
     ]
    },
    {
     "name": "stderr",
     "output_type": "stream",
     "text": [
      "[01-07 15:54:09][DEBUG] jax_fem: JAX Solver - Finshed solving, res = 9.233113322514817e-07\n",
      "[01-07 15:54:09][DEBUG] jax_fem: Computing cell Jacobian and cell residual...\n",
      "[01-07 15:54:09][DEBUG] jax_fem: Function split_and_compute_cell took 0.0312 seconds\n",
      "[01-07 15:54:10][DEBUG] jax_fem: Creating sparse matrix with scipy...\n",
      "[01-07 15:54:10][DEBUG] jax_fem: res l_2 = 9.233113413210885e-07\n",
      "[01-07 15:54:10][INFO] jax_fem: Solve took 0.550645112991333 [s]\n",
      "[01-07 15:54:10][DEBUG] jax_fem: max of dofs = 11491.951132211656\n",
      "[01-07 15:54:10][DEBUG] jax_fem: min of dofs = 300.0\n",
      "[01-07 15:54:10][DEBUG] jax_fem: Calling the row elimination solver for imposing Dirichlet B.C.\n",
      "[01-07 15:54:10][DEBUG] jax_fem: Start timing\n",
      "[01-07 15:54:10][DEBUG] jax_fem: Computing cell Jacobian and cell residual...\n",
      "[01-07 15:54:10][DEBUG] jax_fem: Function split_and_compute_cell took 0.0276 seconds\n",
      "[01-07 15:54:10][DEBUG] jax_fem: Creating sparse matrix with scipy...\n",
      "[01-07 15:54:10][DEBUG] jax_fem: Before, res l_2 = 13887.189032702492\n",
      "[01-07 15:54:10][DEBUG] jax_fem: Solving linear system...\n",
      "[01-07 15:54:10][DEBUG] jax_fem: JAX Solver - Solving linear system\n"
     ]
    },
    {
     "name": "stdout",
     "output_type": "stream",
     "text": [
      "\n",
      "Step 257, total step = 500, laser_x = 0.000382, Lx = 0.0005, laser ON = False\n"
     ]
    },
    {
     "name": "stderr",
     "output_type": "stream",
     "text": [
      "[01-07 15:54:10][DEBUG] jax_fem: JAX Solver - Finshed solving, res = 7.359213580159529e-07\n",
      "[01-07 15:54:10][DEBUG] jax_fem: Computing cell Jacobian and cell residual...\n",
      "[01-07 15:54:10][DEBUG] jax_fem: Function split_and_compute_cell took 0.0271 seconds\n",
      "[01-07 15:54:10][DEBUG] jax_fem: Creating sparse matrix with scipy...\n",
      "[01-07 15:54:10][DEBUG] jax_fem: res l_2 = 7.359213642825085e-07\n",
      "[01-07 15:54:10][INFO] jax_fem: Solve took 0.5794932842254639 [s]\n",
      "[01-07 15:54:10][DEBUG] jax_fem: max of dofs = 11169.36487070798\n",
      "[01-07 15:54:10][DEBUG] jax_fem: min of dofs = 300.0\n",
      "[01-07 15:54:10][DEBUG] jax_fem: Calling the row elimination solver for imposing Dirichlet B.C.\n",
      "[01-07 15:54:10][DEBUG] jax_fem: Start timing\n",
      "[01-07 15:54:10][DEBUG] jax_fem: Computing cell Jacobian and cell residual...\n",
      "[01-07 15:54:10][DEBUG] jax_fem: Function split_and_compute_cell took 0.0303 seconds\n",
      "[01-07 15:54:10][DEBUG] jax_fem: Creating sparse matrix with scipy...\n",
      "[01-07 15:54:10][DEBUG] jax_fem: Before, res l_2 = 13887.127444983238\n",
      "[01-07 15:54:10][DEBUG] jax_fem: Solving linear system...\n",
      "[01-07 15:54:10][DEBUG] jax_fem: JAX Solver - Solving linear system\n"
     ]
    },
    {
     "name": "stdout",
     "output_type": "stream",
     "text": [
      "\n",
      "Step 258, total step = 500, laser_x = 0.000383, Lx = 0.0005, laser ON = False\n"
     ]
    },
    {
     "name": "stderr",
     "output_type": "stream",
     "text": [
      "[01-07 15:54:11][DEBUG] jax_fem: JAX Solver - Finshed solving, res = 5.865074740553375e-07\n",
      "[01-07 15:54:11][DEBUG] jax_fem: Computing cell Jacobian and cell residual...\n",
      "[01-07 15:54:11][DEBUG] jax_fem: Function split_and_compute_cell took 0.0363 seconds\n",
      "[01-07 15:54:11][DEBUG] jax_fem: Creating sparse matrix with scipy...\n",
      "[01-07 15:54:11][DEBUG] jax_fem: res l_2 = 5.865074758876923e-07\n",
      "[01-07 15:54:11][INFO] jax_fem: Solve took 0.6197600364685059 [s]\n",
      "[01-07 15:54:11][DEBUG] jax_fem: max of dofs = 10876.354765314718\n",
      "[01-07 15:54:11][DEBUG] jax_fem: min of dofs = 300.0\n",
      "[01-07 15:54:11][DEBUG] jax_fem: Calling the row elimination solver for imposing Dirichlet B.C.\n",
      "[01-07 15:54:11][DEBUG] jax_fem: Start timing\n",
      "[01-07 15:54:11][DEBUG] jax_fem: Computing cell Jacobian and cell residual...\n",
      "[01-07 15:54:11][DEBUG] jax_fem: Function split_and_compute_cell took 0.0284 seconds\n",
      "[01-07 15:54:11][DEBUG] jax_fem: Creating sparse matrix with scipy...\n",
      "[01-07 15:54:11][DEBUG] jax_fem: Before, res l_2 = 13887.067843792827\n",
      "[01-07 15:54:11][DEBUG] jax_fem: Solving linear system...\n",
      "[01-07 15:54:11][DEBUG] jax_fem: JAX Solver - Solving linear system\n"
     ]
    },
    {
     "name": "stdout",
     "output_type": "stream",
     "text": [
      "\n",
      "Step 259, total step = 500, laser_x = 0.000384, Lx = 0.0005, laser ON = False\n"
     ]
    },
    {
     "name": "stderr",
     "output_type": "stream",
     "text": [
      "[01-07 15:54:11][DEBUG] jax_fem: JAX Solver - Finshed solving, res = 4.6518746491078e-07\n",
      "[01-07 15:54:11][DEBUG] jax_fem: Computing cell Jacobian and cell residual...\n",
      "[01-07 15:54:11][DEBUG] jax_fem: Function split_and_compute_cell took 0.0351 seconds\n",
      "[01-07 15:54:11][DEBUG] jax_fem: Creating sparse matrix with scipy...\n",
      "[01-07 15:54:11][DEBUG] jax_fem: res l_2 = 4.651874623253994e-07\n",
      "[01-07 15:54:11][INFO] jax_fem: Solve took 0.6188070774078369 [s]\n",
      "[01-07 15:54:11][DEBUG] jax_fem: max of dofs = 10601.891572248063\n",
      "[01-07 15:54:11][DEBUG] jax_fem: min of dofs = 300.0\n",
      "[01-07 15:54:11][DEBUG] jax_fem: Calling the row elimination solver for imposing Dirichlet B.C.\n",
      "[01-07 15:54:11][DEBUG] jax_fem: Start timing\n",
      "[01-07 15:54:11][DEBUG] jax_fem: Computing cell Jacobian and cell residual...\n",
      "[01-07 15:54:11][DEBUG] jax_fem: Function split_and_compute_cell took 0.0268 seconds\n",
      "[01-07 15:54:11][DEBUG] jax_fem: Creating sparse matrix with scipy...\n",
      "[01-07 15:54:12][DEBUG] jax_fem: Before, res l_2 = 13887.010107513888\n",
      "[01-07 15:54:12][DEBUG] jax_fem: Solving linear system...\n",
      "[01-07 15:54:12][DEBUG] jax_fem: JAX Solver - Solving linear system\n"
     ]
    },
    {
     "name": "stdout",
     "output_type": "stream",
     "text": [
      "\n",
      "Step 260, total step = 500, laser_x = 0.000385, Lx = 0.0005, laser ON = False\n"
     ]
    },
    {
     "name": "stderr",
     "output_type": "stream",
     "text": [
      "[01-07 15:54:12][DEBUG] jax_fem: JAX Solver - Finshed solving, res = 3.666100721636099e-07\n",
      "[01-07 15:54:12][DEBUG] jax_fem: Computing cell Jacobian and cell residual...\n",
      "[01-07 15:54:12][DEBUG] jax_fem: Function split_and_compute_cell took 0.0356 seconds\n",
      "[01-07 15:54:12][DEBUG] jax_fem: Creating sparse matrix with scipy...\n",
      "[01-07 15:54:12][DEBUG] jax_fem: res l_2 = 3.666100662190733e-07\n",
      "[01-07 15:54:12][INFO] jax_fem: Solve took 0.5769901275634766 [s]\n",
      "[01-07 15:54:12][DEBUG] jax_fem: max of dofs = 10343.8081494014\n",
      "[01-07 15:54:12][DEBUG] jax_fem: min of dofs = 300.0\n",
      "[01-07 15:54:12][DEBUG] jax_fem: Calling the row elimination solver for imposing Dirichlet B.C.\n",
      "[01-07 15:54:12][DEBUG] jax_fem: Start timing\n",
      "[01-07 15:54:12][DEBUG] jax_fem: Computing cell Jacobian and cell residual...\n",
      "[01-07 15:54:12][DEBUG] jax_fem: Function split_and_compute_cell took 0.2451 seconds\n",
      "[01-07 15:54:12][DEBUG] jax_fem: Creating sparse matrix with scipy...\n",
      "[01-07 15:54:13][DEBUG] jax_fem: Before, res l_2 = 0.265470690688564\n",
      "[01-07 15:54:13][DEBUG] jax_fem: Solving linear system...\n",
      "[01-07 15:54:13][DEBUG] jax_fem: JAX Solver - Solving linear system\n",
      "[01-07 15:54:14][DEBUG] jax_fem: JAX Solver - Finshed solving, res = 9.241037991011246e-11\n",
      "[01-07 15:54:14][DEBUG] jax_fem: Computing cell Jacobian and cell residual...\n",
      "[01-07 15:54:15][DEBUG] jax_fem: Function split_and_compute_cell took 0.2447 seconds\n",
      "[01-07 15:54:15][DEBUG] jax_fem: Creating sparse matrix with scipy...\n",
      "[01-07 15:54:15][DEBUG] jax_fem: res l_2 = 0.013227563007341486\n",
      "[01-07 15:54:15][DEBUG] jax_fem: Solving linear system...\n",
      "[01-07 15:54:15][DEBUG] jax_fem: JAX Solver - Solving linear system\n",
      "[01-07 15:54:17][DEBUG] jax_fem: JAX Solver - Finshed solving, res = 7.583089641696997e-11\n",
      "[01-07 15:54:17][DEBUG] jax_fem: Computing cell Jacobian and cell residual...\n",
      "[01-07 15:54:17][DEBUG] jax_fem: Function split_and_compute_cell took 0.2545 seconds\n",
      "[01-07 15:54:17][DEBUG] jax_fem: Creating sparse matrix with scipy...\n",
      "[01-07 15:54:17][DEBUG] jax_fem: res l_2 = 0.0005027513388693025\n",
      "[01-07 15:54:17][DEBUG] jax_fem: Solving linear system...\n",
      "[01-07 15:54:17][DEBUG] jax_fem: JAX Solver - Solving linear system\n",
      "[01-07 15:54:19][DEBUG] jax_fem: JAX Solver - Finshed solving, res = 9.619234431793159e-11\n",
      "[01-07 15:54:19][DEBUG] jax_fem: Computing cell Jacobian and cell residual...\n",
      "[01-07 15:54:19][DEBUG] jax_fem: Function split_and_compute_cell took 0.2348 seconds\n",
      "[01-07 15:54:19][DEBUG] jax_fem: Creating sparse matrix with scipy...\n",
      "[01-07 15:54:19][DEBUG] jax_fem: res l_2 = 3.262549735892161e-07\n",
      "[01-07 15:54:19][INFO] jax_fem: Solve took 7.10340690612793 [s]\n",
      "[01-07 15:54:19][DEBUG] jax_fem: max of dofs = 1.2317357902752186e-06\n",
      "[01-07 15:54:19][DEBUG] jax_fem: min of dofs = -1.054183559929467e-06\n",
      "[01-07 15:54:19][DEBUG] jax_fem: Calling the row elimination solver for imposing Dirichlet B.C.\n",
      "[01-07 15:54:19][DEBUG] jax_fem: Start timing\n",
      "[01-07 15:54:19][DEBUG] jax_fem: Computing cell Jacobian and cell residual...\n",
      "[01-07 15:54:19][DEBUG] jax_fem: Function split_and_compute_cell took 0.0347 seconds\n",
      "[01-07 15:54:19][DEBUG] jax_fem: Creating sparse matrix with scipy...\n",
      "[01-07 15:54:19][DEBUG] jax_fem: Before, res l_2 = 13886.954130499056\n",
      "[01-07 15:54:19][DEBUG] jax_fem: Solving linear system...\n",
      "[01-07 15:54:19][DEBUG] jax_fem: JAX Solver - Solving linear system\n"
     ]
    },
    {
     "name": "stdout",
     "output_type": "stream",
     "text": [
      "max f_plus = 152273819.0964352, max stress_xx = 320320828.1142086\n",
      "\n",
      "Step 261, total step = 500, laser_x = 0.000386, Lx = 0.0005, laser ON = False\n"
     ]
    },
    {
     "name": "stderr",
     "output_type": "stream",
     "text": [
      "[01-07 15:54:20][DEBUG] jax_fem: JAX Solver - Finshed solving, res = 2.878784798388273e-07\n",
      "[01-07 15:54:20][DEBUG] jax_fem: Computing cell Jacobian and cell residual...\n",
      "[01-07 15:54:20][DEBUG] jax_fem: Function split_and_compute_cell took 0.0341 seconds\n",
      "[01-07 15:54:20][DEBUG] jax_fem: Creating sparse matrix with scipy...\n",
      "[01-07 15:54:20][DEBUG] jax_fem: res l_2 = 2.8787848242077e-07\n",
      "[01-07 15:54:20][INFO] jax_fem: Solve took 0.6101765632629395 [s]\n",
      "[01-07 15:54:20][DEBUG] jax_fem: max of dofs = 10100.280747415753\n",
      "[01-07 15:54:20][DEBUG] jax_fem: min of dofs = 300.0\n",
      "[01-07 15:54:20][DEBUG] jax_fem: Calling the row elimination solver for imposing Dirichlet B.C.\n",
      "[01-07 15:54:20][DEBUG] jax_fem: Start timing\n",
      "[01-07 15:54:20][DEBUG] jax_fem: Computing cell Jacobian and cell residual...\n",
      "[01-07 15:54:20][DEBUG] jax_fem: Function split_and_compute_cell took 0.0300 seconds\n",
      "[01-07 15:54:20][DEBUG] jax_fem: Creating sparse matrix with scipy...\n",
      "[01-07 15:54:20][DEBUG] jax_fem: Before, res l_2 = 13886.899819971126\n",
      "[01-07 15:54:20][DEBUG] jax_fem: Solving linear system...\n",
      "[01-07 15:54:20][DEBUG] jax_fem: JAX Solver - Solving linear system\n"
     ]
    },
    {
     "name": "stdout",
     "output_type": "stream",
     "text": [
      "\n",
      "Step 262, total step = 500, laser_x = 0.000387, Lx = 0.0005, laser ON = False\n"
     ]
    },
    {
     "name": "stderr",
     "output_type": "stream",
     "text": [
      "[01-07 15:54:20][DEBUG] jax_fem: JAX Solver - Finshed solving, res = 1.3185759454850806e-06\n",
      "[01-07 15:54:20][DEBUG] jax_fem: Computing cell Jacobian and cell residual...\n",
      "[01-07 15:54:20][DEBUG] jax_fem: Function split_and_compute_cell took 0.0380 seconds\n",
      "[01-07 15:54:20][DEBUG] jax_fem: Creating sparse matrix with scipy...\n",
      "[01-07 15:54:21][DEBUG] jax_fem: res l_2 = 1.3185759397650103e-06\n",
      "[01-07 15:54:21][DEBUG] jax_fem: Solving linear system...\n",
      "[01-07 15:54:21][DEBUG] jax_fem: JAX Solver - Solving linear system\n",
      "[01-07 15:54:21][DEBUG] jax_fem: JAX Solver - Finshed solving, res = 9.64364395178087e-11\n",
      "[01-07 15:54:21][DEBUG] jax_fem: Computing cell Jacobian and cell residual...\n",
      "[01-07 15:54:21][DEBUG] jax_fem: Function split_and_compute_cell took 0.0337 seconds\n",
      "[01-07 15:54:21][DEBUG] jax_fem: Creating sparse matrix with scipy...\n",
      "[01-07 15:54:21][DEBUG] jax_fem: res l_2 = 9.643615656464668e-11\n",
      "[01-07 15:54:21][INFO] jax_fem: Solve took 1.0823776721954346 [s]\n",
      "[01-07 15:54:21][DEBUG] jax_fem: max of dofs = 9869.76415839828\n",
      "[01-07 15:54:21][DEBUG] jax_fem: min of dofs = 300.0\n",
      "[01-07 15:54:21][DEBUG] jax_fem: Calling the row elimination solver for imposing Dirichlet B.C.\n",
      "[01-07 15:54:21][DEBUG] jax_fem: Start timing\n",
      "[01-07 15:54:21][DEBUG] jax_fem: Computing cell Jacobian and cell residual...\n",
      "[01-07 15:54:21][DEBUG] jax_fem: Function split_and_compute_cell took 0.0282 seconds\n",
      "[01-07 15:54:21][DEBUG] jax_fem: Creating sparse matrix with scipy...\n",
      "[01-07 15:54:21][DEBUG] jax_fem: Before, res l_2 = 13886.847093658544\n",
      "[01-07 15:54:21][DEBUG] jax_fem: Solving linear system...\n",
      "[01-07 15:54:21][DEBUG] jax_fem: JAX Solver - Solving linear system\n"
     ]
    },
    {
     "name": "stdout",
     "output_type": "stream",
     "text": [
      "\n",
      "Step 263, total step = 500, laser_x = 0.000388, Lx = 0.0005, laser ON = False\n"
     ]
    },
    {
     "name": "stderr",
     "output_type": "stream",
     "text": [
      "[01-07 15:54:21][DEBUG] jax_fem: JAX Solver - Finshed solving, res = 1.0515167278907e-06\n",
      "[01-07 15:54:21][DEBUG] jax_fem: Computing cell Jacobian and cell residual...\n",
      "[01-07 15:54:22][DEBUG] jax_fem: Function split_and_compute_cell took 0.0301 seconds\n",
      "[01-07 15:54:22][DEBUG] jax_fem: Creating sparse matrix with scipy...\n",
      "[01-07 15:54:22][DEBUG] jax_fem: res l_2 = 1.0515167279807015e-06\n",
      "[01-07 15:54:22][DEBUG] jax_fem: Solving linear system...\n",
      "[01-07 15:54:22][DEBUG] jax_fem: JAX Solver - Solving linear system\n",
      "[01-07 15:54:22][DEBUG] jax_fem: JAX Solver - Finshed solving, res = 6.683997051254462e-11\n",
      "[01-07 15:54:22][DEBUG] jax_fem: Computing cell Jacobian and cell residual...\n",
      "[01-07 15:54:22][DEBUG] jax_fem: Function split_and_compute_cell took 0.0379 seconds\n",
      "[01-07 15:54:22][DEBUG] jax_fem: Creating sparse matrix with scipy...\n",
      "[01-07 15:54:22][DEBUG] jax_fem: res l_2 = 6.684001018120016e-11\n",
      "[01-07 15:54:22][INFO] jax_fem: Solve took 1.0435261726379395 [s]\n",
      "[01-07 15:54:22][DEBUG] jax_fem: max of dofs = 9650.940290714818\n",
      "[01-07 15:54:22][DEBUG] jax_fem: min of dofs = 300.0\n",
      "[01-07 15:54:22][DEBUG] jax_fem: Calling the row elimination solver for imposing Dirichlet B.C.\n",
      "[01-07 15:54:22][DEBUG] jax_fem: Start timing\n",
      "[01-07 15:54:22][DEBUG] jax_fem: Computing cell Jacobian and cell residual...\n",
      "[01-07 15:54:22][DEBUG] jax_fem: Function split_and_compute_cell took 0.0269 seconds\n",
      "[01-07 15:54:22][DEBUG] jax_fem: Creating sparse matrix with scipy...\n",
      "[01-07 15:54:22][DEBUG] jax_fem: Before, res l_2 = 13886.79587795474\n",
      "[01-07 15:54:22][DEBUG] jax_fem: Solving linear system...\n",
      "[01-07 15:54:22][DEBUG] jax_fem: JAX Solver - Solving linear system\n"
     ]
    },
    {
     "name": "stdout",
     "output_type": "stream",
     "text": [
      "\n",
      "Step 264, total step = 500, laser_x = 0.00038899999999999997, Lx = 0.0005, laser ON = False\n"
     ]
    },
    {
     "name": "stderr",
     "output_type": "stream",
     "text": [
      "[01-07 15:54:23][DEBUG] jax_fem: JAX Solver - Finshed solving, res = 8.397253075032942e-07\n",
      "[01-07 15:54:23][DEBUG] jax_fem: Computing cell Jacobian and cell residual...\n",
      "[01-07 15:54:23][DEBUG] jax_fem: Function split_and_compute_cell took 0.0360 seconds\n",
      "[01-07 15:54:23][DEBUG] jax_fem: Creating sparse matrix with scipy...\n",
      "[01-07 15:54:23][DEBUG] jax_fem: res l_2 = 8.39725311846465e-07\n",
      "[01-07 15:54:23][INFO] jax_fem: Solve took 0.6014869213104248 [s]\n",
      "[01-07 15:54:23][DEBUG] jax_fem: max of dofs = 9442.677105996087\n",
      "[01-07 15:54:23][DEBUG] jax_fem: min of dofs = 300.0\n",
      "[01-07 15:54:23][DEBUG] jax_fem: Calling the row elimination solver for imposing Dirichlet B.C.\n",
      "[01-07 15:54:23][DEBUG] jax_fem: Start timing\n",
      "[01-07 15:54:23][DEBUG] jax_fem: Computing cell Jacobian and cell residual...\n",
      "[01-07 15:54:23][DEBUG] jax_fem: Function split_and_compute_cell took 0.0456 seconds\n",
      "[01-07 15:54:23][DEBUG] jax_fem: Creating sparse matrix with scipy...\n",
      "[01-07 15:54:23][DEBUG] jax_fem: Before, res l_2 = 13886.746106463019\n",
      "[01-07 15:54:23][DEBUG] jax_fem: Solving linear system...\n",
      "[01-07 15:54:23][DEBUG] jax_fem: JAX Solver - Solving linear system\n"
     ]
    },
    {
     "name": "stdout",
     "output_type": "stream",
     "text": [
      "\n",
      "Step 265, total step = 500, laser_x = 0.00039, Lx = 0.0005, laser ON = False\n"
     ]
    },
    {
     "name": "stderr",
     "output_type": "stream",
     "text": [
      "[01-07 15:54:23][DEBUG] jax_fem: JAX Solver - Finshed solving, res = 6.703002384915949e-07\n",
      "[01-07 15:54:23][DEBUG] jax_fem: Computing cell Jacobian and cell residual...\n",
      "[01-07 15:54:23][DEBUG] jax_fem: Function split_and_compute_cell took 0.0391 seconds\n",
      "[01-07 15:54:23][DEBUG] jax_fem: Creating sparse matrix with scipy...\n",
      "[01-07 15:54:23][DEBUG] jax_fem: res l_2 = 6.70300246635255e-07\n",
      "[01-07 15:54:23][INFO] jax_fem: Solve took 0.5550286769866943 [s]\n",
      "[01-07 15:54:23][DEBUG] jax_fem: max of dofs = 9243.99697716123\n",
      "[01-07 15:54:23][DEBUG] jax_fem: min of dofs = 300.0\n",
      "[01-07 15:54:23][DEBUG] jax_fem: Calling the row elimination solver for imposing Dirichlet B.C.\n",
      "[01-07 15:54:23][DEBUG] jax_fem: Start timing\n",
      "[01-07 15:54:23][DEBUG] jax_fem: Computing cell Jacobian and cell residual...\n",
      "[01-07 15:54:23][DEBUG] jax_fem: Function split_and_compute_cell took 0.0309 seconds\n",
      "[01-07 15:54:23][DEBUG] jax_fem: Creating sparse matrix with scipy...\n",
      "[01-07 15:54:23][DEBUG] jax_fem: Before, res l_2 = 13886.697718832442\n",
      "[01-07 15:54:23][DEBUG] jax_fem: Solving linear system...\n",
      "[01-07 15:54:23][DEBUG] jax_fem: JAX Solver - Solving linear system\n"
     ]
    },
    {
     "name": "stdout",
     "output_type": "stream",
     "text": [
      "\n",
      "Step 266, total step = 500, laser_x = 0.000391, Lx = 0.0005, laser ON = False\n"
     ]
    },
    {
     "name": "stderr",
     "output_type": "stream",
     "text": [
      "[01-07 15:54:24][DEBUG] jax_fem: JAX Solver - Finshed solving, res = 5.372016863202534e-07\n",
      "[01-07 15:54:24][DEBUG] jax_fem: Computing cell Jacobian and cell residual...\n",
      "[01-07 15:54:24][DEBUG] jax_fem: Function split_and_compute_cell took 0.0352 seconds\n",
      "[01-07 15:54:24][DEBUG] jax_fem: Creating sparse matrix with scipy...\n",
      "[01-07 15:54:24][DEBUG] jax_fem: res l_2 = 5.372016952416435e-07\n",
      "[01-07 15:54:24][INFO] jax_fem: Solve took 0.6202883720397949 [s]\n",
      "[01-07 15:54:24][DEBUG] jax_fem: max of dofs = 9054.049630343612\n",
      "[01-07 15:54:24][DEBUG] jax_fem: min of dofs = 300.0\n",
      "[01-07 15:54:24][DEBUG] jax_fem: Calling the row elimination solver for imposing Dirichlet B.C.\n",
      "[01-07 15:54:24][DEBUG] jax_fem: Start timing\n",
      "[01-07 15:54:24][DEBUG] jax_fem: Computing cell Jacobian and cell residual...\n",
      "[01-07 15:54:24][DEBUG] jax_fem: Function split_and_compute_cell took 0.0258 seconds\n",
      "[01-07 15:54:24][DEBUG] jax_fem: Creating sparse matrix with scipy...\n",
      "[01-07 15:54:24][DEBUG] jax_fem: Before, res l_2 = 13886.65065981842\n",
      "[01-07 15:54:24][DEBUG] jax_fem: Solving linear system...\n",
      "[01-07 15:54:24][DEBUG] jax_fem: JAX Solver - Solving linear system\n"
     ]
    },
    {
     "name": "stdout",
     "output_type": "stream",
     "text": [
      "\n",
      "Step 267, total step = 500, laser_x = 0.000392, Lx = 0.0005, laser ON = False\n"
     ]
    },
    {
     "name": "stderr",
     "output_type": "stream",
     "text": [
      "[01-07 15:54:24][DEBUG] jax_fem: JAX Solver - Finshed solving, res = 4.3320787395180045e-07\n",
      "[01-07 15:54:24][DEBUG] jax_fem: Computing cell Jacobian and cell residual...\n",
      "[01-07 15:54:24][DEBUG] jax_fem: Function split_and_compute_cell took 0.0290 seconds\n",
      "[01-07 15:54:25][DEBUG] jax_fem: Creating sparse matrix with scipy...\n",
      "[01-07 15:54:25][DEBUG] jax_fem: res l_2 = 4.3320788137319217e-07\n",
      "[01-07 15:54:25][INFO] jax_fem: Solve took 0.6218416690826416 [s]\n",
      "[01-07 15:54:25][DEBUG] jax_fem: max of dofs = 8872.091769804812\n",
      "[01-07 15:54:25][DEBUG] jax_fem: min of dofs = 300.0\n",
      "[01-07 15:54:25][DEBUG] jax_fem: Calling the row elimination solver for imposing Dirichlet B.C.\n",
      "[01-07 15:54:25][DEBUG] jax_fem: Start timing\n",
      "[01-07 15:54:25][DEBUG] jax_fem: Computing cell Jacobian and cell residual...\n",
      "[01-07 15:54:25][DEBUG] jax_fem: Function split_and_compute_cell took 0.0375 seconds\n",
      "[01-07 15:54:25][DEBUG] jax_fem: Creating sparse matrix with scipy...\n",
      "[01-07 15:54:25][DEBUG] jax_fem: Before, res l_2 = 13886.604878519545\n",
      "[01-07 15:54:25][DEBUG] jax_fem: Solving linear system...\n",
      "[01-07 15:54:25][DEBUG] jax_fem: JAX Solver - Solving linear system\n"
     ]
    },
    {
     "name": "stdout",
     "output_type": "stream",
     "text": [
      "\n",
      "Step 268, total step = 500, laser_x = 0.000393, Lx = 0.0005, laser ON = False\n"
     ]
    },
    {
     "name": "stderr",
     "output_type": "stream",
     "text": [
      "[01-07 15:54:25][DEBUG] jax_fem: JAX Solver - Finshed solving, res = 3.533240419387083e-07\n",
      "[01-07 15:54:25][DEBUG] jax_fem: Computing cell Jacobian and cell residual...\n",
      "[01-07 15:54:25][DEBUG] jax_fem: Function split_and_compute_cell took 0.0425 seconds\n",
      "[01-07 15:54:25][DEBUG] jax_fem: Creating sparse matrix with scipy...\n",
      "[01-07 15:54:25][DEBUG] jax_fem: res l_2 = 3.533240427303557e-07\n",
      "[01-07 15:54:25][INFO] jax_fem: Solve took 0.5997660160064697 [s]\n",
      "[01-07 15:54:25][DEBUG] jax_fem: max of dofs = 8697.470213218921\n",
      "[01-07 15:54:25][DEBUG] jax_fem: min of dofs = 300.0\n",
      "[01-07 15:54:25][DEBUG] jax_fem: Calling the row elimination solver for imposing Dirichlet B.C.\n",
      "[01-07 15:54:25][DEBUG] jax_fem: Start timing\n",
      "[01-07 15:54:25][DEBUG] jax_fem: Computing cell Jacobian and cell residual...\n",
      "[01-07 15:54:25][DEBUG] jax_fem: Function split_and_compute_cell took 0.0259 seconds\n",
      "[01-07 15:54:25][DEBUG] jax_fem: Creating sparse matrix with scipy...\n",
      "[01-07 15:54:25][DEBUG] jax_fem: Before, res l_2 = 13886.560327754389\n",
      "[01-07 15:54:25][DEBUG] jax_fem: Solving linear system...\n",
      "[01-07 15:54:25][DEBUG] jax_fem: JAX Solver - Solving linear system\n"
     ]
    },
    {
     "name": "stdout",
     "output_type": "stream",
     "text": [
      "\n",
      "Step 269, total step = 500, laser_x = 0.000394, Lx = 0.0005, laser ON = False\n"
     ]
    },
    {
     "name": "stderr",
     "output_type": "stream",
     "text": [
      "[01-07 15:54:26][DEBUG] jax_fem: JAX Solver - Finshed solving, res = 2.9381675652419725e-07\n",
      "[01-07 15:54:26][DEBUG] jax_fem: Computing cell Jacobian and cell residual...\n",
      "[01-07 15:54:26][DEBUG] jax_fem: Function split_and_compute_cell took 0.0427 seconds\n",
      "[01-07 15:54:26][DEBUG] jax_fem: Creating sparse matrix with scipy...\n",
      "[01-07 15:54:26][DEBUG] jax_fem: res l_2 = 2.9381675359660956e-07\n",
      "[01-07 15:54:26][INFO] jax_fem: Solve took 0.5841934680938721 [s]\n",
      "[01-07 15:54:26][DEBUG] jax_fem: max of dofs = 8529.608191902404\n",
      "[01-07 15:54:26][DEBUG] jax_fem: min of dofs = 300.0\n",
      "[01-07 15:54:26][DEBUG] jax_fem: Calling the row elimination solver for imposing Dirichlet B.C.\n",
      "[01-07 15:54:26][DEBUG] jax_fem: Start timing\n",
      "[01-07 15:54:26][DEBUG] jax_fem: Computing cell Jacobian and cell residual...\n",
      "[01-07 15:54:26][DEBUG] jax_fem: Function split_and_compute_cell took 0.0279 seconds\n",
      "[01-07 15:54:26][DEBUG] jax_fem: Creating sparse matrix with scipy...\n",
      "[01-07 15:54:26][DEBUG] jax_fem: Before, res l_2 = 13886.516963550424\n",
      "[01-07 15:54:26][DEBUG] jax_fem: Solving linear system...\n",
      "[01-07 15:54:26][DEBUG] jax_fem: JAX Solver - Solving linear system\n"
     ]
    },
    {
     "name": "stdout",
     "output_type": "stream",
     "text": [
      "\n",
      "Step 270, total step = 500, laser_x = 0.000395, Lx = 0.0005, laser ON = False\n"
     ]
    },
    {
     "name": "stderr",
     "output_type": "stream",
     "text": [
      "[01-07 15:54:26][DEBUG] jax_fem: JAX Solver - Finshed solving, res = 2.511675351995656e-07\n",
      "[01-07 15:54:26][DEBUG] jax_fem: Computing cell Jacobian and cell residual...\n",
      "[01-07 15:54:26][DEBUG] jax_fem: Function split_and_compute_cell took 0.0342 seconds\n",
      "[01-07 15:54:26][DEBUG] jax_fem: Creating sparse matrix with scipy...\n",
      "[01-07 15:54:26][DEBUG] jax_fem: res l_2 = 2.511675276931273e-07\n",
      "[01-07 15:54:26][INFO] jax_fem: Solve took 0.5891456604003906 [s]\n",
      "[01-07 15:54:26][DEBUG] jax_fem: max of dofs = 8367.994148251255\n",
      "[01-07 15:54:26][DEBUG] jax_fem: min of dofs = 300.0\n",
      "[01-07 15:54:27][DEBUG] jax_fem: Calling the row elimination solver for imposing Dirichlet B.C.\n",
      "[01-07 15:54:27][DEBUG] jax_fem: Start timing\n",
      "[01-07 15:54:27][DEBUG] jax_fem: Computing cell Jacobian and cell residual...\n",
      "[01-07 15:54:27][DEBUG] jax_fem: Function split_and_compute_cell took 0.2369 seconds\n",
      "[01-07 15:54:27][DEBUG] jax_fem: Creating sparse matrix with scipy...\n",
      "[01-07 15:54:27][DEBUG] jax_fem: Before, res l_2 = 0.2690282272694971\n",
      "[01-07 15:54:27][DEBUG] jax_fem: Solving linear system...\n",
      "[01-07 15:54:27][DEBUG] jax_fem: JAX Solver - Solving linear system\n",
      "[01-07 15:54:29][DEBUG] jax_fem: JAX Solver - Finshed solving, res = 6.960871828103089e-11\n",
      "[01-07 15:54:29][DEBUG] jax_fem: Computing cell Jacobian and cell residual...\n",
      "[01-07 15:54:29][DEBUG] jax_fem: Function split_and_compute_cell took 0.2358 seconds\n",
      "[01-07 15:54:29][DEBUG] jax_fem: Creating sparse matrix with scipy...\n",
      "[01-07 15:54:29][DEBUG] jax_fem: res l_2 = 0.014525945123581309\n",
      "[01-07 15:54:29][DEBUG] jax_fem: Solving linear system...\n",
      "[01-07 15:54:29][DEBUG] jax_fem: JAX Solver - Solving linear system\n",
      "[01-07 15:54:31][DEBUG] jax_fem: JAX Solver - Finshed solving, res = 8.315853968266524e-11\n",
      "[01-07 15:54:31][DEBUG] jax_fem: Computing cell Jacobian and cell residual...\n",
      "[01-07 15:54:31][DEBUG] jax_fem: Function split_and_compute_cell took 0.3461 seconds\n",
      "[01-07 15:54:31][DEBUG] jax_fem: Creating sparse matrix with scipy...\n",
      "[01-07 15:54:32][DEBUG] jax_fem: res l_2 = 0.000497892175732398\n",
      "[01-07 15:54:32][DEBUG] jax_fem: Solving linear system...\n",
      "[01-07 15:54:32][DEBUG] jax_fem: JAX Solver - Solving linear system\n",
      "[01-07 15:54:33][DEBUG] jax_fem: JAX Solver - Finshed solving, res = 8.358445434397861e-11\n",
      "[01-07 15:54:33][DEBUG] jax_fem: Computing cell Jacobian and cell residual...\n",
      "[01-07 15:54:34][DEBUG] jax_fem: Function split_and_compute_cell took 0.2476 seconds\n",
      "[01-07 15:54:34][DEBUG] jax_fem: Creating sparse matrix with scipy...\n",
      "[01-07 15:54:34][DEBUG] jax_fem: res l_2 = 6.344936660677284e-07\n",
      "[01-07 15:54:34][INFO] jax_fem: Solve took 7.3247575759887695 [s]\n",
      "[01-07 15:54:34][DEBUG] jax_fem: max of dofs = 1.2987205911263646e-06\n",
      "[01-07 15:54:34][DEBUG] jax_fem: min of dofs = -1.1041444336189446e-06\n",
      "[01-07 15:54:34][DEBUG] jax_fem: Calling the row elimination solver for imposing Dirichlet B.C.\n",
      "[01-07 15:54:34][DEBUG] jax_fem: Start timing\n",
      "[01-07 15:54:34][DEBUG] jax_fem: Computing cell Jacobian and cell residual...\n",
      "[01-07 15:54:34][DEBUG] jax_fem: Function split_and_compute_cell took 0.0390 seconds\n",
      "[01-07 15:54:34][DEBUG] jax_fem: Creating sparse matrix with scipy...\n",
      "[01-07 15:54:34][DEBUG] jax_fem: Before, res l_2 = 13886.474744723382\n",
      "[01-07 15:54:34][DEBUG] jax_fem: Solving linear system...\n",
      "[01-07 15:54:34][DEBUG] jax_fem: JAX Solver - Solving linear system\n"
     ]
    },
    {
     "name": "stdout",
     "output_type": "stream",
     "text": [
      "max f_plus = 155313034.63702202, max stress_xx = 333178807.6979746\n",
      "\n",
      "Step 271, total step = 500, laser_x = 0.000396, Lx = 0.0005, laser ON = False\n"
     ]
    },
    {
     "name": "stderr",
     "output_type": "stream",
     "text": [
      "[01-07 15:54:34][DEBUG] jax_fem: JAX Solver - Finshed solving, res = 2.213146703173496e-07\n",
      "[01-07 15:54:34][DEBUG] jax_fem: Computing cell Jacobian and cell residual...\n",
      "[01-07 15:54:34][DEBUG] jax_fem: Function split_and_compute_cell took 0.0273 seconds\n",
      "[01-07 15:54:35][DEBUG] jax_fem: Creating sparse matrix with scipy...\n",
      "[01-07 15:54:35][DEBUG] jax_fem: res l_2 = 2.2131466110159237e-07\n",
      "[01-07 15:54:35][INFO] jax_fem: Solve took 0.5282299518585205 [s]\n",
      "[01-07 15:54:35][DEBUG] jax_fem: max of dofs = 8212.172512392857\n",
      "[01-07 15:54:35][DEBUG] jax_fem: min of dofs = 300.0\n",
      "[01-07 15:54:35][DEBUG] jax_fem: Calling the row elimination solver for imposing Dirichlet B.C.\n",
      "[01-07 15:54:35][DEBUG] jax_fem: Start timing\n",
      "[01-07 15:54:35][DEBUG] jax_fem: Computing cell Jacobian and cell residual...\n",
      "[01-07 15:54:35][DEBUG] jax_fem: Function split_and_compute_cell took 0.0318 seconds\n",
      "[01-07 15:54:35][DEBUG] jax_fem: Creating sparse matrix with scipy...\n",
      "[01-07 15:54:35][DEBUG] jax_fem: Before, res l_2 = 13886.433632529835\n",
      "[01-07 15:54:35][DEBUG] jax_fem: Solving linear system...\n",
      "[01-07 15:54:35][DEBUG] jax_fem: JAX Solver - Solving linear system\n"
     ]
    },
    {
     "name": "stdout",
     "output_type": "stream",
     "text": [
      "\n",
      "Step 272, total step = 500, laser_x = 0.000397, Lx = 0.0005, laser ON = False\n"
     ]
    },
    {
     "name": "stderr",
     "output_type": "stream",
     "text": [
      "[01-07 15:54:35][DEBUG] jax_fem: JAX Solver - Finshed solving, res = 1.9982119277165983e-07\n",
      "[01-07 15:54:35][DEBUG] jax_fem: Computing cell Jacobian and cell residual...\n",
      "[01-07 15:54:35][DEBUG] jax_fem: Function split_and_compute_cell took 0.0269 seconds\n",
      "[01-07 15:54:35][DEBUG] jax_fem: Creating sparse matrix with scipy...\n",
      "[01-07 15:54:35][DEBUG] jax_fem: res l_2 = 1.9982119741426364e-07\n",
      "[01-07 15:54:35][INFO] jax_fem: Solve took 0.5920703411102295 [s]\n",
      "[01-07 15:54:35][DEBUG] jax_fem: max of dofs = 8061.736055659854\n",
      "[01-07 15:54:35][DEBUG] jax_fem: min of dofs = 300.0\n",
      "[01-07 15:54:35][DEBUG] jax_fem: Calling the row elimination solver for imposing Dirichlet B.C.\n",
      "[01-07 15:54:35][DEBUG] jax_fem: Start timing\n",
      "[01-07 15:54:35][DEBUG] jax_fem: Computing cell Jacobian and cell residual...\n",
      "[01-07 15:54:35][DEBUG] jax_fem: Function split_and_compute_cell took 0.0500 seconds\n",
      "[01-07 15:54:35][DEBUG] jax_fem: Creating sparse matrix with scipy...\n",
      "[01-07 15:54:35][DEBUG] jax_fem: Before, res l_2 = 13886.393590379259\n",
      "[01-07 15:54:35][DEBUG] jax_fem: Solving linear system...\n",
      "[01-07 15:54:35][DEBUG] jax_fem: JAX Solver - Solving linear system\n"
     ]
    },
    {
     "name": "stdout",
     "output_type": "stream",
     "text": [
      "\n",
      "Step 273, total step = 500, laser_x = 0.00039799999999999997, Lx = 0.0005, laser ON = False\n"
     ]
    },
    {
     "name": "stderr",
     "output_type": "stream",
     "text": [
      "[01-07 15:54:36][DEBUG] jax_fem: JAX Solver - Finshed solving, res = 1.8284800869247858e-07\n",
      "[01-07 15:54:36][DEBUG] jax_fem: Computing cell Jacobian and cell residual...\n",
      "[01-07 15:54:36][DEBUG] jax_fem: Function split_and_compute_cell took 0.0459 seconds\n",
      "[01-07 15:54:36][DEBUG] jax_fem: Creating sparse matrix with scipy...\n",
      "[01-07 15:54:36][DEBUG] jax_fem: res l_2 = 1.828480066861007e-07\n",
      "[01-07 15:54:36][INFO] jax_fem: Solve took 0.5474116802215576 [s]\n",
      "[01-07 15:54:36][DEBUG] jax_fem: max of dofs = 7916.3195075521935\n",
      "[01-07 15:54:36][DEBUG] jax_fem: min of dofs = 300.0\n",
      "[01-07 15:54:36][DEBUG] jax_fem: Calling the row elimination solver for imposing Dirichlet B.C.\n",
      "[01-07 15:54:36][DEBUG] jax_fem: Start timing\n",
      "[01-07 15:54:36][DEBUG] jax_fem: Computing cell Jacobian and cell residual...\n",
      "[01-07 15:54:36][DEBUG] jax_fem: Function split_and_compute_cell took 0.0318 seconds\n",
      "[01-07 15:54:36][DEBUG] jax_fem: Creating sparse matrix with scipy...\n",
      "[01-07 15:54:36][DEBUG] jax_fem: Before, res l_2 = 13886.354583594572\n",
      "[01-07 15:54:36][DEBUG] jax_fem: Solving linear system...\n",
      "[01-07 15:54:36][DEBUG] jax_fem: JAX Solver - Solving linear system\n"
     ]
    },
    {
     "name": "stdout",
     "output_type": "stream",
     "text": [
      "\n",
      "Step 274, total step = 500, laser_x = 0.000399, Lx = 0.0005, laser ON = False\n"
     ]
    },
    {
     "name": "stderr",
     "output_type": "stream",
     "text": [
      "[01-07 15:54:36][DEBUG] jax_fem: JAX Solver - Finshed solving, res = 1.6792355846106375e-07\n",
      "[01-07 15:54:36][DEBUG] jax_fem: Computing cell Jacobian and cell residual...\n",
      "[01-07 15:54:36][DEBUG] jax_fem: Function split_and_compute_cell took 0.0302 seconds\n",
      "[01-07 15:54:36][DEBUG] jax_fem: Creating sparse matrix with scipy...\n",
      "[01-07 15:54:36][DEBUG] jax_fem: res l_2 = 1.679235516562019e-07\n",
      "[01-07 15:54:36][INFO] jax_fem: Solve took 0.5730981826782227 [s]\n",
      "[01-07 15:54:36][DEBUG] jax_fem: max of dofs = 7775.594191463517\n",
      "[01-07 15:54:36][DEBUG] jax_fem: min of dofs = 300.0\n",
      "[01-07 15:54:36][DEBUG] jax_fem: Calling the row elimination solver for imposing Dirichlet B.C.\n",
      "[01-07 15:54:36][DEBUG] jax_fem: Start timing\n",
      "[01-07 15:54:36][DEBUG] jax_fem: Computing cell Jacobian and cell residual...\n",
      "[01-07 15:54:36][DEBUG] jax_fem: Function split_and_compute_cell took 0.0298 seconds\n",
      "[01-07 15:54:36][DEBUG] jax_fem: Creating sparse matrix with scipy...\n",
      "[01-07 15:54:36][DEBUG] jax_fem: Before, res l_2 = 13886.316579212165\n",
      "[01-07 15:54:36][DEBUG] jax_fem: Solving linear system...\n",
      "[01-07 15:54:36][DEBUG] jax_fem: JAX Solver - Solving linear system\n"
     ]
    },
    {
     "name": "stdout",
     "output_type": "stream",
     "text": [
      "\n",
      "Step 275, total step = 500, laser_x = 0.00039999999999999996, Lx = 0.0005, laser ON = False\n"
     ]
    },
    {
     "name": "stderr",
     "output_type": "stream",
     "text": [
      "[01-07 15:54:37][DEBUG] jax_fem: JAX Solver - Finshed solving, res = 1.5392563665223641e-07\n",
      "[01-07 15:54:37][DEBUG] jax_fem: Computing cell Jacobian and cell residual...\n",
      "[01-07 15:54:37][DEBUG] jax_fem: Function split_and_compute_cell took 0.0305 seconds\n",
      "[01-07 15:54:37][DEBUG] jax_fem: Creating sparse matrix with scipy...\n",
      "[01-07 15:54:37][DEBUG] jax_fem: res l_2 = 1.5392564009244607e-07\n",
      "[01-07 15:54:37][INFO] jax_fem: Solve took 0.5815684795379639 [s]\n",
      "[01-07 15:54:37][DEBUG] jax_fem: max of dofs = 7639.263487322511\n",
      "[01-07 15:54:37][DEBUG] jax_fem: min of dofs = 300.0\n",
      "[01-07 15:54:37][DEBUG] jax_fem: Calling the row elimination solver for imposing Dirichlet B.C.\n",
      "[01-07 15:54:37][DEBUG] jax_fem: Start timing\n",
      "[01-07 15:54:37][DEBUG] jax_fem: Computing cell Jacobian and cell residual...\n",
      "[01-07 15:54:37][DEBUG] jax_fem: Function split_and_compute_cell took 0.0277 seconds\n",
      "[01-07 15:54:37][DEBUG] jax_fem: Creating sparse matrix with scipy...\n",
      "[01-07 15:54:37][DEBUG] jax_fem: Before, res l_2 = 13886.279545814214\n",
      "[01-07 15:54:37][DEBUG] jax_fem: Solving linear system...\n",
      "[01-07 15:54:37][DEBUG] jax_fem: JAX Solver - Solving linear system\n"
     ]
    },
    {
     "name": "stdout",
     "output_type": "stream",
     "text": [
      "\n",
      "Step 276, total step = 500, laser_x = 0.000401, Lx = 0.0005, laser ON = False\n"
     ]
    },
    {
     "name": "stderr",
     "output_type": "stream",
     "text": [
      "[01-07 15:54:38][DEBUG] jax_fem: JAX Solver - Finshed solving, res = 1.4058373807491507e-07\n",
      "[01-07 15:54:38][DEBUG] jax_fem: Computing cell Jacobian and cell residual...\n",
      "[01-07 15:54:38][DEBUG] jax_fem: Function split_and_compute_cell took 0.0634 seconds\n",
      "[01-07 15:54:38][DEBUG] jax_fem: Creating sparse matrix with scipy...\n",
      "[01-07 15:54:38][DEBUG] jax_fem: res l_2 = 1.405837392594884e-07\n",
      "[01-07 15:54:38][INFO] jax_fem: Solve took 1.0115511417388916 [s]\n",
      "[01-07 15:54:38][DEBUG] jax_fem: max of dofs = 7507.058970035677\n",
      "[01-07 15:54:38][DEBUG] jax_fem: min of dofs = 300.0\n",
      "[01-07 15:54:38][DEBUG] jax_fem: Calling the row elimination solver for imposing Dirichlet B.C.\n",
      "[01-07 15:54:38][DEBUG] jax_fem: Start timing\n",
      "[01-07 15:54:38][DEBUG] jax_fem: Computing cell Jacobian and cell residual...\n",
      "[01-07 15:54:38][DEBUG] jax_fem: Function split_and_compute_cell took 0.0337 seconds\n",
      "[01-07 15:54:38][DEBUG] jax_fem: Creating sparse matrix with scipy...\n",
      "[01-07 15:54:38][DEBUG] jax_fem: Before, res l_2 = 13886.24345338737\n",
      "[01-07 15:54:38][DEBUG] jax_fem: Solving linear system...\n",
      "[01-07 15:54:38][DEBUG] jax_fem: JAX Solver - Solving linear system\n"
     ]
    },
    {
     "name": "stdout",
     "output_type": "stream",
     "text": [
      "\n",
      "Step 277, total step = 500, laser_x = 0.000402, Lx = 0.0005, laser ON = False\n"
     ]
    },
    {
     "name": "stderr",
     "output_type": "stream",
     "text": [
      "[01-07 15:54:38][DEBUG] jax_fem: JAX Solver - Finshed solving, res = 1.2798580625754948e-07\n",
      "[01-07 15:54:38][DEBUG] jax_fem: Computing cell Jacobian and cell residual...\n",
      "[01-07 15:54:39][DEBUG] jax_fem: Function split_and_compute_cell took 0.0606 seconds\n",
      "[01-07 15:54:39][DEBUG] jax_fem: Creating sparse matrix with scipy...\n",
      "[01-07 15:54:39][DEBUG] jax_fem: res l_2 = 1.2798580995685012e-07\n",
      "[01-07 15:54:39][INFO] jax_fem: Solve took 0.6195800304412842 [s]\n",
      "[01-07 15:54:39][DEBUG] jax_fem: max of dofs = 7378.737104031185\n",
      "[01-07 15:54:39][DEBUG] jax_fem: min of dofs = 300.0\n",
      "[01-07 15:54:39][DEBUG] jax_fem: Calling the row elimination solver for imposing Dirichlet B.C.\n",
      "[01-07 15:54:39][DEBUG] jax_fem: Start timing\n",
      "[01-07 15:54:39][DEBUG] jax_fem: Computing cell Jacobian and cell residual...\n",
      "[01-07 15:54:39][DEBUG] jax_fem: Function split_and_compute_cell took 0.0250 seconds\n",
      "[01-07 15:54:39][DEBUG] jax_fem: Creating sparse matrix with scipy...\n",
      "[01-07 15:54:39][DEBUG] jax_fem: Before, res l_2 = 13886.20827320306\n",
      "[01-07 15:54:39][DEBUG] jax_fem: Solving linear system...\n",
      "[01-07 15:54:39][DEBUG] jax_fem: JAX Solver - Solving linear system\n"
     ]
    },
    {
     "name": "stdout",
     "output_type": "stream",
     "text": [
      "\n",
      "Step 278, total step = 500, laser_x = 0.000403, Lx = 0.0005, laser ON = False\n"
     ]
    },
    {
     "name": "stderr",
     "output_type": "stream",
     "text": [
      "[01-07 15:54:39][DEBUG] jax_fem: JAX Solver - Finshed solving, res = 1.162860558293883e-07\n",
      "[01-07 15:54:39][DEBUG] jax_fem: Computing cell Jacobian and cell residual...\n",
      "[01-07 15:54:39][DEBUG] jax_fem: Function split_and_compute_cell took 0.0321 seconds\n",
      "[01-07 15:54:39][DEBUG] jax_fem: Creating sparse matrix with scipy...\n",
      "[01-07 15:54:39][DEBUG] jax_fem: res l_2 = 1.1628605159032851e-07\n",
      "[01-07 15:54:39][INFO] jax_fem: Solve took 0.55338454246521 [s]\n",
      "[01-07 15:54:39][DEBUG] jax_fem: max of dofs = 7254.076398514666\n",
      "[01-07 15:54:39][DEBUG] jax_fem: min of dofs = 300.0\n",
      "[01-07 15:54:39][DEBUG] jax_fem: Calling the row elimination solver for imposing Dirichlet B.C.\n",
      "[01-07 15:54:39][DEBUG] jax_fem: Start timing\n",
      "[01-07 15:54:39][DEBUG] jax_fem: Computing cell Jacobian and cell residual...\n",
      "[01-07 15:54:39][DEBUG] jax_fem: Function split_and_compute_cell took 0.0331 seconds\n",
      "[01-07 15:54:39][DEBUG] jax_fem: Creating sparse matrix with scipy...\n",
      "[01-07 15:54:39][DEBUG] jax_fem: Before, res l_2 = 13886.173977715478\n",
      "[01-07 15:54:39][DEBUG] jax_fem: Solving linear system...\n",
      "[01-07 15:54:39][DEBUG] jax_fem: JAX Solver - Solving linear system\n"
     ]
    },
    {
     "name": "stdout",
     "output_type": "stream",
     "text": [
      "\n",
      "Step 279, total step = 500, laser_x = 0.000404, Lx = 0.0005, laser ON = False\n"
     ]
    },
    {
     "name": "stderr",
     "output_type": "stream",
     "text": [
      "[01-07 15:54:40][DEBUG] jax_fem: JAX Solver - Finshed solving, res = 1.0558829887187822e-07\n",
      "[01-07 15:54:40][DEBUG] jax_fem: Computing cell Jacobian and cell residual...\n",
      "[01-07 15:54:40][DEBUG] jax_fem: Function split_and_compute_cell took 0.0327 seconds\n",
      "[01-07 15:54:40][DEBUG] jax_fem: Creating sparse matrix with scipy...\n",
      "[01-07 15:54:40][DEBUG] jax_fem: res l_2 = 1.0558830084900413e-07\n",
      "[01-07 15:54:40][INFO] jax_fem: Solve took 0.5583610534667969 [s]\n",
      "[01-07 15:54:40][DEBUG] jax_fem: max of dofs = 7132.874946961592\n",
      "[01-07 15:54:40][DEBUG] jax_fem: min of dofs = 300.0\n",
      "[01-07 15:54:40][DEBUG] jax_fem: Calling the row elimination solver for imposing Dirichlet B.C.\n",
      "[01-07 15:54:40][DEBUG] jax_fem: Start timing\n",
      "[01-07 15:54:40][DEBUG] jax_fem: Computing cell Jacobian and cell residual...\n",
      "[01-07 15:54:40][DEBUG] jax_fem: Function split_and_compute_cell took 0.0283 seconds\n",
      "[01-07 15:54:40][DEBUG] jax_fem: Creating sparse matrix with scipy...\n",
      "[01-07 15:54:40][DEBUG] jax_fem: Before, res l_2 = 13886.140540474118\n",
      "[01-07 15:54:40][DEBUG] jax_fem: Solving linear system...\n",
      "[01-07 15:54:40][DEBUG] jax_fem: JAX Solver - Solving linear system\n"
     ]
    },
    {
     "name": "stdout",
     "output_type": "stream",
     "text": [
      "\n",
      "Step 280, total step = 500, laser_x = 0.000405, Lx = 0.0005, laser ON = False\n"
     ]
    },
    {
     "name": "stderr",
     "output_type": "stream",
     "text": [
      "[01-07 15:54:40][DEBUG] jax_fem: JAX Solver - Finshed solving, res = 9.592437358705896e-08\n",
      "[01-07 15:54:40][DEBUG] jax_fem: Computing cell Jacobian and cell residual...\n",
      "[01-07 15:54:40][DEBUG] jax_fem: Function split_and_compute_cell took 0.0491 seconds\n",
      "[01-07 15:54:40][DEBUG] jax_fem: Creating sparse matrix with scipy...\n",
      "[01-07 15:54:40][DEBUG] jax_fem: res l_2 = 9.592437445077545e-08\n",
      "[01-07 15:54:40][INFO] jax_fem: Solve took 0.5975484848022461 [s]\n",
      "[01-07 15:54:40][DEBUG] jax_fem: max of dofs = 7014.94828915852\n",
      "[01-07 15:54:40][DEBUG] jax_fem: min of dofs = 300.0\n",
      "[01-07 15:54:40][DEBUG] jax_fem: Calling the row elimination solver for imposing Dirichlet B.C.\n",
      "[01-07 15:54:40][DEBUG] jax_fem: Start timing\n",
      "[01-07 15:54:40][DEBUG] jax_fem: Computing cell Jacobian and cell residual...\n",
      "[01-07 15:54:41][DEBUG] jax_fem: Function split_and_compute_cell took 0.2874 seconds\n",
      "[01-07 15:54:41][DEBUG] jax_fem: Creating sparse matrix with scipy...\n",
      "[01-07 15:54:41][DEBUG] jax_fem: Before, res l_2 = 0.27572041507313577\n",
      "[01-07 15:54:41][DEBUG] jax_fem: Solving linear system...\n",
      "[01-07 15:54:41][DEBUG] jax_fem: JAX Solver - Solving linear system\n",
      "[01-07 15:54:43][DEBUG] jax_fem: JAX Solver - Finshed solving, res = 5.910375133409906e-11\n",
      "[01-07 15:54:43][DEBUG] jax_fem: Computing cell Jacobian and cell residual...\n",
      "[01-07 15:54:43][DEBUG] jax_fem: Function split_and_compute_cell took 0.2782 seconds\n",
      "[01-07 15:54:43][DEBUG] jax_fem: Creating sparse matrix with scipy...\n",
      "[01-07 15:54:43][DEBUG] jax_fem: res l_2 = 0.015835693840751206\n",
      "[01-07 15:54:43][DEBUG] jax_fem: Solving linear system...\n",
      "[01-07 15:54:43][DEBUG] jax_fem: JAX Solver - Solving linear system\n",
      "[01-07 15:54:45][DEBUG] jax_fem: JAX Solver - Finshed solving, res = 9.504511133551107e-11\n",
      "[01-07 15:54:45][DEBUG] jax_fem: Computing cell Jacobian and cell residual...\n",
      "[01-07 15:54:45][DEBUG] jax_fem: Function split_and_compute_cell took 0.2403 seconds\n",
      "[01-07 15:54:45][DEBUG] jax_fem: Creating sparse matrix with scipy...\n",
      "[01-07 15:54:46][DEBUG] jax_fem: res l_2 = 0.0005998428384103596\n",
      "[01-07 15:54:46][DEBUG] jax_fem: Solving linear system...\n",
      "[01-07 15:54:46][DEBUG] jax_fem: JAX Solver - Solving linear system\n",
      "[01-07 15:54:47][DEBUG] jax_fem: JAX Solver - Finshed solving, res = 9.596036543147572e-11\n",
      "[01-07 15:54:47][DEBUG] jax_fem: Computing cell Jacobian and cell residual...\n",
      "[01-07 15:54:47][DEBUG] jax_fem: Function split_and_compute_cell took 0.2285 seconds\n",
      "[01-07 15:54:47][DEBUG] jax_fem: Creating sparse matrix with scipy...\n",
      "[01-07 15:54:48][DEBUG] jax_fem: res l_2 = 2.3386666724673436e-06\n",
      "[01-07 15:54:48][DEBUG] jax_fem: Solving linear system...\n",
      "[01-07 15:54:48][DEBUG] jax_fem: JAX Solver - Solving linear system\n",
      "[01-07 15:54:49][DEBUG] jax_fem: JAX Solver - Finshed solving, res = 9.660855681752404e-11\n",
      "[01-07 15:54:49][DEBUG] jax_fem: Computing cell Jacobian and cell residual...\n",
      "[01-07 15:54:49][DEBUG] jax_fem: Function split_and_compute_cell took 0.3309 seconds\n",
      "[01-07 15:54:49][DEBUG] jax_fem: Creating sparse matrix with scipy...\n",
      "[01-07 15:54:49][DEBUG] jax_fem: res l_2 = 9.707891845328083e-11\n",
      "[01-07 15:54:49][INFO] jax_fem: Solve took 8.812200784683228 [s]\n",
      "[01-07 15:54:49][DEBUG] jax_fem: max of dofs = 1.363949835196472e-06\n",
      "[01-07 15:54:49][DEBUG] jax_fem: min of dofs = -1.1503037853039162e-06\n",
      "[01-07 15:54:49][DEBUG] jax_fem: Calling the row elimination solver for imposing Dirichlet B.C.\n",
      "[01-07 15:54:49][DEBUG] jax_fem: Start timing\n",
      "[01-07 15:54:49][DEBUG] jax_fem: Computing cell Jacobian and cell residual...\n",
      "[01-07 15:54:49][DEBUG] jax_fem: Function split_and_compute_cell took 0.0284 seconds\n",
      "[01-07 15:54:49][DEBUG] jax_fem: Creating sparse matrix with scipy...\n",
      "[01-07 15:54:49][DEBUG] jax_fem: Before, res l_2 = 13886.107936048224\n",
      "[01-07 15:54:49][DEBUG] jax_fem: Solving linear system...\n",
      "[01-07 15:54:49][DEBUG] jax_fem: JAX Solver - Solving linear system\n"
     ]
    },
    {
     "name": "stdout",
     "output_type": "stream",
     "text": [
      "max f_plus = 161179554.03510737, max stress_xx = 347597235.78381246\n",
      "\n",
      "Step 281, total step = 500, laser_x = 0.000406, Lx = 0.0005, laser ON = False\n"
     ]
    },
    {
     "name": "stderr",
     "output_type": "stream",
     "text": [
      "[01-07 15:54:50][DEBUG] jax_fem: JAX Solver - Finshed solving, res = 8.726846495040223e-08\n",
      "[01-07 15:54:50][DEBUG] jax_fem: Computing cell Jacobian and cell residual...\n",
      "[01-07 15:54:50][DEBUG] jax_fem: Function split_and_compute_cell took 0.0323 seconds\n",
      "[01-07 15:54:50][DEBUG] jax_fem: Creating sparse matrix with scipy...\n",
      "[01-07 15:54:50][DEBUG] jax_fem: res l_2 = 8.726846854414519e-08\n",
      "[01-07 15:54:50][INFO] jax_fem: Solve took 0.5917184352874756 [s]\n",
      "[01-07 15:54:50][DEBUG] jax_fem: max of dofs = 6900.127545713599\n",
      "[01-07 15:54:50][DEBUG] jax_fem: min of dofs = 300.0\n",
      "[01-07 15:54:50][DEBUG] jax_fem: Calling the row elimination solver for imposing Dirichlet B.C.\n",
      "[01-07 15:54:50][DEBUG] jax_fem: Start timing\n",
      "[01-07 15:54:50][DEBUG] jax_fem: Computing cell Jacobian and cell residual...\n",
      "[01-07 15:54:50][DEBUG] jax_fem: Function split_and_compute_cell took 0.0456 seconds\n",
      "[01-07 15:54:50][DEBUG] jax_fem: Creating sparse matrix with scipy...\n",
      "[01-07 15:54:50][DEBUG] jax_fem: Before, res l_2 = 13886.076139961096\n",
      "[01-07 15:54:50][DEBUG] jax_fem: Solving linear system...\n",
      "[01-07 15:54:50][DEBUG] jax_fem: JAX Solver - Solving linear system\n"
     ]
    },
    {
     "name": "stdout",
     "output_type": "stream",
     "text": [
      "\n",
      "Step 282, total step = 500, laser_x = 0.00040699999999999997, Lx = 0.0005, laser ON = False\n"
     ]
    },
    {
     "name": "stderr",
     "output_type": "stream",
     "text": [
      "[01-07 15:54:50][DEBUG] jax_fem: JAX Solver - Finshed solving, res = 7.955838576938276e-08\n",
      "[01-07 15:54:50][DEBUG] jax_fem: Computing cell Jacobian and cell residual...\n",
      "[01-07 15:54:50][DEBUG] jax_fem: Function split_and_compute_cell took 0.0298 seconds\n",
      "[01-07 15:54:50][DEBUG] jax_fem: Creating sparse matrix with scipy...\n",
      "[01-07 15:54:51][DEBUG] jax_fem: res l_2 = 7.955838951875567e-08\n",
      "[01-07 15:54:51][INFO] jax_fem: Solve took 0.5753798484802246 [s]\n",
      "[01-07 15:54:51][DEBUG] jax_fem: max of dofs = 6788.257784110148\n",
      "[01-07 15:54:51][DEBUG] jax_fem: min of dofs = 300.0\n",
      "[01-07 15:54:51][DEBUG] jax_fem: Calling the row elimination solver for imposing Dirichlet B.C.\n",
      "[01-07 15:54:51][DEBUG] jax_fem: Start timing\n",
      "[01-07 15:54:51][DEBUG] jax_fem: Computing cell Jacobian and cell residual...\n",
      "[01-07 15:54:51][DEBUG] jax_fem: Function split_and_compute_cell took 0.0280 seconds\n",
      "[01-07 15:54:51][DEBUG] jax_fem: Creating sparse matrix with scipy...\n",
      "[01-07 15:54:51][DEBUG] jax_fem: Before, res l_2 = 13886.045128632517\n",
      "[01-07 15:54:51][DEBUG] jax_fem: Solving linear system...\n",
      "[01-07 15:54:51][DEBUG] jax_fem: JAX Solver - Solving linear system\n"
     ]
    },
    {
     "name": "stdout",
     "output_type": "stream",
     "text": [
      "\n",
      "Step 283, total step = 500, laser_x = 0.000408, Lx = 0.0005, laser ON = False\n"
     ]
    },
    {
     "name": "stderr",
     "output_type": "stream",
     "text": [
      "[01-07 15:54:51][DEBUG] jax_fem: JAX Solver - Finshed solving, res = 7.271326034470801e-08\n",
      "[01-07 15:54:51][DEBUG] jax_fem: Computing cell Jacobian and cell residual...\n",
      "[01-07 15:54:51][DEBUG] jax_fem: Function split_and_compute_cell took 0.0444 seconds\n",
      "[01-07 15:54:51][DEBUG] jax_fem: Creating sparse matrix with scipy...\n",
      "[01-07 15:54:51][DEBUG] jax_fem: res l_2 = 7.27132631296841e-08\n",
      "[01-07 15:54:51][INFO] jax_fem: Solve took 0.6651296615600586 [s]\n",
      "[01-07 15:54:51][DEBUG] jax_fem: max of dofs = 6679.196582629965\n",
      "[01-07 15:54:51][DEBUG] jax_fem: min of dofs = 300.0\n",
      "[01-07 15:54:51][DEBUG] jax_fem: Calling the row elimination solver for imposing Dirichlet B.C.\n",
      "[01-07 15:54:51][DEBUG] jax_fem: Start timing\n",
      "[01-07 15:54:51][DEBUG] jax_fem: Computing cell Jacobian and cell residual...\n",
      "[01-07 15:54:51][DEBUG] jax_fem: Function split_and_compute_cell took 0.0303 seconds\n",
      "[01-07 15:54:51][DEBUG] jax_fem: Creating sparse matrix with scipy...\n",
      "[01-07 15:54:51][DEBUG] jax_fem: Before, res l_2 = 13886.014879327882\n",
      "[01-07 15:54:51][DEBUG] jax_fem: Solving linear system...\n",
      "[01-07 15:54:51][DEBUG] jax_fem: JAX Solver - Solving linear system\n"
     ]
    },
    {
     "name": "stdout",
     "output_type": "stream",
     "text": [
      "\n",
      "Step 284, total step = 500, laser_x = 0.00040899999999999997, Lx = 0.0005, laser ON = False\n"
     ]
    },
    {
     "name": "stderr",
     "output_type": "stream",
     "text": [
      "[01-07 15:54:52][DEBUG] jax_fem: JAX Solver - Finshed solving, res = 6.66456971844692e-08\n",
      "[01-07 15:54:52][DEBUG] jax_fem: Computing cell Jacobian and cell residual...\n",
      "[01-07 15:54:52][DEBUG] jax_fem: Function split_and_compute_cell took 0.0376 seconds\n",
      "[01-07 15:54:52][DEBUG] jax_fem: Creating sparse matrix with scipy...\n",
      "[01-07 15:54:52][DEBUG] jax_fem: res l_2 = 6.664569520481527e-08\n",
      "[01-07 15:54:52][INFO] jax_fem: Solve took 0.5410993099212646 [s]\n",
      "[01-07 15:54:52][DEBUG] jax_fem: max of dofs = 6572.812764253012\n",
      "[01-07 15:54:52][DEBUG] jax_fem: min of dofs = 300.0\n",
      "[01-07 15:54:52][DEBUG] jax_fem: Calling the row elimination solver for imposing Dirichlet B.C.\n",
      "[01-07 15:54:52][DEBUG] jax_fem: Start timing\n",
      "[01-07 15:54:52][DEBUG] jax_fem: Computing cell Jacobian and cell residual...\n",
      "[01-07 15:54:52][DEBUG] jax_fem: Function split_and_compute_cell took 0.0301 seconds\n",
      "[01-07 15:54:52][DEBUG] jax_fem: Creating sparse matrix with scipy...\n",
      "[01-07 15:54:52][DEBUG] jax_fem: Before, res l_2 = 13885.985370112934\n",
      "[01-07 15:54:52][DEBUG] jax_fem: Solving linear system...\n",
      "[01-07 15:54:52][DEBUG] jax_fem: JAX Solver - Solving linear system\n"
     ]
    },
    {
     "name": "stdout",
     "output_type": "stream",
     "text": [
      "\n",
      "Step 285, total step = 500, laser_x = 0.00041, Lx = 0.0005, laser ON = False\n"
     ]
    },
    {
     "name": "stderr",
     "output_type": "stream",
     "text": [
      "[01-07 15:54:52][DEBUG] jax_fem: JAX Solver - Finshed solving, res = 6.126916806527217e-08\n",
      "[01-07 15:54:52][DEBUG] jax_fem: Computing cell Jacobian and cell residual...\n",
      "[01-07 15:54:52][DEBUG] jax_fem: Function split_and_compute_cell took 0.0443 seconds\n",
      "[01-07 15:54:52][DEBUG] jax_fem: Creating sparse matrix with scipy...\n",
      "[01-07 15:54:52][DEBUG] jax_fem: res l_2 = 6.126916627011205e-08\n",
      "[01-07 15:54:52][INFO] jax_fem: Solve took 0.6036126613616943 [s]\n",
      "[01-07 15:54:52][DEBUG] jax_fem: max of dofs = 6468.985277276237\n",
      "[01-07 15:54:52][DEBUG] jax_fem: min of dofs = 300.0\n",
      "[01-07 15:54:52][DEBUG] jax_fem: Calling the row elimination solver for imposing Dirichlet B.C.\n",
      "[01-07 15:54:52][DEBUG] jax_fem: Start timing\n",
      "[01-07 15:54:52][DEBUG] jax_fem: Computing cell Jacobian and cell residual...\n",
      "[01-07 15:54:52][DEBUG] jax_fem: Function split_and_compute_cell took 0.0272 seconds\n",
      "[01-07 15:54:52][DEBUG] jax_fem: Creating sparse matrix with scipy...\n",
      "[01-07 15:54:52][DEBUG] jax_fem: Before, res l_2 = 13885.956579813148\n",
      "[01-07 15:54:52][DEBUG] jax_fem: Solving linear system...\n",
      "[01-07 15:54:52][DEBUG] jax_fem: JAX Solver - Solving linear system\n"
     ]
    },
    {
     "name": "stdout",
     "output_type": "stream",
     "text": [
      "\n",
      "Step 286, total step = 500, laser_x = 0.000411, Lx = 0.0005, laser ON = False\n"
     ]
    },
    {
     "name": "stderr",
     "output_type": "stream",
     "text": [
      "[01-07 15:54:53][DEBUG] jax_fem: JAX Solver - Finshed solving, res = 5.650213473818264e-08\n",
      "[01-07 15:54:53][DEBUG] jax_fem: Computing cell Jacobian and cell residual...\n",
      "[01-07 15:54:53][DEBUG] jax_fem: Function split_and_compute_cell took 0.0354 seconds\n",
      "[01-07 15:54:53][DEBUG] jax_fem: Creating sparse matrix with scipy...\n",
      "[01-07 15:54:53][DEBUG] jax_fem: res l_2 = 5.650213152741023e-08\n",
      "[01-07 15:54:53][INFO] jax_fem: Solve took 0.5747907161712646 [s]\n",
      "[01-07 15:54:53][DEBUG] jax_fem: max of dofs = 6367.602203134705\n",
      "[01-07 15:54:53][DEBUG] jax_fem: min of dofs = 300.0\n",
      "[01-07 15:54:53][DEBUG] jax_fem: Calling the row elimination solver for imposing Dirichlet B.C.\n",
      "[01-07 15:54:53][DEBUG] jax_fem: Start timing\n",
      "[01-07 15:54:53][DEBUG] jax_fem: Computing cell Jacobian and cell residual...\n",
      "[01-07 15:54:53][DEBUG] jax_fem: Function split_and_compute_cell took 0.0270 seconds\n",
      "[01-07 15:54:53][DEBUG] jax_fem: Creating sparse matrix with scipy...\n",
      "[01-07 15:54:53][DEBUG] jax_fem: Before, res l_2 = 13885.92848797702\n",
      "[01-07 15:54:53][DEBUG] jax_fem: Solving linear system...\n",
      "[01-07 15:54:53][DEBUG] jax_fem: JAX Solver - Solving linear system\n"
     ]
    },
    {
     "name": "stdout",
     "output_type": "stream",
     "text": [
      "\n",
      "Step 287, total step = 500, laser_x = 0.000412, Lx = 0.0005, laser ON = False\n"
     ]
    },
    {
     "name": "stderr",
     "output_type": "stream",
     "text": [
      "[01-07 15:54:53][DEBUG] jax_fem: JAX Solver - Finshed solving, res = 5.226996590116768e-08\n",
      "[01-07 15:54:53][DEBUG] jax_fem: Computing cell Jacobian and cell residual...\n",
      "[01-07 15:54:53][DEBUG] jax_fem: Function split_and_compute_cell took 0.0349 seconds\n",
      "[01-07 15:54:53][DEBUG] jax_fem: Creating sparse matrix with scipy...\n",
      "[01-07 15:54:54][DEBUG] jax_fem: res l_2 = 5.226996454256862e-08\n",
      "[01-07 15:54:54][INFO] jax_fem: Solve took 0.549161434173584 [s]\n",
      "[01-07 15:54:54][DEBUG] jax_fem: max of dofs = 6268.5598749495775\n",
      "[01-07 15:54:54][DEBUG] jax_fem: min of dofs = 300.0\n",
      "[01-07 15:54:54][DEBUG] jax_fem: Calling the row elimination solver for imposing Dirichlet B.C.\n",
      "[01-07 15:54:54][DEBUG] jax_fem: Start timing\n",
      "[01-07 15:54:54][DEBUG] jax_fem: Computing cell Jacobian and cell residual...\n",
      "[01-07 15:54:54][DEBUG] jax_fem: Function split_and_compute_cell took 0.0352 seconds\n",
      "[01-07 15:54:54][DEBUG] jax_fem: Creating sparse matrix with scipy...\n",
      "[01-07 15:54:54][DEBUG] jax_fem: Before, res l_2 = 13885.901074842634\n",
      "[01-07 15:54:54][DEBUG] jax_fem: Solving linear system...\n",
      "[01-07 15:54:54][DEBUG] jax_fem: JAX Solver - Solving linear system\n"
     ]
    },
    {
     "name": "stdout",
     "output_type": "stream",
     "text": [
      "\n",
      "Step 288, total step = 500, laser_x = 0.000413, Lx = 0.0005, laser ON = False\n"
     ]
    },
    {
     "name": "stderr",
     "output_type": "stream",
     "text": [
      "[01-07 15:54:54][DEBUG] jax_fem: JAX Solver - Finshed solving, res = 4.850563921633478e-08\n",
      "[01-07 15:54:54][DEBUG] jax_fem: Computing cell Jacobian and cell residual...\n",
      "[01-07 15:54:54][DEBUG] jax_fem: Function split_and_compute_cell took 0.0588 seconds\n",
      "[01-07 15:54:54][DEBUG] jax_fem: Creating sparse matrix with scipy...\n",
      "[01-07 15:54:54][DEBUG] jax_fem: res l_2 = 4.850563881063323e-08\n",
      "[01-07 15:54:54][INFO] jax_fem: Solve took 0.607581615447998 [s]\n",
      "[01-07 15:54:54][DEBUG] jax_fem: max of dofs = 6171.762092813536\n",
      "[01-07 15:54:54][DEBUG] jax_fem: min of dofs = 300.0\n",
      "[01-07 15:54:54][DEBUG] jax_fem: Calling the row elimination solver for imposing Dirichlet B.C.\n",
      "[01-07 15:54:54][DEBUG] jax_fem: Start timing\n",
      "[01-07 15:54:54][DEBUG] jax_fem: Computing cell Jacobian and cell residual...\n",
      "[01-07 15:54:54][DEBUG] jax_fem: Function split_and_compute_cell took 0.0389 seconds\n",
      "[01-07 15:54:54][DEBUG] jax_fem: Creating sparse matrix with scipy...\n",
      "[01-07 15:54:54][DEBUG] jax_fem: Before, res l_2 = 13885.874321307028\n",
      "[01-07 15:54:54][DEBUG] jax_fem: Solving linear system...\n",
      "[01-07 15:54:54][DEBUG] jax_fem: JAX Solver - Solving linear system\n"
     ]
    },
    {
     "name": "stdout",
     "output_type": "stream",
     "text": [
      "\n",
      "Step 289, total step = 500, laser_x = 0.000414, Lx = 0.0005, laser ON = False\n"
     ]
    },
    {
     "name": "stderr",
     "output_type": "stream",
     "text": [
      "[01-07 15:54:55][DEBUG] jax_fem: JAX Solver - Finshed solving, res = 4.514969127403526e-08\n",
      "[01-07 15:54:55][DEBUG] jax_fem: Computing cell Jacobian and cell residual...\n",
      "[01-07 15:54:55][DEBUG] jax_fem: Function split_and_compute_cell took 0.0310 seconds\n",
      "[01-07 15:54:55][DEBUG] jax_fem: Creating sparse matrix with scipy...\n",
      "[01-07 15:54:55][DEBUG] jax_fem: res l_2 = 4.514969277287299e-08\n",
      "[01-07 15:54:55][INFO] jax_fem: Solve took 0.6422648429870605 [s]\n",
      "[01-07 15:54:55][DEBUG] jax_fem: max of dofs = 6077.119423871776\n",
      "[01-07 15:54:55][DEBUG] jax_fem: min of dofs = 300.0\n",
      "[01-07 15:54:55][DEBUG] jax_fem: Calling the row elimination solver for imposing Dirichlet B.C.\n",
      "[01-07 15:54:55][DEBUG] jax_fem: Start timing\n",
      "[01-07 15:54:55][DEBUG] jax_fem: Computing cell Jacobian and cell residual...\n",
      "[01-07 15:54:55][DEBUG] jax_fem: Function split_and_compute_cell took 0.0273 seconds\n",
      "[01-07 15:54:55][DEBUG] jax_fem: Creating sparse matrix with scipy...\n",
      "[01-07 15:54:55][DEBUG] jax_fem: Before, res l_2 = 13885.848208897934\n",
      "[01-07 15:54:55][DEBUG] jax_fem: Solving linear system...\n",
      "[01-07 15:54:55][DEBUG] jax_fem: JAX Solver - Solving linear system\n"
     ]
    },
    {
     "name": "stdout",
     "output_type": "stream",
     "text": [
      "\n",
      "Step 290, total step = 500, laser_x = 0.000415, Lx = 0.0005, laser ON = False\n"
     ]
    },
    {
     "name": "stderr",
     "output_type": "stream",
     "text": [
      "[01-07 15:54:55][DEBUG] jax_fem: JAX Solver - Finshed solving, res = 4.214978229689785e-08\n",
      "[01-07 15:54:55][DEBUG] jax_fem: Computing cell Jacobian and cell residual...\n",
      "[01-07 15:54:55][DEBUG] jax_fem: Function split_and_compute_cell took 0.0315 seconds\n",
      "[01-07 15:54:55][DEBUG] jax_fem: Creating sparse matrix with scipy...\n",
      "[01-07 15:54:55][DEBUG] jax_fem: res l_2 = 4.2149780592842376e-08\n",
      "[01-07 15:54:55][INFO] jax_fem: Solve took 0.5547761917114258 [s]\n",
      "[01-07 15:54:55][DEBUG] jax_fem: max of dofs = 5984.548576953532\n",
      "[01-07 15:54:55][DEBUG] jax_fem: min of dofs = 300.0\n",
      "[01-07 15:54:55][DEBUG] jax_fem: Calling the row elimination solver for imposing Dirichlet B.C.\n",
      "[01-07 15:54:55][DEBUG] jax_fem: Start timing\n",
      "[01-07 15:54:55][DEBUG] jax_fem: Computing cell Jacobian and cell residual...\n",
      "[01-07 15:54:56][DEBUG] jax_fem: Function split_and_compute_cell took 0.2271 seconds\n",
      "[01-07 15:54:56][DEBUG] jax_fem: Creating sparse matrix with scipy...\n",
      "[01-07 15:54:56][DEBUG] jax_fem: Before, res l_2 = 0.2889653003512265\n",
      "[01-07 15:54:56][DEBUG] jax_fem: Solving linear system...\n",
      "[01-07 15:54:56][DEBUG] jax_fem: JAX Solver - Solving linear system\n",
      "[01-07 15:54:58][DEBUG] jax_fem: JAX Solver - Finshed solving, res = 9.068553654916643e-11\n",
      "[01-07 15:54:58][DEBUG] jax_fem: Computing cell Jacobian and cell residual...\n",
      "[01-07 15:54:58][DEBUG] jax_fem: Function split_and_compute_cell took 0.3559 seconds\n",
      "[01-07 15:54:58][DEBUG] jax_fem: Creating sparse matrix with scipy...\n",
      "[01-07 15:54:58][DEBUG] jax_fem: res l_2 = 0.016832436773957883\n",
      "[01-07 15:54:58][DEBUG] jax_fem: Solving linear system...\n",
      "[01-07 15:54:58][DEBUG] jax_fem: JAX Solver - Solving linear system\n",
      "[01-07 15:55:00][DEBUG] jax_fem: JAX Solver - Finshed solving, res = 7.521139578146347e-11\n",
      "[01-07 15:55:00][DEBUG] jax_fem: Computing cell Jacobian and cell residual...\n",
      "[01-07 15:55:00][DEBUG] jax_fem: Function split_and_compute_cell took 0.2886 seconds\n",
      "[01-07 15:55:00][DEBUG] jax_fem: Creating sparse matrix with scipy...\n",
      "[01-07 15:55:00][DEBUG] jax_fem: res l_2 = 0.0007413806724359945\n",
      "[01-07 15:55:00][DEBUG] jax_fem: Solving linear system...\n",
      "[01-07 15:55:01][DEBUG] jax_fem: JAX Solver - Solving linear system\n",
      "[01-07 15:55:02][DEBUG] jax_fem: JAX Solver - Finshed solving, res = 1.5109756299036898e-11\n",
      "[01-07 15:55:02][DEBUG] jax_fem: Computing cell Jacobian and cell residual...\n",
      "[01-07 15:55:02][DEBUG] jax_fem: Function split_and_compute_cell took 0.2259 seconds\n",
      "[01-07 15:55:02][DEBUG] jax_fem: Creating sparse matrix with scipy...\n",
      "[01-07 15:55:03][DEBUG] jax_fem: res l_2 = 5.998572681557581e-06\n",
      "[01-07 15:55:03][DEBUG] jax_fem: Solving linear system...\n",
      "[01-07 15:55:03][DEBUG] jax_fem: JAX Solver - Solving linear system\n",
      "[01-07 15:55:04][DEBUG] jax_fem: JAX Solver - Finshed solving, res = 9.990699000706978e-11\n",
      "[01-07 15:55:04][DEBUG] jax_fem: Computing cell Jacobian and cell residual...\n",
      "[01-07 15:55:04][DEBUG] jax_fem: Function split_and_compute_cell took 0.2007 seconds\n",
      "[01-07 15:55:04][DEBUG] jax_fem: Creating sparse matrix with scipy...\n",
      "[01-07 15:55:04][DEBUG] jax_fem: res l_2 = 1.4055871861603082e-10\n",
      "[01-07 15:55:04][INFO] jax_fem: Solve took 8.636574983596802 [s]\n",
      "[01-07 15:55:04][DEBUG] jax_fem: max of dofs = 1.4277409209883863e-06\n",
      "[01-07 15:55:04][DEBUG] jax_fem: min of dofs = -1.2032632908973272e-06\n",
      "[01-07 15:55:04][DEBUG] jax_fem: Calling the row elimination solver for imposing Dirichlet B.C.\n",
      "[01-07 15:55:04][DEBUG] jax_fem: Start timing\n",
      "[01-07 15:55:04][DEBUG] jax_fem: Computing cell Jacobian and cell residual...\n",
      "[01-07 15:55:04][DEBUG] jax_fem: Function split_and_compute_cell took 0.0273 seconds\n",
      "[01-07 15:55:04][DEBUG] jax_fem: Creating sparse matrix with scipy...\n",
      "[01-07 15:55:04][DEBUG] jax_fem: Before, res l_2 = 13885.822719747537\n",
      "[01-07 15:55:04][DEBUG] jax_fem: Solving linear system...\n",
      "[01-07 15:55:04][DEBUG] jax_fem: JAX Solver - Solving linear system\n"
     ]
    },
    {
     "name": "stdout",
     "output_type": "stream",
     "text": [
      "max f_plus = 171186046.43500876, max stress_xx = 362127965.08074296\n",
      "\n",
      "Step 291, total step = 500, laser_x = 0.000416, Lx = 0.0005, laser ON = False\n"
     ]
    },
    {
     "name": "stderr",
     "output_type": "stream",
     "text": [
      "[01-07 15:55:05][DEBUG] jax_fem: JAX Solver - Finshed solving, res = 3.946008680036215e-08\n",
      "[01-07 15:55:05][DEBUG] jax_fem: Computing cell Jacobian and cell residual...\n",
      "[01-07 15:55:05][DEBUG] jax_fem: Function split_and_compute_cell took 0.0412 seconds\n",
      "[01-07 15:55:05][DEBUG] jax_fem: Creating sparse matrix with scipy...\n",
      "[01-07 15:55:05][DEBUG] jax_fem: res l_2 = 3.94600852906666e-08\n",
      "[01-07 15:55:05][INFO] jax_fem: Solve took 0.6027770042419434 [s]\n",
      "[01-07 15:55:05][DEBUG] jax_fem: max of dofs = 5893.971842924168\n",
      "[01-07 15:55:05][DEBUG] jax_fem: min of dofs = 300.0\n",
      "[01-07 15:55:05][DEBUG] jax_fem: Calling the row elimination solver for imposing Dirichlet B.C.\n",
      "[01-07 15:55:05][DEBUG] jax_fem: Start timing\n",
      "[01-07 15:55:05][DEBUG] jax_fem: Computing cell Jacobian and cell residual...\n",
      "[01-07 15:55:05][DEBUG] jax_fem: Function split_and_compute_cell took 0.0294 seconds\n",
      "[01-07 15:55:05][DEBUG] jax_fem: Creating sparse matrix with scipy...\n",
      "[01-07 15:55:05][DEBUG] jax_fem: Before, res l_2 = 13885.797836568026\n",
      "[01-07 15:55:05][DEBUG] jax_fem: Solving linear system...\n",
      "[01-07 15:55:05][DEBUG] jax_fem: JAX Solver - Solving linear system\n"
     ]
    },
    {
     "name": "stdout",
     "output_type": "stream",
     "text": [
      "\n",
      "Step 292, total step = 500, laser_x = 0.000417, Lx = 0.0005, laser ON = False\n"
     ]
    },
    {
     "name": "stderr",
     "output_type": "stream",
     "text": [
      "[01-07 15:55:05][DEBUG] jax_fem: JAX Solver - Finshed solving, res = 3.70406735620736e-08\n",
      "[01-07 15:55:05][DEBUG] jax_fem: Computing cell Jacobian and cell residual...\n",
      "[01-07 15:55:05][DEBUG] jax_fem: Function split_and_compute_cell took 0.0323 seconds\n",
      "[01-07 15:55:05][DEBUG] jax_fem: Creating sparse matrix with scipy...\n",
      "[01-07 15:55:05][DEBUG] jax_fem: res l_2 = 3.704067125113367e-08\n",
      "[01-07 15:55:05][INFO] jax_fem: Solve took 0.5552308559417725 [s]\n",
      "[01-07 15:55:05][DEBUG] jax_fem: max of dofs = 5807.587501980519\n",
      "[01-07 15:55:05][DEBUG] jax_fem: min of dofs = 300.0\n",
      "[01-07 15:55:05][DEBUG] jax_fem: Calling the row elimination solver for imposing Dirichlet B.C.\n",
      "[01-07 15:55:05][DEBUG] jax_fem: Start timing\n",
      "[01-07 15:55:05][DEBUG] jax_fem: Computing cell Jacobian and cell residual...\n",
      "[01-07 15:55:05][DEBUG] jax_fem: Function split_and_compute_cell took 0.0260 seconds\n",
      "[01-07 15:55:05][DEBUG] jax_fem: Creating sparse matrix with scipy...\n",
      "[01-07 15:55:05][DEBUG] jax_fem: Before, res l_2 = 13885.773542628662\n",
      "[01-07 15:55:05][DEBUG] jax_fem: Solving linear system...\n",
      "[01-07 15:55:05][DEBUG] jax_fem: JAX Solver - Solving linear system\n"
     ]
    },
    {
     "name": "stdout",
     "output_type": "stream",
     "text": [
      "\n",
      "Step 293, total step = 500, laser_x = 0.00041799999999999997, Lx = 0.0005, laser ON = False\n"
     ]
    },
    {
     "name": "stderr",
     "output_type": "stream",
     "text": [
      "[01-07 15:55:06][DEBUG] jax_fem: JAX Solver - Finshed solving, res = 3.4856799745532914e-08\n",
      "[01-07 15:55:06][DEBUG] jax_fem: Computing cell Jacobian and cell residual...\n",
      "[01-07 15:55:06][DEBUG] jax_fem: Function split_and_compute_cell took 0.0669 seconds\n",
      "[01-07 15:55:06][DEBUG] jax_fem: Creating sparse matrix with scipy...\n",
      "[01-07 15:55:06][DEBUG] jax_fem: res l_2 = 3.4856803560486366e-08\n",
      "[01-07 15:55:06][INFO] jax_fem: Solve took 0.6395881175994873 [s]\n",
      "[01-07 15:55:06][DEBUG] jax_fem: max of dofs = 5724.028849549502\n",
      "[01-07 15:55:06][DEBUG] jax_fem: min of dofs = 300.0\n",
      "[01-07 15:55:06][DEBUG] jax_fem: Calling the row elimination solver for imposing Dirichlet B.C.\n",
      "[01-07 15:55:06][DEBUG] jax_fem: Start timing\n",
      "[01-07 15:55:06][DEBUG] jax_fem: Computing cell Jacobian and cell residual...\n",
      "[01-07 15:55:06][DEBUG] jax_fem: Function split_and_compute_cell took 0.0307 seconds\n",
      "[01-07 15:55:06][DEBUG] jax_fem: Creating sparse matrix with scipy...\n",
      "[01-07 15:55:06][DEBUG] jax_fem: Before, res l_2 = 13885.749821734224\n",
      "[01-07 15:55:06][DEBUG] jax_fem: Solving linear system...\n",
      "[01-07 15:55:06][DEBUG] jax_fem: JAX Solver - Solving linear system\n"
     ]
    },
    {
     "name": "stdout",
     "output_type": "stream",
     "text": [
      "\n",
      "Step 294, total step = 500, laser_x = 0.000419, Lx = 0.0005, laser ON = False\n"
     ]
    },
    {
     "name": "stderr",
     "output_type": "stream",
     "text": [
      "[01-07 15:55:07][DEBUG] jax_fem: JAX Solver - Finshed solving, res = 3.287832913948927e-08\n",
      "[01-07 15:55:07][DEBUG] jax_fem: Computing cell Jacobian and cell residual...\n",
      "[01-07 15:55:07][DEBUG] jax_fem: Function split_and_compute_cell took 0.0325 seconds\n",
      "[01-07 15:55:07][DEBUG] jax_fem: Creating sparse matrix with scipy...\n",
      "[01-07 15:55:07][DEBUG] jax_fem: res l_2 = 3.2878329856865114e-08\n",
      "[01-07 15:55:07][INFO] jax_fem: Solve took 0.6128890514373779 [s]\n",
      "[01-07 15:55:07][DEBUG] jax_fem: max of dofs = 5642.072136543764\n",
      "[01-07 15:55:07][DEBUG] jax_fem: min of dofs = 300.0\n",
      "[01-07 15:55:07][DEBUG] jax_fem: Calling the row elimination solver for imposing Dirichlet B.C.\n",
      "[01-07 15:55:07][DEBUG] jax_fem: Start timing\n",
      "[01-07 15:55:07][DEBUG] jax_fem: Computing cell Jacobian and cell residual...\n",
      "[01-07 15:55:07][DEBUG] jax_fem: Function split_and_compute_cell took 0.0468 seconds\n",
      "[01-07 15:55:07][DEBUG] jax_fem: Creating sparse matrix with scipy...\n",
      "[01-07 15:55:07][DEBUG] jax_fem: Before, res l_2 = 13885.726658204616\n",
      "[01-07 15:55:07][DEBUG] jax_fem: Solving linear system...\n",
      "[01-07 15:55:07][DEBUG] jax_fem: JAX Solver - Solving linear system\n"
     ]
    },
    {
     "name": "stdout",
     "output_type": "stream",
     "text": [
      "\n",
      "Step 295, total step = 500, laser_x = 0.00041999999999999996, Lx = 0.0005, laser ON = False\n"
     ]
    },
    {
     "name": "stderr",
     "output_type": "stream",
     "text": [
      "[01-07 15:55:07][DEBUG] jax_fem: JAX Solver - Finshed solving, res = 3.107914616310202e-08\n",
      "[01-07 15:55:07][DEBUG] jax_fem: Computing cell Jacobian and cell residual...\n",
      "[01-07 15:55:07][DEBUG] jax_fem: Function split_and_compute_cell took 0.0331 seconds\n",
      "[01-07 15:55:07][DEBUG] jax_fem: Creating sparse matrix with scipy...\n",
      "[01-07 15:55:07][DEBUG] jax_fem: res l_2 = 3.107914737254687e-08\n",
      "[01-07 15:55:07][INFO] jax_fem: Solve took 0.5817372798919678 [s]\n",
      "[01-07 15:55:07][DEBUG] jax_fem: max of dofs = 5561.668316043782\n",
      "[01-07 15:55:07][DEBUG] jax_fem: min of dofs = 300.0\n",
      "[01-07 15:55:07][DEBUG] jax_fem: Calling the row elimination solver for imposing Dirichlet B.C.\n",
      "[01-07 15:55:07][DEBUG] jax_fem: Start timing\n",
      "[01-07 15:55:07][DEBUG] jax_fem: Computing cell Jacobian and cell residual...\n",
      "[01-07 15:55:07][DEBUG] jax_fem: Function split_and_compute_cell took 0.0293 seconds\n",
      "[01-07 15:55:07][DEBUG] jax_fem: Creating sparse matrix with scipy...\n",
      "[01-07 15:55:07][DEBUG] jax_fem: Before, res l_2 = 13885.704036855615\n",
      "[01-07 15:55:07][DEBUG] jax_fem: Solving linear system...\n",
      "[01-07 15:55:07][DEBUG] jax_fem: JAX Solver - Solving linear system\n"
     ]
    },
    {
     "name": "stdout",
     "output_type": "stream",
     "text": [
      "\n",
      "Step 296, total step = 500, laser_x = 0.000421, Lx = 0.0005, laser ON = False\n"
     ]
    },
    {
     "name": "stderr",
     "output_type": "stream",
     "text": [
      "[01-07 15:55:08][DEBUG] jax_fem: JAX Solver - Finshed solving, res = 2.9436657171218182e-08\n",
      "[01-07 15:55:08][DEBUG] jax_fem: Computing cell Jacobian and cell residual...\n",
      "[01-07 15:55:08][DEBUG] jax_fem: Function split_and_compute_cell took 0.0461 seconds\n",
      "[01-07 15:55:08][DEBUG] jax_fem: Creating sparse matrix with scipy...\n",
      "[01-07 15:55:08][DEBUG] jax_fem: res l_2 = 2.943665615132112e-08\n",
      "[01-07 15:55:08][INFO] jax_fem: Solve took 0.5326375961303711 [s]\n",
      "[01-07 15:55:08][DEBUG] jax_fem: max of dofs = 5482.771102411764\n",
      "[01-07 15:55:08][DEBUG] jax_fem: min of dofs = 300.0\n",
      "[01-07 15:55:08][DEBUG] jax_fem: Calling the row elimination solver for imposing Dirichlet B.C.\n",
      "[01-07 15:55:08][DEBUG] jax_fem: Start timing\n",
      "[01-07 15:55:08][DEBUG] jax_fem: Computing cell Jacobian and cell residual...\n",
      "[01-07 15:55:08][DEBUG] jax_fem: Function split_and_compute_cell took 0.0244 seconds\n",
      "[01-07 15:55:08][DEBUG] jax_fem: Creating sparse matrix with scipy...\n",
      "[01-07 15:55:08][DEBUG] jax_fem: Before, res l_2 = 13885.681942980505\n",
      "[01-07 15:55:08][DEBUG] jax_fem: Solving linear system...\n",
      "[01-07 15:55:08][DEBUG] jax_fem: JAX Solver - Solving linear system\n"
     ]
    },
    {
     "name": "stdout",
     "output_type": "stream",
     "text": [
      "\n",
      "Step 297, total step = 500, laser_x = 0.000422, Lx = 0.0005, laser ON = False\n"
     ]
    },
    {
     "name": "stderr",
     "output_type": "stream",
     "text": [
      "[01-07 15:55:08][DEBUG] jax_fem: JAX Solver - Finshed solving, res = 2.793133255842841e-08\n",
      "[01-07 15:55:08][DEBUG] jax_fem: Computing cell Jacobian and cell residual...\n",
      "[01-07 15:55:08][DEBUG] jax_fem: Function split_and_compute_cell took 0.0480 seconds\n",
      "[01-07 15:55:08][DEBUG] jax_fem: Creating sparse matrix with scipy...\n",
      "[01-07 15:55:08][DEBUG] jax_fem: res l_2 = 2.7931334430639247e-08\n",
      "[01-07 15:55:08][INFO] jax_fem: Solve took 0.5222280025482178 [s]\n",
      "[01-07 15:55:08][DEBUG] jax_fem: max of dofs = 5405.336743703315\n",
      "[01-07 15:55:08][DEBUG] jax_fem: min of dofs = 300.0\n",
      "[01-07 15:55:08][DEBUG] jax_fem: Calling the row elimination solver for imposing Dirichlet B.C.\n",
      "[01-07 15:55:08][DEBUG] jax_fem: Start timing\n",
      "[01-07 15:55:08][DEBUG] jax_fem: Computing cell Jacobian and cell residual...\n",
      "[01-07 15:55:08][DEBUG] jax_fem: Function split_and_compute_cell took 0.0356 seconds\n",
      "[01-07 15:55:08][DEBUG] jax_fem: Creating sparse matrix with scipy...\n",
      "[01-07 15:55:08][DEBUG] jax_fem: Before, res l_2 = 13885.660362332668\n",
      "[01-07 15:55:08][DEBUG] jax_fem: Solving linear system...\n",
      "[01-07 15:55:08][DEBUG] jax_fem: JAX Solver - Solving linear system\n"
     ]
    },
    {
     "name": "stdout",
     "output_type": "stream",
     "text": [
      "\n",
      "Step 298, total step = 500, laser_x = 0.000423, Lx = 0.0005, laser ON = False\n"
     ]
    },
    {
     "name": "stderr",
     "output_type": "stream",
     "text": [
      "[01-07 15:55:09][DEBUG] jax_fem: JAX Solver - Finshed solving, res = 2.6546312703414757e-08\n",
      "[01-07 15:55:09][DEBUG] jax_fem: Computing cell Jacobian and cell residual...\n",
      "[01-07 15:55:09][DEBUG] jax_fem: Function split_and_compute_cell took 0.0431 seconds\n",
      "[01-07 15:55:09][DEBUG] jax_fem: Creating sparse matrix with scipy...\n",
      "[01-07 15:55:09][DEBUG] jax_fem: res l_2 = 2.654631359447119e-08\n",
      "[01-07 15:55:09][INFO] jax_fem: Solve took 0.5992529392242432 [s]\n",
      "[01-07 15:55:09][DEBUG] jax_fem: max of dofs = 5329.323815910251\n",
      "[01-07 15:55:09][DEBUG] jax_fem: min of dofs = 300.0\n",
      "[01-07 15:55:09][DEBUG] jax_fem: Calling the row elimination solver for imposing Dirichlet B.C.\n",
      "[01-07 15:55:09][DEBUG] jax_fem: Start timing\n",
      "[01-07 15:55:09][DEBUG] jax_fem: Computing cell Jacobian and cell residual...\n",
      "[01-07 15:55:09][DEBUG] jax_fem: Function split_and_compute_cell took 0.0322 seconds\n",
      "[01-07 15:55:09][DEBUG] jax_fem: Creating sparse matrix with scipy...\n",
      "[01-07 15:55:09][DEBUG] jax_fem: Before, res l_2 = 13885.639281108926\n",
      "[01-07 15:55:09][DEBUG] jax_fem: Solving linear system...\n",
      "[01-07 15:55:09][DEBUG] jax_fem: JAX Solver - Solving linear system\n"
     ]
    },
    {
     "name": "stdout",
     "output_type": "stream",
     "text": [
      "\n",
      "Step 299, total step = 500, laser_x = 0.000424, Lx = 0.0005, laser ON = False\n"
     ]
    },
    {
     "name": "stderr",
     "output_type": "stream",
     "text": [
      "[01-07 15:55:09][DEBUG] jax_fem: JAX Solver - Finshed solving, res = 2.52670455266847e-08\n",
      "[01-07 15:55:09][DEBUG] jax_fem: Computing cell Jacobian and cell residual...\n",
      "[01-07 15:55:09][DEBUG] jax_fem: Function split_and_compute_cell took 0.0291 seconds\n",
      "[01-07 15:55:09][DEBUG] jax_fem: Creating sparse matrix with scipy...\n",
      "[01-07 15:55:09][DEBUG] jax_fem: res l_2 = 2.5267045278882063e-08\n",
      "[01-07 15:55:09][INFO] jax_fem: Solve took 0.5767652988433838 [s]\n",
      "[01-07 15:55:09][DEBUG] jax_fem: max of dofs = 5254.693036776115\n",
      "[01-07 15:55:09][DEBUG] jax_fem: min of dofs = 300.0\n",
      "[01-07 15:55:10][DEBUG] jax_fem: Calling the row elimination solver for imposing Dirichlet B.C.\n",
      "[01-07 15:55:10][DEBUG] jax_fem: Start timing\n",
      "[01-07 15:55:10][DEBUG] jax_fem: Computing cell Jacobian and cell residual...\n",
      "[01-07 15:55:10][DEBUG] jax_fem: Function split_and_compute_cell took 0.0309 seconds\n",
      "[01-07 15:55:10][DEBUG] jax_fem: Creating sparse matrix with scipy...\n",
      "[01-07 15:55:10][DEBUG] jax_fem: Before, res l_2 = 13885.618685933663\n",
      "[01-07 15:55:10][DEBUG] jax_fem: Solving linear system...\n",
      "[01-07 15:55:10][DEBUG] jax_fem: JAX Solver - Solving linear system\n"
     ]
    },
    {
     "name": "stdout",
     "output_type": "stream",
     "text": [
      "\n",
      "Step 300, total step = 500, laser_x = 0.000425, Lx = 0.0005, laser ON = False\n"
     ]
    },
    {
     "name": "stderr",
     "output_type": "stream",
     "text": [
      "[01-07 15:55:10][DEBUG] jax_fem: JAX Solver - Finshed solving, res = 2.4080977635823493e-08\n",
      "[01-07 15:55:10][DEBUG] jax_fem: Computing cell Jacobian and cell residual...\n",
      "[01-07 15:55:10][DEBUG] jax_fem: Function split_and_compute_cell took 0.0334 seconds\n",
      "[01-07 15:55:10][DEBUG] jax_fem: Creating sparse matrix with scipy...\n",
      "[01-07 15:55:10][DEBUG] jax_fem: res l_2 = 2.4080977759933295e-08\n",
      "[01-07 15:55:10][INFO] jax_fem: Solve took 0.697493314743042 [s]\n",
      "[01-07 15:55:10][DEBUG] jax_fem: max of dofs = 5181.407097176723\n",
      "[01-07 15:55:10][DEBUG] jax_fem: min of dofs = 300.0\n",
      "[01-07 15:55:10][DEBUG] jax_fem: Calling the row elimination solver for imposing Dirichlet B.C.\n",
      "[01-07 15:55:10][DEBUG] jax_fem: Start timing\n",
      "[01-07 15:55:10][DEBUG] jax_fem: Computing cell Jacobian and cell residual...\n",
      "[01-07 15:55:11][DEBUG] jax_fem: Function split_and_compute_cell took 0.2498 seconds\n",
      "[01-07 15:55:11][DEBUG] jax_fem: Creating sparse matrix with scipy...\n",
      "[01-07 15:55:11][DEBUG] jax_fem: Before, res l_2 = 0.3071956929034808\n",
      "[01-07 15:55:11][DEBUG] jax_fem: Solving linear system...\n",
      "[01-07 15:55:11][DEBUG] jax_fem: JAX Solver - Solving linear system\n",
      "[01-07 15:55:13][DEBUG] jax_fem: JAX Solver - Finshed solving, res = 9.67196218851996e-11\n",
      "[01-07 15:55:13][DEBUG] jax_fem: Computing cell Jacobian and cell residual...\n",
      "[01-07 15:55:13][DEBUG] jax_fem: Function split_and_compute_cell took 0.2478 seconds\n",
      "[01-07 15:55:13][DEBUG] jax_fem: Creating sparse matrix with scipy...\n",
      "[01-07 15:55:13][DEBUG] jax_fem: res l_2 = 0.017517194322813116\n",
      "[01-07 15:55:13][DEBUG] jax_fem: Solving linear system...\n",
      "[01-07 15:55:13][DEBUG] jax_fem: JAX Solver - Solving linear system\n",
      "[01-07 15:55:16][DEBUG] jax_fem: JAX Solver - Finshed solving, res = 4.003108923930993e-11\n",
      "[01-07 15:55:16][DEBUG] jax_fem: Computing cell Jacobian and cell residual...\n",
      "[01-07 15:55:16][DEBUG] jax_fem: Function split_and_compute_cell took 0.2480 seconds\n",
      "[01-07 15:55:16][DEBUG] jax_fem: Creating sparse matrix with scipy...\n",
      "[01-07 15:55:16][DEBUG] jax_fem: res l_2 = 0.0010645896091996654\n",
      "[01-07 15:55:16][DEBUG] jax_fem: Solving linear system...\n",
      "[01-07 15:55:16][DEBUG] jax_fem: JAX Solver - Solving linear system\n",
      "[01-07 15:55:18][DEBUG] jax_fem: JAX Solver - Finshed solving, res = 6.172093193151705e-11\n",
      "[01-07 15:55:18][DEBUG] jax_fem: Computing cell Jacobian and cell residual...\n",
      "[01-07 15:55:18][DEBUG] jax_fem: Function split_and_compute_cell took 0.2507 seconds\n",
      "[01-07 15:55:18][DEBUG] jax_fem: Creating sparse matrix with scipy...\n",
      "[01-07 15:55:18][DEBUG] jax_fem: res l_2 = 1.8404750959600426e-06\n",
      "[01-07 15:55:18][DEBUG] jax_fem: Solving linear system...\n",
      "[01-07 15:55:18][DEBUG] jax_fem: JAX Solver - Solving linear system\n",
      "[01-07 15:55:19][DEBUG] jax_fem: JAX Solver - Finshed solving, res = 8.752294838466054e-11\n",
      "[01-07 15:55:19][DEBUG] jax_fem: Computing cell Jacobian and cell residual...\n",
      "[01-07 15:55:20][DEBUG] jax_fem: Function split_and_compute_cell took 0.2299 seconds\n",
      "[01-07 15:55:20][DEBUG] jax_fem: Creating sparse matrix with scipy...\n",
      "[01-07 15:55:20][DEBUG] jax_fem: res l_2 = 8.826466002219168e-11\n",
      "[01-07 15:55:20][INFO] jax_fem: Solve took 9.405971050262451 [s]\n",
      "[01-07 15:55:20][DEBUG] jax_fem: max of dofs = 1.4902643887805207e-06\n",
      "[01-07 15:55:20][DEBUG] jax_fem: min of dofs = -1.2526511994073229e-06\n",
      "[01-07 15:55:20][DEBUG] jax_fem: Calling the row elimination solver for imposing Dirichlet B.C.\n",
      "[01-07 15:55:20][DEBUG] jax_fem: Start timing\n",
      "[01-07 15:55:20][DEBUG] jax_fem: Computing cell Jacobian and cell residual...\n",
      "[01-07 15:55:20][DEBUG] jax_fem: Function split_and_compute_cell took 0.0335 seconds\n",
      "[01-07 15:55:20][DEBUG] jax_fem: Creating sparse matrix with scipy...\n",
      "[01-07 15:55:20][DEBUG] jax_fem: Before, res l_2 = 13885.598563843607\n",
      "[01-07 15:55:20][DEBUG] jax_fem: Solving linear system...\n",
      "[01-07 15:55:20][DEBUG] jax_fem: JAX Solver - Solving linear system\n"
     ]
    },
    {
     "name": "stdout",
     "output_type": "stream",
     "text": [
      "max f_plus = 180840631.50449103, max stress_xx = 376779684.9655917\n",
      "\n",
      "Step 301, total step = 500, laser_x = 0.000426, Lx = 0.0005, laser ON = False\n"
     ]
    },
    {
     "name": "stderr",
     "output_type": "stream",
     "text": [
      "[01-07 15:55:20][DEBUG] jax_fem: JAX Solver - Finshed solving, res = 2.2977303759829107e-08\n",
      "[01-07 15:55:20][DEBUG] jax_fem: Computing cell Jacobian and cell residual...\n",
      "[01-07 15:55:20][DEBUG] jax_fem: Function split_and_compute_cell took 0.0302 seconds\n",
      "[01-07 15:55:20][DEBUG] jax_fem: Creating sparse matrix with scipy...\n",
      "[01-07 15:55:20][DEBUG] jax_fem: res l_2 = 2.297730466263245e-08\n",
      "[01-07 15:55:20][INFO] jax_fem: Solve took 0.5745561122894287 [s]\n",
      "[01-07 15:55:20][DEBUG] jax_fem: max of dofs = 5109.430508278999\n",
      "[01-07 15:55:20][DEBUG] jax_fem: min of dofs = 300.0\n",
      "[01-07 15:55:20][DEBUG] jax_fem: Calling the row elimination solver for imposing Dirichlet B.C.\n",
      "[01-07 15:55:20][DEBUG] jax_fem: Start timing\n",
      "[01-07 15:55:20][DEBUG] jax_fem: Computing cell Jacobian and cell residual...\n",
      "[01-07 15:55:20][DEBUG] jax_fem: Function split_and_compute_cell took 0.0280 seconds\n",
      "[01-07 15:55:20][DEBUG] jax_fem: Creating sparse matrix with scipy...\n",
      "[01-07 15:55:21][DEBUG] jax_fem: Before, res l_2 = 13885.578902273286\n",
      "[01-07 15:55:21][DEBUG] jax_fem: Solving linear system...\n",
      "[01-07 15:55:21][DEBUG] jax_fem: JAX Solver - Solving linear system\n"
     ]
    },
    {
     "name": "stdout",
     "output_type": "stream",
     "text": [
      "\n",
      "Step 302, total step = 500, laser_x = 0.00042699999999999997, Lx = 0.0005, laser ON = False\n"
     ]
    },
    {
     "name": "stderr",
     "output_type": "stream",
     "text": [
      "[01-07 15:55:21][DEBUG] jax_fem: JAX Solver - Finshed solving, res = 2.1946699723883477e-08\n",
      "[01-07 15:55:21][DEBUG] jax_fem: Computing cell Jacobian and cell residual...\n",
      "[01-07 15:55:21][DEBUG] jax_fem: Function split_and_compute_cell took 0.0335 seconds\n",
      "[01-07 15:55:21][DEBUG] jax_fem: Creating sparse matrix with scipy...\n",
      "[01-07 15:55:21][DEBUG] jax_fem: res l_2 = 2.1946699121151603e-08\n",
      "[01-07 15:55:21][INFO] jax_fem: Solve took 0.6036200523376465 [s]\n",
      "[01-07 15:55:21][DEBUG] jax_fem: max of dofs = 5038.729462884722\n",
      "[01-07 15:55:21][DEBUG] jax_fem: min of dofs = 300.0\n",
      "[01-07 15:55:21][DEBUG] jax_fem: Calling the row elimination solver for imposing Dirichlet B.C.\n",
      "[01-07 15:55:21][DEBUG] jax_fem: Start timing\n",
      "[01-07 15:55:21][DEBUG] jax_fem: Computing cell Jacobian and cell residual...\n",
      "[01-07 15:55:21][DEBUG] jax_fem: Function split_and_compute_cell took 0.0268 seconds\n",
      "[01-07 15:55:21][DEBUG] jax_fem: Creating sparse matrix with scipy...\n",
      "[01-07 15:55:21][DEBUG] jax_fem: Before, res l_2 = 13885.55968904105\n",
      "[01-07 15:55:21][DEBUG] jax_fem: Solving linear system...\n",
      "[01-07 15:55:21][DEBUG] jax_fem: JAX Solver - Solving linear system\n"
     ]
    },
    {
     "name": "stdout",
     "output_type": "stream",
     "text": [
      "\n",
      "Step 303, total step = 500, laser_x = 0.000428, Lx = 0.0005, laser ON = False\n"
     ]
    },
    {
     "name": "stderr",
     "output_type": "stream",
     "text": [
      "[01-07 15:55:21][DEBUG] jax_fem: JAX Solver - Finshed solving, res = 2.0981140837723257e-08\n",
      "[01-07 15:55:21][DEBUG] jax_fem: Computing cell Jacobian and cell residual...\n",
      "[01-07 15:55:21][DEBUG] jax_fem: Function split_and_compute_cell took 0.0346 seconds\n",
      "[01-07 15:55:21][DEBUG] jax_fem: Creating sparse matrix with scipy...\n",
      "[01-07 15:55:22][DEBUG] jax_fem: res l_2 = 2.0981144402013438e-08\n",
      "[01-07 15:55:22][INFO] jax_fem: Solve took 0.49134039878845215 [s]\n",
      "[01-07 15:55:22][DEBUG] jax_fem: max of dofs = 4969.2717095375065\n",
      "[01-07 15:55:22][DEBUG] jax_fem: min of dofs = 300.0\n",
      "[01-07 15:55:22][DEBUG] jax_fem: Calling the row elimination solver for imposing Dirichlet B.C.\n",
      "[01-07 15:55:22][DEBUG] jax_fem: Start timing\n",
      "[01-07 15:55:22][DEBUG] jax_fem: Computing cell Jacobian and cell residual...\n",
      "[01-07 15:55:22][DEBUG] jax_fem: Function split_and_compute_cell took 0.0360 seconds\n",
      "[01-07 15:55:22][DEBUG] jax_fem: Creating sparse matrix with scipy...\n",
      "[01-07 15:55:22][DEBUG] jax_fem: Before, res l_2 = 13885.540912335699\n",
      "[01-07 15:55:22][DEBUG] jax_fem: Solving linear system...\n",
      "[01-07 15:55:22][DEBUG] jax_fem: JAX Solver - Solving linear system\n"
     ]
    },
    {
     "name": "stdout",
     "output_type": "stream",
     "text": [
      "\n",
      "Step 304, total step = 500, laser_x = 0.00042899999999999997, Lx = 0.0005, laser ON = False\n"
     ]
    },
    {
     "name": "stderr",
     "output_type": "stream",
     "text": [
      "[01-07 15:55:22][DEBUG] jax_fem: JAX Solver - Finshed solving, res = 2.007371369386579e-08\n",
      "[01-07 15:55:22][DEBUG] jax_fem: Computing cell Jacobian and cell residual...\n",
      "[01-07 15:55:22][DEBUG] jax_fem: Function split_and_compute_cell took 0.0312 seconds\n",
      "[01-07 15:55:22][DEBUG] jax_fem: Creating sparse matrix with scipy...\n",
      "[01-07 15:55:22][DEBUG] jax_fem: res l_2 = 2.0073713380290095e-08\n",
      "[01-07 15:55:22][INFO] jax_fem: Solve took 0.613945722579956 [s]\n",
      "[01-07 15:55:22][DEBUG] jax_fem: max of dofs = 4901.026438121955\n",
      "[01-07 15:55:22][DEBUG] jax_fem: min of dofs = 300.0\n",
      "[01-07 15:55:22][DEBUG] jax_fem: Calling the row elimination solver for imposing Dirichlet B.C.\n",
      "[01-07 15:55:22][DEBUG] jax_fem: Start timing\n",
      "[01-07 15:55:22][DEBUG] jax_fem: Computing cell Jacobian and cell residual...\n",
      "[01-07 15:55:22][DEBUG] jax_fem: Function split_and_compute_cell took 0.0289 seconds\n",
      "[01-07 15:55:22][DEBUG] jax_fem: Creating sparse matrix with scipy...\n",
      "[01-07 15:55:22][DEBUG] jax_fem: Before, res l_2 = 13885.522560703606\n",
      "[01-07 15:55:22][DEBUG] jax_fem: Solving linear system...\n",
      "[01-07 15:55:22][DEBUG] jax_fem: JAX Solver - Solving linear system\n"
     ]
    },
    {
     "name": "stdout",
     "output_type": "stream",
     "text": [
      "\n",
      "Step 305, total step = 500, laser_x = 0.00043, Lx = 0.0005, laser ON = False\n"
     ]
    },
    {
     "name": "stderr",
     "output_type": "stream",
     "text": [
      "[01-07 15:55:23][DEBUG] jax_fem: JAX Solver - Finshed solving, res = 1.9218450590053254e-08\n",
      "[01-07 15:55:23][DEBUG] jax_fem: Computing cell Jacobian and cell residual...\n",
      "[01-07 15:55:23][DEBUG] jax_fem: Function split_and_compute_cell took 0.0437 seconds\n",
      "[01-07 15:55:23][DEBUG] jax_fem: Creating sparse matrix with scipy...\n",
      "[01-07 15:55:23][DEBUG] jax_fem: res l_2 = 1.9218449183082096e-08\n",
      "[01-07 15:55:23][INFO] jax_fem: Solve took 0.5807669162750244 [s]\n",
      "[01-07 15:55:23][DEBUG] jax_fem: max of dofs = 4833.9641758180705\n",
      "[01-07 15:55:23][DEBUG] jax_fem: min of dofs = 300.0\n",
      "[01-07 15:55:23][DEBUG] jax_fem: Calling the row elimination solver for imposing Dirichlet B.C.\n",
      "[01-07 15:55:23][DEBUG] jax_fem: Start timing\n",
      "[01-07 15:55:23][DEBUG] jax_fem: Computing cell Jacobian and cell residual...\n",
      "[01-07 15:55:23][DEBUG] jax_fem: Function split_and_compute_cell took 0.0307 seconds\n",
      "[01-07 15:55:23][DEBUG] jax_fem: Creating sparse matrix with scipy...\n",
      "[01-07 15:55:23][DEBUG] jax_fem: Before, res l_2 = 13885.504623036391\n",
      "[01-07 15:55:23][DEBUG] jax_fem: Solving linear system...\n",
      "[01-07 15:55:23][DEBUG] jax_fem: JAX Solver - Solving linear system\n"
     ]
    },
    {
     "name": "stdout",
     "output_type": "stream",
     "text": [
      "\n",
      "Step 306, total step = 500, laser_x = 0.000431, Lx = 0.0005, laser ON = False\n"
     ]
    },
    {
     "name": "stderr",
     "output_type": "stream",
     "text": [
      "[01-07 15:55:23][DEBUG] jax_fem: JAX Solver - Finshed solving, res = 1.8410216843032364e-08\n",
      "[01-07 15:55:23][DEBUG] jax_fem: Computing cell Jacobian and cell residual...\n",
      "[01-07 15:55:23][DEBUG] jax_fem: Function split_and_compute_cell took 0.0288 seconds\n",
      "[01-07 15:55:23][DEBUG] jax_fem: Creating sparse matrix with scipy...\n",
      "[01-07 15:55:23][DEBUG] jax_fem: res l_2 = 1.8410219414236577e-08\n",
      "[01-07 15:55:23][INFO] jax_fem: Solve took 0.6103036403656006 [s]\n",
      "[01-07 15:55:23][DEBUG] jax_fem: max of dofs = 4768.056692392984\n",
      "[01-07 15:55:23][DEBUG] jax_fem: min of dofs = 300.0\n",
      "[01-07 15:55:23][DEBUG] jax_fem: Calling the row elimination solver for imposing Dirichlet B.C.\n",
      "[01-07 15:55:23][DEBUG] jax_fem: Start timing\n",
      "[01-07 15:55:23][DEBUG] jax_fem: Computing cell Jacobian and cell residual...\n",
      "[01-07 15:55:23][DEBUG] jax_fem: Function split_and_compute_cell took 0.0279 seconds\n",
      "[01-07 15:55:23][DEBUG] jax_fem: Creating sparse matrix with scipy...\n",
      "[01-07 15:55:23][DEBUG] jax_fem: Before, res l_2 = 13885.487088559034\n",
      "[01-07 15:55:23][DEBUG] jax_fem: Solving linear system...\n",
      "[01-07 15:55:23][DEBUG] jax_fem: JAX Solver - Solving linear system\n"
     ]
    },
    {
     "name": "stdout",
     "output_type": "stream",
     "text": [
      "\n",
      "Step 307, total step = 500, laser_x = 0.000432, Lx = 0.0005, laser ON = False\n"
     ]
    },
    {
     "name": "stderr",
     "output_type": "stream",
     "text": [
      "[01-07 15:55:24][DEBUG] jax_fem: JAX Solver - Finshed solving, res = 1.7644574810782293e-08\n",
      "[01-07 15:55:24][DEBUG] jax_fem: Computing cell Jacobian and cell residual...\n",
      "[01-07 15:55:24][DEBUG] jax_fem: Function split_and_compute_cell took 0.0660 seconds\n",
      "[01-07 15:55:24][DEBUG] jax_fem: Creating sparse matrix with scipy...\n",
      "[01-07 15:55:24][DEBUG] jax_fem: res l_2 = 1.764457429925462e-08\n",
      "[01-07 15:55:24][INFO] jax_fem: Solve took 0.6269679069519043 [s]\n",
      "[01-07 15:55:24][DEBUG] jax_fem: max of dofs = 4703.276913917316\n",
      "[01-07 15:55:24][DEBUG] jax_fem: min of dofs = 300.0\n",
      "[01-07 15:55:24][DEBUG] jax_fem: Calling the row elimination solver for imposing Dirichlet B.C.\n",
      "[01-07 15:55:24][DEBUG] jax_fem: Start timing\n",
      "[01-07 15:55:24][DEBUG] jax_fem: Computing cell Jacobian and cell residual...\n",
      "[01-07 15:55:24][DEBUG] jax_fem: Function split_and_compute_cell took 0.0256 seconds\n",
      "[01-07 15:55:24][DEBUG] jax_fem: Creating sparse matrix with scipy...\n",
      "[01-07 15:55:24][DEBUG] jax_fem: Before, res l_2 = 13885.469946818479\n",
      "[01-07 15:55:24][DEBUG] jax_fem: Solving linear system...\n",
      "[01-07 15:55:24][DEBUG] jax_fem: JAX Solver - Solving linear system\n"
     ]
    },
    {
     "name": "stdout",
     "output_type": "stream",
     "text": [
      "\n",
      "Step 308, total step = 500, laser_x = 0.000433, Lx = 0.0005, laser ON = False\n"
     ]
    },
    {
     "name": "stderr",
     "output_type": "stream",
     "text": [
      "[01-07 15:55:25][DEBUG] jax_fem: JAX Solver - Finshed solving, res = 1.6917696443430697e-08\n",
      "[01-07 15:55:25][DEBUG] jax_fem: Computing cell Jacobian and cell residual...\n",
      "[01-07 15:55:25][DEBUG] jax_fem: Function split_and_compute_cell took 0.0325 seconds\n",
      "[01-07 15:55:25][DEBUG] jax_fem: Creating sparse matrix with scipy...\n",
      "[01-07 15:55:25][DEBUG] jax_fem: res l_2 = 1.6917697391881278e-08\n",
      "[01-07 15:55:25][INFO] jax_fem: Solve took 0.6200845241546631 [s]\n",
      "[01-07 15:55:25][DEBUG] jax_fem: max of dofs = 4639.598844087508\n",
      "[01-07 15:55:25][DEBUG] jax_fem: min of dofs = 300.0\n",
      "[01-07 15:55:25][DEBUG] jax_fem: Calling the row elimination solver for imposing Dirichlet B.C.\n",
      "[01-07 15:55:25][DEBUG] jax_fem: Start timing\n",
      "[01-07 15:55:25][DEBUG] jax_fem: Computing cell Jacobian and cell residual...\n",
      "[01-07 15:55:25][DEBUG] jax_fem: Function split_and_compute_cell took 0.0277 seconds\n",
      "[01-07 15:55:25][DEBUG] jax_fem: Creating sparse matrix with scipy...\n",
      "[01-07 15:55:25][DEBUG] jax_fem: Before, res l_2 = 13885.453187672661\n",
      "[01-07 15:55:25][DEBUG] jax_fem: Solving linear system...\n",
      "[01-07 15:55:25][DEBUG] jax_fem: JAX Solver - Solving linear system\n"
     ]
    },
    {
     "name": "stdout",
     "output_type": "stream",
     "text": [
      "\n",
      "Step 309, total step = 500, laser_x = 0.000434, Lx = 0.0005, laser ON = False\n"
     ]
    },
    {
     "name": "stderr",
     "output_type": "stream",
     "text": [
      "[01-07 15:55:25][DEBUG] jax_fem: JAX Solver - Finshed solving, res = 1.622625601159134e-08\n",
      "[01-07 15:55:25][DEBUG] jax_fem: Computing cell Jacobian and cell residual...\n",
      "[01-07 15:55:25][DEBUG] jax_fem: Function split_and_compute_cell took 0.0422 seconds\n",
      "[01-07 15:55:25][DEBUG] jax_fem: Creating sparse matrix with scipy...\n",
      "[01-07 15:55:25][DEBUG] jax_fem: res l_2 = 1.622625519342808e-08\n",
      "[01-07 15:55:25][INFO] jax_fem: Solve took 0.6215114593505859 [s]\n",
      "[01-07 15:55:25][DEBUG] jax_fem: max of dofs = 4576.997492419438\n",
      "[01-07 15:55:25][DEBUG] jax_fem: min of dofs = 300.0\n",
      "[01-07 15:55:25][DEBUG] jax_fem: Calling the row elimination solver for imposing Dirichlet B.C.\n",
      "[01-07 15:55:25][DEBUG] jax_fem: Start timing\n",
      "[01-07 15:55:25][DEBUG] jax_fem: Computing cell Jacobian and cell residual...\n",
      "[01-07 15:55:25][DEBUG] jax_fem: Function split_and_compute_cell took 0.0246 seconds\n",
      "[01-07 15:55:25][DEBUG] jax_fem: Creating sparse matrix with scipy...\n",
      "[01-07 15:55:25][DEBUG] jax_fem: Before, res l_2 = 13885.436801279957\n",
      "[01-07 15:55:25][DEBUG] jax_fem: Solving linear system...\n",
      "[01-07 15:55:25][DEBUG] jax_fem: JAX Solver - Solving linear system\n"
     ]
    },
    {
     "name": "stdout",
     "output_type": "stream",
     "text": [
      "\n",
      "Step 310, total step = 500, laser_x = 0.000435, Lx = 0.0005, laser ON = False\n"
     ]
    },
    {
     "name": "stderr",
     "output_type": "stream",
     "text": [
      "[01-07 15:55:26][DEBUG] jax_fem: JAX Solver - Finshed solving, res = 1.556738617560694e-08\n",
      "[01-07 15:55:26][DEBUG] jax_fem: Computing cell Jacobian and cell residual...\n",
      "[01-07 15:55:26][DEBUG] jax_fem: Function split_and_compute_cell took 0.0386 seconds\n",
      "[01-07 15:55:26][DEBUG] jax_fem: Creating sparse matrix with scipy...\n",
      "[01-07 15:55:26][DEBUG] jax_fem: res l_2 = 1.556738681932428e-08\n",
      "[01-07 15:55:26][INFO] jax_fem: Solve took 0.575739860534668 [s]\n",
      "[01-07 15:55:26][DEBUG] jax_fem: max of dofs = 4515.448808652949\n",
      "[01-07 15:55:26][DEBUG] jax_fem: min of dofs = 300.0\n",
      "[01-07 15:55:26][DEBUG] jax_fem: Calling the row elimination solver for imposing Dirichlet B.C.\n",
      "[01-07 15:55:26][DEBUG] jax_fem: Start timing\n",
      "[01-07 15:55:26][DEBUG] jax_fem: Computing cell Jacobian and cell residual...\n",
      "[01-07 15:55:26][DEBUG] jax_fem: Function split_and_compute_cell took 0.2704 seconds\n",
      "[01-07 15:55:26][DEBUG] jax_fem: Creating sparse matrix with scipy...\n",
      "[01-07 15:55:27][DEBUG] jax_fem: Before, res l_2 = 0.3311655516293214\n",
      "[01-07 15:55:27][DEBUG] jax_fem: Solving linear system...\n",
      "[01-07 15:55:27][DEBUG] jax_fem: JAX Solver - Solving linear system\n",
      "[01-07 15:55:28][DEBUG] jax_fem: JAX Solver - Finshed solving, res = 6.488021357163558e-11\n",
      "[01-07 15:55:28][DEBUG] jax_fem: Computing cell Jacobian and cell residual...\n",
      "[01-07 15:55:28][DEBUG] jax_fem: Function split_and_compute_cell took 0.2303 seconds\n",
      "[01-07 15:55:28][DEBUG] jax_fem: Creating sparse matrix with scipy...\n",
      "[01-07 15:55:29][DEBUG] jax_fem: res l_2 = 0.01921532857559766\n",
      "[01-07 15:55:29][DEBUG] jax_fem: Solving linear system...\n",
      "[01-07 15:55:29][DEBUG] jax_fem: JAX Solver - Solving linear system\n",
      "[01-07 15:55:30][DEBUG] jax_fem: JAX Solver - Finshed solving, res = 8.355632430858127e-11\n",
      "[01-07 15:55:30][DEBUG] jax_fem: Computing cell Jacobian and cell residual...\n",
      "[01-07 15:55:31][DEBUG] jax_fem: Function split_and_compute_cell took 0.2431 seconds\n",
      "[01-07 15:55:31][DEBUG] jax_fem: Creating sparse matrix with scipy...\n",
      "[01-07 15:55:31][DEBUG] jax_fem: res l_2 = 0.0013936631159618502\n",
      "[01-07 15:55:31][DEBUG] jax_fem: Solving linear system...\n",
      "[01-07 15:55:31][DEBUG] jax_fem: JAX Solver - Solving linear system\n",
      "[01-07 15:55:32][DEBUG] jax_fem: JAX Solver - Finshed solving, res = 9.996609049331378e-11\n",
      "[01-07 15:55:32][DEBUG] jax_fem: Computing cell Jacobian and cell residual...\n",
      "[01-07 15:55:33][DEBUG] jax_fem: Function split_and_compute_cell took 0.2360 seconds\n",
      "[01-07 15:55:33][DEBUG] jax_fem: Creating sparse matrix with scipy...\n",
      "[01-07 15:55:33][DEBUG] jax_fem: res l_2 = 3.2819334737374117e-06\n",
      "[01-07 15:55:33][DEBUG] jax_fem: Solving linear system...\n",
      "[01-07 15:55:33][DEBUG] jax_fem: JAX Solver - Solving linear system\n",
      "[01-07 15:55:34][DEBUG] jax_fem: JAX Solver - Finshed solving, res = 8.96892091415526e-11\n",
      "[01-07 15:55:34][DEBUG] jax_fem: Computing cell Jacobian and cell residual...\n",
      "[01-07 15:55:34][DEBUG] jax_fem: Function split_and_compute_cell took 0.2376 seconds\n",
      "[01-07 15:55:34][DEBUG] jax_fem: Creating sparse matrix with scipy...\n",
      "[01-07 15:55:34][DEBUG] jax_fem: res l_2 = 1.1389938729949367e-10\n",
      "[01-07 15:55:34][INFO] jax_fem: Solve took 8.365890502929688 [s]\n",
      "[01-07 15:55:34][DEBUG] jax_fem: max of dofs = 1.551310153864741e-06\n",
      "[01-07 15:55:34][DEBUG] jax_fem: min of dofs = -1.2978334169672417e-06\n",
      "[01-07 15:55:34][DEBUG] jax_fem: Calling the row elimination solver for imposing Dirichlet B.C.\n",
      "[01-07 15:55:34][DEBUG] jax_fem: Start timing\n",
      "[01-07 15:55:34][DEBUG] jax_fem: Computing cell Jacobian and cell residual...\n",
      "[01-07 15:55:35][DEBUG] jax_fem: Function split_and_compute_cell took 0.0295 seconds\n",
      "[01-07 15:55:35][DEBUG] jax_fem: Creating sparse matrix with scipy...\n",
      "[01-07 15:55:35][DEBUG] jax_fem: Before, res l_2 = 13885.420778089025\n",
      "[01-07 15:55:35][DEBUG] jax_fem: Solving linear system...\n",
      "[01-07 15:55:35][DEBUG] jax_fem: JAX Solver - Solving linear system\n"
     ]
    },
    {
     "name": "stdout",
     "output_type": "stream",
     "text": [
      "max f_plus = 190161467.03241646, max stress_xx = 391797719.74764484\n",
      "\n",
      "Step 311, total step = 500, laser_x = 0.00043599999999999997, Lx = 0.0005, laser ON = False\n"
     ]
    },
    {
     "name": "stderr",
     "output_type": "stream",
     "text": [
      "[01-07 15:55:35][DEBUG] jax_fem: JAX Solver - Finshed solving, res = 1.493858809321955e-08\n",
      "[01-07 15:55:35][DEBUG] jax_fem: Computing cell Jacobian and cell residual...\n",
      "[01-07 15:55:35][DEBUG] jax_fem: Function split_and_compute_cell took 0.0761 seconds\n",
      "[01-07 15:55:35][DEBUG] jax_fem: Creating sparse matrix with scipy...\n",
      "[01-07 15:55:35][DEBUG] jax_fem: res l_2 = 1.4938588516569958e-08\n",
      "[01-07 15:55:35][INFO] jax_fem: Solve took 0.623626708984375 [s]\n",
      "[01-07 15:55:35][DEBUG] jax_fem: max of dofs = 4454.9296227739\n",
      "[01-07 15:55:35][DEBUG] jax_fem: min of dofs = 300.0\n",
      "[01-07 15:55:35][DEBUG] jax_fem: Calling the row elimination solver for imposing Dirichlet B.C.\n",
      "[01-07 15:55:35][DEBUG] jax_fem: Start timing\n",
      "[01-07 15:55:35][DEBUG] jax_fem: Computing cell Jacobian and cell residual...\n",
      "[01-07 15:55:35][DEBUG] jax_fem: Function split_and_compute_cell took 0.0437 seconds\n",
      "[01-07 15:55:35][DEBUG] jax_fem: Creating sparse matrix with scipy...\n",
      "[01-07 15:55:35][DEBUG] jax_fem: Before, res l_2 = 13885.405108829053\n",
      "[01-07 15:55:35][DEBUG] jax_fem: Solving linear system...\n",
      "[01-07 15:55:35][DEBUG] jax_fem: JAX Solver - Solving linear system\n"
     ]
    },
    {
     "name": "stdout",
     "output_type": "stream",
     "text": [
      "\n",
      "Step 312, total step = 500, laser_x = 0.000437, Lx = 0.0005, laser ON = False\n"
     ]
    },
    {
     "name": "stderr",
     "output_type": "stream",
     "text": [
      "[01-07 15:55:36][DEBUG] jax_fem: JAX Solver - Finshed solving, res = 1.4337682787712826e-08\n",
      "[01-07 15:55:36][DEBUG] jax_fem: Computing cell Jacobian and cell residual...\n",
      "[01-07 15:55:36][DEBUG] jax_fem: Function split_and_compute_cell took 0.0559 seconds\n",
      "[01-07 15:55:36][DEBUG] jax_fem: Creating sparse matrix with scipy...\n",
      "[01-07 15:55:36][DEBUG] jax_fem: res l_2 = 1.433768349805925e-08\n",
      "[01-07 15:55:36][INFO] jax_fem: Solve took 0.6532375812530518 [s]\n",
      "[01-07 15:55:36][DEBUG] jax_fem: max of dofs = 4395.417590119777\n",
      "[01-07 15:55:36][DEBUG] jax_fem: min of dofs = 300.0\n",
      "[01-07 15:55:36][DEBUG] jax_fem: Calling the row elimination solver for imposing Dirichlet B.C.\n",
      "[01-07 15:55:36][DEBUG] jax_fem: Start timing\n",
      "[01-07 15:55:36][DEBUG] jax_fem: Computing cell Jacobian and cell residual...\n",
      "[01-07 15:55:36][DEBUG] jax_fem: Function split_and_compute_cell took 0.0537 seconds\n",
      "[01-07 15:55:36][DEBUG] jax_fem: Creating sparse matrix with scipy...\n",
      "[01-07 15:55:36][DEBUG] jax_fem: Before, res l_2 = 13885.389784500338\n",
      "[01-07 15:55:36][DEBUG] jax_fem: Solving linear system...\n",
      "[01-07 15:55:36][DEBUG] jax_fem: JAX Solver - Solving linear system\n"
     ]
    },
    {
     "name": "stdout",
     "output_type": "stream",
     "text": [
      "\n",
      "Step 313, total step = 500, laser_x = 0.00043799999999999997, Lx = 0.0005, laser ON = False\n"
     ]
    },
    {
     "name": "stderr",
     "output_type": "stream",
     "text": [
      "[01-07 15:55:36][DEBUG] jax_fem: JAX Solver - Finshed solving, res = 1.3762771536607635e-08\n",
      "[01-07 15:55:36][DEBUG] jax_fem: Computing cell Jacobian and cell residual...\n",
      "[01-07 15:55:36][DEBUG] jax_fem: Function split_and_compute_cell took 0.0452 seconds\n",
      "[01-07 15:55:36][DEBUG] jax_fem: Creating sparse matrix with scipy...\n",
      "[01-07 15:55:36][DEBUG] jax_fem: res l_2 = 1.376277330498662e-08\n",
      "[01-07 15:55:36][INFO] jax_fem: Solve took 0.5584485530853271 [s]\n",
      "[01-07 15:55:36][DEBUG] jax_fem: max of dofs = 4336.891141088597\n",
      "[01-07 15:55:36][DEBUG] jax_fem: min of dofs = 300.0\n",
      "[01-07 15:55:36][DEBUG] jax_fem: Calling the row elimination solver for imposing Dirichlet B.C.\n",
      "[01-07 15:55:36][DEBUG] jax_fem: Start timing\n",
      "[01-07 15:55:36][DEBUG] jax_fem: Computing cell Jacobian and cell residual...\n",
      "[01-07 15:55:36][DEBUG] jax_fem: Function split_and_compute_cell took 0.0379 seconds\n",
      "[01-07 15:55:36][DEBUG] jax_fem: Creating sparse matrix with scipy...\n",
      "[01-07 15:55:36][DEBUG] jax_fem: Before, res l_2 = 13885.374796365257\n",
      "[01-07 15:55:36][DEBUG] jax_fem: Solving linear system...\n",
      "[01-07 15:55:36][DEBUG] jax_fem: JAX Solver - Solving linear system\n"
     ]
    },
    {
     "name": "stdout",
     "output_type": "stream",
     "text": [
      "\n",
      "Step 314, total step = 500, laser_x = 0.000439, Lx = 0.0005, laser ON = False\n"
     ]
    },
    {
     "name": "stderr",
     "output_type": "stream",
     "text": [
      "[01-07 15:55:37][DEBUG] jax_fem: JAX Solver - Finshed solving, res = 1.321217673672016e-08\n",
      "[01-07 15:55:37][DEBUG] jax_fem: Computing cell Jacobian and cell residual...\n",
      "[01-07 15:55:37][DEBUG] jax_fem: Function split_and_compute_cell took 0.0471 seconds\n",
      "[01-07 15:55:37][DEBUG] jax_fem: Creating sparse matrix with scipy...\n",
      "[01-07 15:55:37][DEBUG] jax_fem: res l_2 = 1.3212177558464287e-08\n",
      "[01-07 15:55:37][INFO] jax_fem: Solve took 0.5506048202514648 [s]\n",
      "[01-07 15:55:37][DEBUG] jax_fem: max of dofs = 4279.329435018093\n",
      "[01-07 15:55:37][DEBUG] jax_fem: min of dofs = 300.0\n",
      "[01-07 15:55:37][DEBUG] jax_fem: Calling the row elimination solver for imposing Dirichlet B.C.\n",
      "[01-07 15:55:37][DEBUG] jax_fem: Start timing\n",
      "[01-07 15:55:37][DEBUG] jax_fem: Computing cell Jacobian and cell residual...\n",
      "[01-07 15:55:37][DEBUG] jax_fem: Function split_and_compute_cell took 0.0410 seconds\n",
      "[01-07 15:55:37][DEBUG] jax_fem: Creating sparse matrix with scipy...\n",
      "[01-07 15:55:37][DEBUG] jax_fem: Before, res l_2 = 13885.360135939536\n",
      "[01-07 15:55:37][DEBUG] jax_fem: Solving linear system...\n",
      "[01-07 15:55:37][DEBUG] jax_fem: JAX Solver - Solving linear system\n"
     ]
    },
    {
     "name": "stdout",
     "output_type": "stream",
     "text": [
      "\n",
      "Step 315, total step = 500, laser_x = 0.00043999999999999996, Lx = 0.0005, laser ON = False\n"
     ]
    },
    {
     "name": "stderr",
     "output_type": "stream",
     "text": [
      "[01-07 15:55:37][DEBUG] jax_fem: JAX Solver - Finshed solving, res = 1.2684441569156488e-08\n",
      "[01-07 15:55:37][DEBUG] jax_fem: Computing cell Jacobian and cell residual...\n",
      "[01-07 15:55:37][DEBUG] jax_fem: Function split_and_compute_cell took 0.0318 seconds\n",
      "[01-07 15:55:37][DEBUG] jax_fem: Creating sparse matrix with scipy...\n",
      "[01-07 15:55:37][DEBUG] jax_fem: res l_2 = 1.268444337930149e-08\n",
      "[01-07 15:55:37][INFO] jax_fem: Solve took 0.5387287139892578 [s]\n",
      "[01-07 15:55:37][DEBUG] jax_fem: max of dofs = 4222.7123178455695\n",
      "[01-07 15:55:37][DEBUG] jax_fem: min of dofs = 300.0\n",
      "[01-07 15:55:37][DEBUG] jax_fem: Calling the row elimination solver for imposing Dirichlet B.C.\n",
      "[01-07 15:55:37][DEBUG] jax_fem: Start timing\n",
      "[01-07 15:55:37][DEBUG] jax_fem: Computing cell Jacobian and cell residual...\n",
      "[01-07 15:55:38][DEBUG] jax_fem: Function split_and_compute_cell took 0.0444 seconds\n",
      "[01-07 15:55:38][DEBUG] jax_fem: Creating sparse matrix with scipy...\n",
      "[01-07 15:55:38][DEBUG] jax_fem: Before, res l_2 = 13885.345794983878\n",
      "[01-07 15:55:38][DEBUG] jax_fem: Solving linear system...\n",
      "[01-07 15:55:38][DEBUG] jax_fem: JAX Solver - Solving linear system\n"
     ]
    },
    {
     "name": "stdout",
     "output_type": "stream",
     "text": [
      "\n",
      "Step 316, total step = 500, laser_x = 0.000441, Lx = 0.0005, laser ON = False\n"
     ]
    },
    {
     "name": "stderr",
     "output_type": "stream",
     "text": [
      "[01-07 15:55:38][DEBUG] jax_fem: JAX Solver - Finshed solving, res = 1.2178256228007989e-08\n",
      "[01-07 15:55:38][DEBUG] jax_fem: Computing cell Jacobian and cell residual...\n",
      "[01-07 15:55:38][DEBUG] jax_fem: Function split_and_compute_cell took 0.0378 seconds\n",
      "[01-07 15:55:38][DEBUG] jax_fem: Creating sparse matrix with scipy...\n",
      "[01-07 15:55:38][DEBUG] jax_fem: res l_2 = 1.2178256326815045e-08\n",
      "[01-07 15:55:38][INFO] jax_fem: Solve took 0.6485490798950195 [s]\n",
      "[01-07 15:55:38][DEBUG] jax_fem: max of dofs = 4167.020283196837\n",
      "[01-07 15:55:38][DEBUG] jax_fem: min of dofs = 300.0\n",
      "[01-07 15:55:38][DEBUG] jax_fem: Calling the row elimination solver for imposing Dirichlet B.C.\n",
      "[01-07 15:55:38][DEBUG] jax_fem: Start timing\n",
      "[01-07 15:55:38][DEBUG] jax_fem: Computing cell Jacobian and cell residual...\n",
      "[01-07 15:55:38][DEBUG] jax_fem: Function split_and_compute_cell took 0.0292 seconds\n",
      "[01-07 15:55:38][DEBUG] jax_fem: Creating sparse matrix with scipy...\n",
      "[01-07 15:55:38][DEBUG] jax_fem: Before, res l_2 = 13885.331765495876\n",
      "[01-07 15:55:38][DEBUG] jax_fem: Solving linear system...\n",
      "[01-07 15:55:38][DEBUG] jax_fem: JAX Solver - Solving linear system\n"
     ]
    },
    {
     "name": "stdout",
     "output_type": "stream",
     "text": [
      "\n",
      "Step 317, total step = 500, laser_x = 0.000442, Lx = 0.0005, laser ON = False\n"
     ]
    },
    {
     "name": "stderr",
     "output_type": "stream",
     "text": [
      "[01-07 15:55:39][DEBUG] jax_fem: JAX Solver - Finshed solving, res = 1.169246967535535e-08\n",
      "[01-07 15:55:39][DEBUG] jax_fem: Computing cell Jacobian and cell residual...\n",
      "[01-07 15:55:39][DEBUG] jax_fem: Function split_and_compute_cell took 0.0301 seconds\n",
      "[01-07 15:55:39][DEBUG] jax_fem: Creating sparse matrix with scipy...\n",
      "[01-07 15:55:39][DEBUG] jax_fem: res l_2 = 1.1692470207846037e-08\n",
      "[01-07 15:55:39][INFO] jax_fem: Solve took 0.6245887279510498 [s]\n",
      "[01-07 15:55:39][DEBUG] jax_fem: max of dofs = 4112.234436587314\n",
      "[01-07 15:55:39][DEBUG] jax_fem: min of dofs = 300.0\n",
      "[01-07 15:55:39][DEBUG] jax_fem: Calling the row elimination solver for imposing Dirichlet B.C.\n",
      "[01-07 15:55:39][DEBUG] jax_fem: Start timing\n",
      "[01-07 15:55:39][DEBUG] jax_fem: Computing cell Jacobian and cell residual...\n",
      "[01-07 15:55:39][DEBUG] jax_fem: Function split_and_compute_cell took 0.0427 seconds\n",
      "[01-07 15:55:39][DEBUG] jax_fem: Creating sparse matrix with scipy...\n",
      "[01-07 15:55:39][DEBUG] jax_fem: Before, res l_2 = 13885.318039702237\n",
      "[01-07 15:55:39][DEBUG] jax_fem: Solving linear system...\n",
      "[01-07 15:55:39][DEBUG] jax_fem: JAX Solver - Solving linear system\n"
     ]
    },
    {
     "name": "stdout",
     "output_type": "stream",
     "text": [
      "\n",
      "Step 318, total step = 500, laser_x = 0.000443, Lx = 0.0005, laser ON = False\n"
     ]
    },
    {
     "name": "stderr",
     "output_type": "stream",
     "text": [
      "[01-07 15:55:39][DEBUG] jax_fem: JAX Solver - Finshed solving, res = 1.1226048951797279e-08\n",
      "[01-07 15:55:39][DEBUG] jax_fem: Computing cell Jacobian and cell residual...\n",
      "[01-07 15:55:39][DEBUG] jax_fem: Function split_and_compute_cell took 0.0274 seconds\n",
      "[01-07 15:55:39][DEBUG] jax_fem: Creating sparse matrix with scipy...\n",
      "[01-07 15:55:39][DEBUG] jax_fem: res l_2 = 1.1226047937009776e-08\n",
      "[01-07 15:55:39][INFO] jax_fem: Solve took 0.5895965099334717 [s]\n",
      "[01-07 15:55:39][DEBUG] jax_fem: max of dofs = 4058.33646244924\n",
      "[01-07 15:55:39][DEBUG] jax_fem: min of dofs = 300.0\n",
      "[01-07 15:55:39][DEBUG] jax_fem: Calling the row elimination solver for imposing Dirichlet B.C.\n",
      "[01-07 15:55:39][DEBUG] jax_fem: Start timing\n",
      "[01-07 15:55:39][DEBUG] jax_fem: Computing cell Jacobian and cell residual...\n",
      "[01-07 15:55:39][DEBUG] jax_fem: Function split_and_compute_cell took 0.0264 seconds\n",
      "[01-07 15:55:39][DEBUG] jax_fem: Creating sparse matrix with scipy...\n",
      "[01-07 15:55:39][DEBUG] jax_fem: Before, res l_2 = 13885.3046100513\n",
      "[01-07 15:55:39][DEBUG] jax_fem: Solving linear system...\n",
      "[01-07 15:55:39][DEBUG] jax_fem: JAX Solver - Solving linear system\n"
     ]
    },
    {
     "name": "stdout",
     "output_type": "stream",
     "text": [
      "\n",
      "Step 319, total step = 500, laser_x = 0.000444, Lx = 0.0005, laser ON = False\n"
     ]
    },
    {
     "name": "stderr",
     "output_type": "stream",
     "text": [
      "[01-07 15:55:40][DEBUG] jax_fem: JAX Solver - Finshed solving, res = 1.077806130839048e-08\n",
      "[01-07 15:55:40][DEBUG] jax_fem: Computing cell Jacobian and cell residual...\n",
      "[01-07 15:55:40][DEBUG] jax_fem: Function split_and_compute_cell took 0.0380 seconds\n",
      "[01-07 15:55:40][DEBUG] jax_fem: Creating sparse matrix with scipy...\n",
      "[01-07 15:55:40][DEBUG] jax_fem: res l_2 = 1.0778060905150306e-08\n",
      "[01-07 15:55:40][INFO] jax_fem: Solve took 0.5958840847015381 [s]\n",
      "[01-07 15:55:40][DEBUG] jax_fem: max of dofs = 4005.3085937268193\n",
      "[01-07 15:55:40][DEBUG] jax_fem: min of dofs = 300.0\n",
      "[01-07 15:55:40][DEBUG] jax_fem: Calling the row elimination solver for imposing Dirichlet B.C.\n",
      "[01-07 15:55:40][DEBUG] jax_fem: Start timing\n",
      "[01-07 15:55:40][DEBUG] jax_fem: Computing cell Jacobian and cell residual...\n",
      "[01-07 15:55:40][DEBUG] jax_fem: Function split_and_compute_cell took 0.0315 seconds\n",
      "[01-07 15:55:40][DEBUG] jax_fem: Creating sparse matrix with scipy...\n",
      "[01-07 15:55:40][DEBUG] jax_fem: Before, res l_2 = 13885.291469205802\n",
      "[01-07 15:55:40][DEBUG] jax_fem: Solving linear system...\n",
      "[01-07 15:55:40][DEBUG] jax_fem: JAX Solver - Solving linear system\n"
     ]
    },
    {
     "name": "stdout",
     "output_type": "stream",
     "text": [
      "\n",
      "Step 320, total step = 500, laser_x = 0.000445, Lx = 0.0005, laser ON = False\n"
     ]
    },
    {
     "name": "stderr",
     "output_type": "stream",
     "text": [
      "[01-07 15:55:41][DEBUG] jax_fem: JAX Solver - Finshed solving, res = 1.0347670972766758e-08\n",
      "[01-07 15:55:41][DEBUG] jax_fem: Computing cell Jacobian and cell residual...\n",
      "[01-07 15:55:41][DEBUG] jax_fem: Function split_and_compute_cell took 0.0414 seconds\n",
      "[01-07 15:55:41][DEBUG] jax_fem: Creating sparse matrix with scipy...\n",
      "[01-07 15:55:41][DEBUG] jax_fem: res l_2 = 1.034766886463045e-08\n",
      "[01-07 15:55:41][INFO] jax_fem: Solve took 0.6515641212463379 [s]\n",
      "[01-07 15:55:41][DEBUG] jax_fem: max of dofs = 3953.133583806153\n",
      "[01-07 15:55:41][DEBUG] jax_fem: min of dofs = 300.0\n",
      "[01-07 15:55:41][DEBUG] jax_fem: Calling the row elimination solver for imposing Dirichlet B.C.\n",
      "[01-07 15:55:41][DEBUG] jax_fem: Start timing\n",
      "[01-07 15:55:41][DEBUG] jax_fem: Computing cell Jacobian and cell residual...\n",
      "[01-07 15:55:41][DEBUG] jax_fem: Function split_and_compute_cell took 0.2476 seconds\n",
      "[01-07 15:55:41][DEBUG] jax_fem: Creating sparse matrix with scipy...\n",
      "[01-07 15:55:41][DEBUG] jax_fem: Before, res l_2 = 0.35391306825654867\n",
      "[01-07 15:55:41][DEBUG] jax_fem: Solving linear system...\n",
      "[01-07 15:55:41][DEBUG] jax_fem: JAX Solver - Solving linear system\n",
      "[01-07 15:55:43][DEBUG] jax_fem: JAX Solver - Finshed solving, res = 6.148349504540495e-11\n",
      "[01-07 15:55:43][DEBUG] jax_fem: Computing cell Jacobian and cell residual...\n",
      "[01-07 15:55:43][DEBUG] jax_fem: Function split_and_compute_cell took 0.3191 seconds\n",
      "[01-07 15:55:43][DEBUG] jax_fem: Creating sparse matrix with scipy...\n",
      "[01-07 15:55:44][DEBUG] jax_fem: res l_2 = 0.021361317699885408\n",
      "[01-07 15:55:44][DEBUG] jax_fem: Solving linear system...\n",
      "[01-07 15:55:44][DEBUG] jax_fem: JAX Solver - Solving linear system\n",
      "[01-07 15:55:45][DEBUG] jax_fem: JAX Solver - Finshed solving, res = 9.264082632263482e-11\n",
      "[01-07 15:55:45][DEBUG] jax_fem: Computing cell Jacobian and cell residual...\n",
      "[01-07 15:55:45][DEBUG] jax_fem: Function split_and_compute_cell took 0.2672 seconds\n",
      "[01-07 15:55:45][DEBUG] jax_fem: Creating sparse matrix with scipy...\n",
      "[01-07 15:55:46][DEBUG] jax_fem: res l_2 = 0.001877524334402376\n",
      "[01-07 15:55:46][DEBUG] jax_fem: Solving linear system...\n",
      "[01-07 15:55:46][DEBUG] jax_fem: JAX Solver - Solving linear system\n",
      "[01-07 15:55:47][DEBUG] jax_fem: JAX Solver - Finshed solving, res = 1.6172727991436214e-11\n",
      "[01-07 15:55:47][DEBUG] jax_fem: Computing cell Jacobian and cell residual...\n",
      "[01-07 15:55:47][DEBUG] jax_fem: Function split_and_compute_cell took 0.2418 seconds\n",
      "[01-07 15:55:47][DEBUG] jax_fem: Creating sparse matrix with scipy...\n",
      "[01-07 15:55:48][DEBUG] jax_fem: res l_2 = 7.73107810651644e-06\n",
      "[01-07 15:55:48][DEBUG] jax_fem: Solving linear system...\n",
      "[01-07 15:55:48][DEBUG] jax_fem: JAX Solver - Solving linear system\n",
      "[01-07 15:55:49][DEBUG] jax_fem: JAX Solver - Finshed solving, res = 9.436888415301745e-11\n",
      "[01-07 15:55:49][DEBUG] jax_fem: Computing cell Jacobian and cell residual...\n",
      "[01-07 15:55:49][DEBUG] jax_fem: Function split_and_compute_cell took 0.2544 seconds\n",
      "[01-07 15:55:49][DEBUG] jax_fem: Creating sparse matrix with scipy...\n",
      "[01-07 15:55:49][DEBUG] jax_fem: res l_2 = 1.1804158209581288e-10\n",
      "[01-07 15:55:49][INFO] jax_fem: Solve took 8.580837726593018 [s]\n",
      "[01-07 15:55:49][DEBUG] jax_fem: max of dofs = 1.610876867181246e-06\n",
      "[01-07 15:55:49][DEBUG] jax_fem: min of dofs = -1.3390418062814202e-06\n",
      "[01-07 15:55:49][DEBUG] jax_fem: Calling the row elimination solver for imposing Dirichlet B.C.\n",
      "[01-07 15:55:49][DEBUG] jax_fem: Start timing\n",
      "[01-07 15:55:49][DEBUG] jax_fem: Computing cell Jacobian and cell residual...\n",
      "[01-07 15:55:49][DEBUG] jax_fem: Function split_and_compute_cell took 0.0290 seconds\n",
      "[01-07 15:55:50][DEBUG] jax_fem: Creating sparse matrix with scipy...\n",
      "[01-07 15:55:50][DEBUG] jax_fem: Before, res l_2 = 13885.278610035946\n",
      "[01-07 15:55:50][DEBUG] jax_fem: Solving linear system...\n",
      "[01-07 15:55:50][DEBUG] jax_fem: JAX Solver - Solving linear system\n"
     ]
    },
    {
     "name": "stdout",
     "output_type": "stream",
     "text": [
      "max f_plus = 209918786.9432705, max stress_xx = 406513707.10555387\n",
      "\n",
      "Step 321, total step = 500, laser_x = 0.000446, Lx = 0.0005, laser ON = False\n"
     ]
    },
    {
     "name": "stderr",
     "output_type": "stream",
     "text": [
      "[01-07 15:55:50][DEBUG] jax_fem: JAX Solver - Finshed solving, res = 9.934105818358032e-09\n",
      "[01-07 15:55:50][DEBUG] jax_fem: Computing cell Jacobian and cell residual...\n",
      "[01-07 15:55:50][DEBUG] jax_fem: Function split_and_compute_cell took 0.0463 seconds\n",
      "[01-07 15:55:50][DEBUG] jax_fem: Creating sparse matrix with scipy...\n",
      "[01-07 15:55:50][DEBUG] jax_fem: res l_2 = 9.93410681755996e-09\n",
      "[01-07 15:55:50][INFO] jax_fem: Solve took 0.6058018207550049 [s]\n",
      "[01-07 15:55:50][DEBUG] jax_fem: max of dofs = 3901.7946805692227\n",
      "[01-07 15:55:50][DEBUG] jax_fem: min of dofs = 300.0\n",
      "[01-07 15:55:50][DEBUG] jax_fem: Calling the row elimination solver for imposing Dirichlet B.C.\n",
      "[01-07 15:55:50][DEBUG] jax_fem: Start timing\n",
      "[01-07 15:55:50][DEBUG] jax_fem: Computing cell Jacobian and cell residual...\n",
      "[01-07 15:55:50][DEBUG] jax_fem: Function split_and_compute_cell took 0.0276 seconds\n",
      "[01-07 15:55:50][DEBUG] jax_fem: Creating sparse matrix with scipy...\n",
      "[01-07 15:55:50][DEBUG] jax_fem: Before, res l_2 = 13885.266025612687\n",
      "[01-07 15:55:50][DEBUG] jax_fem: Solving linear system...\n",
      "[01-07 15:55:50][DEBUG] jax_fem: JAX Solver - Solving linear system\n"
     ]
    },
    {
     "name": "stdout",
     "output_type": "stream",
     "text": [
      "\n",
      "Step 322, total step = 500, laser_x = 0.00044699999999999997, Lx = 0.0005, laser ON = False\n"
     ]
    },
    {
     "name": "stderr",
     "output_type": "stream",
     "text": [
      "[01-07 15:55:51][DEBUG] jax_fem: JAX Solver - Finshed solving, res = 9.536675354379398e-09\n",
      "[01-07 15:55:51][DEBUG] jax_fem: Computing cell Jacobian and cell residual...\n",
      "[01-07 15:55:51][DEBUG] jax_fem: Function split_and_compute_cell took 0.0379 seconds\n",
      "[01-07 15:55:51][DEBUG] jax_fem: Creating sparse matrix with scipy...\n",
      "[01-07 15:55:51][DEBUG] jax_fem: res l_2 = 9.536675455326469e-09\n",
      "[01-07 15:55:51][INFO] jax_fem: Solve took 0.6312551498413086 [s]\n",
      "[01-07 15:55:51][DEBUG] jax_fem: max of dofs = 3851.275602381494\n",
      "[01-07 15:55:51][DEBUG] jax_fem: min of dofs = 300.0\n",
      "[01-07 15:55:51][DEBUG] jax_fem: Calling the row elimination solver for imposing Dirichlet B.C.\n",
      "[01-07 15:55:51][DEBUG] jax_fem: Start timing\n",
      "[01-07 15:55:51][DEBUG] jax_fem: Computing cell Jacobian and cell residual...\n",
      "[01-07 15:55:51][DEBUG] jax_fem: Function split_and_compute_cell took 0.0296 seconds\n",
      "[01-07 15:55:51][DEBUG] jax_fem: Creating sparse matrix with scipy...\n",
      "[01-07 15:55:51][DEBUG] jax_fem: Before, res l_2 = 13885.253709201292\n",
      "[01-07 15:55:51][DEBUG] jax_fem: Solving linear system...\n",
      "[01-07 15:55:51][DEBUG] jax_fem: JAX Solver - Solving linear system\n"
     ]
    },
    {
     "name": "stdout",
     "output_type": "stream",
     "text": [
      "\n",
      "Step 323, total step = 500, laser_x = 0.000448, Lx = 0.0005, laser ON = False\n"
     ]
    },
    {
     "name": "stderr",
     "output_type": "stream",
     "text": [
      "[01-07 15:55:51][DEBUG] jax_fem: JAX Solver - Finshed solving, res = 9.15472287825836e-09\n",
      "[01-07 15:55:51][DEBUG] jax_fem: Computing cell Jacobian and cell residual...\n",
      "[01-07 15:55:51][DEBUG] jax_fem: Function split_and_compute_cell took 0.0904 seconds\n",
      "[01-07 15:55:51][DEBUG] jax_fem: Creating sparse matrix with scipy...\n",
      "[01-07 15:55:51][DEBUG] jax_fem: res l_2 = 9.154720904733422e-09\n",
      "[01-07 15:55:51][INFO] jax_fem: Solve took 0.7235047817230225 [s]\n",
      "[01-07 15:55:51][DEBUG] jax_fem: max of dofs = 3801.5605158410744\n",
      "[01-07 15:55:51][DEBUG] jax_fem: min of dofs = 300.0\n",
      "[01-07 15:55:51][DEBUG] jax_fem: Calling the row elimination solver for imposing Dirichlet B.C.\n",
      "[01-07 15:55:51][DEBUG] jax_fem: Start timing\n",
      "[01-07 15:55:51][DEBUG] jax_fem: Computing cell Jacobian and cell residual...\n",
      "[01-07 15:55:52][DEBUG] jax_fem: Function split_and_compute_cell took 0.0394 seconds\n",
      "[01-07 15:55:52][DEBUG] jax_fem: Creating sparse matrix with scipy...\n",
      "[01-07 15:55:52][DEBUG] jax_fem: Before, res l_2 = 13885.24165425511\n",
      "[01-07 15:55:52][DEBUG] jax_fem: Solving linear system...\n",
      "[01-07 15:55:52][DEBUG] jax_fem: JAX Solver - Solving linear system\n"
     ]
    },
    {
     "name": "stdout",
     "output_type": "stream",
     "text": [
      "\n",
      "Step 324, total step = 500, laser_x = 0.00044899999999999996, Lx = 0.0005, laser ON = False\n"
     ]
    },
    {
     "name": "stderr",
     "output_type": "stream",
     "text": [
      "[01-07 15:55:52][DEBUG] jax_fem: JAX Solver - Finshed solving, res = 8.787656239757682e-09\n",
      "[01-07 15:55:52][DEBUG] jax_fem: Computing cell Jacobian and cell residual...\n",
      "[01-07 15:55:52][DEBUG] jax_fem: Function split_and_compute_cell took 0.0377 seconds\n",
      "[01-07 15:55:52][DEBUG] jax_fem: Creating sparse matrix with scipy...\n",
      "[01-07 15:55:52][DEBUG] jax_fem: res l_2 = 8.787656839055214e-09\n",
      "[01-07 15:55:52][INFO] jax_fem: Solve took 0.6578755378723145 [s]\n",
      "[01-07 15:55:52][DEBUG] jax_fem: max of dofs = 3752.634015133421\n",
      "[01-07 15:55:52][DEBUG] jax_fem: min of dofs = 300.0\n",
      "[01-07 15:55:52][DEBUG] jax_fem: Calling the row elimination solver for imposing Dirichlet B.C.\n",
      "[01-07 15:55:52][DEBUG] jax_fem: Start timing\n",
      "[01-07 15:55:52][DEBUG] jax_fem: Computing cell Jacobian and cell residual...\n",
      "[01-07 15:55:52][DEBUG] jax_fem: Function split_and_compute_cell took 0.0271 seconds\n",
      "[01-07 15:55:52][DEBUG] jax_fem: Creating sparse matrix with scipy...\n",
      "[01-07 15:55:52][DEBUG] jax_fem: Before, res l_2 = 13885.22985440958\n",
      "[01-07 15:55:52][DEBUG] jax_fem: Solving linear system...\n",
      "[01-07 15:55:52][DEBUG] jax_fem: JAX Solver - Solving linear system\n"
     ]
    },
    {
     "name": "stdout",
     "output_type": "stream",
     "text": [
      "\n",
      "Step 325, total step = 500, laser_x = 0.00045, Lx = 0.0005, laser ON = False\n"
     ]
    },
    {
     "name": "stderr",
     "output_type": "stream",
     "text": [
      "[01-07 15:55:53][DEBUG] jax_fem: JAX Solver - Finshed solving, res = 8.434916319078943e-09\n",
      "[01-07 15:55:53][DEBUG] jax_fem: Computing cell Jacobian and cell residual...\n",
      "[01-07 15:55:53][DEBUG] jax_fem: Function split_and_compute_cell took 0.0449 seconds\n",
      "[01-07 15:55:53][DEBUG] jax_fem: Creating sparse matrix with scipy...\n",
      "[01-07 15:55:53][DEBUG] jax_fem: res l_2 = 8.43491348786229e-09\n",
      "[01-07 15:55:53][INFO] jax_fem: Solve took 0.5194594860076904 [s]\n",
      "[01-07 15:55:53][DEBUG] jax_fem: max of dofs = 3704.4811028508047\n",
      "[01-07 15:55:53][DEBUG] jax_fem: min of dofs = 300.0\n",
      "[01-07 15:55:53][DEBUG] jax_fem: Calling the row elimination solver for imposing Dirichlet B.C.\n",
      "[01-07 15:55:53][DEBUG] jax_fem: Start timing\n",
      "[01-07 15:55:53][DEBUG] jax_fem: Computing cell Jacobian and cell residual...\n",
      "[01-07 15:55:53][DEBUG] jax_fem: Function split_and_compute_cell took 0.0262 seconds\n",
      "[01-07 15:55:53][DEBUG] jax_fem: Creating sparse matrix with scipy...\n",
      "[01-07 15:55:53][DEBUG] jax_fem: Before, res l_2 = 13885.218303476457\n",
      "[01-07 15:55:53][DEBUG] jax_fem: Solving linear system...\n",
      "[01-07 15:55:53][DEBUG] jax_fem: JAX Solver - Solving linear system\n"
     ]
    },
    {
     "name": "stdout",
     "output_type": "stream",
     "text": [
      "\n",
      "Step 326, total step = 500, laser_x = 0.000451, Lx = 0.0005, laser ON = False\n"
     ]
    },
    {
     "name": "stderr",
     "output_type": "stream",
     "text": [
      "[01-07 15:55:53][DEBUG] jax_fem: JAX Solver - Finshed solving, res = 8.095974373435055e-09\n",
      "[01-07 15:55:53][DEBUG] jax_fem: Computing cell Jacobian and cell residual...\n",
      "[01-07 15:55:53][DEBUG] jax_fem: Function split_and_compute_cell took 0.0346 seconds\n",
      "[01-07 15:55:53][DEBUG] jax_fem: Creating sparse matrix with scipy...\n",
      "[01-07 15:55:53][DEBUG] jax_fem: res l_2 = 8.095975455769924e-09\n",
      "[01-07 15:55:53][INFO] jax_fem: Solve took 0.610253095626831 [s]\n",
      "[01-07 15:55:53][DEBUG] jax_fem: max of dofs = 3657.0871721487706\n",
      "[01-07 15:55:53][DEBUG] jax_fem: min of dofs = 300.0\n",
      "[01-07 15:55:53][DEBUG] jax_fem: Calling the row elimination solver for imposing Dirichlet B.C.\n",
      "[01-07 15:55:53][DEBUG] jax_fem: Start timing\n",
      "[01-07 15:55:53][DEBUG] jax_fem: Computing cell Jacobian and cell residual...\n",
      "[01-07 15:55:53][DEBUG] jax_fem: Function split_and_compute_cell took 0.0279 seconds\n",
      "[01-07 15:55:53][DEBUG] jax_fem: Creating sparse matrix with scipy...\n",
      "[01-07 15:55:53][DEBUG] jax_fem: Before, res l_2 = 13885.206995438246\n",
      "[01-07 15:55:53][DEBUG] jax_fem: Solving linear system...\n",
      "[01-07 15:55:53][DEBUG] jax_fem: JAX Solver - Solving linear system\n"
     ]
    },
    {
     "name": "stdout",
     "output_type": "stream",
     "text": [
      "\n",
      "Step 327, total step = 500, laser_x = 0.000452, Lx = 0.0005, laser ON = False\n"
     ]
    },
    {
     "name": "stderr",
     "output_type": "stream",
     "text": [
      "[01-07 15:55:54][DEBUG] jax_fem: JAX Solver - Finshed solving, res = 7.770337600494579e-09\n",
      "[01-07 15:55:54][DEBUG] jax_fem: Computing cell Jacobian and cell residual...\n",
      "[01-07 15:55:54][DEBUG] jax_fem: Function split_and_compute_cell took 0.0339 seconds\n",
      "[01-07 15:55:54][DEBUG] jax_fem: Creating sparse matrix with scipy...\n",
      "[01-07 15:55:54][DEBUG] jax_fem: res l_2 = 7.770339113273787e-09\n",
      "[01-07 15:55:54][INFO] jax_fem: Solve took 0.6571972370147705 [s]\n",
      "[01-07 15:55:54][DEBUG] jax_fem: max of dofs = 3610.4379901241073\n",
      "[01-07 15:55:54][DEBUG] jax_fem: min of dofs = 300.0\n",
      "[01-07 15:55:54][DEBUG] jax_fem: Calling the row elimination solver for imposing Dirichlet B.C.\n",
      "[01-07 15:55:54][DEBUG] jax_fem: Start timing\n",
      "[01-07 15:55:54][DEBUG] jax_fem: Computing cell Jacobian and cell residual...\n",
      "[01-07 15:55:54][DEBUG] jax_fem: Function split_and_compute_cell took 0.0269 seconds\n",
      "[01-07 15:55:54][DEBUG] jax_fem: Creating sparse matrix with scipy...\n",
      "[01-07 15:55:54][DEBUG] jax_fem: Before, res l_2 = 13885.19592444282\n",
      "[01-07 15:55:54][DEBUG] jax_fem: Solving linear system...\n",
      "[01-07 15:55:54][DEBUG] jax_fem: JAX Solver - Solving linear system\n"
     ]
    },
    {
     "name": "stdout",
     "output_type": "stream",
     "text": [
      "\n",
      "Step 328, total step = 500, laser_x = 0.000453, Lx = 0.0005, laser ON = False\n"
     ]
    },
    {
     "name": "stderr",
     "output_type": "stream",
     "text": [
      "[01-07 15:55:54][DEBUG] jax_fem: JAX Solver - Finshed solving, res = 7.45753459174564e-09\n",
      "[01-07 15:55:54][DEBUG] jax_fem: Computing cell Jacobian and cell residual...\n",
      "[01-07 15:55:55][DEBUG] jax_fem: Function split_and_compute_cell took 0.0318 seconds\n",
      "[01-07 15:55:55][DEBUG] jax_fem: Creating sparse matrix with scipy...\n",
      "[01-07 15:55:55][DEBUG] jax_fem: res l_2 = 7.457534579704816e-09\n",
      "[01-07 15:55:55][INFO] jax_fem: Solve took 0.6082940101623535 [s]\n",
      "[01-07 15:55:55][DEBUG] jax_fem: max of dofs = 3564.5196823094266\n",
      "[01-07 15:55:55][DEBUG] jax_fem: min of dofs = 300.0\n",
      "[01-07 15:55:55][DEBUG] jax_fem: Calling the row elimination solver for imposing Dirichlet B.C.\n",
      "[01-07 15:55:55][DEBUG] jax_fem: Start timing\n",
      "[01-07 15:55:55][DEBUG] jax_fem: Computing cell Jacobian and cell residual...\n",
      "[01-07 15:55:55][DEBUG] jax_fem: Function split_and_compute_cell took 0.0314 seconds\n",
      "[01-07 15:55:55][DEBUG] jax_fem: Creating sparse matrix with scipy...\n",
      "[01-07 15:55:55][DEBUG] jax_fem: Before, res l_2 = 13885.185084798248\n",
      "[01-07 15:55:55][DEBUG] jax_fem: Solving linear system...\n",
      "[01-07 15:55:55][DEBUG] jax_fem: JAX Solver - Solving linear system\n"
     ]
    },
    {
     "name": "stdout",
     "output_type": "stream",
     "text": [
      "\n",
      "Step 329, total step = 500, laser_x = 0.000454, Lx = 0.0005, laser ON = False\n"
     ]
    },
    {
     "name": "stderr",
     "output_type": "stream",
     "text": [
      "[01-07 15:55:55][DEBUG] jax_fem: JAX Solver - Finshed solving, res = 7.1571168038380965e-09\n",
      "[01-07 15:55:55][DEBUG] jax_fem: Computing cell Jacobian and cell residual...\n",
      "[01-07 15:55:55][DEBUG] jax_fem: Function split_and_compute_cell took 0.0353 seconds\n",
      "[01-07 15:55:55][DEBUG] jax_fem: Creating sparse matrix with scipy...\n",
      "[01-07 15:55:55][DEBUG] jax_fem: res l_2 = 7.157118070959214e-09\n",
      "[01-07 15:55:55][INFO] jax_fem: Solve took 0.5362765789031982 [s]\n",
      "[01-07 15:55:55][DEBUG] jax_fem: max of dofs = 3519.3187181894955\n",
      "[01-07 15:55:55][DEBUG] jax_fem: min of dofs = 300.0\n",
      "[01-07 15:55:55][DEBUG] jax_fem: Calling the row elimination solver for imposing Dirichlet B.C.\n",
      "[01-07 15:55:55][DEBUG] jax_fem: Start timing\n",
      "[01-07 15:55:55][DEBUG] jax_fem: Computing cell Jacobian and cell residual...\n",
      "[01-07 15:55:55][DEBUG] jax_fem: Function split_and_compute_cell took 0.0277 seconds\n",
      "[01-07 15:55:55][DEBUG] jax_fem: Creating sparse matrix with scipy...\n",
      "[01-07 15:55:55][DEBUG] jax_fem: Before, res l_2 = 13885.174470967797\n",
      "[01-07 15:55:55][DEBUG] jax_fem: Solving linear system...\n",
      "[01-07 15:55:55][DEBUG] jax_fem: JAX Solver - Solving linear system\n"
     ]
    },
    {
     "name": "stdout",
     "output_type": "stream",
     "text": [
      "\n",
      "Step 330, total step = 500, laser_x = 0.000455, Lx = 0.0005, laser ON = False\n"
     ]
    },
    {
     "name": "stderr",
     "output_type": "stream",
     "text": [
      "[01-07 15:55:56][DEBUG] jax_fem: JAX Solver - Finshed solving, res = 6.86865947760971e-09\n",
      "[01-07 15:55:56][DEBUG] jax_fem: Computing cell Jacobian and cell residual...\n",
      "[01-07 15:55:56][DEBUG] jax_fem: Function split_and_compute_cell took 0.0434 seconds\n",
      "[01-07 15:55:56][DEBUG] jax_fem: Creating sparse matrix with scipy...\n",
      "[01-07 15:55:56][DEBUG] jax_fem: res l_2 = 6.8686596106249125e-09\n",
      "[01-07 15:55:56][INFO] jax_fem: Solve took 1.203923225402832 [s]\n",
      "[01-07 15:55:56][DEBUG] jax_fem: max of dofs = 3474.8218976531393\n",
      "[01-07 15:55:56][DEBUG] jax_fem: min of dofs = 300.0\n",
      "[01-07 15:55:56][DEBUG] jax_fem: Calling the row elimination solver for imposing Dirichlet B.C.\n",
      "[01-07 15:55:56][DEBUG] jax_fem: Start timing\n",
      "[01-07 15:55:56][DEBUG] jax_fem: Computing cell Jacobian and cell residual...\n",
      "[01-07 15:55:57][DEBUG] jax_fem: Function split_and_compute_cell took 0.2303 seconds\n",
      "[01-07 15:55:57][DEBUG] jax_fem: Creating sparse matrix with scipy...\n",
      "[01-07 15:55:57][DEBUG] jax_fem: Before, res l_2 = 0.3750878068000129\n",
      "[01-07 15:55:57][DEBUG] jax_fem: Solving linear system...\n",
      "[01-07 15:55:57][DEBUG] jax_fem: JAX Solver - Solving linear system\n",
      "[01-07 15:55:59][DEBUG] jax_fem: JAX Solver - Finshed solving, res = 7.369045273865609e-11\n",
      "[01-07 15:55:59][DEBUG] jax_fem: Computing cell Jacobian and cell residual...\n",
      "[01-07 15:55:59][DEBUG] jax_fem: Function split_and_compute_cell took 0.2440 seconds\n",
      "[01-07 15:55:59][DEBUG] jax_fem: Creating sparse matrix with scipy...\n",
      "[01-07 15:55:59][DEBUG] jax_fem: res l_2 = 0.021314133874195434\n",
      "[01-07 15:55:59][DEBUG] jax_fem: Solving linear system...\n",
      "[01-07 15:55:59][DEBUG] jax_fem: JAX Solver - Solving linear system\n",
      "[01-07 15:56:01][DEBUG] jax_fem: JAX Solver - Finshed solving, res = 9.413965915108519e-11\n",
      "[01-07 15:56:01][DEBUG] jax_fem: Computing cell Jacobian and cell residual...\n",
      "[01-07 15:56:01][DEBUG] jax_fem: Function split_and_compute_cell took 0.2884 seconds\n",
      "[01-07 15:56:01][DEBUG] jax_fem: Creating sparse matrix with scipy...\n",
      "[01-07 15:56:02][DEBUG] jax_fem: res l_2 = 0.002652866816355315\n",
      "[01-07 15:56:02][DEBUG] jax_fem: Solving linear system...\n",
      "[01-07 15:56:02][DEBUG] jax_fem: JAX Solver - Solving linear system\n",
      "[01-07 15:56:03][DEBUG] jax_fem: JAX Solver - Finshed solving, res = 8.322190174997587e-11\n",
      "[01-07 15:56:03][DEBUG] jax_fem: Computing cell Jacobian and cell residual...\n",
      "[01-07 15:56:04][DEBUG] jax_fem: Function split_and_compute_cell took 0.3351 seconds\n",
      "[01-07 15:56:04][DEBUG] jax_fem: Creating sparse matrix with scipy...\n",
      "[01-07 15:56:04][DEBUG] jax_fem: res l_2 = 4.073892297526115e-06\n",
      "[01-07 15:56:04][DEBUG] jax_fem: Solving linear system...\n",
      "[01-07 15:56:04][DEBUG] jax_fem: JAX Solver - Solving linear system\n",
      "[01-07 15:56:05][DEBUG] jax_fem: JAX Solver - Finshed solving, res = 9.864078194876337e-11\n",
      "[01-07 15:56:05][DEBUG] jax_fem: Computing cell Jacobian and cell residual...\n",
      "[01-07 15:56:05][DEBUG] jax_fem: Function split_and_compute_cell took 0.2379 seconds\n",
      "[01-07 15:56:05][DEBUG] jax_fem: Creating sparse matrix with scipy...\n",
      "[01-07 15:56:05][DEBUG] jax_fem: res l_2 = 1.0065434311934569e-10\n",
      "[01-07 15:56:05][INFO] jax_fem: Solve took 8.840420722961426 [s]\n",
      "[01-07 15:56:05][DEBUG] jax_fem: max of dofs = 1.6691969037248166e-06\n",
      "[01-07 15:56:05][DEBUG] jax_fem: min of dofs = -1.378549137779999e-06\n",
      "[01-07 15:56:05][DEBUG] jax_fem: Calling the row elimination solver for imposing Dirichlet B.C.\n",
      "[01-07 15:56:05][DEBUG] jax_fem: Start timing\n",
      "[01-07 15:56:05][DEBUG] jax_fem: Computing cell Jacobian and cell residual...\n",
      "[01-07 15:56:05][DEBUG] jax_fem: Function split_and_compute_cell took 0.0340 seconds\n",
      "[01-07 15:56:06][DEBUG] jax_fem: Creating sparse matrix with scipy...\n",
      "[01-07 15:56:06][DEBUG] jax_fem: Before, res l_2 = 13885.164077565121\n",
      "[01-07 15:56:06][DEBUG] jax_fem: Solving linear system...\n",
      "[01-07 15:56:06][DEBUG] jax_fem: JAX Solver - Solving linear system\n"
     ]
    },
    {
     "name": "stdout",
     "output_type": "stream",
     "text": [
      "max f_plus = 231068410.37617034, max stress_xx = 421049021.54061335\n",
      "\n",
      "Step 331, total step = 500, laser_x = 0.00045599999999999997, Lx = 0.0005, laser ON = False\n"
     ]
    },
    {
     "name": "stderr",
     "output_type": "stream",
     "text": [
      "[01-07 15:56:06][DEBUG] jax_fem: JAX Solver - Finshed solving, res = 6.591746950348574e-09\n",
      "[01-07 15:56:06][DEBUG] jax_fem: Computing cell Jacobian and cell residual...\n",
      "[01-07 15:56:06][DEBUG] jax_fem: Function split_and_compute_cell took 0.0482 seconds\n",
      "[01-07 15:56:06][DEBUG] jax_fem: Creating sparse matrix with scipy...\n",
      "[01-07 15:56:06][DEBUG] jax_fem: res l_2 = 6.591748103484007e-09\n",
      "[01-07 15:56:06][INFO] jax_fem: Solve took 0.653130292892456 [s]\n",
      "[01-07 15:56:06][DEBUG] jax_fem: max of dofs = 3431.01633830263\n",
      "[01-07 15:56:06][DEBUG] jax_fem: min of dofs = 300.0\n",
      "[01-07 15:56:06][DEBUG] jax_fem: Calling the row elimination solver for imposing Dirichlet B.C.\n",
      "[01-07 15:56:06][DEBUG] jax_fem: Start timing\n",
      "[01-07 15:56:06][DEBUG] jax_fem: Computing cell Jacobian and cell residual...\n",
      "[01-07 15:56:06][DEBUG] jax_fem: Function split_and_compute_cell took 0.0378 seconds\n",
      "[01-07 15:56:06][DEBUG] jax_fem: Creating sparse matrix with scipy...\n",
      "[01-07 15:56:06][DEBUG] jax_fem: Before, res l_2 = 13885.153899349607\n",
      "[01-07 15:56:06][DEBUG] jax_fem: Solving linear system...\n",
      "[01-07 15:56:06][DEBUG] jax_fem: JAX Solver - Solving linear system\n"
     ]
    },
    {
     "name": "stdout",
     "output_type": "stream",
     "text": [
      "\n",
      "Step 332, total step = 500, laser_x = 0.000457, Lx = 0.0005, laser ON = False\n"
     ]
    },
    {
     "name": "stderr",
     "output_type": "stream",
     "text": [
      "[01-07 15:56:07][DEBUG] jax_fem: JAX Solver - Finshed solving, res = 6.325985285463891e-09\n",
      "[01-07 15:56:07][DEBUG] jax_fem: Computing cell Jacobian and cell residual...\n",
      "[01-07 15:56:07][DEBUG] jax_fem: Function split_and_compute_cell took 0.0396 seconds\n",
      "[01-07 15:56:07][DEBUG] jax_fem: Creating sparse matrix with scipy...\n",
      "[01-07 15:56:07][DEBUG] jax_fem: res l_2 = 6.325987896029065e-09\n",
      "[01-07 15:56:07][INFO] jax_fem: Solve took 0.6083061695098877 [s]\n",
      "[01-07 15:56:07][DEBUG] jax_fem: max of dofs = 3387.889463549606\n",
      "[01-07 15:56:07][DEBUG] jax_fem: min of dofs = 300.0\n",
      "[01-07 15:56:07][DEBUG] jax_fem: Calling the row elimination solver for imposing Dirichlet B.C.\n",
      "[01-07 15:56:07][DEBUG] jax_fem: Start timing\n",
      "[01-07 15:56:07][DEBUG] jax_fem: Computing cell Jacobian and cell residual...\n",
      "[01-07 15:56:07][DEBUG] jax_fem: Function split_and_compute_cell took 0.0344 seconds\n",
      "[01-07 15:56:07][DEBUG] jax_fem: Creating sparse matrix with scipy...\n",
      "[01-07 15:56:07][DEBUG] jax_fem: Before, res l_2 = 13885.143931221895\n",
      "[01-07 15:56:07][DEBUG] jax_fem: Solving linear system...\n",
      "[01-07 15:56:07][DEBUG] jax_fem: JAX Solver - Solving linear system\n"
     ]
    },
    {
     "name": "stdout",
     "output_type": "stream",
     "text": [
      "\n",
      "Step 333, total step = 500, laser_x = 0.00045799999999999997, Lx = 0.0005, laser ON = False\n"
     ]
    },
    {
     "name": "stderr",
     "output_type": "stream",
     "text": [
      "[01-07 15:56:07][DEBUG] jax_fem: JAX Solver - Finshed solving, res = 6.070990452797168e-09\n",
      "[01-07 15:56:07][DEBUG] jax_fem: Computing cell Jacobian and cell residual...\n",
      "[01-07 15:56:07][DEBUG] jax_fem: Function split_and_compute_cell took 0.0424 seconds\n",
      "[01-07 15:56:07][DEBUG] jax_fem: Creating sparse matrix with scipy...\n",
      "[01-07 15:56:07][DEBUG] jax_fem: res l_2 = 6.070990320746813e-09\n",
      "[01-07 15:56:07][INFO] jax_fem: Solve took 0.5861361026763916 [s]\n",
      "[01-07 15:56:07][DEBUG] jax_fem: max of dofs = 3345.4289914331302\n",
      "[01-07 15:56:07][DEBUG] jax_fem: min of dofs = 300.0\n",
      "[01-07 15:56:07][DEBUG] jax_fem: Calling the row elimination solver for imposing Dirichlet B.C.\n",
      "[01-07 15:56:07][DEBUG] jax_fem: Start timing\n",
      "[01-07 15:56:07][DEBUG] jax_fem: Computing cell Jacobian and cell residual...\n",
      "[01-07 15:56:07][DEBUG] jax_fem: Function split_and_compute_cell took 0.0301 seconds\n",
      "[01-07 15:56:07][DEBUG] jax_fem: Creating sparse matrix with scipy...\n",
      "[01-07 15:56:07][DEBUG] jax_fem: Before, res l_2 = 13885.134168219547\n",
      "[01-07 15:56:07][DEBUG] jax_fem: Solving linear system...\n",
      "[01-07 15:56:07][DEBUG] jax_fem: JAX Solver - Solving linear system\n"
     ]
    },
    {
     "name": "stdout",
     "output_type": "stream",
     "text": [
      "\n",
      "Step 334, total step = 500, laser_x = 0.000459, Lx = 0.0005, laser ON = False\n"
     ]
    },
    {
     "name": "stderr",
     "output_type": "stream",
     "text": [
      "[01-07 15:56:08][DEBUG] jax_fem: JAX Solver - Finshed solving, res = 5.826390122380608e-09\n",
      "[01-07 15:56:08][DEBUG] jax_fem: Computing cell Jacobian and cell residual...\n",
      "[01-07 15:56:08][DEBUG] jax_fem: Function split_and_compute_cell took 0.0376 seconds\n",
      "[01-07 15:56:08][DEBUG] jax_fem: Creating sparse matrix with scipy...\n",
      "[01-07 15:56:08][DEBUG] jax_fem: res l_2 = 5.826392213973665e-09\n",
      "[01-07 15:56:08][INFO] jax_fem: Solve took 0.5751893520355225 [s]\n",
      "[01-07 15:56:08][DEBUG] jax_fem: max of dofs = 3303.622924101383\n",
      "[01-07 15:56:08][DEBUG] jax_fem: min of dofs = 300.0\n",
      "[01-07 15:56:08][DEBUG] jax_fem: Calling the row elimination solver for imposing Dirichlet B.C.\n",
      "[01-07 15:56:08][DEBUG] jax_fem: Start timing\n",
      "[01-07 15:56:08][DEBUG] jax_fem: Computing cell Jacobian and cell residual...\n",
      "[01-07 15:56:08][DEBUG] jax_fem: Function split_and_compute_cell took 0.0299 seconds\n",
      "[01-07 15:56:08][DEBUG] jax_fem: Creating sparse matrix with scipy...\n",
      "[01-07 15:56:08][DEBUG] jax_fem: Before, res l_2 = 13885.12460551287\n",
      "[01-07 15:56:08][DEBUG] jax_fem: Solving linear system...\n",
      "[01-07 15:56:08][DEBUG] jax_fem: JAX Solver - Solving linear system\n"
     ]
    },
    {
     "name": "stdout",
     "output_type": "stream",
     "text": [
      "\n",
      "Step 335, total step = 500, laser_x = 0.00046, Lx = 0.0005, laser ON = False\n"
     ]
    },
    {
     "name": "stderr",
     "output_type": "stream",
     "text": [
      "[01-07 15:56:08][DEBUG] jax_fem: JAX Solver - Finshed solving, res = 5.591829074842214e-09\n",
      "[01-07 15:56:08][DEBUG] jax_fem: Computing cell Jacobian and cell residual...\n",
      "[01-07 15:56:09][DEBUG] jax_fem: Function split_and_compute_cell took 0.0963 seconds\n",
      "[01-07 15:56:09][DEBUG] jax_fem: Creating sparse matrix with scipy...\n",
      "[01-07 15:56:09][DEBUG] jax_fem: res l_2 = 5.59183100510348e-09\n",
      "[01-07 15:56:09][INFO] jax_fem: Solve took 0.7356040477752686 [s]\n",
      "[01-07 15:56:09][DEBUG] jax_fem: max of dofs = 3262.4595379038533\n",
      "[01-07 15:56:09][DEBUG] jax_fem: min of dofs = 300.0\n",
      "[01-07 15:56:09][DEBUG] jax_fem: Calling the row elimination solver for imposing Dirichlet B.C.\n",
      "[01-07 15:56:09][DEBUG] jax_fem: Start timing\n",
      "[01-07 15:56:09][DEBUG] jax_fem: Computing cell Jacobian and cell residual...\n",
      "[01-07 15:56:09][DEBUG] jax_fem: Function split_and_compute_cell took 0.0272 seconds\n",
      "[01-07 15:56:09][DEBUG] jax_fem: Creating sparse matrix with scipy...\n",
      "[01-07 15:56:09][DEBUG] jax_fem: Before, res l_2 = 13885.115238400896\n",
      "[01-07 15:56:09][DEBUG] jax_fem: Solving linear system...\n",
      "[01-07 15:56:09][DEBUG] jax_fem: JAX Solver - Solving linear system\n"
     ]
    },
    {
     "name": "stdout",
     "output_type": "stream",
     "text": [
      "\n",
      "Step 336, total step = 500, laser_x = 0.000461, Lx = 0.0005, laser ON = False\n"
     ]
    },
    {
     "name": "stderr",
     "output_type": "stream",
     "text": [
      "[01-07 15:56:09][DEBUG] jax_fem: JAX Solver - Finshed solving, res = 5.366954505981635e-09\n",
      "[01-07 15:56:09][DEBUG] jax_fem: Computing cell Jacobian and cell residual...\n",
      "[01-07 15:56:09][DEBUG] jax_fem: Function split_and_compute_cell took 0.0433 seconds\n",
      "[01-07 15:56:09][DEBUG] jax_fem: Creating sparse matrix with scipy...\n",
      "[01-07 15:56:09][DEBUG] jax_fem: res l_2 = 5.36695385853576e-09\n",
      "[01-07 15:56:09][INFO] jax_fem: Solve took 0.6074478626251221 [s]\n",
      "[01-07 15:56:09][DEBUG] jax_fem: max of dofs = 3221.927374045565\n",
      "[01-07 15:56:09][DEBUG] jax_fem: min of dofs = 300.0\n",
      "[01-07 15:56:09][DEBUG] jax_fem: Calling the row elimination solver for imposing Dirichlet B.C.\n",
      "[01-07 15:56:09][DEBUG] jax_fem: Start timing\n",
      "[01-07 15:56:09][DEBUG] jax_fem: Computing cell Jacobian and cell residual...\n",
      "[01-07 15:56:09][DEBUG] jax_fem: Function split_and_compute_cell took 0.0271 seconds\n",
      "[01-07 15:56:09][DEBUG] jax_fem: Creating sparse matrix with scipy...\n",
      "[01-07 15:56:09][DEBUG] jax_fem: Before, res l_2 = 13885.106062307472\n",
      "[01-07 15:56:09][DEBUG] jax_fem: Solving linear system...\n",
      "[01-07 15:56:09][DEBUG] jax_fem: JAX Solver - Solving linear system\n"
     ]
    },
    {
     "name": "stdout",
     "output_type": "stream",
     "text": [
      "\n",
      "Step 337, total step = 500, laser_x = 0.000462, Lx = 0.0005, laser ON = False\n"
     ]
    },
    {
     "name": "stderr",
     "output_type": "stream",
     "text": [
      "[01-07 15:56:10][DEBUG] jax_fem: JAX Solver - Finshed solving, res = 5.151427071289409e-09\n",
      "[01-07 15:56:10][DEBUG] jax_fem: Computing cell Jacobian and cell residual...\n",
      "[01-07 15:56:10][DEBUG] jax_fem: Function split_and_compute_cell took 0.0778 seconds\n",
      "[01-07 15:56:10][DEBUG] jax_fem: Creating sparse matrix with scipy...\n",
      "[01-07 15:56:10][DEBUG] jax_fem: res l_2 = 5.151426590003571e-09\n",
      "[01-07 15:56:10][INFO] jax_fem: Solve took 0.6655807495117188 [s]\n",
      "[01-07 15:56:10][DEBUG] jax_fem: max of dofs = 3182.0152297594773\n",
      "[01-07 15:56:10][DEBUG] jax_fem: min of dofs = 300.0\n",
      "[01-07 15:56:10][DEBUG] jax_fem: Calling the row elimination solver for imposing Dirichlet B.C.\n",
      "[01-07 15:56:10][DEBUG] jax_fem: Start timing\n",
      "[01-07 15:56:10][DEBUG] jax_fem: Computing cell Jacobian and cell residual...\n",
      "[01-07 15:56:10][DEBUG] jax_fem: Function split_and_compute_cell took 0.0379 seconds\n",
      "[01-07 15:56:10][DEBUG] jax_fem: Creating sparse matrix with scipy...\n",
      "[01-07 15:56:10][DEBUG] jax_fem: Before, res l_2 = 13885.097072777517\n",
      "[01-07 15:56:10][DEBUG] jax_fem: Solving linear system...\n",
      "[01-07 15:56:10][DEBUG] jax_fem: JAX Solver - Solving linear system\n"
     ]
    },
    {
     "name": "stdout",
     "output_type": "stream",
     "text": [
      "\n",
      "Step 338, total step = 500, laser_x = 0.000463, Lx = 0.0005, laser ON = False\n"
     ]
    },
    {
     "name": "stderr",
     "output_type": "stream",
     "text": [
      "[01-07 15:56:11][DEBUG] jax_fem: JAX Solver - Finshed solving, res = 4.944916665699284e-09\n",
      "[01-07 15:56:11][DEBUG] jax_fem: Computing cell Jacobian and cell residual...\n",
      "[01-07 15:56:11][DEBUG] jax_fem: Function split_and_compute_cell took 0.0385 seconds\n",
      "[01-07 15:56:11][DEBUG] jax_fem: Creating sparse matrix with scipy...\n",
      "[01-07 15:56:11][DEBUG] jax_fem: res l_2 = 4.9449177317938995e-09\n",
      "[01-07 15:56:11][INFO] jax_fem: Solve took 0.7406435012817383 [s]\n",
      "[01-07 15:56:11][DEBUG] jax_fem: max of dofs = 3142.7121499569316\n",
      "[01-07 15:56:11][DEBUG] jax_fem: min of dofs = 300.0\n",
      "[01-07 15:56:11][DEBUG] jax_fem: Calling the row elimination solver for imposing Dirichlet B.C.\n",
      "[01-07 15:56:11][DEBUG] jax_fem: Start timing\n",
      "[01-07 15:56:11][DEBUG] jax_fem: Computing cell Jacobian and cell residual...\n",
      "[01-07 15:56:11][DEBUG] jax_fem: Function split_and_compute_cell took 0.0335 seconds\n",
      "[01-07 15:56:11][DEBUG] jax_fem: Creating sparse matrix with scipy...\n",
      "[01-07 15:56:11][DEBUG] jax_fem: Before, res l_2 = 13885.088265473387\n",
      "[01-07 15:56:11][DEBUG] jax_fem: Solving linear system...\n",
      "[01-07 15:56:11][DEBUG] jax_fem: JAX Solver - Solving linear system\n"
     ]
    },
    {
     "name": "stdout",
     "output_type": "stream",
     "text": [
      "\n",
      "Step 339, total step = 500, laser_x = 0.000464, Lx = 0.0005, laser ON = False\n"
     ]
    },
    {
     "name": "stderr",
     "output_type": "stream",
     "text": [
      "[01-07 15:56:11][DEBUG] jax_fem: JAX Solver - Finshed solving, res = 4.74710699009094e-09\n",
      "[01-07 15:56:11][DEBUG] jax_fem: Computing cell Jacobian and cell residual...\n",
      "[01-07 15:56:11][DEBUG] jax_fem: Function split_and_compute_cell took 0.0328 seconds\n",
      "[01-07 15:56:11][DEBUG] jax_fem: Creating sparse matrix with scipy...\n",
      "[01-07 15:56:11][DEBUG] jax_fem: res l_2 = 4.747105672432037e-09\n",
      "[01-07 15:56:11][INFO] jax_fem: Solve took 0.5236399173736572 [s]\n",
      "[01-07 15:56:11][DEBUG] jax_fem: max of dofs = 3104.007419319672\n",
      "[01-07 15:56:11][DEBUG] jax_fem: min of dofs = 300.0\n",
      "[01-07 15:56:11][DEBUG] jax_fem: Calling the row elimination solver for imposing Dirichlet B.C.\n",
      "[01-07 15:56:11][DEBUG] jax_fem: Start timing\n",
      "[01-07 15:56:11][DEBUG] jax_fem: Computing cell Jacobian and cell residual...\n",
      "[01-07 15:56:11][DEBUG] jax_fem: Function split_and_compute_cell took 0.0259 seconds\n",
      "[01-07 15:56:11][DEBUG] jax_fem: Creating sparse matrix with scipy...\n",
      "[01-07 15:56:11][DEBUG] jax_fem: Before, res l_2 = 13885.079636171367\n",
      "[01-07 15:56:11][DEBUG] jax_fem: Solving linear system...\n",
      "[01-07 15:56:11][DEBUG] jax_fem: JAX Solver - Solving linear system\n"
     ]
    },
    {
     "name": "stdout",
     "output_type": "stream",
     "text": [
      "\n",
      "Step 340, total step = 500, laser_x = 0.00046499999999999997, Lx = 0.0005, laser ON = False\n"
     ]
    },
    {
     "name": "stderr",
     "output_type": "stream",
     "text": [
      "[01-07 15:56:12][DEBUG] jax_fem: JAX Solver - Finshed solving, res = 4.557678388386072e-09\n",
      "[01-07 15:56:12][DEBUG] jax_fem: Computing cell Jacobian and cell residual...\n",
      "[01-07 15:56:12][DEBUG] jax_fem: Function split_and_compute_cell took 0.0306 seconds\n",
      "[01-07 15:56:12][DEBUG] jax_fem: Creating sparse matrix with scipy...\n",
      "[01-07 15:56:12][DEBUG] jax_fem: res l_2 = 4.557680675611687e-09\n",
      "[01-07 15:56:12][INFO] jax_fem: Solve took 0.5651531219482422 [s]\n",
      "[01-07 15:56:12][DEBUG] jax_fem: max of dofs = 3065.8905548002517\n",
      "[01-07 15:56:12][DEBUG] jax_fem: min of dofs = 300.0\n",
      "[01-07 15:56:12][DEBUG] jax_fem: Calling the row elimination solver for imposing Dirichlet B.C.\n",
      "[01-07 15:56:12][DEBUG] jax_fem: Start timing\n",
      "[01-07 15:56:12][DEBUG] jax_fem: Computing cell Jacobian and cell residual...\n",
      "[01-07 15:56:12][DEBUG] jax_fem: Function split_and_compute_cell took 0.2368 seconds\n",
      "[01-07 15:56:12][DEBUG] jax_fem: Creating sparse matrix with scipy...\n",
      "[01-07 15:56:12][DEBUG] jax_fem: Before, res l_2 = 0.3883563284866415\n",
      "[01-07 15:56:12][DEBUG] jax_fem: Solving linear system...\n",
      "[01-07 15:56:12][DEBUG] jax_fem: JAX Solver - Solving linear system\n",
      "[01-07 15:56:14][DEBUG] jax_fem: JAX Solver - Finshed solving, res = 6.091771787056461e-11\n",
      "[01-07 15:56:14][DEBUG] jax_fem: Computing cell Jacobian and cell residual...\n",
      "[01-07 15:56:14][DEBUG] jax_fem: Function split_and_compute_cell took 0.2327 seconds\n",
      "[01-07 15:56:14][DEBUG] jax_fem: Creating sparse matrix with scipy...\n",
      "[01-07 15:56:14][DEBUG] jax_fem: res l_2 = 0.02148171210117466\n",
      "[01-07 15:56:14][DEBUG] jax_fem: Solving linear system...\n",
      "[01-07 15:56:14][DEBUG] jax_fem: JAX Solver - Solving linear system\n",
      "[01-07 15:56:16][DEBUG] jax_fem: JAX Solver - Finshed solving, res = 9.899959187855707e-11\n",
      "[01-07 15:56:16][DEBUG] jax_fem: Computing cell Jacobian and cell residual...\n",
      "[01-07 15:56:16][DEBUG] jax_fem: Function split_and_compute_cell took 0.2396 seconds\n",
      "[01-07 15:56:16][DEBUG] jax_fem: Creating sparse matrix with scipy...\n",
      "[01-07 15:56:17][DEBUG] jax_fem: res l_2 = 0.0028254624406087486\n",
      "[01-07 15:56:17][DEBUG] jax_fem: Solving linear system...\n",
      "[01-07 15:56:17][DEBUG] jax_fem: JAX Solver - Solving linear system\n",
      "[01-07 15:56:18][DEBUG] jax_fem: JAX Solver - Finshed solving, res = 9.292352714401517e-11\n",
      "[01-07 15:56:18][DEBUG] jax_fem: Computing cell Jacobian and cell residual...\n",
      "[01-07 15:56:18][DEBUG] jax_fem: Function split_and_compute_cell took 0.2336 seconds\n",
      "[01-07 15:56:18][DEBUG] jax_fem: Creating sparse matrix with scipy...\n",
      "[01-07 15:56:19][DEBUG] jax_fem: res l_2 = 2.125674576589985e-05\n",
      "[01-07 15:56:19][DEBUG] jax_fem: Solving linear system...\n",
      "[01-07 15:56:19][DEBUG] jax_fem: JAX Solver - Solving linear system\n",
      "[01-07 15:56:20][DEBUG] jax_fem: JAX Solver - Finshed solving, res = 9.121105952209505e-11\n",
      "[01-07 15:56:20][DEBUG] jax_fem: Computing cell Jacobian and cell residual...\n",
      "[01-07 15:56:20][DEBUG] jax_fem: Function split_and_compute_cell took 0.2706 seconds\n",
      "[01-07 15:56:20][DEBUG] jax_fem: Creating sparse matrix with scipy...\n",
      "[01-07 15:56:20][DEBUG] jax_fem: res l_2 = 6.509353826709733e-10\n",
      "[01-07 15:56:20][INFO] jax_fem: Solve took 8.434352159500122 [s]\n",
      "[01-07 15:56:20][DEBUG] jax_fem: max of dofs = 1.7258910702863178e-06\n",
      "[01-07 15:56:20][DEBUG] jax_fem: min of dofs = -1.4429932654800072e-06\n",
      "[01-07 15:56:20][DEBUG] jax_fem: Calling the row elimination solver for imposing Dirichlet B.C.\n",
      "[01-07 15:56:20][DEBUG] jax_fem: Start timing\n",
      "[01-07 15:56:20][DEBUG] jax_fem: Computing cell Jacobian and cell residual...\n",
      "[01-07 15:56:21][DEBUG] jax_fem: Function split_and_compute_cell took 0.0310 seconds\n",
      "[01-07 15:56:21][DEBUG] jax_fem: Creating sparse matrix with scipy...\n",
      "[01-07 15:56:21][DEBUG] jax_fem: Before, res l_2 = 13885.071180758296\n",
      "[01-07 15:56:21][DEBUG] jax_fem: Solving linear system...\n",
      "[01-07 15:56:21][DEBUG] jax_fem: JAX Solver - Solving linear system\n"
     ]
    },
    {
     "name": "stdout",
     "output_type": "stream",
     "text": [
      "max f_plus = 260649106.333085, max stress_xx = 435050895.70042187\n",
      "\n",
      "Step 341, total step = 500, laser_x = 0.000466, Lx = 0.0005, laser ON = False\n"
     ]
    },
    {
     "name": "stderr",
     "output_type": "stream",
     "text": [
      "[01-07 15:56:21][DEBUG] jax_fem: JAX Solver - Finshed solving, res = 4.37632813294247e-09\n",
      "[01-07 15:56:21][DEBUG] jax_fem: Computing cell Jacobian and cell residual...\n",
      "[01-07 15:56:21][DEBUG] jax_fem: Function split_and_compute_cell took 0.0418 seconds\n",
      "[01-07 15:56:21][DEBUG] jax_fem: Creating sparse matrix with scipy...\n",
      "[01-07 15:56:21][DEBUG] jax_fem: res l_2 = 4.376330128069651e-09\n",
      "[01-07 15:56:21][INFO] jax_fem: Solve took 0.5693583488464355 [s]\n",
      "[01-07 15:56:21][DEBUG] jax_fem: max of dofs = 3028.3512985004936\n",
      "[01-07 15:56:21][DEBUG] jax_fem: min of dofs = 300.0\n",
      "[01-07 15:56:21][DEBUG] jax_fem: Calling the row elimination solver for imposing Dirichlet B.C.\n",
      "[01-07 15:56:21][DEBUG] jax_fem: Start timing\n",
      "[01-07 15:56:21][DEBUG] jax_fem: Computing cell Jacobian and cell residual...\n",
      "[01-07 15:56:21][DEBUG] jax_fem: Function split_and_compute_cell took 0.0465 seconds\n",
      "[01-07 15:56:21][DEBUG] jax_fem: Creating sparse matrix with scipy...\n",
      "[01-07 15:56:21][DEBUG] jax_fem: Before, res l_2 = 13885.062895228273\n",
      "[01-07 15:56:21][DEBUG] jax_fem: Solving linear system...\n",
      "[01-07 15:56:21][DEBUG] jax_fem: JAX Solver - Solving linear system\n"
     ]
    },
    {
     "name": "stdout",
     "output_type": "stream",
     "text": [
      "\n",
      "Step 342, total step = 500, laser_x = 0.00046699999999999997, Lx = 0.0005, laser ON = False\n"
     ]
    },
    {
     "name": "stderr",
     "output_type": "stream",
     "text": [
      "[01-07 15:56:22][DEBUG] jax_fem: JAX Solver - Finshed solving, res = 4.2027632516335356e-09\n",
      "[01-07 15:56:22][DEBUG] jax_fem: Computing cell Jacobian and cell residual...\n",
      "[01-07 15:56:22][DEBUG] jax_fem: Function split_and_compute_cell took 0.0300 seconds\n",
      "[01-07 15:56:22][DEBUG] jax_fem: Creating sparse matrix with scipy...\n",
      "[01-07 15:56:22][DEBUG] jax_fem: res l_2 = 4.202763317828136e-09\n",
      "[01-07 15:56:22][INFO] jax_fem: Solve took 0.5958178043365479 [s]\n",
      "[01-07 15:56:22][DEBUG] jax_fem: max of dofs = 2991.3796109003415\n",
      "[01-07 15:56:22][DEBUG] jax_fem: min of dofs = 300.0\n",
      "[01-07 15:56:22][DEBUG] jax_fem: Calling the row elimination solver for imposing Dirichlet B.C.\n",
      "[01-07 15:56:22][DEBUG] jax_fem: Start timing\n",
      "[01-07 15:56:22][DEBUG] jax_fem: Computing cell Jacobian and cell residual...\n",
      "[01-07 15:56:22][DEBUG] jax_fem: Function split_and_compute_cell took 0.0751 seconds\n",
      "[01-07 15:56:22][DEBUG] jax_fem: Creating sparse matrix with scipy...\n",
      "[01-07 15:56:22][DEBUG] jax_fem: Before, res l_2 = 13885.054775679526\n",
      "[01-07 15:56:22][DEBUG] jax_fem: Solving linear system...\n",
      "[01-07 15:56:22][DEBUG] jax_fem: JAX Solver - Solving linear system\n"
     ]
    },
    {
     "name": "stdout",
     "output_type": "stream",
     "text": [
      "\n",
      "Step 343, total step = 500, laser_x = 0.000468, Lx = 0.0005, laser ON = False\n"
     ]
    },
    {
     "name": "stderr",
     "output_type": "stream",
     "text": [
      "[01-07 15:56:22][DEBUG] jax_fem: JAX Solver - Finshed solving, res = 4.036692921946161e-09\n",
      "[01-07 15:56:22][DEBUG] jax_fem: Computing cell Jacobian and cell residual...\n",
      "[01-07 15:56:22][DEBUG] jax_fem: Function split_and_compute_cell took 0.0346 seconds\n",
      "[01-07 15:56:22][DEBUG] jax_fem: Creating sparse matrix with scipy...\n",
      "[01-07 15:56:22][DEBUG] jax_fem: res l_2 = 4.036694584436622e-09\n",
      "[01-07 15:56:22][INFO] jax_fem: Solve took 0.6249477863311768 [s]\n",
      "[01-07 15:56:22][DEBUG] jax_fem: max of dofs = 2954.9656644119273\n",
      "[01-07 15:56:22][DEBUG] jax_fem: min of dofs = 300.0\n",
      "[01-07 15:56:22][DEBUG] jax_fem: Calling the row elimination solver for imposing Dirichlet B.C.\n",
      "[01-07 15:56:22][DEBUG] jax_fem: Start timing\n",
      "[01-07 15:56:22][DEBUG] jax_fem: Computing cell Jacobian and cell residual...\n",
      "[01-07 15:56:22][DEBUG] jax_fem: Function split_and_compute_cell took 0.0244 seconds\n",
      "[01-07 15:56:22][DEBUG] jax_fem: Creating sparse matrix with scipy...\n",
      "[01-07 15:56:22][DEBUG] jax_fem: Before, res l_2 = 13885.046818311328\n",
      "[01-07 15:56:22][DEBUG] jax_fem: Solving linear system...\n",
      "[01-07 15:56:22][DEBUG] jax_fem: JAX Solver - Solving linear system\n"
     ]
    },
    {
     "name": "stdout",
     "output_type": "stream",
     "text": [
      "\n",
      "Step 344, total step = 500, laser_x = 0.00046899999999999996, Lx = 0.0005, laser ON = False\n"
     ]
    },
    {
     "name": "stderr",
     "output_type": "stream",
     "text": [
      "[01-07 15:56:23][DEBUG] jax_fem: JAX Solver - Finshed solving, res = 3.877838745383327e-09\n",
      "[01-07 15:56:23][DEBUG] jax_fem: Computing cell Jacobian and cell residual...\n",
      "[01-07 15:56:23][DEBUG] jax_fem: Function split_and_compute_cell took 0.0366 seconds\n",
      "[01-07 15:56:23][DEBUG] jax_fem: Creating sparse matrix with scipy...\n",
      "[01-07 15:56:23][DEBUG] jax_fem: res l_2 = 3.877837360158291e-09\n",
      "[01-07 15:56:23][INFO] jax_fem: Solve took 0.61895751953125 [s]\n",
      "[01-07 15:56:23][DEBUG] jax_fem: max of dofs = 2919.099837235728\n",
      "[01-07 15:56:23][DEBUG] jax_fem: min of dofs = 300.0\n",
      "[01-07 15:56:23][DEBUG] jax_fem: Calling the row elimination solver for imposing Dirichlet B.C.\n",
      "[01-07 15:56:23][DEBUG] jax_fem: Start timing\n",
      "[01-07 15:56:23][DEBUG] jax_fem: Computing cell Jacobian and cell residual...\n",
      "[01-07 15:56:23][DEBUG] jax_fem: Function split_and_compute_cell took 0.0243 seconds\n",
      "[01-07 15:56:23][DEBUG] jax_fem: Creating sparse matrix with scipy...\n",
      "[01-07 15:56:23][DEBUG] jax_fem: Before, res l_2 = 13885.039019421063\n",
      "[01-07 15:56:23][DEBUG] jax_fem: Solving linear system...\n",
      "[01-07 15:56:23][DEBUG] jax_fem: JAX Solver - Solving linear system\n"
     ]
    },
    {
     "name": "stdout",
     "output_type": "stream",
     "text": [
      "\n",
      "Step 345, total step = 500, laser_x = 0.00047, Lx = 0.0005, laser ON = False\n"
     ]
    },
    {
     "name": "stderr",
     "output_type": "stream",
     "text": [
      "[01-07 15:56:23][DEBUG] jax_fem: JAX Solver - Finshed solving, res = 3.725926996276968e-09\n",
      "[01-07 15:56:23][DEBUG] jax_fem: Computing cell Jacobian and cell residual...\n",
      "[01-07 15:56:23][DEBUG] jax_fem: Function split_and_compute_cell took 0.0345 seconds\n",
      "[01-07 15:56:23][DEBUG] jax_fem: Creating sparse matrix with scipy...\n",
      "[01-07 15:56:23][DEBUG] jax_fem: res l_2 = 3.725928110154019e-09\n",
      "[01-07 15:56:23][INFO] jax_fem: Solve took 0.5700445175170898 [s]\n",
      "[01-07 15:56:23][DEBUG] jax_fem: max of dofs = 2883.772707497815\n",
      "[01-07 15:56:24][DEBUG] jax_fem: min of dofs = 300.0\n",
      "[01-07 15:56:24][DEBUG] jax_fem: Calling the row elimination solver for imposing Dirichlet B.C.\n",
      "[01-07 15:56:24][DEBUG] jax_fem: Start timing\n",
      "[01-07 15:56:24][DEBUG] jax_fem: Computing cell Jacobian and cell residual...\n",
      "[01-07 15:56:24][DEBUG] jax_fem: Function split_and_compute_cell took 0.0307 seconds\n",
      "[01-07 15:56:24][DEBUG] jax_fem: Creating sparse matrix with scipy...\n",
      "[01-07 15:56:24][DEBUG] jax_fem: Before, res l_2 = 13885.031375401357\n",
      "[01-07 15:56:24][DEBUG] jax_fem: Solving linear system...\n",
      "[01-07 15:56:24][DEBUG] jax_fem: JAX Solver - Solving linear system\n"
     ]
    },
    {
     "name": "stdout",
     "output_type": "stream",
     "text": [
      "\n",
      "Step 346, total step = 500, laser_x = 0.000471, Lx = 0.0005, laser ON = False\n"
     ]
    },
    {
     "name": "stderr",
     "output_type": "stream",
     "text": [
      "[01-07 15:56:24][DEBUG] jax_fem: JAX Solver - Finshed solving, res = 3.5806925907504784e-09\n",
      "[01-07 15:56:24][DEBUG] jax_fem: Computing cell Jacobian and cell residual...\n",
      "[01-07 15:56:24][DEBUG] jax_fem: Function split_and_compute_cell took 0.0341 seconds\n",
      "[01-07 15:56:24][DEBUG] jax_fem: Creating sparse matrix with scipy...\n",
      "[01-07 15:56:24][DEBUG] jax_fem: res l_2 = 3.5806943924368785e-09\n",
      "[01-07 15:56:24][INFO] jax_fem: Solve took 0.5635776519775391 [s]\n",
      "[01-07 15:56:24][DEBUG] jax_fem: max of dofs = 2848.9750476488525\n",
      "[01-07 15:56:24][DEBUG] jax_fem: min of dofs = 300.0\n",
      "[01-07 15:56:24][DEBUG] jax_fem: Calling the row elimination solver for imposing Dirichlet B.C.\n",
      "[01-07 15:56:24][DEBUG] jax_fem: Start timing\n",
      "[01-07 15:56:24][DEBUG] jax_fem: Computing cell Jacobian and cell residual...\n",
      "[01-07 15:56:24][DEBUG] jax_fem: Function split_and_compute_cell took 0.0324 seconds\n",
      "[01-07 15:56:24][DEBUG] jax_fem: Creating sparse matrix with scipy...\n",
      "[01-07 15:56:24][DEBUG] jax_fem: Before, res l_2 = 13885.023882737325\n",
      "[01-07 15:56:24][DEBUG] jax_fem: Solving linear system...\n",
      "[01-07 15:56:24][DEBUG] jax_fem: JAX Solver - Solving linear system\n"
     ]
    },
    {
     "name": "stdout",
     "output_type": "stream",
     "text": [
      "\n",
      "Step 347, total step = 500, laser_x = 0.000472, Lx = 0.0005, laser ON = False\n"
     ]
    },
    {
     "name": "stderr",
     "output_type": "stream",
     "text": [
      "[01-07 15:56:25][DEBUG] jax_fem: JAX Solver - Finshed solving, res = 3.4418825636139024e-09\n",
      "[01-07 15:56:25][DEBUG] jax_fem: Computing cell Jacobian and cell residual...\n",
      "[01-07 15:56:25][DEBUG] jax_fem: Function split_and_compute_cell took 0.0404 seconds\n",
      "[01-07 15:56:25][DEBUG] jax_fem: Creating sparse matrix with scipy...\n",
      "[01-07 15:56:25][DEBUG] jax_fem: res l_2 = 3.441882819499759e-09\n",
      "[01-07 15:56:25][INFO] jax_fem: Solve took 0.5630307197570801 [s]\n",
      "[01-07 15:56:25][DEBUG] jax_fem: max of dofs = 2814.6978191072885\n",
      "[01-07 15:56:25][DEBUG] jax_fem: min of dofs = 300.0\n",
      "[01-07 15:56:25][DEBUG] jax_fem: Calling the row elimination solver for imposing Dirichlet B.C.\n",
      "[01-07 15:56:25][DEBUG] jax_fem: Start timing\n",
      "[01-07 15:56:25][DEBUG] jax_fem: Computing cell Jacobian and cell residual...\n",
      "[01-07 15:56:25][DEBUG] jax_fem: Function split_and_compute_cell took 0.0338 seconds\n",
      "[01-07 15:56:25][DEBUG] jax_fem: Creating sparse matrix with scipy...\n",
      "[01-07 15:56:25][DEBUG] jax_fem: Before, res l_2 = 13885.016538003898\n",
      "[01-07 15:56:25][DEBUG] jax_fem: Solving linear system...\n",
      "[01-07 15:56:25][DEBUG] jax_fem: JAX Solver - Solving linear system\n"
     ]
    },
    {
     "name": "stdout",
     "output_type": "stream",
     "text": [
      "\n",
      "Step 348, total step = 500, laser_x = 0.000473, Lx = 0.0005, laser ON = False\n"
     ]
    },
    {
     "name": "stderr",
     "output_type": "stream",
     "text": [
      "[01-07 15:56:25][DEBUG] jax_fem: JAX Solver - Finshed solving, res = 3.3092453909225143e-09\n",
      "[01-07 15:56:25][DEBUG] jax_fem: Computing cell Jacobian and cell residual...\n",
      "[01-07 15:56:25][DEBUG] jax_fem: Function split_and_compute_cell took 0.0310 seconds\n",
      "[01-07 15:56:25][DEBUG] jax_fem: Creating sparse matrix with scipy...\n",
      "[01-07 15:56:25][DEBUG] jax_fem: res l_2 = 3.309246590337755e-09\n",
      "[01-07 15:56:25][INFO] jax_fem: Solve took 0.6908962726593018 [s]\n",
      "[01-07 15:56:25][DEBUG] jax_fem: max of dofs = 2780.9321671305156\n",
      "[01-07 15:56:25][DEBUG] jax_fem: min of dofs = 300.0\n",
      "[01-07 15:56:25][DEBUG] jax_fem: Calling the row elimination solver for imposing Dirichlet B.C.\n",
      "[01-07 15:56:25][DEBUG] jax_fem: Start timing\n",
      "[01-07 15:56:25][DEBUG] jax_fem: Computing cell Jacobian and cell residual...\n",
      "[01-07 15:56:25][DEBUG] jax_fem: Function split_and_compute_cell took 0.0444 seconds\n",
      "[01-07 15:56:25][DEBUG] jax_fem: Creating sparse matrix with scipy...\n",
      "[01-07 15:56:25][DEBUG] jax_fem: Before, res l_2 = 13885.009337863241\n",
      "[01-07 15:56:25][DEBUG] jax_fem: Solving linear system...\n",
      "[01-07 15:56:25][DEBUG] jax_fem: JAX Solver - Solving linear system\n"
     ]
    },
    {
     "name": "stdout",
     "output_type": "stream",
     "text": [
      "\n",
      "Step 349, total step = 500, laser_x = 0.000474, Lx = 0.0005, laser ON = False\n"
     ]
    },
    {
     "name": "stderr",
     "output_type": "stream",
     "text": [
      "[01-07 15:56:26][DEBUG] jax_fem: JAX Solver - Finshed solving, res = 3.1825399687438743e-09\n",
      "[01-07 15:56:26][DEBUG] jax_fem: Computing cell Jacobian and cell residual...\n",
      "[01-07 15:56:26][DEBUG] jax_fem: Function split_and_compute_cell took 0.0311 seconds\n",
      "[01-07 15:56:26][DEBUG] jax_fem: Creating sparse matrix with scipy...\n",
      "[01-07 15:56:26][DEBUG] jax_fem: res l_2 = 3.1825411270512317e-09\n",
      "[01-07 15:56:26][INFO] jax_fem: Solve took 0.5735211372375488 [s]\n",
      "[01-07 15:56:26][DEBUG] jax_fem: max of dofs = 2747.669415899178\n",
      "[01-07 15:56:26][DEBUG] jax_fem: min of dofs = 300.0\n",
      "[01-07 15:56:26][DEBUG] jax_fem: Calling the row elimination solver for imposing Dirichlet B.C.\n",
      "[01-07 15:56:26][DEBUG] jax_fem: Start timing\n",
      "[01-07 15:56:26][DEBUG] jax_fem: Computing cell Jacobian and cell residual...\n",
      "[01-07 15:56:26][DEBUG] jax_fem: Function split_and_compute_cell took 0.0370 seconds\n",
      "[01-07 15:56:26][DEBUG] jax_fem: Creating sparse matrix with scipy...\n",
      "[01-07 15:56:26][DEBUG] jax_fem: Before, res l_2 = 13885.002279062257\n",
      "[01-07 15:56:26][DEBUG] jax_fem: Solving linear system...\n",
      "[01-07 15:56:26][DEBUG] jax_fem: JAX Solver - Solving linear system\n"
     ]
    },
    {
     "name": "stdout",
     "output_type": "stream",
     "text": [
      "\n",
      "Step 350, total step = 500, laser_x = 0.000475, Lx = 0.0005, laser ON = False\n"
     ]
    },
    {
     "name": "stderr",
     "output_type": "stream",
     "text": [
      "[01-07 15:56:26][DEBUG] jax_fem: JAX Solver - Finshed solving, res = 3.0615355658650723e-09\n",
      "[01-07 15:56:26][DEBUG] jax_fem: Computing cell Jacobian and cell residual...\n",
      "[01-07 15:56:26][DEBUG] jax_fem: Function split_and_compute_cell took 0.0307 seconds\n",
      "[01-07 15:56:26][DEBUG] jax_fem: Creating sparse matrix with scipy...\n",
      "[01-07 15:56:27][DEBUG] jax_fem: res l_2 = 3.061534814866159e-09\n",
      "[01-07 15:56:27][INFO] jax_fem: Solve took 0.5498509407043457 [s]\n",
      "[01-07 15:56:27][DEBUG] jax_fem: max of dofs = 2714.9010638011423\n",
      "[01-07 15:56:27][DEBUG] jax_fem: min of dofs = 300.0\n",
      "[01-07 15:56:27][DEBUG] jax_fem: Calling the row elimination solver for imposing Dirichlet B.C.\n",
      "[01-07 15:56:27][DEBUG] jax_fem: Start timing\n",
      "[01-07 15:56:27][DEBUG] jax_fem: Computing cell Jacobian and cell residual...\n",
      "[01-07 15:56:27][DEBUG] jax_fem: Function split_and_compute_cell took 0.2451 seconds\n",
      "[01-07 15:56:27][DEBUG] jax_fem: Creating sparse matrix with scipy...\n",
      "[01-07 15:56:27][DEBUG] jax_fem: Before, res l_2 = 0.3986065745068768\n",
      "[01-07 15:56:27][DEBUG] jax_fem: Solving linear system...\n",
      "[01-07 15:56:27][DEBUG] jax_fem: JAX Solver - Solving linear system\n",
      "[01-07 15:56:29][DEBUG] jax_fem: JAX Solver - Finshed solving, res = 9.524842359416528e-11\n",
      "[01-07 15:56:29][DEBUG] jax_fem: Computing cell Jacobian and cell residual...\n",
      "[01-07 15:56:29][DEBUG] jax_fem: Function split_and_compute_cell took 0.2258 seconds\n",
      "[01-07 15:56:29][DEBUG] jax_fem: Creating sparse matrix with scipy...\n",
      "[01-07 15:56:29][DEBUG] jax_fem: res l_2 = 0.021293675323605835\n",
      "[01-07 15:56:29][DEBUG] jax_fem: Solving linear system...\n",
      "[01-07 15:56:29][DEBUG] jax_fem: JAX Solver - Solving linear system\n",
      "[01-07 15:56:31][DEBUG] jax_fem: JAX Solver - Finshed solving, res = 8.891164708468134e-11\n",
      "[01-07 15:56:31][DEBUG] jax_fem: Computing cell Jacobian and cell residual...\n",
      "[01-07 15:56:31][DEBUG] jax_fem: Function split_and_compute_cell took 0.2269 seconds\n",
      "[01-07 15:56:31][DEBUG] jax_fem: Creating sparse matrix with scipy...\n",
      "[01-07 15:56:31][DEBUG] jax_fem: res l_2 = 0.003375824919047224\n",
      "[01-07 15:56:31][DEBUG] jax_fem: Solving linear system...\n",
      "[01-07 15:56:31][DEBUG] jax_fem: JAX Solver - Solving linear system\n",
      "[01-07 15:56:33][DEBUG] jax_fem: JAX Solver - Finshed solving, res = 9.930138830595598e-11\n",
      "[01-07 15:56:33][DEBUG] jax_fem: Computing cell Jacobian and cell residual...\n",
      "[01-07 15:56:33][DEBUG] jax_fem: Function split_and_compute_cell took 0.2403 seconds\n",
      "[01-07 15:56:33][DEBUG] jax_fem: Creating sparse matrix with scipy...\n",
      "[01-07 15:56:33][DEBUG] jax_fem: res l_2 = 9.648025342035455e-06\n",
      "[01-07 15:56:33][DEBUG] jax_fem: Solving linear system...\n",
      "[01-07 15:56:33][DEBUG] jax_fem: JAX Solver - Solving linear system\n",
      "[01-07 15:56:35][DEBUG] jax_fem: JAX Solver - Finshed solving, res = 8.921027549494845e-11\n",
      "[01-07 15:56:35][DEBUG] jax_fem: Computing cell Jacobian and cell residual...\n",
      "[01-07 15:56:35][DEBUG] jax_fem: Function split_and_compute_cell took 0.2898 seconds\n",
      "[01-07 15:56:35][DEBUG] jax_fem: Creating sparse matrix with scipy...\n",
      "[01-07 15:56:35][DEBUG] jax_fem: res l_2 = 1.0853394713788414e-10\n",
      "[01-07 15:56:35][INFO] jax_fem: Solve took 8.403988361358643 [s]\n",
      "[01-07 15:56:35][DEBUG] jax_fem: max of dofs = 1.7808276847480076e-06\n",
      "[01-07 15:56:35][DEBUG] jax_fem: min of dofs = -1.5026506293290536e-06\n",
      "[01-07 15:56:35][DEBUG] jax_fem: Calling the row elimination solver for imposing Dirichlet B.C.\n",
      "[01-07 15:56:35][DEBUG] jax_fem: Start timing\n",
      "[01-07 15:56:35][DEBUG] jax_fem: Computing cell Jacobian and cell residual...\n",
      "[01-07 15:56:35][DEBUG] jax_fem: Function split_and_compute_cell took 0.0361 seconds\n",
      "[01-07 15:56:35][DEBUG] jax_fem: Creating sparse matrix with scipy...\n",
      "[01-07 15:56:35][DEBUG] jax_fem: Before, res l_2 = 13884.995358430155\n",
      "[01-07 15:56:35][DEBUG] jax_fem: Solving linear system...\n",
      "[01-07 15:56:35][DEBUG] jax_fem: JAX Solver - Solving linear system\n"
     ]
    },
    {
     "name": "stdout",
     "output_type": "stream",
     "text": [
      "max f_plus = 268797622.344238, max stress_xx = 448593569.69442254\n",
      "\n",
      "Step 351, total step = 500, laser_x = 0.00047599999999999997, Lx = 0.0005, laser ON = False\n"
     ]
    },
    {
     "name": "stderr",
     "output_type": "stream",
     "text": [
      "[01-07 15:56:36][DEBUG] jax_fem: JAX Solver - Finshed solving, res = 2.9460057149111698e-09\n",
      "[01-07 15:56:36][DEBUG] jax_fem: Computing cell Jacobian and cell residual...\n",
      "[01-07 15:56:36][DEBUG] jax_fem: Function split_and_compute_cell took 0.0387 seconds\n",
      "[01-07 15:56:36][DEBUG] jax_fem: Creating sparse matrix with scipy...\n",
      "[01-07 15:56:36][DEBUG] jax_fem: res l_2 = 2.9460074479838443e-09\n",
      "[01-07 15:56:36][INFO] jax_fem: Solve took 0.6356775760650635 [s]\n",
      "[01-07 15:56:36][DEBUG] jax_fem: max of dofs = 2682.618778902506\n",
      "[01-07 15:56:36][DEBUG] jax_fem: min of dofs = 300.0\n",
      "[01-07 15:56:36][DEBUG] jax_fem: Calling the row elimination solver for imposing Dirichlet B.C.\n",
      "[01-07 15:56:36][DEBUG] jax_fem: Start timing\n",
      "[01-07 15:56:36][DEBUG] jax_fem: Computing cell Jacobian and cell residual...\n",
      "[01-07 15:56:36][DEBUG] jax_fem: Function split_and_compute_cell took 0.0309 seconds\n",
      "[01-07 15:56:36][DEBUG] jax_fem: Creating sparse matrix with scipy...\n",
      "[01-07 15:56:36][DEBUG] jax_fem: Before, res l_2 = 13884.988572876131\n",
      "[01-07 15:56:36][DEBUG] jax_fem: Solving linear system...\n",
      "[01-07 15:56:36][DEBUG] jax_fem: JAX Solver - Solving linear system\n"
     ]
    },
    {
     "name": "stdout",
     "output_type": "stream",
     "text": [
      "\n",
      "Step 352, total step = 500, laser_x = 0.000477, Lx = 0.0005, laser ON = False\n"
     ]
    },
    {
     "name": "stderr",
     "output_type": "stream",
     "text": [
      "[01-07 15:56:36][DEBUG] jax_fem: JAX Solver - Finshed solving, res = 2.8357329810907883e-09\n",
      "[01-07 15:56:36][DEBUG] jax_fem: Computing cell Jacobian and cell residual...\n",
      "[01-07 15:56:36][DEBUG] jax_fem: Function split_and_compute_cell took 0.0308 seconds\n",
      "[01-07 15:56:36][DEBUG] jax_fem: Creating sparse matrix with scipy...\n",
      "[01-07 15:56:36][DEBUG] jax_fem: res l_2 = 2.8357332191679746e-09\n",
      "[01-07 15:56:36][INFO] jax_fem: Solve took 0.5722036361694336 [s]\n",
      "[01-07 15:56:36][DEBUG] jax_fem: max of dofs = 2650.8143945943107\n",
      "[01-07 15:56:36][DEBUG] jax_fem: min of dofs = 300.0\n",
      "[01-07 15:56:36][DEBUG] jax_fem: Calling the row elimination solver for imposing Dirichlet B.C.\n",
      "[01-07 15:56:36][DEBUG] jax_fem: Start timing\n",
      "[01-07 15:56:36][DEBUG] jax_fem: Computing cell Jacobian and cell residual...\n",
      "[01-07 15:56:36][DEBUG] jax_fem: Function split_and_compute_cell took 0.0323 seconds\n",
      "[01-07 15:56:36][DEBUG] jax_fem: Creating sparse matrix with scipy...\n",
      "[01-07 15:56:36][DEBUG] jax_fem: Before, res l_2 = 13884.981919387094\n",
      "[01-07 15:56:36][DEBUG] jax_fem: Solving linear system...\n",
      "[01-07 15:56:37][DEBUG] jax_fem: JAX Solver - Solving linear system\n"
     ]
    },
    {
     "name": "stdout",
     "output_type": "stream",
     "text": [
      "\n",
      "Step 353, total step = 500, laser_x = 0.00047799999999999996, Lx = 0.0005, laser ON = False\n"
     ]
    },
    {
     "name": "stderr",
     "output_type": "stream",
     "text": [
      "[01-07 15:56:37][DEBUG] jax_fem: JAX Solver - Finshed solving, res = 2.7305050802646733e-09\n",
      "[01-07 15:56:37][DEBUG] jax_fem: Computing cell Jacobian and cell residual...\n",
      "[01-07 15:56:37][DEBUG] jax_fem: Function split_and_compute_cell took 0.0320 seconds\n",
      "[01-07 15:56:37][DEBUG] jax_fem: Creating sparse matrix with scipy...\n",
      "[01-07 15:56:37][DEBUG] jax_fem: res l_2 = 2.7305056377272505e-09\n",
      "[01-07 15:56:37][INFO] jax_fem: Solve took 0.546248197555542 [s]\n",
      "[01-07 15:56:37][DEBUG] jax_fem: max of dofs = 2619.479905404325\n",
      "[01-07 15:56:37][DEBUG] jax_fem: min of dofs = 300.0\n",
      "[01-07 15:56:37][DEBUG] jax_fem: Calling the row elimination solver for imposing Dirichlet B.C.\n",
      "[01-07 15:56:37][DEBUG] jax_fem: Start timing\n",
      "[01-07 15:56:37][DEBUG] jax_fem: Computing cell Jacobian and cell residual...\n",
      "[01-07 15:56:37][DEBUG] jax_fem: Function split_and_compute_cell took 0.0252 seconds\n",
      "[01-07 15:56:37][DEBUG] jax_fem: Creating sparse matrix with scipy...\n",
      "[01-07 15:56:37][DEBUG] jax_fem: Before, res l_2 = 13884.975395025467\n",
      "[01-07 15:56:37][DEBUG] jax_fem: Solving linear system...\n",
      "[01-07 15:56:37][DEBUG] jax_fem: JAX Solver - Solving linear system\n"
     ]
    },
    {
     "name": "stdout",
     "output_type": "stream",
     "text": [
      "\n",
      "Step 354, total step = 500, laser_x = 0.000479, Lx = 0.0005, laser ON = False\n"
     ]
    },
    {
     "name": "stderr",
     "output_type": "stream",
     "text": [
      "[01-07 15:56:37][DEBUG] jax_fem: JAX Solver - Finshed solving, res = 2.630123915366247e-09\n",
      "[01-07 15:56:37][DEBUG] jax_fem: Computing cell Jacobian and cell residual...\n",
      "[01-07 15:56:37][DEBUG] jax_fem: Function split_and_compute_cell took 0.0471 seconds\n",
      "[01-07 15:56:38][DEBUG] jax_fem: Creating sparse matrix with scipy...\n",
      "[01-07 15:56:38][DEBUG] jax_fem: res l_2 = 2.630124554754058e-09\n",
      "[01-07 15:56:38][INFO] jax_fem: Solve took 0.5920405387878418 [s]\n",
      "[01-07 15:56:38][DEBUG] jax_fem: max of dofs = 2588.607462964243\n",
      "[01-07 15:56:38][DEBUG] jax_fem: min of dofs = 300.0\n",
      "[01-07 15:56:38][DEBUG] jax_fem: Calling the row elimination solver for imposing Dirichlet B.C.\n",
      "[01-07 15:56:38][DEBUG] jax_fem: Start timing\n",
      "[01-07 15:56:38][DEBUG] jax_fem: Computing cell Jacobian and cell residual...\n",
      "[01-07 15:56:38][DEBUG] jax_fem: Function split_and_compute_cell took 0.0305 seconds\n",
      "[01-07 15:56:38][DEBUG] jax_fem: Creating sparse matrix with scipy...\n",
      "[01-07 15:56:38][DEBUG] jax_fem: Before, res l_2 = 13884.96899692708\n",
      "[01-07 15:56:38][DEBUG] jax_fem: Solving linear system...\n",
      "[01-07 15:56:38][DEBUG] jax_fem: JAX Solver - Solving linear system\n"
     ]
    },
    {
     "name": "stdout",
     "output_type": "stream",
     "text": [
      "\n",
      "Step 355, total step = 500, laser_x = 0.00048, Lx = 0.0005, laser ON = False\n"
     ]
    },
    {
     "name": "stderr",
     "output_type": "stream",
     "text": [
      "[01-07 15:56:38][DEBUG] jax_fem: JAX Solver - Finshed solving, res = 2.534390342477721e-09\n",
      "[01-07 15:56:38][DEBUG] jax_fem: Computing cell Jacobian and cell residual...\n",
      "[01-07 15:56:38][DEBUG] jax_fem: Function split_and_compute_cell took 0.0495 seconds\n",
      "[01-07 15:56:38][DEBUG] jax_fem: Creating sparse matrix with scipy...\n",
      "[01-07 15:56:38][DEBUG] jax_fem: res l_2 = 2.53439063275846e-09\n",
      "[01-07 15:56:38][INFO] jax_fem: Solve took 0.6507103443145752 [s]\n",
      "[01-07 15:56:38][DEBUG] jax_fem: max of dofs = 2558.1893721233246\n",
      "[01-07 15:56:38][DEBUG] jax_fem: min of dofs = 300.0\n",
      "[01-07 15:56:38][DEBUG] jax_fem: Calling the row elimination solver for imposing Dirichlet B.C.\n",
      "[01-07 15:56:38][DEBUG] jax_fem: Start timing\n",
      "[01-07 15:56:38][DEBUG] jax_fem: Computing cell Jacobian and cell residual...\n",
      "[01-07 15:56:38][DEBUG] jax_fem: Function split_and_compute_cell took 0.0404 seconds\n",
      "[01-07 15:56:38][DEBUG] jax_fem: Creating sparse matrix with scipy...\n",
      "[01-07 15:56:38][DEBUG] jax_fem: Before, res l_2 = 13884.962722299102\n",
      "[01-07 15:56:38][DEBUG] jax_fem: Solving linear system...\n",
      "[01-07 15:56:38][DEBUG] jax_fem: JAX Solver - Solving linear system\n"
     ]
    },
    {
     "name": "stdout",
     "output_type": "stream",
     "text": [
      "\n",
      "Step 356, total step = 500, laser_x = 0.000481, Lx = 0.0005, laser ON = False\n"
     ]
    },
    {
     "name": "stderr",
     "output_type": "stream",
     "text": [
      "[01-07 15:56:39][DEBUG] jax_fem: JAX Solver - Finshed solving, res = 2.4431172430546294e-09\n",
      "[01-07 15:56:39][DEBUG] jax_fem: Computing cell Jacobian and cell residual...\n",
      "[01-07 15:56:39][DEBUG] jax_fem: Function split_and_compute_cell took 0.0497 seconds\n",
      "[01-07 15:56:39][DEBUG] jax_fem: Creating sparse matrix with scipy...\n",
      "[01-07 15:56:39][DEBUG] jax_fem: res l_2 = 2.4431164016849767e-09\n",
      "[01-07 15:56:39][INFO] jax_fem: Solve took 0.590904712677002 [s]\n",
      "[01-07 15:56:39][DEBUG] jax_fem: max of dofs = 2528.2180872002077\n",
      "[01-07 15:56:39][DEBUG] jax_fem: min of dofs = 300.0\n",
      "[01-07 15:56:39][DEBUG] jax_fem: Calling the row elimination solver for imposing Dirichlet B.C.\n",
      "[01-07 15:56:39][DEBUG] jax_fem: Start timing\n",
      "[01-07 15:56:39][DEBUG] jax_fem: Computing cell Jacobian and cell residual...\n",
      "[01-07 15:56:39][DEBUG] jax_fem: Function split_and_compute_cell took 0.0322 seconds\n",
      "[01-07 15:56:39][DEBUG] jax_fem: Creating sparse matrix with scipy...\n",
      "[01-07 15:56:39][DEBUG] jax_fem: Before, res l_2 = 13884.956568418062\n",
      "[01-07 15:56:39][DEBUG] jax_fem: Solving linear system...\n",
      "[01-07 15:56:39][DEBUG] jax_fem: JAX Solver - Solving linear system\n"
     ]
    },
    {
     "name": "stdout",
     "output_type": "stream",
     "text": [
      "\n",
      "Step 357, total step = 500, laser_x = 0.000482, Lx = 0.0005, laser ON = False\n"
     ]
    },
    {
     "name": "stderr",
     "output_type": "stream",
     "text": [
      "[01-07 15:56:40][DEBUG] jax_fem: JAX Solver - Finshed solving, res = 2.3561199235036273e-09\n",
      "[01-07 15:56:40][DEBUG] jax_fem: Computing cell Jacobian and cell residual...\n",
      "[01-07 15:56:40][DEBUG] jax_fem: Function split_and_compute_cell took 0.0606 seconds\n",
      "[01-07 15:56:40][DEBUG] jax_fem: Creating sparse matrix with scipy...\n",
      "[01-07 15:56:40][DEBUG] jax_fem: res l_2 = 2.3561205068089596e-09\n",
      "[01-07 15:56:40][INFO] jax_fem: Solve took 1.1451261043548584 [s]\n",
      "[01-07 15:56:40][DEBUG] jax_fem: max of dofs = 2498.686208365339\n",
      "[01-07 15:56:40][DEBUG] jax_fem: min of dofs = 300.0\n",
      "[01-07 15:56:40][DEBUG] jax_fem: Calling the row elimination solver for imposing Dirichlet B.C.\n",
      "[01-07 15:56:40][DEBUG] jax_fem: Start timing\n",
      "[01-07 15:56:40][DEBUG] jax_fem: Computing cell Jacobian and cell residual...\n",
      "[01-07 15:56:40][DEBUG] jax_fem: Function split_and_compute_cell took 0.0262 seconds\n",
      "[01-07 15:56:40][DEBUG] jax_fem: Creating sparse matrix with scipy...\n",
      "[01-07 15:56:40][DEBUG] jax_fem: Before, res l_2 = 13884.95053262791\n",
      "[01-07 15:56:40][DEBUG] jax_fem: Solving linear system...\n",
      "[01-07 15:56:40][DEBUG] jax_fem: JAX Solver - Solving linear system\n"
     ]
    },
    {
     "name": "stdout",
     "output_type": "stream",
     "text": [
      "\n",
      "Step 358, total step = 500, laser_x = 0.000483, Lx = 0.0005, laser ON = False\n"
     ]
    },
    {
     "name": "stderr",
     "output_type": "stream",
     "text": [
      "[01-07 15:56:40][DEBUG] jax_fem: JAX Solver - Finshed solving, res = 2.2732304906309994e-09\n",
      "[01-07 15:56:40][DEBUG] jax_fem: Computing cell Jacobian and cell residual...\n",
      "[01-07 15:56:41][DEBUG] jax_fem: Function split_and_compute_cell took 0.0400 seconds\n",
      "[01-07 15:56:41][DEBUG] jax_fem: Creating sparse matrix with scipy...\n",
      "[01-07 15:56:41][DEBUG] jax_fem: res l_2 = 2.2732299466762497e-09\n",
      "[01-07 15:56:41][INFO] jax_fem: Solve took 0.6079990863800049 [s]\n",
      "[01-07 15:56:41][DEBUG] jax_fem: max of dofs = 2469.586478146902\n",
      "[01-07 15:56:41][DEBUG] jax_fem: min of dofs = 300.0\n",
      "[01-07 15:56:41][DEBUG] jax_fem: Calling the row elimination solver for imposing Dirichlet B.C.\n",
      "[01-07 15:56:41][DEBUG] jax_fem: Start timing\n",
      "[01-07 15:56:41][DEBUG] jax_fem: Computing cell Jacobian and cell residual...\n",
      "[01-07 15:56:41][DEBUG] jax_fem: Function split_and_compute_cell took 0.0395 seconds\n",
      "[01-07 15:56:41][DEBUG] jax_fem: Creating sparse matrix with scipy...\n",
      "[01-07 15:56:41][DEBUG] jax_fem: Before, res l_2 = 13884.94461233817\n",
      "[01-07 15:56:41][DEBUG] jax_fem: Solving linear system...\n",
      "[01-07 15:56:41][DEBUG] jax_fem: JAX Solver - Solving linear system\n"
     ]
    },
    {
     "name": "stdout",
     "output_type": "stream",
     "text": [
      "\n",
      "Step 359, total step = 500, laser_x = 0.000484, Lx = 0.0005, laser ON = False\n"
     ]
    },
    {
     "name": "stderr",
     "output_type": "stream",
     "text": [
      "[01-07 15:56:41][DEBUG] jax_fem: JAX Solver - Finshed solving, res = 2.194277406947797e-09\n",
      "[01-07 15:56:41][DEBUG] jax_fem: Computing cell Jacobian and cell residual...\n",
      "[01-07 15:56:41][DEBUG] jax_fem: Function split_and_compute_cell took 0.0311 seconds\n",
      "[01-07 15:56:41][DEBUG] jax_fem: Creating sparse matrix with scipy...\n",
      "[01-07 15:56:41][DEBUG] jax_fem: res l_2 = 2.1942784883637467e-09\n",
      "[01-07 15:56:41][INFO] jax_fem: Solve took 0.5771098136901855 [s]\n",
      "[01-07 15:56:41][DEBUG] jax_fem: max of dofs = 2440.9117780537836\n",
      "[01-07 15:56:41][DEBUG] jax_fem: min of dofs = 300.0\n",
      "[01-07 15:56:41][DEBUG] jax_fem: Calling the row elimination solver for imposing Dirichlet B.C.\n",
      "[01-07 15:56:41][DEBUG] jax_fem: Start timing\n",
      "[01-07 15:56:41][DEBUG] jax_fem: Computing cell Jacobian and cell residual...\n",
      "[01-07 15:56:41][DEBUG] jax_fem: Function split_and_compute_cell took 0.0253 seconds\n",
      "[01-07 15:56:41][DEBUG] jax_fem: Creating sparse matrix with scipy...\n",
      "[01-07 15:56:41][DEBUG] jax_fem: Before, res l_2 = 13884.938805022099\n",
      "[01-07 15:56:41][DEBUG] jax_fem: Solving linear system...\n",
      "[01-07 15:56:41][DEBUG] jax_fem: JAX Solver - Solving linear system\n"
     ]
    },
    {
     "name": "stdout",
     "output_type": "stream",
     "text": [
      "\n",
      "Step 360, total step = 500, laser_x = 0.00048499999999999997, Lx = 0.0005, laser ON = False\n"
     ]
    },
    {
     "name": "stderr",
     "output_type": "stream",
     "text": [
      "[01-07 15:56:42][DEBUG] jax_fem: JAX Solver - Finshed solving, res = 2.119098165692662e-09\n",
      "[01-07 15:56:42][DEBUG] jax_fem: Computing cell Jacobian and cell residual...\n",
      "[01-07 15:56:42][DEBUG] jax_fem: Function split_and_compute_cell took 0.0396 seconds\n",
      "[01-07 15:56:42][DEBUG] jax_fem: Creating sparse matrix with scipy...\n",
      "[01-07 15:56:42][DEBUG] jax_fem: res l_2 = 2.119098950098269e-09\n",
      "[01-07 15:56:42][INFO] jax_fem: Solve took 0.574937105178833 [s]\n",
      "[01-07 15:56:42][DEBUG] jax_fem: max of dofs = 2412.655125309516\n",
      "[01-07 15:56:42][DEBUG] jax_fem: min of dofs = 300.0\n",
      "[01-07 15:56:42][DEBUG] jax_fem: Calling the row elimination solver for imposing Dirichlet B.C.\n",
      "[01-07 15:56:42][DEBUG] jax_fem: Start timing\n",
      "[01-07 15:56:42][DEBUG] jax_fem: Computing cell Jacobian and cell residual...\n",
      "[01-07 15:56:42][DEBUG] jax_fem: Function split_and_compute_cell took 0.2449 seconds\n",
      "[01-07 15:56:42][DEBUG] jax_fem: Creating sparse matrix with scipy...\n",
      "[01-07 15:56:43][DEBUG] jax_fem: Before, res l_2 = 0.4057276437144373\n",
      "[01-07 15:56:43][DEBUG] jax_fem: Solving linear system...\n",
      "[01-07 15:56:43][DEBUG] jax_fem: JAX Solver - Solving linear system\n",
      "[01-07 15:56:44][DEBUG] jax_fem: JAX Solver - Finshed solving, res = 1.772911055450696e-11\n",
      "[01-07 15:56:44][DEBUG] jax_fem: Computing cell Jacobian and cell residual...\n",
      "[01-07 15:56:44][DEBUG] jax_fem: Function split_and_compute_cell took 0.2198 seconds\n",
      "[01-07 15:56:44][DEBUG] jax_fem: Creating sparse matrix with scipy...\n",
      "[01-07 15:56:45][DEBUG] jax_fem: res l_2 = 0.022613210412121776\n",
      "[01-07 15:56:45][DEBUG] jax_fem: Solving linear system...\n",
      "[01-07 15:56:45][DEBUG] jax_fem: JAX Solver - Solving linear system\n",
      "[01-07 15:56:46][DEBUG] jax_fem: JAX Solver - Finshed solving, res = 9.806489701392163e-11\n",
      "[01-07 15:56:46][DEBUG] jax_fem: Computing cell Jacobian and cell residual...\n",
      "[01-07 15:56:47][DEBUG] jax_fem: Function split_and_compute_cell took 0.2528 seconds\n",
      "[01-07 15:56:47][DEBUG] jax_fem: Creating sparse matrix with scipy...\n",
      "[01-07 15:56:47][DEBUG] jax_fem: res l_2 = 0.0037596441760644897\n",
      "[01-07 15:56:47][DEBUG] jax_fem: Solving linear system...\n",
      "[01-07 15:56:47][DEBUG] jax_fem: JAX Solver - Solving linear system\n",
      "[01-07 15:56:48][DEBUG] jax_fem: JAX Solver - Finshed solving, res = 9.856288106854282e-11\n",
      "[01-07 15:56:48][DEBUG] jax_fem: Computing cell Jacobian and cell residual...\n",
      "[01-07 15:56:49][DEBUG] jax_fem: Function split_and_compute_cell took 0.2511 seconds\n",
      "[01-07 15:56:49][DEBUG] jax_fem: Creating sparse matrix with scipy...\n",
      "[01-07 15:56:49][DEBUG] jax_fem: res l_2 = 2.772788005965599e-05\n",
      "[01-07 15:56:49][DEBUG] jax_fem: Solving linear system...\n",
      "[01-07 15:56:49][DEBUG] jax_fem: JAX Solver - Solving linear system\n",
      "[01-07 15:56:50][DEBUG] jax_fem: JAX Solver - Finshed solving, res = 8.256006701755658e-11\n",
      "[01-07 15:56:50][DEBUG] jax_fem: Computing cell Jacobian and cell residual...\n",
      "[01-07 15:56:50][DEBUG] jax_fem: Function split_and_compute_cell took 0.2336 seconds\n",
      "[01-07 15:56:50][DEBUG] jax_fem: Creating sparse matrix with scipy...\n",
      "[01-07 15:56:50][DEBUG] jax_fem: res l_2 = 5.245602259273875e-10\n",
      "[01-07 15:56:50][INFO] jax_fem: Solve took 8.457857131958008 [s]\n",
      "[01-07 15:56:50][DEBUG] jax_fem: max of dofs = 1.8338038193799069e-06\n",
      "[01-07 15:56:50][DEBUG] jax_fem: min of dofs = -1.5577361665837614e-06\n",
      "[01-07 15:56:51][DEBUG] jax_fem: Calling the row elimination solver for imposing Dirichlet B.C.\n",
      "[01-07 15:56:51][DEBUG] jax_fem: Start timing\n",
      "[01-07 15:56:51][DEBUG] jax_fem: Computing cell Jacobian and cell residual...\n",
      "[01-07 15:56:51][DEBUG] jax_fem: Function split_and_compute_cell took 0.0297 seconds\n",
      "[01-07 15:56:51][DEBUG] jax_fem: Creating sparse matrix with scipy...\n",
      "[01-07 15:56:51][DEBUG] jax_fem: Before, res l_2 = 13884.933108214973\n",
      "[01-07 15:56:51][DEBUG] jax_fem: Solving linear system...\n",
      "[01-07 15:56:51][DEBUG] jax_fem: JAX Solver - Solving linear system\n"
     ]
    },
    {
     "name": "stdout",
     "output_type": "stream",
     "text": [
      "max f_plus = 308570801.2316892, max stress_xx = 461596875.30761856\n",
      "\n",
      "Step 361, total step = 500, laser_x = 0.000486, Lx = 0.0005, laser ON = False\n"
     ]
    },
    {
     "name": "stderr",
     "output_type": "stream",
     "text": [
      "[01-07 15:56:51][DEBUG] jax_fem: JAX Solver - Finshed solving, res = 2.0475395102425916e-09\n",
      "[01-07 15:56:51][DEBUG] jax_fem: Computing cell Jacobian and cell residual...\n",
      "[01-07 15:56:51][DEBUG] jax_fem: Function split_and_compute_cell took 0.0358 seconds\n",
      "[01-07 15:56:51][DEBUG] jax_fem: Creating sparse matrix with scipy...\n",
      "[01-07 15:56:51][DEBUG] jax_fem: res l_2 = 2.047539696892944e-09\n",
      "[01-07 15:56:51][INFO] jax_fem: Solve took 0.5500948429107666 [s]\n",
      "[01-07 15:56:51][DEBUG] jax_fem: max of dofs = 2384.8096696915773\n",
      "[01-07 15:56:51][DEBUG] jax_fem: min of dofs = 300.0\n",
      "[01-07 15:56:51][DEBUG] jax_fem: Calling the row elimination solver for imposing Dirichlet B.C.\n",
      "[01-07 15:56:51][DEBUG] jax_fem: Start timing\n",
      "[01-07 15:56:51][DEBUG] jax_fem: Computing cell Jacobian and cell residual...\n",
      "[01-07 15:56:51][DEBUG] jax_fem: Function split_and_compute_cell took 0.0270 seconds\n",
      "[01-07 15:56:51][DEBUG] jax_fem: Creating sparse matrix with scipy...\n",
      "[01-07 15:56:51][DEBUG] jax_fem: Before, res l_2 = 13884.927519512354\n",
      "[01-07 15:56:51][DEBUG] jax_fem: Solving linear system...\n",
      "[01-07 15:56:51][DEBUG] jax_fem: JAX Solver - Solving linear system\n"
     ]
    },
    {
     "name": "stdout",
     "output_type": "stream",
     "text": [
      "\n",
      "Step 362, total step = 500, laser_x = 0.00048699999999999997, Lx = 0.0005, laser ON = False\n"
     ]
    },
    {
     "name": "stderr",
     "output_type": "stream",
     "text": [
      "[01-07 15:56:52][DEBUG] jax_fem: JAX Solver - Finshed solving, res = 1.9794507080689563e-09\n",
      "[01-07 15:56:52][DEBUG] jax_fem: Computing cell Jacobian and cell residual...\n",
      "[01-07 15:56:52][DEBUG] jax_fem: Function split_and_compute_cell took 0.0381 seconds\n",
      "[01-07 15:56:52][DEBUG] jax_fem: Creating sparse matrix with scipy...\n",
      "[01-07 15:56:52][DEBUG] jax_fem: res l_2 = 1.979451454048258e-09\n",
      "[01-07 15:56:52][INFO] jax_fem: Solve took 0.7006320953369141 [s]\n",
      "[01-07 15:56:52][DEBUG] jax_fem: max of dofs = 2357.3686904709602\n",
      "[01-07 15:56:52][DEBUG] jax_fem: min of dofs = 300.0\n",
      "[01-07 15:56:52][DEBUG] jax_fem: Calling the row elimination solver for imposing Dirichlet B.C.\n",
      "[01-07 15:56:52][DEBUG] jax_fem: Start timing\n",
      "[01-07 15:56:52][DEBUG] jax_fem: Computing cell Jacobian and cell residual...\n",
      "[01-07 15:56:52][DEBUG] jax_fem: Function split_and_compute_cell took 0.0301 seconds\n",
      "[01-07 15:56:52][DEBUG] jax_fem: Creating sparse matrix with scipy...\n",
      "[01-07 15:56:52][DEBUG] jax_fem: Before, res l_2 = 13884.922036568467\n",
      "[01-07 15:56:52][DEBUG] jax_fem: Solving linear system...\n",
      "[01-07 15:56:52][DEBUG] jax_fem: JAX Solver - Solving linear system\n"
     ]
    },
    {
     "name": "stdout",
     "output_type": "stream",
     "text": [
      "\n",
      "Step 363, total step = 500, laser_x = 0.000488, Lx = 0.0005, laser ON = False\n"
     ]
    },
    {
     "name": "stderr",
     "output_type": "stream",
     "text": [
      "[01-07 15:56:52][DEBUG] jax_fem: JAX Solver - Finshed solving, res = 1.9146875840377627e-09\n",
      "[01-07 15:56:52][DEBUG] jax_fem: Computing cell Jacobian and cell residual...\n",
      "[01-07 15:56:52][DEBUG] jax_fem: Function split_and_compute_cell took 0.0261 seconds\n",
      "[01-07 15:56:52][DEBUG] jax_fem: Creating sparse matrix with scipy...\n",
      "[01-07 15:56:52][DEBUG] jax_fem: res l_2 = 1.914688392248386e-09\n",
      "[01-07 15:56:52][INFO] jax_fem: Solve took 0.49809932708740234 [s]\n",
      "[01-07 15:56:52][DEBUG] jax_fem: max of dofs = 2330.3255934469994\n",
      "[01-07 15:56:52][DEBUG] jax_fem: min of dofs = 300.0\n",
      "[01-07 15:56:52][DEBUG] jax_fem: Calling the row elimination solver for imposing Dirichlet B.C.\n",
      "[01-07 15:56:52][DEBUG] jax_fem: Start timing\n",
      "[01-07 15:56:52][DEBUG] jax_fem: Computing cell Jacobian and cell residual...\n",
      "[01-07 15:56:52][DEBUG] jax_fem: Function split_and_compute_cell took 0.0243 seconds\n",
      "[01-07 15:56:52][DEBUG] jax_fem: Creating sparse matrix with scipy...\n",
      "[01-07 15:56:52][DEBUG] jax_fem: Before, res l_2 = 13884.916657094598\n",
      "[01-07 15:56:52][DEBUG] jax_fem: Solving linear system...\n",
      "[01-07 15:56:52][DEBUG] jax_fem: JAX Solver - Solving linear system\n"
     ]
    },
    {
     "name": "stdout",
     "output_type": "stream",
     "text": [
      "\n",
      "Step 364, total step = 500, laser_x = 0.000489, Lx = 0.0005, laser ON = False\n"
     ]
    },
    {
     "name": "stderr",
     "output_type": "stream",
     "text": [
      "[01-07 15:56:53][DEBUG] jax_fem: JAX Solver - Finshed solving, res = 1.8531149069536501e-09\n",
      "[01-07 15:56:53][DEBUG] jax_fem: Computing cell Jacobian and cell residual...\n",
      "[01-07 15:56:53][DEBUG] jax_fem: Function split_and_compute_cell took 0.0364 seconds\n",
      "[01-07 15:56:53][DEBUG] jax_fem: Creating sparse matrix with scipy...\n",
      "[01-07 15:56:53][DEBUG] jax_fem: res l_2 = 1.8531145277545096e-09\n",
      "[01-07 15:56:53][INFO] jax_fem: Solve took 0.5397019386291504 [s]\n",
      "[01-07 15:56:53][DEBUG] jax_fem: max of dofs = 2303.6739080731254\n",
      "[01-07 15:56:53][DEBUG] jax_fem: min of dofs = 300.0\n",
      "[01-07 15:56:53][DEBUG] jax_fem: Calling the row elimination solver for imposing Dirichlet B.C.\n",
      "[01-07 15:56:53][DEBUG] jax_fem: Start timing\n",
      "[01-07 15:56:53][DEBUG] jax_fem: Computing cell Jacobian and cell residual...\n",
      "[01-07 15:56:53][DEBUG] jax_fem: Function split_and_compute_cell took 0.0277 seconds\n",
      "[01-07 15:56:53][DEBUG] jax_fem: Creating sparse matrix with scipy...\n",
      "[01-07 15:56:53][DEBUG] jax_fem: Before, res l_2 = 13884.911378857541\n",
      "[01-07 15:56:53][DEBUG] jax_fem: Solving linear system...\n",
      "[01-07 15:56:53][DEBUG] jax_fem: JAX Solver - Solving linear system\n"
     ]
    },
    {
     "name": "stdout",
     "output_type": "stream",
     "text": [
      "\n",
      "Step 365, total step = 500, laser_x = 0.00049, Lx = 0.0005, laser ON = False\n"
     ]
    },
    {
     "name": "stderr",
     "output_type": "stream",
     "text": [
      "[01-07 15:56:53][DEBUG] jax_fem: JAX Solver - Finshed solving, res = 1.7945950843412e-09\n",
      "[01-07 15:56:53][DEBUG] jax_fem: Computing cell Jacobian and cell residual...\n",
      "[01-07 15:56:53][DEBUG] jax_fem: Function split_and_compute_cell took 0.0488 seconds\n",
      "[01-07 15:56:53][DEBUG] jax_fem: Creating sparse matrix with scipy...\n",
      "[01-07 15:56:53][DEBUG] jax_fem: res l_2 = 1.7945939841662941e-09\n",
      "[01-07 15:56:53][INFO] jax_fem: Solve took 0.5846431255340576 [s]\n",
      "[01-07 15:56:53][DEBUG] jax_fem: max of dofs = 2277.407284669292\n",
      "[01-07 15:56:53][DEBUG] jax_fem: min of dofs = 300.0\n",
      "[01-07 15:56:53][DEBUG] jax_fem: Calling the row elimination solver for imposing Dirichlet B.C.\n",
      "[01-07 15:56:53][DEBUG] jax_fem: Start timing\n",
      "[01-07 15:56:53][DEBUG] jax_fem: Computing cell Jacobian and cell residual...\n",
      "[01-07 15:56:54][DEBUG] jax_fem: Function split_and_compute_cell took 0.0276 seconds\n",
      "[01-07 15:56:54][DEBUG] jax_fem: Creating sparse matrix with scipy...\n",
      "[01-07 15:56:54][DEBUG] jax_fem: Before, res l_2 = 13884.906199678106\n",
      "[01-07 15:56:54][DEBUG] jax_fem: Solving linear system...\n",
      "[01-07 15:56:54][DEBUG] jax_fem: JAX Solver - Solving linear system\n"
     ]
    },
    {
     "name": "stdout",
     "output_type": "stream",
     "text": [
      "\n",
      "Step 366, total step = 500, laser_x = 0.000491, Lx = 0.0005, laser ON = False\n"
     ]
    },
    {
     "name": "stderr",
     "output_type": "stream",
     "text": [
      "[01-07 15:56:54][DEBUG] jax_fem: JAX Solver - Finshed solving, res = 1.7390038021248552e-09\n",
      "[01-07 15:56:54][DEBUG] jax_fem: Computing cell Jacobian and cell residual...\n",
      "[01-07 15:56:54][DEBUG] jax_fem: Function split_and_compute_cell took 0.0360 seconds\n",
      "[01-07 15:56:54][DEBUG] jax_fem: Creating sparse matrix with scipy...\n",
      "[01-07 15:56:54][DEBUG] jax_fem: res l_2 = 1.7390033802442557e-09\n",
      "[01-07 15:56:54][INFO] jax_fem: Solve took 0.5733566284179688 [s]\n",
      "[01-07 15:56:54][DEBUG] jax_fem: max of dofs = 2251.5194917171634\n",
      "[01-07 15:56:54][DEBUG] jax_fem: min of dofs = 300.0\n",
      "[01-07 15:56:54][DEBUG] jax_fem: Calling the row elimination solver for imposing Dirichlet B.C.\n",
      "[01-07 15:56:54][DEBUG] jax_fem: Start timing\n",
      "[01-07 15:56:54][DEBUG] jax_fem: Computing cell Jacobian and cell residual...\n",
      "[01-07 15:56:54][DEBUG] jax_fem: Function split_and_compute_cell took 0.0276 seconds\n",
      "[01-07 15:56:54][DEBUG] jax_fem: Creating sparse matrix with scipy...\n",
      "[01-07 15:56:54][DEBUG] jax_fem: Before, res l_2 = 13884.901117429657\n",
      "[01-07 15:56:54][DEBUG] jax_fem: Solving linear system...\n",
      "[01-07 15:56:54][DEBUG] jax_fem: JAX Solver - Solving linear system\n"
     ]
    },
    {
     "name": "stdout",
     "output_type": "stream",
     "text": [
      "\n",
      "Step 367, total step = 500, laser_x = 0.000492, Lx = 0.0005, laser ON = False\n"
     ]
    },
    {
     "name": "stderr",
     "output_type": "stream",
     "text": [
      "[01-07 15:56:54][DEBUG] jax_fem: JAX Solver - Finshed solving, res = 1.6862145889826837e-09\n",
      "[01-07 15:56:54][DEBUG] jax_fem: Computing cell Jacobian and cell residual...\n",
      "[01-07 15:56:55][DEBUG] jax_fem: Function split_and_compute_cell took 0.0612 seconds\n",
      "[01-07 15:56:55][DEBUG] jax_fem: Creating sparse matrix with scipy...\n",
      "[01-07 15:56:55][DEBUG] jax_fem: res l_2 = 1.6862152894841097e-09\n",
      "[01-07 15:56:55][INFO] jax_fem: Solve took 0.5650303363800049 [s]\n",
      "[01-07 15:56:55][DEBUG] jax_fem: max of dofs = 2226.0044132344465\n",
      "[01-07 15:56:55][DEBUG] jax_fem: min of dofs = 300.0\n",
      "[01-07 15:56:55][DEBUG] jax_fem: Calling the row elimination solver for imposing Dirichlet B.C.\n",
      "[01-07 15:56:55][DEBUG] jax_fem: Start timing\n",
      "[01-07 15:56:55][DEBUG] jax_fem: Computing cell Jacobian and cell residual...\n",
      "[01-07 15:56:55][DEBUG] jax_fem: Function split_and_compute_cell took 0.0306 seconds\n",
      "[01-07 15:56:55][DEBUG] jax_fem: Creating sparse matrix with scipy...\n",
      "[01-07 15:56:55][DEBUG] jax_fem: Before, res l_2 = 13884.89613003671\n",
      "[01-07 15:56:55][DEBUG] jax_fem: Solving linear system...\n",
      "[01-07 15:56:55][DEBUG] jax_fem: JAX Solver - Solving linear system\n"
     ]
    },
    {
     "name": "stdout",
     "output_type": "stream",
     "text": [
      "\n",
      "Step 368, total step = 500, laser_x = 0.000493, Lx = 0.0005, laser ON = False\n"
     ]
    },
    {
     "name": "stderr",
     "output_type": "stream",
     "text": [
      "[01-07 15:56:55][DEBUG] jax_fem: JAX Solver - Finshed solving, res = 1.6361087645054234e-09\n",
      "[01-07 15:56:55][DEBUG] jax_fem: Computing cell Jacobian and cell residual...\n",
      "[01-07 15:56:55][DEBUG] jax_fem: Function split_and_compute_cell took 0.0388 seconds\n",
      "[01-07 15:56:55][DEBUG] jax_fem: Creating sparse matrix with scipy...\n",
      "[01-07 15:56:55][DEBUG] jax_fem: res l_2 = 1.6361100228346968e-09\n",
      "[01-07 15:56:55][INFO] jax_fem: Solve took 0.5508377552032471 [s]\n",
      "[01-07 15:56:55][DEBUG] jax_fem: max of dofs = 2200.856046224923\n",
      "[01-07 15:56:55][DEBUG] jax_fem: min of dofs = 300.0\n",
      "[01-07 15:56:55][DEBUG] jax_fem: Calling the row elimination solver for imposing Dirichlet B.C.\n",
      "[01-07 15:56:55][DEBUG] jax_fem: Start timing\n",
      "[01-07 15:56:55][DEBUG] jax_fem: Computing cell Jacobian and cell residual...\n",
      "[01-07 15:56:55][DEBUG] jax_fem: Function split_and_compute_cell took 0.0332 seconds\n",
      "[01-07 15:56:55][DEBUG] jax_fem: Creating sparse matrix with scipy...\n",
      "[01-07 15:56:55][DEBUG] jax_fem: Before, res l_2 = 13884.891235473553\n",
      "[01-07 15:56:55][DEBUG] jax_fem: Solving linear system...\n",
      "[01-07 15:56:55][DEBUG] jax_fem: JAX Solver - Solving linear system\n"
     ]
    },
    {
     "name": "stdout",
     "output_type": "stream",
     "text": [
      "\n",
      "Step 369, total step = 500, laser_x = 0.000494, Lx = 0.0005, laser ON = False\n"
     ]
    },
    {
     "name": "stderr",
     "output_type": "stream",
     "text": [
      "[01-07 15:56:56][DEBUG] jax_fem: JAX Solver - Finshed solving, res = 1.5885742600154405e-09\n",
      "[01-07 15:56:56][DEBUG] jax_fem: Computing cell Jacobian and cell residual...\n",
      "[01-07 15:56:56][DEBUG] jax_fem: Function split_and_compute_cell took 0.0538 seconds\n",
      "[01-07 15:56:56][DEBUG] jax_fem: Creating sparse matrix with scipy...\n",
      "[01-07 15:56:56][DEBUG] jax_fem: res l_2 = 1.588573838197067e-09\n",
      "[01-07 15:56:56][INFO] jax_fem: Solve took 0.6406276226043701 [s]\n",
      "[01-07 15:56:56][DEBUG] jax_fem: max of dofs = 2176.0684982010075\n",
      "[01-07 15:56:56][DEBUG] jax_fem: min of dofs = 300.0\n",
      "[01-07 15:56:56][DEBUG] jax_fem: Calling the row elimination solver for imposing Dirichlet B.C.\n",
      "[01-07 15:56:56][DEBUG] jax_fem: Start timing\n",
      "[01-07 15:56:56][DEBUG] jax_fem: Computing cell Jacobian and cell residual...\n",
      "[01-07 15:56:56][DEBUG] jax_fem: Function split_and_compute_cell took 0.0281 seconds\n",
      "[01-07 15:56:56][DEBUG] jax_fem: Creating sparse matrix with scipy...\n",
      "[01-07 15:56:56][DEBUG] jax_fem: Before, res l_2 = 13884.886431762938\n",
      "[01-07 15:56:56][DEBUG] jax_fem: Solving linear system...\n",
      "[01-07 15:56:56][DEBUG] jax_fem: JAX Solver - Solving linear system\n"
     ]
    },
    {
     "name": "stdout",
     "output_type": "stream",
     "text": [
      "\n",
      "Step 370, total step = 500, laser_x = 0.000495, Lx = 0.0005, laser ON = False\n"
     ]
    },
    {
     "name": "stderr",
     "output_type": "stream",
     "text": [
      "[01-07 15:56:56][DEBUG] jax_fem: JAX Solver - Finshed solving, res = 1.5434982735459717e-09\n",
      "[01-07 15:56:56][DEBUG] jax_fem: Computing cell Jacobian and cell residual...\n",
      "[01-07 15:56:56][DEBUG] jax_fem: Function split_and_compute_cell took 0.0393 seconds\n",
      "[01-07 15:56:56][DEBUG] jax_fem: Creating sparse matrix with scipy...\n",
      "[01-07 15:56:56][DEBUG] jax_fem: res l_2 = 1.5434989472310056e-09\n",
      "[01-07 15:56:56][INFO] jax_fem: Solve took 0.6204793453216553 [s]\n",
      "[01-07 15:56:56][DEBUG] jax_fem: max of dofs = 2151.6359847758454\n",
      "[01-07 15:56:56][DEBUG] jax_fem: min of dofs = 300.0\n",
      "[01-07 15:56:57][DEBUG] jax_fem: Calling the row elimination solver for imposing Dirichlet B.C.\n",
      "[01-07 15:56:57][DEBUG] jax_fem: Start timing\n",
      "[01-07 15:56:57][DEBUG] jax_fem: Computing cell Jacobian and cell residual...\n",
      "[01-07 15:56:57][DEBUG] jax_fem: Function split_and_compute_cell took 0.2104 seconds\n",
      "[01-07 15:56:57][DEBUG] jax_fem: Creating sparse matrix with scipy...\n",
      "[01-07 15:56:57][DEBUG] jax_fem: Before, res l_2 = 0.38672533627484074\n",
      "[01-07 15:56:57][DEBUG] jax_fem: Solving linear system...\n",
      "[01-07 15:56:57][DEBUG] jax_fem: JAX Solver - Solving linear system\n",
      "[01-07 15:56:59][DEBUG] jax_fem: JAX Solver - Finshed solving, res = 6.402779997709061e-11\n",
      "[01-07 15:56:59][DEBUG] jax_fem: Computing cell Jacobian and cell residual...\n",
      "[01-07 15:56:59][DEBUG] jax_fem: Function split_and_compute_cell took 0.2458 seconds\n",
      "[01-07 15:56:59][DEBUG] jax_fem: Creating sparse matrix with scipy...\n",
      "[01-07 15:57:00][DEBUG] jax_fem: res l_2 = 0.022061898886712405\n",
      "[01-07 15:57:00][DEBUG] jax_fem: Solving linear system...\n",
      "[01-07 15:57:00][DEBUG] jax_fem: JAX Solver - Solving linear system\n",
      "[01-07 15:57:01][DEBUG] jax_fem: JAX Solver - Finshed solving, res = 8.946652146113907e-11\n",
      "[01-07 15:57:01][DEBUG] jax_fem: Computing cell Jacobian and cell residual...\n",
      "[01-07 15:57:02][DEBUG] jax_fem: Function split_and_compute_cell took 0.2478 seconds\n",
      "[01-07 15:57:02][DEBUG] jax_fem: Creating sparse matrix with scipy...\n",
      "[01-07 15:57:02][DEBUG] jax_fem: res l_2 = 0.0033779340772214484\n",
      "[01-07 15:57:02][DEBUG] jax_fem: Solving linear system...\n",
      "[01-07 15:57:02][DEBUG] jax_fem: JAX Solver - Solving linear system\n",
      "[01-07 15:57:04][DEBUG] jax_fem: JAX Solver - Finshed solving, res = 8.849479361894083e-11\n",
      "[01-07 15:57:04][DEBUG] jax_fem: Computing cell Jacobian and cell residual...\n",
      "[01-07 15:57:04][DEBUG] jax_fem: Function split_and_compute_cell took 0.2433 seconds\n",
      "[01-07 15:57:04][DEBUG] jax_fem: Creating sparse matrix with scipy...\n",
      "[01-07 15:57:04][DEBUG] jax_fem: res l_2 = 2.1941538630647346e-05\n",
      "[01-07 15:57:04][DEBUG] jax_fem: Solving linear system...\n",
      "[01-07 15:57:04][DEBUG] jax_fem: JAX Solver - Solving linear system\n",
      "[01-07 15:57:05][DEBUG] jax_fem: JAX Solver - Finshed solving, res = 7.878384065270454e-11\n",
      "[01-07 15:57:05][DEBUG] jax_fem: Computing cell Jacobian and cell residual...\n",
      "[01-07 15:57:06][DEBUG] jax_fem: Function split_and_compute_cell took 0.2868 seconds\n",
      "[01-07 15:57:06][DEBUG] jax_fem: Creating sparse matrix with scipy...\n",
      "[01-07 15:57:06][DEBUG] jax_fem: res l_2 = 4.6049700340477186e-10\n",
      "[01-07 15:57:06][INFO] jax_fem: Solve took 9.13864517211914 [s]\n",
      "[01-07 15:57:06][DEBUG] jax_fem: max of dofs = 1.8842076897067793e-06\n",
      "[01-07 15:57:06][DEBUG] jax_fem: min of dofs = -1.6083607428586613e-06\n",
      "[01-07 15:57:06][DEBUG] jax_fem: Calling the row elimination solver for imposing Dirichlet B.C.\n",
      "[01-07 15:57:06][DEBUG] jax_fem: Start timing\n",
      "[01-07 15:57:06][DEBUG] jax_fem: Computing cell Jacobian and cell residual...\n",
      "[01-07 15:57:06][DEBUG] jax_fem: Function split_and_compute_cell took 0.0337 seconds\n",
      "[01-07 15:57:06][DEBUG] jax_fem: Creating sparse matrix with scipy...\n",
      "[01-07 15:57:06][DEBUG] jax_fem: Before, res l_2 = 13884.881716974762\n",
      "[01-07 15:57:06][DEBUG] jax_fem: Solving linear system...\n",
      "[01-07 15:57:06][DEBUG] jax_fem: JAX Solver - Solving linear system\n"
     ]
    },
    {
     "name": "stdout",
     "output_type": "stream",
     "text": [
      "max f_plus = 332354399.256631, max stress_xx = 473957135.8683566\n",
      "\n",
      "Step 371, total step = 500, laser_x = 0.0004959999999999999, Lx = 0.0005, laser ON = False\n"
     ]
    },
    {
     "name": "stderr",
     "output_type": "stream",
     "text": [
      "[01-07 15:57:06][DEBUG] jax_fem: JAX Solver - Finshed solving, res = 1.5007751657928294e-09\n",
      "[01-07 15:57:06][DEBUG] jax_fem: Computing cell Jacobian and cell residual...\n",
      "[01-07 15:57:06][DEBUG] jax_fem: Function split_and_compute_cell took 0.0353 seconds\n",
      "[01-07 15:57:06][DEBUG] jax_fem: Creating sparse matrix with scipy...\n",
      "[01-07 15:57:07][DEBUG] jax_fem: res l_2 = 1.500775445097051e-09\n",
      "[01-07 15:57:07][INFO] jax_fem: Solve took 0.6241910457611084 [s]\n",
      "[01-07 15:57:07][DEBUG] jax_fem: max of dofs = 2127.5528273221285\n",
      "[01-07 15:57:07][DEBUG] jax_fem: min of dofs = 300.0\n",
      "[01-07 15:57:07][DEBUG] jax_fem: Calling the row elimination solver for imposing Dirichlet B.C.\n",
      "[01-07 15:57:07][DEBUG] jax_fem: Start timing\n",
      "[01-07 15:57:07][DEBUG] jax_fem: Computing cell Jacobian and cell residual...\n",
      "[01-07 15:57:07][DEBUG] jax_fem: Function split_and_compute_cell took 0.0293 seconds\n",
      "[01-07 15:57:07][DEBUG] jax_fem: Creating sparse matrix with scipy...\n",
      "[01-07 15:57:07][DEBUG] jax_fem: Before, res l_2 = 13884.877089224852\n",
      "[01-07 15:57:07][DEBUG] jax_fem: Solving linear system...\n",
      "[01-07 15:57:07][DEBUG] jax_fem: JAX Solver - Solving linear system\n"
     ]
    },
    {
     "name": "stdout",
     "output_type": "stream",
     "text": [
      "\n",
      "Step 372, total step = 500, laser_x = 0.000497, Lx = 0.0005, laser ON = False\n"
     ]
    },
    {
     "name": "stderr",
     "output_type": "stream",
     "text": [
      "[01-07 15:57:07][DEBUG] jax_fem: JAX Solver - Finshed solving, res = 1.460302651496264e-09\n",
      "[01-07 15:57:07][DEBUG] jax_fem: Computing cell Jacobian and cell residual...\n",
      "[01-07 15:57:07][DEBUG] jax_fem: Function split_and_compute_cell took 0.0319 seconds\n",
      "[01-07 15:57:07][DEBUG] jax_fem: Creating sparse matrix with scipy...\n",
      "[01-07 15:57:07][DEBUG] jax_fem: res l_2 = 1.4603016632126954e-09\n",
      "[01-07 15:57:07][INFO] jax_fem: Solve took 0.5551679134368896 [s]\n",
      "[01-07 15:57:07][DEBUG] jax_fem: max of dofs = 2103.8134506950096\n",
      "[01-07 15:57:07][DEBUG] jax_fem: min of dofs = 300.0\n",
      "[01-07 15:57:07][DEBUG] jax_fem: Calling the row elimination solver for imposing Dirichlet B.C.\n",
      "[01-07 15:57:07][DEBUG] jax_fem: Start timing\n",
      "[01-07 15:57:07][DEBUG] jax_fem: Computing cell Jacobian and cell residual...\n",
      "[01-07 15:57:07][DEBUG] jax_fem: Function split_and_compute_cell took 0.0466 seconds\n",
      "[01-07 15:57:07][DEBUG] jax_fem: Creating sparse matrix with scipy...\n",
      "[01-07 15:57:07][DEBUG] jax_fem: Before, res l_2 = 13884.872546673727\n",
      "[01-07 15:57:07][DEBUG] jax_fem: Solving linear system...\n",
      "[01-07 15:57:07][DEBUG] jax_fem: JAX Solver - Solving linear system\n"
     ]
    },
    {
     "name": "stdout",
     "output_type": "stream",
     "text": [
      "\n",
      "Step 373, total step = 500, laser_x = 0.000498, Lx = 0.0005, laser ON = False\n"
     ]
    },
    {
     "name": "stderr",
     "output_type": "stream",
     "text": [
      "[01-07 15:57:08][DEBUG] jax_fem: JAX Solver - Finshed solving, res = 1.4219797902021197e-09\n",
      "[01-07 15:57:08][DEBUG] jax_fem: Computing cell Jacobian and cell residual...\n",
      "[01-07 15:57:08][DEBUG] jax_fem: Function split_and_compute_cell took 0.0311 seconds\n",
      "[01-07 15:57:08][DEBUG] jax_fem: Creating sparse matrix with scipy...\n",
      "[01-07 15:57:08][DEBUG] jax_fem: res l_2 = 1.4219795295860417e-09\n",
      "[01-07 15:57:08][INFO] jax_fem: Solve took 0.6207447052001953 [s]\n",
      "[01-07 15:57:08][DEBUG] jax_fem: max of dofs = 2080.4123810165456\n",
      "[01-07 15:57:08][DEBUG] jax_fem: min of dofs = 300.0\n",
      "[01-07 15:57:08][DEBUG] jax_fem: Calling the row elimination solver for imposing Dirichlet B.C.\n",
      "[01-07 15:57:08][DEBUG] jax_fem: Start timing\n",
      "[01-07 15:57:08][DEBUG] jax_fem: Computing cell Jacobian and cell residual...\n",
      "[01-07 15:57:08][DEBUG] jax_fem: Function split_and_compute_cell took 0.0418 seconds\n",
      "[01-07 15:57:08][DEBUG] jax_fem: Creating sparse matrix with scipy...\n",
      "[01-07 15:57:08][DEBUG] jax_fem: Before, res l_2 = 13884.868087525432\n",
      "[01-07 15:57:08][DEBUG] jax_fem: Solving linear system...\n",
      "[01-07 15:57:08][DEBUG] jax_fem: JAX Solver - Solving linear system\n"
     ]
    },
    {
     "name": "stdout",
     "output_type": "stream",
     "text": [
      "\n",
      "Step 374, total step = 500, laser_x = 0.000499, Lx = 0.0005, laser ON = False\n"
     ]
    },
    {
     "name": "stderr",
     "output_type": "stream",
     "text": [
      "[01-07 15:57:08][DEBUG] jax_fem: JAX Solver - Finshed solving, res = 1.3857112082744903e-09\n",
      "[01-07 15:57:08][DEBUG] jax_fem: Computing cell Jacobian and cell residual...\n",
      "[01-07 15:57:08][DEBUG] jax_fem: Function split_and_compute_cell took 0.0366 seconds\n",
      "[01-07 15:57:08][DEBUG] jax_fem: Creating sparse matrix with scipy...\n",
      "[01-07 15:57:08][DEBUG] jax_fem: res l_2 = 1.3857099277349233e-09\n",
      "[01-07 15:57:08][INFO] jax_fem: Solve took 0.6381728649139404 [s]\n",
      "[01-07 15:57:08][DEBUG] jax_fem: max of dofs = 2057.344243519506\n",
      "[01-07 15:57:08][DEBUG] jax_fem: min of dofs = 300.0\n",
      "[01-07 15:57:08][DEBUG] jax_fem: Calling the row elimination solver for imposing Dirichlet B.C.\n",
      "[01-07 15:57:08][DEBUG] jax_fem: Start timing\n",
      "[01-07 15:57:08][DEBUG] jax_fem: Computing cell Jacobian and cell residual...\n",
      "[01-07 15:57:08][DEBUG] jax_fem: Function split_and_compute_cell took 0.0334 seconds\n",
      "[01-07 15:57:08][DEBUG] jax_fem: Creating sparse matrix with scipy...\n",
      "[01-07 15:57:08][DEBUG] jax_fem: Before, res l_2 = 13884.86371002639\n",
      "[01-07 15:57:08][DEBUG] jax_fem: Solving linear system...\n",
      "[01-07 15:57:08][DEBUG] jax_fem: JAX Solver - Solving linear system\n"
     ]
    },
    {
     "name": "stdout",
     "output_type": "stream",
     "text": [
      "\n",
      "Step 375, total step = 500, laser_x = 0.0005, Lx = 0.0005, laser ON = False\n"
     ]
    },
    {
     "name": "stderr",
     "output_type": "stream",
     "text": [
      "[01-07 15:57:09][DEBUG] jax_fem: JAX Solver - Finshed solving, res = 1.3514040993015208e-09\n",
      "[01-07 15:57:09][DEBUG] jax_fem: Computing cell Jacobian and cell residual...\n",
      "[01-07 15:57:09][DEBUG] jax_fem: Function split_and_compute_cell took 0.0380 seconds\n",
      "[01-07 15:57:09][DEBUG] jax_fem: Creating sparse matrix with scipy...\n",
      "[01-07 15:57:09][DEBUG] jax_fem: res l_2 = 1.3514042261671603e-09\n",
      "[01-07 15:57:09][INFO] jax_fem: Solve took 0.5416314601898193 [s]\n",
      "[01-07 15:57:09][DEBUG] jax_fem: max of dofs = 2034.6037604481253\n",
      "[01-07 15:57:09][DEBUG] jax_fem: min of dofs = 300.0\n",
      "[01-07 15:57:09][DEBUG] jax_fem: Calling the row elimination solver for imposing Dirichlet B.C.\n",
      "[01-07 15:57:09][DEBUG] jax_fem: Start timing\n",
      "[01-07 15:57:09][DEBUG] jax_fem: Computing cell Jacobian and cell residual...\n",
      "[01-07 15:57:09][DEBUG] jax_fem: Function split_and_compute_cell took 0.0280 seconds\n",
      "[01-07 15:57:09][DEBUG] jax_fem: Creating sparse matrix with scipy...\n",
      "[01-07 15:57:09][DEBUG] jax_fem: Before, res l_2 = 13884.8594124643\n",
      "[01-07 15:57:09][DEBUG] jax_fem: Solving linear system...\n",
      "[01-07 15:57:09][DEBUG] jax_fem: JAX Solver - Solving linear system\n"
     ]
    },
    {
     "name": "stdout",
     "output_type": "stream",
     "text": [
      "\n",
      "Step 376, total step = 500, laser_x = 0.0005009999999999999, Lx = 0.0005, laser ON = False\n"
     ]
    },
    {
     "name": "stderr",
     "output_type": "stream",
     "text": [
      "[01-07 15:57:09][DEBUG] jax_fem: JAX Solver - Finshed solving, res = 1.3189699394320747e-09\n",
      "[01-07 15:57:09][DEBUG] jax_fem: Computing cell Jacobian and cell residual...\n",
      "[01-07 15:57:09][DEBUG] jax_fem: Function split_and_compute_cell took 0.0336 seconds\n",
      "[01-07 15:57:10][DEBUG] jax_fem: Creating sparse matrix with scipy...\n",
      "[01-07 15:57:10][DEBUG] jax_fem: res l_2 = 1.3189702283231877e-09\n",
      "[01-07 15:57:10][INFO] jax_fem: Solve took 0.5958318710327148 [s]\n",
      "[01-07 15:57:10][DEBUG] jax_fem: max of dofs = 2012.426766345401\n",
      "[01-07 15:57:10][DEBUG] jax_fem: min of dofs = 300.0\n",
      "[01-07 15:57:10][DEBUG] jax_fem: Calling the row elimination solver for imposing Dirichlet B.C.\n",
      "[01-07 15:57:10][DEBUG] jax_fem: Start timing\n",
      "[01-07 15:57:10][DEBUG] jax_fem: Computing cell Jacobian and cell residual...\n",
      "[01-07 15:57:10][DEBUG] jax_fem: Function split_and_compute_cell took 0.0267 seconds\n",
      "[01-07 15:57:10][DEBUG] jax_fem: Creating sparse matrix with scipy...\n",
      "[01-07 15:57:10][DEBUG] jax_fem: Before, res l_2 = 13884.855193167054\n",
      "[01-07 15:57:10][DEBUG] jax_fem: Solving linear system...\n",
      "[01-07 15:57:10][DEBUG] jax_fem: JAX Solver - Solving linear system\n"
     ]
    },
    {
     "name": "stdout",
     "output_type": "stream",
     "text": [
      "\n",
      "Step 377, total step = 500, laser_x = 0.0005020000000000001, Lx = 0.0005, laser ON = False\n"
     ]
    },
    {
     "name": "stderr",
     "output_type": "stream",
     "text": [
      "[01-07 15:57:10][DEBUG] jax_fem: JAX Solver - Finshed solving, res = 1.2883207101944648e-09\n",
      "[01-07 15:57:10][DEBUG] jax_fem: Computing cell Jacobian and cell residual...\n",
      "[01-07 15:57:10][DEBUG] jax_fem: Function split_and_compute_cell took 0.0314 seconds\n",
      "[01-07 15:57:10][DEBUG] jax_fem: Creating sparse matrix with scipy...\n",
      "[01-07 15:57:10][DEBUG] jax_fem: res l_2 = 1.2883208120130117e-09\n",
      "[01-07 15:57:10][INFO] jax_fem: Solve took 0.5567829608917236 [s]\n",
      "[01-07 15:57:10][DEBUG] jax_fem: max of dofs = 1990.6688302545635\n",
      "[01-07 15:57:10][DEBUG] jax_fem: min of dofs = 300.0\n",
      "[01-07 15:57:10][DEBUG] jax_fem: Calling the row elimination solver for imposing Dirichlet B.C.\n",
      "[01-07 15:57:10][DEBUG] jax_fem: Start timing\n",
      "[01-07 15:57:10][DEBUG] jax_fem: Computing cell Jacobian and cell residual...\n",
      "[01-07 15:57:10][DEBUG] jax_fem: Function split_and_compute_cell took 0.0297 seconds\n",
      "[01-07 15:57:10][DEBUG] jax_fem: Creating sparse matrix with scipy...\n",
      "[01-07 15:57:10][DEBUG] jax_fem: Before, res l_2 = 13884.851050501691\n",
      "[01-07 15:57:10][DEBUG] jax_fem: Solving linear system...\n",
      "[01-07 15:57:10][DEBUG] jax_fem: JAX Solver - Solving linear system\n"
     ]
    },
    {
     "name": "stdout",
     "output_type": "stream",
     "text": [
      "\n",
      "Step 378, total step = 500, laser_x = 0.000503, Lx = 0.0005, laser ON = False\n"
     ]
    },
    {
     "name": "stderr",
     "output_type": "stream",
     "text": [
      "[01-07 15:57:11][DEBUG] jax_fem: JAX Solver - Finshed solving, res = 1.2593722028609965e-09\n",
      "[01-07 15:57:11][DEBUG] jax_fem: Computing cell Jacobian and cell residual...\n",
      "[01-07 15:57:11][DEBUG] jax_fem: Function split_and_compute_cell took 0.0381 seconds\n",
      "[01-07 15:57:11][DEBUG] jax_fem: Creating sparse matrix with scipy...\n",
      "[01-07 15:57:11][DEBUG] jax_fem: res l_2 = 1.2593718867553699e-09\n",
      "[01-07 15:57:11][INFO] jax_fem: Solve took 0.5745759010314941 [s]\n",
      "[01-07 15:57:11][DEBUG] jax_fem: max of dofs = 1969.2104350298478\n",
      "[01-07 15:57:11][DEBUG] jax_fem: min of dofs = 300.0\n",
      "[01-07 15:57:11][DEBUG] jax_fem: Calling the row elimination solver for imposing Dirichlet B.C.\n",
      "[01-07 15:57:11][DEBUG] jax_fem: Start timing\n",
      "[01-07 15:57:11][DEBUG] jax_fem: Computing cell Jacobian and cell residual...\n",
      "[01-07 15:57:11][DEBUG] jax_fem: Function split_and_compute_cell took 0.0253 seconds\n",
      "[01-07 15:57:11][DEBUG] jax_fem: Creating sparse matrix with scipy...\n",
      "[01-07 15:57:11][DEBUG] jax_fem: Before, res l_2 = 13884.846982873385\n",
      "[01-07 15:57:11][DEBUG] jax_fem: Solving linear system...\n",
      "[01-07 15:57:11][DEBUG] jax_fem: JAX Solver - Solving linear system\n"
     ]
    },
    {
     "name": "stdout",
     "output_type": "stream",
     "text": [
      "\n",
      "Step 379, total step = 500, laser_x = 0.000504, Lx = 0.0005, laser ON = False\n"
     ]
    },
    {
     "name": "stderr",
     "output_type": "stream",
     "text": [
      "[01-07 15:57:11][DEBUG] jax_fem: JAX Solver - Finshed solving, res = 1.2320466294025884e-09\n",
      "[01-07 15:57:11][DEBUG] jax_fem: Computing cell Jacobian and cell residual...\n",
      "[01-07 15:57:11][DEBUG] jax_fem: Function split_and_compute_cell took 0.0534 seconds\n",
      "[01-07 15:57:11][DEBUG] jax_fem: Creating sparse matrix with scipy...\n",
      "[01-07 15:57:11][DEBUG] jax_fem: res l_2 = 1.2320459218859887e-09\n",
      "[01-07 15:57:11][INFO] jax_fem: Solve took 0.5627405643463135 [s]\n",
      "[01-07 15:57:11][DEBUG] jax_fem: max of dofs = 1948.0470690861896\n",
      "[01-07 15:57:11][DEBUG] jax_fem: min of dofs = 300.0\n",
      "[01-07 15:57:11][DEBUG] jax_fem: Calling the row elimination solver for imposing Dirichlet B.C.\n",
      "[01-07 15:57:11][DEBUG] jax_fem: Start timing\n",
      "[01-07 15:57:11][DEBUG] jax_fem: Computing cell Jacobian and cell residual...\n",
      "[01-07 15:57:11][DEBUG] jax_fem: Function split_and_compute_cell took 0.0353 seconds\n",
      "[01-07 15:57:11][DEBUG] jax_fem: Creating sparse matrix with scipy...\n",
      "[01-07 15:57:11][DEBUG] jax_fem: Before, res l_2 = 13884.842988724455\n",
      "[01-07 15:57:11][DEBUG] jax_fem: Solving linear system...\n",
      "[01-07 15:57:11][DEBUG] jax_fem: JAX Solver - Solving linear system\n"
     ]
    },
    {
     "name": "stdout",
     "output_type": "stream",
     "text": [
      "\n",
      "Step 380, total step = 500, laser_x = 0.000505, Lx = 0.0005, laser ON = False\n"
     ]
    },
    {
     "name": "stderr",
     "output_type": "stream",
     "text": [
      "[01-07 15:57:12][DEBUG] jax_fem: JAX Solver - Finshed solving, res = 1.2062644232939293e-09\n",
      "[01-07 15:57:12][DEBUG] jax_fem: Computing cell Jacobian and cell residual...\n",
      "[01-07 15:57:12][DEBUG] jax_fem: Function split_and_compute_cell took 0.0325 seconds\n",
      "[01-07 15:57:12][DEBUG] jax_fem: Creating sparse matrix with scipy...\n",
      "[01-07 15:57:12][DEBUG] jax_fem: res l_2 = 1.206264132694553e-09\n",
      "[01-07 15:57:12][INFO] jax_fem: Solve took 0.6001737117767334 [s]\n",
      "[01-07 15:57:12][DEBUG] jax_fem: max of dofs = 1927.1742959735477\n",
      "[01-07 15:57:12][DEBUG] jax_fem: min of dofs = 300.0\n",
      "[01-07 15:57:12][DEBUG] jax_fem: Calling the row elimination solver for imposing Dirichlet B.C.\n",
      "[01-07 15:57:12][DEBUG] jax_fem: Start timing\n",
      "[01-07 15:57:12][DEBUG] jax_fem: Computing cell Jacobian and cell residual...\n",
      "[01-07 15:57:12][DEBUG] jax_fem: Function split_and_compute_cell took 0.2689 seconds\n",
      "[01-07 15:57:12][DEBUG] jax_fem: Creating sparse matrix with scipy...\n",
      "[01-07 15:57:13][DEBUG] jax_fem: Before, res l_2 = 0.3741803604681156\n",
      "[01-07 15:57:13][DEBUG] jax_fem: Solving linear system...\n",
      "[01-07 15:57:13][DEBUG] jax_fem: JAX Solver - Solving linear system\n",
      "[01-07 15:57:14][DEBUG] jax_fem: JAX Solver - Finshed solving, res = 8.541749600050659e-11\n",
      "[01-07 15:57:14][DEBUG] jax_fem: Computing cell Jacobian and cell residual...\n",
      "[01-07 15:57:14][DEBUG] jax_fem: Function split_and_compute_cell took 0.2444 seconds\n",
      "[01-07 15:57:15][DEBUG] jax_fem: Creating sparse matrix with scipy...\n",
      "[01-07 15:57:15][DEBUG] jax_fem: res l_2 = 0.02168217140495498\n",
      "[01-07 15:57:15][DEBUG] jax_fem: Solving linear system...\n",
      "[01-07 15:57:15][DEBUG] jax_fem: JAX Solver - Solving linear system\n",
      "[01-07 15:57:16][DEBUG] jax_fem: JAX Solver - Finshed solving, res = 6.160773031823818e-11\n",
      "[01-07 15:57:16][DEBUG] jax_fem: Computing cell Jacobian and cell residual...\n",
      "[01-07 15:57:17][DEBUG] jax_fem: Function split_and_compute_cell took 0.2558 seconds\n",
      "[01-07 15:57:17][DEBUG] jax_fem: Creating sparse matrix with scipy...\n",
      "[01-07 15:57:17][DEBUG] jax_fem: res l_2 = 0.003157445699400026\n",
      "[01-07 15:57:17][DEBUG] jax_fem: Solving linear system...\n",
      "[01-07 15:57:17][DEBUG] jax_fem: JAX Solver - Solving linear system\n",
      "[01-07 15:57:18][DEBUG] jax_fem: JAX Solver - Finshed solving, res = 9.812425357173942e-11\n",
      "[01-07 15:57:18][DEBUG] jax_fem: Computing cell Jacobian and cell residual...\n",
      "[01-07 15:57:19][DEBUG] jax_fem: Function split_and_compute_cell took 0.2492 seconds\n",
      "[01-07 15:57:19][DEBUG] jax_fem: Creating sparse matrix with scipy...\n",
      "[01-07 15:57:19][DEBUG] jax_fem: res l_2 = 4.896047896641997e-05\n",
      "[01-07 15:57:19][DEBUG] jax_fem: Solving linear system...\n",
      "[01-07 15:57:19][DEBUG] jax_fem: JAX Solver - Solving linear system\n",
      "[01-07 15:57:20][DEBUG] jax_fem: JAX Solver - Finshed solving, res = 9.996809838873903e-11\n",
      "[01-07 15:57:20][DEBUG] jax_fem: Computing cell Jacobian and cell residual...\n",
      "[01-07 15:57:20][DEBUG] jax_fem: Function split_and_compute_cell took 0.2228 seconds\n",
      "[01-07 15:57:20][DEBUG] jax_fem: Creating sparse matrix with scipy...\n",
      "[01-07 15:57:21][DEBUG] jax_fem: res l_2 = 5.215104053982026e-08\n",
      "[01-07 15:57:21][INFO] jax_fem: Solve took 8.543209075927734 [s]\n",
      "[01-07 15:57:21][DEBUG] jax_fem: max of dofs = 1.9311765159688963e-06\n",
      "[01-07 15:57:21][DEBUG] jax_fem: min of dofs = -1.6547371392344654e-06\n",
      "[01-07 15:57:21][DEBUG] jax_fem: Calling the row elimination solver for imposing Dirichlet B.C.\n",
      "[01-07 15:57:21][DEBUG] jax_fem: Start timing\n",
      "[01-07 15:57:21][DEBUG] jax_fem: Computing cell Jacobian and cell residual...\n",
      "[01-07 15:57:21][DEBUG] jax_fem: Function split_and_compute_cell took 0.0256 seconds\n",
      "[01-07 15:57:21][DEBUG] jax_fem: Creating sparse matrix with scipy...\n",
      "[01-07 15:57:21][DEBUG] jax_fem: Before, res l_2 = 13884.83906653341\n",
      "[01-07 15:57:21][DEBUG] jax_fem: Solving linear system...\n",
      "[01-07 15:57:21][DEBUG] jax_fem: JAX Solver - Solving linear system\n"
     ]
    },
    {
     "name": "stdout",
     "output_type": "stream",
     "text": [
      "max f_plus = 349908908.6338339, max stress_xx = 485465081.9418979\n",
      "\n",
      "Step 381, total step = 500, laser_x = 0.0005059999999999999, Lx = 0.0005, laser ON = False\n"
     ]
    },
    {
     "name": "stderr",
     "output_type": "stream",
     "text": [
      "[01-07 15:57:21][DEBUG] jax_fem: JAX Solver - Finshed solving, res = 1.1819513235328426e-09\n",
      "[01-07 15:57:21][DEBUG] jax_fem: Computing cell Jacobian and cell residual...\n",
      "[01-07 15:57:21][DEBUG] jax_fem: Function split_and_compute_cell took 0.0426 seconds\n",
      "[01-07 15:57:21][DEBUG] jax_fem: Creating sparse matrix with scipy...\n",
      "[01-07 15:57:21][DEBUG] jax_fem: res l_2 = 1.181951650671892e-09\n",
      "[01-07 15:57:21][INFO] jax_fem: Solve took 0.5420911312103271 [s]\n",
      "[01-07 15:57:21][DEBUG] jax_fem: max of dofs = 1906.5877529670784\n",
      "[01-07 15:57:21][DEBUG] jax_fem: min of dofs = 300.0\n",
      "[01-07 15:57:21][DEBUG] jax_fem: Calling the row elimination solver for imposing Dirichlet B.C.\n",
      "[01-07 15:57:21][DEBUG] jax_fem: Start timing\n",
      "[01-07 15:57:21][DEBUG] jax_fem: Computing cell Jacobian and cell residual...\n",
      "[01-07 15:57:21][DEBUG] jax_fem: Function split_and_compute_cell took 0.0263 seconds\n",
      "[01-07 15:57:21][DEBUG] jax_fem: Creating sparse matrix with scipy...\n",
      "[01-07 15:57:21][DEBUG] jax_fem: Before, res l_2 = 13884.83521481402\n",
      "[01-07 15:57:21][DEBUG] jax_fem: Solving linear system...\n",
      "[01-07 15:57:21][DEBUG] jax_fem: JAX Solver - Solving linear system\n"
     ]
    },
    {
     "name": "stdout",
     "output_type": "stream",
     "text": [
      "\n",
      "Step 382, total step = 500, laser_x = 0.000507, Lx = 0.0005, laser ON = False\n"
     ]
    },
    {
     "name": "stderr",
     "output_type": "stream",
     "text": [
      "[01-07 15:57:22][DEBUG] jax_fem: JAX Solver - Finshed solving, res = 1.159033908624467e-09\n",
      "[01-07 15:57:22][DEBUG] jax_fem: Computing cell Jacobian and cell residual...\n",
      "[01-07 15:57:22][DEBUG] jax_fem: Function split_and_compute_cell took 0.0362 seconds\n",
      "[01-07 15:57:22][DEBUG] jax_fem: Creating sparse matrix with scipy...\n",
      "[01-07 15:57:22][DEBUG] jax_fem: res l_2 = 1.1590341624769055e-09\n",
      "[01-07 15:57:22][INFO] jax_fem: Solve took 0.5868239402770996 [s]\n",
      "[01-07 15:57:22][DEBUG] jax_fem: max of dofs = 1886.283149688604\n",
      "[01-07 15:57:22][DEBUG] jax_fem: min of dofs = 300.0\n",
      "[01-07 15:57:22][DEBUG] jax_fem: Calling the row elimination solver for imposing Dirichlet B.C.\n",
      "[01-07 15:57:22][DEBUG] jax_fem: Start timing\n",
      "[01-07 15:57:22][DEBUG] jax_fem: Computing cell Jacobian and cell residual...\n",
      "[01-07 15:57:22][DEBUG] jax_fem: Function split_and_compute_cell took 0.0711 seconds\n",
      "[01-07 15:57:22][DEBUG] jax_fem: Creating sparse matrix with scipy...\n",
      "[01-07 15:57:22][DEBUG] jax_fem: Before, res l_2 = 13884.831432114404\n",
      "[01-07 15:57:22][DEBUG] jax_fem: Solving linear system...\n",
      "[01-07 15:57:22][DEBUG] jax_fem: JAX Solver - Solving linear system\n"
     ]
    },
    {
     "name": "stdout",
     "output_type": "stream",
     "text": [
      "\n",
      "Step 383, total step = 500, laser_x = 0.000508, Lx = 0.0005, laser ON = False\n"
     ]
    },
    {
     "name": "stderr",
     "output_type": "stream",
     "text": [
      "[01-07 15:57:22][DEBUG] jax_fem: JAX Solver - Finshed solving, res = 1.1374432676464024e-09\n",
      "[01-07 15:57:22][DEBUG] jax_fem: Computing cell Jacobian and cell residual...\n",
      "[01-07 15:57:22][DEBUG] jax_fem: Function split_and_compute_cell took 0.0350 seconds\n",
      "[01-07 15:57:22][DEBUG] jax_fem: Creating sparse matrix with scipy...\n",
      "[01-07 15:57:22][DEBUG] jax_fem: res l_2 = 1.1374426783487005e-09\n",
      "[01-07 15:57:22][INFO] jax_fem: Solve took 0.6239831447601318 [s]\n",
      "[01-07 15:57:22][DEBUG] jax_fem: max of dofs = 1866.256266758596\n",
      "[01-07 15:57:22][DEBUG] jax_fem: min of dofs = 300.0\n",
      "[01-07 15:57:22][DEBUG] jax_fem: Calling the row elimination solver for imposing Dirichlet B.C.\n",
      "[01-07 15:57:22][DEBUG] jax_fem: Start timing\n",
      "[01-07 15:57:22][DEBUG] jax_fem: Computing cell Jacobian and cell residual...\n",
      "[01-07 15:57:23][DEBUG] jax_fem: Function split_and_compute_cell took 0.0269 seconds\n",
      "[01-07 15:57:23][DEBUG] jax_fem: Creating sparse matrix with scipy...\n",
      "[01-07 15:57:23][DEBUG] jax_fem: Before, res l_2 = 13884.827717016162\n",
      "[01-07 15:57:23][DEBUG] jax_fem: Solving linear system...\n",
      "[01-07 15:57:23][DEBUG] jax_fem: JAX Solver - Solving linear system\n"
     ]
    },
    {
     "name": "stdout",
     "output_type": "stream",
     "text": [
      "\n",
      "Step 384, total step = 500, laser_x = 0.000509, Lx = 0.0005, laser ON = False\n"
     ]
    },
    {
     "name": "stderr",
     "output_type": "stream",
     "text": [
      "[01-07 15:57:23][DEBUG] jax_fem: JAX Solver - Finshed solving, res = 1.1171133084394888e-09\n",
      "[01-07 15:57:23][DEBUG] jax_fem: Computing cell Jacobian and cell residual...\n",
      "[01-07 15:57:23][DEBUG] jax_fem: Function split_and_compute_cell took 0.0384 seconds\n",
      "[01-07 15:57:23][DEBUG] jax_fem: Creating sparse matrix with scipy...\n",
      "[01-07 15:57:23][DEBUG] jax_fem: res l_2 = 1.117113210678035e-09\n",
      "[01-07 15:57:23][INFO] jax_fem: Solve took 0.5319643020629883 [s]\n",
      "[01-07 15:57:23][DEBUG] jax_fem: max of dofs = 1846.5029544775896\n",
      "[01-07 15:57:23][DEBUG] jax_fem: min of dofs = 300.0\n",
      "[01-07 15:57:23][DEBUG] jax_fem: Calling the row elimination solver for imposing Dirichlet B.C.\n",
      "[01-07 15:57:23][DEBUG] jax_fem: Start timing\n",
      "[01-07 15:57:23][DEBUG] jax_fem: Computing cell Jacobian and cell residual...\n",
      "[01-07 15:57:23][DEBUG] jax_fem: Function split_and_compute_cell took 0.0266 seconds\n",
      "[01-07 15:57:23][DEBUG] jax_fem: Creating sparse matrix with scipy...\n",
      "[01-07 15:57:23][DEBUG] jax_fem: Before, res l_2 = 13884.82406813351\n",
      "[01-07 15:57:23][DEBUG] jax_fem: Solving linear system...\n",
      "[01-07 15:57:23][DEBUG] jax_fem: JAX Solver - Solving linear system\n"
     ]
    },
    {
     "name": "stdout",
     "output_type": "stream",
     "text": [
      "\n",
      "Step 385, total step = 500, laser_x = 0.00051, Lx = 0.0005, laser ON = False\n"
     ]
    },
    {
     "name": "stderr",
     "output_type": "stream",
     "text": [
      "[01-07 15:57:23][DEBUG] jax_fem: JAX Solver - Finshed solving, res = 1.0979776054032617e-09\n",
      "[01-07 15:57:24][DEBUG] jax_fem: Computing cell Jacobian and cell residual...\n",
      "[01-07 15:57:24][DEBUG] jax_fem: Function split_and_compute_cell took 0.0455 seconds\n",
      "[01-07 15:57:24][DEBUG] jax_fem: Creating sparse matrix with scipy...\n",
      "[01-07 15:57:24][DEBUG] jax_fem: res l_2 = 1.0979768932836872e-09\n",
      "[01-07 15:57:24][INFO] jax_fem: Solve took 0.5881049633026123 [s]\n",
      "[01-07 15:57:24][DEBUG] jax_fem: max of dofs = 1827.0191315363395\n",
      "[01-07 15:57:24][DEBUG] jax_fem: min of dofs = 300.0\n",
      "[01-07 15:57:24][DEBUG] jax_fem: Calling the row elimination solver for imposing Dirichlet B.C.\n",
      "[01-07 15:57:24][DEBUG] jax_fem: Start timing\n",
      "[01-07 15:57:24][DEBUG] jax_fem: Computing cell Jacobian and cell residual...\n",
      "[01-07 15:57:24][DEBUG] jax_fem: Function split_and_compute_cell took 0.0271 seconds\n",
      "[01-07 15:57:24][DEBUG] jax_fem: Creating sparse matrix with scipy...\n",
      "[01-07 15:57:24][DEBUG] jax_fem: Before, res l_2 = 13884.820484112463\n",
      "[01-07 15:57:24][DEBUG] jax_fem: Solving linear system...\n",
      "[01-07 15:57:24][DEBUG] jax_fem: JAX Solver - Solving linear system\n"
     ]
    },
    {
     "name": "stdout",
     "output_type": "stream",
     "text": [
      "\n",
      "Step 386, total step = 500, laser_x = 0.000511, Lx = 0.0005, laser ON = False\n"
     ]
    },
    {
     "name": "stderr",
     "output_type": "stream",
     "text": [
      "[01-07 15:57:24][DEBUG] jax_fem: JAX Solver - Finshed solving, res = 1.0799748904421872e-09\n",
      "[01-07 15:57:24][DEBUG] jax_fem: Computing cell Jacobian and cell residual...\n",
      "[01-07 15:57:24][DEBUG] jax_fem: Function split_and_compute_cell took 0.0336 seconds\n",
      "[01-07 15:57:24][DEBUG] jax_fem: Creating sparse matrix with scipy...\n",
      "[01-07 15:57:24][DEBUG] jax_fem: res l_2 = 1.0799737729720471e-09\n",
      "[01-07 15:57:24][INFO] jax_fem: Solve took 0.6693425178527832 [s]\n",
      "[01-07 15:57:24][DEBUG] jax_fem: max of dofs = 1807.8007837537657\n",
      "[01-07 15:57:24][DEBUG] jax_fem: min of dofs = 300.0\n",
      "[01-07 15:57:24][DEBUG] jax_fem: Calling the row elimination solver for imposing Dirichlet B.C.\n",
      "[01-07 15:57:24][DEBUG] jax_fem: Start timing\n",
      "[01-07 15:57:24][DEBUG] jax_fem: Computing cell Jacobian and cell residual...\n",
      "[01-07 15:57:24][DEBUG] jax_fem: Function split_and_compute_cell took 0.0472 seconds\n",
      "[01-07 15:57:24][DEBUG] jax_fem: Creating sparse matrix with scipy...\n",
      "[01-07 15:57:24][DEBUG] jax_fem: Before, res l_2 = 13884.816963630017\n",
      "[01-07 15:57:24][DEBUG] jax_fem: Solving linear system...\n",
      "[01-07 15:57:24][DEBUG] jax_fem: JAX Solver - Solving linear system\n"
     ]
    },
    {
     "name": "stdout",
     "output_type": "stream",
     "text": [
      "\n",
      "Step 387, total step = 500, laser_x = 0.000512, Lx = 0.0005, laser ON = False\n"
     ]
    },
    {
     "name": "stderr",
     "output_type": "stream",
     "text": [
      "[01-07 15:57:25][DEBUG] jax_fem: JAX Solver - Finshed solving, res = 1.0630468989541755e-09\n",
      "[01-07 15:57:25][DEBUG] jax_fem: Computing cell Jacobian and cell residual...\n",
      "[01-07 15:57:25][DEBUG] jax_fem: Function split_and_compute_cell took 0.0351 seconds\n",
      "[01-07 15:57:25][DEBUG] jax_fem: Creating sparse matrix with scipy...\n",
      "[01-07 15:57:25][DEBUG] jax_fem: res l_2 = 1.0630459241017324e-09\n",
      "[01-07 15:57:25][INFO] jax_fem: Solve took 0.7505168914794922 [s]\n",
      "[01-07 15:57:25][DEBUG] jax_fem: max of dofs = 1788.843962842014\n",
      "[01-07 15:57:25][DEBUG] jax_fem: min of dofs = 300.0\n",
      "[01-07 15:57:25][DEBUG] jax_fem: Calling the row elimination solver for imposing Dirichlet B.C.\n",
      "[01-07 15:57:25][DEBUG] jax_fem: Start timing\n",
      "[01-07 15:57:25][DEBUG] jax_fem: Computing cell Jacobian and cell residual...\n",
      "[01-07 15:57:25][DEBUG] jax_fem: Function split_and_compute_cell took 0.0291 seconds\n",
      "[01-07 15:57:25][DEBUG] jax_fem: Creating sparse matrix with scipy...\n",
      "[01-07 15:57:25][DEBUG] jax_fem: Before, res l_2 = 13884.813505393375\n",
      "[01-07 15:57:25][DEBUG] jax_fem: Solving linear system...\n",
      "[01-07 15:57:25][DEBUG] jax_fem: JAX Solver - Solving linear system\n"
     ]
    },
    {
     "name": "stdout",
     "output_type": "stream",
     "text": [
      "\n",
      "Step 388, total step = 500, laser_x = 0.000513, Lx = 0.0005, laser ON = False\n"
     ]
    },
    {
     "name": "stderr",
     "output_type": "stream",
     "text": [
      "[01-07 15:57:26][DEBUG] jax_fem: JAX Solver - Finshed solving, res = 1.0471345152358596e-09\n",
      "[01-07 15:57:26][DEBUG] jax_fem: Computing cell Jacobian and cell residual...\n",
      "[01-07 15:57:26][DEBUG] jax_fem: Function split_and_compute_cell took 0.0330 seconds\n",
      "[01-07 15:57:26][DEBUG] jax_fem: Creating sparse matrix with scipy...\n",
      "[01-07 15:57:26][DEBUG] jax_fem: res l_2 = 1.0471347498886616e-09\n",
      "[01-07 15:57:26][INFO] jax_fem: Solve took 1.1951582431793213 [s]\n",
      "[01-07 15:57:26][DEBUG] jax_fem: max of dofs = 1770.144785197771\n",
      "[01-07 15:57:26][DEBUG] jax_fem: min of dofs = 300.0\n",
      "[01-07 15:57:26][DEBUG] jax_fem: Calling the row elimination solver for imposing Dirichlet B.C.\n",
      "[01-07 15:57:26][DEBUG] jax_fem: Start timing\n",
      "[01-07 15:57:26][DEBUG] jax_fem: Computing cell Jacobian and cell residual...\n",
      "[01-07 15:57:26][DEBUG] jax_fem: Function split_and_compute_cell took 0.0278 seconds\n",
      "[01-07 15:57:26][DEBUG] jax_fem: Creating sparse matrix with scipy...\n",
      "[01-07 15:57:26][DEBUG] jax_fem: Before, res l_2 = 13884.810108139176\n",
      "[01-07 15:57:26][DEBUG] jax_fem: Solving linear system...\n",
      "[01-07 15:57:26][DEBUG] jax_fem: JAX Solver - Solving linear system\n"
     ]
    },
    {
     "name": "stdout",
     "output_type": "stream",
     "text": [
      "\n",
      "Step 389, total step = 500, laser_x = 0.0005139999999999999, Lx = 0.0005, laser ON = False\n"
     ]
    },
    {
     "name": "stderr",
     "output_type": "stream",
     "text": [
      "[01-07 15:57:27][DEBUG] jax_fem: JAX Solver - Finshed solving, res = 1.3512907167925184e-06\n",
      "[01-07 15:57:27][DEBUG] jax_fem: Computing cell Jacobian and cell residual...\n",
      "[01-07 15:57:27][DEBUG] jax_fem: Function split_and_compute_cell took 0.0807 seconds\n",
      "[01-07 15:57:27][DEBUG] jax_fem: Creating sparse matrix with scipy...\n",
      "[01-07 15:57:27][DEBUG] jax_fem: res l_2 = 1.3512907169710679e-06\n",
      "[01-07 15:57:27][DEBUG] jax_fem: Solving linear system...\n",
      "[01-07 15:57:27][DEBUG] jax_fem: JAX Solver - Solving linear system\n",
      "[01-07 15:57:27][DEBUG] jax_fem: JAX Solver - Finshed solving, res = 4.5352694482412426e-11\n",
      "[01-07 15:57:27][DEBUG] jax_fem: Computing cell Jacobian and cell residual...\n",
      "[01-07 15:57:27][DEBUG] jax_fem: Function split_and_compute_cell took 0.0901 seconds\n",
      "[01-07 15:57:27][DEBUG] jax_fem: Creating sparse matrix with scipy...\n",
      "[01-07 15:57:28][DEBUG] jax_fem: res l_2 = 4.535282445997562e-11\n",
      "[01-07 15:57:28][INFO] jax_fem: Solve took 1.241936206817627 [s]\n",
      "[01-07 15:57:28][DEBUG] jax_fem: max of dofs = 1751.6994307460523\n",
      "[01-07 15:57:28][DEBUG] jax_fem: min of dofs = 300.0\n",
      "[01-07 15:57:28][DEBUG] jax_fem: Calling the row elimination solver for imposing Dirichlet B.C.\n",
      "[01-07 15:57:28][DEBUG] jax_fem: Start timing\n",
      "[01-07 15:57:28][DEBUG] jax_fem: Computing cell Jacobian and cell residual...\n",
      "[01-07 15:57:28][DEBUG] jax_fem: Function split_and_compute_cell took 0.0264 seconds\n",
      "[01-07 15:57:28][DEBUG] jax_fem: Creating sparse matrix with scipy...\n",
      "[01-07 15:57:28][DEBUG] jax_fem: Before, res l_2 = 13884.806770632766\n",
      "[01-07 15:57:28][DEBUG] jax_fem: Solving linear system...\n",
      "[01-07 15:57:28][DEBUG] jax_fem: JAX Solver - Solving linear system\n"
     ]
    },
    {
     "name": "stdout",
     "output_type": "stream",
     "text": [
      "\n",
      "Step 390, total step = 500, laser_x = 0.000515, Lx = 0.0005, laser ON = False\n"
     ]
    },
    {
     "name": "stderr",
     "output_type": "stream",
     "text": [
      "[01-07 15:57:28][DEBUG] jax_fem: JAX Solver - Finshed solving, res = 1.3148761718224825e-06\n",
      "[01-07 15:57:28][DEBUG] jax_fem: Computing cell Jacobian and cell residual...\n",
      "[01-07 15:57:28][DEBUG] jax_fem: Function split_and_compute_cell took 0.0289 seconds\n",
      "[01-07 15:57:28][DEBUG] jax_fem: Creating sparse matrix with scipy...\n",
      "[01-07 15:57:28][DEBUG] jax_fem: res l_2 = 1.3148761709655232e-06\n",
      "[01-07 15:57:28][DEBUG] jax_fem: Solving linear system...\n",
      "[01-07 15:57:28][DEBUG] jax_fem: JAX Solver - Solving linear system\n",
      "[01-07 15:57:29][DEBUG] jax_fem: JAX Solver - Finshed solving, res = 4.570024582069111e-11\n",
      "[01-07 15:57:29][DEBUG] jax_fem: Computing cell Jacobian and cell residual...\n",
      "[01-07 15:57:29][DEBUG] jax_fem: Function split_and_compute_cell took 0.0271 seconds\n",
      "[01-07 15:57:29][DEBUG] jax_fem: Creating sparse matrix with scipy...\n",
      "[01-07 15:57:29][DEBUG] jax_fem: res l_2 = 4.57002251082433e-11\n",
      "[01-07 15:57:29][INFO] jax_fem: Solve took 1.1040873527526855 [s]\n",
      "[01-07 15:57:29][DEBUG] jax_fem: max of dofs = 1733.5041416981237\n",
      "[01-07 15:57:29][DEBUG] jax_fem: min of dofs = 300.0\n",
      "[01-07 15:57:29][DEBUG] jax_fem: Calling the row elimination solver for imposing Dirichlet B.C.\n",
      "[01-07 15:57:29][DEBUG] jax_fem: Start timing\n",
      "[01-07 15:57:29][DEBUG] jax_fem: Computing cell Jacobian and cell residual...\n",
      "[01-07 15:57:29][DEBUG] jax_fem: Function split_and_compute_cell took 0.2311 seconds\n",
      "[01-07 15:57:29][DEBUG] jax_fem: Creating sparse matrix with scipy...\n",
      "[01-07 15:57:29][DEBUG] jax_fem: Before, res l_2 = 0.35816531635872756\n",
      "[01-07 15:57:29][DEBUG] jax_fem: Solving linear system...\n",
      "[01-07 15:57:29][DEBUG] jax_fem: JAX Solver - Solving linear system\n",
      "[01-07 15:57:31][DEBUG] jax_fem: JAX Solver - Finshed solving, res = 9.138126898605795e-11\n",
      "[01-07 15:57:31][DEBUG] jax_fem: Computing cell Jacobian and cell residual...\n",
      "[01-07 15:57:31][DEBUG] jax_fem: Function split_and_compute_cell took 0.2268 seconds\n",
      "[01-07 15:57:31][DEBUG] jax_fem: Creating sparse matrix with scipy...\n",
      "[01-07 15:57:31][DEBUG] jax_fem: res l_2 = 0.020378359808606618\n",
      "[01-07 15:57:31][DEBUG] jax_fem: Solving linear system...\n",
      "[01-07 15:57:31][DEBUG] jax_fem: JAX Solver - Solving linear system\n",
      "[01-07 15:57:33][DEBUG] jax_fem: JAX Solver - Finshed solving, res = 9.283186964780364e-11\n",
      "[01-07 15:57:33][DEBUG] jax_fem: Computing cell Jacobian and cell residual...\n",
      "[01-07 15:57:34][DEBUG] jax_fem: Function split_and_compute_cell took 0.2515 seconds\n",
      "[01-07 15:57:34][DEBUG] jax_fem: Creating sparse matrix with scipy...\n",
      "[01-07 15:57:34][DEBUG] jax_fem: res l_2 = 0.0033326445088084416\n",
      "[01-07 15:57:34][DEBUG] jax_fem: Solving linear system...\n",
      "[01-07 15:57:34][DEBUG] jax_fem: JAX Solver - Solving linear system\n",
      "[01-07 15:57:35][DEBUG] jax_fem: JAX Solver - Finshed solving, res = 9.147723825326065e-11\n",
      "[01-07 15:57:35][DEBUG] jax_fem: Computing cell Jacobian and cell residual...\n",
      "[01-07 15:57:36][DEBUG] jax_fem: Function split_and_compute_cell took 0.2671 seconds\n",
      "[01-07 15:57:36][DEBUG] jax_fem: Creating sparse matrix with scipy...\n",
      "[01-07 15:57:36][DEBUG] jax_fem: res l_2 = 3.561841545447506e-05\n",
      "[01-07 15:57:36][DEBUG] jax_fem: Solving linear system...\n",
      "[01-07 15:57:36][DEBUG] jax_fem: JAX Solver - Solving linear system\n",
      "[01-07 15:57:37][DEBUG] jax_fem: JAX Solver - Finshed solving, res = 9.281710856598287e-11\n",
      "[01-07 15:57:37][DEBUG] jax_fem: Computing cell Jacobian and cell residual...\n",
      "[01-07 15:57:37][DEBUG] jax_fem: Function split_and_compute_cell took 0.2766 seconds\n",
      "[01-07 15:57:37][DEBUG] jax_fem: Creating sparse matrix with scipy...\n",
      "[01-07 15:57:38][DEBUG] jax_fem: res l_2 = 2.0980637069222508e-08\n",
      "[01-07 15:57:38][INFO] jax_fem: Solve took 8.916524410247803 [s]\n",
      "[01-07 15:57:38][DEBUG] jax_fem: max of dofs = 1.9738747690302134e-06\n",
      "[01-07 15:57:38][DEBUG] jax_fem: min of dofs = -1.6973499783008782e-06\n",
      "[01-07 15:57:38][DEBUG] jax_fem: Calling the row elimination solver for imposing Dirichlet B.C.\n",
      "[01-07 15:57:38][DEBUG] jax_fem: Start timing\n",
      "[01-07 15:57:38][DEBUG] jax_fem: Computing cell Jacobian and cell residual...\n",
      "[01-07 15:57:38][DEBUG] jax_fem: Function split_and_compute_cell took 0.0330 seconds\n",
      "[01-07 15:57:38][DEBUG] jax_fem: Creating sparse matrix with scipy...\n",
      "[01-07 15:57:38][DEBUG] jax_fem: Before, res l_2 = 13884.803491667464\n",
      "[01-07 15:57:38][DEBUG] jax_fem: Solving linear system...\n",
      "[01-07 15:57:38][DEBUG] jax_fem: JAX Solver - Solving linear system\n"
     ]
    },
    {
     "name": "stdout",
     "output_type": "stream",
     "text": [
      "max f_plus = 361039527.29766214, max stress_xx = 495910624.5476131\n",
      "\n",
      "Step 391, total step = 500, laser_x = 0.000516, Lx = 0.0005, laser ON = False\n"
     ]
    },
    {
     "name": "stderr",
     "output_type": "stream",
     "text": [
      "[01-07 15:57:38][DEBUG] jax_fem: JAX Solver - Finshed solving, res = 1.2796361930974015e-06\n",
      "[01-07 15:57:38][DEBUG] jax_fem: Computing cell Jacobian and cell residual...\n",
      "[01-07 15:57:38][DEBUG] jax_fem: Function split_and_compute_cell took 0.0340 seconds\n",
      "[01-07 15:57:38][DEBUG] jax_fem: Creating sparse matrix with scipy...\n",
      "[01-07 15:57:38][DEBUG] jax_fem: res l_2 = 1.2796361926825106e-06\n",
      "[01-07 15:57:38][DEBUG] jax_fem: Solving linear system...\n",
      "[01-07 15:57:38][DEBUG] jax_fem: JAX Solver - Solving linear system\n",
      "[01-07 15:57:39][DEBUG] jax_fem: JAX Solver - Finshed solving, res = 4.59751514405439e-11\n",
      "[01-07 15:57:39][DEBUG] jax_fem: Computing cell Jacobian and cell residual...\n",
      "[01-07 15:57:39][DEBUG] jax_fem: Function split_and_compute_cell took 0.0520 seconds\n",
      "[01-07 15:57:39][DEBUG] jax_fem: Creating sparse matrix with scipy...\n",
      "[01-07 15:57:39][DEBUG] jax_fem: res l_2 = 4.597512945198329e-11\n",
      "[01-07 15:57:39][INFO] jax_fem: Solve took 1.1578443050384521 [s]\n",
      "[01-07 15:57:39][DEBUG] jax_fem: max of dofs = 1715.5552215062132\n",
      "[01-07 15:57:39][DEBUG] jax_fem: min of dofs = 300.0\n",
      "[01-07 15:57:39][DEBUG] jax_fem: Calling the row elimination solver for imposing Dirichlet B.C.\n",
      "[01-07 15:57:39][DEBUG] jax_fem: Start timing\n",
      "[01-07 15:57:39][DEBUG] jax_fem: Computing cell Jacobian and cell residual...\n",
      "[01-07 15:57:39][DEBUG] jax_fem: Function split_and_compute_cell took 0.0282 seconds\n",
      "[01-07 15:57:39][DEBUG] jax_fem: Creating sparse matrix with scipy...\n",
      "[01-07 15:57:39][DEBUG] jax_fem: Before, res l_2 = 13884.800270063874\n",
      "[01-07 15:57:39][DEBUG] jax_fem: Solving linear system...\n",
      "[01-07 15:57:39][DEBUG] jax_fem: JAX Solver - Solving linear system\n"
     ]
    },
    {
     "name": "stdout",
     "output_type": "stream",
     "text": [
      "\n",
      "Step 392, total step = 500, laser_x = 0.000517, Lx = 0.0005, laser ON = False\n"
     ]
    },
    {
     "name": "stderr",
     "output_type": "stream",
     "text": [
      "[01-07 15:57:39][DEBUG] jax_fem: JAX Solver - Finshed solving, res = 1.2455307620989694e-06\n",
      "[01-07 15:57:39][DEBUG] jax_fem: Computing cell Jacobian and cell residual...\n",
      "[01-07 15:57:39][DEBUG] jax_fem: Function split_and_compute_cell took 0.0401 seconds\n",
      "[01-07 15:57:39][DEBUG] jax_fem: Creating sparse matrix with scipy...\n",
      "[01-07 15:57:40][DEBUG] jax_fem: res l_2 = 1.245530761430128e-06\n",
      "[01-07 15:57:40][DEBUG] jax_fem: Solving linear system...\n",
      "[01-07 15:57:40][DEBUG] jax_fem: JAX Solver - Solving linear system\n",
      "[01-07 15:57:40][DEBUG] jax_fem: JAX Solver - Finshed solving, res = 4.6227642369545466e-11\n",
      "[01-07 15:57:40][DEBUG] jax_fem: Computing cell Jacobian and cell residual...\n",
      "[01-07 15:57:40][DEBUG] jax_fem: Function split_and_compute_cell took 0.0244 seconds\n",
      "[01-07 15:57:40][DEBUG] jax_fem: Creating sparse matrix with scipy...\n",
      "[01-07 15:57:40][DEBUG] jax_fem: res l_2 = 4.6227658202921974e-11\n",
      "[01-07 15:57:40][INFO] jax_fem: Solve took 1.0602617263793945 [s]\n",
      "[01-07 15:57:40][DEBUG] jax_fem: max of dofs = 1697.8490337211824\n",
      "[01-07 15:57:40][DEBUG] jax_fem: min of dofs = 300.0\n",
      "[01-07 15:57:40][DEBUG] jax_fem: Calling the row elimination solver for imposing Dirichlet B.C.\n",
      "[01-07 15:57:40][DEBUG] jax_fem: Start timing\n",
      "[01-07 15:57:40][DEBUG] jax_fem: Computing cell Jacobian and cell residual...\n",
      "[01-07 15:57:40][DEBUG] jax_fem: Function split_and_compute_cell took 0.0360 seconds\n",
      "[01-07 15:57:40][DEBUG] jax_fem: Creating sparse matrix with scipy...\n",
      "[01-07 15:57:40][DEBUG] jax_fem: Before, res l_2 = 13884.7971046692\n",
      "[01-07 15:57:40][DEBUG] jax_fem: Solving linear system...\n",
      "[01-07 15:57:40][DEBUG] jax_fem: JAX Solver - Solving linear system\n"
     ]
    },
    {
     "name": "stdout",
     "output_type": "stream",
     "text": [
      "\n",
      "Step 393, total step = 500, laser_x = 0.000518, Lx = 0.0005, laser ON = False\n"
     ]
    },
    {
     "name": "stderr",
     "output_type": "stream",
     "text": [
      "[01-07 15:57:41][DEBUG] jax_fem: JAX Solver - Finshed solving, res = 1.2125207198363954e-06\n",
      "[01-07 15:57:41][DEBUG] jax_fem: Computing cell Jacobian and cell residual...\n",
      "[01-07 15:57:41][DEBUG] jax_fem: Function split_and_compute_cell took 0.1112 seconds\n",
      "[01-07 15:57:41][DEBUG] jax_fem: Creating sparse matrix with scipy...\n",
      "[01-07 15:57:41][DEBUG] jax_fem: res l_2 = 1.2125207198539728e-06\n",
      "[01-07 15:57:41][DEBUG] jax_fem: Solving linear system...\n",
      "[01-07 15:57:41][DEBUG] jax_fem: JAX Solver - Solving linear system\n",
      "[01-07 15:57:41][DEBUG] jax_fem: JAX Solver - Finshed solving, res = 4.647573346891977e-11\n",
      "[01-07 15:57:41][DEBUG] jax_fem: Computing cell Jacobian and cell residual...\n",
      "[01-07 15:57:41][DEBUG] jax_fem: Function split_and_compute_cell took 0.0286 seconds\n",
      "[01-07 15:57:41][DEBUG] jax_fem: Creating sparse matrix with scipy...\n",
      "[01-07 15:57:41][DEBUG] jax_fem: res l_2 = 4.6475769091274674e-11\n",
      "[01-07 15:57:41][INFO] jax_fem: Solve took 1.2654082775115967 [s]\n",
      "[01-07 15:57:41][DEBUG] jax_fem: max of dofs = 1680.3820009054846\n",
      "[01-07 15:57:41][DEBUG] jax_fem: min of dofs = 300.0\n",
      "[01-07 15:57:41][DEBUG] jax_fem: Calling the row elimination solver for imposing Dirichlet B.C.\n",
      "[01-07 15:57:41][DEBUG] jax_fem: Start timing\n",
      "[01-07 15:57:41][DEBUG] jax_fem: Computing cell Jacobian and cell residual...\n",
      "[01-07 15:57:41][DEBUG] jax_fem: Function split_and_compute_cell took 0.0292 seconds\n",
      "[01-07 15:57:41][DEBUG] jax_fem: Creating sparse matrix with scipy...\n",
      "[01-07 15:57:41][DEBUG] jax_fem: Before, res l_2 = 13884.79399435658\n",
      "[01-07 15:57:41][DEBUG] jax_fem: Solving linear system...\n",
      "[01-07 15:57:41][DEBUG] jax_fem: JAX Solver - Solving linear system\n"
     ]
    },
    {
     "name": "stdout",
     "output_type": "stream",
     "text": [
      "\n",
      "Step 394, total step = 500, laser_x = 0.0005189999999999999, Lx = 0.0005, laser ON = False\n"
     ]
    },
    {
     "name": "stderr",
     "output_type": "stream",
     "text": [
      "[01-07 15:57:42][DEBUG] jax_fem: JAX Solver - Finshed solving, res = 1.1805678196296682e-06\n",
      "[01-07 15:57:42][DEBUG] jax_fem: Computing cell Jacobian and cell residual...\n",
      "[01-07 15:57:42][DEBUG] jax_fem: Function split_and_compute_cell took 0.0471 seconds\n",
      "[01-07 15:57:42][DEBUG] jax_fem: Creating sparse matrix with scipy...\n",
      "[01-07 15:57:42][DEBUG] jax_fem: res l_2 = 1.1805678183230987e-06\n",
      "[01-07 15:57:42][DEBUG] jax_fem: Solving linear system...\n",
      "[01-07 15:57:42][DEBUG] jax_fem: JAX Solver - Solving linear system\n",
      "[01-07 15:57:42][DEBUG] jax_fem: JAX Solver - Finshed solving, res = 4.6723358957067764e-11\n",
      "[01-07 15:57:42][DEBUG] jax_fem: Computing cell Jacobian and cell residual...\n",
      "[01-07 15:57:42][DEBUG] jax_fem: Function split_and_compute_cell took 0.0461 seconds\n",
      "[01-07 15:57:42][DEBUG] jax_fem: Creating sparse matrix with scipy...\n",
      "[01-07 15:57:43][DEBUG] jax_fem: res l_2 = 4.672333659800322e-11\n",
      "[01-07 15:57:43][INFO] jax_fem: Solve took 1.2303745746612549 [s]\n",
      "[01-07 15:57:43][DEBUG] jax_fem: max of dofs = 1663.1506035684417\n",
      "[01-07 15:57:43][DEBUG] jax_fem: min of dofs = 300.0\n",
      "[01-07 15:57:43][DEBUG] jax_fem: Calling the row elimination solver for imposing Dirichlet B.C.\n",
      "[01-07 15:57:43][DEBUG] jax_fem: Start timing\n",
      "[01-07 15:57:43][DEBUG] jax_fem: Computing cell Jacobian and cell residual...\n",
      "[01-07 15:57:43][DEBUG] jax_fem: Function split_and_compute_cell took 0.0331 seconds\n",
      "[01-07 15:57:43][DEBUG] jax_fem: Creating sparse matrix with scipy...\n",
      "[01-07 15:57:43][DEBUG] jax_fem: Before, res l_2 = 13884.790938024447\n",
      "[01-07 15:57:43][DEBUG] jax_fem: Solving linear system...\n",
      "[01-07 15:57:43][DEBUG] jax_fem: JAX Solver - Solving linear system\n"
     ]
    },
    {
     "name": "stdout",
     "output_type": "stream",
     "text": [
      "\n",
      "Step 395, total step = 500, laser_x = 0.0005200000000000001, Lx = 0.0005, laser ON = False\n"
     ]
    },
    {
     "name": "stderr",
     "output_type": "stream",
     "text": [
      "[01-07 15:57:43][DEBUG] jax_fem: JAX Solver - Finshed solving, res = 1.1496347474366952e-06\n",
      "[01-07 15:57:43][DEBUG] jax_fem: Computing cell Jacobian and cell residual...\n",
      "[01-07 15:57:43][DEBUG] jax_fem: Function split_and_compute_cell took 0.1176 seconds\n",
      "[01-07 15:57:43][DEBUG] jax_fem: Creating sparse matrix with scipy...\n",
      "[01-07 15:57:43][DEBUG] jax_fem: res l_2 = 1.1496347472699743e-06\n",
      "[01-07 15:57:43][DEBUG] jax_fem: Solving linear system...\n",
      "[01-07 15:57:43][DEBUG] jax_fem: JAX Solver - Solving linear system\n",
      "[01-07 15:57:44][DEBUG] jax_fem: JAX Solver - Finshed solving, res = 4.696908780894285e-11\n",
      "[01-07 15:57:44][DEBUG] jax_fem: Computing cell Jacobian and cell residual...\n",
      "[01-07 15:57:44][DEBUG] jax_fem: Function split_and_compute_cell took 0.0527 seconds\n",
      "[01-07 15:57:44][DEBUG] jax_fem: Creating sparse matrix with scipy...\n",
      "[01-07 15:57:44][DEBUG] jax_fem: res l_2 = 4.6969027779515e-11\n",
      "[01-07 15:57:44][INFO] jax_fem: Solve took 1.2731742858886719 [s]\n",
      "[01-07 15:57:44][DEBUG] jax_fem: max of dofs = 1646.151379123328\n",
      "[01-07 15:57:44][DEBUG] jax_fem: min of dofs = 300.0\n",
      "[01-07 15:57:44][DEBUG] jax_fem: Calling the row elimination solver for imposing Dirichlet B.C.\n",
      "[01-07 15:57:44][DEBUG] jax_fem: Start timing\n",
      "[01-07 15:57:44][DEBUG] jax_fem: Computing cell Jacobian and cell residual...\n",
      "[01-07 15:57:44][DEBUG] jax_fem: Function split_and_compute_cell took 0.0834 seconds\n",
      "[01-07 15:57:44][DEBUG] jax_fem: Creating sparse matrix with scipy...\n",
      "[01-07 15:57:44][DEBUG] jax_fem: Before, res l_2 = 13884.7879345959\n",
      "[01-07 15:57:44][DEBUG] jax_fem: Solving linear system...\n",
      "[01-07 15:57:44][DEBUG] jax_fem: JAX Solver - Solving linear system\n"
     ]
    },
    {
     "name": "stdout",
     "output_type": "stream",
     "text": [
      "\n",
      "Step 396, total step = 500, laser_x = 0.000521, Lx = 0.0005, laser ON = False\n"
     ]
    },
    {
     "name": "stderr",
     "output_type": "stream",
     "text": [
      "[01-07 15:57:44][DEBUG] jax_fem: JAX Solver - Finshed solving, res = 1.1196851714530713e-06\n",
      "[01-07 15:57:44][DEBUG] jax_fem: Computing cell Jacobian and cell residual...\n",
      "[01-07 15:57:44][DEBUG] jax_fem: Function split_and_compute_cell took 0.0393 seconds\n",
      "[01-07 15:57:44][DEBUG] jax_fem: Creating sparse matrix with scipy...\n",
      "[01-07 15:57:45][DEBUG] jax_fem: res l_2 = 1.1196851706370245e-06\n",
      "[01-07 15:57:45][DEBUG] jax_fem: Solving linear system...\n",
      "[01-07 15:57:45][DEBUG] jax_fem: JAX Solver - Solving linear system\n",
      "[01-07 15:57:45][DEBUG] jax_fem: JAX Solver - Finshed solving, res = 4.7209542289618795e-11\n",
      "[01-07 15:57:45][DEBUG] jax_fem: Computing cell Jacobian and cell residual...\n",
      "[01-07 15:57:45][DEBUG] jax_fem: Function split_and_compute_cell took 0.0279 seconds\n",
      "[01-07 15:57:45][DEBUG] jax_fem: Creating sparse matrix with scipy...\n",
      "[01-07 15:57:45][DEBUG] jax_fem: res l_2 = 4.7209475832061985e-11\n",
      "[01-07 15:57:45][INFO] jax_fem: Solve took 1.3659477233886719 [s]\n",
      "[01-07 15:57:45][DEBUG] jax_fem: max of dofs = 1629.3809208657233\n",
      "[01-07 15:57:45][DEBUG] jax_fem: min of dofs = 300.0\n",
      "[01-07 15:57:45][DEBUG] jax_fem: Calling the row elimination solver for imposing Dirichlet B.C.\n",
      "[01-07 15:57:45][DEBUG] jax_fem: Start timing\n",
      "[01-07 15:57:45][DEBUG] jax_fem: Computing cell Jacobian and cell residual...\n",
      "[01-07 15:57:45][DEBUG] jax_fem: Function split_and_compute_cell took 0.0465 seconds\n",
      "[01-07 15:57:45][DEBUG] jax_fem: Creating sparse matrix with scipy...\n",
      "[01-07 15:57:45][DEBUG] jax_fem: Before, res l_2 = 13884.784983018102\n",
      "[01-07 15:57:45][DEBUG] jax_fem: Solving linear system...\n",
      "[01-07 15:57:45][DEBUG] jax_fem: JAX Solver - Solving linear system\n"
     ]
    },
    {
     "name": "stdout",
     "output_type": "stream",
     "text": [
      "\n",
      "Step 397, total step = 500, laser_x = 0.000522, Lx = 0.0005, laser ON = False\n"
     ]
    },
    {
     "name": "stderr",
     "output_type": "stream",
     "text": [
      "[01-07 15:57:46][DEBUG] jax_fem: JAX Solver - Finshed solving, res = 1.0906837502638594e-06\n",
      "[01-07 15:57:46][DEBUG] jax_fem: Computing cell Jacobian and cell residual...\n",
      "[01-07 15:57:46][DEBUG] jax_fem: Function split_and_compute_cell took 0.0752 seconds\n",
      "[01-07 15:57:46][DEBUG] jax_fem: Creating sparse matrix with scipy...\n",
      "[01-07 15:57:46][DEBUG] jax_fem: res l_2 = 1.0906837484345784e-06\n",
      "[01-07 15:57:46][DEBUG] jax_fem: Solving linear system...\n",
      "[01-07 15:57:46][DEBUG] jax_fem: JAX Solver - Solving linear system\n",
      "[01-07 15:57:46][DEBUG] jax_fem: JAX Solver - Finshed solving, res = 4.7441153132882933e-11\n",
      "[01-07 15:57:46][DEBUG] jax_fem: Computing cell Jacobian and cell residual...\n",
      "[01-07 15:57:46][DEBUG] jax_fem: Function split_and_compute_cell took 0.0433 seconds\n",
      "[01-07 15:57:47][DEBUG] jax_fem: Creating sparse matrix with scipy...\n",
      "[01-07 15:57:47][DEBUG] jax_fem: res l_2 = 4.7441206692146335e-11\n",
      "[01-07 15:57:47][INFO] jax_fem: Solve took 1.3809638023376465 [s]\n",
      "[01-07 15:57:47][DEBUG] jax_fem: max of dofs = 1612.8358769726465\n",
      "[01-07 15:57:47][DEBUG] jax_fem: min of dofs = 300.0\n",
      "[01-07 15:57:47][DEBUG] jax_fem: Calling the row elimination solver for imposing Dirichlet B.C.\n",
      "[01-07 15:57:47][DEBUG] jax_fem: Start timing\n",
      "[01-07 15:57:47][DEBUG] jax_fem: Computing cell Jacobian and cell residual...\n",
      "[01-07 15:57:47][DEBUG] jax_fem: Function split_and_compute_cell took 0.0607 seconds\n",
      "[01-07 15:57:47][DEBUG] jax_fem: Creating sparse matrix with scipy...\n",
      "[01-07 15:57:47][DEBUG] jax_fem: Before, res l_2 = 13884.78208226167\n",
      "[01-07 15:57:47][DEBUG] jax_fem: Solving linear system...\n",
      "[01-07 15:57:47][DEBUG] jax_fem: JAX Solver - Solving linear system\n"
     ]
    },
    {
     "name": "stdout",
     "output_type": "stream",
     "text": [
      "\n",
      "Step 398, total step = 500, laser_x = 0.000523, Lx = 0.0005, laser ON = False\n"
     ]
    },
    {
     "name": "stderr",
     "output_type": "stream",
     "text": [
      "[01-07 15:57:47][DEBUG] jax_fem: JAX Solver - Finshed solving, res = 1.0625961630606757e-06\n",
      "[01-07 15:57:47][DEBUG] jax_fem: Computing cell Jacobian and cell residual...\n",
      "[01-07 15:57:47][DEBUG] jax_fem: Function split_and_compute_cell took 0.0376 seconds\n",
      "[01-07 15:57:47][DEBUG] jax_fem: Creating sparse matrix with scipy...\n",
      "[01-07 15:57:47][DEBUG] jax_fem: res l_2 = 1.0625961619231877e-06\n",
      "[01-07 15:57:47][DEBUG] jax_fem: Solving linear system...\n",
      "[01-07 15:57:47][DEBUG] jax_fem: JAX Solver - Solving linear system\n",
      "[01-07 15:57:48][DEBUG] jax_fem: JAX Solver - Finshed solving, res = 4.766089513667901e-11\n",
      "[01-07 15:57:48][DEBUG] jax_fem: Computing cell Jacobian and cell residual...\n",
      "[01-07 15:57:48][DEBUG] jax_fem: Function split_and_compute_cell took 0.0315 seconds\n",
      "[01-07 15:57:48][DEBUG] jax_fem: Creating sparse matrix with scipy...\n",
      "[01-07 15:57:48][DEBUG] jax_fem: res l_2 = 4.7660911261389554e-11\n",
      "[01-07 15:57:48][INFO] jax_fem: Solve took 1.1344704627990723 [s]\n",
      "[01-07 15:57:48][DEBUG] jax_fem: max of dofs = 1596.5129495219514\n",
      "[01-07 15:57:48][DEBUG] jax_fem: min of dofs = 300.0\n",
      "[01-07 15:57:48][DEBUG] jax_fem: Calling the row elimination solver for imposing Dirichlet B.C.\n",
      "[01-07 15:57:48][DEBUG] jax_fem: Start timing\n",
      "[01-07 15:57:48][DEBUG] jax_fem: Computing cell Jacobian and cell residual...\n",
      "[01-07 15:57:48][DEBUG] jax_fem: Function split_and_compute_cell took 0.0322 seconds\n",
      "[01-07 15:57:48][DEBUG] jax_fem: Creating sparse matrix with scipy...\n",
      "[01-07 15:57:48][DEBUG] jax_fem: Before, res l_2 = 13884.779231320119\n",
      "[01-07 15:57:48][DEBUG] jax_fem: Solving linear system...\n",
      "[01-07 15:57:48][DEBUG] jax_fem: JAX Solver - Solving linear system\n"
     ]
    },
    {
     "name": "stdout",
     "output_type": "stream",
     "text": [
      "\n",
      "Step 399, total step = 500, laser_x = 0.0005239999999999999, Lx = 0.0005, laser ON = False\n"
     ]
    },
    {
     "name": "stderr",
     "output_type": "stream",
     "text": [
      "[01-07 15:57:48][DEBUG] jax_fem: JAX Solver - Finshed solving, res = 1.0353891170935708e-06\n",
      "[01-07 15:57:48][DEBUG] jax_fem: Computing cell Jacobian and cell residual...\n",
      "[01-07 15:57:48][DEBUG] jax_fem: Function split_and_compute_cell took 0.0468 seconds\n",
      "[01-07 15:57:48][DEBUG] jax_fem: Creating sparse matrix with scipy...\n",
      "[01-07 15:57:48][DEBUG] jax_fem: res l_2 = 1.0353891154026831e-06\n",
      "[01-07 15:57:48][DEBUG] jax_fem: Solving linear system...\n",
      "[01-07 15:57:48][DEBUG] jax_fem: JAX Solver - Solving linear system\n",
      "[01-07 15:57:49][DEBUG] jax_fem: JAX Solver - Finshed solving, res = 4.786619400431441e-11\n",
      "[01-07 15:57:49][DEBUG] jax_fem: Computing cell Jacobian and cell residual...\n",
      "[01-07 15:57:49][DEBUG] jax_fem: Function split_and_compute_cell took 0.0308 seconds\n",
      "[01-07 15:57:49][DEBUG] jax_fem: Creating sparse matrix with scipy...\n",
      "[01-07 15:57:49][DEBUG] jax_fem: res l_2 = 4.786622970014384e-11\n",
      "[01-07 15:57:49][INFO] jax_fem: Solve took 1.1132709980010986 [s]\n",
      "[01-07 15:57:49][DEBUG] jax_fem: max of dofs = 1580.408893531509\n",
      "[01-07 15:57:49][DEBUG] jax_fem: min of dofs = 300.0\n",
      "[01-07 15:57:49][DEBUG] jax_fem: Calling the row elimination solver for imposing Dirichlet B.C.\n",
      "[01-07 15:57:49][DEBUG] jax_fem: Start timing\n",
      "[01-07 15:57:49][DEBUG] jax_fem: Computing cell Jacobian and cell residual...\n",
      "[01-07 15:57:49][DEBUG] jax_fem: Function split_and_compute_cell took 0.1455 seconds\n"
     ]
    },
    {
     "name": "stdout",
     "output_type": "stream",
     "text": [
      "\n",
      "Step 400, total step = 500, laser_x = 0.000525, Lx = 0.0005, laser ON = False\n"
     ]
    },
    {
     "name": "stderr",
     "output_type": "stream",
     "text": [
      "[01-07 15:57:49][DEBUG] jax_fem: Creating sparse matrix with scipy...\n",
      "[01-07 15:57:49][DEBUG] jax_fem: Before, res l_2 = 13884.776429209285\n",
      "[01-07 15:57:49][DEBUG] jax_fem: Solving linear system...\n",
      "[01-07 15:57:49][DEBUG] jax_fem: JAX Solver - Solving linear system\n",
      "[01-07 15:57:50][DEBUG] jax_fem: JAX Solver - Finshed solving, res = 1.0090303590697279e-06\n",
      "[01-07 15:57:50][DEBUG] jax_fem: Computing cell Jacobian and cell residual...\n",
      "[01-07 15:57:50][DEBUG] jax_fem: Function split_and_compute_cell took 0.0344 seconds\n",
      "[01-07 15:57:50][DEBUG] jax_fem: Creating sparse matrix with scipy...\n",
      "[01-07 15:57:50][DEBUG] jax_fem: res l_2 = 1.00903035831078e-06\n",
      "[01-07 15:57:50][DEBUG] jax_fem: Solving linear system...\n",
      "[01-07 15:57:50][DEBUG] jax_fem: JAX Solver - Solving linear system\n",
      "[01-07 15:57:50][DEBUG] jax_fem: JAX Solver - Finshed solving, res = 4.805535133208474e-11\n",
      "[01-07 15:57:50][DEBUG] jax_fem: Computing cell Jacobian and cell residual...\n",
      "[01-07 15:57:50][DEBUG] jax_fem: Function split_and_compute_cell took 0.0300 seconds\n",
      "[01-07 15:57:50][DEBUG] jax_fem: Creating sparse matrix with scipy...\n",
      "[01-07 15:57:50][DEBUG] jax_fem: res l_2 = 4.805525830005982e-11\n",
      "[01-07 15:57:50][INFO] jax_fem: Solve took 1.2098171710968018 [s]\n",
      "[01-07 15:57:50][DEBUG] jax_fem: max of dofs = 1564.520516017704\n",
      "[01-07 15:57:50][DEBUG] jax_fem: min of dofs = 300.0\n",
      "[01-07 15:57:50][DEBUG] jax_fem: Calling the row elimination solver for imposing Dirichlet B.C.\n",
      "[01-07 15:57:50][DEBUG] jax_fem: Start timing\n",
      "[01-07 15:57:50][DEBUG] jax_fem: Computing cell Jacobian and cell residual...\n",
      "[01-07 15:57:51][DEBUG] jax_fem: Function split_and_compute_cell took 0.3428 seconds\n",
      "[01-07 15:57:51][DEBUG] jax_fem: Creating sparse matrix with scipy...\n",
      "[01-07 15:57:51][DEBUG] jax_fem: Before, res l_2 = 0.32846475734142094\n",
      "[01-07 15:57:51][DEBUG] jax_fem: Solving linear system...\n",
      "[01-07 15:57:51][DEBUG] jax_fem: JAX Solver - Solving linear system\n",
      "[01-07 15:57:53][DEBUG] jax_fem: JAX Solver - Finshed solving, res = 8.805449365834536e-11\n",
      "[01-07 15:57:53][DEBUG] jax_fem: Computing cell Jacobian and cell residual...\n",
      "[01-07 15:57:53][DEBUG] jax_fem: Function split_and_compute_cell took 0.2795 seconds\n",
      "[01-07 15:57:53][DEBUG] jax_fem: Creating sparse matrix with scipy...\n",
      "[01-07 15:57:53][DEBUG] jax_fem: res l_2 = 0.020040487778523845\n",
      "[01-07 15:57:53][DEBUG] jax_fem: Solving linear system...\n",
      "[01-07 15:57:53][DEBUG] jax_fem: JAX Solver - Solving linear system\n",
      "[01-07 15:57:55][DEBUG] jax_fem: JAX Solver - Finshed solving, res = 6.421717400961019e-11\n",
      "[01-07 15:57:55][DEBUG] jax_fem: Computing cell Jacobian and cell residual...\n",
      "[01-07 15:57:56][DEBUG] jax_fem: Function split_and_compute_cell took 0.3603 seconds\n",
      "[01-07 15:57:56][DEBUG] jax_fem: Creating sparse matrix with scipy...\n",
      "[01-07 15:57:56][DEBUG] jax_fem: res l_2 = 0.003000629012474803\n",
      "[01-07 15:57:56][DEBUG] jax_fem: Solving linear system...\n",
      "[01-07 15:57:56][DEBUG] jax_fem: JAX Solver - Solving linear system\n",
      "[01-07 15:57:58][DEBUG] jax_fem: JAX Solver - Finshed solving, res = 9.430993597621151e-11\n",
      "[01-07 15:57:58][DEBUG] jax_fem: Computing cell Jacobian and cell residual...\n",
      "[01-07 15:57:58][DEBUG] jax_fem: Function split_and_compute_cell took 0.2865 seconds\n",
      "[01-07 15:57:58][DEBUG] jax_fem: Creating sparse matrix with scipy...\n",
      "[01-07 15:57:58][DEBUG] jax_fem: res l_2 = 4.383243394466452e-05\n",
      "[01-07 15:57:58][DEBUG] jax_fem: Solving linear system...\n",
      "[01-07 15:57:58][DEBUG] jax_fem: JAX Solver - Solving linear system\n",
      "[01-07 15:58:00][DEBUG] jax_fem: JAX Solver - Finshed solving, res = 7.72639206601306e-11\n",
      "[01-07 15:58:00][DEBUG] jax_fem: Computing cell Jacobian and cell residual...\n",
      "[01-07 15:58:00][DEBUG] jax_fem: Function split_and_compute_cell took 0.3332 seconds\n",
      "[01-07 15:58:00][DEBUG] jax_fem: Creating sparse matrix with scipy...\n",
      "[01-07 15:58:00][DEBUG] jax_fem: res l_2 = 1.690449111739451e-09\n",
      "[01-07 15:58:00][INFO] jax_fem: Solve took 9.863743305206299 [s]\n",
      "[01-07 15:58:00][DEBUG] jax_fem: max of dofs = 2.0106731863487535e-06\n",
      "[01-07 15:58:00][DEBUG] jax_fem: min of dofs = -1.7373530473421767e-06\n",
      "[01-07 15:58:00][DEBUG] jax_fem: Calling the row elimination solver for imposing Dirichlet B.C.\n",
      "[01-07 15:58:00][DEBUG] jax_fem: Start timing\n",
      "[01-07 15:58:00][DEBUG] jax_fem: Computing cell Jacobian and cell residual...\n",
      "[01-07 15:58:00][DEBUG] jax_fem: Function split_and_compute_cell took 0.0491 seconds\n",
      "[01-07 15:58:00][DEBUG] jax_fem: Creating sparse matrix with scipy...\n",
      "[01-07 15:58:00][DEBUG] jax_fem: Before, res l_2 = 13884.773674966787\n",
      "[01-07 15:58:00][DEBUG] jax_fem: Solving linear system...\n",
      "[01-07 15:58:00][DEBUG] jax_fem: JAX Solver - Solving linear system\n"
     ]
    },
    {
     "name": "stdout",
     "output_type": "stream",
     "text": [
      "max f_plus = 340743353.49605703, max stress_xx = 504979199.11855966\n",
      "\n",
      "Step 401, total step = 500, laser_x = 0.000526, Lx = 0.0005, laser ON = False\n"
     ]
    },
    {
     "name": "stderr",
     "output_type": "stream",
     "text": [
      "[01-07 15:58:01][DEBUG] jax_fem: JAX Solver - Finshed solving, res = 9.83488680770542e-07\n",
      "[01-07 15:58:01][DEBUG] jax_fem: Computing cell Jacobian and cell residual...\n",
      "[01-07 15:58:01][DEBUG] jax_fem: Function split_and_compute_cell took 0.0505 seconds\n",
      "[01-07 15:58:01][DEBUG] jax_fem: Creating sparse matrix with scipy...\n",
      "[01-07 15:58:01][DEBUG] jax_fem: res l_2 = 9.834886799922249e-07\n",
      "[01-07 15:58:01][INFO] jax_fem: Solve took 0.6688556671142578 [s]\n",
      "[01-07 15:58:01][DEBUG] jax_fem: max of dofs = 1548.8446959866933\n",
      "[01-07 15:58:01][DEBUG] jax_fem: min of dofs = 300.0\n",
      "[01-07 15:58:01][DEBUG] jax_fem: Calling the row elimination solver for imposing Dirichlet B.C.\n",
      "[01-07 15:58:01][DEBUG] jax_fem: Start timing\n",
      "[01-07 15:58:01][DEBUG] jax_fem: Computing cell Jacobian and cell residual...\n",
      "[01-07 15:58:01][DEBUG] jax_fem: Function split_and_compute_cell took 0.0428 seconds\n",
      "[01-07 15:58:01][DEBUG] jax_fem: Creating sparse matrix with scipy...\n",
      "[01-07 15:58:01][DEBUG] jax_fem: Before, res l_2 = 13884.770967650373\n",
      "[01-07 15:58:01][DEBUG] jax_fem: Solving linear system...\n",
      "[01-07 15:58:01][DEBUG] jax_fem: JAX Solver - Solving linear system\n"
     ]
    },
    {
     "name": "stdout",
     "output_type": "stream",
     "text": [
      "\n",
      "Step 402, total step = 500, laser_x = 0.0005269999999999999, Lx = 0.0005, laser ON = False\n"
     ]
    },
    {
     "name": "stderr",
     "output_type": "stream",
     "text": [
      "[01-07 15:58:02][DEBUG] jax_fem: JAX Solver - Finshed solving, res = 9.587337596579813e-07\n",
      "[01-07 15:58:02][DEBUG] jax_fem: Computing cell Jacobian and cell residual...\n",
      "[01-07 15:58:02][DEBUG] jax_fem: Function split_and_compute_cell took 0.0383 seconds\n",
      "[01-07 15:58:02][DEBUG] jax_fem: Creating sparse matrix with scipy...\n",
      "[01-07 15:58:02][DEBUG] jax_fem: res l_2 = 9.58733758493207e-07\n",
      "[01-07 15:58:02][INFO] jax_fem: Solve took 0.7122938632965088 [s]\n",
      "[01-07 15:58:02][DEBUG] jax_fem: max of dofs = 1533.3783126009018\n",
      "[01-07 15:58:02][DEBUG] jax_fem: min of dofs = 300.0\n",
      "[01-07 15:58:02][DEBUG] jax_fem: Calling the row elimination solver for imposing Dirichlet B.C.\n",
      "[01-07 15:58:02][DEBUG] jax_fem: Start timing\n",
      "[01-07 15:58:02][DEBUG] jax_fem: Computing cell Jacobian and cell residual...\n",
      "[01-07 15:58:02][DEBUG] jax_fem: Function split_and_compute_cell took 0.0400 seconds\n",
      "[01-07 15:58:02][DEBUG] jax_fem: Creating sparse matrix with scipy...\n",
      "[01-07 15:58:02][DEBUG] jax_fem: Before, res l_2 = 13884.768306341028\n",
      "[01-07 15:58:02][DEBUG] jax_fem: Solving linear system...\n",
      "[01-07 15:58:02][DEBUG] jax_fem: JAX Solver - Solving linear system\n"
     ]
    },
    {
     "name": "stdout",
     "output_type": "stream",
     "text": [
      "\n",
      "Step 403, total step = 500, laser_x = 0.000528, Lx = 0.0005, laser ON = False\n"
     ]
    },
    {
     "name": "stderr",
     "output_type": "stream",
     "text": [
      "[01-07 15:58:02][DEBUG] jax_fem: JAX Solver - Finshed solving, res = 9.347367047168963e-07\n",
      "[01-07 15:58:02][DEBUG] jax_fem: Computing cell Jacobian and cell residual...\n",
      "[01-07 15:58:02][DEBUG] jax_fem: Function split_and_compute_cell took 0.0454 seconds\n",
      "[01-07 15:58:02][DEBUG] jax_fem: Creating sparse matrix with scipy...\n",
      "[01-07 15:58:02][DEBUG] jax_fem: res l_2 = 9.34736703601624e-07\n",
      "[01-07 15:58:02][INFO] jax_fem: Solve took 0.6423695087432861 [s]\n",
      "[01-07 15:58:02][DEBUG] jax_fem: max of dofs = 1518.1183263773014\n",
      "[01-07 15:58:02][DEBUG] jax_fem: min of dofs = 300.0\n",
      "[01-07 15:58:02][DEBUG] jax_fem: Calling the row elimination solver for imposing Dirichlet B.C.\n",
      "[01-07 15:58:02][DEBUG] jax_fem: Start timing\n",
      "[01-07 15:58:02][DEBUG] jax_fem: Computing cell Jacobian and cell residual...\n",
      "[01-07 15:58:02][DEBUG] jax_fem: Function split_and_compute_cell took 0.0359 seconds\n",
      "[01-07 15:58:02][DEBUG] jax_fem: Creating sparse matrix with scipy...\n",
      "[01-07 15:58:02][DEBUG] jax_fem: Before, res l_2 = 13884.765690138498\n",
      "[01-07 15:58:02][DEBUG] jax_fem: Solving linear system...\n",
      "[01-07 15:58:02][DEBUG] jax_fem: JAX Solver - Solving linear system\n"
     ]
    },
    {
     "name": "stdout",
     "output_type": "stream",
     "text": [
      "\n",
      "Step 404, total step = 500, laser_x = 0.000529, Lx = 0.0005, laser ON = False\n"
     ]
    },
    {
     "name": "stderr",
     "output_type": "stream",
     "text": [
      "[01-07 15:58:03][DEBUG] jax_fem: JAX Solver - Finshed solving, res = 9.114693777619454e-07\n",
      "[01-07 15:58:03][DEBUG] jax_fem: Computing cell Jacobian and cell residual...\n",
      "[01-07 15:58:03][DEBUG] jax_fem: Function split_and_compute_cell took 0.0449 seconds\n",
      "[01-07 15:58:03][DEBUG] jax_fem: Creating sparse matrix with scipy...\n",
      "[01-07 15:58:03][DEBUG] jax_fem: res l_2 = 9.11469377500335e-07\n",
      "[01-07 15:58:03][INFO] jax_fem: Solve took 0.6179344654083252 [s]\n",
      "[01-07 15:58:03][DEBUG] jax_fem: max of dofs = 1503.0617451395033\n",
      "[01-07 15:58:03][DEBUG] jax_fem: min of dofs = 300.0\n",
      "[01-07 15:58:03][DEBUG] jax_fem: Calling the row elimination solver for imposing Dirichlet B.C.\n",
      "[01-07 15:58:03][DEBUG] jax_fem: Start timing\n",
      "[01-07 15:58:03][DEBUG] jax_fem: Computing cell Jacobian and cell residual...\n",
      "[01-07 15:58:03][DEBUG] jax_fem: Function split_and_compute_cell took 0.0323 seconds\n",
      "[01-07 15:58:03][DEBUG] jax_fem: Creating sparse matrix with scipy...\n",
      "[01-07 15:58:03][DEBUG] jax_fem: Before, res l_2 = 13884.763118162296\n",
      "[01-07 15:58:03][DEBUG] jax_fem: Solving linear system...\n",
      "[01-07 15:58:03][DEBUG] jax_fem: JAX Solver - Solving linear system\n"
     ]
    },
    {
     "name": "stdout",
     "output_type": "stream",
     "text": [
      "\n",
      "Step 405, total step = 500, laser_x = 0.00053, Lx = 0.0005, laser ON = False\n"
     ]
    },
    {
     "name": "stderr",
     "output_type": "stream",
     "text": [
      "[01-07 15:58:04][DEBUG] jax_fem: JAX Solver - Finshed solving, res = 8.889046812142205e-07\n",
      "[01-07 15:58:04][DEBUG] jax_fem: Computing cell Jacobian and cell residual...\n",
      "[01-07 15:58:04][DEBUG] jax_fem: Function split_and_compute_cell took 0.0372 seconds\n",
      "[01-07 15:58:04][DEBUG] jax_fem: Creating sparse matrix with scipy...\n",
      "[01-07 15:58:04][DEBUG] jax_fem: res l_2 = 8.889046813970921e-07\n",
      "[01-07 15:58:04][INFO] jax_fem: Solve took 0.6375517845153809 [s]\n",
      "[01-07 15:58:04][DEBUG] jax_fem: max of dofs = 1488.2056235900584\n",
      "[01-07 15:58:04][DEBUG] jax_fem: min of dofs = 300.0\n",
      "[01-07 15:58:04][DEBUG] jax_fem: Calling the row elimination solver for imposing Dirichlet B.C.\n",
      "[01-07 15:58:04][DEBUG] jax_fem: Start timing\n",
      "[01-07 15:58:04][DEBUG] jax_fem: Computing cell Jacobian and cell residual...\n",
      "[01-07 15:58:04][DEBUG] jax_fem: Function split_and_compute_cell took 0.0344 seconds\n",
      "[01-07 15:58:04][DEBUG] jax_fem: Creating sparse matrix with scipy...\n",
      "[01-07 15:58:04][DEBUG] jax_fem: Before, res l_2 = 13884.760589551226\n",
      "[01-07 15:58:04][DEBUG] jax_fem: Solving linear system...\n",
      "[01-07 15:58:04][DEBUG] jax_fem: JAX Solver - Solving linear system\n"
     ]
    },
    {
     "name": "stdout",
     "output_type": "stream",
     "text": [
      "\n",
      "Step 406, total step = 500, laser_x = 0.000531, Lx = 0.0005, laser ON = False\n"
     ]
    },
    {
     "name": "stderr",
     "output_type": "stream",
     "text": [
      "[01-07 15:58:04][DEBUG] jax_fem: JAX Solver - Finshed solving, res = 8.670165316132266e-07\n",
      "[01-07 15:58:04][DEBUG] jax_fem: Computing cell Jacobian and cell residual...\n",
      "[01-07 15:58:04][DEBUG] jax_fem: Function split_and_compute_cell took 0.0407 seconds\n",
      "[01-07 15:58:04][DEBUG] jax_fem: Creating sparse matrix with scipy...\n",
      "[01-07 15:58:04][DEBUG] jax_fem: res l_2 = 8.670165313012037e-07\n",
      "[01-07 15:58:04][INFO] jax_fem: Solve took 0.6227552890777588 [s]\n",
      "[01-07 15:58:04][DEBUG] jax_fem: max of dofs = 1473.5470627357797\n",
      "[01-07 15:58:04][DEBUG] jax_fem: min of dofs = 300.0\n",
      "[01-07 15:58:04][DEBUG] jax_fem: Calling the row elimination solver for imposing Dirichlet B.C.\n",
      "[01-07 15:58:04][DEBUG] jax_fem: Start timing\n",
      "[01-07 15:58:04][DEBUG] jax_fem: Computing cell Jacobian and cell residual...\n",
      "[01-07 15:58:04][DEBUG] jax_fem: Function split_and_compute_cell took 0.0349 seconds\n",
      "[01-07 15:58:04][DEBUG] jax_fem: Creating sparse matrix with scipy...\n",
      "[01-07 15:58:04][DEBUG] jax_fem: Before, res l_2 = 13884.75810346289\n",
      "[01-07 15:58:04][DEBUG] jax_fem: Solving linear system...\n",
      "[01-07 15:58:04][DEBUG] jax_fem: JAX Solver - Solving linear system\n"
     ]
    },
    {
     "name": "stdout",
     "output_type": "stream",
     "text": [
      "\n",
      "Step 407, total step = 500, laser_x = 0.0005319999999999999, Lx = 0.0005, laser ON = False\n"
     ]
    },
    {
     "name": "stderr",
     "output_type": "stream",
     "text": [
      "[01-07 15:58:05][DEBUG] jax_fem: JAX Solver - Finshed solving, res = 8.45779844712367e-07\n",
      "[01-07 15:58:05][DEBUG] jax_fem: Computing cell Jacobian and cell residual...\n",
      "[01-07 15:58:05][DEBUG] jax_fem: Function split_and_compute_cell took 0.0483 seconds\n",
      "[01-07 15:58:05][DEBUG] jax_fem: Creating sparse matrix with scipy...\n",
      "[01-07 15:58:05][DEBUG] jax_fem: res l_2 = 8.45779843766679e-07\n",
      "[01-07 15:58:05][INFO] jax_fem: Solve took 0.6159052848815918 [s]\n",
      "[01-07 15:58:05][DEBUG] jax_fem: max of dofs = 1459.083209229379\n",
      "[01-07 15:58:05][DEBUG] jax_fem: min of dofs = 300.0\n",
      "[01-07 15:58:05][DEBUG] jax_fem: Calling the row elimination solver for imposing Dirichlet B.C.\n",
      "[01-07 15:58:05][DEBUG] jax_fem: Start timing\n",
      "[01-07 15:58:05][DEBUG] jax_fem: Computing cell Jacobian and cell residual...\n",
      "[01-07 15:58:05][DEBUG] jax_fem: Function split_and_compute_cell took 0.0593 seconds\n",
      "[01-07 15:58:05][DEBUG] jax_fem: Creating sparse matrix with scipy...\n",
      "[01-07 15:58:05][DEBUG] jax_fem: Before, res l_2 = 13884.755659073255\n"
     ]
    },
    {
     "name": "stdout",
     "output_type": "stream",
     "text": [
      "\n",
      "Step 408, total step = 500, laser_x = 0.000533, Lx = 0.0005, laser ON = False\n"
     ]
    },
    {
     "name": "stderr",
     "output_type": "stream",
     "text": [
      "[01-07 15:58:05][DEBUG] jax_fem: Solving linear system...\n",
      "[01-07 15:58:05][DEBUG] jax_fem: JAX Solver - Solving linear system\n",
      "[01-07 15:58:06][DEBUG] jax_fem: JAX Solver - Finshed solving, res = 8.251705074504844e-07\n",
      "[01-07 15:58:06][DEBUG] jax_fem: Computing cell Jacobian and cell residual...\n",
      "[01-07 15:58:06][DEBUG] jax_fem: Function split_and_compute_cell took 0.0281 seconds\n",
      "[01-07 15:58:06][DEBUG] jax_fem: Creating sparse matrix with scipy...\n",
      "[01-07 15:58:06][DEBUG] jax_fem: res l_2 = 8.251705063375813e-07\n",
      "[01-07 15:58:06][INFO] jax_fem: Solve took 0.7408895492553711 [s]\n",
      "[01-07 15:58:06][DEBUG] jax_fem: max of dofs = 1444.8112546659625\n",
      "[01-07 15:58:06][DEBUG] jax_fem: min of dofs = 300.0\n",
      "[01-07 15:58:06][DEBUG] jax_fem: Calling the row elimination solver for imposing Dirichlet B.C.\n",
      "[01-07 15:58:06][DEBUG] jax_fem: Start timing\n",
      "[01-07 15:58:06][DEBUG] jax_fem: Computing cell Jacobian and cell residual...\n",
      "[01-07 15:58:06][DEBUG] jax_fem: Function split_and_compute_cell took 0.0298 seconds\n",
      "[01-07 15:58:06][DEBUG] jax_fem: Creating sparse matrix with scipy...\n",
      "[01-07 15:58:06][DEBUG] jax_fem: Before, res l_2 = 13884.753255576195\n",
      "[01-07 15:58:06][DEBUG] jax_fem: Solving linear system...\n",
      "[01-07 15:58:06][DEBUG] jax_fem: JAX Solver - Solving linear system\n"
     ]
    },
    {
     "name": "stdout",
     "output_type": "stream",
     "text": [
      "\n",
      "Step 409, total step = 500, laser_x = 0.000534, Lx = 0.0005, laser ON = False\n"
     ]
    },
    {
     "name": "stderr",
     "output_type": "stream",
     "text": [
      "[01-07 15:58:06][DEBUG] jax_fem: JAX Solver - Finshed solving, res = 8.051653622344373e-07\n",
      "[01-07 15:58:06][DEBUG] jax_fem: Computing cell Jacobian and cell residual...\n",
      "[01-07 15:58:06][DEBUG] jax_fem: Function split_and_compute_cell took 0.0362 seconds\n",
      "[01-07 15:58:06][DEBUG] jax_fem: Creating sparse matrix with scipy...\n",
      "[01-07 15:58:06][DEBUG] jax_fem: res l_2 = 8.051653607264962e-07\n",
      "[01-07 15:58:06][INFO] jax_fem: Solve took 0.5980472564697266 [s]\n",
      "[01-07 15:58:06][DEBUG] jax_fem: max of dofs = 1430.7284348576056\n",
      "[01-07 15:58:06][DEBUG] jax_fem: min of dofs = 300.0\n",
      "[01-07 15:58:06][DEBUG] jax_fem: Calling the row elimination solver for imposing Dirichlet B.C.\n",
      "[01-07 15:58:06][DEBUG] jax_fem: Start timing\n",
      "[01-07 15:58:06][DEBUG] jax_fem: Computing cell Jacobian and cell residual...\n",
      "[01-07 15:58:06][DEBUG] jax_fem: Function split_and_compute_cell took 0.0362 seconds\n",
      "[01-07 15:58:06][DEBUG] jax_fem: Creating sparse matrix with scipy...\n",
      "[01-07 15:58:06][DEBUG] jax_fem: Before, res l_2 = 13884.750892183061\n",
      "[01-07 15:58:06][DEBUG] jax_fem: Solving linear system...\n",
      "[01-07 15:58:06][DEBUG] jax_fem: JAX Solver - Solving linear system\n"
     ]
    },
    {
     "name": "stdout",
     "output_type": "stream",
     "text": [
      "\n",
      "Step 410, total step = 500, laser_x = 0.000535, Lx = 0.0005, laser ON = False\n"
     ]
    },
    {
     "name": "stderr",
     "output_type": "stream",
     "text": [
      "[01-07 15:58:07][DEBUG] jax_fem: JAX Solver - Finshed solving, res = 7.857421766879065e-07\n",
      "[01-07 15:58:07][DEBUG] jax_fem: Computing cell Jacobian and cell residual...\n",
      "[01-07 15:58:07][DEBUG] jax_fem: Function split_and_compute_cell took 0.0507 seconds\n",
      "[01-07 15:58:07][DEBUG] jax_fem: Creating sparse matrix with scipy...\n",
      "[01-07 15:58:07][DEBUG] jax_fem: res l_2 = 7.8574217609518e-07\n",
      "[01-07 15:58:07][INFO] jax_fem: Solve took 0.6423888206481934 [s]\n",
      "[01-07 15:58:07][DEBUG] jax_fem: max of dofs = 1416.832029100163\n",
      "[01-07 15:58:07][DEBUG] jax_fem: min of dofs = 300.0\n",
      "[01-07 15:58:07][DEBUG] jax_fem: Calling the row elimination solver for imposing Dirichlet B.C.\n",
      "[01-07 15:58:07][DEBUG] jax_fem: Start timing\n",
      "[01-07 15:58:07][DEBUG] jax_fem: Computing cell Jacobian and cell residual...\n",
      "[01-07 15:58:07][DEBUG] jax_fem: Function split_and_compute_cell took 0.2650 seconds\n",
      "[01-07 15:58:07][DEBUG] jax_fem: Creating sparse matrix with scipy...\n",
      "[01-07 15:58:07][DEBUG] jax_fem: Before, res l_2 = 0.2924554982328295\n",
      "[01-07 15:58:07][DEBUG] jax_fem: Solving linear system...\n",
      "[01-07 15:58:07][DEBUG] jax_fem: JAX Solver - Solving linear system\n",
      "[01-07 15:58:09][DEBUG] jax_fem: JAX Solver - Finshed solving, res = 9.263227392420847e-11\n",
      "[01-07 15:58:09][DEBUG] jax_fem: Computing cell Jacobian and cell residual...\n",
      "[01-07 15:58:10][DEBUG] jax_fem: Function split_and_compute_cell took 0.3211 seconds\n",
      "[01-07 15:58:10][DEBUG] jax_fem: Creating sparse matrix with scipy...\n",
      "[01-07 15:58:10][DEBUG] jax_fem: res l_2 = 0.018427147968266295\n",
      "[01-07 15:58:10][DEBUG] jax_fem: Solving linear system...\n",
      "[01-07 15:58:10][DEBUG] jax_fem: JAX Solver - Solving linear system\n",
      "[01-07 15:58:12][DEBUG] jax_fem: JAX Solver - Finshed solving, res = 7.969771382504664e-11\n",
      "[01-07 15:58:12][DEBUG] jax_fem: Computing cell Jacobian and cell residual...\n",
      "[01-07 15:58:12][DEBUG] jax_fem: Function split_and_compute_cell took 0.2906 seconds\n",
      "[01-07 15:58:12][DEBUG] jax_fem: Creating sparse matrix with scipy...\n",
      "[01-07 15:58:12][DEBUG] jax_fem: res l_2 = 0.002030135090447547\n",
      "[01-07 15:58:12][DEBUG] jax_fem: Solving linear system...\n",
      "[01-07 15:58:12][DEBUG] jax_fem: JAX Solver - Solving linear system\n",
      "[01-07 15:58:14][DEBUG] jax_fem: JAX Solver - Finshed solving, res = 9.928099375215205e-11\n",
      "[01-07 15:58:14][DEBUG] jax_fem: Computing cell Jacobian and cell residual...\n",
      "[01-07 15:58:14][DEBUG] jax_fem: Function split_and_compute_cell took 0.3127 seconds\n",
      "[01-07 15:58:14][DEBUG] jax_fem: Creating sparse matrix with scipy...\n",
      "[01-07 15:58:14][DEBUG] jax_fem: res l_2 = 2.8843037991593962e-05\n",
      "[01-07 15:58:14][DEBUG] jax_fem: Solving linear system...\n",
      "[01-07 15:58:14][DEBUG] jax_fem: JAX Solver - Solving linear system\n",
      "[01-07 15:58:17][DEBUG] jax_fem: JAX Solver - Finshed solving, res = 7.665528936739869e-11\n",
      "[01-07 15:58:17][DEBUG] jax_fem: Computing cell Jacobian and cell residual...\n",
      "[01-07 15:58:17][DEBUG] jax_fem: Function split_and_compute_cell took 0.2440 seconds\n",
      "[01-07 15:58:17][DEBUG] jax_fem: Creating sparse matrix with scipy...\n",
      "[01-07 15:58:17][DEBUG] jax_fem: res l_2 = 6.809233163502749e-10\n",
      "[01-07 15:58:17][INFO] jax_fem: Solve took 10.159735918045044 [s]\n",
      "[01-07 15:58:17][DEBUG] jax_fem: max of dofs = 2.0417220953164037e-06\n",
      "[01-07 15:58:17][DEBUG] jax_fem: min of dofs = -1.778656487802064e-06\n",
      "[01-07 15:58:17][DEBUG] jax_fem: Calling the row elimination solver for imposing Dirichlet B.C.\n",
      "[01-07 15:58:17][DEBUG] jax_fem: Start timing\n",
      "[01-07 15:58:17][DEBUG] jax_fem: Computing cell Jacobian and cell residual...\n",
      "[01-07 15:58:17][DEBUG] jax_fem: Function split_and_compute_cell took 0.0298 seconds\n",
      "[01-07 15:58:17][DEBUG] jax_fem: Creating sparse matrix with scipy...\n",
      "[01-07 15:58:17][DEBUG] jax_fem: Before, res l_2 = 13884.748568122272\n",
      "[01-07 15:58:17][DEBUG] jax_fem: Solving linear system...\n",
      "[01-07 15:58:17][DEBUG] jax_fem: JAX Solver - Solving linear system\n"
     ]
    },
    {
     "name": "stdout",
     "output_type": "stream",
     "text": [
      "max f_plus = 307247541.1856066, max stress_xx = 512613949.46747524\n",
      "\n",
      "Step 411, total step = 500, laser_x = 0.000536, Lx = 0.0005, laser ON = False\n"
     ]
    },
    {
     "name": "stderr",
     "output_type": "stream",
     "text": [
      "[01-07 15:58:18][DEBUG] jax_fem: JAX Solver - Finshed solving, res = 7.668796259545762e-07\n",
      "[01-07 15:58:18][DEBUG] jax_fem: Computing cell Jacobian and cell residual...\n",
      "[01-07 15:58:18][DEBUG] jax_fem: Function split_and_compute_cell took 0.0598 seconds\n",
      "[01-07 15:58:18][DEBUG] jax_fem: Creating sparse matrix with scipy...\n",
      "[01-07 15:58:18][DEBUG] jax_fem: res l_2 = 7.668796254004001e-07\n",
      "[01-07 15:58:18][INFO] jax_fem: Solve took 0.6577613353729248 [s]\n",
      "[01-07 15:58:18][DEBUG] jax_fem: max of dofs = 1403.1193594407962\n",
      "[01-07 15:58:18][DEBUG] jax_fem: min of dofs = 300.0\n",
      "[01-07 15:58:18][DEBUG] jax_fem: Calling the row elimination solver for imposing Dirichlet B.C.\n",
      "[01-07 15:58:18][DEBUG] jax_fem: Start timing\n",
      "[01-07 15:58:18][DEBUG] jax_fem: Computing cell Jacobian and cell residual...\n",
      "[01-07 15:58:18][DEBUG] jax_fem: Function split_and_compute_cell took 0.0450 seconds\n",
      "[01-07 15:58:18][DEBUG] jax_fem: Creating sparse matrix with scipy...\n",
      "[01-07 15:58:18][DEBUG] jax_fem: Before, res l_2 = 13884.746282638898\n",
      "[01-07 15:58:18][DEBUG] jax_fem: Solving linear system...\n",
      "[01-07 15:58:18][DEBUG] jax_fem: JAX Solver - Solving linear system\n"
     ]
    },
    {
     "name": "stdout",
     "output_type": "stream",
     "text": [
      "\n",
      "Step 412, total step = 500, laser_x = 0.0005369999999999999, Lx = 0.0005, laser ON = False\n"
     ]
    },
    {
     "name": "stderr",
     "output_type": "stream",
     "text": [
      "[01-07 15:58:18][DEBUG] jax_fem: JAX Solver - Finshed solving, res = 7.485572647060528e-07\n",
      "[01-07 15:58:18][DEBUG] jax_fem: Computing cell Jacobian and cell residual...\n",
      "[01-07 15:58:18][DEBUG] jax_fem: Function split_and_compute_cell took 0.0491 seconds\n",
      "[01-07 15:58:18][DEBUG] jax_fem: Creating sparse matrix with scipy...\n",
      "[01-07 15:58:19][DEBUG] jax_fem: res l_2 = 7.485572646854356e-07\n",
      "[01-07 15:58:19][INFO] jax_fem: Solve took 0.6808209419250488 [s]\n",
      "[01-07 15:58:19][DEBUG] jax_fem: max of dofs = 1389.5877899513457\n",
      "[01-07 15:58:19][DEBUG] jax_fem: min of dofs = 300.0\n",
      "[01-07 15:58:19][DEBUG] jax_fem: Calling the row elimination solver for imposing Dirichlet B.C.\n",
      "[01-07 15:58:19][DEBUG] jax_fem: Start timing\n",
      "[01-07 15:58:19][DEBUG] jax_fem: Computing cell Jacobian and cell residual...\n",
      "[01-07 15:58:19][DEBUG] jax_fem: Function split_and_compute_cell took 0.1373 seconds\n"
     ]
    },
    {
     "name": "stdout",
     "output_type": "stream",
     "text": [
      "\n",
      "Step 413, total step = 500, laser_x = 0.000538, Lx = 0.0005, laser ON = False\n"
     ]
    },
    {
     "name": "stderr",
     "output_type": "stream",
     "text": [
      "[01-07 15:58:19][DEBUG] jax_fem: Creating sparse matrix with scipy...\n",
      "[01-07 15:58:19][DEBUG] jax_fem: Before, res l_2 = 13884.744034994266\n",
      "[01-07 15:58:19][DEBUG] jax_fem: Solving linear system...\n",
      "[01-07 15:58:19][DEBUG] jax_fem: JAX Solver - Solving linear system\n",
      "[01-07 15:58:19][DEBUG] jax_fem: JAX Solver - Finshed solving, res = 7.307554983676486e-07\n",
      "[01-07 15:58:19][DEBUG] jax_fem: Computing cell Jacobian and cell residual...\n",
      "[01-07 15:58:19][DEBUG] jax_fem: Function split_and_compute_cell took 0.0299 seconds\n",
      "[01-07 15:58:19][DEBUG] jax_fem: Creating sparse matrix with scipy...\n",
      "[01-07 15:58:19][DEBUG] jax_fem: res l_2 = 7.307554981976706e-07\n",
      "[01-07 15:58:19][INFO] jax_fem: Solve took 0.7412281036376953 [s]\n",
      "[01-07 15:58:19][DEBUG] jax_fem: max of dofs = 1376.2347260104932\n",
      "[01-07 15:58:19][DEBUG] jax_fem: min of dofs = 300.0\n",
      "[01-07 15:58:19][DEBUG] jax_fem: Calling the row elimination solver for imposing Dirichlet B.C.\n",
      "[01-07 15:58:19][DEBUG] jax_fem: Start timing\n",
      "[01-07 15:58:19][DEBUG] jax_fem: Computing cell Jacobian and cell residual...\n",
      "[01-07 15:58:19][DEBUG] jax_fem: Function split_and_compute_cell took 0.0319 seconds\n",
      "[01-07 15:58:19][DEBUG] jax_fem: Creating sparse matrix with scipy...\n",
      "[01-07 15:58:19][DEBUG] jax_fem: Before, res l_2 = 13884.74182446558\n",
      "[01-07 15:58:19][DEBUG] jax_fem: Solving linear system...\n",
      "[01-07 15:58:19][DEBUG] jax_fem: JAX Solver - Solving linear system\n"
     ]
    },
    {
     "name": "stdout",
     "output_type": "stream",
     "text": [
      "\n",
      "Step 414, total step = 500, laser_x = 0.000539, Lx = 0.0005, laser ON = False\n"
     ]
    },
    {
     "name": "stderr",
     "output_type": "stream",
     "text": [
      "[01-07 15:58:20][DEBUG] jax_fem: JAX Solver - Finshed solving, res = 7.134555603844896e-07\n",
      "[01-07 15:58:20][DEBUG] jax_fem: Computing cell Jacobian and cell residual...\n",
      "[01-07 15:58:20][DEBUG] jax_fem: Function split_and_compute_cell took 0.0334 seconds\n",
      "[01-07 15:58:20][DEBUG] jax_fem: Creating sparse matrix with scipy...\n",
      "[01-07 15:58:20][DEBUG] jax_fem: res l_2 = 7.134555606637971e-07\n",
      "[01-07 15:58:20][INFO] jax_fem: Solve took 0.6238498687744141 [s]\n",
      "[01-07 15:58:20][DEBUG] jax_fem: max of dofs = 1363.0576135965155\n",
      "[01-07 15:58:20][DEBUG] jax_fem: min of dofs = 300.0\n",
      "[01-07 15:58:20][DEBUG] jax_fem: Calling the row elimination solver for imposing Dirichlet B.C.\n",
      "[01-07 15:58:20][DEBUG] jax_fem: Start timing\n",
      "[01-07 15:58:20][DEBUG] jax_fem: Computing cell Jacobian and cell residual...\n",
      "[01-07 15:58:20][DEBUG] jax_fem: Function split_and_compute_cell took 0.0296 seconds\n",
      "[01-07 15:58:20][DEBUG] jax_fem: Creating sparse matrix with scipy...\n",
      "[01-07 15:58:20][DEBUG] jax_fem: Before, res l_2 = 13884.739650345542\n",
      "[01-07 15:58:20][DEBUG] jax_fem: Solving linear system...\n",
      "[01-07 15:58:20][DEBUG] jax_fem: JAX Solver - Solving linear system\n"
     ]
    },
    {
     "name": "stdout",
     "output_type": "stream",
     "text": [
      "\n",
      "Step 415, total step = 500, laser_x = 0.00054, Lx = 0.0005, laser ON = False\n"
     ]
    },
    {
     "name": "stderr",
     "output_type": "stream",
     "text": [
      "[01-07 15:58:20][DEBUG] jax_fem: JAX Solver - Finshed solving, res = 6.966394837528019e-07\n",
      "[01-07 15:58:20][DEBUG] jax_fem: Computing cell Jacobian and cell residual...\n",
      "[01-07 15:58:20][DEBUG] jax_fem: Function split_and_compute_cell took 0.0357 seconds\n",
      "[01-07 15:58:20][DEBUG] jax_fem: Creating sparse matrix with scipy...\n",
      "[01-07 15:58:21][DEBUG] jax_fem: res l_2 = 6.966394834029076e-07\n",
      "[01-07 15:58:21][INFO] jax_fem: Solve took 0.593951940536499 [s]\n",
      "[01-07 15:58:21][DEBUG] jax_fem: max of dofs = 1350.0539385915522\n",
      "[01-07 15:58:21][DEBUG] jax_fem: min of dofs = 300.0\n",
      "[01-07 15:58:21][DEBUG] jax_fem: Calling the row elimination solver for imposing Dirichlet B.C.\n",
      "[01-07 15:58:21][DEBUG] jax_fem: Start timing\n",
      "[01-07 15:58:21][DEBUG] jax_fem: Computing cell Jacobian and cell residual...\n",
      "[01-07 15:58:21][DEBUG] jax_fem: Function split_and_compute_cell took 0.0341 seconds\n",
      "[01-07 15:58:21][DEBUG] jax_fem: Creating sparse matrix with scipy...\n",
      "[01-07 15:58:21][DEBUG] jax_fem: Before, res l_2 = 13884.737511941976\n",
      "[01-07 15:58:21][DEBUG] jax_fem: Solving linear system...\n",
      "[01-07 15:58:21][DEBUG] jax_fem: JAX Solver - Solving linear system\n"
     ]
    },
    {
     "name": "stdout",
     "output_type": "stream",
     "text": [
      "\n",
      "Step 416, total step = 500, laser_x = 0.000541, Lx = 0.0005, laser ON = False\n"
     ]
    },
    {
     "name": "stderr",
     "output_type": "stream",
     "text": [
      "[01-07 15:58:21][DEBUG] jax_fem: JAX Solver - Finshed solving, res = 6.802900710122497e-07\n",
      "[01-07 15:58:21][DEBUG] jax_fem: Computing cell Jacobian and cell residual...\n",
      "[01-07 15:58:21][DEBUG] jax_fem: Function split_and_compute_cell took 0.0467 seconds\n",
      "[01-07 15:58:21][DEBUG] jax_fem: Creating sparse matrix with scipy...\n",
      "[01-07 15:58:21][DEBUG] jax_fem: res l_2 = 6.802900700927134e-07\n",
      "[01-07 15:58:21][INFO] jax_fem: Solve took 0.6826424598693848 [s]\n",
      "[01-07 15:58:21][DEBUG] jax_fem: max of dofs = 1337.221226097912\n",
      "[01-07 15:58:21][DEBUG] jax_fem: min of dofs = 300.0\n",
      "[01-07 15:58:21][DEBUG] jax_fem: Calling the row elimination solver for imposing Dirichlet B.C.\n",
      "[01-07 15:58:21][DEBUG] jax_fem: Start timing\n",
      "[01-07 15:58:21][DEBUG] jax_fem: Computing cell Jacobian and cell residual...\n",
      "[01-07 15:58:21][DEBUG] jax_fem: Function split_and_compute_cell took 0.0319 seconds\n",
      "[01-07 15:58:21][DEBUG] jax_fem: Creating sparse matrix with scipy...\n",
      "[01-07 15:58:21][DEBUG] jax_fem: Before, res l_2 = 13884.735408577491\n",
      "[01-07 15:58:21][DEBUG] jax_fem: Solving linear system...\n",
      "[01-07 15:58:21][DEBUG] jax_fem: JAX Solver - Solving linear system\n"
     ]
    },
    {
     "name": "stdout",
     "output_type": "stream",
     "text": [
      "\n",
      "Step 417, total step = 500, laser_x = 0.000542, Lx = 0.0005, laser ON = False\n"
     ]
    },
    {
     "name": "stderr",
     "output_type": "stream",
     "text": [
      "[01-07 15:58:22][DEBUG] jax_fem: JAX Solver - Finshed solving, res = 6.643908676813747e-07\n",
      "[01-07 15:58:22][DEBUG] jax_fem: Computing cell Jacobian and cell residual...\n",
      "[01-07 15:58:22][DEBUG] jax_fem: Function split_and_compute_cell took 0.0330 seconds\n",
      "[01-07 15:58:22][DEBUG] jax_fem: Creating sparse matrix with scipy...\n",
      "[01-07 15:58:22][DEBUG] jax_fem: res l_2 = 6.64390867833964e-07\n",
      "[01-07 15:58:22][INFO] jax_fem: Solve took 0.5665688514709473 [s]\n",
      "[01-07 15:58:22][DEBUG] jax_fem: max of dofs = 1324.5570397665838\n",
      "[01-07 15:58:22][DEBUG] jax_fem: min of dofs = 300.0\n",
      "[01-07 15:58:22][DEBUG] jax_fem: Calling the row elimination solver for imposing Dirichlet B.C.\n",
      "[01-07 15:58:22][DEBUG] jax_fem: Start timing\n",
      "[01-07 15:58:22][DEBUG] jax_fem: Computing cell Jacobian and cell residual...\n",
      "[01-07 15:58:22][DEBUG] jax_fem: Function split_and_compute_cell took 0.0322 seconds\n",
      "[01-07 15:58:22][DEBUG] jax_fem: Creating sparse matrix with scipy...\n",
      "[01-07 15:58:22][DEBUG] jax_fem: Before, res l_2 = 13884.733339589118\n",
      "[01-07 15:58:22][DEBUG] jax_fem: Solving linear system...\n",
      "[01-07 15:58:22][DEBUG] jax_fem: JAX Solver - Solving linear system\n"
     ]
    },
    {
     "name": "stdout",
     "output_type": "stream",
     "text": [
      "\n",
      "Step 418, total step = 500, laser_x = 0.000543, Lx = 0.0005, laser ON = False\n"
     ]
    },
    {
     "name": "stderr",
     "output_type": "stream",
     "text": [
      "[01-07 15:58:22][DEBUG] jax_fem: JAX Solver - Finshed solving, res = 6.489261360592862e-07\n",
      "[01-07 15:58:22][DEBUG] jax_fem: Computing cell Jacobian and cell residual...\n",
      "[01-07 15:58:22][DEBUG] jax_fem: Function split_and_compute_cell took 0.0385 seconds\n",
      "[01-07 15:58:22][DEBUG] jax_fem: Creating sparse matrix with scipy...\n",
      "[01-07 15:58:22][DEBUG] jax_fem: res l_2 = 6.48926135090743e-07\n",
      "[01-07 15:58:22][INFO] jax_fem: Solve took 0.6355042457580566 [s]\n",
      "[01-07 15:58:22][DEBUG] jax_fem: max of dofs = 1312.0589811380344\n",
      "[01-07 15:58:22][DEBUG] jax_fem: min of dofs = 300.0\n",
      "[01-07 15:58:22][DEBUG] jax_fem: Calling the row elimination solver for imposing Dirichlet B.C.\n",
      "[01-07 15:58:22][DEBUG] jax_fem: Start timing\n",
      "[01-07 15:58:22][DEBUG] jax_fem: Computing cell Jacobian and cell residual...\n",
      "[01-07 15:58:23][DEBUG] jax_fem: Function split_and_compute_cell took 0.0659 seconds\n",
      "[01-07 15:58:23][DEBUG] jax_fem: Creating sparse matrix with scipy...\n",
      "[01-07 15:58:23][DEBUG] jax_fem: Before, res l_2 = 13884.73130432798\n",
      "[01-07 15:58:23][DEBUG] jax_fem: Solving linear system...\n",
      "[01-07 15:58:23][DEBUG] jax_fem: JAX Solver - Solving linear system\n"
     ]
    },
    {
     "name": "stdout",
     "output_type": "stream",
     "text": [
      "\n",
      "Step 419, total step = 500, laser_x = 0.000544, Lx = 0.0005, laser ON = False\n"
     ]
    },
    {
     "name": "stderr",
     "output_type": "stream",
     "text": [
      "[01-07 15:58:23][DEBUG] jax_fem: JAX Solver - Finshed solving, res = 6.338808232151036e-07\n",
      "[01-07 15:58:23][DEBUG] jax_fem: Computing cell Jacobian and cell residual...\n",
      "[01-07 15:58:23][DEBUG] jax_fem: Function split_and_compute_cell took 0.0377 seconds\n",
      "[01-07 15:58:23][DEBUG] jax_fem: Creating sparse matrix with scipy...\n",
      "[01-07 15:58:23][DEBUG] jax_fem: res l_2 = 6.33880821709903e-07\n",
      "[01-07 15:58:23][INFO] jax_fem: Solve took 0.6360316276550293 [s]\n",
      "[01-07 15:58:23][DEBUG] jax_fem: max of dofs = 1299.7246889951587\n",
      "[01-07 15:58:23][DEBUG] jax_fem: min of dofs = 300.0\n",
      "[01-07 15:58:23][DEBUG] jax_fem: Calling the row elimination solver for imposing Dirichlet B.C.\n",
      "[01-07 15:58:23][DEBUG] jax_fem: Start timing\n",
      "[01-07 15:58:23][DEBUG] jax_fem: Computing cell Jacobian and cell residual...\n",
      "[01-07 15:58:23][DEBUG] jax_fem: Function split_and_compute_cell took 0.0351 seconds\n",
      "[01-07 15:58:23][DEBUG] jax_fem: Creating sparse matrix with scipy...\n",
      "[01-07 15:58:23][DEBUG] jax_fem: Before, res l_2 = 13884.729302158952\n",
      "[01-07 15:58:23][DEBUG] jax_fem: Solving linear system...\n",
      "[01-07 15:58:23][DEBUG] jax_fem: JAX Solver - Solving linear system\n"
     ]
    },
    {
     "name": "stdout",
     "output_type": "stream",
     "text": [
      "\n",
      "Step 420, total step = 500, laser_x = 0.0005449999999999999, Lx = 0.0005, laser ON = False\n"
     ]
    },
    {
     "name": "stderr",
     "output_type": "stream",
     "text": [
      "[01-07 15:58:24][DEBUG] jax_fem: JAX Solver - Finshed solving, res = 6.192405377918385e-07\n",
      "[01-07 15:58:24][DEBUG] jax_fem: Computing cell Jacobian and cell residual...\n",
      "[01-07 15:58:24][DEBUG] jax_fem: Function split_and_compute_cell took 0.0358 seconds\n",
      "[01-07 15:58:24][DEBUG] jax_fem: Creating sparse matrix with scipy...\n",
      "[01-07 15:58:24][DEBUG] jax_fem: res l_2 = 6.192405380029403e-07\n",
      "[01-07 15:58:24][INFO] jax_fem: Solve took 0.663301944732666 [s]\n",
      "[01-07 15:58:24][DEBUG] jax_fem: max of dofs = 1287.5518387282716\n",
      "[01-07 15:58:24][DEBUG] jax_fem: min of dofs = 300.0\n",
      "[01-07 15:58:24][DEBUG] jax_fem: Calling the row elimination solver for imposing Dirichlet B.C.\n",
      "[01-07 15:58:24][DEBUG] jax_fem: Start timing\n",
      "[01-07 15:58:24][DEBUG] jax_fem: Computing cell Jacobian and cell residual...\n",
      "[01-07 15:58:24][DEBUG] jax_fem: Function split_and_compute_cell took 0.2636 seconds\n",
      "[01-07 15:58:24][DEBUG] jax_fem: Creating sparse matrix with scipy...\n",
      "[01-07 15:58:24][DEBUG] jax_fem: Before, res l_2 = 0.2606937478767065\n",
      "[01-07 15:58:24][DEBUG] jax_fem: Solving linear system...\n",
      "[01-07 15:58:24][DEBUG] jax_fem: JAX Solver - Solving linear system\n",
      "[01-07 15:58:26][DEBUG] jax_fem: JAX Solver - Finshed solving, res = 4.510175745716263e-11\n",
      "[01-07 15:58:26][DEBUG] jax_fem: Computing cell Jacobian and cell residual...\n",
      "[01-07 15:58:26][DEBUG] jax_fem: Function split_and_compute_cell took 0.2782 seconds\n",
      "[01-07 15:58:26][DEBUG] jax_fem: Creating sparse matrix with scipy...\n",
      "[01-07 15:58:27][DEBUG] jax_fem: res l_2 = 0.016949970011264182\n",
      "[01-07 15:58:27][DEBUG] jax_fem: Solving linear system...\n",
      "[01-07 15:58:27][DEBUG] jax_fem: JAX Solver - Solving linear system\n",
      "[01-07 15:58:29][DEBUG] jax_fem: JAX Solver - Finshed solving, res = 9.773484317809945e-11\n",
      "[01-07 15:58:29][DEBUG] jax_fem: Computing cell Jacobian and cell residual...\n",
      "[01-07 15:58:29][DEBUG] jax_fem: Function split_and_compute_cell took 0.3171 seconds\n",
      "[01-07 15:58:29][DEBUG] jax_fem: Creating sparse matrix with scipy...\n",
      "[01-07 15:58:29][DEBUG] jax_fem: res l_2 = 0.0017830747688068755\n",
      "[01-07 15:58:29][DEBUG] jax_fem: Solving linear system...\n",
      "[01-07 15:58:29][DEBUG] jax_fem: JAX Solver - Solving linear system\n",
      "[01-07 15:58:31][DEBUG] jax_fem: JAX Solver - Finshed solving, res = 9.638603439450597e-11\n",
      "[01-07 15:58:31][DEBUG] jax_fem: Computing cell Jacobian and cell residual...\n",
      "[01-07 15:58:31][DEBUG] jax_fem: Function split_and_compute_cell took 0.2595 seconds\n",
      "[01-07 15:58:31][DEBUG] jax_fem: Creating sparse matrix with scipy...\n",
      "[01-07 15:58:31][DEBUG] jax_fem: res l_2 = 1.9367273826097613e-05\n",
      "[01-07 15:58:31][DEBUG] jax_fem: Solving linear system...\n",
      "[01-07 15:58:31][DEBUG] jax_fem: JAX Solver - Solving linear system\n",
      "[01-07 15:58:33][DEBUG] jax_fem: JAX Solver - Finshed solving, res = 4.671792752751794e-11\n",
      "[01-07 15:58:33][DEBUG] jax_fem: Computing cell Jacobian and cell residual...\n",
      "[01-07 15:58:33][DEBUG] jax_fem: Function split_and_compute_cell took 0.2930 seconds\n",
      "[01-07 15:58:33][DEBUG] jax_fem: Creating sparse matrix with scipy...\n",
      "[01-07 15:58:33][DEBUG] jax_fem: res l_2 = 3.7579583104332076e-10\n",
      "[01-07 15:58:33][INFO] jax_fem: Solve took 9.364247560501099 [s]\n",
      "[01-07 15:58:33][DEBUG] jax_fem: max of dofs = 2.068051602751712e-06\n",
      "[01-07 15:58:33][DEBUG] jax_fem: min of dofs = -1.817951026693276e-06\n",
      "[01-07 15:58:33][DEBUG] jax_fem: Calling the row elimination solver for imposing Dirichlet B.C.\n",
      "[01-07 15:58:33][DEBUG] jax_fem: Start timing\n",
      "[01-07 15:58:33][DEBUG] jax_fem: Computing cell Jacobian and cell residual...\n",
      "[01-07 15:58:33][DEBUG] jax_fem: Function split_and_compute_cell took 0.0316 seconds\n",
      "[01-07 15:58:33][DEBUG] jax_fem: Creating sparse matrix with scipy...\n",
      "[01-07 15:58:34][DEBUG] jax_fem: Before, res l_2 = 13884.727332460358\n",
      "[01-07 15:58:34][DEBUG] jax_fem: Solving linear system...\n"
     ]
    },
    {
     "name": "stdout",
     "output_type": "stream",
     "text": [
      "max f_plus = 270957844.7139564, max stress_xx = 519077658.02431357\n",
      "\n",
      "Step 421, total step = 500, laser_x = 0.000546, Lx = 0.0005, laser ON = False\n"
     ]
    },
    {
     "name": "stderr",
     "output_type": "stream",
     "text": [
      "[01-07 15:58:34][DEBUG] jax_fem: JAX Solver - Solving linear system\n",
      "[01-07 15:58:34][DEBUG] jax_fem: JAX Solver - Finshed solving, res = 6.049915200854615e-07\n",
      "[01-07 15:58:34][DEBUG] jax_fem: Computing cell Jacobian and cell residual...\n",
      "[01-07 15:58:34][DEBUG] jax_fem: Function split_and_compute_cell took 0.0312 seconds\n",
      "[01-07 15:58:34][DEBUG] jax_fem: Creating sparse matrix with scipy...\n",
      "[01-07 15:58:34][DEBUG] jax_fem: res l_2 = 6.049915203768432e-07\n",
      "[01-07 15:58:34][INFO] jax_fem: Solve took 0.6952204704284668 [s]\n",
      "[01-07 15:58:34][DEBUG] jax_fem: max of dofs = 1275.5381417119606\n",
      "[01-07 15:58:34][DEBUG] jax_fem: min of dofs = 300.0\n",
      "[01-07 15:58:34][DEBUG] jax_fem: Calling the row elimination solver for imposing Dirichlet B.C.\n",
      "[01-07 15:58:34][DEBUG] jax_fem: Start timing\n",
      "[01-07 15:58:34][DEBUG] jax_fem: Computing cell Jacobian and cell residual...\n",
      "[01-07 15:58:34][DEBUG] jax_fem: Function split_and_compute_cell took 0.0330 seconds\n",
      "[01-07 15:58:34][DEBUG] jax_fem: Creating sparse matrix with scipy...\n",
      "[01-07 15:58:34][DEBUG] jax_fem: Before, res l_2 = 13884.725394623636\n",
      "[01-07 15:58:34][DEBUG] jax_fem: Solving linear system...\n",
      "[01-07 15:58:34][DEBUG] jax_fem: JAX Solver - Solving linear system\n"
     ]
    },
    {
     "name": "stdout",
     "output_type": "stream",
     "text": [
      "\n",
      "Step 422, total step = 500, laser_x = 0.000547, Lx = 0.0005, laser ON = False\n"
     ]
    },
    {
     "name": "stderr",
     "output_type": "stream",
     "text": [
      "[01-07 15:58:35][DEBUG] jax_fem: JAX Solver - Finshed solving, res = 5.91120615938444e-07\n",
      "[01-07 15:58:35][DEBUG] jax_fem: Computing cell Jacobian and cell residual...\n",
      "[01-07 15:58:35][DEBUG] jax_fem: Function split_and_compute_cell took 0.0807 seconds\n",
      "[01-07 15:58:35][DEBUG] jax_fem: Creating sparse matrix with scipy...\n",
      "[01-07 15:58:35][DEBUG] jax_fem: res l_2 = 5.911206160990969e-07\n",
      "[01-07 15:58:35][INFO] jax_fem: Solve took 0.8681776523590088 [s]\n",
      "[01-07 15:58:35][DEBUG] jax_fem: max of dofs = 1263.6813446935873\n",
      "[01-07 15:58:35][DEBUG] jax_fem: min of dofs = 300.0\n",
      "[01-07 15:58:35][DEBUG] jax_fem: Calling the row elimination solver for imposing Dirichlet B.C.\n",
      "[01-07 15:58:35][DEBUG] jax_fem: Start timing\n",
      "[01-07 15:58:35][DEBUG] jax_fem: Computing cell Jacobian and cell residual...\n",
      "[01-07 15:58:35][DEBUG] jax_fem: Function split_and_compute_cell took 0.0332 seconds\n",
      "[01-07 15:58:35][DEBUG] jax_fem: Creating sparse matrix with scipy...\n",
      "[01-07 15:58:35][DEBUG] jax_fem: Before, res l_2 = 13884.723488053054\n",
      "[01-07 15:58:35][DEBUG] jax_fem: Solving linear system...\n",
      "[01-07 15:58:35][DEBUG] jax_fem: JAX Solver - Solving linear system\n"
     ]
    },
    {
     "name": "stdout",
     "output_type": "stream",
     "text": [
      "\n",
      "Step 423, total step = 500, laser_x = 0.000548, Lx = 0.0005, laser ON = False\n"
     ]
    },
    {
     "name": "stderr",
     "output_type": "stream",
     "text": [
      "[01-07 15:58:35][DEBUG] jax_fem: JAX Solver - Finshed solving, res = 5.776152494092465e-07\n",
      "[01-07 15:58:35][DEBUG] jax_fem: Computing cell Jacobian and cell residual...\n",
      "[01-07 15:58:35][DEBUG] jax_fem: Function split_and_compute_cell took 0.0390 seconds\n",
      "[01-07 15:58:35][DEBUG] jax_fem: Creating sparse matrix with scipy...\n",
      "[01-07 15:58:36][DEBUG] jax_fem: res l_2 = 5.776152488265075e-07\n",
      "[01-07 15:58:36][INFO] jax_fem: Solve took 0.5973613262176514 [s]\n",
      "[01-07 15:58:36][DEBUG] jax_fem: max of dofs = 1251.9792291932256\n",
      "[01-07 15:58:36][DEBUG] jax_fem: min of dofs = 300.0\n",
      "[01-07 15:58:36][DEBUG] jax_fem: Calling the row elimination solver for imposing Dirichlet B.C.\n",
      "[01-07 15:58:36][DEBUG] jax_fem: Start timing\n",
      "[01-07 15:58:36][DEBUG] jax_fem: Computing cell Jacobian and cell residual...\n",
      "[01-07 15:58:36][DEBUG] jax_fem: Function split_and_compute_cell took 0.0504 seconds\n",
      "[01-07 15:58:36][DEBUG] jax_fem: Creating sparse matrix with scipy...\n",
      "[01-07 15:58:36][DEBUG] jax_fem: Before, res l_2 = 13884.721612165393\n",
      "[01-07 15:58:36][DEBUG] jax_fem: Solving linear system...\n",
      "[01-07 15:58:36][DEBUG] jax_fem: JAX Solver - Solving linear system\n"
     ]
    },
    {
     "name": "stdout",
     "output_type": "stream",
     "text": [
      "\n",
      "Step 424, total step = 500, laser_x = 0.000549, Lx = 0.0005, laser ON = False\n"
     ]
    },
    {
     "name": "stderr",
     "output_type": "stream",
     "text": [
      "[01-07 15:58:36][DEBUG] jax_fem: JAX Solver - Finshed solving, res = 5.644633995940503e-07\n",
      "[01-07 15:58:36][DEBUG] jax_fem: Computing cell Jacobian and cell residual...\n",
      "[01-07 15:58:36][DEBUG] jax_fem: Function split_and_compute_cell took 0.0461 seconds\n",
      "[01-07 15:58:36][DEBUG] jax_fem: Creating sparse matrix with scipy...\n",
      "[01-07 15:58:36][DEBUG] jax_fem: res l_2 = 5.644633984548169e-07\n",
      "[01-07 15:58:36][INFO] jax_fem: Solve took 0.6404030323028564 [s]\n",
      "[01-07 15:58:36][DEBUG] jax_fem: max of dofs = 1240.429610914832\n",
      "[01-07 15:58:36][DEBUG] jax_fem: min of dofs = 300.0\n",
      "[01-07 15:58:36][DEBUG] jax_fem: Calling the row elimination solver for imposing Dirichlet B.C.\n",
      "[01-07 15:58:36][DEBUG] jax_fem: Start timing\n",
      "[01-07 15:58:36][DEBUG] jax_fem: Computing cell Jacobian and cell residual...\n",
      "[01-07 15:58:36][DEBUG] jax_fem: Function split_and_compute_cell took 0.0307 seconds\n",
      "[01-07 15:58:36][DEBUG] jax_fem: Creating sparse matrix with scipy...\n",
      "[01-07 15:58:36][DEBUG] jax_fem: Before, res l_2 = 13884.719766389675\n",
      "[01-07 15:58:36][DEBUG] jax_fem: Solving linear system...\n",
      "[01-07 15:58:36][DEBUG] jax_fem: JAX Solver - Solving linear system\n"
     ]
    },
    {
     "name": "stdout",
     "output_type": "stream",
     "text": [
      "\n",
      "Step 425, total step = 500, laser_x = 0.0005499999999999999, Lx = 0.0005, laser ON = False\n"
     ]
    },
    {
     "name": "stderr",
     "output_type": "stream",
     "text": [
      "[01-07 15:58:37][DEBUG] jax_fem: JAX Solver - Finshed solving, res = 5.516535718006735e-07\n",
      "[01-07 15:58:37][DEBUG] jax_fem: Computing cell Jacobian and cell residual...\n",
      "[01-07 15:58:37][DEBUG] jax_fem: Function split_and_compute_cell took 0.0350 seconds\n",
      "[01-07 15:58:37][DEBUG] jax_fem: Creating sparse matrix with scipy...\n",
      "[01-07 15:58:37][DEBUG] jax_fem: res l_2 = 5.516535716399354e-07\n",
      "[01-07 15:58:37][INFO] jax_fem: Solve took 0.5911262035369873 [s]\n",
      "[01-07 15:58:37][DEBUG] jax_fem: max of dofs = 1229.0303391684038\n",
      "[01-07 15:58:37][DEBUG] jax_fem: min of dofs = 300.0\n",
      "[01-07 15:58:37][DEBUG] jax_fem: Calling the row elimination solver for imposing Dirichlet B.C.\n",
      "[01-07 15:58:37][DEBUG] jax_fem: Start timing\n",
      "[01-07 15:58:37][DEBUG] jax_fem: Computing cell Jacobian and cell residual...\n",
      "[01-07 15:58:37][DEBUG] jax_fem: Function split_and_compute_cell took 0.0352 seconds\n",
      "[01-07 15:58:37][DEBUG] jax_fem: Creating sparse matrix with scipy...\n",
      "[01-07 15:58:37][DEBUG] jax_fem: Before, res l_2 = 13884.717950166863\n",
      "[01-07 15:58:37][DEBUG] jax_fem: Solving linear system...\n",
      "[01-07 15:58:37][DEBUG] jax_fem: JAX Solver - Solving linear system\n"
     ]
    },
    {
     "name": "stdout",
     "output_type": "stream",
     "text": [
      "\n",
      "Step 426, total step = 500, laser_x = 0.0005510000000000001, Lx = 0.0005, laser ON = False\n"
     ]
    },
    {
     "name": "stderr",
     "output_type": "stream",
     "text": [
      "[01-07 15:58:37][DEBUG] jax_fem: JAX Solver - Finshed solving, res = 5.391747782604137e-07\n",
      "[01-07 15:58:37][DEBUG] jax_fem: Computing cell Jacobian and cell residual...\n",
      "[01-07 15:58:37][DEBUG] jax_fem: Function split_and_compute_cell took 0.0492 seconds\n",
      "[01-07 15:58:37][DEBUG] jax_fem: Creating sparse matrix with scipy...\n",
      "[01-07 15:58:37][DEBUG] jax_fem: res l_2 = 5.391747784522422e-07\n",
      "[01-07 15:58:37][INFO] jax_fem: Solve took 0.6022908687591553 [s]\n",
      "[01-07 15:58:37][DEBUG] jax_fem: max of dofs = 1217.7792963029246\n",
      "[01-07 15:58:37][DEBUG] jax_fem: min of dofs = 300.0\n",
      "[01-07 15:58:37][DEBUG] jax_fem: Calling the row elimination solver for imposing Dirichlet B.C.\n",
      "[01-07 15:58:37][DEBUG] jax_fem: Start timing\n",
      "[01-07 15:58:37][DEBUG] jax_fem: Computing cell Jacobian and cell residual...\n",
      "[01-07 15:58:37][DEBUG] jax_fem: Function split_and_compute_cell took 0.0301 seconds\n",
      "[01-07 15:58:37][DEBUG] jax_fem: Creating sparse matrix with scipy...\n",
      "[01-07 15:58:38][DEBUG] jax_fem: Before, res l_2 = 13884.716162949606\n",
      "[01-07 15:58:38][DEBUG] jax_fem: Solving linear system...\n",
      "[01-07 15:58:38][DEBUG] jax_fem: JAX Solver - Solving linear system\n"
     ]
    },
    {
     "name": "stdout",
     "output_type": "stream",
     "text": [
      "\n",
      "Step 427, total step = 500, laser_x = 0.000552, Lx = 0.0005, laser ON = False\n"
     ]
    },
    {
     "name": "stderr",
     "output_type": "stream",
     "text": [
      "[01-07 15:58:38][DEBUG] jax_fem: JAX Solver - Finshed solving, res = 5.270165090831262e-07\n",
      "[01-07 15:58:38][DEBUG] jax_fem: Computing cell Jacobian and cell residual...\n",
      "[01-07 15:58:38][DEBUG] jax_fem: Function split_and_compute_cell took 0.0493 seconds\n",
      "[01-07 15:58:38][DEBUG] jax_fem: Creating sparse matrix with scipy...\n",
      "[01-07 15:58:38][DEBUG] jax_fem: res l_2 = 5.270165088203336e-07\n",
      "[01-07 15:58:38][INFO] jax_fem: Solve took 0.6242482662200928 [s]\n",
      "[01-07 15:58:38][DEBUG] jax_fem: max of dofs = 1206.6743971498647\n",
      "[01-07 15:58:38][DEBUG] jax_fem: min of dofs = 300.0\n",
      "[01-07 15:58:38][DEBUG] jax_fem: Calling the row elimination solver for imposing Dirichlet B.C.\n",
      "[01-07 15:58:38][DEBUG] jax_fem: Start timing\n",
      "[01-07 15:58:38][DEBUG] jax_fem: Computing cell Jacobian and cell residual...\n",
      "[01-07 15:58:38][DEBUG] jax_fem: Function split_and_compute_cell took 0.0361 seconds\n",
      "[01-07 15:58:38][DEBUG] jax_fem: Creating sparse matrix with scipy...\n",
      "[01-07 15:58:38][DEBUG] jax_fem: Before, res l_2 = 13884.71440420195\n",
      "[01-07 15:58:38][DEBUG] jax_fem: Solving linear system...\n",
      "[01-07 15:58:38][DEBUG] jax_fem: JAX Solver - Solving linear system\n"
     ]
    },
    {
     "name": "stdout",
     "output_type": "stream",
     "text": [
      "\n",
      "Step 428, total step = 500, laser_x = 0.000553, Lx = 0.0005, laser ON = False\n"
     ]
    },
    {
     "name": "stderr",
     "output_type": "stream",
     "text": [
      "[01-07 15:58:39][DEBUG] jax_fem: JAX Solver - Finshed solving, res = 5.151687135247632e-07\n",
      "[01-07 15:58:39][DEBUG] jax_fem: Computing cell Jacobian and cell residual...\n",
      "[01-07 15:58:39][DEBUG] jax_fem: Function split_and_compute_cell took 0.0522 seconds\n",
      "[01-07 15:58:39][DEBUG] jax_fem: Creating sparse matrix with scipy...\n",
      "[01-07 15:58:39][DEBUG] jax_fem: res l_2 = 5.151687123738208e-07\n",
      "[01-07 15:58:39][INFO] jax_fem: Solve took 0.7110233306884766 [s]\n",
      "[01-07 15:58:39][DEBUG] jax_fem: max of dofs = 1195.7135884770398\n",
      "[01-07 15:58:39][DEBUG] jax_fem: min of dofs = 300.0\n",
      "[01-07 15:58:39][DEBUG] jax_fem: Calling the row elimination solver for imposing Dirichlet B.C.\n",
      "[01-07 15:58:39][DEBUG] jax_fem: Start timing\n",
      "[01-07 15:58:39][DEBUG] jax_fem: Computing cell Jacobian and cell residual...\n",
      "[01-07 15:58:39][DEBUG] jax_fem: Function split_and_compute_cell took 0.0538 seconds\n",
      "[01-07 15:58:39][DEBUG] jax_fem: Creating sparse matrix with scipy...\n",
      "[01-07 15:58:39][DEBUG] jax_fem: Before, res l_2 = 13884.712673399088\n",
      "[01-07 15:58:39][DEBUG] jax_fem: Solving linear system...\n",
      "[01-07 15:58:39][DEBUG] jax_fem: JAX Solver - Solving linear system\n"
     ]
    },
    {
     "name": "stdout",
     "output_type": "stream",
     "text": [
      "\n",
      "Step 429, total step = 500, laser_x = 0.000554, Lx = 0.0005, laser ON = False\n"
     ]
    },
    {
     "name": "stderr",
     "output_type": "stream",
     "text": [
      "[01-07 15:58:39][DEBUG] jax_fem: JAX Solver - Finshed solving, res = 5.036217753863576e-07\n",
      "[01-07 15:58:39][DEBUG] jax_fem: Computing cell Jacobian and cell residual...\n",
      "[01-07 15:58:39][DEBUG] jax_fem: Function split_and_compute_cell took 0.0401 seconds\n",
      "[01-07 15:58:39][DEBUG] jax_fem: Creating sparse matrix with scipy...\n",
      "[01-07 15:58:40][DEBUG] jax_fem: res l_2 = 5.036217745739839e-07\n",
      "[01-07 15:58:40][INFO] jax_fem: Solve took 0.7193484306335449 [s]\n",
      "[01-07 15:58:40][DEBUG] jax_fem: max of dofs = 1184.8948484525906\n",
      "[01-07 15:58:40][DEBUG] jax_fem: min of dofs = 300.0\n",
      "[01-07 15:58:40][DEBUG] jax_fem: Calling the row elimination solver for imposing Dirichlet B.C.\n",
      "[01-07 15:58:40][DEBUG] jax_fem: Start timing\n",
      "[01-07 15:58:40][DEBUG] jax_fem: Computing cell Jacobian and cell residual...\n",
      "[01-07 15:58:40][DEBUG] jax_fem: Function split_and_compute_cell took 0.0268 seconds\n",
      "[01-07 15:58:40][DEBUG] jax_fem: Creating sparse matrix with scipy...\n",
      "[01-07 15:58:40][DEBUG] jax_fem: Before, res l_2 = 13884.710970027107\n",
      "[01-07 15:58:40][DEBUG] jax_fem: Solving linear system...\n",
      "[01-07 15:58:40][DEBUG] jax_fem: JAX Solver - Solving linear system\n"
     ]
    },
    {
     "name": "stdout",
     "output_type": "stream",
     "text": [
      "\n",
      "Step 430, total step = 500, laser_x = 0.0005549999999999999, Lx = 0.0005, laser ON = False\n"
     ]
    },
    {
     "name": "stderr",
     "output_type": "stream",
     "text": [
      "[01-07 15:58:40][DEBUG] jax_fem: JAX Solver - Finshed solving, res = 4.923664932593142e-07\n",
      "[01-07 15:58:40][DEBUG] jax_fem: Computing cell Jacobian and cell residual...\n",
      "[01-07 15:58:40][DEBUG] jax_fem: Function split_and_compute_cell took 0.0369 seconds\n",
      "[01-07 15:58:40][DEBUG] jax_fem: Creating sparse matrix with scipy...\n",
      "[01-07 15:58:40][DEBUG] jax_fem: res l_2 = 4.923664926369577e-07\n",
      "[01-07 15:58:40][INFO] jax_fem: Solve took 0.7334539890289307 [s]\n",
      "[01-07 15:58:40][DEBUG] jax_fem: max of dofs = 1174.2161861189027\n",
      "[01-07 15:58:40][DEBUG] jax_fem: min of dofs = 300.0\n",
      "[01-07 15:58:40][DEBUG] jax_fem: Calling the row elimination solver for imposing Dirichlet B.C.\n",
      "[01-07 15:58:40][DEBUG] jax_fem: Start timing\n",
      "[01-07 15:58:40][DEBUG] jax_fem: Computing cell Jacobian and cell residual...\n",
      "[01-07 15:58:41][DEBUG] jax_fem: Function split_and_compute_cell took 0.2536 seconds\n",
      "[01-07 15:58:41][DEBUG] jax_fem: Creating sparse matrix with scipy...\n",
      "[01-07 15:58:41][DEBUG] jax_fem: Before, res l_2 = 0.23263011068712136\n",
      "[01-07 15:58:41][DEBUG] jax_fem: Solving linear system...\n",
      "[01-07 15:58:41][DEBUG] jax_fem: JAX Solver - Solving linear system\n",
      "[01-07 15:58:43][DEBUG] jax_fem: JAX Solver - Finshed solving, res = 8.404389687631593e-11\n",
      "[01-07 15:58:43][DEBUG] jax_fem: Computing cell Jacobian and cell residual...\n",
      "[01-07 15:58:43][DEBUG] jax_fem: Function split_and_compute_cell took 0.3597 seconds\n",
      "[01-07 15:58:43][DEBUG] jax_fem: Creating sparse matrix with scipy...\n",
      "[01-07 15:58:43][DEBUG] jax_fem: res l_2 = 0.015703280335565385\n",
      "[01-07 15:58:43][DEBUG] jax_fem: Solving linear system...\n",
      "[01-07 15:58:43][DEBUG] jax_fem: JAX Solver - Solving linear system\n",
      "[01-07 15:58:45][DEBUG] jax_fem: JAX Solver - Finshed solving, res = 9.042410965602312e-11\n",
      "[01-07 15:58:45][DEBUG] jax_fem: Computing cell Jacobian and cell residual...\n",
      "[01-07 15:58:46][DEBUG] jax_fem: Function split_and_compute_cell took 0.2736 seconds\n",
      "[01-07 15:58:46][DEBUG] jax_fem: Creating sparse matrix with scipy...\n",
      "[01-07 15:58:46][DEBUG] jax_fem: res l_2 = 0.0013565552320792674\n",
      "[01-07 15:58:46][DEBUG] jax_fem: Solving linear system...\n",
      "[01-07 15:58:46][DEBUG] jax_fem: JAX Solver - Solving linear system\n",
      "[01-07 15:58:48][DEBUG] jax_fem: JAX Solver - Finshed solving, res = 9.719213759537074e-11\n",
      "[01-07 15:58:48][DEBUG] jax_fem: Computing cell Jacobian and cell residual...\n",
      "[01-07 15:58:48][DEBUG] jax_fem: Function split_and_compute_cell took 0.2462 seconds\n",
      "[01-07 15:58:48][DEBUG] jax_fem: Creating sparse matrix with scipy...\n",
      "[01-07 15:58:48][DEBUG] jax_fem: res l_2 = 1.2530228974841275e-05\n",
      "[01-07 15:58:48][DEBUG] jax_fem: Solving linear system...\n",
      "[01-07 15:58:48][DEBUG] jax_fem: JAX Solver - Solving linear system\n",
      "[01-07 15:58:50][DEBUG] jax_fem: JAX Solver - Finshed solving, res = 7.486250836013364e-11\n",
      "[01-07 15:58:50][DEBUG] jax_fem: Computing cell Jacobian and cell residual...\n",
      "[01-07 15:58:50][DEBUG] jax_fem: Function split_and_compute_cell took 0.2562 seconds\n",
      "[01-07 15:58:50][DEBUG] jax_fem: Creating sparse matrix with scipy...\n",
      "[01-07 15:58:50][DEBUG] jax_fem: res l_2 = 1.2956843861696986e-10\n",
      "[01-07 15:58:50][INFO] jax_fem: Solve took 9.746909379959106 [s]\n",
      "[01-07 15:58:50][DEBUG] jax_fem: max of dofs = 2.0909179619350634e-06\n",
      "[01-07 15:58:50][DEBUG] jax_fem: min of dofs = -1.8537560982641137e-06\n",
      "[01-07 15:58:50][DEBUG] jax_fem: Calling the row elimination solver for imposing Dirichlet B.C.\n",
      "[01-07 15:58:50][DEBUG] jax_fem: Start timing\n",
      "[01-07 15:58:50][DEBUG] jax_fem: Computing cell Jacobian and cell residual...\n",
      "[01-07 15:58:50][DEBUG] jax_fem: Function split_and_compute_cell took 0.0273 seconds\n",
      "[01-07 15:58:50][DEBUG] jax_fem: Creating sparse matrix with scipy...\n",
      "[01-07 15:58:50][DEBUG] jax_fem: Before, res l_2 = 13884.709293582724\n",
      "[01-07 15:58:50][DEBUG] jax_fem: Solving linear system...\n",
      "[01-07 15:58:50][DEBUG] jax_fem: JAX Solver - Solving linear system\n"
     ]
    },
    {
     "name": "stdout",
     "output_type": "stream",
     "text": [
      "max f_plus = 236027255.0281623, max stress_xx = 524688650.70962054\n",
      "\n",
      "Step 431, total step = 500, laser_x = 0.000556, Lx = 0.0005, laser ON = False\n"
     ]
    },
    {
     "name": "stderr",
     "output_type": "stream",
     "text": [
      "[01-07 15:58:51][DEBUG] jax_fem: JAX Solver - Finshed solving, res = 4.813940605674709e-07\n",
      "[01-07 15:58:51][DEBUG] jax_fem: Computing cell Jacobian and cell residual...\n",
      "[01-07 15:58:51][DEBUG] jax_fem: Function split_and_compute_cell took 0.0468 seconds\n",
      "[01-07 15:58:51][DEBUG] jax_fem: Creating sparse matrix with scipy...\n",
      "[01-07 15:58:51][DEBUG] jax_fem: res l_2 = 4.813940607048303e-07\n",
      "[01-07 15:58:51][INFO] jax_fem: Solve took 0.6572575569152832 [s]\n",
      "[01-07 15:58:51][DEBUG] jax_fem: max of dofs = 1163.6756408762544\n",
      "[01-07 15:58:51][DEBUG] jax_fem: min of dofs = 300.0\n",
      "[01-07 15:58:51][DEBUG] jax_fem: Calling the row elimination solver for imposing Dirichlet B.C.\n",
      "[01-07 15:58:51][DEBUG] jax_fem: Start timing\n",
      "[01-07 15:58:51][DEBUG] jax_fem: Computing cell Jacobian and cell residual...\n",
      "[01-07 15:58:51][DEBUG] jax_fem: Function split_and_compute_cell took 0.0412 seconds\n",
      "[01-07 15:58:51][DEBUG] jax_fem: Creating sparse matrix with scipy...\n",
      "[01-07 15:58:51][DEBUG] jax_fem: Before, res l_2 = 13884.707643573069\n",
      "[01-07 15:58:51][DEBUG] jax_fem: Solving linear system...\n",
      "[01-07 15:58:51][DEBUG] jax_fem: JAX Solver - Solving linear system\n"
     ]
    },
    {
     "name": "stdout",
     "output_type": "stream",
     "text": [
      "\n",
      "Step 432, total step = 500, laser_x = 0.000557, Lx = 0.0005, laser ON = False\n"
     ]
    },
    {
     "name": "stderr",
     "output_type": "stream",
     "text": [
      "[01-07 15:58:51][DEBUG] jax_fem: JAX Solver - Finshed solving, res = 4.706960449521883e-07\n",
      "[01-07 15:58:51][DEBUG] jax_fem: Computing cell Jacobian and cell residual...\n",
      "[01-07 15:58:51][DEBUG] jax_fem: Function split_and_compute_cell took 0.0450 seconds\n",
      "[01-07 15:58:51][DEBUG] jax_fem: Creating sparse matrix with scipy...\n",
      "[01-07 15:58:51][DEBUG] jax_fem: res l_2 = 4.7069604492031553e-07\n",
      "[01-07 15:58:51][INFO] jax_fem: Solve took 0.6475987434387207 [s]\n",
      "[01-07 15:58:51][DEBUG] jax_fem: max of dofs = 1153.2712819759824\n",
      "[01-07 15:58:51][DEBUG] jax_fem: min of dofs = 300.0\n",
      "[01-07 15:58:51][DEBUG] jax_fem: Calling the row elimination solver for imposing Dirichlet B.C.\n",
      "[01-07 15:58:51][DEBUG] jax_fem: Start timing\n",
      "[01-07 15:58:51][DEBUG] jax_fem: Computing cell Jacobian and cell residual...\n",
      "[01-07 15:58:52][DEBUG] jax_fem: Function split_and_compute_cell took 0.0500 seconds\n",
      "[01-07 15:58:52][DEBUG] jax_fem: Creating sparse matrix with scipy...\n",
      "[01-07 15:58:52][DEBUG] jax_fem: Before, res l_2 = 13884.706019515417\n",
      "[01-07 15:58:52][DEBUG] jax_fem: Solving linear system...\n",
      "[01-07 15:58:52][DEBUG] jax_fem: JAX Solver - Solving linear system\n"
     ]
    },
    {
     "name": "stdout",
     "output_type": "stream",
     "text": [
      "\n",
      "Step 433, total step = 500, laser_x = 0.0005579999999999999, Lx = 0.0005, laser ON = False\n"
     ]
    },
    {
     "name": "stderr",
     "output_type": "stream",
     "text": [
      "[01-07 15:58:52][DEBUG] jax_fem: JAX Solver - Finshed solving, res = 4.6026436874916124e-07\n",
      "[01-07 15:58:52][DEBUG] jax_fem: Computing cell Jacobian and cell residual...\n",
      "[01-07 15:58:52][DEBUG] jax_fem: Function split_and_compute_cell took 0.0881 seconds\n",
      "[01-07 15:58:52][DEBUG] jax_fem: Creating sparse matrix with scipy...\n",
      "[01-07 15:58:52][DEBUG] jax_fem: res l_2 = 4.6026436899855955e-07\n",
      "[01-07 15:58:52][INFO] jax_fem: Solve took 0.7581915855407715 [s]\n",
      "[01-07 15:58:52][DEBUG] jax_fem: max of dofs = 1143.0012080229776\n",
      "[01-07 15:58:52][DEBUG] jax_fem: min of dofs = 300.0\n",
      "[01-07 15:58:52][DEBUG] jax_fem: Calling the row elimination solver for imposing Dirichlet B.C.\n",
      "[01-07 15:58:52][DEBUG] jax_fem: Start timing\n",
      "[01-07 15:58:52][DEBUG] jax_fem: Computing cell Jacobian and cell residual...\n",
      "[01-07 15:58:52][DEBUG] jax_fem: Function split_and_compute_cell took 0.0408 seconds\n",
      "[01-07 15:58:52][DEBUG] jax_fem: Creating sparse matrix with scipy...\n",
      "[01-07 15:58:52][DEBUG] jax_fem: Before, res l_2 = 13884.704420936983\n",
      "[01-07 15:58:52][DEBUG] jax_fem: Solving linear system...\n",
      "[01-07 15:58:52][DEBUG] jax_fem: JAX Solver - Solving linear system\n"
     ]
    },
    {
     "name": "stdout",
     "output_type": "stream",
     "text": [
      "\n",
      "Step 434, total step = 500, laser_x = 0.000559, Lx = 0.0005, laser ON = False\n"
     ]
    },
    {
     "name": "stderr",
     "output_type": "stream",
     "text": [
      "[01-07 15:58:53][DEBUG] jax_fem: JAX Solver - Finshed solving, res = 4.5009129377442063e-07\n",
      "[01-07 15:58:53][DEBUG] jax_fem: Computing cell Jacobian and cell residual...\n",
      "[01-07 15:58:53][DEBUG] jax_fem: Function split_and_compute_cell took 0.0370 seconds\n",
      "[01-07 15:58:53][DEBUG] jax_fem: Creating sparse matrix with scipy...\n",
      "[01-07 15:58:53][DEBUG] jax_fem: res l_2 = 4.500912940021166e-07\n",
      "[01-07 15:58:53][INFO] jax_fem: Solve took 0.6141126155853271 [s]\n",
      "[01-07 15:58:53][DEBUG] jax_fem: max of dofs = 1132.8635464873403\n",
      "[01-07 15:58:53][DEBUG] jax_fem: min of dofs = 300.0\n",
      "[01-07 15:58:53][DEBUG] jax_fem: Calling the row elimination solver for imposing Dirichlet B.C.\n",
      "[01-07 15:58:53][DEBUG] jax_fem: Start timing\n",
      "[01-07 15:58:53][DEBUG] jax_fem: Computing cell Jacobian and cell residual...\n",
      "[01-07 15:58:53][DEBUG] jax_fem: Function split_and_compute_cell took 0.0324 seconds\n",
      "[01-07 15:58:53][DEBUG] jax_fem: Creating sparse matrix with scipy...\n",
      "[01-07 15:58:53][DEBUG] jax_fem: Before, res l_2 = 13884.70284737469\n",
      "[01-07 15:58:53][DEBUG] jax_fem: Solving linear system...\n",
      "[01-07 15:58:53][DEBUG] jax_fem: JAX Solver - Solving linear system\n"
     ]
    },
    {
     "name": "stdout",
     "output_type": "stream",
     "text": [
      "\n",
      "Step 435, total step = 500, laser_x = 0.00056, Lx = 0.0005, laser ON = False\n"
     ]
    },
    {
     "name": "stderr",
     "output_type": "stream",
     "text": [
      "[01-07 15:58:53][DEBUG] jax_fem: JAX Solver - Finshed solving, res = 4.4016940196021603e-07\n",
      "[01-07 15:58:53][DEBUG] jax_fem: Computing cell Jacobian and cell residual...\n",
      "[01-07 15:58:53][DEBUG] jax_fem: Function split_and_compute_cell took 0.0350 seconds\n",
      "[01-07 15:58:53][DEBUG] jax_fem: Creating sparse matrix with scipy...\n",
      "[01-07 15:58:53][DEBUG] jax_fem: res l_2 = 4.401694022682722e-07\n",
      "[01-07 15:58:53][INFO] jax_fem: Solve took 0.5798799991607666 [s]\n",
      "[01-07 15:58:53][DEBUG] jax_fem: max of dofs = 1122.8564532249704\n",
      "[01-07 15:58:53][DEBUG] jax_fem: min of dofs = 300.0\n",
      "[01-07 15:58:53][DEBUG] jax_fem: Calling the row elimination solver for imposing Dirichlet B.C.\n",
      "[01-07 15:58:53][DEBUG] jax_fem: Start timing\n",
      "[01-07 15:58:53][DEBUG] jax_fem: Computing cell Jacobian and cell residual...\n",
      "[01-07 15:58:54][DEBUG] jax_fem: Function split_and_compute_cell took 0.0296 seconds\n",
      "[01-07 15:58:54][DEBUG] jax_fem: Creating sparse matrix with scipy...\n",
      "[01-07 15:58:54][DEBUG] jax_fem: Before, res l_2 = 13884.701298374941\n",
      "[01-07 15:58:54][DEBUG] jax_fem: Solving linear system...\n",
      "[01-07 15:58:54][DEBUG] jax_fem: JAX Solver - Solving linear system\n"
     ]
    },
    {
     "name": "stdout",
     "output_type": "stream",
     "text": [
      "\n",
      "Step 436, total step = 500, laser_x = 0.000561, Lx = 0.0005, laser ON = False\n"
     ]
    },
    {
     "name": "stderr",
     "output_type": "stream",
     "text": [
      "[01-07 15:58:54][DEBUG] jax_fem: JAX Solver - Finshed solving, res = 4.304915790060082e-07\n",
      "[01-07 15:58:54][DEBUG] jax_fem: Computing cell Jacobian and cell residual...\n",
      "[01-07 15:58:54][DEBUG] jax_fem: Function split_and_compute_cell took 0.0650 seconds\n",
      "[01-07 15:58:54][DEBUG] jax_fem: Creating sparse matrix with scipy...\n",
      "[01-07 15:58:54][DEBUG] jax_fem: res l_2 = 4.304915794628372e-07\n",
      "[01-07 15:58:54][INFO] jax_fem: Solve took 0.7318227291107178 [s]\n",
      "[01-07 15:58:54][DEBUG] jax_fem: max of dofs = 1112.9781120069497\n",
      "[01-07 15:58:54][DEBUG] jax_fem: min of dofs = 300.0\n",
      "[01-07 15:58:54][DEBUG] jax_fem: Calling the row elimination solver for imposing Dirichlet B.C.\n",
      "[01-07 15:58:54][DEBUG] jax_fem: Start timing\n",
      "[01-07 15:58:54][DEBUG] jax_fem: Computing cell Jacobian and cell residual...\n",
      "[01-07 15:58:54][DEBUG] jax_fem: Function split_and_compute_cell took 0.0481 seconds\n",
      "[01-07 15:58:54][DEBUG] jax_fem: Creating sparse matrix with scipy...\n",
      "[01-07 15:58:54][DEBUG] jax_fem: Before, res l_2 = 13884.699773493408\n",
      "[01-07 15:58:54][DEBUG] jax_fem: Solving linear system...\n",
      "[01-07 15:58:54][DEBUG] jax_fem: JAX Solver - Solving linear system\n"
     ]
    },
    {
     "name": "stdout",
     "output_type": "stream",
     "text": [
      "\n",
      "Step 437, total step = 500, laser_x = 0.000562, Lx = 0.0005, laser ON = False\n"
     ]
    },
    {
     "name": "stderr",
     "output_type": "stream",
     "text": [
      "[01-07 15:58:55][DEBUG] jax_fem: JAX Solver - Finshed solving, res = 4.210510015416354e-07\n",
      "[01-07 15:58:55][DEBUG] jax_fem: Computing cell Jacobian and cell residual...\n",
      "[01-07 15:58:55][DEBUG] jax_fem: Function split_and_compute_cell took 0.0379 seconds\n",
      "[01-07 15:58:55][DEBUG] jax_fem: Creating sparse matrix with scipy...\n",
      "[01-07 15:58:55][DEBUG] jax_fem: res l_2 = 4.2105100125591936e-07\n",
      "[01-07 15:58:55][INFO] jax_fem: Solve took 0.6214630603790283 [s]\n",
      "[01-07 15:58:55][DEBUG] jax_fem: max of dofs = 1103.226734057506\n",
      "[01-07 15:58:55][DEBUG] jax_fem: min of dofs = 300.0\n",
      "[01-07 15:58:55][DEBUG] jax_fem: Calling the row elimination solver for imposing Dirichlet B.C.\n",
      "[01-07 15:58:55][DEBUG] jax_fem: Start timing\n",
      "[01-07 15:58:55][DEBUG] jax_fem: Computing cell Jacobian and cell residual...\n",
      "[01-07 15:58:55][DEBUG] jax_fem: Function split_and_compute_cell took 0.0303 seconds\n",
      "[01-07 15:58:55][DEBUG] jax_fem: Creating sparse matrix with scipy...\n",
      "[01-07 15:58:55][DEBUG] jax_fem: Before, res l_2 = 13884.698272294836\n",
      "[01-07 15:58:55][DEBUG] jax_fem: Solving linear system...\n",
      "[01-07 15:58:55][DEBUG] jax_fem: JAX Solver - Solving linear system\n"
     ]
    },
    {
     "name": "stdout",
     "output_type": "stream",
     "text": [
      "\n",
      "Step 438, total step = 500, laser_x = 0.0005629999999999999, Lx = 0.0005, laser ON = False\n"
     ]
    },
    {
     "name": "stderr",
     "output_type": "stream",
     "text": [
      "[01-07 15:58:55][DEBUG] jax_fem: JAX Solver - Finshed solving, res = 4.118411184407256e-07\n",
      "[01-07 15:58:55][DEBUG] jax_fem: Computing cell Jacobian and cell residual...\n",
      "[01-07 15:58:55][DEBUG] jax_fem: Function split_and_compute_cell took 0.0513 seconds\n",
      "[01-07 15:58:55][DEBUG] jax_fem: Creating sparse matrix with scipy...\n",
      "[01-07 15:58:55][DEBUG] jax_fem: res l_2 = 4.1184111762547373e-07\n",
      "[01-07 15:58:55][INFO] jax_fem: Solve took 0.5840299129486084 [s]\n",
      "[01-07 15:58:55][DEBUG] jax_fem: max of dofs = 1093.600557600407\n",
      "[01-07 15:58:55][DEBUG] jax_fem: min of dofs = 300.0\n",
      "[01-07 15:58:55][DEBUG] jax_fem: Calling the row elimination solver for imposing Dirichlet B.C.\n",
      "[01-07 15:58:55][DEBUG] jax_fem: Start timing\n",
      "[01-07 15:58:55][DEBUG] jax_fem: Computing cell Jacobian and cell residual...\n",
      "[01-07 15:58:56][DEBUG] jax_fem: Function split_and_compute_cell took 0.0354 seconds\n",
      "[01-07 15:58:56][DEBUG] jax_fem: Creating sparse matrix with scipy...\n",
      "[01-07 15:58:56][DEBUG] jax_fem: Before, res l_2 = 13884.696794352823\n",
      "[01-07 15:58:56][DEBUG] jax_fem: Solving linear system...\n",
      "[01-07 15:58:56][DEBUG] jax_fem: JAX Solver - Solving linear system\n"
     ]
    },
    {
     "name": "stdout",
     "output_type": "stream",
     "text": [
      "\n",
      "Step 439, total step = 500, laser_x = 0.000564, Lx = 0.0005, laser ON = False\n"
     ]
    },
    {
     "name": "stderr",
     "output_type": "stream",
     "text": [
      "[01-07 15:58:56][DEBUG] jax_fem: JAX Solver - Finshed solving, res = 4.0285563906817377e-07\n",
      "[01-07 15:58:56][DEBUG] jax_fem: Computing cell Jacobian and cell residual...\n",
      "[01-07 15:58:56][DEBUG] jax_fem: Function split_and_compute_cell took 0.0611 seconds\n",
      "[01-07 15:58:56][DEBUG] jax_fem: Creating sparse matrix with scipy...\n",
      "[01-07 15:58:56][DEBUG] jax_fem: res l_2 = 4.028556392133962e-07\n",
      "[01-07 15:58:56][INFO] jax_fem: Solve took 0.6921970844268799 [s]\n",
      "[01-07 15:58:56][DEBUG] jax_fem: max of dofs = 1084.0978474136102\n",
      "[01-07 15:58:56][DEBUG] jax_fem: min of dofs = 300.0\n",
      "[01-07 15:58:56][DEBUG] jax_fem: Calling the row elimination solver for imposing Dirichlet B.C.\n",
      "[01-07 15:58:56][DEBUG] jax_fem: Start timing\n",
      "[01-07 15:58:56][DEBUG] jax_fem: Computing cell Jacobian and cell residual...\n",
      "[01-07 15:58:56][DEBUG] jax_fem: Function split_and_compute_cell took 0.0483 seconds\n",
      "[01-07 15:58:56][DEBUG] jax_fem: Creating sparse matrix with scipy...\n",
      "[01-07 15:58:56][DEBUG] jax_fem: Before, res l_2 = 13884.69533924963\n",
      "[01-07 15:58:56][DEBUG] jax_fem: Solving linear system...\n",
      "[01-07 15:58:56][DEBUG] jax_fem: JAX Solver - Solving linear system\n"
     ]
    },
    {
     "name": "stdout",
     "output_type": "stream",
     "text": [
      "\n",
      "Step 440, total step = 500, laser_x = 0.000565, Lx = 0.0005, laser ON = False\n"
     ]
    },
    {
     "name": "stderr",
     "output_type": "stream",
     "text": [
      "[01-07 15:58:57][DEBUG] jax_fem: JAX Solver - Finshed solving, res = 3.940885214891214e-07\n",
      "[01-07 15:58:57][DEBUG] jax_fem: Computing cell Jacobian and cell residual...\n",
      "[01-07 15:58:57][DEBUG] jax_fem: Function split_and_compute_cell took 0.0356 seconds\n",
      "[01-07 15:58:57][DEBUG] jax_fem: Creating sparse matrix with scipy...\n",
      "[01-07 15:58:57][DEBUG] jax_fem: res l_2 = 3.9408852162277805e-07\n",
      "[01-07 15:58:57][INFO] jax_fem: Solve took 0.6215770244598389 [s]\n",
      "[01-07 15:58:57][DEBUG] jax_fem: max of dofs = 1074.7168943919849\n",
      "[01-07 15:58:57][DEBUG] jax_fem: min of dofs = 300.0\n",
      "[01-07 15:58:57][DEBUG] jax_fem: Calling the row elimination solver for imposing Dirichlet B.C.\n",
      "[01-07 15:58:57][DEBUG] jax_fem: Start timing\n",
      "[01-07 15:58:57][DEBUG] jax_fem: Computing cell Jacobian and cell residual...\n",
      "[01-07 15:58:57][DEBUG] jax_fem: Function split_and_compute_cell took 0.2390 seconds\n",
      "[01-07 15:58:57][DEBUG] jax_fem: Creating sparse matrix with scipy...\n",
      "[01-07 15:58:57][DEBUG] jax_fem: Before, res l_2 = 0.20779475364746774\n",
      "[01-07 15:58:57][DEBUG] jax_fem: Solving linear system...\n",
      "[01-07 15:58:57][DEBUG] jax_fem: JAX Solver - Solving linear system\n",
      "[01-07 15:58:59][DEBUG] jax_fem: JAX Solver - Finshed solving, res = 9.894421638606154e-11\n",
      "[01-07 15:58:59][DEBUG] jax_fem: Computing cell Jacobian and cell residual...\n",
      "[01-07 15:59:00][DEBUG] jax_fem: Function split_and_compute_cell took 0.2876 seconds\n",
      "[01-07 15:59:00][DEBUG] jax_fem: Creating sparse matrix with scipy...\n",
      "[01-07 15:59:00][DEBUG] jax_fem: res l_2 = 0.014465778478008107\n",
      "[01-07 15:59:00][DEBUG] jax_fem: Solving linear system...\n",
      "[01-07 15:59:00][DEBUG] jax_fem: JAX Solver - Solving linear system\n",
      "[01-07 15:59:02][DEBUG] jax_fem: JAX Solver - Finshed solving, res = 9.425647818199265e-11\n",
      "[01-07 15:59:02][DEBUG] jax_fem: Computing cell Jacobian and cell residual...\n",
      "[01-07 15:59:02][DEBUG] jax_fem: Function split_and_compute_cell took 0.3379 seconds\n",
      "[01-07 15:59:02][DEBUG] jax_fem: Creating sparse matrix with scipy...\n",
      "[01-07 15:59:02][DEBUG] jax_fem: res l_2 = 0.0009661953619667952\n",
      "[01-07 15:59:02][DEBUG] jax_fem: Solving linear system...\n",
      "[01-07 15:59:02][DEBUG] jax_fem: JAX Solver - Solving linear system\n",
      "[01-07 15:59:04][DEBUG] jax_fem: JAX Solver - Finshed solving, res = 6.10121734628971e-11\n",
      "[01-07 15:59:04][DEBUG] jax_fem: Computing cell Jacobian and cell residual...\n",
      "[01-07 15:59:04][DEBUG] jax_fem: Function split_and_compute_cell took 0.2927 seconds\n",
      "[01-07 15:59:04][DEBUG] jax_fem: Creating sparse matrix with scipy...\n",
      "[01-07 15:59:05][DEBUG] jax_fem: res l_2 = 2.4362650891573666e-06\n",
      "[01-07 15:59:05][DEBUG] jax_fem: Solving linear system...\n",
      "[01-07 15:59:05][DEBUG] jax_fem: JAX Solver - Solving linear system\n",
      "[01-07 15:59:06][DEBUG] jax_fem: JAX Solver - Finshed solving, res = 3.843166180741328e-11\n",
      "[01-07 15:59:06][DEBUG] jax_fem: Computing cell Jacobian and cell residual...\n",
      "[01-07 15:59:06][DEBUG] jax_fem: Function split_and_compute_cell took 0.3477 seconds\n",
      "[01-07 15:59:06][DEBUG] jax_fem: Creating sparse matrix with scipy...\n",
      "[01-07 15:59:06][DEBUG] jax_fem: res l_2 = 5.419992283154134e-11\n",
      "[01-07 15:59:06][INFO] jax_fem: Solve took 9.56831669807434 [s]\n",
      "[01-07 15:59:06][DEBUG] jax_fem: max of dofs = 2.111118033710306e-06\n",
      "[01-07 15:59:06][DEBUG] jax_fem: min of dofs = -1.8865744691597005e-06\n",
      "[01-07 15:59:06][DEBUG] jax_fem: Calling the row elimination solver for imposing Dirichlet B.C.\n",
      "[01-07 15:59:06][DEBUG] jax_fem: Start timing\n",
      "[01-07 15:59:06][DEBUG] jax_fem: Computing cell Jacobian and cell residual...\n",
      "[01-07 15:59:07][DEBUG] jax_fem: Function split_and_compute_cell took 0.0459 seconds\n",
      "[01-07 15:59:07][DEBUG] jax_fem: Creating sparse matrix with scipy...\n"
     ]
    },
    {
     "name": "stdout",
     "output_type": "stream",
     "text": [
      "max f_plus = 203378361.27733326, max stress_xx = 529652774.5608468\n",
      "\n",
      "Step 441, total step = 500, laser_x = 0.000566, Lx = 0.0005, laser ON = False\n"
     ]
    },
    {
     "name": "stderr",
     "output_type": "stream",
     "text": [
      "[01-07 15:59:07][DEBUG] jax_fem: Before, res l_2 = 13884.693906575985\n",
      "[01-07 15:59:07][DEBUG] jax_fem: Solving linear system...\n",
      "[01-07 15:59:07][DEBUG] jax_fem: JAX Solver - Solving linear system\n",
      "[01-07 15:59:07][DEBUG] jax_fem: JAX Solver - Finshed solving, res = 3.8553395496228997e-07\n",
      "[01-07 15:59:07][DEBUG] jax_fem: Computing cell Jacobian and cell residual...\n",
      "[01-07 15:59:07][DEBUG] jax_fem: Function split_and_compute_cell took 0.0400 seconds\n",
      "[01-07 15:59:07][DEBUG] jax_fem: Creating sparse matrix with scipy...\n",
      "[01-07 15:59:07][DEBUG] jax_fem: res l_2 = 3.85533954437481e-07\n",
      "[01-07 15:59:07][INFO] jax_fem: Solve took 0.8591301441192627 [s]\n",
      "[01-07 15:59:07][DEBUG] jax_fem: max of dofs = 1065.4560151179735\n",
      "[01-07 15:59:07][DEBUG] jax_fem: min of dofs = 300.0\n",
      "[01-07 15:59:07][DEBUG] jax_fem: Calling the row elimination solver for imposing Dirichlet B.C.\n",
      "[01-07 15:59:07][DEBUG] jax_fem: Start timing\n",
      "[01-07 15:59:07][DEBUG] jax_fem: Computing cell Jacobian and cell residual...\n",
      "[01-07 15:59:07][DEBUG] jax_fem: Function split_and_compute_cell took 0.0969 seconds\n",
      "[01-07 15:59:08][DEBUG] jax_fem: Creating sparse matrix with scipy...\n"
     ]
    },
    {
     "name": "stdout",
     "output_type": "stream",
     "text": [
      "\n",
      "Step 442, total step = 500, laser_x = 0.000567, Lx = 0.0005, laser ON = False\n"
     ]
    },
    {
     "name": "stderr",
     "output_type": "stream",
     "text": [
      "[01-07 15:59:08][DEBUG] jax_fem: Before, res l_2 = 13884.69249593089\n",
      "[01-07 15:59:08][DEBUG] jax_fem: Solving linear system...\n",
      "[01-07 15:59:08][DEBUG] jax_fem: JAX Solver - Solving linear system\n",
      "[01-07 15:59:08][DEBUG] jax_fem: JAX Solver - Finshed solving, res = 3.7718635153441405e-07\n",
      "[01-07 15:59:08][DEBUG] jax_fem: Computing cell Jacobian and cell residual...\n",
      "[01-07 15:59:08][DEBUG] jax_fem: Function split_and_compute_cell took 0.0352 seconds\n",
      "[01-07 15:59:08][DEBUG] jax_fem: Creating sparse matrix with scipy...\n",
      "[01-07 15:59:08][DEBUG] jax_fem: res l_2 = 3.771863512150726e-07\n",
      "[01-07 15:59:08][INFO] jax_fem: Solve took 0.6951608657836914 [s]\n",
      "[01-07 15:59:08][DEBUG] jax_fem: max of dofs = 1056.3135514399978\n",
      "[01-07 15:59:08][DEBUG] jax_fem: min of dofs = 300.0\n",
      "[01-07 15:59:08][DEBUG] jax_fem: Calling the row elimination solver for imposing Dirichlet B.C.\n",
      "[01-07 15:59:08][DEBUG] jax_fem: Start timing\n",
      "[01-07 15:59:08][DEBUG] jax_fem: Computing cell Jacobian and cell residual...\n",
      "[01-07 15:59:08][DEBUG] jax_fem: Function split_and_compute_cell took 0.0454 seconds\n",
      "[01-07 15:59:08][DEBUG] jax_fem: Creating sparse matrix with scipy...\n",
      "[01-07 15:59:08][DEBUG] jax_fem: Before, res l_2 = 13884.691106921446\n",
      "[01-07 15:59:08][DEBUG] jax_fem: Solving linear system...\n",
      "[01-07 15:59:08][DEBUG] jax_fem: JAX Solver - Solving linear system\n"
     ]
    },
    {
     "name": "stdout",
     "output_type": "stream",
     "text": [
      "\n",
      "Step 443, total step = 500, laser_x = 0.0005679999999999999, Lx = 0.0005, laser ON = False\n"
     ]
    },
    {
     "name": "stderr",
     "output_type": "stream",
     "text": [
      "[01-07 15:59:09][DEBUG] jax_fem: JAX Solver - Finshed solving, res = 3.6904033627924514e-07\n",
      "[01-07 15:59:09][DEBUG] jax_fem: Computing cell Jacobian and cell residual...\n",
      "[01-07 15:59:09][DEBUG] jax_fem: Function split_and_compute_cell took 0.0943 seconds\n",
      "[01-07 15:59:09][DEBUG] jax_fem: Creating sparse matrix with scipy...\n",
      "[01-07 15:59:09][DEBUG] jax_fem: res l_2 = 3.690403362909671e-07\n",
      "[01-07 15:59:09][INFO] jax_fem: Solve took 0.8408071994781494 [s]\n",
      "[01-07 15:59:09][DEBUG] jax_fem: max of dofs = 1047.2878700585024\n",
      "[01-07 15:59:09][DEBUG] jax_fem: min of dofs = 300.0\n",
      "[01-07 15:59:09][DEBUG] jax_fem: Calling the row elimination solver for imposing Dirichlet B.C.\n",
      "[01-07 15:59:09][DEBUG] jax_fem: Start timing\n",
      "[01-07 15:59:09][DEBUG] jax_fem: Computing cell Jacobian and cell residual...\n",
      "[01-07 15:59:09][DEBUG] jax_fem: Function split_and_compute_cell took 0.0401 seconds\n",
      "[01-07 15:59:09][DEBUG] jax_fem: Creating sparse matrix with scipy...\n",
      "[01-07 15:59:09][DEBUG] jax_fem: Before, res l_2 = 13884.689739162664\n",
      "[01-07 15:59:09][DEBUG] jax_fem: Solving linear system...\n",
      "[01-07 15:59:09][DEBUG] jax_fem: JAX Solver - Solving linear system\n"
     ]
    },
    {
     "name": "stdout",
     "output_type": "stream",
     "text": [
      "\n",
      "Step 444, total step = 500, laser_x = 0.0005690000000000001, Lx = 0.0005, laser ON = False\n"
     ]
    },
    {
     "name": "stderr",
     "output_type": "stream",
     "text": [
      "[01-07 15:59:10][DEBUG] jax_fem: JAX Solver - Finshed solving, res = 3.6109073173495415e-07\n",
      "[01-07 15:59:10][DEBUG] jax_fem: Computing cell Jacobian and cell residual...\n",
      "[01-07 15:59:10][DEBUG] jax_fem: Function split_and_compute_cell took 0.0508 seconds\n",
      "[01-07 15:59:10][DEBUG] jax_fem: Creating sparse matrix with scipy...\n",
      "[01-07 15:59:10][DEBUG] jax_fem: res l_2 = 3.610907318387669e-07\n",
      "[01-07 15:59:10][INFO] jax_fem: Solve took 0.8477458953857422 [s]\n",
      "[01-07 15:59:10][DEBUG] jax_fem: max of dofs = 1038.377362119418\n",
      "[01-07 15:59:10][DEBUG] jax_fem: min of dofs = 300.0\n",
      "[01-07 15:59:10][DEBUG] jax_fem: Calling the row elimination solver for imposing Dirichlet B.C.\n",
      "[01-07 15:59:10][DEBUG] jax_fem: Start timing\n",
      "[01-07 15:59:10][DEBUG] jax_fem: Computing cell Jacobian and cell residual...\n",
      "[01-07 15:59:10][DEBUG] jax_fem: Function split_and_compute_cell took 0.0433 seconds\n",
      "[01-07 15:59:10][DEBUG] jax_fem: Creating sparse matrix with scipy...\n",
      "[01-07 15:59:10][DEBUG] jax_fem: Before, res l_2 = 13884.68839227729\n",
      "[01-07 15:59:10][DEBUG] jax_fem: Solving linear system...\n",
      "[01-07 15:59:10][DEBUG] jax_fem: JAX Solver - Solving linear system\n"
     ]
    },
    {
     "name": "stdout",
     "output_type": "stream",
     "text": [
      "\n",
      "Step 445, total step = 500, laser_x = 0.00057, Lx = 0.0005, laser ON = False\n"
     ]
    },
    {
     "name": "stderr",
     "output_type": "stream",
     "text": [
      "[01-07 15:59:11][DEBUG] jax_fem: JAX Solver - Finshed solving, res = 3.5333255125327724e-07\n",
      "[01-07 15:59:11][DEBUG] jax_fem: Computing cell Jacobian and cell residual...\n",
      "[01-07 15:59:11][DEBUG] jax_fem: Function split_and_compute_cell took 0.0471 seconds\n",
      "[01-07 15:59:11][DEBUG] jax_fem: Creating sparse matrix with scipy...\n",
      "[01-07 15:59:11][DEBUG] jax_fem: res l_2 = 3.533325514849557e-07\n",
      "[01-07 15:59:11][INFO] jax_fem: Solve took 0.8237810134887695 [s]\n",
      "[01-07 15:59:11][DEBUG] jax_fem: max of dofs = 1029.580442814968\n",
      "[01-07 15:59:11][DEBUG] jax_fem: min of dofs = 300.0\n",
      "[01-07 15:59:11][DEBUG] jax_fem: Calling the row elimination solver for imposing Dirichlet B.C.\n",
      "[01-07 15:59:11][DEBUG] jax_fem: Start timing\n",
      "[01-07 15:59:11][DEBUG] jax_fem: Computing cell Jacobian and cell residual...\n",
      "[01-07 15:59:11][DEBUG] jax_fem: Function split_and_compute_cell took 0.0463 seconds\n",
      "[01-07 15:59:11][DEBUG] jax_fem: Creating sparse matrix with scipy...\n",
      "[01-07 15:59:11][DEBUG] jax_fem: Before, res l_2 = 13884.687065895645\n",
      "[01-07 15:59:11][DEBUG] jax_fem: Solving linear system...\n",
      "[01-07 15:59:11][DEBUG] jax_fem: JAX Solver - Solving linear system\n"
     ]
    },
    {
     "name": "stdout",
     "output_type": "stream",
     "text": [
      "\n",
      "Step 446, total step = 500, laser_x = 0.000571, Lx = 0.0005, laser ON = False\n"
     ]
    },
    {
     "name": "stderr",
     "output_type": "stream",
     "text": [
      "[01-07 15:59:11][DEBUG] jax_fem: JAX Solver - Finshed solving, res = 3.4576098770588854e-07\n",
      "[01-07 15:59:11][DEBUG] jax_fem: Computing cell Jacobian and cell residual...\n",
      "[01-07 15:59:11][DEBUG] jax_fem: Function split_and_compute_cell took 0.0443 seconds\n",
      "[01-07 15:59:11][DEBUG] jax_fem: Creating sparse matrix with scipy...\n",
      "[01-07 15:59:11][DEBUG] jax_fem: res l_2 = 3.457609878815058e-07\n",
      "[01-07 15:59:11][INFO] jax_fem: Solve took 0.7595634460449219 [s]\n",
      "[01-07 15:59:11][DEBUG] jax_fem: max of dofs = 1020.8955509916118\n",
      "[01-07 15:59:11][DEBUG] jax_fem: min of dofs = 300.0\n",
      "[01-07 15:59:11][DEBUG] jax_fem: Calling the row elimination solver for imposing Dirichlet B.C.\n",
      "[01-07 15:59:11][DEBUG] jax_fem: Start timing\n",
      "[01-07 15:59:11][DEBUG] jax_fem: Computing cell Jacobian and cell residual...\n",
      "[01-07 15:59:11][DEBUG] jax_fem: Function split_and_compute_cell took 0.0340 seconds\n",
      "[01-07 15:59:12][DEBUG] jax_fem: Creating sparse matrix with scipy...\n",
      "[01-07 15:59:12][DEBUG] jax_fem: Before, res l_2 = 13884.68575965544\n",
      "[01-07 15:59:12][DEBUG] jax_fem: Solving linear system...\n",
      "[01-07 15:59:12][DEBUG] jax_fem: JAX Solver - Solving linear system\n"
     ]
    },
    {
     "name": "stdout",
     "output_type": "stream",
     "text": [
      "\n",
      "Step 447, total step = 500, laser_x = 0.000572, Lx = 0.0005, laser ON = False\n"
     ]
    },
    {
     "name": "stderr",
     "output_type": "stream",
     "text": [
      "[01-07 15:59:12][DEBUG] jax_fem: JAX Solver - Finshed solving, res = 3.3837140369832693e-07\n",
      "[01-07 15:59:12][DEBUG] jax_fem: Computing cell Jacobian and cell residual...\n",
      "[01-07 15:59:12][DEBUG] jax_fem: Function split_and_compute_cell took 0.0517 seconds\n",
      "[01-07 15:59:12][DEBUG] jax_fem: Creating sparse matrix with scipy...\n",
      "[01-07 15:59:12][DEBUG] jax_fem: res l_2 = 3.3837140334839136e-07\n",
      "[01-07 15:59:12][INFO] jax_fem: Solve took 0.7838997840881348 [s]\n",
      "[01-07 15:59:12][DEBUG] jax_fem: max of dofs = 1012.3211487650233\n",
      "[01-07 15:59:12][DEBUG] jax_fem: min of dofs = 300.0\n",
      "[01-07 15:59:12][DEBUG] jax_fem: Calling the row elimination solver for imposing Dirichlet B.C.\n",
      "[01-07 15:59:12][DEBUG] jax_fem: Start timing\n",
      "[01-07 15:59:12][DEBUG] jax_fem: Computing cell Jacobian and cell residual...\n",
      "[01-07 15:59:12][DEBUG] jax_fem: Function split_and_compute_cell took 0.0394 seconds\n",
      "[01-07 15:59:12][DEBUG] jax_fem: Creating sparse matrix with scipy...\n",
      "[01-07 15:59:12][DEBUG] jax_fem: Before, res l_2 = 13884.684473201625\n",
      "[01-07 15:59:12][DEBUG] jax_fem: Solving linear system...\n",
      "[01-07 15:59:12][DEBUG] jax_fem: JAX Solver - Solving linear system\n"
     ]
    },
    {
     "name": "stdout",
     "output_type": "stream",
     "text": [
      "\n",
      "Step 448, total step = 500, laser_x = 0.0005729999999999999, Lx = 0.0005, laser ON = False\n"
     ]
    },
    {
     "name": "stderr",
     "output_type": "stream",
     "text": [
      "[01-07 15:59:13][DEBUG] jax_fem: JAX Solver - Finshed solving, res = 3.311593274052904e-07\n",
      "[01-07 15:59:13][DEBUG] jax_fem: Computing cell Jacobian and cell residual...\n",
      "[01-07 15:59:13][DEBUG] jax_fem: Function split_and_compute_cell took 0.0456 seconds\n",
      "[01-07 15:59:13][DEBUG] jax_fem: Creating sparse matrix with scipy...\n",
      "[01-07 15:59:13][DEBUG] jax_fem: res l_2 = 3.311593277196646e-07\n",
      "[01-07 15:59:13][INFO] jax_fem: Solve took 0.8310859203338623 [s]\n",
      "[01-07 15:59:13][DEBUG] jax_fem: max of dofs = 1003.8557211419458\n",
      "[01-07 15:59:13][DEBUG] jax_fem: min of dofs = 300.0\n",
      "[01-07 15:59:13][DEBUG] jax_fem: Calling the row elimination solver for imposing Dirichlet B.C.\n",
      "[01-07 15:59:13][DEBUG] jax_fem: Start timing\n",
      "[01-07 15:59:13][DEBUG] jax_fem: Computing cell Jacobian and cell residual...\n",
      "[01-07 15:59:13][DEBUG] jax_fem: Function split_and_compute_cell took 0.0355 seconds\n",
      "[01-07 15:59:13][DEBUG] jax_fem: Creating sparse matrix with scipy...\n",
      "[01-07 15:59:13][DEBUG] jax_fem: Before, res l_2 = 13884.683206186224\n",
      "[01-07 15:59:13][DEBUG] jax_fem: Solving linear system...\n",
      "[01-07 15:59:13][DEBUG] jax_fem: JAX Solver - Solving linear system\n"
     ]
    },
    {
     "name": "stdout",
     "output_type": "stream",
     "text": [
      "\n",
      "Step 449, total step = 500, laser_x = 0.000574, Lx = 0.0005, laser ON = False\n"
     ]
    },
    {
     "name": "stderr",
     "output_type": "stream",
     "text": [
      "[01-07 15:59:14][DEBUG] jax_fem: JAX Solver - Finshed solving, res = 3.241204384238684e-07\n",
      "[01-07 15:59:14][DEBUG] jax_fem: Computing cell Jacobian and cell residual...\n",
      "[01-07 15:59:14][DEBUG] jax_fem: Function split_and_compute_cell took 0.0819 seconds\n",
      "[01-07 15:59:14][DEBUG] jax_fem: Creating sparse matrix with scipy...\n",
      "[01-07 15:59:14][DEBUG] jax_fem: res l_2 = 3.241204384140722e-07\n",
      "[01-07 15:59:14][INFO] jax_fem: Solve took 0.8006229400634766 [s]\n",
      "[01-07 15:59:14][DEBUG] jax_fem: max of dofs = 995.4977756487968\n",
      "[01-07 15:59:14][DEBUG] jax_fem: min of dofs = 300.0\n",
      "[01-07 15:59:14][DEBUG] jax_fem: Calling the row elimination solver for imposing Dirichlet B.C.\n",
      "[01-07 15:59:14][DEBUG] jax_fem: Start timing\n",
      "[01-07 15:59:14][DEBUG] jax_fem: Computing cell Jacobian and cell residual...\n",
      "[01-07 15:59:14][DEBUG] jax_fem: Function split_and_compute_cell took 0.0305 seconds\n",
      "[01-07 15:59:14][DEBUG] jax_fem: Creating sparse matrix with scipy...\n",
      "[01-07 15:59:14][DEBUG] jax_fem: Before, res l_2 = 13884.681958268187\n",
      "[01-07 15:59:14][DEBUG] jax_fem: Solving linear system...\n",
      "[01-07 15:59:14][DEBUG] jax_fem: JAX Solver - Solving linear system\n"
     ]
    },
    {
     "name": "stdout",
     "output_type": "stream",
     "text": [
      "\n",
      "Step 450, total step = 500, laser_x = 0.000575, Lx = 0.0005, laser ON = False\n"
     ]
    },
    {
     "name": "stderr",
     "output_type": "stream",
     "text": [
      "[01-07 15:59:15][DEBUG] jax_fem: JAX Solver - Finshed solving, res = 3.1725056307092815e-07\n",
      "[01-07 15:59:15][DEBUG] jax_fem: Computing cell Jacobian and cell residual...\n",
      "[01-07 15:59:15][DEBUG] jax_fem: Function split_and_compute_cell took 0.0410 seconds\n",
      "[01-07 15:59:15][DEBUG] jax_fem: Creating sparse matrix with scipy...\n",
      "[01-07 15:59:15][DEBUG] jax_fem: res l_2 = 3.1725056327188385e-07\n",
      "[01-07 15:59:15][INFO] jax_fem: Solve took 1.223750352859497 [s]\n",
      "[01-07 15:59:15][DEBUG] jax_fem: max of dofs = 987.2458419668758\n",
      "[01-07 15:59:15][DEBUG] jax_fem: min of dofs = 300.0\n",
      "[01-07 15:59:15][DEBUG] jax_fem: Calling the row elimination solver for imposing Dirichlet B.C.\n",
      "[01-07 15:59:15][DEBUG] jax_fem: Start timing\n",
      "[01-07 15:59:15][DEBUG] jax_fem: Computing cell Jacobian and cell residual...\n",
      "[01-07 15:59:15][DEBUG] jax_fem: Function split_and_compute_cell took 0.3151 seconds\n",
      "[01-07 15:59:15][DEBUG] jax_fem: Creating sparse matrix with scipy...\n",
      "[01-07 15:59:16][DEBUG] jax_fem: Before, res l_2 = 0.18578408519069178\n",
      "[01-07 15:59:16][DEBUG] jax_fem: Solving linear system...\n",
      "[01-07 15:59:16][DEBUG] jax_fem: JAX Solver - Solving linear system\n",
      "[01-07 15:59:18][DEBUG] jax_fem: JAX Solver - Finshed solving, res = 9.751040361320295e-11\n",
      "[01-07 15:59:18][DEBUG] jax_fem: Computing cell Jacobian and cell residual...\n",
      "[01-07 15:59:19][DEBUG] jax_fem: Function split_and_compute_cell took 0.3983 seconds\n",
      "[01-07 15:59:19][DEBUG] jax_fem: Creating sparse matrix with scipy...\n",
      "[01-07 15:59:19][DEBUG] jax_fem: res l_2 = 0.013544218720119225\n",
      "[01-07 15:59:19][DEBUG] jax_fem: Solving linear system...\n",
      "[01-07 15:59:19][DEBUG] jax_fem: JAX Solver - Solving linear system\n",
      "[01-07 15:59:21][DEBUG] jax_fem: JAX Solver - Finshed solving, res = 8.046796894675768e-11\n",
      "[01-07 15:59:21][DEBUG] jax_fem: Computing cell Jacobian and cell residual...\n",
      "[01-07 15:59:21][DEBUG] jax_fem: Function split_and_compute_cell took 0.3351 seconds\n",
      "[01-07 15:59:21][DEBUG] jax_fem: Creating sparse matrix with scipy...\n",
      "[01-07 15:59:22][DEBUG] jax_fem: res l_2 = 0.0008467711948961203\n",
      "[01-07 15:59:22][DEBUG] jax_fem: Solving linear system...\n",
      "[01-07 15:59:22][DEBUG] jax_fem: JAX Solver - Solving linear system\n",
      "[01-07 15:59:24][DEBUG] jax_fem: JAX Solver - Finshed solving, res = 9.391458590476644e-11\n",
      "[01-07 15:59:24][DEBUG] jax_fem: Computing cell Jacobian and cell residual...\n",
      "[01-07 15:59:24][DEBUG] jax_fem: Function split_and_compute_cell took 0.3077 seconds\n",
      "[01-07 15:59:24][DEBUG] jax_fem: Creating sparse matrix with scipy...\n",
      "[01-07 15:59:24][DEBUG] jax_fem: res l_2 = 7.444371050059708e-06\n",
      "[01-07 15:59:24][DEBUG] jax_fem: Solving linear system...\n",
      "[01-07 15:59:24][DEBUG] jax_fem: JAX Solver - Solving linear system\n",
      "[01-07 15:59:26][DEBUG] jax_fem: JAX Solver - Finshed solving, res = 9.190628524225684e-11\n",
      "[01-07 15:59:26][DEBUG] jax_fem: Computing cell Jacobian and cell residual...\n",
      "[01-07 15:59:26][DEBUG] jax_fem: Function split_and_compute_cell took 0.2779 seconds\n",
      "[01-07 15:59:26][DEBUG] jax_fem: Creating sparse matrix with scipy...\n",
      "[01-07 15:59:26][DEBUG] jax_fem: res l_2 = 1.323048356970787e-10\n",
      "[01-07 15:59:26][INFO] jax_fem: Solve took 10.971014261245728 [s]\n",
      "[01-07 15:59:26][DEBUG] jax_fem: max of dofs = 2.129115359842509e-06\n",
      "[01-07 15:59:26][DEBUG] jax_fem: min of dofs = -1.9192800654762244e-06\n",
      "[01-07 15:59:26][DEBUG] jax_fem: Calling the row elimination solver for imposing Dirichlet B.C.\n",
      "[01-07 15:59:26][DEBUG] jax_fem: Start timing\n",
      "[01-07 15:59:26][DEBUG] jax_fem: Computing cell Jacobian and cell residual...\n",
      "[01-07 15:59:26][DEBUG] jax_fem: Function split_and_compute_cell took 0.0333 seconds\n",
      "[01-07 15:59:26][DEBUG] jax_fem: Creating sparse matrix with scipy...\n",
      "[01-07 15:59:26][DEBUG] jax_fem: Before, res l_2 = 13884.680729113226\n",
      "[01-07 15:59:26][DEBUG] jax_fem: Solving linear system...\n",
      "[01-07 15:59:26][DEBUG] jax_fem: JAX Solver - Solving linear system\n"
     ]
    },
    {
     "name": "stdout",
     "output_type": "stream",
     "text": [
      "max f_plus = 173446517.5636887, max stress_xx = 534088866.5687564\n",
      "\n",
      "Step 451, total step = 500, laser_x = 0.0005759999999999999, Lx = 0.0005, laser ON = False\n"
     ]
    },
    {
     "name": "stderr",
     "output_type": "stream",
     "text": [
      "[01-07 15:59:27][DEBUG] jax_fem: JAX Solver - Finshed solving, res = 3.1054566634685066e-07\n",
      "[01-07 15:59:27][DEBUG] jax_fem: Computing cell Jacobian and cell residual...\n",
      "[01-07 15:59:27][DEBUG] jax_fem: Function split_and_compute_cell took 0.1145 seconds\n",
      "[01-07 15:59:27][DEBUG] jax_fem: Creating sparse matrix with scipy...\n",
      "[01-07 15:59:27][DEBUG] jax_fem: res l_2 = 3.1054566570813006e-07\n",
      "[01-07 15:59:27][INFO] jax_fem: Solve took 0.8537461757659912 [s]\n",
      "[01-07 15:59:27][DEBUG] jax_fem: max of dofs = 979.0984715740545\n",
      "[01-07 15:59:27][DEBUG] jax_fem: min of dofs = 300.0\n",
      "[01-07 15:59:27][DEBUG] jax_fem: Calling the row elimination solver for imposing Dirichlet B.C.\n",
      "[01-07 15:59:27][DEBUG] jax_fem: Start timing\n",
      "[01-07 15:59:27][DEBUG] jax_fem: Computing cell Jacobian and cell residual...\n",
      "[01-07 15:59:27][DEBUG] jax_fem: Function split_and_compute_cell took 0.0429 seconds\n",
      "[01-07 15:59:27][DEBUG] jax_fem: Creating sparse matrix with scipy...\n",
      "[01-07 15:59:27][DEBUG] jax_fem: Before, res l_2 = 13884.67951839368\n",
      "[01-07 15:59:27][DEBUG] jax_fem: Solving linear system...\n",
      "[01-07 15:59:27][DEBUG] jax_fem: JAX Solver - Solving linear system\n"
     ]
    },
    {
     "name": "stdout",
     "output_type": "stream",
     "text": [
      "\n",
      "Step 452, total step = 500, laser_x = 0.000577, Lx = 0.0005, laser ON = False\n"
     ]
    },
    {
     "name": "stderr",
     "output_type": "stream",
     "text": [
      "[01-07 15:59:28][DEBUG] jax_fem: JAX Solver - Finshed solving, res = 3.0400184691086667e-07\n",
      "[01-07 15:59:28][DEBUG] jax_fem: Computing cell Jacobian and cell residual...\n",
      "[01-07 15:59:28][DEBUG] jax_fem: Function split_and_compute_cell took 0.0414 seconds\n",
      "[01-07 15:59:28][DEBUG] jax_fem: Creating sparse matrix with scipy...\n",
      "[01-07 15:59:28][DEBUG] jax_fem: res l_2 = 3.0400184675202957e-07\n",
      "[01-07 15:59:28][INFO] jax_fem: Solve took 0.9022166728973389 [s]\n",
      "[01-07 15:59:28][DEBUG] jax_fem: max of dofs = 971.0542373928519\n",
      "[01-07 15:59:28][DEBUG] jax_fem: min of dofs = 300.0\n",
      "[01-07 15:59:28][DEBUG] jax_fem: Calling the row elimination solver for imposing Dirichlet B.C.\n",
      "[01-07 15:59:28][DEBUG] jax_fem: Start timing\n",
      "[01-07 15:59:28][DEBUG] jax_fem: Computing cell Jacobian and cell residual...\n",
      "[01-07 15:59:28][DEBUG] jax_fem: Function split_and_compute_cell took 0.0295 seconds\n",
      "[01-07 15:59:28][DEBUG] jax_fem: Creating sparse matrix with scipy...\n",
      "[01-07 15:59:28][DEBUG] jax_fem: Before, res l_2 = 13884.678325788354\n",
      "[01-07 15:59:28][DEBUG] jax_fem: Solving linear system...\n",
      "[01-07 15:59:28][DEBUG] jax_fem: JAX Solver - Solving linear system\n"
     ]
    },
    {
     "name": "stdout",
     "output_type": "stream",
     "text": [
      "\n",
      "Step 453, total step = 500, laser_x = 0.000578, Lx = 0.0005, laser ON = False\n"
     ]
    },
    {
     "name": "stderr",
     "output_type": "stream",
     "text": [
      "[01-07 15:59:29][DEBUG] jax_fem: JAX Solver - Finshed solving, res = 2.976153279217781e-07\n",
      "[01-07 15:59:29][DEBUG] jax_fem: Computing cell Jacobian and cell residual...\n",
      "[01-07 15:59:29][DEBUG] jax_fem: Function split_and_compute_cell took 0.0434 seconds\n",
      "[01-07 15:59:29][DEBUG] jax_fem: Creating sparse matrix with scipy...\n",
      "[01-07 15:59:29][DEBUG] jax_fem: res l_2 = 2.976153275320524e-07\n",
      "[01-07 15:59:29][INFO] jax_fem: Solve took 0.7043395042419434 [s]\n",
      "[01-07 15:59:29][DEBUG] jax_fem: max of dofs = 963.1117334446869\n",
      "[01-07 15:59:29][DEBUG] jax_fem: min of dofs = 300.0\n",
      "[01-07 15:59:29][DEBUG] jax_fem: Calling the row elimination solver for imposing Dirichlet B.C.\n",
      "[01-07 15:59:29][DEBUG] jax_fem: Start timing\n",
      "[01-07 15:59:29][DEBUG] jax_fem: Computing cell Jacobian and cell residual...\n",
      "[01-07 15:59:29][DEBUG] jax_fem: Function split_and_compute_cell took 0.0387 seconds\n",
      "[01-07 15:59:29][DEBUG] jax_fem: Creating sparse matrix with scipy...\n",
      "[01-07 15:59:29][DEBUG] jax_fem: Before, res l_2 = 13884.677150982403\n",
      "[01-07 15:59:29][DEBUG] jax_fem: Solving linear system...\n",
      "[01-07 15:59:29][DEBUG] jax_fem: JAX Solver - Solving linear system\n"
     ]
    },
    {
     "name": "stdout",
     "output_type": "stream",
     "text": [
      "\n",
      "Step 454, total step = 500, laser_x = 0.000579, Lx = 0.0005, laser ON = False\n"
     ]
    },
    {
     "name": "stderr",
     "output_type": "stream",
     "text": [
      "[01-07 15:59:29][DEBUG] jax_fem: JAX Solver - Finshed solving, res = 2.913824511626936e-07\n",
      "[01-07 15:59:29][DEBUG] jax_fem: Computing cell Jacobian and cell residual...\n",
      "[01-07 15:59:29][DEBUG] jax_fem: Function split_and_compute_cell took 0.0417 seconds\n",
      "[01-07 15:59:29][DEBUG] jax_fem: Creating sparse matrix with scipy...\n",
      "[01-07 15:59:29][DEBUG] jax_fem: res l_2 = 2.9138245160086474e-07\n",
      "[01-07 15:59:29][INFO] jax_fem: Solve took 0.7144851684570312 [s]\n",
      "[01-07 15:59:29][DEBUG] jax_fem: max of dofs = 955.2695745102885\n",
      "[01-07 15:59:29][DEBUG] jax_fem: min of dofs = 300.0\n",
      "[01-07 15:59:29][DEBUG] jax_fem: Calling the row elimination solver for imposing Dirichlet B.C.\n",
      "[01-07 15:59:29][DEBUG] jax_fem: Start timing\n",
      "[01-07 15:59:29][DEBUG] jax_fem: Computing cell Jacobian and cell residual...\n",
      "[01-07 15:59:29][DEBUG] jax_fem: Function split_and_compute_cell took 0.0371 seconds\n",
      "[01-07 15:59:30][DEBUG] jax_fem: Creating sparse matrix with scipy...\n",
      "[01-07 15:59:30][DEBUG] jax_fem: Before, res l_2 = 13884.675993667164\n",
      "[01-07 15:59:30][DEBUG] jax_fem: Solving linear system...\n",
      "[01-07 15:59:30][DEBUG] jax_fem: JAX Solver - Solving linear system\n"
     ]
    },
    {
     "name": "stdout",
     "output_type": "stream",
     "text": [
      "\n",
      "Step 455, total step = 500, laser_x = 0.00058, Lx = 0.0005, laser ON = False\n"
     ]
    },
    {
     "name": "stderr",
     "output_type": "stream",
     "text": [
      "[01-07 15:59:30][DEBUG] jax_fem: JAX Solver - Finshed solving, res = 2.85299674786857e-07\n",
      "[01-07 15:59:30][DEBUG] jax_fem: Computing cell Jacobian and cell residual...\n",
      "[01-07 15:59:30][DEBUG] jax_fem: Function split_and_compute_cell took 0.0431 seconds\n",
      "[01-07 15:59:30][DEBUG] jax_fem: Creating sparse matrix with scipy...\n",
      "[01-07 15:59:30][DEBUG] jax_fem: res l_2 = 2.852996752818615e-07\n",
      "[01-07 15:59:30][INFO] jax_fem: Solve took 0.7168271541595459 [s]\n",
      "[01-07 15:59:30][DEBUG] jax_fem: max of dofs = 947.5263957960667\n",
      "[01-07 15:59:30][DEBUG] jax_fem: min of dofs = 300.0\n",
      "[01-07 15:59:30][DEBUG] jax_fem: Calling the row elimination solver for imposing Dirichlet B.C.\n",
      "[01-07 15:59:30][DEBUG] jax_fem: Start timing\n",
      "[01-07 15:59:30][DEBUG] jax_fem: Computing cell Jacobian and cell residual...\n",
      "[01-07 15:59:30][DEBUG] jax_fem: Function split_and_compute_cell took 0.0303 seconds\n",
      "[01-07 15:59:30][DEBUG] jax_fem: Creating sparse matrix with scipy...\n",
      "[01-07 15:59:30][DEBUG] jax_fem: Before, res l_2 = 13884.674853540046\n",
      "[01-07 15:59:30][DEBUG] jax_fem: Solving linear system...\n",
      "[01-07 15:59:30][DEBUG] jax_fem: JAX Solver - Solving linear system\n"
     ]
    },
    {
     "name": "stdout",
     "output_type": "stream",
     "text": [
      "\n",
      "Step 456, total step = 500, laser_x = 0.0005809999999999999, Lx = 0.0005, laser ON = False\n"
     ]
    },
    {
     "name": "stderr",
     "output_type": "stream",
     "text": [
      "[01-07 15:59:31][DEBUG] jax_fem: JAX Solver - Finshed solving, res = 2.793635605091914e-07\n",
      "[01-07 15:59:31][DEBUG] jax_fem: Computing cell Jacobian and cell residual...\n",
      "[01-07 15:59:31][DEBUG] jax_fem: Function split_and_compute_cell took 0.0552 seconds\n",
      "[01-07 15:59:31][DEBUG] jax_fem: Creating sparse matrix with scipy...\n",
      "[01-07 15:59:31][DEBUG] jax_fem: res l_2 = 2.793635600996793e-07\n",
      "[01-07 15:59:31][INFO] jax_fem: Solve took 0.6919348239898682 [s]\n",
      "[01-07 15:59:31][DEBUG] jax_fem: max of dofs = 939.8808526063742\n",
      "[01-07 15:59:31][DEBUG] jax_fem: min of dofs = 300.0\n",
      "[01-07 15:59:31][DEBUG] jax_fem: Calling the row elimination solver for imposing Dirichlet B.C.\n",
      "[01-07 15:59:31][DEBUG] jax_fem: Start timing\n",
      "[01-07 15:59:31][DEBUG] jax_fem: Computing cell Jacobian and cell residual...\n",
      "[01-07 15:59:31][DEBUG] jax_fem: Function split_and_compute_cell took 0.0342 seconds\n",
      "[01-07 15:59:31][DEBUG] jax_fem: Creating sparse matrix with scipy...\n",
      "[01-07 15:59:31][DEBUG] jax_fem: Before, res l_2 = 13884.673730304383\n",
      "[01-07 15:59:31][DEBUG] jax_fem: Solving linear system...\n",
      "[01-07 15:59:31][DEBUG] jax_fem: JAX Solver - Solving linear system\n"
     ]
    },
    {
     "name": "stdout",
     "output_type": "stream",
     "text": [
      "\n",
      "Step 457, total step = 500, laser_x = 0.000582, Lx = 0.0005, laser ON = False\n"
     ]
    },
    {
     "name": "stderr",
     "output_type": "stream",
     "text": [
      "[01-07 15:59:31][DEBUG] jax_fem: JAX Solver - Finshed solving, res = 2.7357077710548196e-07\n",
      "[01-07 15:59:31][DEBUG] jax_fem: Computing cell Jacobian and cell residual...\n",
      "[01-07 15:59:31][DEBUG] jax_fem: Function split_and_compute_cell took 0.0395 seconds\n",
      "[01-07 15:59:32][DEBUG] jax_fem: Creating sparse matrix with scipy...\n",
      "[01-07 15:59:32][DEBUG] jax_fem: res l_2 = 2.735707776739027e-07\n",
      "[01-07 15:59:32][INFO] jax_fem: Solve took 0.6610193252563477 [s]\n",
      "[01-07 15:59:32][DEBUG] jax_fem: max of dofs = 932.331620021515\n",
      "[01-07 15:59:32][DEBUG] jax_fem: min of dofs = 300.0\n",
      "[01-07 15:59:32][DEBUG] jax_fem: Calling the row elimination solver for imposing Dirichlet B.C.\n",
      "[01-07 15:59:32][DEBUG] jax_fem: Start timing\n",
      "[01-07 15:59:32][DEBUG] jax_fem: Computing cell Jacobian and cell residual...\n",
      "[01-07 15:59:32][DEBUG] jax_fem: Function split_and_compute_cell took 0.0341 seconds\n",
      "[01-07 15:59:32][DEBUG] jax_fem: Creating sparse matrix with scipy...\n",
      "[01-07 15:59:32][DEBUG] jax_fem: Before, res l_2 = 13884.672623669314\n",
      "[01-07 15:59:32][DEBUG] jax_fem: Solving linear system...\n",
      "[01-07 15:59:32][DEBUG] jax_fem: JAX Solver - Solving linear system\n"
     ]
    },
    {
     "name": "stdout",
     "output_type": "stream",
     "text": [
      "\n",
      "Step 458, total step = 500, laser_x = 0.000583, Lx = 0.0005, laser ON = False\n"
     ]
    },
    {
     "name": "stderr",
     "output_type": "stream",
     "text": [
      "[01-07 15:59:32][DEBUG] jax_fem: JAX Solver - Finshed solving, res = 2.6791808949964667e-07\n",
      "[01-07 15:59:32][DEBUG] jax_fem: Computing cell Jacobian and cell residual...\n",
      "[01-07 15:59:32][DEBUG] jax_fem: Function split_and_compute_cell took 0.0617 seconds\n",
      "[01-07 15:59:32][DEBUG] jax_fem: Creating sparse matrix with scipy...\n",
      "[01-07 15:59:32][DEBUG] jax_fem: res l_2 = 2.6791808966185316e-07\n",
      "[01-07 15:59:32][INFO] jax_fem: Solve took 0.7155134677886963 [s]\n",
      "[01-07 15:59:32][DEBUG] jax_fem: max of dofs = 924.8773925813988\n",
      "[01-07 15:59:32][DEBUG] jax_fem: min of dofs = 300.0\n",
      "[01-07 15:59:32][DEBUG] jax_fem: Calling the row elimination solver for imposing Dirichlet B.C.\n",
      "[01-07 15:59:32][DEBUG] jax_fem: Start timing\n",
      "[01-07 15:59:32][DEBUG] jax_fem: Computing cell Jacobian and cell residual...\n",
      "[01-07 15:59:32][DEBUG] jax_fem: Function split_and_compute_cell took 0.0360 seconds\n",
      "[01-07 15:59:32][DEBUG] jax_fem: Creating sparse matrix with scipy...\n",
      "[01-07 15:59:32][DEBUG] jax_fem: Before, res l_2 = 13884.671533349654\n",
      "[01-07 15:59:32][DEBUG] jax_fem: Solving linear system...\n",
      "[01-07 15:59:32][DEBUG] jax_fem: JAX Solver - Solving linear system\n"
     ]
    },
    {
     "name": "stdout",
     "output_type": "stream",
     "text": [
      "\n",
      "Step 459, total step = 500, laser_x = 0.000584, Lx = 0.0005, laser ON = False\n"
     ]
    },
    {
     "name": "stderr",
     "output_type": "stream",
     "text": [
      "[01-07 15:59:33][DEBUG] jax_fem: JAX Solver - Finshed solving, res = 2.624023558462618e-07\n",
      "[01-07 15:59:33][DEBUG] jax_fem: Computing cell Jacobian and cell residual...\n",
      "[01-07 15:59:33][DEBUG] jax_fem: Function split_and_compute_cell took 0.0529 seconds\n",
      "[01-07 15:59:33][DEBUG] jax_fem: Creating sparse matrix with scipy...\n",
      "[01-07 15:59:33][DEBUG] jax_fem: res l_2 = 2.6240235685271515e-07\n",
      "[01-07 15:59:33][INFO] jax_fem: Solve took 0.6440160274505615 [s]\n",
      "[01-07 15:59:33][DEBUG] jax_fem: max of dofs = 917.5168839747512\n",
      "[01-07 15:59:33][DEBUG] jax_fem: min of dofs = 300.0\n",
      "[01-07 15:59:33][DEBUG] jax_fem: Calling the row elimination solver for imposing Dirichlet B.C.\n",
      "[01-07 15:59:33][DEBUG] jax_fem: Start timing\n",
      "[01-07 15:59:33][DEBUG] jax_fem: Computing cell Jacobian and cell residual...\n",
      "[01-07 15:59:33][DEBUG] jax_fem: Function split_and_compute_cell took 0.0404 seconds\n",
      "[01-07 15:59:33][DEBUG] jax_fem: Creating sparse matrix with scipy...\n",
      "[01-07 15:59:33][DEBUG] jax_fem: Before, res l_2 = 13884.670459065776\n",
      "[01-07 15:59:33][DEBUG] jax_fem: Solving linear system...\n",
      "[01-07 15:59:33][DEBUG] jax_fem: JAX Solver - Solving linear system\n"
     ]
    },
    {
     "name": "stdout",
     "output_type": "stream",
     "text": [
      "\n",
      "Step 460, total step = 500, laser_x = 0.000585, Lx = 0.0005, laser ON = False\n"
     ]
    },
    {
     "name": "stderr",
     "output_type": "stream",
     "text": [
      "[01-07 15:59:33][DEBUG] jax_fem: JAX Solver - Finshed solving, res = 2.5702052216552336e-07\n",
      "[01-07 15:59:33][DEBUG] jax_fem: Computing cell Jacobian and cell residual...\n",
      "[01-07 15:59:34][DEBUG] jax_fem: Function split_and_compute_cell took 0.0539 seconds\n",
      "[01-07 15:59:34][DEBUG] jax_fem: Creating sparse matrix with scipy...\n",
      "[01-07 15:59:34][DEBUG] jax_fem: res l_2 = 2.5702052183434666e-07\n",
      "[01-07 15:59:34][INFO] jax_fem: Solve took 0.7032723426818848 [s]\n",
      "[01-07 15:59:34][DEBUG] jax_fem: max of dofs = 910.2488267337342\n",
      "[01-07 15:59:34][DEBUG] jax_fem: min of dofs = 300.0\n",
      "[01-07 15:59:34][DEBUG] jax_fem: Calling the row elimination solver for imposing Dirichlet B.C.\n",
      "[01-07 15:59:34][DEBUG] jax_fem: Start timing\n",
      "[01-07 15:59:34][DEBUG] jax_fem: Computing cell Jacobian and cell residual...\n",
      "[01-07 15:59:34][DEBUG] jax_fem: Function split_and_compute_cell took 0.2771 seconds\n",
      "[01-07 15:59:34][DEBUG] jax_fem: Creating sparse matrix with scipy...\n",
      "[01-07 15:59:34][DEBUG] jax_fem: Before, res l_2 = 0.16625018536713815\n",
      "[01-07 15:59:34][DEBUG] jax_fem: Solving linear system...\n",
      "[01-07 15:59:34][DEBUG] jax_fem: JAX Solver - Solving linear system\n",
      "[01-07 15:59:36][DEBUG] jax_fem: JAX Solver - Finshed solving, res = 2.4498023934527617e-11\n",
      "[01-07 15:59:36][DEBUG] jax_fem: Computing cell Jacobian and cell residual...\n",
      "[01-07 15:59:36][DEBUG] jax_fem: Function split_and_compute_cell took 0.2957 seconds\n",
      "[01-07 15:59:36][DEBUG] jax_fem: Creating sparse matrix with scipy...\n",
      "[01-07 15:59:37][DEBUG] jax_fem: res l_2 = 0.011949743795405964\n",
      "[01-07 15:59:37][DEBUG] jax_fem: Solving linear system...\n",
      "[01-07 15:59:37][DEBUG] jax_fem: JAX Solver - Solving linear system\n",
      "[01-07 15:59:39][DEBUG] jax_fem: JAX Solver - Finshed solving, res = 8.327843754814414e-11\n",
      "[01-07 15:59:39][DEBUG] jax_fem: Computing cell Jacobian and cell residual...\n",
      "[01-07 15:59:39][DEBUG] jax_fem: Function split_and_compute_cell took 0.3228 seconds\n",
      "[01-07 15:59:39][DEBUG] jax_fem: Creating sparse matrix with scipy...\n",
      "[01-07 15:59:39][DEBUG] jax_fem: res l_2 = 0.0005978196484602196\n",
      "[01-07 15:59:39][DEBUG] jax_fem: Solving linear system...\n",
      "[01-07 15:59:39][DEBUG] jax_fem: JAX Solver - Solving linear system\n",
      "[01-07 15:59:41][DEBUG] jax_fem: JAX Solver - Finshed solving, res = 3.557327699395333e-11\n",
      "[01-07 15:59:41][DEBUG] jax_fem: Computing cell Jacobian and cell residual...\n",
      "[01-07 15:59:41][DEBUG] jax_fem: Function split_and_compute_cell took 0.3581 seconds\n",
      "[01-07 15:59:42][DEBUG] jax_fem: Creating sparse matrix with scipy...\n",
      "[01-07 15:59:42][DEBUG] jax_fem: res l_2 = 7.800126757642951e-07\n",
      "[01-07 15:59:42][INFO] jax_fem: Solve took 8.089391231536865 [s]\n",
      "[01-07 15:59:42][DEBUG] jax_fem: max of dofs = 2.145269933874124e-06\n",
      "[01-07 15:59:42][DEBUG] jax_fem: min of dofs = -1.9506772606526934e-06\n",
      "[01-07 15:59:42][DEBUG] jax_fem: Calling the row elimination solver for imposing Dirichlet B.C.\n",
      "[01-07 15:59:42][DEBUG] jax_fem: Start timing\n",
      "[01-07 15:59:42][DEBUG] jax_fem: Computing cell Jacobian and cell residual...\n",
      "[01-07 15:59:42][DEBUG] jax_fem: Function split_and_compute_cell took 0.0617 seconds\n",
      "[01-07 15:59:42][DEBUG] jax_fem: Creating sparse matrix with scipy...\n",
      "[01-07 15:59:42][DEBUG] jax_fem: Before, res l_2 = 13884.669400543482\n",
      "[01-07 15:59:42][DEBUG] jax_fem: Solving linear system...\n",
      "[01-07 15:59:42][DEBUG] jax_fem: JAX Solver - Solving linear system\n"
     ]
    },
    {
     "name": "stdout",
     "output_type": "stream",
     "text": [
      "max f_plus = 148231716.13121438, max stress_xx = 538077841.6095793\n",
      "\n",
      "Step 461, total step = 500, laser_x = 0.0005859999999999999, Lx = 0.0005, laser ON = False\n"
     ]
    },
    {
     "name": "stderr",
     "output_type": "stream",
     "text": [
      "[01-07 15:59:42][DEBUG] jax_fem: JAX Solver - Finshed solving, res = 2.5176962082447316e-07\n",
      "[01-07 15:59:42][DEBUG] jax_fem: Computing cell Jacobian and cell residual...\n",
      "[01-07 15:59:42][DEBUG] jax_fem: Function split_and_compute_cell took 0.0367 seconds\n",
      "[01-07 15:59:43][DEBUG] jax_fem: Creating sparse matrix with scipy...\n",
      "[01-07 15:59:43][DEBUG] jax_fem: res l_2 = 2.517696206622708e-07\n",
      "[01-07 15:59:43][INFO] jax_fem: Solve took 0.6748945713043213 [s]\n",
      "[01-07 15:59:43][DEBUG] jax_fem: max of dofs = 903.0719719339108\n",
      "[01-07 15:59:43][DEBUG] jax_fem: min of dofs = 300.0\n",
      "[01-07 15:59:43][DEBUG] jax_fem: Calling the row elimination solver for imposing Dirichlet B.C.\n",
      "[01-07 15:59:43][DEBUG] jax_fem: Start timing\n",
      "[01-07 15:59:43][DEBUG] jax_fem: Computing cell Jacobian and cell residual...\n",
      "[01-07 15:59:43][DEBUG] jax_fem: Function split_and_compute_cell took 0.0318 seconds\n",
      "[01-07 15:59:43][DEBUG] jax_fem: Creating sparse matrix with scipy...\n",
      "[01-07 15:59:43][DEBUG] jax_fem: Before, res l_2 = 13884.668357513898\n",
      "[01-07 15:59:43][DEBUG] jax_fem: Solving linear system...\n",
      "[01-07 15:59:43][DEBUG] jax_fem: JAX Solver - Solving linear system\n"
     ]
    },
    {
     "name": "stdout",
     "output_type": "stream",
     "text": [
      "\n",
      "Step 462, total step = 500, laser_x = 0.000587, Lx = 0.0005, laser ON = False\n"
     ]
    },
    {
     "name": "stderr",
     "output_type": "stream",
     "text": [
      "[01-07 15:59:43][DEBUG] jax_fem: JAX Solver - Finshed solving, res = 2.4664676220389926e-07\n",
      "[01-07 15:59:43][DEBUG] jax_fem: Computing cell Jacobian and cell residual...\n",
      "[01-07 15:59:43][DEBUG] jax_fem: Function split_and_compute_cell took 0.0438 seconds\n",
      "[01-07 15:59:43][DEBUG] jax_fem: Creating sparse matrix with scipy...\n",
      "[01-07 15:59:43][DEBUG] jax_fem: res l_2 = 2.466467626660686e-07\n",
      "[01-07 15:59:43][INFO] jax_fem: Solve took 0.6842484474182129 [s]\n",
      "[01-07 15:59:43][DEBUG] jax_fem: max of dofs = 895.9850888994185\n",
      "[01-07 15:59:43][DEBUG] jax_fem: min of dofs = 300.0\n",
      "[01-07 15:59:43][DEBUG] jax_fem: Calling the row elimination solver for imposing Dirichlet B.C.\n",
      "[01-07 15:59:43][DEBUG] jax_fem: Start timing\n",
      "[01-07 15:59:43][DEBUG] jax_fem: Computing cell Jacobian and cell residual...\n",
      "[01-07 15:59:43][DEBUG] jax_fem: Function split_and_compute_cell took 0.0332 seconds\n",
      "[01-07 15:59:43][DEBUG] jax_fem: Creating sparse matrix with scipy...\n",
      "[01-07 15:59:43][DEBUG] jax_fem: Before, res l_2 = 13884.667329713353\n",
      "[01-07 15:59:43][DEBUG] jax_fem: Solving linear system...\n",
      "[01-07 15:59:43][DEBUG] jax_fem: JAX Solver - Solving linear system\n"
     ]
    },
    {
     "name": "stdout",
     "output_type": "stream",
     "text": [
      "\n",
      "Step 463, total step = 500, laser_x = 0.000588, Lx = 0.0005, laser ON = False\n"
     ]
    },
    {
     "name": "stderr",
     "output_type": "stream",
     "text": [
      "[01-07 15:59:44][DEBUG] jax_fem: JAX Solver - Finshed solving, res = 2.4164913553528224e-07\n",
      "[01-07 15:59:44][DEBUG] jax_fem: Computing cell Jacobian and cell residual...\n",
      "[01-07 15:59:44][DEBUG] jax_fem: Function split_and_compute_cell took 0.0328 seconds\n",
      "[01-07 15:59:44][DEBUG] jax_fem: Creating sparse matrix with scipy...\n",
      "[01-07 15:59:44][DEBUG] jax_fem: res l_2 = 2.416491356432235e-07\n",
      "[01-07 15:59:44][INFO] jax_fem: Solve took 0.7001667022705078 [s]\n",
      "[01-07 15:59:44][DEBUG] jax_fem: max of dofs = 888.986964913276\n",
      "[01-07 15:59:44][DEBUG] jax_fem: min of dofs = 300.0\n",
      "[01-07 15:59:44][DEBUG] jax_fem: Calling the row elimination solver for imposing Dirichlet B.C.\n",
      "[01-07 15:59:44][DEBUG] jax_fem: Start timing\n",
      "[01-07 15:59:44][DEBUG] jax_fem: Computing cell Jacobian and cell residual...\n",
      "[01-07 15:59:44][DEBUG] jax_fem: Function split_and_compute_cell took 0.0392 seconds\n",
      "[01-07 15:59:44][DEBUG] jax_fem: Creating sparse matrix with scipy...\n",
      "[01-07 15:59:44][DEBUG] jax_fem: Before, res l_2 = 13884.666316883267\n",
      "[01-07 15:59:44][DEBUG] jax_fem: Solving linear system...\n",
      "[01-07 15:59:44][DEBUG] jax_fem: JAX Solver - Solving linear system\n"
     ]
    },
    {
     "name": "stdout",
     "output_type": "stream",
     "text": [
      "\n",
      "Step 464, total step = 500, laser_x = 0.000589, Lx = 0.0005, laser ON = False\n"
     ]
    },
    {
     "name": "stderr",
     "output_type": "stream",
     "text": [
      "[01-07 15:59:44][DEBUG] jax_fem: JAX Solver - Finshed solving, res = 2.3677400315001185e-07\n",
      "[01-07 15:59:44][DEBUG] jax_fem: Computing cell Jacobian and cell residual...\n",
      "[01-07 15:59:45][DEBUG] jax_fem: Function split_and_compute_cell took 0.0398 seconds\n",
      "[01-07 15:59:45][DEBUG] jax_fem: Creating sparse matrix with scipy...\n",
      "[01-07 15:59:45][DEBUG] jax_fem: res l_2 = 2.367740026029482e-07\n",
      "[01-07 15:59:45][INFO] jax_fem: Solve took 0.6165599822998047 [s]\n",
      "[01-07 15:59:45][DEBUG] jax_fem: max of dofs = 882.0764049327175\n",
      "[01-07 15:59:45][DEBUG] jax_fem: min of dofs = 300.0\n",
      "[01-07 15:59:45][DEBUG] jax_fem: Calling the row elimination solver for imposing Dirichlet B.C.\n",
      "[01-07 15:59:45][DEBUG] jax_fem: Start timing\n",
      "[01-07 15:59:45][DEBUG] jax_fem: Computing cell Jacobian and cell residual...\n",
      "[01-07 15:59:45][DEBUG] jax_fem: Function split_and_compute_cell took 0.0337 seconds\n",
      "[01-07 15:59:45][DEBUG] jax_fem: Creating sparse matrix with scipy...\n",
      "[01-07 15:59:45][DEBUG] jax_fem: Before, res l_2 = 13884.665318770049\n",
      "[01-07 15:59:45][DEBUG] jax_fem: Solving linear system...\n",
      "[01-07 15:59:45][DEBUG] jax_fem: JAX Solver - Solving linear system\n"
     ]
    },
    {
     "name": "stdout",
     "output_type": "stream",
     "text": [
      "\n",
      "Step 465, total step = 500, laser_x = 0.00059, Lx = 0.0005, laser ON = False\n"
     ]
    },
    {
     "name": "stderr",
     "output_type": "stream",
     "text": [
      "[01-07 15:59:45][DEBUG] jax_fem: JAX Solver - Finshed solving, res = 2.3201869510631713e-07\n",
      "[01-07 15:59:45][DEBUG] jax_fem: Computing cell Jacobian and cell residual...\n",
      "[01-07 15:59:45][DEBUG] jax_fem: Function split_and_compute_cell took 0.0477 seconds\n",
      "[01-07 15:59:45][DEBUG] jax_fem: Creating sparse matrix with scipy...\n",
      "[01-07 15:59:45][DEBUG] jax_fem: res l_2 = 2.3201869492106274e-07\n",
      "[01-07 15:59:45][INFO] jax_fem: Solve took 0.6662588119506836 [s]\n",
      "[01-07 15:59:45][DEBUG] jax_fem: max of dofs = 875.2522313094587\n",
      "[01-07 15:59:45][DEBUG] jax_fem: min of dofs = 300.0\n",
      "[01-07 15:59:45][DEBUG] jax_fem: Calling the row elimination solver for imposing Dirichlet B.C.\n",
      "[01-07 15:59:45][DEBUG] jax_fem: Start timing\n",
      "[01-07 15:59:45][DEBUG] jax_fem: Computing cell Jacobian and cell residual...\n",
      "[01-07 15:59:45][DEBUG] jax_fem: Function split_and_compute_cell took 0.0337 seconds\n",
      "[01-07 15:59:45][DEBUG] jax_fem: Creating sparse matrix with scipy...\n",
      "[01-07 15:59:45][DEBUG] jax_fem: Before, res l_2 = 13884.664335124979\n",
      "[01-07 15:59:45][DEBUG] jax_fem: Solving linear system...\n",
      "[01-07 15:59:45][DEBUG] jax_fem: JAX Solver - Solving linear system\n"
     ]
    },
    {
     "name": "stdout",
     "output_type": "stream",
     "text": [
      "\n",
      "Step 466, total step = 500, laser_x = 0.0005909999999999999, Lx = 0.0005, laser ON = False\n"
     ]
    },
    {
     "name": "stderr",
     "output_type": "stream",
     "text": [
      "[01-07 15:59:46][DEBUG] jax_fem: JAX Solver - Finshed solving, res = 2.2738060982197443e-07\n",
      "[01-07 15:59:46][DEBUG] jax_fem: Computing cell Jacobian and cell residual...\n",
      "[01-07 15:59:46][DEBUG] jax_fem: Function split_and_compute_cell took 0.0343 seconds\n",
      "[01-07 15:59:46][DEBUG] jax_fem: Creating sparse matrix with scipy...\n",
      "[01-07 15:59:46][DEBUG] jax_fem: res l_2 = 2.273806094092583e-07\n",
      "[01-07 15:59:46][INFO] jax_fem: Solve took 0.6287961006164551 [s]\n",
      "[01-07 15:59:46][DEBUG] jax_fem: max of dofs = 868.5132835147821\n",
      "[01-07 15:59:46][DEBUG] jax_fem: min of dofs = 300.0\n",
      "[01-07 15:59:46][DEBUG] jax_fem: Calling the row elimination solver for imposing Dirichlet B.C.\n",
      "[01-07 15:59:46][DEBUG] jax_fem: Start timing\n",
      "[01-07 15:59:46][DEBUG] jax_fem: Computing cell Jacobian and cell residual...\n",
      "[01-07 15:59:46][DEBUG] jax_fem: Function split_and_compute_cell took 0.0344 seconds\n",
      "[01-07 15:59:46][DEBUG] jax_fem: Creating sparse matrix with scipy...\n",
      "[01-07 15:59:46][DEBUG] jax_fem: Before, res l_2 = 13884.66336570412\n",
      "[01-07 15:59:46][DEBUG] jax_fem: Solving linear system...\n",
      "[01-07 15:59:46][DEBUG] jax_fem: JAX Solver - Solving linear system\n"
     ]
    },
    {
     "name": "stdout",
     "output_type": "stream",
     "text": [
      "\n",
      "Step 467, total step = 500, laser_x = 0.000592, Lx = 0.0005, laser ON = False\n"
     ]
    },
    {
     "name": "stderr",
     "output_type": "stream",
     "text": [
      "[01-07 15:59:46][DEBUG] jax_fem: JAX Solver - Finshed solving, res = 2.2285720678177952e-07\n",
      "[01-07 15:59:46][DEBUG] jax_fem: Computing cell Jacobian and cell residual...\n",
      "[01-07 15:59:46][DEBUG] jax_fem: Function split_and_compute_cell took 0.0357 seconds\n",
      "[01-07 15:59:46][DEBUG] jax_fem: Creating sparse matrix with scipy...\n",
      "[01-07 15:59:47][DEBUG] jax_fem: res l_2 = 2.2285720751502312e-07\n",
      "[01-07 15:59:47][INFO] jax_fem: Solve took 0.5987906455993652 [s]\n",
      "[01-07 15:59:47][DEBUG] jax_fem: max of dofs = 861.8584178693858\n",
      "[01-07 15:59:47][DEBUG] jax_fem: min of dofs = 300.0\n",
      "[01-07 15:59:47][DEBUG] jax_fem: Calling the row elimination solver for imposing Dirichlet B.C.\n",
      "[01-07 15:59:47][DEBUG] jax_fem: Start timing\n",
      "[01-07 15:59:47][DEBUG] jax_fem: Computing cell Jacobian and cell residual...\n",
      "[01-07 15:59:47][DEBUG] jax_fem: Function split_and_compute_cell took 0.0293 seconds\n",
      "[01-07 15:59:47][DEBUG] jax_fem: Creating sparse matrix with scipy...\n",
      "[01-07 15:59:47][DEBUG] jax_fem: Before, res l_2 = 13884.662410268202\n",
      "[01-07 15:59:47][DEBUG] jax_fem: Solving linear system...\n",
      "[01-07 15:59:47][DEBUG] jax_fem: JAX Solver - Solving linear system\n"
     ]
    },
    {
     "name": "stdout",
     "output_type": "stream",
     "text": [
      "\n",
      "Step 468, total step = 500, laser_x = 0.000593, Lx = 0.0005, laser ON = False\n"
     ]
    },
    {
     "name": "stderr",
     "output_type": "stream",
     "text": [
      "[01-07 15:59:47][DEBUG] jax_fem: JAX Solver - Finshed solving, res = 2.1844600884112976e-07\n",
      "[01-07 15:59:47][DEBUG] jax_fem: Computing cell Jacobian and cell residual...\n",
      "[01-07 15:59:47][DEBUG] jax_fem: Function split_and_compute_cell took 0.0377 seconds\n",
      "[01-07 15:59:47][DEBUG] jax_fem: Creating sparse matrix with scipy...\n",
      "[01-07 15:59:47][DEBUG] jax_fem: res l_2 = 2.1844600865114578e-07\n",
      "[01-07 15:59:47][INFO] jax_fem: Solve took 0.7500400543212891 [s]\n",
      "[01-07 15:59:47][DEBUG] jax_fem: max of dofs = 855.2865072778741\n",
      "[01-07 15:59:47][DEBUG] jax_fem: min of dofs = 300.0\n",
      "[01-07 15:59:47][DEBUG] jax_fem: Calling the row elimination solver for imposing Dirichlet B.C.\n",
      "[01-07 15:59:47][DEBUG] jax_fem: Start timing\n",
      "[01-07 15:59:47][DEBUG] jax_fem: Computing cell Jacobian and cell residual...\n",
      "[01-07 15:59:47][DEBUG] jax_fem: Function split_and_compute_cell took 0.0345 seconds\n",
      "[01-07 15:59:47][DEBUG] jax_fem: Creating sparse matrix with scipy...\n",
      "[01-07 15:59:47][DEBUG] jax_fem: Before, res l_2 = 13884.661468582532\n",
      "[01-07 15:59:47][DEBUG] jax_fem: Solving linear system...\n",
      "[01-07 15:59:47][DEBUG] jax_fem: JAX Solver - Solving linear system\n"
     ]
    },
    {
     "name": "stdout",
     "output_type": "stream",
     "text": [
      "\n",
      "Step 469, total step = 500, laser_x = 0.0005939999999999999, Lx = 0.0005, laser ON = False\n"
     ]
    },
    {
     "name": "stderr",
     "output_type": "stream",
     "text": [
      "[01-07 15:59:48][DEBUG] jax_fem: JAX Solver - Finshed solving, res = 2.1414459319521097e-07\n",
      "[01-07 15:59:48][DEBUG] jax_fem: Computing cell Jacobian and cell residual...\n",
      "[01-07 15:59:48][DEBUG] jax_fem: Function split_and_compute_cell took 0.0341 seconds\n",
      "[01-07 15:59:48][DEBUG] jax_fem: Creating sparse matrix with scipy...\n",
      "[01-07 15:59:48][DEBUG] jax_fem: res l_2 = 2.141445933372154e-07\n",
      "[01-07 15:59:48][INFO] jax_fem: Solve took 0.6086621284484863 [s]\n",
      "[01-07 15:59:48][DEBUG] jax_fem: max of dofs = 848.7964409678319\n",
      "[01-07 15:59:48][DEBUG] jax_fem: min of dofs = 300.0\n",
      "[01-07 15:59:48][DEBUG] jax_fem: Calling the row elimination solver for imposing Dirichlet B.C.\n",
      "[01-07 15:59:48][DEBUG] jax_fem: Start timing\n",
      "[01-07 15:59:48][DEBUG] jax_fem: Computing cell Jacobian and cell residual...\n",
      "[01-07 15:59:48][DEBUG] jax_fem: Function split_and_compute_cell took 0.0315 seconds\n",
      "[01-07 15:59:48][DEBUG] jax_fem: Creating sparse matrix with scipy...\n",
      "[01-07 15:59:48][DEBUG] jax_fem: Before, res l_2 = 13884.660540416895\n",
      "[01-07 15:59:48][DEBUG] jax_fem: Solving linear system...\n",
      "[01-07 15:59:48][DEBUG] jax_fem: JAX Solver - Solving linear system\n"
     ]
    },
    {
     "name": "stdout",
     "output_type": "stream",
     "text": [
      "\n",
      "Step 470, total step = 500, laser_x = 0.000595, Lx = 0.0005, laser ON = False\n"
     ]
    },
    {
     "name": "stderr",
     "output_type": "stream",
     "text": [
      "[01-07 15:59:48][DEBUG] jax_fem: JAX Solver - Finshed solving, res = 2.0995059370600387e-07\n",
      "[01-07 15:59:48][DEBUG] jax_fem: Computing cell Jacobian and cell residual...\n",
      "[01-07 15:59:48][DEBUG] jax_fem: Function split_and_compute_cell took 0.0399 seconds\n",
      "[01-07 15:59:48][DEBUG] jax_fem: Creating sparse matrix with scipy...\n",
      "[01-07 15:59:49][DEBUG] jax_fem: res l_2 = 2.099505935843409e-07\n",
      "[01-07 15:59:49][INFO] jax_fem: Solve took 0.575178861618042 [s]\n",
      "[01-07 15:59:49][DEBUG] jax_fem: max of dofs = 842.3871242333527\n",
      "[01-07 15:59:49][DEBUG] jax_fem: min of dofs = 300.0\n",
      "[01-07 15:59:49][DEBUG] jax_fem: Calling the row elimination solver for imposing Dirichlet B.C.\n",
      "[01-07 15:59:49][DEBUG] jax_fem: Start timing\n",
      "[01-07 15:59:49][DEBUG] jax_fem: Computing cell Jacobian and cell residual...\n",
      "[01-07 15:59:49][DEBUG] jax_fem: Function split_and_compute_cell took 0.2685 seconds\n",
      "[01-07 15:59:49][DEBUG] jax_fem: Creating sparse matrix with scipy...\n",
      "[01-07 15:59:49][DEBUG] jax_fem: Before, res l_2 = 0.14889224582435506\n",
      "[01-07 15:59:49][DEBUG] jax_fem: Solving linear system...\n",
      "[01-07 15:59:49][DEBUG] jax_fem: JAX Solver - Solving linear system\n",
      "[01-07 15:59:51][DEBUG] jax_fem: JAX Solver - Finshed solving, res = 8.699430627831658e-11\n",
      "[01-07 15:59:51][DEBUG] jax_fem: Computing cell Jacobian and cell residual...\n",
      "[01-07 15:59:51][DEBUG] jax_fem: Function split_and_compute_cell took 0.2510 seconds\n",
      "[01-07 15:59:51][DEBUG] jax_fem: Creating sparse matrix with scipy...\n",
      "[01-07 15:59:51][DEBUG] jax_fem: res l_2 = 0.010988360190344245\n",
      "[01-07 15:59:51][DEBUG] jax_fem: Solving linear system...\n",
      "[01-07 15:59:51][DEBUG] jax_fem: JAX Solver - Solving linear system\n",
      "[01-07 15:59:53][DEBUG] jax_fem: JAX Solver - Finshed solving, res = 9.532589455046217e-11\n",
      "[01-07 15:59:53][DEBUG] jax_fem: Computing cell Jacobian and cell residual...\n",
      "[01-07 15:59:53][DEBUG] jax_fem: Function split_and_compute_cell took 0.2544 seconds\n",
      "[01-07 15:59:53][DEBUG] jax_fem: Creating sparse matrix with scipy...\n",
      "[01-07 15:59:54][DEBUG] jax_fem: res l_2 = 0.0005254837344726423\n",
      "[01-07 15:59:54][DEBUG] jax_fem: Solving linear system...\n",
      "[01-07 15:59:54][DEBUG] jax_fem: JAX Solver - Solving linear system\n",
      "[01-07 15:59:55][DEBUG] jax_fem: JAX Solver - Finshed solving, res = 2.771809596336304e-11\n",
      "[01-07 15:59:55][DEBUG] jax_fem: Computing cell Jacobian and cell residual...\n",
      "[01-07 15:59:56][DEBUG] jax_fem: Function split_and_compute_cell took 0.2672 seconds\n",
      "[01-07 15:59:56][DEBUG] jax_fem: Creating sparse matrix with scipy...\n",
      "[01-07 15:59:56][DEBUG] jax_fem: res l_2 = 4.493177316692115e-07\n",
      "[01-07 15:59:56][INFO] jax_fem: Solve took 7.401521921157837 [s]\n",
      "[01-07 15:59:56][DEBUG] jax_fem: max of dofs = 2.159783912502731e-06\n",
      "[01-07 15:59:56][DEBUG] jax_fem: min of dofs = -1.980314098900495e-06\n",
      "[01-07 15:59:56][DEBUG] jax_fem: Calling the row elimination solver for imposing Dirichlet B.C.\n",
      "[01-07 15:59:56][DEBUG] jax_fem: Start timing\n",
      "[01-07 15:59:56][DEBUG] jax_fem: Computing cell Jacobian and cell residual...\n",
      "[01-07 15:59:56][DEBUG] jax_fem: Function split_and_compute_cell took 0.0494 seconds\n",
      "[01-07 15:59:56][DEBUG] jax_fem: Creating sparse matrix with scipy...\n",
      "[01-07 15:59:56][DEBUG] jax_fem: Before, res l_2 = 13884.659625545453\n",
      "[01-07 15:59:56][DEBUG] jax_fem: Solving linear system...\n",
      "[01-07 15:59:56][DEBUG] jax_fem: JAX Solver - Solving linear system\n"
     ]
    },
    {
     "name": "stdout",
     "output_type": "stream",
     "text": [
      "max f_plus = 126587941.26697874, max stress_xx = 541671291.5409017\n",
      "\n",
      "Step 471, total step = 500, laser_x = 0.000596, Lx = 0.0005, laser ON = False\n"
     ]
    },
    {
     "name": "stderr",
     "output_type": "stream",
     "text": [
      "[01-07 15:59:57][DEBUG] jax_fem: JAX Solver - Finshed solving, res = 2.058616952205137e-07\n",
      "[01-07 15:59:57][DEBUG] jax_fem: Computing cell Jacobian and cell residual...\n",
      "[01-07 15:59:57][DEBUG] jax_fem: Function split_and_compute_cell took 0.0452 seconds\n",
      "[01-07 15:59:57][DEBUG] jax_fem: Creating sparse matrix with scipy...\n",
      "[01-07 15:59:57][DEBUG] jax_fem: res l_2 = 2.0586169580407684e-07\n",
      "[01-07 15:59:57][INFO] jax_fem: Solve took 0.6511561870574951 [s]\n",
      "[01-07 15:59:57][DEBUG] jax_fem: max of dofs = 836.0574781829813\n",
      "[01-07 15:59:57][DEBUG] jax_fem: min of dofs = 300.0\n",
      "[01-07 15:59:57][DEBUG] jax_fem: Calling the row elimination solver for imposing Dirichlet B.C.\n",
      "[01-07 15:59:57][DEBUG] jax_fem: Start timing\n",
      "[01-07 15:59:57][DEBUG] jax_fem: Computing cell Jacobian and cell residual...\n",
      "[01-07 15:59:57][DEBUG] jax_fem: Function split_and_compute_cell took 0.0648 seconds\n",
      "[01-07 15:59:57][DEBUG] jax_fem: Creating sparse matrix with scipy...\n",
      "[01-07 15:59:57][DEBUG] jax_fem: Before, res l_2 = 13884.658723746668\n",
      "[01-07 15:59:57][DEBUG] jax_fem: Solving linear system...\n"
     ]
    },
    {
     "name": "stdout",
     "output_type": "stream",
     "text": [
      "\n",
      "Step 472, total step = 500, laser_x = 0.000597, Lx = 0.0005, laser ON = False\n"
     ]
    },
    {
     "name": "stderr",
     "output_type": "stream",
     "text": [
      "[01-07 15:59:57][DEBUG] jax_fem: JAX Solver - Solving linear system\n",
      "[01-07 15:59:57][DEBUG] jax_fem: JAX Solver - Finshed solving, res = 2.0187563419345213e-07\n",
      "[01-07 15:59:57][DEBUG] jax_fem: Computing cell Jacobian and cell residual...\n",
      "[01-07 15:59:57][DEBUG] jax_fem: Function split_and_compute_cell took 0.0328 seconds\n",
      "[01-07 15:59:57][DEBUG] jax_fem: Creating sparse matrix with scipy...\n",
      "[01-07 15:59:57][DEBUG] jax_fem: res l_2 = 2.018756341317006e-07\n",
      "[01-07 15:59:57][INFO] jax_fem: Solve took 0.6571347713470459 [s]\n",
      "[01-07 15:59:57][DEBUG] jax_fem: max of dofs = 829.8064394919604\n",
      "[01-07 15:59:57][DEBUG] jax_fem: min of dofs = 300.0\n",
      "[01-07 15:59:57][DEBUG] jax_fem: Calling the row elimination solver for imposing Dirichlet B.C.\n",
      "[01-07 15:59:57][DEBUG] jax_fem: Start timing\n",
      "[01-07 15:59:57][DEBUG] jax_fem: Computing cell Jacobian and cell residual...\n",
      "[01-07 15:59:57][DEBUG] jax_fem: Function split_and_compute_cell took 0.0345 seconds\n",
      "[01-07 15:59:57][DEBUG] jax_fem: Creating sparse matrix with scipy...\n",
      "[01-07 15:59:58][DEBUG] jax_fem: Before, res l_2 = 13884.657834803196\n",
      "[01-07 15:59:58][DEBUG] jax_fem: Solving linear system...\n",
      "[01-07 15:59:58][DEBUG] jax_fem: JAX Solver - Solving linear system\n"
     ]
    },
    {
     "name": "stdout",
     "output_type": "stream",
     "text": [
      "\n",
      "Step 473, total step = 500, laser_x = 0.000598, Lx = 0.0005, laser ON = False\n"
     ]
    },
    {
     "name": "stderr",
     "output_type": "stream",
     "text": [
      "[01-07 15:59:58][DEBUG] jax_fem: JAX Solver - Finshed solving, res = 1.979901928370956e-07\n",
      "[01-07 15:59:58][DEBUG] jax_fem: Computing cell Jacobian and cell residual...\n",
      "[01-07 15:59:58][DEBUG] jax_fem: Function split_and_compute_cell took 0.0586 seconds\n",
      "[01-07 15:59:58][DEBUG] jax_fem: Creating sparse matrix with scipy...\n",
      "[01-07 15:59:58][DEBUG] jax_fem: res l_2 = 1.9799019325239914e-07\n",
      "[01-07 15:59:58][INFO] jax_fem: Solve took 0.666633129119873 [s]\n",
      "[01-07 15:59:58][DEBUG] jax_fem: max of dofs = 823.6329601587089\n",
      "[01-07 15:59:58][DEBUG] jax_fem: min of dofs = 300.0\n",
      "[01-07 15:59:58][DEBUG] jax_fem: Calling the row elimination solver for imposing Dirichlet B.C.\n",
      "[01-07 15:59:58][DEBUG] jax_fem: Start timing\n",
      "[01-07 15:59:58][DEBUG] jax_fem: Computing cell Jacobian and cell residual...\n",
      "[01-07 15:59:58][DEBUG] jax_fem: Function split_and_compute_cell took 0.0312 seconds\n",
      "[01-07 15:59:58][DEBUG] jax_fem: Creating sparse matrix with scipy...\n",
      "[01-07 15:59:58][DEBUG] jax_fem: Before, res l_2 = 13884.656958501804\n",
      "[01-07 15:59:58][DEBUG] jax_fem: Solving linear system...\n",
      "[01-07 15:59:58][DEBUG] jax_fem: JAX Solver - Solving linear system\n"
     ]
    },
    {
     "name": "stdout",
     "output_type": "stream",
     "text": [
      "\n",
      "Step 474, total step = 500, laser_x = 0.0005989999999999999, Lx = 0.0005, laser ON = False\n"
     ]
    },
    {
     "name": "stderr",
     "output_type": "stream",
     "text": [
      "[01-07 15:59:59][DEBUG] jax_fem: JAX Solver - Finshed solving, res = 1.9420319914230518e-07\n",
      "[01-07 15:59:59][DEBUG] jax_fem: Computing cell Jacobian and cell residual...\n",
      "[01-07 15:59:59][DEBUG] jax_fem: Function split_and_compute_cell took 0.0490 seconds\n",
      "[01-07 15:59:59][DEBUG] jax_fem: Creating sparse matrix with scipy...\n",
      "[01-07 15:59:59][DEBUG] jax_fem: res l_2 = 1.9420319871942183e-07\n",
      "[01-07 15:59:59][INFO] jax_fem: Solve took 0.7159347534179688 [s]\n",
      "[01-07 15:59:59][DEBUG] jax_fem: max of dofs = 817.5360072654516\n",
      "[01-07 15:59:59][DEBUG] jax_fem: min of dofs = 300.0\n",
      "[01-07 15:59:59][DEBUG] jax_fem: Calling the row elimination solver for imposing Dirichlet B.C.\n",
      "[01-07 15:59:59][DEBUG] jax_fem: Start timing\n",
      "[01-07 15:59:59][DEBUG] jax_fem: Computing cell Jacobian and cell residual...\n",
      "[01-07 15:59:59][DEBUG] jax_fem: Function split_and_compute_cell took 0.0302 seconds\n",
      "[01-07 15:59:59][DEBUG] jax_fem: Creating sparse matrix with scipy...\n",
      "[01-07 15:59:59][DEBUG] jax_fem: Before, res l_2 = 13884.656094633294\n",
      "[01-07 15:59:59][DEBUG] jax_fem: Solving linear system...\n",
      "[01-07 15:59:59][DEBUG] jax_fem: JAX Solver - Solving linear system\n"
     ]
    },
    {
     "name": "stdout",
     "output_type": "stream",
     "text": [
      "\n",
      "Step 475, total step = 500, laser_x = 0.0006000000000000001, Lx = 0.0005, laser ON = False\n"
     ]
    },
    {
     "name": "stderr",
     "output_type": "stream",
     "text": [
      "[01-07 15:59:59][DEBUG] jax_fem: JAX Solver - Finshed solving, res = 1.9051252444468174e-07\n",
      "[01-07 15:59:59][DEBUG] jax_fem: Computing cell Jacobian and cell residual...\n",
      "[01-07 15:59:59][DEBUG] jax_fem: Function split_and_compute_cell took 0.0398 seconds\n",
      "[01-07 15:59:59][DEBUG] jax_fem: Creating sparse matrix with scipy...\n",
      "[01-07 15:59:59][DEBUG] jax_fem: res l_2 = 1.9051252425098902e-07\n",
      "[01-07 15:59:59][INFO] jax_fem: Solve took 0.5688223838806152 [s]\n",
      "[01-07 15:59:59][DEBUG] jax_fem: max of dofs = 811.5145627429337\n",
      "[01-07 15:59:59][DEBUG] jax_fem: min of dofs = 300.0\n",
      "[01-07 15:59:59][DEBUG] jax_fem: Calling the row elimination solver for imposing Dirichlet B.C.\n",
      "[01-07 15:59:59][DEBUG] jax_fem: Start timing\n",
      "[01-07 15:59:59][DEBUG] jax_fem: Computing cell Jacobian and cell residual...\n",
      "[01-07 15:59:59][DEBUG] jax_fem: Function split_and_compute_cell took 0.0300 seconds\n",
      "[01-07 15:59:59][DEBUG] jax_fem: Creating sparse matrix with scipy...\n",
      "[01-07 15:59:59][DEBUG] jax_fem: Before, res l_2 = 13884.655242992394\n",
      "[01-07 15:59:59][DEBUG] jax_fem: Solving linear system...\n",
      "[01-07 15:59:59][DEBUG] jax_fem: JAX Solver - Solving linear system\n"
     ]
    },
    {
     "name": "stdout",
     "output_type": "stream",
     "text": [
      "\n",
      "Step 476, total step = 500, laser_x = 0.000601, Lx = 0.0005, laser ON = False\n"
     ]
    },
    {
     "name": "stderr",
     "output_type": "stream",
     "text": [
      "[01-07 16:00:00][DEBUG] jax_fem: JAX Solver - Finshed solving, res = 1.8691608020312187e-07\n",
      "[01-07 16:00:00][DEBUG] jax_fem: Computing cell Jacobian and cell residual...\n",
      "[01-07 16:00:00][DEBUG] jax_fem: Function split_and_compute_cell took 0.0513 seconds\n",
      "[01-07 16:00:00][DEBUG] jax_fem: Creating sparse matrix with scipy...\n",
      "[01-07 16:00:00][DEBUG] jax_fem: res l_2 = 1.8691608004787613e-07\n",
      "[01-07 16:00:00][INFO] jax_fem: Solve took 0.7163131237030029 [s]\n",
      "[01-07 16:00:00][DEBUG] jax_fem: max of dofs = 805.5676231391184\n",
      "[01-07 16:00:00][DEBUG] jax_fem: min of dofs = 300.0\n",
      "[01-07 16:00:00][DEBUG] jax_fem: Calling the row elimination solver for imposing Dirichlet B.C.\n",
      "[01-07 16:00:00][DEBUG] jax_fem: Start timing\n",
      "[01-07 16:00:00][DEBUG] jax_fem: Computing cell Jacobian and cell residual...\n",
      "[01-07 16:00:00][DEBUG] jax_fem: Function split_and_compute_cell took 0.0306 seconds\n",
      "[01-07 16:00:00][DEBUG] jax_fem: Creating sparse matrix with scipy...\n",
      "[01-07 16:00:00][DEBUG] jax_fem: Before, res l_2 = 13884.654403377708\n",
      "[01-07 16:00:00][DEBUG] jax_fem: Solving linear system...\n",
      "[01-07 16:00:00][DEBUG] jax_fem: JAX Solver - Solving linear system\n"
     ]
    },
    {
     "name": "stdout",
     "output_type": "stream",
     "text": [
      "\n",
      "Step 477, total step = 500, laser_x = 0.000602, Lx = 0.0005, laser ON = False\n"
     ]
    },
    {
     "name": "stderr",
     "output_type": "stream",
     "text": [
      "[01-07 16:00:01][DEBUG] jax_fem: JAX Solver - Finshed solving, res = 1.8341181803820804e-07\n",
      "[01-07 16:00:01][DEBUG] jax_fem: Computing cell Jacobian and cell residual...\n",
      "[01-07 16:00:01][DEBUG] jax_fem: Function split_and_compute_cell took 0.0352 seconds\n",
      "[01-07 16:00:01][DEBUG] jax_fem: Creating sparse matrix with scipy...\n",
      "[01-07 16:00:01][DEBUG] jax_fem: res l_2 = 1.8341181751361272e-07\n",
      "[01-07 16:00:01][INFO] jax_fem: Solve took 0.6135084629058838 [s]\n",
      "[01-07 16:00:01][DEBUG] jax_fem: max of dofs = 799.6941993918147\n",
      "[01-07 16:00:01][DEBUG] jax_fem: min of dofs = 300.0\n",
      "[01-07 16:00:01][DEBUG] jax_fem: Calling the row elimination solver for imposing Dirichlet B.C.\n",
      "[01-07 16:00:01][DEBUG] jax_fem: Start timing\n",
      "[01-07 16:00:01][DEBUG] jax_fem: Computing cell Jacobian and cell residual...\n",
      "[01-07 16:00:01][DEBUG] jax_fem: Function split_and_compute_cell took 0.0301 seconds\n",
      "[01-07 16:00:01][DEBUG] jax_fem: Creating sparse matrix with scipy...\n",
      "[01-07 16:00:01][DEBUG] jax_fem: Before, res l_2 = 13884.65357559161\n",
      "[01-07 16:00:01][DEBUG] jax_fem: Solving linear system...\n",
      "[01-07 16:00:01][DEBUG] jax_fem: JAX Solver - Solving linear system\n"
     ]
    },
    {
     "name": "stdout",
     "output_type": "stream",
     "text": [
      "\n",
      "Step 478, total step = 500, laser_x = 0.000603, Lx = 0.0005, laser ON = False\n"
     ]
    },
    {
     "name": "stderr",
     "output_type": "stream",
     "text": [
      "[01-07 16:00:01][DEBUG] jax_fem: JAX Solver - Finshed solving, res = 1.7999772726421412e-07\n",
      "[01-07 16:00:01][DEBUG] jax_fem: Computing cell Jacobian and cell residual...\n",
      "[01-07 16:00:01][DEBUG] jax_fem: Function split_and_compute_cell took 0.0315 seconds\n",
      "[01-07 16:00:01][DEBUG] jax_fem: Creating sparse matrix with scipy...\n",
      "[01-07 16:00:01][DEBUG] jax_fem: res l_2 = 1.7999772725646872e-07\n",
      "[01-07 16:00:01][INFO] jax_fem: Solve took 0.5154867172241211 [s]\n",
      "[01-07 16:00:01][DEBUG] jax_fem: max of dofs = 793.8933166051537\n",
      "[01-07 16:00:01][DEBUG] jax_fem: min of dofs = 300.0\n",
      "[01-07 16:00:01][DEBUG] jax_fem: Calling the row elimination solver for imposing Dirichlet B.C.\n",
      "[01-07 16:00:01][DEBUG] jax_fem: Start timing\n",
      "[01-07 16:00:01][DEBUG] jax_fem: Computing cell Jacobian and cell residual...\n",
      "[01-07 16:00:01][DEBUG] jax_fem: Function split_and_compute_cell took 0.0360 seconds\n",
      "[01-07 16:00:01][DEBUG] jax_fem: Creating sparse matrix with scipy...\n",
      "[01-07 16:00:01][DEBUG] jax_fem: Before, res l_2 = 13884.652759440176\n",
      "[01-07 16:00:01][DEBUG] jax_fem: Solving linear system...\n",
      "[01-07 16:00:01][DEBUG] jax_fem: JAX Solver - Solving linear system\n"
     ]
    },
    {
     "name": "stdout",
     "output_type": "stream",
     "text": [
      "\n",
      "Step 479, total step = 500, laser_x = 0.0006039999999999999, Lx = 0.0005, laser ON = False\n"
     ]
    },
    {
     "name": "stderr",
     "output_type": "stream",
     "text": [
      "[01-07 16:00:02][DEBUG] jax_fem: JAX Solver - Finshed solving, res = 1.7667183159848392e-07\n",
      "[01-07 16:00:02][DEBUG] jax_fem: Computing cell Jacobian and cell residual...\n",
      "[01-07 16:00:02][DEBUG] jax_fem: Function split_and_compute_cell took 0.0324 seconds\n",
      "[01-07 16:00:02][DEBUG] jax_fem: Creating sparse matrix with scipy...\n",
      "[01-07 16:00:02][DEBUG] jax_fem: res l_2 = 1.766718317623128e-07\n",
      "[01-07 16:00:02][INFO] jax_fem: Solve took 0.5998735427856445 [s]\n",
      "[01-07 16:00:02][DEBUG] jax_fem: max of dofs = 788.1640138298478\n",
      "[01-07 16:00:02][DEBUG] jax_fem: min of dofs = 300.0\n",
      "[01-07 16:00:02][DEBUG] jax_fem: Calling the row elimination solver for imposing Dirichlet B.C.\n",
      "[01-07 16:00:02][DEBUG] jax_fem: Start timing\n",
      "[01-07 16:00:02][DEBUG] jax_fem: Computing cell Jacobian and cell residual...\n",
      "[01-07 16:00:02][DEBUG] jax_fem: Function split_and_compute_cell took 0.0249 seconds\n",
      "[01-07 16:00:02][DEBUG] jax_fem: Creating sparse matrix with scipy...\n",
      "[01-07 16:00:02][DEBUG] jax_fem: Before, res l_2 = 13884.651954733106\n",
      "[01-07 16:00:02][DEBUG] jax_fem: Solving linear system...\n",
      "[01-07 16:00:02][DEBUG] jax_fem: JAX Solver - Solving linear system\n"
     ]
    },
    {
     "name": "stdout",
     "output_type": "stream",
     "text": [
      "\n",
      "Step 480, total step = 500, laser_x = 0.000605, Lx = 0.0005, laser ON = False\n"
     ]
    },
    {
     "name": "stderr",
     "output_type": "stream",
     "text": [
      "[01-07 16:00:02][DEBUG] jax_fem: JAX Solver - Finshed solving, res = 1.7343218847822152e-07\n",
      "[01-07 16:00:02][DEBUG] jax_fem: Computing cell Jacobian and cell residual...\n",
      "[01-07 16:00:02][DEBUG] jax_fem: Function split_and_compute_cell took 0.0375 seconds\n",
      "[01-07 16:00:02][DEBUG] jax_fem: Creating sparse matrix with scipy...\n",
      "[01-07 16:00:02][DEBUG] jax_fem: res l_2 = 1.7343218813812144e-07\n",
      "[01-07 16:00:02][INFO] jax_fem: Solve took 0.5808775424957275 [s]\n",
      "[01-07 16:00:02][DEBUG] jax_fem: max of dofs = 782.50534384716\n",
      "[01-07 16:00:02][DEBUG] jax_fem: min of dofs = 300.0\n",
      "[01-07 16:00:02][DEBUG] jax_fem: Calling the row elimination solver for imposing Dirichlet B.C.\n",
      "[01-07 16:00:02][DEBUG] jax_fem: Start timing\n",
      "[01-07 16:00:02][DEBUG] jax_fem: Computing cell Jacobian and cell residual...\n",
      "[01-07 16:00:03][DEBUG] jax_fem: Function split_and_compute_cell took 0.2593 seconds\n",
      "[01-07 16:00:03][DEBUG] jax_fem: Creating sparse matrix with scipy...\n",
      "[01-07 16:00:03][DEBUG] jax_fem: Before, res l_2 = 0.133449255029112\n",
      "[01-07 16:00:03][DEBUG] jax_fem: Solving linear system...\n",
      "[01-07 16:00:03][DEBUG] jax_fem: JAX Solver - Solving linear system\n",
      "[01-07 16:00:05][DEBUG] jax_fem: JAX Solver - Finshed solving, res = 9.576003518560972e-11\n",
      "[01-07 16:00:05][DEBUG] jax_fem: Computing cell Jacobian and cell residual...\n",
      "[01-07 16:00:05][DEBUG] jax_fem: Function split_and_compute_cell took 0.2595 seconds\n",
      "[01-07 16:00:05][DEBUG] jax_fem: Creating sparse matrix with scipy...\n",
      "[01-07 16:00:05][DEBUG] jax_fem: res l_2 = 0.010093787306861748\n",
      "[01-07 16:00:05][DEBUG] jax_fem: Solving linear system...\n",
      "[01-07 16:00:05][DEBUG] jax_fem: JAX Solver - Solving linear system\n",
      "[01-07 16:00:07][DEBUG] jax_fem: JAX Solver - Finshed solving, res = 9.999458748588667e-11\n",
      "[01-07 16:00:07][DEBUG] jax_fem: Computing cell Jacobian and cell residual...\n",
      "[01-07 16:00:07][DEBUG] jax_fem: Function split_and_compute_cell took 0.2433 seconds\n",
      "[01-07 16:00:07][DEBUG] jax_fem: Creating sparse matrix with scipy...\n",
      "[01-07 16:00:07][DEBUG] jax_fem: res l_2 = 0.00033069639904649973\n",
      "[01-07 16:00:07][DEBUG] jax_fem: Solving linear system...\n",
      "[01-07 16:00:07][DEBUG] jax_fem: JAX Solver - Solving linear system\n",
      "[01-07 16:00:09][DEBUG] jax_fem: JAX Solver - Finshed solving, res = 9.197947210505688e-11\n",
      "[01-07 16:00:09][DEBUG] jax_fem: Computing cell Jacobian and cell residual...\n",
      "[01-07 16:00:09][DEBUG] jax_fem: Function split_and_compute_cell took 0.2932 seconds\n",
      "[01-07 16:00:09][DEBUG] jax_fem: Creating sparse matrix with scipy...\n",
      "[01-07 16:00:10][DEBUG] jax_fem: res l_2 = 3.074311211781385e-06\n",
      "[01-07 16:00:10][DEBUG] jax_fem: Solving linear system...\n",
      "[01-07 16:00:10][DEBUG] jax_fem: JAX Solver - Solving linear system\n",
      "[01-07 16:00:11][DEBUG] jax_fem: JAX Solver - Finshed solving, res = 9.883166111741316e-11\n",
      "[01-07 16:00:11][DEBUG] jax_fem: Computing cell Jacobian and cell residual...\n",
      "[01-07 16:00:11][DEBUG] jax_fem: Function split_and_compute_cell took 0.3494 seconds\n",
      "[01-07 16:00:11][DEBUG] jax_fem: Creating sparse matrix with scipy...\n",
      "[01-07 16:00:11][DEBUG] jax_fem: res l_2 = 9.908132360165069e-11\n",
      "[01-07 16:00:11][INFO] jax_fem: Solve took 8.799170732498169 [s]\n",
      "[01-07 16:00:11][DEBUG] jax_fem: max of dofs = 2.1729136626832115e-06\n",
      "[01-07 16:00:11][DEBUG] jax_fem: min of dofs = -2.007101663087437e-06\n",
      "[01-07 16:00:11][DEBUG] jax_fem: Calling the row elimination solver for imposing Dirichlet B.C.\n",
      "[01-07 16:00:11][DEBUG] jax_fem: Start timing\n",
      "[01-07 16:00:11][DEBUG] jax_fem: Computing cell Jacobian and cell residual...\n",
      "[01-07 16:00:11][DEBUG] jax_fem: Function split_and_compute_cell took 0.0375 seconds\n",
      "[01-07 16:00:11][DEBUG] jax_fem: Creating sparse matrix with scipy...\n",
      "[01-07 16:00:11][DEBUG] jax_fem: Before, res l_2 = 13884.651161283655\n",
      "[01-07 16:00:11][DEBUG] jax_fem: Solving linear system...\n",
      "[01-07 16:00:11][DEBUG] jax_fem: JAX Solver - Solving linear system\n"
     ]
    },
    {
     "name": "stdout",
     "output_type": "stream",
     "text": [
      "max f_plus = 108617173.59821898, max stress_xx = 544935742.5728447\n",
      "\n",
      "Step 481, total step = 500, laser_x = 0.000606, Lx = 0.0005, laser ON = False\n"
     ]
    },
    {
     "name": "stderr",
     "output_type": "stream",
     "text": [
      "[01-07 16:00:12][DEBUG] jax_fem: JAX Solver - Finshed solving, res = 1.7027688938484437e-07\n",
      "[01-07 16:00:12][DEBUG] jax_fem: Computing cell Jacobian and cell residual...\n",
      "[01-07 16:00:12][DEBUG] jax_fem: Function split_and_compute_cell took 0.0380 seconds\n",
      "[01-07 16:00:12][DEBUG] jax_fem: Creating sparse matrix with scipy...\n",
      "[01-07 16:00:12][DEBUG] jax_fem: res l_2 = 1.7027688990228896e-07\n",
      "[01-07 16:00:12][INFO] jax_fem: Solve took 0.6878228187561035 [s]\n",
      "[01-07 16:00:12][DEBUG] jax_fem: max of dofs = 776.9163729565004\n",
      "[01-07 16:00:12][DEBUG] jax_fem: min of dofs = 300.0\n",
      "[01-07 16:00:12][DEBUG] jax_fem: Calling the row elimination solver for imposing Dirichlet B.C.\n",
      "[01-07 16:00:12][DEBUG] jax_fem: Start timing\n",
      "[01-07 16:00:12][DEBUG] jax_fem: Computing cell Jacobian and cell residual...\n",
      "[01-07 16:00:12][DEBUG] jax_fem: Function split_and_compute_cell took 0.0367 seconds\n",
      "[01-07 16:00:12][DEBUG] jax_fem: Creating sparse matrix with scipy...\n",
      "[01-07 16:00:12][DEBUG] jax_fem: Before, res l_2 = 13884.65037890854\n",
      "[01-07 16:00:12][DEBUG] jax_fem: Solving linear system...\n",
      "[01-07 16:00:12][DEBUG] jax_fem: JAX Solver - Solving linear system\n"
     ]
    },
    {
     "name": "stdout",
     "output_type": "stream",
     "text": [
      "\n",
      "Step 482, total step = 500, laser_x = 0.0006069999999999999, Lx = 0.0005, laser ON = False\n"
     ]
    },
    {
     "name": "stderr",
     "output_type": "stream",
     "text": [
      "[01-07 16:00:13][DEBUG] jax_fem: JAX Solver - Finshed solving, res = 1.6720405556907068e-07\n",
      "[01-07 16:00:13][DEBUG] jax_fem: Computing cell Jacobian and cell residual...\n",
      "[01-07 16:00:13][DEBUG] jax_fem: Function split_and_compute_cell took 0.0422 seconds\n",
      "[01-07 16:00:13][DEBUG] jax_fem: Creating sparse matrix with scipy...\n",
      "[01-07 16:00:13][DEBUG] jax_fem: res l_2 = 1.6720405550258084e-07\n",
      "[01-07 16:00:13][INFO] jax_fem: Solve took 0.6381180286407471 [s]\n",
      "[01-07 16:00:13][DEBUG] jax_fem: max of dofs = 771.396180766614\n",
      "[01-07 16:00:13][DEBUG] jax_fem: min of dofs = 300.0\n",
      "[01-07 16:00:13][DEBUG] jax_fem: Calling the row elimination solver for imposing Dirichlet B.C.\n",
      "[01-07 16:00:13][DEBUG] jax_fem: Start timing\n",
      "[01-07 16:00:13][DEBUG] jax_fem: Computing cell Jacobian and cell residual...\n",
      "[01-07 16:00:13][DEBUG] jax_fem: Function split_and_compute_cell took 0.0267 seconds\n",
      "[01-07 16:00:13][DEBUG] jax_fem: Creating sparse matrix with scipy...\n",
      "[01-07 16:00:13][DEBUG] jax_fem: Before, res l_2 = 13884.649607427893\n",
      "[01-07 16:00:13][DEBUG] jax_fem: Solving linear system...\n",
      "[01-07 16:00:13][DEBUG] jax_fem: JAX Solver - Solving linear system\n"
     ]
    },
    {
     "name": "stdout",
     "output_type": "stream",
     "text": [
      "\n",
      "Step 483, total step = 500, laser_x = 0.000608, Lx = 0.0005, laser ON = False\n"
     ]
    },
    {
     "name": "stderr",
     "output_type": "stream",
     "text": [
      "[01-07 16:00:13][DEBUG] jax_fem: JAX Solver - Finshed solving, res = 1.6421183840570367e-07\n",
      "[01-07 16:00:13][DEBUG] jax_fem: Computing cell Jacobian and cell residual...\n",
      "[01-07 16:00:13][DEBUG] jax_fem: Function split_and_compute_cell took 0.0343 seconds\n",
      "[01-07 16:00:13][DEBUG] jax_fem: Creating sparse matrix with scipy...\n",
      "[01-07 16:00:13][DEBUG] jax_fem: res l_2 = 1.6421183891875555e-07\n",
      "[01-07 16:00:13][INFO] jax_fem: Solve took 0.618621826171875 [s]\n",
      "[01-07 16:00:13][DEBUG] jax_fem: max of dofs = 765.9438599902655\n",
      "[01-07 16:00:13][DEBUG] jax_fem: min of dofs = 300.0\n",
      "[01-07 16:00:13][DEBUG] jax_fem: Calling the row elimination solver for imposing Dirichlet B.C.\n",
      "[01-07 16:00:13][DEBUG] jax_fem: Start timing\n",
      "[01-07 16:00:13][DEBUG] jax_fem: Computing cell Jacobian and cell residual...\n",
      "[01-07 16:00:13][DEBUG] jax_fem: Function split_and_compute_cell took 0.0297 seconds\n",
      "[01-07 16:00:13][DEBUG] jax_fem: Creating sparse matrix with scipy...\n",
      "[01-07 16:00:13][DEBUG] jax_fem: Before, res l_2 = 13884.648846665174\n",
      "[01-07 16:00:13][DEBUG] jax_fem: Solving linear system...\n",
      "[01-07 16:00:13][DEBUG] jax_fem: JAX Solver - Solving linear system\n"
     ]
    },
    {
     "name": "stdout",
     "output_type": "stream",
     "text": [
      "\n",
      "Step 484, total step = 500, laser_x = 0.000609, Lx = 0.0005, laser ON = False\n"
     ]
    },
    {
     "name": "stderr",
     "output_type": "stream",
     "text": [
      "[01-07 16:00:14][DEBUG] jax_fem: JAX Solver - Finshed solving, res = 1.6129841628394502e-07\n",
      "[01-07 16:00:14][DEBUG] jax_fem: Computing cell Jacobian and cell residual...\n",
      "[01-07 16:00:14][DEBUG] jax_fem: Function split_and_compute_cell took 0.0364 seconds\n",
      "[01-07 16:00:14][DEBUG] jax_fem: Creating sparse matrix with scipy...\n",
      "[01-07 16:00:14][DEBUG] jax_fem: res l_2 = 1.612984169074235e-07\n",
      "[01-07 16:00:14][INFO] jax_fem: Solve took 0.5349583625793457 [s]\n",
      "[01-07 16:00:14][DEBUG] jax_fem: max of dofs = 760.5585162423665\n",
      "[01-07 16:00:14][DEBUG] jax_fem: min of dofs = 300.0\n",
      "[01-07 16:00:14][DEBUG] jax_fem: Calling the row elimination solver for imposing Dirichlet B.C.\n",
      "[01-07 16:00:14][DEBUG] jax_fem: Start timing\n",
      "[01-07 16:00:14][DEBUG] jax_fem: Computing cell Jacobian and cell residual...\n",
      "[01-07 16:00:14][DEBUG] jax_fem: Function split_and_compute_cell took 0.0344 seconds\n",
      "[01-07 16:00:14][DEBUG] jax_fem: Creating sparse matrix with scipy...\n",
      "[01-07 16:00:14][DEBUG] jax_fem: Before, res l_2 = 13884.64809644711\n",
      "[01-07 16:00:14][DEBUG] jax_fem: Solving linear system...\n",
      "[01-07 16:00:14][DEBUG] jax_fem: JAX Solver - Solving linear system\n"
     ]
    },
    {
     "name": "stdout",
     "output_type": "stream",
     "text": [
      "\n",
      "Step 485, total step = 500, laser_x = 0.00061, Lx = 0.0005, laser ON = False\n"
     ]
    },
    {
     "name": "stderr",
     "output_type": "stream",
     "text": [
      "[01-07 16:00:14][DEBUG] jax_fem: JAX Solver - Finshed solving, res = 1.584619956612283e-07\n",
      "[01-07 16:00:14][DEBUG] jax_fem: Computing cell Jacobian and cell residual...\n",
      "[01-07 16:00:14][DEBUG] jax_fem: Function split_and_compute_cell took 0.0347 seconds\n",
      "[01-07 16:00:14][DEBUG] jax_fem: Creating sparse matrix with scipy...\n",
      "[01-07 16:00:14][DEBUG] jax_fem: res l_2 = 1.5846199615804514e-07\n",
      "[01-07 16:00:14][INFO] jax_fem: Solve took 0.5499911308288574 [s]\n",
      "[01-07 16:00:14][DEBUG] jax_fem: max of dofs = 755.2392678414882\n",
      "[01-07 16:00:14][DEBUG] jax_fem: min of dofs = 300.0\n",
      "[01-07 16:00:14][DEBUG] jax_fem: Calling the row elimination solver for imposing Dirichlet B.C.\n",
      "[01-07 16:00:14][DEBUG] jax_fem: Start timing\n",
      "[01-07 16:00:14][DEBUG] jax_fem: Computing cell Jacobian and cell residual...\n",
      "[01-07 16:00:15][DEBUG] jax_fem: Function split_and_compute_cell took 0.0255 seconds\n",
      "[01-07 16:00:15][DEBUG] jax_fem: Creating sparse matrix with scipy...\n",
      "[01-07 16:00:15][DEBUG] jax_fem: Before, res l_2 = 13884.647356603627\n",
      "[01-07 16:00:15][DEBUG] jax_fem: Solving linear system...\n",
      "[01-07 16:00:15][DEBUG] jax_fem: JAX Solver - Solving linear system\n"
     ]
    },
    {
     "name": "stdout",
     "output_type": "stream",
     "text": [
      "\n",
      "Step 486, total step = 500, laser_x = 0.000611, Lx = 0.0005, laser ON = False\n"
     ]
    },
    {
     "name": "stderr",
     "output_type": "stream",
     "text": [
      "[01-07 16:00:15][DEBUG] jax_fem: JAX Solver - Finshed solving, res = 1.5570080898943813e-07\n",
      "[01-07 16:00:15][DEBUG] jax_fem: Computing cell Jacobian and cell residual...\n",
      "[01-07 16:00:15][DEBUG] jax_fem: Function split_and_compute_cell took 0.0430 seconds\n",
      "[01-07 16:00:15][DEBUG] jax_fem: Creating sparse matrix with scipy...\n",
      "[01-07 16:00:15][DEBUG] jax_fem: res l_2 = 1.5570080902595144e-07\n",
      "[01-07 16:00:15][INFO] jax_fem: Solve took 0.5409362316131592 [s]\n",
      "[01-07 16:00:15][DEBUG] jax_fem: max of dofs = 749.9852456146847\n",
      "[01-07 16:00:15][DEBUG] jax_fem: min of dofs = 300.0\n",
      "[01-07 16:00:15][DEBUG] jax_fem: Calling the row elimination solver for imposing Dirichlet B.C.\n",
      "[01-07 16:00:15][DEBUG] jax_fem: Start timing\n",
      "[01-07 16:00:15][DEBUG] jax_fem: Computing cell Jacobian and cell residual...\n",
      "[01-07 16:00:15][DEBUG] jax_fem: Function split_and_compute_cell took 0.0314 seconds\n",
      "[01-07 16:00:15][DEBUG] jax_fem: Creating sparse matrix with scipy...\n",
      "[01-07 16:00:15][DEBUG] jax_fem: Before, res l_2 = 13884.646626967782\n",
      "[01-07 16:00:15][DEBUG] jax_fem: Solving linear system...\n",
      "[01-07 16:00:15][DEBUG] jax_fem: JAX Solver - Solving linear system\n"
     ]
    },
    {
     "name": "stdout",
     "output_type": "stream",
     "text": [
      "\n",
      "Step 487, total step = 500, laser_x = 0.0006119999999999999, Lx = 0.0005, laser ON = False\n"
     ]
    },
    {
     "name": "stderr",
     "output_type": "stream",
     "text": [
      "[01-07 16:00:15][DEBUG] jax_fem: JAX Solver - Finshed solving, res = 1.5301311230698367e-07\n",
      "[01-07 16:00:15][DEBUG] jax_fem: Computing cell Jacobian and cell residual...\n",
      "[01-07 16:00:16][DEBUG] jax_fem: Function split_and_compute_cell took 0.0350 seconds\n",
      "[01-07 16:00:16][DEBUG] jax_fem: Creating sparse matrix with scipy...\n",
      "[01-07 16:00:16][DEBUG] jax_fem: res l_2 = 1.5301311162732742e-07\n",
      "[01-07 16:00:16][INFO] jax_fem: Solve took 0.553046464920044 [s]\n",
      "[01-07 16:00:16][DEBUG] jax_fem: max of dofs = 744.7955927055773\n",
      "[01-07 16:00:16][DEBUG] jax_fem: min of dofs = 300.0\n",
      "[01-07 16:00:16][DEBUG] jax_fem: Calling the row elimination solver for imposing Dirichlet B.C.\n",
      "[01-07 16:00:16][DEBUG] jax_fem: Start timing\n",
      "[01-07 16:00:16][DEBUG] jax_fem: Computing cell Jacobian and cell residual...\n",
      "[01-07 16:00:16][DEBUG] jax_fem: Function split_and_compute_cell took 0.0296 seconds\n",
      "[01-07 16:00:16][DEBUG] jax_fem: Creating sparse matrix with scipy...\n",
      "[01-07 16:00:16][DEBUG] jax_fem: Before, res l_2 = 13884.645907375698\n",
      "[01-07 16:00:16][DEBUG] jax_fem: Solving linear system...\n",
      "[01-07 16:00:16][DEBUG] jax_fem: JAX Solver - Solving linear system\n"
     ]
    },
    {
     "name": "stdout",
     "output_type": "stream",
     "text": [
      "\n",
      "Step 488, total step = 500, laser_x = 0.000613, Lx = 0.0005, laser ON = False\n"
     ]
    },
    {
     "name": "stderr",
     "output_type": "stream",
     "text": [
      "[01-07 16:00:16][DEBUG] jax_fem: JAX Solver - Finshed solving, res = 1.503971859577676e-07\n",
      "[01-07 16:00:16][DEBUG] jax_fem: Computing cell Jacobian and cell residual...\n",
      "[01-07 16:00:16][DEBUG] jax_fem: Function split_and_compute_cell took 0.0443 seconds\n",
      "[01-07 16:00:16][DEBUG] jax_fem: Creating sparse matrix with scipy...\n",
      "[01-07 16:00:16][DEBUG] jax_fem: res l_2 = 1.503971864067536e-07\n",
      "[01-07 16:00:16][INFO] jax_fem: Solve took 0.5855116844177246 [s]\n",
      "[01-07 16:00:16][DEBUG] jax_fem: max of dofs = 739.6694643856365\n",
      "[01-07 16:00:16][DEBUG] jax_fem: min of dofs = 300.0\n",
      "[01-07 16:00:16][DEBUG] jax_fem: Calling the row elimination solver for imposing Dirichlet B.C.\n",
      "[01-07 16:00:16][DEBUG] jax_fem: Start timing\n",
      "[01-07 16:00:16][DEBUG] jax_fem: Computing cell Jacobian and cell residual...\n",
      "[01-07 16:00:16][DEBUG] jax_fem: Function split_and_compute_cell took 0.0273 seconds\n",
      "[01-07 16:00:16][DEBUG] jax_fem: Creating sparse matrix with scipy...\n",
      "[01-07 16:00:16][DEBUG] jax_fem: Before, res l_2 = 13884.645197666508\n",
      "[01-07 16:00:16][DEBUG] jax_fem: Solving linear system...\n",
      "[01-07 16:00:16][DEBUG] jax_fem: JAX Solver - Solving linear system\n"
     ]
    },
    {
     "name": "stdout",
     "output_type": "stream",
     "text": [
      "\n",
      "Step 489, total step = 500, laser_x = 0.000614, Lx = 0.0005, laser ON = False\n"
     ]
    },
    {
     "name": "stderr",
     "output_type": "stream",
     "text": [
      "[01-07 16:00:17][DEBUG] jax_fem: JAX Solver - Finshed solving, res = 1.4785133446349374e-07\n",
      "[01-07 16:00:17][DEBUG] jax_fem: Computing cell Jacobian and cell residual...\n",
      "[01-07 16:00:17][DEBUG] jax_fem: Function split_and_compute_cell took 0.0836 seconds\n",
      "[01-07 16:00:17][DEBUG] jax_fem: Creating sparse matrix with scipy...\n",
      "[01-07 16:00:17][DEBUG] jax_fem: res l_2 = 1.478513350496765e-07\n",
      "[01-07 16:00:17][INFO] jax_fem: Solve took 1.1094145774841309 [s]\n",
      "[01-07 16:00:17][DEBUG] jax_fem: max of dofs = 734.6060278686043\n",
      "[01-07 16:00:17][DEBUG] jax_fem: min of dofs = 300.0\n",
      "[01-07 16:00:17][DEBUG] jax_fem: Calling the row elimination solver for imposing Dirichlet B.C.\n",
      "[01-07 16:00:17][DEBUG] jax_fem: Start timing\n",
      "[01-07 16:00:17][DEBUG] jax_fem: Computing cell Jacobian and cell residual...\n",
      "[01-07 16:00:17][DEBUG] jax_fem: Function split_and_compute_cell took 0.0599 seconds\n",
      "[01-07 16:00:17][DEBUG] jax_fem: Creating sparse matrix with scipy...\n",
      "[01-07 16:00:17][DEBUG] jax_fem: Before, res l_2 = 13884.644497682288\n",
      "[01-07 16:00:17][DEBUG] jax_fem: Solving linear system...\n",
      "[01-07 16:00:17][DEBUG] jax_fem: JAX Solver - Solving linear system\n"
     ]
    },
    {
     "name": "stdout",
     "output_type": "stream",
     "text": [
      "\n",
      "Step 490, total step = 500, laser_x = 0.000615, Lx = 0.0005, laser ON = False\n"
     ]
    },
    {
     "name": "stderr",
     "output_type": "stream",
     "text": [
      "[01-07 16:00:18][DEBUG] jax_fem: JAX Solver - Finshed solving, res = 1.4537388182919537e-07\n",
      "[01-07 16:00:18][DEBUG] jax_fem: Computing cell Jacobian and cell residual...\n",
      "[01-07 16:00:18][DEBUG] jax_fem: Function split_and_compute_cell took 0.0384 seconds\n",
      "[01-07 16:00:18][DEBUG] jax_fem: Creating sparse matrix with scipy...\n",
      "[01-07 16:00:18][DEBUG] jax_fem: res l_2 = 1.453738819944955e-07\n",
      "[01-07 16:00:18][INFO] jax_fem: Solve took 0.6567411422729492 [s]\n",
      "[01-07 16:00:18][DEBUG] jax_fem: max of dofs = 729.6044621279964\n",
      "[01-07 16:00:18][DEBUG] jax_fem: min of dofs = 300.0\n",
      "[01-07 16:00:18][DEBUG] jax_fem: Calling the row elimination solver for imposing Dirichlet B.C.\n",
      "[01-07 16:00:18][DEBUG] jax_fem: Start timing\n",
      "[01-07 16:00:18][DEBUG] jax_fem: Computing cell Jacobian and cell residual...\n",
      "[01-07 16:00:18][DEBUG] jax_fem: Function split_and_compute_cell took 0.2661 seconds\n",
      "[01-07 16:00:18][DEBUG] jax_fem: Creating sparse matrix with scipy...\n",
      "[01-07 16:00:19][DEBUG] jax_fem: Before, res l_2 = 0.11969454538502144\n",
      "[01-07 16:00:19][DEBUG] jax_fem: Solving linear system...\n",
      "[01-07 16:00:19][DEBUG] jax_fem: JAX Solver - Solving linear system\n",
      "[01-07 16:00:20][DEBUG] jax_fem: JAX Solver - Finshed solving, res = 5.841095568432666e-11\n",
      "[01-07 16:00:20][DEBUG] jax_fem: Computing cell Jacobian and cell residual...\n",
      "[01-07 16:00:21][DEBUG] jax_fem: Function split_and_compute_cell took 0.2767 seconds\n",
      "[01-07 16:00:21][DEBUG] jax_fem: Creating sparse matrix with scipy...\n",
      "[01-07 16:00:21][DEBUG] jax_fem: res l_2 = 0.009200844141949502\n",
      "[01-07 16:00:21][DEBUG] jax_fem: Solving linear system...\n",
      "[01-07 16:00:21][DEBUG] jax_fem: JAX Solver - Solving linear system\n",
      "[01-07 16:00:23][DEBUG] jax_fem: JAX Solver - Finshed solving, res = 9.997244408892651e-11\n",
      "[01-07 16:00:23][DEBUG] jax_fem: Computing cell Jacobian and cell residual...\n",
      "[01-07 16:00:23][DEBUG] jax_fem: Function split_and_compute_cell took 0.2420 seconds\n",
      "[01-07 16:00:23][DEBUG] jax_fem: Creating sparse matrix with scipy...\n",
      "[01-07 16:00:23][DEBUG] jax_fem: res l_2 = 0.00028490078899523914\n",
      "[01-07 16:00:23][DEBUG] jax_fem: Solving linear system...\n",
      "[01-07 16:00:23][DEBUG] jax_fem: JAX Solver - Solving linear system\n",
      "[01-07 16:00:25][DEBUG] jax_fem: JAX Solver - Finshed solving, res = 7.974900204315447e-11\n",
      "[01-07 16:00:25][DEBUG] jax_fem: Computing cell Jacobian and cell residual...\n",
      "[01-07 16:00:25][DEBUG] jax_fem: Function split_and_compute_cell took 0.2533 seconds\n",
      "[01-07 16:00:25][DEBUG] jax_fem: Creating sparse matrix with scipy...\n",
      "[01-07 16:00:25][DEBUG] jax_fem: res l_2 = 2.4862347146032763e-07\n",
      "[01-07 16:00:25][INFO] jax_fem: Solve took 7.020866632461548 [s]\n",
      "[01-07 16:00:25][DEBUG] jax_fem: max of dofs = 2.1847892219708937e-06\n",
      "[01-07 16:00:25][DEBUG] jax_fem: min of dofs = -2.0312800626565257e-06\n",
      "[01-07 16:00:25][DEBUG] jax_fem: Calling the row elimination solver for imposing Dirichlet B.C.\n",
      "[01-07 16:00:25][DEBUG] jax_fem: Start timing\n",
      "[01-07 16:00:25][DEBUG] jax_fem: Computing cell Jacobian and cell residual...\n",
      "[01-07 16:00:25][DEBUG] jax_fem: Function split_and_compute_cell took 0.0401 seconds\n",
      "[01-07 16:00:25][DEBUG] jax_fem: Creating sparse matrix with scipy...\n",
      "[01-07 16:00:25][DEBUG] jax_fem: Before, res l_2 = 13884.643807267996\n",
      "[01-07 16:00:25][DEBUG] jax_fem: Solving linear system...\n",
      "[01-07 16:00:25][DEBUG] jax_fem: JAX Solver - Solving linear system\n"
     ]
    },
    {
     "name": "stdout",
     "output_type": "stream",
     "text": [
      "max f_plus = 93150233.52394205, max stress_xx = 547900588.6192567\n",
      "\n",
      "Step 491, total step = 500, laser_x = 0.000616, Lx = 0.0005, laser ON = False\n"
     ]
    },
    {
     "name": "stderr",
     "output_type": "stream",
     "text": [
      "[01-07 16:00:26][DEBUG] jax_fem: JAX Solver - Finshed solving, res = 1.429631770750467e-07\n",
      "[01-07 16:00:26][DEBUG] jax_fem: Computing cell Jacobian and cell residual...\n",
      "[01-07 16:00:26][DEBUG] jax_fem: Function split_and_compute_cell took 0.0430 seconds\n",
      "[01-07 16:00:26][DEBUG] jax_fem: Creating sparse matrix with scipy...\n",
      "[01-07 16:00:26][DEBUG] jax_fem: res l_2 = 1.4296317731782422e-07\n",
      "[01-07 16:00:26][INFO] jax_fem: Solve took 0.6481914520263672 [s]\n",
      "[01-07 16:00:26][DEBUG] jax_fem: max of dofs = 724.6639577176294\n",
      "[01-07 16:00:26][DEBUG] jax_fem: min of dofs = 300.0\n",
      "[01-07 16:00:26][DEBUG] jax_fem: Calling the row elimination solver for imposing Dirichlet B.C.\n",
      "[01-07 16:00:26][DEBUG] jax_fem: Start timing\n",
      "[01-07 16:00:26][DEBUG] jax_fem: Computing cell Jacobian and cell residual...\n",
      "[01-07 16:00:26][DEBUG] jax_fem: Function split_and_compute_cell took 0.0414 seconds\n",
      "[01-07 16:00:26][DEBUG] jax_fem: Creating sparse matrix with scipy...\n",
      "[01-07 16:00:26][DEBUG] jax_fem: Before, res l_2 = 13884.64312627142\n",
      "[01-07 16:00:26][DEBUG] jax_fem: Solving linear system...\n",
      "[01-07 16:00:26][DEBUG] jax_fem: JAX Solver - Solving linear system\n"
     ]
    },
    {
     "name": "stdout",
     "output_type": "stream",
     "text": [
      "\n",
      "Step 492, total step = 500, laser_x = 0.0006169999999999999, Lx = 0.0005, laser ON = False\n"
     ]
    },
    {
     "name": "stderr",
     "output_type": "stream",
     "text": [
      "[01-07 16:00:26][DEBUG] jax_fem: JAX Solver - Finshed solving, res = 1.4061758576769246e-07\n",
      "[01-07 16:00:26][DEBUG] jax_fem: Computing cell Jacobian and cell residual...\n",
      "[01-07 16:00:26][DEBUG] jax_fem: Function split_and_compute_cell took 0.0459 seconds\n",
      "[01-07 16:00:27][DEBUG] jax_fem: Creating sparse matrix with scipy...\n",
      "[01-07 16:00:27][DEBUG] jax_fem: res l_2 = 1.4061758543902101e-07\n",
      "[01-07 16:00:27][INFO] jax_fem: Solve took 0.7613503932952881 [s]\n",
      "[01-07 16:00:27][DEBUG] jax_fem: max of dofs = 719.7837165951236\n",
      "[01-07 16:00:27][DEBUG] jax_fem: min of dofs = 300.0\n",
      "[01-07 16:00:27][DEBUG] jax_fem: Calling the row elimination solver for imposing Dirichlet B.C.\n",
      "[01-07 16:00:27][DEBUG] jax_fem: Start timing\n",
      "[01-07 16:00:27][DEBUG] jax_fem: Computing cell Jacobian and cell residual...\n",
      "[01-07 16:00:27][DEBUG] jax_fem: Function split_and_compute_cell took 0.0333 seconds\n",
      "[01-07 16:00:27][DEBUG] jax_fem: Creating sparse matrix with scipy...\n",
      "[01-07 16:00:27][DEBUG] jax_fem: Before, res l_2 = 13884.642454543113\n",
      "[01-07 16:00:27][DEBUG] jax_fem: Solving linear system...\n",
      "[01-07 16:00:27][DEBUG] jax_fem: JAX Solver - Solving linear system\n"
     ]
    },
    {
     "name": "stdout",
     "output_type": "stream",
     "text": [
      "\n",
      "Step 493, total step = 500, laser_x = 0.000618, Lx = 0.0005, laser ON = False\n"
     ]
    },
    {
     "name": "stderr",
     "output_type": "stream",
     "text": [
      "[01-07 16:00:27][DEBUG] jax_fem: JAX Solver - Finshed solving, res = 1.383354958421041e-07\n",
      "[01-07 16:00:27][DEBUG] jax_fem: Computing cell Jacobian and cell residual...\n",
      "[01-07 16:00:27][DEBUG] jax_fem: Function split_and_compute_cell took 0.0401 seconds\n",
      "[01-07 16:00:27][DEBUG] jax_fem: Creating sparse matrix with scipy...\n",
      "[01-07 16:00:27][DEBUG] jax_fem: res l_2 = 1.3833549576846135e-07\n",
      "[01-07 16:00:27][INFO] jax_fem: Solve took 0.5914723873138428 [s]\n",
      "[01-07 16:00:27][DEBUG] jax_fem: max of dofs = 714.9629519483201\n",
      "[01-07 16:00:27][DEBUG] jax_fem: min of dofs = 300.0\n",
      "[01-07 16:00:27][DEBUG] jax_fem: Calling the row elimination solver for imposing Dirichlet B.C.\n",
      "[01-07 16:00:27][DEBUG] jax_fem: Start timing\n",
      "[01-07 16:00:27][DEBUG] jax_fem: Computing cell Jacobian and cell residual...\n",
      "[01-07 16:00:27][DEBUG] jax_fem: Function split_and_compute_cell took 0.0313 seconds\n",
      "[01-07 16:00:27][DEBUG] jax_fem: Creating sparse matrix with scipy...\n",
      "[01-07 16:00:27][DEBUG] jax_fem: Before, res l_2 = 13884.641791936347\n",
      "[01-07 16:00:27][DEBUG] jax_fem: Solving linear system...\n",
      "[01-07 16:00:27][DEBUG] jax_fem: JAX Solver - Solving linear system\n"
     ]
    },
    {
     "name": "stdout",
     "output_type": "stream",
     "text": [
      "\n",
      "Step 494, total step = 500, laser_x = 0.000619, Lx = 0.0005, laser ON = False\n"
     ]
    },
    {
     "name": "stderr",
     "output_type": "stream",
     "text": [
      "[01-07 16:00:28][DEBUG] jax_fem: JAX Solver - Finshed solving, res = 1.3611531547996288e-07\n",
      "[01-07 16:00:28][DEBUG] jax_fem: Computing cell Jacobian and cell residual...\n",
      "[01-07 16:00:28][DEBUG] jax_fem: Function split_and_compute_cell took 0.0586 seconds\n",
      "[01-07 16:00:28][DEBUG] jax_fem: Creating sparse matrix with scipy...\n",
      "[01-07 16:00:28][DEBUG] jax_fem: res l_2 = 1.3611531570475627e-07\n",
      "[01-07 16:00:28][INFO] jax_fem: Solve took 0.602210283279419 [s]\n",
      "[01-07 16:00:28][DEBUG] jax_fem: max of dofs = 710.2008880245679\n",
      "[01-07 16:00:28][DEBUG] jax_fem: min of dofs = 300.0\n",
      "[01-07 16:00:28][DEBUG] jax_fem: Calling the row elimination solver for imposing Dirichlet B.C.\n",
      "[01-07 16:00:28][DEBUG] jax_fem: Start timing\n",
      "[01-07 16:00:28][DEBUG] jax_fem: Computing cell Jacobian and cell residual...\n",
      "[01-07 16:00:28][DEBUG] jax_fem: Function split_and_compute_cell took 0.0635 seconds\n",
      "[01-07 16:00:28][DEBUG] jax_fem: Creating sparse matrix with scipy...\n",
      "[01-07 16:00:28][DEBUG] jax_fem: Before, res l_2 = 13884.64113830704\n",
      "[01-07 16:00:28][DEBUG] jax_fem: Solving linear system...\n",
      "[01-07 16:00:28][DEBUG] jax_fem: JAX Solver - Solving linear system\n"
     ]
    },
    {
     "name": "stdout",
     "output_type": "stream",
     "text": [
      "\n",
      "Step 495, total step = 500, laser_x = 0.00062, Lx = 0.0005, laser ON = False\n"
     ]
    },
    {
     "name": "stderr",
     "output_type": "stream",
     "text": [
      "[01-07 16:00:28][DEBUG] jax_fem: JAX Solver - Finshed solving, res = 1.3395547010978439e-07\n",
      "[01-07 16:00:28][DEBUG] jax_fem: Computing cell Jacobian and cell residual...\n",
      "[01-07 16:00:28][DEBUG] jax_fem: Function split_and_compute_cell took 0.0337 seconds\n",
      "[01-07 16:00:28][DEBUG] jax_fem: Creating sparse matrix with scipy...\n",
      "[01-07 16:00:28][DEBUG] jax_fem: res l_2 = 1.3395547007301614e-07\n",
      "[01-07 16:00:28][INFO] jax_fem: Solve took 0.6148271560668945 [s]\n",
      "[01-07 16:00:28][DEBUG] jax_fem: max of dofs = 705.4967599628166\n",
      "[01-07 16:00:28][DEBUG] jax_fem: min of dofs = 300.0\n",
      "[01-07 16:00:28][DEBUG] jax_fem: Calling the row elimination solver for imposing Dirichlet B.C.\n",
      "[01-07 16:00:28][DEBUG] jax_fem: Start timing\n",
      "[01-07 16:00:28][DEBUG] jax_fem: Computing cell Jacobian and cell residual...\n",
      "[01-07 16:00:28][DEBUG] jax_fem: Function split_and_compute_cell took 0.0275 seconds\n",
      "[01-07 16:00:28][DEBUG] jax_fem: Creating sparse matrix with scipy...\n",
      "[01-07 16:00:29][DEBUG] jax_fem: Before, res l_2 = 13884.640493513733\n",
      "[01-07 16:00:29][DEBUG] jax_fem: Solving linear system...\n",
      "[01-07 16:00:29][DEBUG] jax_fem: JAX Solver - Solving linear system\n"
     ]
    },
    {
     "name": "stdout",
     "output_type": "stream",
     "text": [
      "\n",
      "Step 496, total step = 500, laser_x = 0.000621, Lx = 0.0005, laser ON = False\n"
     ]
    },
    {
     "name": "stderr",
     "output_type": "stream",
     "text": [
      "[01-07 16:00:29][DEBUG] jax_fem: JAX Solver - Finshed solving, res = 1.3185440603293944e-07\n",
      "[01-07 16:00:29][DEBUG] jax_fem: Computing cell Jacobian and cell residual...\n",
      "[01-07 16:00:29][DEBUG] jax_fem: Function split_and_compute_cell took 0.0353 seconds\n",
      "[01-07 16:00:29][DEBUG] jax_fem: Creating sparse matrix with scipy...\n",
      "[01-07 16:00:29][DEBUG] jax_fem: res l_2 = 1.3185440629394804e-07\n",
      "[01-07 16:00:29][INFO] jax_fem: Solve took 0.5492095947265625 [s]\n",
      "[01-07 16:00:29][DEBUG] jax_fem: max of dofs = 700.8498136284778\n",
      "[01-07 16:00:29][DEBUG] jax_fem: min of dofs = 300.0\n",
      "[01-07 16:00:29][DEBUG] jax_fem: Calling the row elimination solver for imposing Dirichlet B.C.\n",
      "[01-07 16:00:29][DEBUG] jax_fem: Start timing\n",
      "[01-07 16:00:29][DEBUG] jax_fem: Computing cell Jacobian and cell residual...\n",
      "[01-07 16:00:29][DEBUG] jax_fem: Function split_and_compute_cell took 0.0814 seconds\n",
      "[01-07 16:00:29][DEBUG] jax_fem: Creating sparse matrix with scipy...\n",
      "[01-07 16:00:29][DEBUG] jax_fem: Before, res l_2 = 13884.639857417502\n",
      "[01-07 16:00:29][DEBUG] jax_fem: Solving linear system...\n",
      "[01-07 16:00:29][DEBUG] jax_fem: JAX Solver - Solving linear system\n"
     ]
    },
    {
     "name": "stdout",
     "output_type": "stream",
     "text": [
      "\n",
      "Step 497, total step = 500, laser_x = 0.0006219999999999999, Lx = 0.0005, laser ON = False\n"
     ]
    },
    {
     "name": "stderr",
     "output_type": "stream",
     "text": [
      "[01-07 16:00:30][DEBUG] jax_fem: JAX Solver - Finshed solving, res = 1.2981058568743865e-07\n",
      "[01-07 16:00:30][DEBUG] jax_fem: Computing cell Jacobian and cell residual...\n",
      "[01-07 16:00:30][DEBUG] jax_fem: Function split_and_compute_cell took 0.0423 seconds\n",
      "[01-07 16:00:30][DEBUG] jax_fem: Creating sparse matrix with scipy...\n",
      "[01-07 16:00:30][DEBUG] jax_fem: res l_2 = 1.2981058674901933e-07\n",
      "[01-07 16:00:30][INFO] jax_fem: Solve took 0.688523530960083 [s]\n",
      "[01-07 16:00:30][DEBUG] jax_fem: max of dofs = 696.2593054510007\n",
      "[01-07 16:00:30][DEBUG] jax_fem: min of dofs = 300.0\n",
      "[01-07 16:00:30][DEBUG] jax_fem: Calling the row elimination solver for imposing Dirichlet B.C.\n",
      "[01-07 16:00:30][DEBUG] jax_fem: Start timing\n",
      "[01-07 16:00:30][DEBUG] jax_fem: Computing cell Jacobian and cell residual...\n",
      "[01-07 16:00:30][DEBUG] jax_fem: Function split_and_compute_cell took 0.0428 seconds\n",
      "[01-07 16:00:30][DEBUG] jax_fem: Creating sparse matrix with scipy...\n",
      "[01-07 16:00:30][DEBUG] jax_fem: Before, res l_2 = 13884.63922988193\n",
      "[01-07 16:00:30][DEBUG] jax_fem: Solving linear system...\n",
      "[01-07 16:00:30][DEBUG] jax_fem: JAX Solver - Solving linear system\n"
     ]
    },
    {
     "name": "stdout",
     "output_type": "stream",
     "text": [
      "\n",
      "Step 498, total step = 500, laser_x = 0.000623, Lx = 0.0005, laser ON = False\n"
     ]
    },
    {
     "name": "stderr",
     "output_type": "stream",
     "text": [
      "[01-07 16:00:30][DEBUG] jax_fem: JAX Solver - Finshed solving, res = 1.2782249226214519e-07\n",
      "[01-07 16:00:30][DEBUG] jax_fem: Computing cell Jacobian and cell residual...\n",
      "[01-07 16:00:30][DEBUG] jax_fem: Function split_and_compute_cell took 0.0414 seconds\n",
      "[01-07 16:00:30][DEBUG] jax_fem: Creating sparse matrix with scipy...\n",
      "[01-07 16:00:30][DEBUG] jax_fem: res l_2 = 1.2782249254687407e-07\n",
      "[01-07 16:00:30][INFO] jax_fem: Solve took 0.6318004131317139 [s]\n",
      "[01-07 16:00:30][DEBUG] jax_fem: max of dofs = 691.7245022641083\n",
      "[01-07 16:00:30][DEBUG] jax_fem: min of dofs = 300.0\n",
      "[01-07 16:00:30][DEBUG] jax_fem: Calling the row elimination solver for imposing Dirichlet B.C.\n",
      "[01-07 16:00:30][DEBUG] jax_fem: Start timing\n",
      "[01-07 16:00:30][DEBUG] jax_fem: Computing cell Jacobian and cell residual...\n",
      "[01-07 16:00:30][DEBUG] jax_fem: Function split_and_compute_cell took 0.0309 seconds\n",
      "[01-07 16:00:30][DEBUG] jax_fem: Creating sparse matrix with scipy...\n",
      "[01-07 16:00:30][DEBUG] jax_fem: Before, res l_2 = 13884.638610773054\n",
      "[01-07 16:00:30][DEBUG] jax_fem: Solving linear system...\n",
      "[01-07 16:00:30][DEBUG] jax_fem: JAX Solver - Solving linear system\n"
     ]
    },
    {
     "name": "stdout",
     "output_type": "stream",
     "text": [
      "\n",
      "Step 499, total step = 500, laser_x = 0.000624, Lx = 0.0005, laser ON = False\n"
     ]
    },
    {
     "name": "stderr",
     "output_type": "stream",
     "text": [
      "[01-07 16:00:31][DEBUG] jax_fem: JAX Solver - Finshed solving, res = 1.2588862532396248e-07\n",
      "[01-07 16:00:31][DEBUG] jax_fem: Computing cell Jacobian and cell residual...\n",
      "[01-07 16:00:31][DEBUG] jax_fem: Function split_and_compute_cell took 0.0480 seconds\n",
      "[01-07 16:00:31][DEBUG] jax_fem: Creating sparse matrix with scipy...\n",
      "[01-07 16:00:31][DEBUG] jax_fem: res l_2 = 1.2588862518717386e-07\n",
      "[01-07 16:00:31][INFO] jax_fem: Solve took 0.684962272644043 [s]\n",
      "[01-07 16:00:31][DEBUG] jax_fem: max of dofs = 687.2446811486556\n",
      "[01-07 16:00:31][DEBUG] jax_fem: min of dofs = 300.0\n",
      "[01-07 16:00:31][DEBUG] jax_fem: Calling the row elimination solver for imposing Dirichlet B.C.\n",
      "[01-07 16:00:31][DEBUG] jax_fem: Start timing\n",
      "[01-07 16:00:31][DEBUG] jax_fem: Computing cell Jacobian and cell residual...\n",
      "[01-07 16:00:31][DEBUG] jax_fem: Function split_and_compute_cell took 0.0481 seconds\n",
      "[01-07 16:00:31][DEBUG] jax_fem: Creating sparse matrix with scipy...\n",
      "[01-07 16:00:31][DEBUG] jax_fem: Before, res l_2 = 13884.637999959306\n",
      "[01-07 16:00:31][DEBUG] jax_fem: Solving linear system...\n",
      "[01-07 16:00:31][DEBUG] jax_fem: JAX Solver - Solving linear system\n"
     ]
    },
    {
     "name": "stdout",
     "output_type": "stream",
     "text": [
      "\n",
      "Step 500, total step = 500, laser_x = 0.000625, Lx = 0.0005, laser ON = False\n"
     ]
    },
    {
     "name": "stderr",
     "output_type": "stream",
     "text": [
      "[01-07 16:00:32][DEBUG] jax_fem: JAX Solver - Finshed solving, res = 1.2400750315939885e-07\n",
      "[01-07 16:00:32][DEBUG] jax_fem: Computing cell Jacobian and cell residual...\n",
      "[01-07 16:00:32][DEBUG] jax_fem: Function split_and_compute_cell took 0.0525 seconds\n",
      "[01-07 16:00:32][DEBUG] jax_fem: Creating sparse matrix with scipy...\n",
      "[01-07 16:00:32][DEBUG] jax_fem: res l_2 = 1.2400750328968906e-07\n",
      "[01-07 16:00:32][INFO] jax_fem: Solve took 0.7030584812164307 [s]\n",
      "[01-07 16:00:32][DEBUG] jax_fem: max of dofs = 682.8191292780477\n",
      "[01-07 16:00:32][DEBUG] jax_fem: min of dofs = 300.0\n",
      "[01-07 16:00:32][DEBUG] jax_fem: Calling the row elimination solver for imposing Dirichlet B.C.\n",
      "[01-07 16:00:32][DEBUG] jax_fem: Start timing\n",
      "[01-07 16:00:32][DEBUG] jax_fem: Computing cell Jacobian and cell residual...\n",
      "[01-07 16:00:32][DEBUG] jax_fem: Function split_and_compute_cell took 0.2800 seconds\n",
      "[01-07 16:00:32][DEBUG] jax_fem: Creating sparse matrix with scipy...\n",
      "[01-07 16:00:32][DEBUG] jax_fem: Before, res l_2 = 0.10743054616115161\n",
      "[01-07 16:00:32][DEBUG] jax_fem: Solving linear system...\n",
      "[01-07 16:00:32][DEBUG] jax_fem: JAX Solver - Solving linear system\n",
      "[01-07 16:00:34][DEBUG] jax_fem: JAX Solver - Finshed solving, res = 1.962030971421303e-11\n",
      "[01-07 16:00:34][DEBUG] jax_fem: Computing cell Jacobian and cell residual...\n",
      "[01-07 16:00:34][DEBUG] jax_fem: Function split_and_compute_cell took 0.2829 seconds\n",
      "[01-07 16:00:34][DEBUG] jax_fem: Creating sparse matrix with scipy...\n",
      "[01-07 16:00:34][DEBUG] jax_fem: res l_2 = 0.008444650225612785\n",
      "[01-07 16:00:34][DEBUG] jax_fem: Solving linear system...\n",
      "[01-07 16:00:34][DEBUG] jax_fem: JAX Solver - Solving linear system\n",
      "[01-07 16:00:36][DEBUG] jax_fem: JAX Solver - Finshed solving, res = 9.649439717134273e-11\n",
      "[01-07 16:00:36][DEBUG] jax_fem: Computing cell Jacobian and cell residual...\n",
      "[01-07 16:00:36][DEBUG] jax_fem: Function split_and_compute_cell took 0.2823 seconds\n",
      "[01-07 16:00:36][DEBUG] jax_fem: Creating sparse matrix with scipy...\n",
      "[01-07 16:00:37][DEBUG] jax_fem: res l_2 = 0.00024418005275519337\n",
      "[01-07 16:00:37][DEBUG] jax_fem: Solving linear system...\n",
      "[01-07 16:00:37][DEBUG] jax_fem: JAX Solver - Solving linear system\n",
      "[01-07 16:00:38][DEBUG] jax_fem: JAX Solver - Finshed solving, res = 9.85904057904462e-11\n",
      "[01-07 16:00:38][DEBUG] jax_fem: Computing cell Jacobian and cell residual...\n",
      "[01-07 16:00:38][DEBUG] jax_fem: Function split_and_compute_cell took 0.2604 seconds\n",
      "[01-07 16:00:38][DEBUG] jax_fem: Creating sparse matrix with scipy...\n",
      "[01-07 16:00:39][DEBUG] jax_fem: res l_2 = 1.1999457336593165e-07\n",
      "[01-07 16:00:39][INFO] jax_fem: Solve took 6.877811431884766 [s]\n",
      "[01-07 16:00:39][DEBUG] jax_fem: max of dofs = 2.1955418086884866e-06\n",
      "[01-07 16:00:39][DEBUG] jax_fem: min of dofs = -2.0531632134078866e-06\n"
     ]
    },
    {
     "name": "stdout",
     "output_type": "stream",
     "text": [
      "max f_plus = 80399769.79057193, max stress_xx = 550590894.5738548\n"
     ]
    }
   ],
   "source": [
    "\n",
    "# Start the major loop of time iteration.\n",
    "dt = 2 * 1e-6  # time increment\n",
    "laser_on_t = 0.5 * Lx / vel  # time duration for scanning over half the length\n",
    "simulation_t = 2 * laser_on_t  # total simulation time -> enforce complete cooling\n",
    "ts = np.arange(0., simulation_t, dt)  # time steps\n",
    "\n",
    "for i in range(len(ts[1:])):\n",
    "    laser_center = np.array([Lx * 0.25 + vel * ts[i + 1], Ly / 2., Lz])  # laser center in the middle of the powder\n",
    "    switch = np.where(ts[i + 1] < laser_on_t, 1., 0.) # Turn off the laser after some time\n",
    "    print(f\"\\nStep {i + 1}, total step = {len(ts[1:])}, laser_x = {laser_center[0]}, Lx = {Lx}, laser ON = {ts[i + 1] < laser_on_t}\")\n",
    "\n",
    "    # Set parameter and solve for T\n",
    "    problem_T.set_params([sol_T_old, laser_center, switch])\n",
    "    sol_T_new_list = solver(problem_T)\n",
    "    sol_T_new = sol_T_new_list[0]\n",
    "\n",
    "    # Since mechanics problem is more expensive to solve, we may skip some steps of the thermal problem.\n",
    "    if (i + 1) % 10 == 0:\n",
    "        params_u = problem_u.update_dT_and_phase(sol_T_new - sol_T_old_for_u, sol_T_new, params_u)\n",
    "\n",
    "        # Set parameter and solve for u\n",
    "        problem_u.set_params(params_u)\n",
    "        sol_u_list = solver(problem_u, solver_options={'initial_guess': sol_u_list})\n",
    "\n",
    "        params_u, plastic_info = problem_u.update_stress_strain(sol_u_list[0], params_u) \n",
    "\n",
    "        # Check if plastic deformation occurs (with f_yield_vals > 0.)\n",
    "        print(f\"max f_plus = {np.max(plastic_info[0])}, max stress_xx = {np.max(plastic_info[1])}\")\n",
    "\n",
    "        # Update T solution for u\n",
    "        sol_T_old_for_u = sol_T_new\n",
    "        vtk_path = os.path.join(vtk_dir, f\"u_{i + 1:05d}.vtu\")\n",
    "        save_sol(problem_T.fes[0], sol_T_old, vtk_path, point_infos=[('u', sol_u_list[0])], \n",
    "                                                        cell_infos=[('f_plus', np.mean(plastic_info[0], axis=1)),\n",
    "                                                                    ('stress_xx', np.mean(plastic_info[1], axis=1)),\n",
    "                                                                    ('phase', np.max(params_u[-1][:, :, 0], axis=1))])\n",
    "    # Update T solution\n",
    "    sol_T_old = sol_T_new"
   ]
  },
  {
   "cell_type": "code",
   "execution_count": null,
   "metadata": {},
   "outputs": [],
   "source": []
  }
 ],
 "metadata": {
  "kernelspec": {
   "display_name": "jax_fem_learning",
   "language": "python",
   "name": "python3"
  },
  "language_info": {
   "codemirror_mode": {
    "name": "ipython",
    "version": 3
   },
   "file_extension": ".py",
   "mimetype": "text/x-python",
   "name": "python",
   "nbconvert_exporter": "python",
   "pygments_lexer": "ipython3",
   "version": "3.9.18"
  }
 },
 "nbformat": 4,
 "nbformat_minor": 2
}
