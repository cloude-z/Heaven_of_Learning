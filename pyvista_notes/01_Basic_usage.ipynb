{
 "cells": [
  {
   "cell_type": "code",
   "execution_count": 39,
   "metadata": {},
   "outputs": [],
   "source": [
    "import numpy as np\n",
    "import pyvista as pv\n",
    "from pyvista import examples\n",
    "\n",
    "# Set the default theme\n",
    "pv.set_plot_theme(\"document\")"
   ]
  },
  {
   "cell_type": "markdown",
   "metadata": {},
   "source": [
    "# Create and display basic geometries"
   ]
  },
  {
   "cell_type": "code",
   "execution_count": 2,
   "metadata": {},
   "outputs": [
    {
     "data": {
      "application/vnd.jupyter.widget-view+json": {
       "model_id": "2d7bab3393e84aedae80be77e4eccfb9",
       "version_major": 2,
       "version_minor": 0
      },
      "text/plain": [
       "Widget(value='<iframe src=\"http://localhost:52833/index.html?ui=P_0x221123c0830_0&reconnect=auto\" class=\"pyvis…"
      ]
     },
     "metadata": {},
     "output_type": "display_data"
    }
   ],
   "source": [
    "# Create simple geometries\n",
    "cylinder = pv.Cylinder()\n",
    "sphere = pv.Sphere()\n",
    "plane = pv.Plane()\n",
    "\n",
    "# Create a plotter and add meshes\n",
    "plotter = pv.Plotter(shape=(1, 3))\n",
    "plotter.subplot(0, 0)\n",
    "plotter.add_mesh(cylinder, color=\"tan\", show_edges=True)\n",
    "plotter.subplot(0, 1)\n",
    "plotter.add_mesh(sphere, color=\"blue\", show_edges=True)\n",
    "plotter.subplot(0, 2)\n",
    "plotter.add_mesh(plane, color=\"white\", show_edges=True)\n",
    "\n",
    "# Render the plotter\n",
    "plotter.show()\n",
    "\n",
    "# Export to a HTML file\n",
    "plotter.export_html(\"simple_geometries.html\")"
   ]
  },
  {
   "cell_type": "code",
   "execution_count": 17,
   "metadata": {},
   "outputs": [
    {
     "data": {
      "application/vnd.jupyter.widget-view+json": {
       "model_id": "89463cf5064447be8b0239ca6ff1511d",
       "version_major": 2,
       "version_minor": 0
      },
      "text/plain": [
       "Widget(value='<iframe src=\"http://localhost:52833/index.html?ui=P_0x2212eff6850_9&reconnect=auto\" class=\"pyvis…"
      ]
     },
     "metadata": {},
     "output_type": "display_data"
    }
   ],
   "source": [
    "# Display directly\n",
    "sphere = pv.Sphere()\n",
    "sphere.plot(show_edges=True)"
   ]
  },
  {
   "cell_type": "code",
   "execution_count": 56,
   "metadata": {},
   "outputs": [
    {
     "data": {
      "text/html": [
       "<table style='width: 100%;'><tr><th>Header</th><th>Data Arrays</th></tr><tr><td>\n",
       "<table style='width: 100%;'>\n",
       "<tr><th>UnstructuredGrid</th><th>Information</th></tr>\n",
       "<tr><td>N Cells</td><td>1024</td></tr>\n",
       "<tr><td>N Points</td><td>1089</td></tr>\n",
       "<tr><td>X Bounds</td><td>0.000e+00, 1.000e+00</td></tr>\n",
       "<tr><td>Y Bounds</td><td>0.000e+00, 1.000e+00</td></tr>\n",
       "<tr><td>Z Bounds</td><td>0.000e+00, 0.000e+00</td></tr>\n",
       "<tr><td>N Arrays</td><td>1</td></tr>\n",
       "</table>\n",
       "\n",
       "</td><td>\n",
       "<table style='width: 100%;'>\n",
       "<tr><th>Name</th><th>Field</th><th>Type</th><th>N Comp</th><th>Min</th><th>Max</th></tr>\n",
       "<tr><td>sol</td><td>Points</td><td>float32</td><td>1</td><td>0.000e+00</td><td>1.630e-01</td></tr>\n",
       "</table>\n",
       "\n",
       "</td></tr> </table>"
      ],
      "text/plain": [
       "UnstructuredGrid (0x22186a43700)\n",
       "  N Cells:    1024\n",
       "  N Points:   1089\n",
       "  X Bounds:   0.000e+00, 1.000e+00\n",
       "  Y Bounds:   0.000e+00, 1.000e+00\n",
       "  Z Bounds:   0.000e+00, 0.000e+00\n",
       "  N Arrays:   1"
      ]
     },
     "execution_count": 56,
     "metadata": {},
     "output_type": "execute_result"
    }
   ],
   "source": [
    "dataset = pv.read(\"poisson.vtu\")\n",
    "dataset"
   ]
  },
  {
   "cell_type": "code",
   "execution_count": 59,
   "metadata": {},
   "outputs": [
    {
     "data": {
      "application/vnd.jupyter.widget-view+json": {
       "model_id": "0c806c7dbe6d4df69580f7e73e9bcb1f",
       "version_major": 2,
       "version_minor": 0
      },
      "text/plain": [
       "Widget(value='<iframe src=\"http://localhost:52833/index.html?ui=P_0x221af66e850_25&reconnect=auto\" class=\"pyvi…"
      ]
     },
     "metadata": {},
     "output_type": "display_data"
    }
   ],
   "source": [
    "dataset.plot(scalars=\"sol\")"
   ]
  },
  {
   "cell_type": "markdown",
   "metadata": {},
   "source": [
    "# Mesh, point, cell, and attribute"
   ]
  },
  {
   "cell_type": "markdown",
   "metadata": {},
   "source": [
    "- Mesh: Any spatially referenced information or dataset\n",
    "- Point: Vertices and coordinates of the mesh\n",
    "- Cell: Geometry between points that defines the connectivity or topology of a mesh\n",
    "- Attribute: Data arrays that hold the data for all points, cells, or field of a mesh"
   ]
  },
  {
   "cell_type": "code",
   "execution_count": 40,
   "metadata": {},
   "outputs": [
    {
     "data": {
      "application/vnd.jupyter.widget-view+json": {
       "model_id": "42ec0268b27d4ff3981baeea078889c1",
       "version_major": 2,
       "version_minor": 0
      },
      "text/plain": [
       "Widget(value='<iframe src=\"http://localhost:52833/index.html?ui=P_0x2211dcda350_15&reconnect=auto\" class=\"pyvi…"
      ]
     },
     "metadata": {},
     "output_type": "display_data"
    }
   ],
   "source": [
    "mesh = examples.load_hexbeam()\n",
    "pl = pv.Plotter()\n",
    "\n",
    "# Add the mesh to the plotter\n",
    "pl.add_mesh(mesh, show_edges=True, color=\"white\")\n",
    "\n",
    "# Add the points to the plotter\n",
    "pl.add_points(mesh.points, color=\"red\", point_size=10)\n",
    "\n",
    "# Add one cell to the plotter and highlight it\n",
    "cell = mesh.extract_cells(mesh.n_cells - 1)\n",
    "pl.add_mesh(cell, color=\"pink\", edge_color=\"blue\", line_width=5, show_edges=True)\n",
    "\n",
    "# Configure the camera\n",
    "cpos = [(6.20, 3.00, 7.50),\n",
    "        (0.16, 0.13, 2.65),\n",
    "        (-0.28, 0.94, -0.21)]\n",
    "pl.camera_position = cpos\n",
    "\n",
    "# Show the plot\n",
    "pl.show()"
   ]
  },
  {
   "cell_type": "code",
   "execution_count": 43,
   "metadata": {},
   "outputs": [
    {
     "data": {
      "application/vnd.jupyter.widget-view+json": {
       "model_id": "67fd263d158349d59bd4339b062f61f5",
       "version_major": 2,
       "version_minor": 0
      },
      "text/plain": [
       "Widget(value='<iframe src=\"http://localhost:52833/index.html?ui=P_0x2212b20bb10_17&reconnect=auto\" class=\"pyvi…"
      ]
     },
     "metadata": {},
     "output_type": "display_data"
    }
   ],
   "source": [
    "# Assign point data to the mesh\n",
    "mesh.point_data[\"point_scalars\"] = np.arange(mesh.n_points, dtype=float)\n",
    "mesh.plot(scalars=\"point_scalars\", cpos=cpos, show_edges=True)"
   ]
  },
  {
   "cell_type": "code",
   "execution_count": 48,
   "metadata": {},
   "outputs": [
    {
     "data": {
      "application/vnd.jupyter.widget-view+json": {
       "model_id": "04a71afd4a86410382a6240bd02ffcb6",
       "version_major": 2,
       "version_minor": 0
      },
      "text/plain": [
       "Widget(value='<iframe src=\"http://localhost:52833/index.html?ui=P_0x221675fa350_19&reconnect=auto\" class=\"pyvi…"
      ]
     },
     "metadata": {},
     "output_type": "display_data"
    }
   ],
   "source": [
    "# Assign cell data to the mesh\n",
    "mesh.cell_data[\"cell_scalars\"] = np.arange(mesh.n_cells, dtype=float)\n",
    "mesh.plot(scalars=\"cell_scalars\", cpos=cpos, show_edges=True)"
   ]
  },
  {
   "cell_type": "code",
   "execution_count": null,
   "metadata": {},
   "outputs": [],
   "source": []
  }
 ],
 "metadata": {
  "kernelspec": {
   "display_name": "am_dev_env",
   "language": "python",
   "name": "python3"
  },
  "language_info": {
   "codemirror_mode": {
    "name": "ipython",
    "version": 3
   },
   "file_extension": ".py",
   "mimetype": "text/x-python",
   "name": "python",
   "nbconvert_exporter": "python",
   "pygments_lexer": "ipython3",
   "version": "3.13.1"
  }
 },
 "nbformat": 4,
 "nbformat_minor": 2
}
